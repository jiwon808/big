{
 "cells": [
  {
   "cell_type": "markdown",
   "metadata": {},
   "source": [
    "# ch03. 데이터 구조"
   ]
  },
  {
   "cell_type": "markdown",
   "metadata": {
    "ExecuteTime": {
     "end_time": "2021-02-22T07:15:17.963923Z",
     "start_time": "2021-02-22T07:15:17.960930Z"
    }
   },
   "source": [
    "## 1절 리스트\n"
   ]
  },
  {
   "cell_type": "markdown",
   "metadata": {
    "ExecuteTime": {
     "end_time": "2021-02-22T07:17:11.689456Z",
     "start_time": "2021-02-22T07:17:11.687476Z"
    }
   },
   "source": [
    "## 1.1 리스트 만들기\n",
    "\n",
    "- []를 이용해서 만들며, 여러개 값을 하나의 변수에 저장/관리 할 수 있음. list() 함수 이용도 가능 \n",
    "- index: 각 요소의 위치. 인덱스는 0부터 시작. 맨 마지막 index는 -1\n",
    "- 슬라이싱: 부분 데이터셋을 뽑아 내는 것. index를 이요해서 쓰기와 읽기를 지원 "
   ]
  },
  {
   "cell_type": "code",
   "execution_count": 6,
   "metadata": {
    "ExecuteTime": {
     "end_time": "2021-02-22T07:20:58.987285Z",
     "start_time": "2021-02-22T07:20:58.978309Z"
    }
   },
   "outputs": [
    {
     "data": {
      "text/plain": [
       "list"
      ]
     },
     "execution_count": 6,
     "metadata": {},
     "output_type": "execute_result"
    }
   ],
   "source": [
    "fruits =['banana','apple','orange','grape']\n",
    "type(fruits)"
   ]
  },
  {
   "cell_type": "code",
   "execution_count": 8,
   "metadata": {
    "ExecuteTime": {
     "end_time": "2021-02-22T07:21:11.002899Z",
     "start_time": "2021-02-22T07:21:10.999926Z"
    }
   },
   "outputs": [
    {
     "name": "stdout",
     "output_type": "stream",
     "text": [
      "['banana', 'apple', 'orange', 'grape']\n"
     ]
    }
   ],
   "source": [
    "print(fruits)"
   ]
  },
  {
   "cell_type": "code",
   "execution_count": 9,
   "metadata": {
    "ExecuteTime": {
     "end_time": "2021-02-22T07:21:37.339662Z",
     "start_time": "2021-02-22T07:21:37.335700Z"
    }
   },
   "outputs": [
    {
     "name": "stdout",
     "output_type": "stream",
     "text": [
      "banana\n"
     ]
    }
   ],
   "source": [
    "print(fruits[0])"
   ]
  },
  {
   "cell_type": "code",
   "execution_count": 10,
   "metadata": {
    "ExecuteTime": {
     "end_time": "2021-02-22T07:34:27.454682Z",
     "start_time": "2021-02-22T07:34:27.450681Z"
    }
   },
   "outputs": [
    {
     "name": "stdout",
     "output_type": "stream",
     "text": [
      "banana\n",
      "apple\n",
      "orange\n",
      "grape\n"
     ]
    }
   ],
   "source": [
    "for fruit in fruits : \n",
    "    print(fruit)"
   ]
  },
  {
   "cell_type": "code",
   "execution_count": 12,
   "metadata": {
    "ExecuteTime": {
     "end_time": "2021-02-22T07:36:52.720806Z",
     "start_time": "2021-02-22T07:36:52.715838Z"
    }
   },
   "outputs": [
    {
     "data": {
      "text/plain": [
       "[0, 1, 2, 3, 4, 5]"
      ]
     },
     "execution_count": 12,
     "metadata": {},
     "output_type": "execute_result"
    }
   ],
   "source": [
    "# range(from, to, by); from부터 to 바로 앞까지 by식 증가되면서 만들어진 list \n",
    "   # from생략시 0부터 / by생략시 1씩\n",
    "list(range(6))"
   ]
  },
  {
   "cell_type": "code",
   "execution_count": 13,
   "metadata": {
    "ExecuteTime": {
     "end_time": "2021-02-22T07:38:39.724302Z",
     "start_time": "2021-02-22T07:38:39.718317Z"
    }
   },
   "outputs": [
    {
     "data": {
      "text/plain": [
       "[0, 2, 4, 6, 8]"
      ]
     },
     "execution_count": 13,
     "metadata": {},
     "output_type": "execute_result"
    }
   ],
   "source": [
    "list(range(0,10,2))  #0부터10까지 2씩 증가 "
   ]
  },
  {
   "cell_type": "code",
   "execution_count": 16,
   "metadata": {
    "ExecuteTime": {
     "end_time": "2021-02-22T07:39:28.809160Z",
     "start_time": "2021-02-22T07:39:28.804173Z"
    }
   },
   "outputs": [
    {
     "data": {
      "text/plain": [
       "[10, 8, 6, 4, 2, 0]"
      ]
     },
     "execution_count": 16,
     "metadata": {},
     "output_type": "execute_result"
    }
   ],
   "source": [
    "list(range(10,-1,-2)) #10부터-1까지 2씩 감소  (-1로해야 0이 출력됨)"
   ]
  },
  {
   "cell_type": "code",
   "execution_count": 18,
   "metadata": {
    "ExecuteTime": {
     "end_time": "2021-02-22T07:40:02.506072Z",
     "start_time": "2021-02-22T07:40:02.502104Z"
    }
   },
   "outputs": [
    {
     "name": "stdout",
     "output_type": "stream",
     "text": [
      "0\t1\t2\t3\t4\t"
     ]
    }
   ],
   "source": [
    "for i in range(5):\n",
    "    print(i, end='\\t')"
   ]
  },
  {
   "cell_type": "code",
   "execution_count": 22,
   "metadata": {
    "ExecuteTime": {
     "end_time": "2021-02-22T07:41:33.333359Z",
     "start_time": "2021-02-22T07:41:33.327395Z"
    }
   },
   "outputs": [
    {
     "name": "stdout",
     "output_type": "stream",
     "text": [
      "0번째:banana\n",
      "1번째:apple\n",
      "2번째:orange\n",
      "3번째:grape\n"
     ]
    }
   ],
   "source": [
    "# 0번째: banana... Len(fruits): fruits 요소의 갯수 \n",
    "for idx in range(len(fruits)):\n",
    "    print('{}번째:{}'.format(idx,fruits[idx]))             #####복습#######"
   ]
  },
  {
   "cell_type": "code",
   "execution_count": 26,
   "metadata": {
    "ExecuteTime": {
     "end_time": "2021-02-22T07:42:47.433440Z",
     "start_time": "2021-02-22T07:42:47.430447Z"
    }
   },
   "outputs": [],
   "source": [
    "numbers = [1,2,3,True,'5']"
   ]
  },
  {
   "cell_type": "code",
   "execution_count": 27,
   "metadata": {
    "ExecuteTime": {
     "end_time": "2021-02-22T07:42:49.467786Z",
     "start_time": "2021-02-22T07:42:49.463818Z"
    }
   },
   "outputs": [
    {
     "data": {
      "text/plain": [
       "[1, 2, 3, True, '5']"
      ]
     },
     "execution_count": 27,
     "metadata": {},
     "output_type": "execute_result"
    }
   ],
   "source": [
    "numbers"
   ]
  },
  {
   "cell_type": "code",
   "execution_count": 30,
   "metadata": {
    "ExecuteTime": {
     "end_time": "2021-02-22T07:45:14.176662Z",
     "start_time": "2021-02-22T07:45:14.171675Z"
    }
   },
   "outputs": [
    {
     "name": "stdout",
     "output_type": "stream",
     "text": [
      "[[1, 2, 3, 4, 5], [10, 20, 30, 40, 50], [1, 3, 5, 6, 7, 9], [2, 4, 6, 8, 10]]\n"
     ]
    }
   ],
   "source": [
    "# 2차원 리스트 \n",
    "numbers_2d= [[1,2,3,4,5],[10,20,30,40,50],[1,3,5,6,7,9],[2,4,6,8,10]]\n",
    "print(numbers_2d)"
   ]
  },
  {
   "cell_type": "code",
   "execution_count": 32,
   "metadata": {
    "ExecuteTime": {
     "end_time": "2021-02-22T07:48:18.319205Z",
     "start_time": "2021-02-22T07:48:18.315237Z"
    }
   },
   "outputs": [
    {
     "data": {
      "text/plain": [
       "10"
      ]
     },
     "execution_count": 32,
     "metadata": {},
     "output_type": "execute_result"
    }
   ],
   "source": [
    "numbers_2d[1][0]  #1번째방의 0번째 숫자  1번째방: [10, 20, 30, 40, 50]"
   ]
  },
  {
   "cell_type": "code",
   "execution_count": 53,
   "metadata": {
    "ExecuteTime": {
     "end_time": "2021-02-22T07:56:29.938704Z",
     "start_time": "2021-02-22T07:56:29.933737Z"
    }
   },
   "outputs": [
    {
     "name": "stdout",
     "output_type": "stream",
     "text": [
      "1\t2\t3\t4\t5\t\n",
      "10\t20\t30\t40\t50\t\n",
      "1\t3\t5\t6\t7\t9\t\n",
      "2\t4\t6\t8\t10\t\n"
     ]
    }
   ],
   "source": [
    "for row in numbers_2d:\n",
    "       for data in row :\n",
    "            print(data, end='\\t')\n",
    "       print() #개행                           #############들여쓰기가 맞아야! 아니면 출력이 안됨 \n"
   ]
  },
  {
   "cell_type": "code",
   "execution_count": 56,
   "metadata": {
    "ExecuteTime": {
     "end_time": "2021-02-22T07:57:03.621257Z",
     "start_time": "2021-02-22T07:57:03.616270Z"
    }
   },
   "outputs": [
    {
     "name": "stdout",
     "output_type": "stream",
     "text": [
      "0행0열: 1\t0행1열: 2\t0행2열: 3\t0행3열: 4\t0행4열: 5\t\n",
      "1행0열:10\t1행1열:20\t1행2열:30\t1행3열:40\t1행4열:50\t\n",
      "2행0열: 1\t2행1열: 3\t2행2열: 5\t2행3열: 6\t2행4열: 7\t2행5열: 9\t\n",
      "3행0열: 2\t3행1열: 4\t3행2열: 6\t3행3열: 8\t3행4열:10\t\n"
     ]
    }
   ],
   "source": [
    "for i in range(len(numbers_2d)):  #Len(numbers_2d)=4\n",
    "    for j in range(len(numbers_2d[i])):\n",
    "        print(\"{}행{}열:{:>2}\".format(i,j,numbers_2d[i][j]), end='\\t')\n",
    "    print()"
   ]
  },
  {
   "cell_type": "markdown",
   "metadata": {},
   "source": [
    "# 1.2 기본 정보 조회"
   ]
  },
  {
   "cell_type": "code",
   "execution_count": 8,
   "metadata": {
    "ExecuteTime": {
     "end_time": "2021-02-22T08:04:44.794493Z",
     "start_time": "2021-02-22T08:04:44.790504Z"
    }
   },
   "outputs": [],
   "source": [
    "numbers = [1,2,3,4,5]\n",
    "numbers_2d = [[1000,2,3,4,5],\n",
    "             [10,20,30,40,50],\n",
    "             [1,3,5,7,9],\n",
    "             [2,4,6,8,10]]"
   ]
  },
  {
   "cell_type": "code",
   "execution_count": 9,
   "metadata": {
    "ExecuteTime": {
     "end_time": "2021-02-22T08:04:46.507300Z",
     "start_time": "2021-02-22T08:04:46.503330Z"
    }
   },
   "outputs": [
    {
     "name": "stdout",
     "output_type": "stream",
     "text": [
      "numers의 요소수: 5\n",
      "numbers_2d의 요소수: 4\n"
     ]
    }
   ],
   "source": [
    "#요소 수\n",
    "print('numers의 요소수:',len(numbers))\n",
    "print('numbers_2d의 요소수:',len(numbers_2d))"
   ]
  },
  {
   "cell_type": "code",
   "execution_count": 10,
   "metadata": {
    "ExecuteTime": {
     "end_time": "2021-02-22T08:05:02.628087Z",
     "start_time": "2021-02-22T08:05:02.618136Z"
    }
   },
   "outputs": [
    {
     "data": {
      "text/plain": [
       "(1, 5)"
      ]
     },
     "execution_count": 10,
     "metadata": {},
     "output_type": "execute_result"
    }
   ],
   "source": [
    "# 최소값 min, 최대값 max\n",
    "min(numbers), max(numbers)"
   ]
  },
  {
   "cell_type": "code",
   "execution_count": 12,
   "metadata": {
    "ExecuteTime": {
     "end_time": "2021-02-22T08:06:42.796148Z",
     "start_time": "2021-02-22T08:06:42.792139Z"
    }
   },
   "outputs": [
    {
     "data": {
      "text/plain": [
       "([1, 3, 5, 7, 9], [1000, 2, 3, 4, 5])"
      ]
     },
     "execution_count": 12,
     "metadata": {},
     "output_type": "execute_result"
    }
   ],
   "source": [
    "#2차원 리스트에서는 max()함수는 부분 리스트 중 '첫 요소'가 '가장 큰'   값을 갖는 리스트를 반환 \n",
    "#                   min()함수는 부분 리스트 중 '첫 요소'가 '가장 작은' 값을 갖는 리스트를 반환\n",
    "min(numbers_2d), max(numbers_2d)"
   ]
  },
  {
   "cell_type": "code",
   "execution_count": null,
   "metadata": {},
   "outputs": [],
   "source": [
    "#  요소 추가 "
   ]
  },
  {
   "cell_type": "code",
   "execution_count": null,
   "metadata": {},
   "outputs": [],
   "source": [
    "# + 두 리스트를 연결\n",
    "# * 리스트를 곱한 수 만큼 반복 \n",
    "# append() 요소를 맨뒤에 추가\n",
    "# extend() 리스트를 요소별로 맨 뒤에 추가\n",
    "# insert() 지정된 index 위치에 삽입 "
   ]
  },
  {
   "cell_type": "code",
   "execution_count": 14,
   "metadata": {
    "ExecuteTime": {
     "end_time": "2021-02-22T08:10:19.501980Z",
     "start_time": "2021-02-22T08:10:19.497018Z"
    }
   },
   "outputs": [
    {
     "data": {
      "text/plain": [
       "[1, 2, 3, 4, 5, 1, 2, 3, 4, 5]"
      ]
     },
     "execution_count": 14,
     "metadata": {},
     "output_type": "execute_result"
    }
   ],
   "source": [
    "numbers = [1,2,3,4,5]\n",
    "numbers = numbers + numbers #리스트 연결\n",
    "numbers"
   ]
  },
  {
   "cell_type": "code",
   "execution_count": 15,
   "metadata": {
    "ExecuteTime": {
     "end_time": "2021-02-22T08:10:46.889719Z",
     "start_time": "2021-02-22T08:10:46.883756Z"
    }
   },
   "outputs": [
    {
     "name": "stdout",
     "output_type": "stream",
     "text": [
      "[1, 2, 3, 1, 2, 3, 1, 2, 3]\n"
     ]
    }
   ],
   "source": [
    "numbers =[1,2,3]\n",
    "print(numbers*3) #반복"
   ]
  },
  {
   "cell_type": "code",
   "execution_count": 16,
   "metadata": {
    "ExecuteTime": {
     "end_time": "2021-02-22T08:11:10.930411Z",
     "start_time": "2021-02-22T08:11:10.926421Z"
    }
   },
   "outputs": [
    {
     "name": "stdout",
     "output_type": "stream",
     "text": [
      "ABCABCABC\n"
     ]
    }
   ],
   "source": [
    "print('ABC'*3)"
   ]
  },
  {
   "cell_type": "code",
   "execution_count": 17,
   "metadata": {
    "ExecuteTime": {
     "end_time": "2021-02-22T08:11:57.565086Z",
     "start_time": "2021-02-22T08:11:57.560092Z"
    }
   },
   "outputs": [
    {
     "data": {
      "text/plain": [
       "[1, 2, 3, 4]"
      ]
     },
     "execution_count": 17,
     "metadata": {},
     "output_type": "execute_result"
    }
   ],
   "source": [
    "# append()함수 이용\n",
    "numbers = [1,2,3]\n",
    "numbers.append(4) #요소의 맨 뒤에 추가 \n",
    "numbers"
   ]
  },
  {
   "cell_type": "code",
   "execution_count": 19,
   "metadata": {
    "ExecuteTime": {
     "end_time": "2021-02-22T08:13:29.204123Z",
     "start_time": "2021-02-22T08:13:29.199155Z"
    }
   },
   "outputs": [
    {
     "data": {
      "text/plain": [
       "[1, 2, 3, 4, 5, 6]"
      ]
     },
     "execution_count": 19,
     "metadata": {},
     "output_type": "execute_result"
    }
   ],
   "source": [
    "# extend() \n",
    "numbers =[1,2,3]\n",
    "num     =[4,5,6]\n",
    "numbers.extend(num)   #numbers에서 num을 집어넣어서 확장\n",
    "numbers"
   ]
  },
  {
   "cell_type": "code",
   "execution_count": 20,
   "metadata": {
    "ExecuteTime": {
     "end_time": "2021-02-22T08:14:07.199330Z",
     "start_time": "2021-02-22T08:14:07.194344Z"
    }
   },
   "outputs": [
    {
     "data": {
      "text/plain": [
       "[1, 2, 3, 4, 5, 6, 'H', 'e', 'l', 'l', 'o']"
      ]
     },
     "execution_count": 20,
     "metadata": {},
     "output_type": "execute_result"
    }
   ],
   "source": [
    "numbers.extend('Hello') #numbers에서 Hello를 집어넣어서 확장 \n",
    "numbers"
   ]
  },
  {
   "cell_type": "code",
   "execution_count": 21,
   "metadata": {
    "ExecuteTime": {
     "end_time": "2021-02-22T08:16:04.834038Z",
     "start_time": "2021-02-22T08:16:04.829076Z"
    }
   },
   "outputs": [
    {
     "data": {
      "text/plain": [
       "[1, 'xx', 2, 3, 4, 5]"
      ]
     },
     "execution_count": 21,
     "metadata": {},
     "output_type": "execute_result"
    }
   ],
   "source": [
    "# insert(idx, 추가할 내용): idx번째 인덱스에 추가할 내용 삽입 \n",
    "numbers = [1,2,3,4,5]\n",
    "numbers.insert(1,'xx')\n",
    "numbers"
   ]
  },
  {
   "cell_type": "markdown",
   "metadata": {},
   "source": [
    "## 1.4 인덱싱"
   ]
  },
  {
   "cell_type": "markdown",
   "metadata": {},
   "source": [
    "- count(); 리스트에서 데이터의 갯수 반환 \n",
    "- index(); 해당 요소의 위치 반환\n",
    "- [index]; 인덱스를 이용한 접근 "
   ]
  },
  {
   "cell_type": "code",
   "execution_count": 22,
   "metadata": {
    "ExecuteTime": {
     "end_time": "2021-02-22T08:18:24.817882Z",
     "start_time": "2021-02-22T08:18:24.812915Z"
    }
   },
   "outputs": [
    {
     "name": "stdout",
     "output_type": "stream",
     "text": [
      "[1, 2, 3, [1, 2, 3], 1, 2, 3]\n",
      "[[1, 2, 3], [1, 2, 3]]\n"
     ]
    }
   ],
   "source": [
    "numbers = [1,2,3,[1,2,3],1,2,3]  #중간에있는2는 2가 아니라 list\n",
    "numbers_2d =[[1,2,3],[1,2,3]]\n",
    "print(numbers)\n",
    "print(numbers_2d)"
   ]
  },
  {
   "cell_type": "code",
   "execution_count": 23,
   "metadata": {
    "ExecuteTime": {
     "end_time": "2021-02-22T08:19:30.625496Z",
     "start_time": "2021-02-22T08:19:30.621527Z"
    }
   },
   "outputs": [
    {
     "data": {
      "text/plain": [
       "2"
      ]
     },
     "execution_count": 23,
     "metadata": {},
     "output_type": "execute_result"
    }
   ],
   "source": [
    "numbers.count(2) #2가 몇 개 있는지    #중간에있는2는 2가 아니라 list  따라서 2는 3개(x)  2개(o) \n"
   ]
  },
  {
   "cell_type": "code",
   "execution_count": 24,
   "metadata": {
    "ExecuteTime": {
     "end_time": "2021-02-22T08:20:16.064171Z",
     "start_time": "2021-02-22T08:20:16.060181Z"
    }
   },
   "outputs": [
    {
     "data": {
      "text/plain": [
       "0"
      ]
     },
     "execution_count": 24,
     "metadata": {},
     "output_type": "execute_result"
    }
   ],
   "source": [
    "numbers.count(9)"
   ]
  },
  {
   "cell_type": "code",
   "execution_count": 25,
   "metadata": {
    "ExecuteTime": {
     "end_time": "2021-02-22T08:20:29.832077Z",
     "start_time": "2021-02-22T08:20:29.827090Z"
    }
   },
   "outputs": [
    {
     "data": {
      "text/plain": [
       "1"
      ]
     },
     "execution_count": 25,
     "metadata": {},
     "output_type": "execute_result"
    }
   ],
   "source": [
    "numbers.count([1,2,3])"
   ]
  },
  {
   "cell_type": "code",
   "execution_count": 26,
   "metadata": {
    "ExecuteTime": {
     "end_time": "2021-02-22T08:20:38.672724Z",
     "start_time": "2021-02-22T08:20:38.667728Z"
    }
   },
   "outputs": [
    {
     "data": {
      "text/plain": [
       "0"
      ]
     },
     "execution_count": 26,
     "metadata": {},
     "output_type": "execute_result"
    }
   ],
   "source": [
    "numbers_2d.count(2) #여기서 2는 2가아니라 list. 따라서 2가 0개 "
   ]
  },
  {
   "cell_type": "code",
   "execution_count": 28,
   "metadata": {
    "ExecuteTime": {
     "end_time": "2021-02-22T08:21:13.002553Z",
     "start_time": "2021-02-22T08:21:12.998563Z"
    }
   },
   "outputs": [
    {
     "data": {
      "text/plain": [
       "2"
      ]
     },
     "execution_count": 28,
     "metadata": {},
     "output_type": "execute_result"
    }
   ],
   "source": [
    "numbers_2d.count([1,2,3] )   #[1,2,3] 2개 있음"
   ]
  },
  {
   "cell_type": "code",
   "execution_count": 30,
   "metadata": {
    "ExecuteTime": {
     "end_time": "2021-02-22T08:22:32.246836Z",
     "start_time": "2021-02-22T08:22:32.242838Z"
    }
   },
   "outputs": [
    {
     "data": {
      "text/plain": [
       "1"
      ]
     },
     "execution_count": 30,
     "metadata": {},
     "output_type": "execute_result"
    }
   ],
   "source": [
    "#0번째 인덱스부터 처음 나오는 2의 인덱스\n",
    "numbers.index(2)"
   ]
  },
  {
   "cell_type": "code",
   "execution_count": 32,
   "metadata": {
    "ExecuteTime": {
     "end_time": "2021-02-22T08:24:31.242465Z",
     "start_time": "2021-02-22T08:24:31.237477Z"
    }
   },
   "outputs": [
    {
     "data": {
      "text/plain": [
       "5"
      ]
     },
     "execution_count": 32,
     "metadata": {},
     "output_type": "execute_result"
    }
   ],
   "source": [
    "#4번째 인덱스 이후부터 처음나오는 2의 인덱스\n",
    "#numbers = [1,2,3,[1,2,3],1,2,3] \n",
    "#           0 1 2   3     4 5\n",
    "numbers.index(2,4)    #4번째 인덱스 이후부터 / 처음나오는 / '2의 인덱스'"
   ]
  },
  {
   "cell_type": "code",
   "execution_count": 31,
   "metadata": {
    "ExecuteTime": {
     "end_time": "2021-02-22T08:24:24.229384Z",
     "start_time": "2021-02-22T08:24:24.220409Z"
    }
   },
   "outputs": [
    {
     "name": "stdout",
     "output_type": "stream",
     "text": [
      "0\n"
     ]
    },
    {
     "ename": "ValueError",
     "evalue": "9 is not in list",
     "output_type": "error",
     "traceback": [
      "\u001b[1;31m---------------------------------------------------------------------------\u001b[0m",
      "\u001b[1;31mValueError\u001b[0m                                Traceback (most recent call last)",
      "\u001b[1;32m<ipython-input-31-5cd3de66a69e>\u001b[0m in \u001b[0;36m<module>\u001b[1;34m\u001b[0m\n\u001b[0;32m      1\u001b[0m \u001b[0mprint\u001b[0m\u001b[1;33m(\u001b[0m\u001b[0mnumbers\u001b[0m\u001b[1;33m.\u001b[0m\u001b[0mcount\u001b[0m\u001b[1;33m(\u001b[0m\u001b[1;36m9\u001b[0m\u001b[1;33m)\u001b[0m\u001b[1;33m)\u001b[0m\u001b[1;33m\u001b[0m\u001b[1;33m\u001b[0m\u001b[0m\n\u001b[1;32m----> 2\u001b[1;33m \u001b[0mprint\u001b[0m\u001b[1;33m(\u001b[0m\u001b[0mnumbers\u001b[0m\u001b[1;33m.\u001b[0m\u001b[0mindex\u001b[0m\u001b[1;33m(\u001b[0m\u001b[1;36m9\u001b[0m\u001b[1;33m)\u001b[0m\u001b[1;33m)\u001b[0m \u001b[1;31m#index함수는 없는 값을 찾으면 에러\u001b[0m\u001b[1;33m\u001b[0m\u001b[1;33m\u001b[0m\u001b[0m\n\u001b[0m",
      "\u001b[1;31mValueError\u001b[0m: 9 is not in list"
     ]
    }
   ],
   "source": [
    "print(numbers.count(9))\n",
    "print(numbers.index(9)) #index함수는 없는 값을 찾으면 에러 "
   ]
  },
  {
   "cell_type": "code",
   "execution_count": 33,
   "metadata": {
    "ExecuteTime": {
     "end_time": "2021-02-22T08:25:18.366232Z",
     "start_time": "2021-02-22T08:25:18.358223Z"
    }
   },
   "outputs": [
    {
     "ename": "IndexError",
     "evalue": "list index out of range",
     "output_type": "error",
     "traceback": [
      "\u001b[1;31m---------------------------------------------------------------------------\u001b[0m",
      "\u001b[1;31mIndexError\u001b[0m                                Traceback (most recent call last)",
      "\u001b[1;32m<ipython-input-33-35529a9e4217>\u001b[0m in \u001b[0;36m<module>\u001b[1;34m\u001b[0m\n\u001b[1;32m----> 1\u001b[1;33m \u001b[0mnumbers\u001b[0m\u001b[1;33m[\u001b[0m\u001b[1;36m7\u001b[0m\u001b[1;33m]\u001b[0m \u001b[1;31m#인덱스의 범위를 벗어나면 에러 발생\u001b[0m\u001b[1;33m\u001b[0m\u001b[1;33m\u001b[0m\u001b[0m\n\u001b[0m",
      "\u001b[1;31mIndexError\u001b[0m: list index out of range"
     ]
    }
   ],
   "source": [
    "numbers[7] #인덱스의 범위를 벗어나면 에러 발생 "
   ]
  },
  {
   "cell_type": "markdown",
   "metadata": {},
   "source": [
    "## 1.5 원하는 리스트 내용만 추출; 리스트 슬라이싱- 인덱스 보다 많이 씀"
   ]
  },
  {
   "cell_type": "markdown",
   "metadata": {},
   "source": [
    "-[from: to : by];  from부터 to바로 앞까지 by번 증가하는 index 아이템 추출\n",
    "                    from,to,by  생략 가능\n",
    "                    인덱스는 음수 가능"
   ]
  },
  {
   "cell_type": "code",
   "execution_count": 34,
   "metadata": {
    "ExecuteTime": {
     "end_time": "2021-02-22T08:39:06.992387Z",
     "start_time": "2021-02-22T08:39:06.988397Z"
    }
   },
   "outputs": [],
   "source": [
    "numbers = [1,2,3,4,5]"
   ]
  },
  {
   "cell_type": "code",
   "execution_count": 36,
   "metadata": {
    "ExecuteTime": {
     "end_time": "2021-02-22T08:39:59.520041Z",
     "start_time": "2021-02-22T08:39:59.515055Z"
    }
   },
   "outputs": [
    {
     "data": {
      "text/plain": [
       "[3, 4, 5]"
      ]
     },
     "execution_count": 36,
     "metadata": {},
     "output_type": "execute_result"
    }
   ],
   "source": [
    "numbers[2:9] #2부터 9번 인덱스 바로 앞까지 출력 (해당 index가 없을 경우 끝까지 )"
   ]
  },
  {
   "cell_type": "code",
   "execution_count": 38,
   "metadata": {
    "ExecuteTime": {
     "end_time": "2021-02-22T08:40:38.055915Z",
     "start_time": "2021-02-22T08:40:38.050941Z"
    }
   },
   "outputs": [
    {
     "data": {
      "text/plain": [
       "[5, 4, 3, 2, 1]"
      ]
     },
     "execution_count": 38,
     "metadata": {},
     "output_type": "execute_result"
    }
   ],
   "source": [
    "numbers[::-1]   #역순 "
   ]
  },
  {
   "cell_type": "code",
   "execution_count": 39,
   "metadata": {
    "ExecuteTime": {
     "end_time": "2021-02-22T08:40:45.770602Z",
     "start_time": "2021-02-22T08:40:45.765635Z"
    }
   },
   "outputs": [
    {
     "data": {
      "text/plain": [
       "[1, 2, 3, 4, 5]"
      ]
     },
     "execution_count": 39,
     "metadata": {},
     "output_type": "execute_result"
    }
   ],
   "source": [
    "numbers[::] #처음부터 끝까지 "
   ]
  },
  {
   "cell_type": "code",
   "execution_count": 40,
   "metadata": {
    "ExecuteTime": {
     "end_time": "2021-02-22T08:41:10.867016Z",
     "start_time": "2021-02-22T08:41:10.863042Z"
    }
   },
   "outputs": [
    {
     "data": {
      "text/plain": [
       "[1, 2, 3, 4]"
      ]
     },
     "execution_count": 40,
     "metadata": {},
     "output_type": "execute_result"
    }
   ],
   "source": [
    "numbers[-5:-1] #끝에5번째부터 뒤에서1번째까지 "
   ]
  },
  {
   "cell_type": "code",
   "execution_count": null,
   "metadata": {},
   "outputs": [],
   "source": [
    "numbers[-1:-5] #-1부터 -5바로 전까지 by(1)씩 인덱스를 전진하며 인덱스 "
   ]
  },
  {
   "cell_type": "code",
   "execution_count": 41,
   "metadata": {
    "ExecuteTime": {
     "end_time": "2021-02-22T08:43:12.919800Z",
     "start_time": "2021-02-22T08:43:12.914833Z"
    }
   },
   "outputs": [
    {
     "data": {
      "text/plain": [
       "[[10, 20, 30], [11, 12, 13]]"
      ]
     },
     "execution_count": 41,
     "metadata": {},
     "output_type": "execute_result"
    }
   ],
   "source": [
    "numbers_2d = [[1,2,3],[10,20,30],[11,12,13],[21,22,23]]\n",
    "numbers_2d [1:3]"
   ]
  },
  {
   "cell_type": "code",
   "execution_count": 42,
   "metadata": {
    "ExecuteTime": {
     "end_time": "2021-02-22T08:43:31.781107Z",
     "start_time": "2021-02-22T08:43:31.776139Z"
    }
   },
   "outputs": [
    {
     "data": {
      "text/plain": [
       "[2, 3]"
      ]
     },
     "execution_count": 42,
     "metadata": {},
     "output_type": "execute_result"
    }
   ],
   "source": [
    "numbers_2d[0][1:3]  #0번째방 중  1번째 부터 3번째 앞까지  (0번째는 1  1번째는2   2번째는3)"
   ]
  },
  {
   "cell_type": "code",
   "execution_count": null,
   "metadata": {},
   "outputs": [],
   "source": [
    "# 람다식을 이용해서 list의 원하는 데이터 액세스"
   ]
  },
  {
   "cell_type": "code",
   "execution_count": 45,
   "metadata": {
    "ExecuteTime": {
     "end_time": "2021-02-22T08:47:50.846743Z",
     "start_time": "2021-02-22T08:47:50.841766Z"
    }
   },
   "outputs": [
    {
     "data": {
      "text/plain": [
       "[1, 3, 5, 9, 10, 12, 13, 18, 19, 20]"
      ]
     },
     "execution_count": 45,
     "metadata": {},
     "output_type": "execute_result"
    }
   ],
   "source": [
    "numbers =[1,3,5,9,10,12,13,18,19,20]\n",
    "#모든 데이터 다 가져오기. \n",
    "#for data in numbers:\n",
    "#    print(data)\n",
    "[data for data in numbers]  #numbers라는 리스트가 0번부터 끝방까지 data로 들어감.  전제적으로 []list로 감싼다 "
   ]
  },
  {
   "cell_type": "code",
   "execution_count": 48,
   "metadata": {
    "ExecuteTime": {
     "end_time": "2021-02-22T08:50:52.703424Z",
     "start_time": "2021-02-22T08:50:52.698436Z"
    }
   },
   "outputs": [
    {
     "data": {
      "text/plain": [
       "[10, 12, 18, 20]"
      ]
     },
     "execution_count": 48,
     "metadata": {},
     "output_type": "execute_result"
    }
   ],
   "source": [
    "# 짝수 데이터만 가져오기 \n",
    "#for x in numbers:\n",
    "#    if x%2 == 0:\n",
    "#        print(x)\n",
    "[x for x in numbers]  #람다식 한줄로 끝냄 \n",
    "[x for x in numbers if x%2 ==0]  #짝수만 넘겨짐 "
   ]
  },
  {
   "cell_type": "code",
   "execution_count": 49,
   "metadata": {
    "ExecuteTime": {
     "end_time": "2021-02-22T08:51:51.784741Z",
     "start_time": "2021-02-22T08:51:51.780734Z"
    }
   },
   "outputs": [
    {
     "data": {
      "text/plain": [
       "[10, 12, 13, 18, 19, 20]"
      ]
     },
     "execution_count": 49,
     "metadata": {},
     "output_type": "execute_result"
    }
   ],
   "source": [
    "#10 이상의 데이터만 가져오기 \n",
    "[x for x in numbers if x>=10]"
   ]
  },
  {
   "cell_type": "code",
   "execution_count": 53,
   "metadata": {
    "ExecuteTime": {
     "end_time": "2021-02-22T09:02:54.325439Z",
     "start_time": "2021-02-22T09:02:54.320451Z"
    }
   },
   "outputs": [
    {
     "data": {
      "text/plain": [
       "['orange', 'apple', 'mango']"
      ]
     },
     "execution_count": 53,
     "metadata": {},
     "output_type": "execute_result"
    }
   ],
   "source": [
    "#과일의 글씨가 5글자 이상인 과일만 추출\n",
    "\n",
    "fruits = ['orange','apple','mango','kiwi']\n",
    "#for f in fruits:\n",
    "#    if len(f)>=5:\n",
    "#    print(f)\n",
    "\n",
    "[f for f in fruits if len(f)>=5]"
   ]
  },
  {
   "cell_type": "code",
   "execution_count": 54,
   "metadata": {
    "ExecuteTime": {
     "end_time": "2021-02-22T09:18:30.421283Z",
     "start_time": "2021-02-22T09:18:30.416309Z"
    }
   },
   "outputs": [
    {
     "data": {
      "text/plain": [
       "[1, 4, 9, 16, 25]"
      ]
     },
     "execution_count": 54,
     "metadata": {},
     "output_type": "execute_result"
    }
   ],
   "source": [
    "#리스트 값의 제곱을 추출하라\n",
    "L = [1,2,3,4,5]\n",
    "[x**2 for x in L]"
   ]
  },
  {
   "cell_type": "code",
   "execution_count": 55,
   "metadata": {
    "ExecuteTime": {
     "end_time": "2021-02-22T09:18:42.595883Z",
     "start_time": "2021-02-22T09:18:42.590886Z"
    }
   },
   "outputs": [
    {
     "data": {
      "text/plain": [
       "[1, 8, 27, 64, 125]"
      ]
     },
     "execution_count": 55,
     "metadata": {},
     "output_type": "execute_result"
    }
   ],
   "source": [
    "#리스트 값의 세제곱을 추출하라\n",
    "L = [1,2,3,4,5]\n",
    "[x**3 for x in L]"
   ]
  },
  {
   "cell_type": "code",
   "execution_count": 56,
   "metadata": {
    "ExecuteTime": {
     "end_time": "2021-02-22T09:18:43.940449Z",
     "start_time": "2021-02-22T09:18:43.936440Z"
    }
   },
   "outputs": [
    {
     "data": {
      "text/plain": [
       "[2, 4, 6, 8, 10]"
      ]
     },
     "execution_count": 56,
     "metadata": {},
     "output_type": "execute_result"
    }
   ],
   "source": [
    "#리스트 값의 두배의 수를 추출하라\n",
    "L = [1,2,3,4,5]\n",
    "[x*2 for x in L]"
   ]
  },
  {
   "cell_type": "markdown",
   "metadata": {},
   "source": [
    "## 1.6요소 수정하기 "
   ]
  },
  {
   "cell_type": "code",
   "execution_count": 1,
   "metadata": {
    "ExecuteTime": {
     "end_time": "2021-02-23T00:36:10.552577Z",
     "start_time": "2021-02-23T00:36:10.541632Z"
    }
   },
   "outputs": [
    {
     "data": {
      "text/plain": [
       "[0, 1, 2, 3, 4, 5, 6, 7, 8, 9]"
      ]
     },
     "execution_count": 1,
     "metadata": {},
     "output_type": "execute_result"
    }
   ],
   "source": [
    "numbers =[0,1,2,3,4,5,6,7,8,9]\n",
    "numbers"
   ]
  },
  {
   "cell_type": "code",
   "execution_count": 2,
   "metadata": {
    "ExecuteTime": {
     "end_time": "2021-02-23T00:37:25.443630Z",
     "start_time": "2021-02-23T00:37:25.438644Z"
    }
   },
   "outputs": [
    {
     "data": {
      "text/plain": [
       "[0, 1, 222, 3, 4, 5, 6, 7, 8, 9]"
      ]
     },
     "execution_count": 2,
     "metadata": {},
     "output_type": "execute_result"
    }
   ],
   "source": [
    "numbers[2]=222\n",
    "numbers"
   ]
  },
  {
   "cell_type": "code",
   "execution_count": 6,
   "metadata": {
    "ExecuteTime": {
     "end_time": "2021-02-23T00:39:55.896924Z",
     "start_time": "2021-02-23T00:39:55.891938Z"
    }
   },
   "outputs": [
    {
     "data": {
      "text/plain": [
       "[999, 999, 999, 9]"
      ]
     },
     "execution_count": 6,
     "metadata": {},
     "output_type": "execute_result"
    }
   ],
   "source": [
    "numbers[0:5]=[999,999,999] # 부분 리스트를 통째로 바꿈(슬라이싱)  0번째방부터 5번째방까지  3개의 999로 바꿈\n",
    "numbers"
   ]
  },
  {
   "cell_type": "code",
   "execution_count": 8,
   "metadata": {
    "ExecuteTime": {
     "end_time": "2021-02-23T00:41:16.437342Z",
     "start_time": "2021-02-23T00:41:16.432354Z"
    }
   },
   "outputs": [
    {
     "data": {
      "text/plain": [
       "[5, 6, 7, 8, 9, 5, 6, 7, 8, 9]"
      ]
     },
     "execution_count": 8,
     "metadata": {},
     "output_type": "execute_result"
    }
   ],
   "source": [
    "numbers =[0,1,2,3,4,5,6,7,8,9]  #앞에있는 0,1,2,3,4는  뒤에 있는 '5,6,7,8,9'로 대치됨 \n",
    "numbers[0:5]= numbers[5:]                             ###########################5번째방 앞까지!!!!!!!!!!!!!#########\n",
    "                                                        #R에서만 5번째방. R제외한 다른 언어에서는 모두 5번째방 앞까지 \n",
    "numbers"
   ]
  },
  {
   "cell_type": "code",
   "execution_count": 11,
   "metadata": {
    "ExecuteTime": {
     "end_time": "2021-02-23T00:43:31.788726Z",
     "start_time": "2021-02-23T00:43:31.784734Z"
    }
   },
   "outputs": [
    {
     "name": "stdout",
     "output_type": "stream",
     "text": [
      "수정전: [0, 0, 0, 0, 0, 0, 0, 0, 0, 0]\n",
      "수정후: [99, 0, 99, 0, 99, 0, 99, 0, 99, 0]\n"
     ]
    }
   ],
   "source": [
    "#슬라이싱에서 by를 추가\n",
    "numbers =[0]*10\n",
    "print('수정전:',numbers)\n",
    "numbers[::2]=[99,99,99,99,99]  #짝수번째index만 수정  (0,2,4,6,8번째방)\n",
    "                                    #means range selection between 0 and len(numbers) with step 2.\n",
    "print('수정후:',numbers)"
   ]
  },
  {
   "cell_type": "code",
   "execution_count": 12,
   "metadata": {
    "ExecuteTime": {
     "end_time": "2021-02-23T00:45:49.719940Z",
     "start_time": "2021-02-23T00:45:49.710989Z"
    }
   },
   "outputs": [
    {
     "ename": "ValueError",
     "evalue": "attempt to assign sequence of size 3 to extended slice of size 5",
     "output_type": "error",
     "traceback": [
      "\u001b[1;31m---------------------------------------------------------------------------\u001b[0m",
      "\u001b[1;31mValueError\u001b[0m                                Traceback (most recent call last)",
      "\u001b[1;32m<ipython-input-12-328fe0d9536a>\u001b[0m in \u001b[0;36m<module>\u001b[1;34m\u001b[0m\n\u001b[0;32m      1\u001b[0m \u001b[1;31m#슬라이싱에서 by가 포함될 경우 바꾸려는 값의 갯수가 맞아야 함\u001b[0m\u001b[1;33m\u001b[0m\u001b[1;33m\u001b[0m\u001b[1;33m\u001b[0m\u001b[0m\n\u001b[1;32m----> 2\u001b[1;33m \u001b[0mnumbers\u001b[0m\u001b[1;33m[\u001b[0m\u001b[1;33m:\u001b[0m\u001b[1;33m:\u001b[0m\u001b[1;36m2\u001b[0m\u001b[1;33m]\u001b[0m\u001b[1;33m=\u001b[0m\u001b[1;33m[\u001b[0m\u001b[1;36m11\u001b[0m\u001b[1;33m,\u001b[0m\u001b[1;36m11\u001b[0m\u001b[1;33m,\u001b[0m\u001b[1;36m11\u001b[0m\u001b[1;33m]\u001b[0m\u001b[1;33m\u001b[0m\u001b[1;33m\u001b[0m\u001b[0m\n\u001b[0m",
      "\u001b[1;31mValueError\u001b[0m: attempt to assign sequence of size 3 to extended slice of size 5"
     ]
    }
   ],
   "source": [
    "#슬라이싱에서 by가 포함될 경우 바꾸려는 값의 갯수가 맞아야 함 \n",
    "numbers[::2]=[11,11,11]"
   ]
  },
  {
   "cell_type": "markdown",
   "metadata": {},
   "source": [
    "## 1.7 삭제하기\n",
    "- pop(): '가장 마지막 요소가 반한'되고 '삭제'. pop(n): n번째 요소가 반환되고 삭제\n",
    "- remove(): remove(data) 해당 데이터가 삭제 \n",
    "- del"
   ]
  },
  {
   "cell_type": "code",
   "execution_count": 16,
   "metadata": {
    "ExecuteTime": {
     "end_time": "2021-02-23T00:49:05.643945Z",
     "start_time": "2021-02-23T00:49:05.638979Z"
    }
   },
   "outputs": [
    {
     "name": "stdout",
     "output_type": "stream",
     "text": [
      "[0, 1, 2, 3, 4, 5, 6, 7, 8, 9]\n",
      "9\n",
      "[0, 1, 2, 3, 4, 5, 6, 7, 8]\n"
     ]
    }
   ],
   "source": [
    "numbers=[0,1,2,3,4,5,6,7,8,9]\n",
    "print(numbers)\n",
    "print(numbers.pop())  #맨 마지막 숫자가 삭제되고, 나머지 반환됨 \n",
    "print(numbers)"
   ]
  },
  {
   "cell_type": "code",
   "execution_count": 14,
   "metadata": {
    "ExecuteTime": {
     "end_time": "2021-02-23T00:48:24.194773Z",
     "start_time": "2021-02-23T00:48:24.189775Z"
    }
   },
   "outputs": [
    {
     "data": {
      "text/plain": [
       "[0, 1, 2, 3, 4, 5, 6, 7, 8]"
      ]
     },
     "execution_count": 14,
     "metadata": {},
     "output_type": "execute_result"
    }
   ],
   "source": [
    "numbers"
   ]
  },
  {
   "cell_type": "code",
   "execution_count": 17,
   "metadata": {
    "ExecuteTime": {
     "end_time": "2021-02-23T00:49:28.176799Z",
     "start_time": "2021-02-23T00:49:28.173807Z"
    }
   },
   "outputs": [
    {
     "name": "stdout",
     "output_type": "stream",
     "text": [
      "2\n",
      "[0, 1, 3, 4, 5, 6, 7, 8]\n"
     ]
    }
   ],
   "source": [
    "print(numbers.pop(2)) \n",
    "print(numbers)"
   ]
  },
  {
   "cell_type": "code",
   "execution_count": 19,
   "metadata": {
    "ExecuteTime": {
     "end_time": "2021-02-23T00:51:57.003786Z",
     "start_time": "2021-02-23T00:51:56.998820Z"
    }
   },
   "outputs": [
    {
     "name": "stdout",
     "output_type": "stream",
     "text": [
      "pop전 [[1, 2, 3], [10, 20, 30], [100, 100, 100]]\n",
      "[100, 100, 100]\n",
      "pop후 [[1, 2, 3], [10, 20, 30]]\n"
     ]
    }
   ],
   "source": [
    "numbers_2d = [[1,2,3],[10,20,30],[100,100,100]] #전체 괄호로 감싸야함 \n",
    "print('pop전',numbers_2d)\n",
    "print(numbers_2d.pop())\n",
    "print('pop후',numbers_2d)"
   ]
  },
  {
   "cell_type": "code",
   "execution_count": 22,
   "metadata": {
    "ExecuteTime": {
     "end_time": "2021-02-23T00:53:47.435582Z",
     "start_time": "2021-02-23T00:53:47.429597Z"
    }
   },
   "outputs": [
    {
     "name": "stdout",
     "output_type": "stream",
     "text": [
      "None\n",
      "[0, 1, 2, 3, 4, 6, 7, 8, 9]\n"
     ]
    }
   ],
   "source": [
    "numbers=[0,1,2,3,4,5,6,7,8,9]\n",
    "print(numbers.remove(5))  #remove는 반환값이 없어. 따라서 none으로 나옴\n",
    "print(numbers)"
   ]
  },
  {
   "cell_type": "code",
   "execution_count": 21,
   "metadata": {
    "ExecuteTime": {
     "end_time": "2021-02-23T00:53:45.922073Z",
     "start_time": "2021-02-23T00:53:45.915108Z"
    },
    "code_folding": []
   },
   "outputs": [
    {
     "ename": "ValueError",
     "evalue": "list.remove(x): x not in list",
     "output_type": "error",
     "traceback": [
      "\u001b[1;31m---------------------------------------------------------------------------\u001b[0m",
      "\u001b[1;31mValueError\u001b[0m                                Traceback (most recent call last)",
      "\u001b[1;32m<ipython-input-21-a3bf1c9e7aa2>\u001b[0m in \u001b[0;36m<module>\u001b[1;34m\u001b[0m\n\u001b[1;32m----> 1\u001b[1;33m \u001b[0mnumbers\u001b[0m\u001b[1;33m.\u001b[0m\u001b[0mremove\u001b[0m\u001b[1;33m(\u001b[0m\u001b[1;36m99\u001b[0m\u001b[1;33m)\u001b[0m\u001b[1;31m#없는 값을 remove할 경우 error\u001b[0m\u001b[1;33m\u001b[0m\u001b[1;33m\u001b[0m\u001b[0m\n\u001b[0m",
      "\u001b[1;31mValueError\u001b[0m: list.remove(x): x not in list"
     ]
    }
   ],
   "source": [
    "numbers.remove(99)#없는 값을 remove할 경우 error"
   ]
  },
  {
   "cell_type": "code",
   "execution_count": 25,
   "metadata": {
    "ExecuteTime": {
     "end_time": "2021-02-23T00:54:28.105702Z",
     "start_time": "2021-02-23T00:54:28.101712Z"
    }
   },
   "outputs": [
    {
     "name": "stdout",
     "output_type": "stream",
     "text": [
      "[0, 1, 3, 4, 6, 7, 8, 9]\n",
      "[0, 1, 4, 6, 7, 8, 9]\n"
     ]
    }
   ],
   "source": [
    "print(numbers)\n",
    "del numbers[2] #2번째방의 숫자가 삭제됨   #변수삭제 \n",
    "print(numbers)"
   ]
  },
  {
   "cell_type": "code",
   "execution_count": 28,
   "metadata": {
    "ExecuteTime": {
     "end_time": "2021-02-23T00:56:39.718829Z",
     "start_time": "2021-02-23T00:56:39.713865Z"
    }
   },
   "outputs": [
    {
     "name": "stdout",
     "output_type": "stream",
     "text": [
      "clear전: [0, 1, 2, 3, 4]\n"
     ]
    },
    {
     "data": {
      "text/plain": [
       "[]"
      ]
     },
     "execution_count": 28,
     "metadata": {},
     "output_type": "execute_result"
    }
   ],
   "source": [
    "numbers=[0,1,2,3,4]\n",
    "print('clear전:',numbers)\n",
    "numbers.clear()\n",
    "del numbers[:]  #0번째부터 끝번째 다 삭제 \n",
    "numbers"
   ]
  },
  {
   "cell_type": "markdown",
   "metadata": {},
   "source": [
    "## 1.8 정렬하기"
   ]
  },
  {
   "cell_type": "code",
   "execution_count": 29,
   "metadata": {
    "ExecuteTime": {
     "end_time": "2021-02-23T00:59:49.516411Z",
     "start_time": "2021-02-23T00:59:49.511406Z"
    }
   },
   "outputs": [
    {
     "data": {
      "text/plain": [
       "[9, 8, 6, 5, 4, 2, 1, 0]"
      ]
     },
     "execution_count": 29,
     "metadata": {},
     "output_type": "execute_result"
    }
   ],
   "source": [
    "numbers = [9,5,1,0,6,4,2,8]\n",
    "numbers.sort() #기본 정렬 오름차순. sort() 실행 후 list가 바뀜\n",
    "numbers[::-1] #내림차순처럼 보이나 numbers 내림차순으로 정렬된 것이 저장되지 않음 "
   ]
  },
  {
   "cell_type": "code",
   "execution_count": 30,
   "metadata": {
    "ExecuteTime": {
     "end_time": "2021-02-23T01:00:01.006943Z",
     "start_time": "2021-02-23T01:00:01.001957Z"
    }
   },
   "outputs": [
    {
     "data": {
      "text/plain": [
       "[0, 1, 2, 4, 5, 6, 8, 9]"
      ]
     },
     "execution_count": 30,
     "metadata": {},
     "output_type": "execute_result"
    }
   ],
   "source": [
    "numbers   #저장은 오름차순으로 저장됨 (위에는 단지 화면에만 내림차순처럼 보여질 뿐)"
   ]
  },
  {
   "cell_type": "code",
   "execution_count": 32,
   "metadata": {
    "ExecuteTime": {
     "end_time": "2021-02-23T01:02:17.451823Z",
     "start_time": "2021-02-23T01:02:17.448818Z"
    }
   },
   "outputs": [
    {
     "data": {
      "text/plain": [
       "[9, 8, 6, 5, 4, 2, 1, 0]"
      ]
     },
     "execution_count": 32,
     "metadata": {},
     "output_type": "execute_result"
    }
   ],
   "source": [
    "numbers.sort(reverse=True) #내림차순 정렬. 리스트 내용도 적용\n",
    "numbers"
   ]
  },
  {
   "cell_type": "code",
   "execution_count": 33,
   "metadata": {
    "ExecuteTime": {
     "end_time": "2021-02-23T01:02:58.783840Z",
     "start_time": "2021-02-23T01:02:58.779831Z"
    }
   },
   "outputs": [
    {
     "data": {
      "text/plain": [
       "[0, 1, 2, 4, 5, 6, 8, 9]"
      ]
     },
     "execution_count": 33,
     "metadata": {},
     "output_type": "execute_result"
    }
   ],
   "source": [
    "numbers.reverse() #리스트를 역순으로 변경\n",
    "numbers"
   ]
  },
  {
   "cell_type": "code",
   "execution_count": 34,
   "metadata": {
    "ExecuteTime": {
     "end_time": "2021-02-23T01:04:00.258263Z",
     "start_time": "2021-02-23T01:04:00.253275Z"
    }
   },
   "outputs": [
    {
     "data": {
      "text/plain": [
       "[9, 8, 6, 5, 4, 2, 1, 0]"
      ]
     },
     "execution_count": 34,
     "metadata": {},
     "output_type": "execute_result"
    }
   ],
   "source": [
    "numbers= numbers[::-1] #처음부터 끝까지 역순 #reverse()함수와 같은 명령\n",
    "numbers"
   ]
  },
  {
   "cell_type": "markdown",
   "metadata": {},
   "source": [
    "## 1.9 리스트 복제"
   ]
  },
  {
   "cell_type": "code",
   "execution_count": 35,
   "metadata": {
    "ExecuteTime": {
     "end_time": "2021-02-23T01:07:11.630532Z",
     "start_time": "2021-02-23T01:07:11.625543Z"
    }
   },
   "outputs": [
    {
     "name": "stdout",
     "output_type": "stream",
     "text": [
      "정렬전 데이터: [2, 4, 6, 7, 10]\n",
      "정렬후 데이터: [2, 4, 6, 7, 10]\n"
     ]
    }
   ],
   "source": [
    "numbers =[6,2,7,4,10]\n",
    "new_numbers = numbers #numbers에 있는 주소값이 new_numbers로 \n",
    "numbers.sort() # numbers는 정렬된 데이터로 \n",
    "print('정렬전 데이터:',new_numbers)\n",
    "print('정렬후 데이터:',numbers)"
   ]
  },
  {
   "cell_type": "code",
   "execution_count": 37,
   "metadata": {
    "ExecuteTime": {
     "end_time": "2021-02-23T01:14:35.066071Z",
     "start_time": "2021-02-23T01:14:35.061083Z"
    }
   },
   "outputs": [
    {
     "name": "stdout",
     "output_type": "stream",
     "text": [
      "정렬전: [6, 2, 7, 4, 10]\n",
      "정렬후: [2, 4, 6, 7, 10]\n",
      "new_numbers주소: 2859945187904\n",
      "numbers주소 2859945107968\n"
     ]
    }
   ],
   "source": [
    "# 복제\n",
    "numbers = [6,2,7,4,10]\n",
    "new_numbers = numbers.copy() # new_numbers에 number 데이터를 복제 (원래 데이터가 남아있게)\n",
    "numbers.sort()\n",
    "print('정렬전:', new_numbers)\n",
    "print('정렬후:', numbers)\n",
    "print('new_numbers주소:',id(new_numbers))\n",
    "print('numbers주소', id(numbers))        # 두 변수의 주소가 다른 곳을 가르키고 있다 "
   ]
  },
  {
   "cell_type": "code",
   "execution_count": 38,
   "metadata": {
    "ExecuteTime": {
     "end_time": "2021-02-23T01:16:47.356067Z",
     "start_time": "2021-02-23T01:16:47.351084Z"
    }
   },
   "outputs": [
    {
     "data": {
      "text/plain": [
       "['광주', '대구', '부산', '서울', '울산', '인천']"
      ]
     },
     "execution_count": 38,
     "metadata": {},
     "output_type": "execute_result"
    }
   ],
   "source": [
    "city=['서울','부산','대구','인천','광주','울산']\n",
    "city.sort()\n",
    "city"
   ]
  },
  {
   "cell_type": "code",
   "execution_count": 39,
   "metadata": {
    "ExecuteTime": {
     "end_time": "2021-02-23T01:16:57.312825Z",
     "start_time": "2021-02-23T01:16:57.308856Z"
    }
   },
   "outputs": [
    {
     "data": {
      "text/plain": [
       "'광주 대구 부산 서울 울산 인천'"
      ]
     },
     "execution_count": 39,
     "metadata": {},
     "output_type": "execute_result"
    }
   ],
   "source": [
    "\" \".join(city)"
   ]
  },
  {
   "cell_type": "markdown",
   "metadata": {},
   "source": [
    "# 2절. 튜플\n",
    "- list와 유사하지만, 읽기 전용. 수정이 필요없는 데이터타입에서 사용\n",
    "- '수정이 불가'하므로 튜플에 '데이터추가, 수정, 삭제 불가.' 제공되는 함수도 많이 않음 \n",
    "- ()이용해서 생성."
   ]
  },
  {
   "cell_type": "code",
   "execution_count": 40,
   "metadata": {
    "ExecuteTime": {
     "end_time": "2021-02-23T01:22:01.967786Z",
     "start_time": "2021-02-23T01:22:01.962799Z"
    }
   },
   "outputs": [
    {
     "data": {
      "text/plain": [
       "tuple"
      ]
     },
     "execution_count": 40,
     "metadata": {},
     "output_type": "execute_result"
    }
   ],
   "source": [
    "city=('서울','부산','인천','대구','대전')\n",
    "type(city)"
   ]
  },
  {
   "cell_type": "code",
   "execution_count": 41,
   "metadata": {
    "ExecuteTime": {
     "end_time": "2021-02-23T01:22:17.043791Z",
     "start_time": "2021-02-23T01:22:17.038804Z"
    }
   },
   "outputs": [
    {
     "data": {
      "text/plain": [
       "'서울-부산-인천-대구-대전'"
      ]
     },
     "execution_count": 41,
     "metadata": {},
     "output_type": "execute_result"
    }
   ],
   "source": [
    "\"-\".join(city)"
   ]
  },
  {
   "cell_type": "code",
   "execution_count": 43,
   "metadata": {
    "ExecuteTime": {
     "end_time": "2021-02-23T01:22:56.968736Z",
     "start_time": "2021-02-23T01:22:56.963749Z"
    }
   },
   "outputs": [
    {
     "name": "stdout",
     "output_type": "stream",
     "text": [
      "<class 'list'>\n",
      "['서울']\n"
     ]
    }
   ],
   "source": [
    "l = ['서울']  #요소가 하나 있는 리스트 \n",
    "print(type(l))\n",
    "print(l)"
   ]
  },
  {
   "cell_type": "code",
   "execution_count": 44,
   "metadata": {
    "ExecuteTime": {
     "end_time": "2021-02-23T01:24:24.158758Z",
     "start_time": "2021-02-23T01:24:24.154769Z"
    }
   },
   "outputs": [
    {
     "name": "stdout",
     "output_type": "stream",
     "text": [
      "<class 'str'>\n",
      "서울\n"
     ]
    }
   ],
   "source": [
    "city =('서울')  #요소가 하나 있는 튜플(x)    이렇게 만들면 class가 'tuple'이 아니라 'string'\n",
    "print(type(city))\n",
    "print(city)"
   ]
  },
  {
   "cell_type": "code",
   "execution_count": 45,
   "metadata": {
    "ExecuteTime": {
     "end_time": "2021-02-23T01:25:22.040978Z",
     "start_time": "2021-02-23T01:25:22.036988Z"
    }
   },
   "outputs": [
    {
     "name": "stdout",
     "output_type": "stream",
     "text": [
      "<class 'tuple'>\n",
      "('서울',)\n"
     ]
    }
   ],
   "source": [
    "city =('서울',)  #요소가 하나 있는 튜플(o)\n",
    "print(type(city))\n",
    "print(city)"
   ]
  },
  {
   "cell_type": "code",
   "execution_count": 47,
   "metadata": {
    "ExecuteTime": {
     "end_time": "2021-02-23T01:40:48.128124Z",
     "start_time": "2021-02-23T01:40:48.124160Z"
    }
   },
   "outputs": [
    {
     "data": {
      "text/plain": [
       "tuple"
      ]
     },
     "execution_count": 47,
     "metadata": {},
     "output_type": "execute_result"
    }
   ],
   "source": [
    "numbers = 1,2,3 #여러개 값이 나열될 때는 자동적으로 튜플로 처리 \n",
    "type(numbers)"
   ]
  },
  {
   "cell_type": "code",
   "execution_count": 48,
   "metadata": {
    "ExecuteTime": {
     "end_time": "2021-02-23T01:42:28.155500Z",
     "start_time": "2021-02-23T01:42:28.145528Z"
    }
   },
   "outputs": [
    {
     "ename": "AttributeError",
     "evalue": "'tuple' object has no attribute 'insert'",
     "output_type": "error",
     "traceback": [
      "\u001b[1;31m---------------------------------------------------------------------------\u001b[0m",
      "\u001b[1;31mAttributeError\u001b[0m                            Traceback (most recent call last)",
      "\u001b[1;32m<ipython-input-48-d1113829ac3c>\u001b[0m in \u001b[0;36m<module>\u001b[1;34m\u001b[0m\n\u001b[1;32m----> 1\u001b[1;33m \u001b[0mnumbers\u001b[0m\u001b[1;33m.\u001b[0m\u001b[0minsert\u001b[0m\u001b[1;33m(\u001b[0m\u001b[1;36m2\u001b[0m\u001b[1;33m,\u001b[0m\u001b[1;36m99\u001b[0m\u001b[1;33m)\u001b[0m\u001b[1;33m\u001b[0m\u001b[1;33m\u001b[0m\u001b[0m\n\u001b[0m",
      "\u001b[1;31mAttributeError\u001b[0m: 'tuple' object has no attribute 'insert'"
     ]
    }
   ],
   "source": [
    "numbers.insert(2,99)  #에러나는 이유: tuple은 한번 선언하면 수정불가하기 때문에 "
   ]
  },
  {
   "cell_type": "code",
   "execution_count": 49,
   "metadata": {
    "ExecuteTime": {
     "end_time": "2021-02-23T01:43:47.158597Z",
     "start_time": "2021-02-23T01:43:47.153611Z"
    }
   },
   "outputs": [
    {
     "data": {
      "text/plain": [
       "(1, 3, 3)"
      ]
     },
     "execution_count": 49,
     "metadata": {},
     "output_type": "execute_result"
    }
   ],
   "source": [
    "min(numbers), max(numbers),len(numbers)"
   ]
  },
  {
   "cell_type": "code",
   "execution_count": 50,
   "metadata": {
    "ExecuteTime": {
     "end_time": "2021-02-23T01:44:02.611725Z",
     "start_time": "2021-02-23T01:44:02.607740Z"
    }
   },
   "outputs": [
    {
     "data": {
      "text/plain": [
       "2"
      ]
     },
     "execution_count": 50,
     "metadata": {},
     "output_type": "execute_result"
    }
   ],
   "source": [
    "numbers = (1,2,1,2,3)\n",
    "numbers.count(2)"
   ]
  },
  {
   "cell_type": "code",
   "execution_count": 51,
   "metadata": {
    "ExecuteTime": {
     "end_time": "2021-02-23T01:44:09.270422Z",
     "start_time": "2021-02-23T01:44:09.265435Z"
    }
   },
   "outputs": [
    {
     "data": {
      "text/plain": [
       "4"
      ]
     },
     "execution_count": 51,
     "metadata": {},
     "output_type": "execute_result"
    }
   ],
   "source": [
    "numbers.index(3)   #3index의 위치를 반환 "
   ]
  },
  {
   "cell_type": "code",
   "execution_count": 53,
   "metadata": {
    "ExecuteTime": {
     "end_time": "2021-02-23T01:45:42.783246Z",
     "start_time": "2021-02-23T01:45:42.778271Z"
    }
   },
   "outputs": [
    {
     "data": {
      "text/plain": [
       "(2, 3, 4)"
      ]
     },
     "execution_count": 53,
     "metadata": {},
     "output_type": "execute_result"
    }
   ],
   "source": [
    "data =(0,1,2,3,4,(5,6))\n",
    "data[2:5]  #2번째방부터 '5번째앞'까지 "
   ]
  },
  {
   "cell_type": "code",
   "execution_count": 54,
   "metadata": {
    "ExecuteTime": {
     "end_time": "2021-02-23T01:46:28.066278Z",
     "start_time": "2021-02-23T01:46:28.062299Z"
    }
   },
   "outputs": [
    {
     "data": {
      "text/plain": [
       "((5, 6),)"
      ]
     },
     "execution_count": 54,
     "metadata": {},
     "output_type": "execute_result"
    }
   ],
   "source": [
    "data[5:9:2]       ##### 5번째 방부터 9번째방앞까지 2씩증가 (즉 5번째 방, 7번째방) (그러나 여기서 7번째방없음) #######"
   ]
  },
  {
   "cell_type": "code",
   "execution_count": 55,
   "metadata": {
    "ExecuteTime": {
     "end_time": "2021-02-23T01:47:39.372219Z",
     "start_time": "2021-02-23T01:47:39.368229Z"
    }
   },
   "outputs": [
    {
     "data": {
      "text/plain": [
       "((5, 6), 4, 3, 2)"
      ]
     },
     "execution_count": 55,
     "metadata": {},
     "output_type": "execute_result"
    }
   ],
   "source": [
    "data[-1: -5: -1]    ########맨마지막부터 -5방앞까지 (즉-4방) 따라서 여기서2까지    맨마지막-1은 '역순'"
   ]
  },
  {
   "cell_type": "code",
   "execution_count": 56,
   "metadata": {
    "ExecuteTime": {
     "end_time": "2021-02-23T01:48:25.160077Z",
     "start_time": "2021-02-23T01:48:25.155090Z"
    }
   },
   "outputs": [
    {
     "data": {
      "text/plain": [
       "((100, 0, 0), (10, 20, 30), 2)"
      ]
     },
     "execution_count": 56,
     "metadata": {},
     "output_type": "execute_result"
    }
   ],
   "source": [
    "data = ((100,0,0),(10,20,30))\n",
    "max(data),min(data),len(data)"
   ]
  },
  {
   "cell_type": "code",
   "execution_count": null,
   "metadata": {},
   "outputs": [],
   "source": [
    "data =(1,2,3)\n",
    "data+data"
   ]
  },
  {
   "cell_type": "code",
   "execution_count": 59,
   "metadata": {
    "ExecuteTime": {
     "end_time": "2021-02-23T01:50:10.919491Z",
     "start_time": "2021-02-23T01:50:10.914505Z"
    }
   },
   "outputs": [
    {
     "data": {
      "text/plain": [
       "('서울', 2, True, '서울', 2, True, '서울', 2, True)"
      ]
     },
     "execution_count": 59,
     "metadata": {},
     "output_type": "execute_result"
    }
   ],
   "source": [
    "data = ('서울',2,True)    #True이렇게 써야함. true(x) 이렇게 쓰면 인식안됨\n",
    "data * 3"
   ]
  },
  {
   "cell_type": "code",
   "execution_count": 60,
   "metadata": {
    "ExecuteTime": {
     "end_time": "2021-02-23T01:50:28.223196Z",
     "start_time": "2021-02-23T01:50:28.220204Z"
    }
   },
   "outputs": [],
   "source": [
    "del data"
   ]
  },
  {
   "cell_type": "markdown",
   "metadata": {},
   "source": [
    "# 3절. 딕셔너리\n",
    "    cf. 자바에서 hashmap\n",
    "- 중괄호({})를 이용해서 딕셔너리 생성. 키(key)-값(value)으로 쌍으로 구정된 자료구조 \n",
    "- 키는 유일한 값 (중복허용안함). key에 list는 사용불가.\n",
    "- 없는 키의 값을 참조하면 에러 발생\n",
    "- 인덱스를 이용한 참조는 지원 안함 "
   ]
  },
  {
   "cell_type": "code",
   "execution_count": 61,
   "metadata": {
    "ExecuteTime": {
     "end_time": "2021-02-23T01:56:01.599333Z",
     "start_time": "2021-02-23T01:56:01.595344Z"
    }
   },
   "outputs": [],
   "source": [
    "dic = {'key1':'value', 'key2':'value'}"
   ]
  },
  {
   "cell_type": "code",
   "execution_count": 62,
   "metadata": {
    "ExecuteTime": {
     "end_time": "2021-02-23T01:56:11.981100Z",
     "start_time": "2021-02-23T01:56:11.976113Z"
    }
   },
   "outputs": [
    {
     "data": {
      "text/plain": [
       "2"
      ]
     },
     "execution_count": 62,
     "metadata": {},
     "output_type": "execute_result"
    }
   ],
   "source": [
    "len(dic) # 데이터 구조의 요소의 갯수 "
   ]
  },
  {
   "cell_type": "code",
   "execution_count": 63,
   "metadata": {
    "ExecuteTime": {
     "end_time": "2021-02-23T01:57:21.418098Z",
     "start_time": "2021-02-23T01:57:21.414105Z"
    }
   },
   "outputs": [
    {
     "data": {
      "text/plain": [
       "{'fruit': 'apple', 'number': 1, 'sport': 'golf'}"
      ]
     },
     "execution_count": 63,
     "metadata": {},
     "output_type": "execute_result"
    }
   ],
   "source": [
    "my_favorite = {'fruit':'apple', 'number':1, 'sport':'golf'}\n",
    "my_favorite"
   ]
  },
  {
   "cell_type": "code",
   "execution_count": 64,
   "metadata": {
    "ExecuteTime": {
     "end_time": "2021-02-23T01:57:32.457819Z",
     "start_time": "2021-02-23T01:57:32.448843Z"
    }
   },
   "outputs": [
    {
     "ename": "KeyError",
     "evalue": "0",
     "output_type": "error",
     "traceback": [
      "\u001b[1;31m---------------------------------------------------------------------------\u001b[0m",
      "\u001b[1;31mKeyError\u001b[0m                                  Traceback (most recent call last)",
      "\u001b[1;32m<ipython-input-64-d27109fc099a>\u001b[0m in \u001b[0;36m<module>\u001b[1;34m\u001b[0m\n\u001b[1;32m----> 1\u001b[1;33m \u001b[0mmy_favorite\u001b[0m\u001b[1;33m[\u001b[0m\u001b[1;36m0\u001b[0m\u001b[1;33m]\u001b[0m\u001b[1;33m\u001b[0m\u001b[1;33m\u001b[0m\u001b[0m\n\u001b[0m",
      "\u001b[1;31mKeyError\u001b[0m: 0"
     ]
    }
   ],
   "source": [
    "my_favorite[0] #index를 이용한 참조가 지원되지 않는다.    \n",
    "#순서가 없고, fruit,number,sport이렇게 있다 #access할 때 key 참조 !"
   ]
  },
  {
   "cell_type": "code",
   "execution_count": 65,
   "metadata": {
    "ExecuteTime": {
     "end_time": "2021-02-23T01:58:27.183649Z",
     "start_time": "2021-02-23T01:58:27.178659Z"
    }
   },
   "outputs": [
    {
     "data": {
      "text/plain": [
       "'apple'"
      ]
     },
     "execution_count": 65,
     "metadata": {},
     "output_type": "execute_result"
    }
   ],
   "source": [
    "my_favorite.get('fruit')"
   ]
  },
  {
   "cell_type": "code",
   "execution_count": 66,
   "metadata": {
    "ExecuteTime": {
     "end_time": "2021-02-23T01:58:58.433757Z",
     "start_time": "2021-02-23T01:58:58.428792Z"
    }
   },
   "outputs": [
    {
     "data": {
      "text/plain": [
       "'apple'"
      ]
     },
     "execution_count": 66,
     "metadata": {},
     "output_type": "execute_result"
    }
   ],
   "source": [
    "my_favorite['fruit']"
   ]
  },
  {
   "cell_type": "code",
   "execution_count": 67,
   "metadata": {
    "ExecuteTime": {
     "end_time": "2021-02-23T01:59:50.477517Z",
     "start_time": "2021-02-23T01:59:50.469519Z"
    }
   },
   "outputs": [
    {
     "ename": "KeyError",
     "evalue": "'people'",
     "output_type": "error",
     "traceback": [
      "\u001b[1;31m---------------------------------------------------------------------------\u001b[0m",
      "\u001b[1;31mKeyError\u001b[0m                                  Traceback (most recent call last)",
      "\u001b[1;32m<ipython-input-67-eb87ee0be7e1>\u001b[0m in \u001b[0;36m<module>\u001b[1;34m\u001b[0m\n\u001b[1;32m----> 1\u001b[1;33m \u001b[0mmy_favorite\u001b[0m\u001b[1;33m[\u001b[0m\u001b[1;34m'people'\u001b[0m\u001b[1;33m]\u001b[0m\u001b[1;33m\u001b[0m\u001b[1;33m\u001b[0m\u001b[0m\n\u001b[0m",
      "\u001b[1;31mKeyError\u001b[0m: 'people'"
     ]
    }
   ],
   "source": [
    "my_favorite['people']    #key목록에 없는 데이터 참조시 에러 "
   ]
  },
  {
   "cell_type": "code",
   "execution_count": 68,
   "metadata": {
    "ExecuteTime": {
     "end_time": "2021-02-23T02:01:15.405629Z",
     "start_time": "2021-02-23T02:01:15.400642Z"
    }
   },
   "outputs": [
    {
     "data": {
      "text/plain": [
       "{'fruit': 'banana', 'number': 1, 'sport': 'golf'}"
      ]
     },
     "execution_count": 68,
     "metadata": {},
     "output_type": "execute_result"
    }
   ],
   "source": [
    "my_favorite = {'fruit':'apple', 'number':1, 'sport':'golf'}\n",
    "my_favorite['fruit'] ='banana'\n",
    "my_favorite"
   ]
  },
  {
   "cell_type": "code",
   "execution_count": 69,
   "metadata": {
    "ExecuteTime": {
     "end_time": "2021-02-23T02:04:17.633273Z",
     "start_time": "2021-02-23T02:04:17.628309Z"
    }
   },
   "outputs": [
    {
     "data": {
      "text/plain": [
       "{1: 'Hello', 2: 'Python'}"
      ]
     },
     "execution_count": 69,
     "metadata": {},
     "output_type": "execute_result"
    }
   ],
   "source": [
    "# 키: 문자, 숫자, 튜플. 중복불가\n",
    "# 값: 모든 문자 타입. 중복 가능 \n",
    "my_dic1 = {1:'Hello', 2:'World', 2:'Python'}   #키 값이 똑같은게 있으면 뒤에 있는 겋로 update됨 \n",
    "my_dic1"
   ]
  },
  {
   "cell_type": "code",
   "execution_count": 70,
   "metadata": {
    "ExecuteTime": {
     "end_time": "2021-02-23T02:07:05.314280Z",
     "start_time": "2021-02-23T02:07:05.309313Z"
    }
   },
   "outputs": [
    {
     "data": {
      "text/plain": [
       "{1: 'Hi', 2: 'Python', 'people': ['홍길동', '홍길순'], 'study': ['python', 'hadoop']}"
      ]
     },
     "execution_count": 70,
     "metadata": {},
     "output_type": "execute_result"
    }
   ],
   "source": [
    "my_dic1['people'] = ['홍길동','홍길순'] #my_dic1에 요소 추가    'people': ['홍길동', '홍길순']\n",
    "my_dic1['study'] = ['python','hadoop']  #추가                   'study': ['python', 'hadoop']}\n",
    "my_dic1[1] = 'Hi'                                              #키값1에 있는 내용을 'Hi'로 변경 \n",
    "#my_dic1.append({'people':['홍길동','홍길순'] }) 불가 \n",
    "my_dic1"
   ]
  },
  {
   "cell_type": "code",
   "execution_count": 71,
   "metadata": {
    "ExecuteTime": {
     "end_time": "2021-02-23T02:10:01.756030Z",
     "start_time": "2021-02-23T02:10:01.751044Z"
    }
   },
   "outputs": [
    {
     "data": {
      "text/plain": [
       "{'name': 'KilDong', 'age': 30}"
      ]
     },
     "execution_count": 71,
     "metadata": {},
     "output_type": "execute_result"
    }
   ],
   "source": [
    "my_dic2 = {'name':'Hong', 'name':'KilDong','age':30} #키 값이 똑같은게 있으면 뒤에 있는 겋로 update됨 \n",
    "my_dic2"
   ]
  },
  {
   "cell_type": "code",
   "execution_count": 72,
   "metadata": {
    "ExecuteTime": {
     "end_time": "2021-02-23T02:11:45.905996Z",
     "start_time": "2021-02-23T02:11:45.901029Z"
    }
   },
   "outputs": [
    {
     "data": {
      "text/plain": [
       "{1: 'World', False: 'Hadoop'}"
      ]
     },
     "execution_count": 72,
     "metadata": {},
     "output_type": "execute_result"
    }
   ],
   "source": [
    "my_dic3 = {1:'Hello', True:'World', False:'Python', 0:'Hadoop'} #TRUE==1, FALSE==0   key값에서 이렇게 인식 \n",
    "my_dic3  \n",
    "#맨처음에 '1'나오고, 뒷부분은 맨처음에'FALSE' 나옴 -->  따라서 KEY값으로 먼저나오는게 나오고. 변수값으로는 나중에 나온게 UDPATE됨 \n",
    "################"
   ]
  },
  {
   "cell_type": "code",
   "execution_count": 76,
   "metadata": {
    "ExecuteTime": {
     "end_time": "2021-02-23T02:17:45.583769Z",
     "start_time": "2021-02-23T02:17:45.577783Z"
    }
   },
   "outputs": [
    {
     "name": "stdout",
     "output_type": "stream",
     "text": [
      "홍길동\t25\t010-9999-9999\t\n",
      "0번째 데이터홍길동\t1번째 데이터25\t2번째 데이터010-9999-9999\t"
     ]
    }
   ],
   "source": [
    "#my_dic = {'name':'홍길동','age':25,'tel':'010-9999-9999'}       #딕셔너리: key값으로 접근   #튜플:index로 접근\n",
    "my_list = ['홍길동',25,'010-9999-9999']\n",
    "my_tupple =('홍길동',25,'010-9999-9999')\n",
    "for data in my_list:\n",
    "    print(data, end='\\t')\n",
    "print(end='\\n') #개행 \n",
    "for idx in range(len(my_list)):\n",
    "    print(\"{}번째 데이터{}\".format(idx,my_tupple[idx]),end='\\t')"
   ]
  },
  {
   "cell_type": "code",
   "execution_count": 77,
   "metadata": {
    "ExecuteTime": {
     "end_time": "2021-02-23T02:19:38.090226Z",
     "start_time": "2021-02-23T02:19:38.086238Z"
    }
   },
   "outputs": [
    {
     "name": "stdout",
     "output_type": "stream",
     "text": [
      "name\tage\ttel\t"
     ]
    }
   ],
   "source": [
    "my_dic = {'name':'홍길동','age':25,'tel':'010-9999-9999'}     \n",
    "for data in my_dic:    #my_dic.keys() #키목록 나옴\n",
    "    print(data,end='\\t')"
   ]
  },
  {
   "cell_type": "code",
   "execution_count": 78,
   "metadata": {
    "ExecuteTime": {
     "end_time": "2021-02-23T02:20:44.228166Z",
     "start_time": "2021-02-23T02:20:44.224177Z"
    }
   },
   "outputs": [
    {
     "data": {
      "text/plain": [
       "dict_keys(['name', 'age', 'tel'])"
      ]
     },
     "execution_count": 78,
     "metadata": {},
     "output_type": "execute_result"
    }
   ],
   "source": [
    "my_dic.keys() #키목록"
   ]
  },
  {
   "cell_type": "code",
   "execution_count": 79,
   "metadata": {
    "ExecuteTime": {
     "end_time": "2021-02-23T02:20:59.782203Z",
     "start_time": "2021-02-23T02:20:59.777217Z"
    }
   },
   "outputs": [
    {
     "data": {
      "text/plain": [
       "dict_values(['홍길동', 25, '010-9999-9999'])"
      ]
     },
     "execution_count": 79,
     "metadata": {},
     "output_type": "execute_result"
    }
   ],
   "source": [
    "my_dic.values() #값들만"
   ]
  },
  {
   "cell_type": "code",
   "execution_count": 81,
   "metadata": {
    "ExecuteTime": {
     "end_time": "2021-02-23T02:21:30.851477Z",
     "start_time": "2021-02-23T02:21:30.846491Z"
    }
   },
   "outputs": [
    {
     "data": {
      "text/plain": [
       "dict_items([('name', '홍길동'), ('age', 25), ('tel', '010-9999-9999')])"
      ]
     },
     "execution_count": 81,
     "metadata": {},
     "output_type": "execute_result"
    }
   ],
   "source": [
    "my_dic.items() # 튜플로 이루어진 키값"
   ]
  },
  {
   "cell_type": "code",
   "execution_count": 84,
   "metadata": {
    "ExecuteTime": {
     "end_time": "2021-02-23T02:36:14.967685Z",
     "start_time": "2021-02-23T02:36:14.963716Z"
    }
   },
   "outputs": [
    {
     "name": "stdout",
     "output_type": "stream",
     "text": [
      "name\tage\ttel\t"
     ]
    }
   ],
   "source": [
    "for key in my_dic.keys(): #앞에 변수 내 마음대로 지정\n",
    "    print(key,end='\\t')"
   ]
  },
  {
   "cell_type": "code",
   "execution_count": 88,
   "metadata": {
    "ExecuteTime": {
     "end_time": "2021-02-23T02:37:56.662938Z",
     "start_time": "2021-02-23T02:37:56.658949Z"
    }
   },
   "outputs": [
    {
     "name": "stdout",
     "output_type": "stream",
     "text": [
      "홍길동\t25\t010-9999-9999\t"
     ]
    }
   ],
   "source": [
    "for value in my_dic.values():\n",
    "    print(value, end='\\t')"
   ]
  },
  {
   "cell_type": "code",
   "execution_count": 90,
   "metadata": {
    "ExecuteTime": {
     "end_time": "2021-02-23T02:38:06.084460Z",
     "start_time": "2021-02-23T02:38:06.080491Z"
    }
   },
   "outputs": [
    {
     "name": "stdout",
     "output_type": "stream",
     "text": [
      "('name', '홍길동')\n",
      "('age', 25)\n",
      "('tel', '010-9999-9999')\n"
     ]
    }
   ],
   "source": [
    "for item in my_dic.items():\n",
    "    print(item)"
   ]
  },
  {
   "cell_type": "code",
   "execution_count": 92,
   "metadata": {
    "ExecuteTime": {
     "end_time": "2021-02-23T02:38:18.038678Z",
     "start_time": "2021-02-23T02:38:18.034689Z"
    }
   },
   "outputs": [
    {
     "name": "stdout",
     "output_type": "stream",
     "text": [
      "name은홍길동.\tage은25.\ttel은010-9999-9999.\t"
     ]
    }
   ],
   "source": [
    "for key,value in my_dic.items():\n",
    "    print('{}은{}.'.format(key,value), end='\\t')"
   ]
  },
  {
   "cell_type": "markdown",
   "metadata": {},
   "source": [
    "**in 연산자: key가 있는지 여부 판단**          \n",
    "- #markdown에서 *로 시작하면 '<' b '>' 친거랑 같음 "
   ]
  },
  {
   "cell_type": "code",
   "execution_count": 93,
   "metadata": {
    "ExecuteTime": {
     "end_time": "2021-02-23T02:41:52.984710Z",
     "start_time": "2021-02-23T02:41:52.979744Z"
    }
   },
   "outputs": [
    {
     "data": {
      "text/plain": [
       "False"
      ]
     },
     "execution_count": 93,
     "metadata": {},
     "output_type": "execute_result"
    }
   ],
   "source": [
    "my_favorite ={'fruit':'apple', 'number':1, 'sport':'golf'}  #key가 있나 없나 봄\n",
    "'golf' in my_favorite"
   ]
  },
  {
   "cell_type": "code",
   "execution_count": 94,
   "metadata": {
    "ExecuteTime": {
     "end_time": "2021-02-23T02:42:00.215867Z",
     "start_time": "2021-02-23T02:42:00.211878Z"
    }
   },
   "outputs": [
    {
     "data": {
      "text/plain": [
       "True"
      ]
     },
     "execution_count": 94,
     "metadata": {},
     "output_type": "execute_result"
    }
   ],
   "source": [
    "'sport' in my_favorite"
   ]
  },
  {
   "cell_type": "code",
   "execution_count": 97,
   "metadata": {
    "ExecuteTime": {
     "end_time": "2021-02-23T02:47:25.590716Z",
     "start_time": "2021-02-23T02:47:25.586748Z"
    }
   },
   "outputs": [
    {
     "name": "stdout",
     "output_type": "stream",
     "text": [
      "new_my_favorite: {'fruit': 'apple', 'number': '다 좋아', 'sport': 'golf'}\n",
      "my_favorite: {'fruit': 'apple', 'number': '다 좋아', 'sport': 'golf'}\n"
     ]
    }
   ],
   "source": [
    "my_favorite\n",
    "#할당\n",
    "new_my_favorite = my_favorite\n",
    "print('new_my_favorite:',new_my_favorite)\n",
    "print('my_favorite:',my_favorite)"
   ]
  },
  {
   "cell_type": "code",
   "execution_count": 96,
   "metadata": {
    "ExecuteTime": {
     "end_time": "2021-02-23T02:44:58.011433Z",
     "start_time": "2021-02-23T02:44:58.007442Z"
    }
   },
   "outputs": [
    {
     "name": "stdout",
     "output_type": "stream",
     "text": [
      "new_my_favorite: {'fruit': 'apple', 'number': '다 좋아', 'sport': 'golf'}\n",
      "my_favorite: {'fruit': 'apple', 'number': '다 좋아', 'sport': 'golf'}\n",
      "my_favorite: 2859925627264\n",
      "my_favorite주소: 2859925627264\n"
     ]
    }
   ],
   "source": [
    "my_favorite['number'] = '다 좋아'\n",
    "print('new_my_favorite:',new_my_favorite)\n",
    "print('my_favorite:',my_favorite)\n",
    "print('my_favorite:',id(my_favorite))\n",
    "print('my_favorite주소:',id(my_favorite))"
   ]
  },
  {
   "cell_type": "code",
   "execution_count": null,
   "metadata": {},
   "outputs": [],
   "source": []
  },
  {
   "cell_type": "code",
   "execution_count": 95,
   "metadata": {
    "ExecuteTime": {
     "end_time": "2021-02-23T02:43:16.110154Z",
     "start_time": "2021-02-23T02:43:16.106146Z"
    }
   },
   "outputs": [
    {
     "name": "stdout",
     "output_type": "stream",
     "text": [
      "new_my_favorite: {'fruit': 'apple', 'number': 1, 'sport': 'golf'}\n",
      "my_favorite: {'fruit': 'apple', 'number': 1, 'sport': 'golf'}\n"
     ]
    }
   ],
   "source": [
    "my_favorite\n",
    "#복제\n",
    "new_my_favorite = my_favorite.copy()          #두 개의 값이 같은데. copy \n",
    "print('new_my_favorite:',new_my_favorite)\n",
    "print('my_favorite:',my_favorite)"
   ]
  },
  {
   "cell_type": "code",
   "execution_count": 96,
   "metadata": {
    "ExecuteTime": {
     "end_time": "2021-02-23T02:44:58.011433Z",
     "start_time": "2021-02-23T02:44:58.007442Z"
    }
   },
   "outputs": [
    {
     "name": "stdout",
     "output_type": "stream",
     "text": [
      "new_my_favorite: {'fruit': 'apple', 'number': '다 좋아', 'sport': 'golf'}\n",
      "my_favorite: {'fruit': 'apple', 'number': '다 좋아', 'sport': 'golf'}\n",
      "my_favorite: 2859925627264\n",
      "my_favorite주소: 2859925627264\n"
     ]
    }
   ],
   "source": [
    "my_favorite['number'] = '다 좋아'\n",
    "print('new_my_favorite:',new_my_favorite)\n",
    "print('my_favorite:',my_favorite)\n",
    "print('my_favorite:',id(my_favorite))\n",
    "print('my_favorite주소:',id(my_favorite))"
   ]
  },
  {
   "cell_type": "markdown",
   "metadata": {},
   "source": [
    "# 4절. 셋(set)\n",
    "- 중복 허용 하지 않는 집합 (순서x)\n",
    "- '중괄호({})'나  / 'set()함수'를 이용해서     -->  set생성 \n",
    "    ; set(딕셔너리타입의변수): 딕셔너리변수의 키값만 set에 추가 \n",
    "- 집합연산자 (&: 교집합, |: 합집합 ,  -: 차집합)"
   ]
  },
  {
   "cell_type": "code",
   "execution_count": 99,
   "metadata": {
    "ExecuteTime": {
     "end_time": "2021-02-23T02:56:17.166466Z",
     "start_time": "2021-02-23T02:56:17.161480Z"
    }
   },
   "outputs": [
    {
     "data": {
      "text/plain": [
       "{'apple', 'banana', 'orange'}"
      ]
     },
     "execution_count": 99,
     "metadata": {},
     "output_type": "execute_result"
    }
   ],
   "source": [
    "fruits = {'apple', 'orange','banana','banana'}\n",
    "fruits   #중복허용하지 않음                     ######set은 순서가 없다 "
   ]
  },
  {
   "cell_type": "code",
   "execution_count": 100,
   "metadata": {
    "ExecuteTime": {
     "end_time": "2021-02-23T02:57:03.267194Z",
     "start_time": "2021-02-23T02:57:03.262208Z"
    }
   },
   "outputs": [
    {
     "data": {
      "text/plain": [
       "{1, 2, 3}"
      ]
     },
     "execution_count": 100,
     "metadata": {},
     "output_type": "execute_result"
    }
   ],
   "source": [
    "s1 = set([1,2,3,1])    #중복허용하지 않음       \n",
    "s1"
   ]
  },
  {
   "cell_type": "code",
   "execution_count": 102,
   "metadata": {
    "ExecuteTime": {
     "end_time": "2021-02-23T02:57:38.592085Z",
     "start_time": "2021-02-23T02:57:38.587099Z"
    }
   },
   "outputs": [
    {
     "data": {
      "text/plain": [
       "{1, 2, 3, 4}"
      ]
     },
     "execution_count": 102,
     "metadata": {},
     "output_type": "execute_result"
    }
   ],
   "source": [
    "s1.add(4)\n",
    "s1.add(1)\n",
    "s1"
   ]
  },
  {
   "cell_type": "code",
   "execution_count": 104,
   "metadata": {
    "ExecuteTime": {
     "end_time": "2021-02-23T02:58:15.746552Z",
     "start_time": "2021-02-23T02:58:15.741565Z"
    }
   },
   "outputs": [
    {
     "data": {
      "text/plain": [
       "{(5, 6, 7, 8, 9), 1, 2, 3, 4}"
      ]
     },
     "execution_count": 104,
     "metadata": {},
     "output_type": "execute_result"
    }
   ],
   "source": [
    "s1.add( (5,6,7,8,9) )         ######set은 순서가 없다 \n",
    "s1"
   ]
  },
  {
   "cell_type": "code",
   "execution_count": 105,
   "metadata": {
    "ExecuteTime": {
     "end_time": "2021-02-23T02:59:43.080739Z",
     "start_time": "2021-02-23T02:59:43.072760Z"
    }
   },
   "outputs": [
    {
     "ename": "TypeError",
     "evalue": "unhashable type: 'list'",
     "output_type": "error",
     "traceback": [
      "\u001b[1;31m---------------------------------------------------------------------------\u001b[0m",
      "\u001b[1;31mTypeError\u001b[0m                                 Traceback (most recent call last)",
      "\u001b[1;32m<ipython-input-105-f4c2dca3a5f3>\u001b[0m in \u001b[0;36m<module>\u001b[1;34m\u001b[0m\n\u001b[1;32m----> 1\u001b[1;33m \u001b[0ms1\u001b[0m\u001b[1;33m.\u001b[0m\u001b[0madd\u001b[0m\u001b[1;33m(\u001b[0m\u001b[1;33m[\u001b[0m\u001b[1;36m10\u001b[0m\u001b[1;33m,\u001b[0m\u001b[1;36m11\u001b[0m\u001b[1;33m]\u001b[0m\u001b[1;33m)\u001b[0m  \u001b[1;31m#add함수는 list인수를 받지 않음\u001b[0m\u001b[1;33m\u001b[0m\u001b[1;33m\u001b[0m\u001b[0m\n\u001b[0m",
      "\u001b[1;31mTypeError\u001b[0m: unhashable type: 'list'"
     ]
    }
   ],
   "source": [
    "s1.add([10,11])               #add함수는 list인수를 받지 않음 \n"
   ]
  },
  {
   "cell_type": "code",
   "execution_count": 106,
   "metadata": {
    "ExecuteTime": {
     "end_time": "2021-02-23T03:00:07.041767Z",
     "start_time": "2021-02-23T03:00:07.033809Z"
    }
   },
   "outputs": [
    {
     "ename": "TypeError",
     "evalue": "unhashable type: 'dict'",
     "output_type": "error",
     "traceback": [
      "\u001b[1;31m---------------------------------------------------------------------------\u001b[0m",
      "\u001b[1;31mTypeError\u001b[0m                                 Traceback (most recent call last)",
      "\u001b[1;32m<ipython-input-106-01ac46932594>\u001b[0m in \u001b[0;36m<module>\u001b[1;34m\u001b[0m\n\u001b[1;32m----> 1\u001b[1;33m \u001b[0ms1\u001b[0m\u001b[1;33m.\u001b[0m\u001b[0madd\u001b[0m\u001b[1;33m(\u001b[0m\u001b[1;33m{\u001b[0m\u001b[1;34m'name'\u001b[0m\u001b[1;33m:\u001b[0m\u001b[1;34m'Kil'\u001b[0m\u001b[1;33m}\u001b[0m\u001b[1;33m)\u001b[0m        \u001b[1;31m#add함수는 dictionary 인수 불가\u001b[0m\u001b[1;33m\u001b[0m\u001b[1;33m\u001b[0m\u001b[0m\n\u001b[0m",
      "\u001b[1;31mTypeError\u001b[0m: unhashable type: 'dict'"
     ]
    }
   ],
   "source": [
    "s1.add({'name':'Kil'})        #add함수는 dictionary 인수 불가"
   ]
  },
  {
   "cell_type": "code",
   "execution_count": 109,
   "metadata": {
    "ExecuteTime": {
     "end_time": "2021-02-23T03:00:53.514732Z",
     "start_time": "2021-02-23T03:00:53.508774Z"
    }
   },
   "outputs": [
    {
     "data": {
      "text/plain": [
       "{1, 2, 3, 4, 5, 6, 7, 8, 9}"
      ]
     },
     "execution_count": 109,
     "metadata": {},
     "output_type": "execute_result"
    }
   ],
   "source": [
    "s1 = {1,2,3,4}\n",
    "s1.update([5,6,7,8,9])\n",
    "s1"
   ]
  },
  {
   "cell_type": "code",
   "execution_count": 113,
   "metadata": {
    "ExecuteTime": {
     "end_time": "2021-02-23T03:02:15.400665Z",
     "start_time": "2021-02-23T03:02:15.395679Z"
    }
   },
   "outputs": [
    {
     "data": {
      "text/plain": [
       "{1, 2, 3, 4, 5, 6, 7, 8, 9, 'name'}"
      ]
     },
     "execution_count": 113,
     "metadata": {},
     "output_type": "execute_result"
    }
   ],
   "source": [
    "s1.update({'name': 'kildong'})  #딕셔너리는 'key값만' 추가   (value내용 안들어감)\n",
    "s1 "
   ]
  },
  {
   "cell_type": "code",
   "execution_count": 114,
   "metadata": {
    "ExecuteTime": {
     "end_time": "2021-02-23T03:02:44.309522Z",
     "start_time": "2021-02-23T03:02:44.304556Z"
    }
   },
   "outputs": [
    {
     "data": {
      "text/plain": [
       "{1, 2, 3, 4, 5, 6, 7, 8, 9}"
      ]
     },
     "execution_count": 114,
     "metadata": {},
     "output_type": "execute_result"
    }
   ],
   "source": [
    "s1.remove('name') #특정 요소 삭제 (없는 데이터일 경우 error)\n",
    "s1"
   ]
  },
  {
   "cell_type": "code",
   "execution_count": 115,
   "metadata": {
    "ExecuteTime": {
     "end_time": "2021-02-23T03:03:39.206683Z",
     "start_time": "2021-02-23T03:03:39.202675Z"
    }
   },
   "outputs": [
    {
     "data": {
      "text/plain": [
       "{0, True}"
      ]
     },
     "execution_count": 115,
     "metadata": {},
     "output_type": "execute_result"
    }
   ],
   "source": [
    "s1 = {0,False,True,1}   #key값. 따라서 뒤에 있는 False, 뒤에 있는1이 없어짐   #False와 0, True와1을 같은 값으로 간주\n",
    "s1"
   ]
  },
  {
   "cell_type": "code",
   "execution_count": 117,
   "metadata": {
    "ExecuteTime": {
     "end_time": "2021-02-23T03:05:16.796641Z",
     "start_time": "2021-02-23T03:05:16.790676Z"
    }
   },
   "outputs": [
    {
     "data": {
      "text/plain": [
       "({1, 2, 3, 4, 5, 6}, {4, 5, 6, 7, 8, 9})"
      ]
     },
     "execution_count": 117,
     "metadata": {},
     "output_type": "execute_result"
    }
   ],
   "source": [
    "s1 = {1,2,3,4,5,6}\n",
    "s2 = {4,5,6,7,8,9}\n",
    "s1,s2"
   ]
  },
  {
   "cell_type": "code",
   "execution_count": 118,
   "metadata": {
    "ExecuteTime": {
     "end_time": "2021-02-23T03:05:47.412642Z",
     "start_time": "2021-02-23T03:05:47.408651Z"
    }
   },
   "outputs": [
    {
     "data": {
      "text/plain": [
       "{1, 2, 3, 4, 5, 6, 7, 8, 9}"
      ]
     },
     "execution_count": 118,
     "metadata": {},
     "output_type": "execute_result"
    }
   ],
   "source": [
    "# 합집합    (or)\n",
    "s1 | s2"
   ]
  },
  {
   "cell_type": "code",
   "execution_count": 119,
   "metadata": {
    "ExecuteTime": {
     "end_time": "2021-02-23T03:06:00.274577Z",
     "start_time": "2021-02-23T03:06:00.270609Z"
    }
   },
   "outputs": [
    {
     "data": {
      "text/plain": [
       "{4, 5, 6}"
      ]
     },
     "execution_count": 119,
     "metadata": {},
     "output_type": "execute_result"
    }
   ],
   "source": [
    "# 교집합    (양쪽 중복된/같은 부분)\n",
    "s1 & s2"
   ]
  },
  {
   "cell_type": "code",
   "execution_count": 120,
   "metadata": {
    "ExecuteTime": {
     "end_time": "2021-02-23T03:06:27.639066Z",
     "start_time": "2021-02-23T03:06:27.635097Z"
    }
   },
   "outputs": [
    {
     "data": {
      "text/plain": [
       "{1, 2, 3}"
      ]
     },
     "execution_count": 120,
     "metadata": {},
     "output_type": "execute_result"
    }
   ],
   "source": [
    "# 차집합\n",
    "s1 -s2"
   ]
  },
  {
   "cell_type": "code",
   "execution_count": 122,
   "metadata": {
    "ExecuteTime": {
     "end_time": "2021-02-23T03:07:43.319026Z",
     "start_time": "2021-02-23T03:07:43.315036Z"
    }
   },
   "outputs": [
    {
     "name": "stdout",
     "output_type": "stream",
     "text": [
      "sunja\tkildong\tkilja\t"
     ]
    }
   ],
   "source": [
    "names= {'kildong','kilja','sunja'}  #이 순서 안지키고 나올 수 있음   \n",
    "                                    #value만 있으면 -->set   #key,value -->dictionary \n",
    "for name in names:\n",
    "    print(name,end='\\t')"
   ]
  },
  {
   "cell_type": "markdown",
   "metadata": {},
   "source": [
    "# 5절. enumerate\n",
    "- 반복분에 index 부여\n",
    "- 반복자 또는 순서 객체로 '반복문을 처리'할 때 'index 처리를 해결'  (enumerate는'반복문'에서만 쓰인다) "
   ]
  },
  {
   "cell_type": "code",
   "execution_count": 125,
   "metadata": {
    "ExecuteTime": {
     "end_time": "2021-02-23T03:13:52.312737Z",
     "start_time": "2021-02-23T03:13:52.307746Z"
    }
   },
   "outputs": [
    {
     "data": {
      "text/plain": [
       "[(0, 'sunja'), (1, 'kildong'), (2, 'kilja')]"
      ]
     },
     "execution_count": 125,
     "metadata": {},
     "output_type": "execute_result"
    }
   ],
   "source": [
    "list(enumerate(names))"
   ]
  },
  {
   "cell_type": "code",
   "execution_count": 126,
   "metadata": {
    "ExecuteTime": {
     "end_time": "2021-02-23T03:15:07.410700Z",
     "start_time": "2021-02-23T03:15:07.407723Z"
    }
   },
   "outputs": [
    {
     "name": "stdout",
     "output_type": "stream",
     "text": [
      "0번째 이름:sunja\n",
      "1번째 이름:kildong\n",
      "2번째 이름:kilja\n"
     ]
    }
   ],
   "source": [
    "for idx, name in enumerate(names):    #반복분에 index 부여\n",
    "    print('{}번째 이름:{}'.format(idx,name))"
   ]
  },
  {
   "cell_type": "code",
   "execution_count": 130,
   "metadata": {
    "ExecuteTime": {
     "end_time": "2021-02-23T03:25:52.760179Z",
     "start_time": "2021-02-23T03:25:52.756217Z"
    }
   },
   "outputs": [
    {
     "name": "stdout",
     "output_type": "stream",
     "text": [
      "0번째 이름은길자\n",
      "1번째 이름은순자\n",
      "2번째 이름은길동\n"
     ]
    }
   ],
   "source": [
    "L = ['길자','순자','길동']                       # [] 은 list   \n",
    "for idx in range(len(L)):\n",
    "    print('{}번째 이름은{}'.format(idx,L[idx]))"
   ]
  },
  {
   "cell_type": "code",
   "execution_count": 132,
   "metadata": {
    "ExecuteTime": {
     "end_time": "2021-02-23T03:26:02.612964Z",
     "start_time": "2021-02-23T03:26:02.608974Z"
    }
   },
   "outputs": [
    {
     "data": {
      "text/plain": [
       "[(0, '길자'), (1, '순자'), (2, '길동')]"
      ]
     },
     "execution_count": 132,
     "metadata": {},
     "output_type": "execute_result"
    }
   ],
   "source": [
    "list(enumerate(L))"
   ]
  },
  {
   "cell_type": "code",
   "execution_count": 129,
   "metadata": {
    "ExecuteTime": {
     "end_time": "2021-02-23T03:19:55.176548Z",
     "start_time": "2021-02-23T03:19:55.172558Z"
    }
   },
   "outputs": [
    {
     "name": "stdout",
     "output_type": "stream",
     "text": [
      "0번째: 길자\n",
      "1번째: 순자\n",
      "2번째: 길동\n"
     ]
    }
   ],
   "source": [
    "for idx, names in enumerate(L):               #idx은 몇번째 방.   names변수 선언을 여기서 함 \n",
    "    print('{}번째: {}'.format(idx,names))  "
   ]
  },
  {
   "cell_type": "code",
   "execution_count": 133,
   "metadata": {
    "ExecuteTime": {
     "end_time": "2021-02-23T03:34:16.157580Z",
     "start_time": "2021-02-23T03:34:16.152598Z"
    }
   },
   "outputs": [
    {
     "data": {
      "text/plain": [
       "[(0, ('name', '홍길동')), (1, ('age', 35)), (2, ('address', '마포'))]"
      ]
     },
     "execution_count": 133,
     "metadata": {},
     "output_type": "execute_result"
    }
   ],
   "source": [
    "dic = {\"name\":\"홍길동\", \"age\":35, \"address\":\"마포\"}\n",
    "list(enumerate(dic.items()))"
   ]
  },
  {
   "cell_type": "code",
   "execution_count": 137,
   "metadata": {
    "ExecuteTime": {
     "end_time": "2021-02-23T03:37:11.447435Z",
     "start_time": "2021-02-23T03:37:11.443467Z"
    }
   },
   "outputs": [
    {
     "name": "stdout",
     "output_type": "stream",
     "text": [
      "0번째 키는name, 값은 홍길동 \n",
      "1번째 키는age, 값은 35 \n",
      "2번째 키는address, 값은 마포 \n"
     ]
    }
   ],
   "source": [
    "for idx, (key, value) in enumerate(dic.items()):\n",
    "    print(\"{}번째 키는{}, 값은 {}\".format(idx,key,value))"
   ]
  },
  {
   "cell_type": "code",
   "execution_count": null,
   "metadata": {},
   "outputs": [],
   "source": [
    "#1. 다음 코드를 실행했을 때 출력되는 것은?\n",
    "#L1 = (“orange”,”apple”,”banana”,”kiwi”)\n",
    "#new_list = [i for i in L1 if len(i)>5]\n",
    "#print(new_list)\n",
    "\n",
    "#출력결과: organge, banana\n",
    "L1 = (“orange”,”apple”,”banana”,”kiwi”)\n"
   ]
  },
  {
   "cell_type": "code",
   "execution_count": null,
   "metadata": {},
   "outputs": [],
   "source": [
    "#2. 다음 코드와 실행결과가 잘못 짝지어진 것은?\n",
    "#① print(list(range(10)) - [0,1,2,3,4,5,6,7,8,9]\n",
    "#② print(list(range(5,10)) - [5,6,7,8,9]\n",
    "#③ print(list(range(10,0,-1))) - [9,8,7,6,5,4,3,2,1,0]  (x)  10부터1까지\n",
    "#④ print(list(range(10,20,2))) – [10,12,14,16,18]"
   ]
  },
  {
   "cell_type": "code",
   "execution_count": null,
   "metadata": {},
   "outputs": [],
   "source": [
    "#3. 다음 구문에 의해 출력되는 것은?\n",
    "numbers_2d = [ [1,2,3,4,5], [10,20,30,40],[1,3,5],[2,] ]\n",
    "len(numbers_2d[3])"
   ]
  },
  {
   "cell_type": "code",
   "execution_count": null,
   "metadata": {},
   "outputs": [],
   "source": [
    "#3. 다음 구문에 의해 출력되는 것은?\n",
    "#numbers_2d = [ [1,2,3,4,5], [10,20,30,40],[1,3,5],[2,] ]\n",
    "#len(numbers_2d[3])       \n",
    "\n",
    "# 3번쨰 아이의 length\n",
    "#따라서 답:1"
   ]
  },
  {
   "cell_type": "code",
   "execution_count": null,
   "metadata": {},
   "outputs": [],
   "source": [
    "#append 안됨 뒤에 list로 들어와야\n",
    "\n",
    "\n",
    "#4. 다음 코드의 실행결과가 나올 수 있는 빈칸에 들어갈 함수 이름은?\n",
    "#numbers = [1,2,3,4,5]\n",
    "#numbers.__________([10,20,30,40,50])\n",
    "#numbers\n",
    "#결과 : [1,2,3,4,510,20,30,40,50]              #########3"
   ]
  },
  {
   "cell_type": "code",
   "execution_count": null,
   "metadata": {},
   "outputs": [],
   "source": [
    "#5. 다음 구문을 실행할 때 결과는 ?\n",
    "#numbers = list(range(10))\n",
    "#numbers[ : : 2]= 0\n",
    "# print(numbers)\n",
    "\n",
    "#짝수번째만 0으로 뺌"
   ]
  },
  {
   "cell_type": "code",
   "execution_count": 138,
   "metadata": {
    "ExecuteTime": {
     "end_time": "2021-02-23T03:44:08.312870Z",
     "start_time": "2021-02-23T03:44:08.308880Z"
    }
   },
   "outputs": [
    {
     "name": "stdout",
     "output_type": "stream",
     "text": [
      "[5, 1, 6, 3, 7, 5, 8, 7, 9, 9]\n"
     ]
    }
   ],
   "source": [
    "#6. 다음 구문을 실행할 때 결과는 ?\n",
    "#numbers = [0,1,2,3,4,5,6,7,8,9]\n",
    "#numbers[ : : 2]= numbers[5:]\n",
    "#print(numbers)\n",
    "\n",
    "#0,2,4,6,8번째 방  숫자 변환 \n",
    "# 결과:[5, 1, 6, 3, 7, 5, 8, 7, 9, 9]\n",
    "\n",
    "numbers = [0,1,2,3,4,5,6,7,8,9]\n",
    "numbers[ : : 2]= numbers[5:]\n",
    "print(numbers)\n",
    "\n"
   ]
  },
  {
   "cell_type": "code",
   "execution_count": 139,
   "metadata": {
    "ExecuteTime": {
     "end_time": "2021-02-23T03:45:22.972309Z",
     "start_time": "2021-02-23T03:45:22.967322Z"
    }
   },
   "outputs": [
    {
     "ename": "SyntaxError",
     "evalue": "invalid character in identifier (<ipython-input-139-76ab1c135c26>, line 9)",
     "output_type": "error",
     "traceback": [
      "\u001b[1;36m  File \u001b[1;32m\"<ipython-input-139-76ab1c135c26>\"\u001b[1;36m, line \u001b[1;32m9\u001b[0m\n\u001b[1;33m    my_dic = {“a”:10, “b”:20, “c”:30}\u001b[0m\n\u001b[1;37m                ^\u001b[0m\n\u001b[1;31mSyntaxError\u001b[0m\u001b[1;31m:\u001b[0m invalid character in identifier\n"
     ]
    }
   ],
   "source": [
    "#8. 다음 데이터에서 10을 출력할 수 없는 구문은?\n",
    "#my_dic = {“a”:10, “b”:20, “c”:30}\n",
    "#① my_dic[0]         (x)  이렇게 하면 key vlue인 a가 나옴  (x)  key값으로 access    //답이 하나아닌 아이도 있음, 하나도 있고 \n",
    "#② my_dic[‘a’]\n",
    "#③ list(my_dic.items())[0][1]\n",
    "#④ list(my_dic.values())[0]\n",
    "#⑤ my_dic.get(‘a’)\n",
    "\n",
    "my_dic = {“a”:10, “b”:20, “c”:30}\n",
    "my_dic[0]"
   ]
  },
  {
   "cell_type": "code",
   "execution_count": null,
   "metadata": {},
   "outputs": [],
   "source": []
  },
  {
   "cell_type": "code",
   "execution_count": 1,
   "metadata": {
    "ExecuteTime": {
     "end_time": "2021-02-23T03:55:37.374213Z",
     "start_time": "2021-02-23T03:55:37.364261Z"
    }
   },
   "outputs": [
    {
     "data": {
      "text/plain": [
       "[1, 2, 3, 4, 5, 6, 7, 8, 9, 10, 100]"
      ]
     },
     "execution_count": 1,
     "metadata": {},
     "output_type": "execute_result"
    }
   ],
   "source": [
    "# ch3 연습문제  p26\n",
    "\n",
    "# 다음 리스트가 주어졌을 경우 요구사항대로 코드를 작성하시오\n",
    "numbers = [1,2,3,4,5,6,7,8,9,10]\n",
    "\n",
    "\n",
    "#1. 숫자 100을 맨 뒤에 추가하세요\n",
    "numbers.append(100)\n",
    "numbers\n",
    "\n"
   ]
  },
  {
   "cell_type": "code",
   "execution_count": 2,
   "metadata": {
    "ExecuteTime": {
     "end_time": "2021-02-23T03:55:41.900058Z",
     "start_time": "2021-02-23T03:55:41.894094Z"
    }
   },
   "outputs": [
    {
     "data": {
      "text/plain": [
       "[1, 2, 3, 4, 5, 6, 7, 8, 9, 10, 100, 200, 300, 400, 500]"
      ]
     },
     "execution_count": 2,
     "metadata": {},
     "output_type": "execute_result"
    }
   ],
   "source": [
    "#2. 다음 리스트를 numbers리스트 맨 뒤에 추가하세요\n",
    "\n",
    "data = [200,300,400,500]\n",
    "numbers.extend(data)    #()괄호 필요\n",
    "print('2번 결과 :',numbers)\n",
    "\n"
   ]
  },
  {
   "cell_type": "code",
   "execution_count": 3,
   "metadata": {
    "ExecuteTime": {
     "end_time": "2021-02-23T03:55:44.701259Z",
     "start_time": "2021-02-23T03:55:44.698255Z"
    }
   },
   "outputs": [
    {
     "data": {
      "text/plain": [
       "[1, 2, 3, 4, 5]"
      ]
     },
     "execution_count": 3,
     "metadata": {},
     "output_type": "execute_result"
    }
   ],
   "source": [
    "#3. 처음 다섯 개 숫자만 출력하세요\n",
    "numbers[0:5]\n",
    "\n",
    "\n"
   ]
  },
  {
   "cell_type": "code",
   "execution_count": 4,
   "metadata": {
    "ExecuteTime": {
     "end_time": "2021-02-23T03:55:46.438673Z",
     "start_time": "2021-02-23T03:55:46.434672Z"
    }
   },
   "outputs": [
    {
     "data": {
      "text/plain": [
       "[1, 3, 5, 7, 9, 100, 300, 500]"
      ]
     },
     "execution_count": 4,
     "metadata": {},
     "output_type": "execute_result"
    }
   ],
   "source": [
    "#4. 리스트에서 짝수 번째 데이터만 출력하세요\n",
    "numbers[::2] \n",
    "\n",
    "\n"
   ]
  },
  {
   "cell_type": "code",
   "execution_count": 17,
   "metadata": {
    "ExecuteTime": {
     "end_time": "2021-02-23T04:01:54.203349Z",
     "start_time": "2021-02-23T04:01:54.199360Z"
    }
   },
   "outputs": [
    {
     "name": "stdout",
     "output_type": "stream",
     "text": [
      "[0, 1, 0, 3, 0, 5, 0, 7, 0, 9, 0, 11, 0, 13, 0]\n"
     ]
    }
   ],
   "source": [
    "#5. 짝수번째 데이터를 모두 0으로 바꾸세요\n",
    "\n",
    "numbers[::2]  = [0] *len(numbers[::2] )\n",
    "print(numbers)\n",
    "\n",
    "\n"
   ]
  },
  {
   "cell_type": "code",
   "execution_count": 18,
   "metadata": {
    "ExecuteTime": {
     "end_time": "2021-02-23T04:02:24.443263Z",
     "start_time": "2021-02-23T04:02:24.438276Z"
    }
   },
   "outputs": [
    {
     "data": {
      "text/plain": [
       "[0, 13, 0, 11, 0, 9, 0, 7, 0, 5, 0, 3, 0, 1, 0]"
      ]
     },
     "execution_count": 18,
     "metadata": {},
     "output_type": "execute_result"
    }
   ],
   "source": [
    "#6. 데이터를 역순으로 나열하세요(내림차순 정렬이 아닙니다)\n",
    "# 다음 딕셔너리 데이터가 주어졌을 경우 요구사항대로 코드를 작성하세요.\n",
    "#member_info = {“name”:”홍길동”, “age”:20,”address”:”서울시 마포구“,“score”:90}\n",
    "\n",
    "numbers[::-1]\n",
    "\n",
    "\n"
   ]
  },
  {
   "cell_type": "code",
   "execution_count": 54,
   "metadata": {
    "ExecuteTime": {
     "end_time": "2021-02-23T04:18:32.597626Z",
     "start_time": "2021-02-23T04:18:32.592658Z"
    }
   },
   "outputs": [
    {
     "data": {
      "text/plain": [
       "'서울시 마포구'"
      ]
     },
     "execution_count": 54,
     "metadata": {},
     "output_type": "execute_result"
    }
   ],
   "source": [
    "#7. address값을 출력하세요\n",
    "member_info = {\"name\":\"홍길동\", \"age\":20, \"address\":\"서울시 마포구\",\"score\":90}\n",
    "member_info['address']\n"
   ]
  },
  {
   "cell_type": "code",
   "execution_count": 55,
   "metadata": {
    "ExecuteTime": {
     "end_time": "2021-02-23T04:18:34.007701Z",
     "start_time": "2021-02-23T04:18:34.002714Z"
    }
   },
   "outputs": [
    {
     "data": {
      "text/plain": [
       "90"
      ]
     },
     "execution_count": 55,
     "metadata": {},
     "output_type": "execute_result"
    }
   ],
   "source": [
    "#8. score 를 축력하고 member_info 딕셔너리에서 삭제하세요\n",
    "member_info['score']       #질문: .pop 왜 안되는지??\n"
   ]
  },
  {
   "cell_type": "code",
   "execution_count": 56,
   "metadata": {
    "ExecuteTime": {
     "end_time": "2021-02-23T05:33:45.936187Z",
     "start_time": "2021-02-23T05:33:45.932197Z"
    }
   },
   "outputs": [
    {
     "name": "stdout",
     "output_type": "stream",
     "text": [
      "{'name': '홍길동', 'age': 20, 'address': '서울시 마포구'}\n"
     ]
    }
   ],
   "source": [
    "#8. score 를 축력하고 member_info 딕셔너리에서 삭제하세요\n",
    "del member_info['score']\n",
    "print(member_info)"
   ]
  },
  {
   "cell_type": "code",
   "execution_count": 57,
   "metadata": {
    "ExecuteTime": {
     "end_time": "2021-02-23T05:33:47.618461Z",
     "start_time": "2021-02-23T05:33:47.614498Z"
    }
   },
   "outputs": [
    {
     "name": "stdout",
     "output_type": "stream",
     "text": [
      "9번 확인 : {'name': '홍길동', 'age': 20, 'address': '서울시 서대문구'}\n"
     ]
    }
   ],
   "source": [
    "#9. Address를 “서울시 서대문구”로 변경하세요.\n",
    "member_info['address'] ='서울시 서대문구'\n",
    "print('9번 확인 :', member_info)\n",
    "\n"
   ]
  },
  {
   "cell_type": "code",
   "execution_count": 58,
   "metadata": {
    "ExecuteTime": {
     "end_time": "2021-02-23T05:33:49.463239Z",
     "start_time": "2021-02-23T05:33:49.458252Z"
    }
   },
   "outputs": [
    {
     "data": {
      "text/plain": [
       "['홍길동', 20, '서울시 서대문구']"
      ]
     },
     "execution_count": 58,
     "metadata": {},
     "output_type": "execute_result"
    }
   ],
   "source": [
    "#10. member_info 딕셔너리 데이터의 값을 리스트로 출력하세요\n",
    "\n",
    "\n",
    "list(member_info.values())"
   ]
  },
  {
   "cell_type": "code",
   "execution_count": null,
   "metadata": {},
   "outputs": [],
   "source": []
  },
  {
   "cell_type": "code",
   "execution_count": null,
   "metadata": {},
   "outputs": [],
   "source": []
  },
  {
   "cell_type": "code",
   "execution_count": null,
   "metadata": {},
   "outputs": [],
   "source": []
  },
  {
   "cell_type": "code",
   "execution_count": null,
   "metadata": {},
   "outputs": [],
   "source": []
  },
  {
   "cell_type": "code",
   "execution_count": null,
   "metadata": {},
   "outputs": [],
   "source": []
  },
  {
   "cell_type": "code",
   "execution_count": null,
   "metadata": {},
   "outputs": [],
   "source": []
  },
  {
   "cell_type": "code",
   "execution_count": null,
   "metadata": {},
   "outputs": [],
   "source": []
  }
 ],
 "metadata": {
  "kernelspec": {
   "display_name": "Python 3",
   "language": "python",
   "name": "python3"
  },
  "language_info": {
   "codemirror_mode": {
    "name": "ipython",
    "version": 3
   },
   "file_extension": ".py",
   "mimetype": "text/x-python",
   "name": "python",
   "nbconvert_exporter": "python",
   "pygments_lexer": "ipython3",
   "version": "3.8.5"
  },
  "toc": {
   "base_numbering": 1,
   "nav_menu": {},
   "number_sections": false,
   "sideBar": true,
   "skip_h1_title": false,
   "title_cell": "Table of Contents",
   "title_sidebar": "Contents",
   "toc_cell": false,
   "toc_position": {},
   "toc_section_display": true,
   "toc_window_display": true
  },
  "varInspector": {
   "cols": {
    "lenName": 16,
    "lenType": 16,
    "lenVar": 40
   },
   "kernels_config": {
    "python": {
     "delete_cmd_postfix": "",
     "delete_cmd_prefix": "del ",
     "library": "var_list.py",
     "varRefreshCmd": "print(var_dic_list())"
    },
    "r": {
     "delete_cmd_postfix": ") ",
     "delete_cmd_prefix": "rm(",
     "library": "var_list.r",
     "varRefreshCmd": "cat(var_dic_list()) "
    }
   },
   "position": {
    "height": "409.716px",
    "left": "1030.55px",
    "right": "20px",
    "top": "124px",
    "width": "350px"
   },
   "types_to_exclude": [
    "module",
    "function",
    "builtin_function_or_method",
    "instance",
    "_Feature"
   ],
   "window_display": false
  }
 },
 "nbformat": 4,
 "nbformat_minor": 4
}

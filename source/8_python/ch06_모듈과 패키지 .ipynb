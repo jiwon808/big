{
 "cells": [
  {
   "cell_type": "markdown",
   "metadata": {},
   "source": [
    "# 1절. 모듈 사용하기 \n",
    "- 파이썬 모듈은 파이썬 정의와 문장을 담고 있는 파일 (함수, 변수, 클래스가 있는 *py.파일)\n",
    "- 200 여개의 파이썬 모듈이 파이썬 인터프리터에 포함 "
   ]
  },
  {
   "cell_type": "code",
   "execution_count": 1,
   "metadata": {
    "ExecuteTime": {
     "end_time": "2021-02-25T03:49:36.338713Z",
     "start_time": "2021-02-25T03:49:36.328751Z"
    }
   },
   "outputs": [
    {
     "data": {
      "text/plain": [
       "'Thu Feb 25 12:49:36 2021'"
      ]
     },
     "execution_count": 1,
     "metadata": {},
     "output_type": "execute_result"
    }
   ],
   "source": [
    "# import 모듈명; 모듈 안의 함수를 모두 사용 할 수 있다 \n",
    "import time  #time 모듈안 함수, 변수, 클래스 사용 \n",
    "time.ctime()  # local시간을 가져옴"
   ]
  },
  {
   "cell_type": "code",
   "execution_count": 2,
   "metadata": {
    "ExecuteTime": {
     "end_time": "2021-02-25T03:50:05.018276Z",
     "start_time": "2021-02-25T03:50:05.013289Z"
    }
   },
   "outputs": [
    {
     "data": {
      "text/plain": [
       "1614225005.0142877"
      ]
     },
     "execution_count": 2,
     "metadata": {},
     "output_type": "execute_result"
    }
   ],
   "source": [
    "time.time() #unixtime(1970년 이후 밀리세컨)"
   ]
  },
  {
   "cell_type": "code",
   "execution_count": 3,
   "metadata": {
    "ExecuteTime": {
     "end_time": "2021-02-25T03:52:29.633449Z",
     "start_time": "2021-02-25T03:52:29.629451Z"
    }
   },
   "outputs": [],
   "source": [
    "del time #time 모듈을 메모리에서 unload"
   ]
  },
  {
   "cell_type": "code",
   "execution_count": 5,
   "metadata": {
    "ExecuteTime": {
     "end_time": "2021-02-25T03:55:02.507197Z",
     "start_time": "2021-02-25T03:55:02.503202Z"
    }
   },
   "outputs": [
    {
     "data": {
      "text/plain": [
       "'Thu Feb 25 12:55:02 2021'"
      ]
     },
     "execution_count": 5,
     "metadata": {},
     "output_type": "execute_result"
    }
   ],
   "source": [
    "#2. from 모듈명   import 함수명  \n",
    "#   from 패키지명 import 모듈명 (패키지 --> 디렉토리,  모듈 --> .py파일)\n",
    "from time import ctime   # 이 단계를 했으면, 다음 단계에서  time.ctime() 대신  ctime()바로 사용 가능 \n",
    "ctime() "
   ]
  },
  {
   "cell_type": "code",
   "execution_count": 6,
   "metadata": {
    "ExecuteTime": {
     "end_time": "2021-02-25T03:56:01.446059Z",
     "start_time": "2021-02-25T03:56:01.443067Z"
    }
   },
   "outputs": [],
   "source": [
    "del ctime # 메모리에 있는 ctime 함수를 unload"
   ]
  },
  {
   "cell_type": "code",
   "execution_count": 7,
   "metadata": {
    "ExecuteTime": {
     "end_time": "2021-02-25T03:56:05.477412Z",
     "start_time": "2021-02-25T03:56:05.288917Z"
    }
   },
   "outputs": [
    {
     "ename": "NameError",
     "evalue": "name 'ctime' is not defined",
     "output_type": "error",
     "traceback": [
      "\u001b[1;31m---------------------------------------------------------------------------\u001b[0m",
      "\u001b[1;31mNameError\u001b[0m                                 Traceback (most recent call last)",
      "\u001b[1;32m<ipython-input-7-11e6360c28b8>\u001b[0m in \u001b[0;36m<module>\u001b[1;34m\u001b[0m\n\u001b[1;32m----> 1\u001b[1;33m \u001b[0mctime\u001b[0m\u001b[1;33m(\u001b[0m\u001b[1;33m)\u001b[0m\u001b[1;33m\u001b[0m\u001b[1;33m\u001b[0m\u001b[0m\n\u001b[0m",
      "\u001b[1;31mNameError\u001b[0m: name 'ctime' is not defined"
     ]
    }
   ],
   "source": [
    "ctime()"
   ]
  },
  {
   "cell_type": "code",
   "execution_count": 9,
   "metadata": {
    "ExecuteTime": {
     "end_time": "2021-02-25T03:58:23.911719Z",
     "start_time": "2021-02-25T03:58:23.906731Z"
    }
   },
   "outputs": [
    {
     "data": {
      "text/plain": [
       "'Thu Feb 25 12:58:23 2021'"
      ]
     },
     "execution_count": 9,
     "metadata": {},
     "output_type": "execute_result"
    }
   ],
   "source": [
    "#3. import 모듈명 as 별칭: 모듈명을 메로미에 load하고 / 별칭으로 사용\n",
    "import time as t \n",
    "t.ctime()"
   ]
  },
  {
   "cell_type": "code",
   "execution_count": 10,
   "metadata": {
    "ExecuteTime": {
     "end_time": "2021-02-25T03:59:47.351799Z",
     "start_time": "2021-02-25T03:59:47.347808Z"
    }
   },
   "outputs": [],
   "source": [
    "del t"
   ]
  },
  {
   "cell_type": "code",
   "execution_count": 12,
   "metadata": {
    "ExecuteTime": {
     "end_time": "2021-02-25T04:05:02.782289Z",
     "start_time": "2021-02-25T04:05:02.777302Z"
    }
   },
   "outputs": [
    {
     "data": {
      "text/plain": [
       "'Thu Feb 25 13:05:02 2021'"
      ]
     },
     "execution_count": 12,
     "metadata": {},
     "output_type": "execute_result"
    }
   ],
   "source": [
    "# 4.from 모듈명 import 함수명    as별칭\n",
    "#   from 패키지명 import 모듈명  as 별칭\n",
    "#   from 패키지명. 모듈명 import 함수명 as 별칭 \n",
    "\n",
    "from time import ctime as ct\n",
    "ct()\n",
    "\n",
    "\n"
   ]
  },
  {
   "cell_type": "code",
   "execution_count": 13,
   "metadata": {
    "ExecuteTime": {
     "end_time": "2021-02-25T04:05:05.501502Z",
     "start_time": "2021-02-25T04:05:05.498530Z"
    }
   },
   "outputs": [],
   "source": [
    "del ct"
   ]
  },
  {
   "cell_type": "code",
   "execution_count": 14,
   "metadata": {
    "ExecuteTime": {
     "end_time": "2021-02-25T04:05:10.993538Z",
     "start_time": "2021-02-25T04:05:10.990544Z"
    }
   },
   "outputs": [],
   "source": [
    "import time"
   ]
  },
  {
   "cell_type": "code",
   "execution_count": 15,
   "metadata": {
    "ExecuteTime": {
     "end_time": "2021-02-25T04:05:30.094058Z",
     "start_time": "2021-02-25T04:05:30.088100Z"
    }
   },
   "outputs": [
    {
     "data": {
      "text/plain": [
       "['_STRUCT_TM_ITEMS',\n",
       " '__doc__',\n",
       " '__loader__',\n",
       " '__name__',\n",
       " '__package__',\n",
       " '__spec__',\n",
       " 'altzone',\n",
       " 'asctime',\n",
       " 'ctime',\n",
       " 'daylight',\n",
       " 'get_clock_info',\n",
       " 'gmtime',\n",
       " 'localtime',\n",
       " 'mktime',\n",
       " 'monotonic',\n",
       " 'monotonic_ns',\n",
       " 'perf_counter',\n",
       " 'perf_counter_ns',\n",
       " 'process_time',\n",
       " 'process_time_ns',\n",
       " 'sleep',\n",
       " 'strftime',\n",
       " 'strptime',\n",
       " 'struct_time',\n",
       " 'thread_time',\n",
       " 'thread_time_ns',\n",
       " 'time',\n",
       " 'time_ns',\n",
       " 'timezone',\n",
       " 'tzname']"
      ]
     },
     "execution_count": 15,
     "metadata": {},
     "output_type": "execute_result"
    }
   ],
   "source": [
    "dir(time) # time 내 변수, 함수, 클래스 등을  list로 출력     # dir  -->directory  \n",
    "         # The dir() function returns all properties and methods of the specified object, without the values."
   ]
  },
  {
   "cell_type": "code",
   "execution_count": 16,
   "metadata": {
    "ExecuteTime": {
     "end_time": "2021-02-25T04:08:41.581060Z",
     "start_time": "2021-02-25T04:08:41.577092Z"
    }
   },
   "outputs": [
    {
     "name": "stdout",
     "output_type": "stream",
     "text": [
      "['__doc__', '__loader__', '__name__', '__package__', '__spec__', 'acos', 'acosh', 'asin', 'asinh', 'atan', 'atan2', 'atanh', 'ceil', 'comb', 'copysign', 'cos', 'cosh', 'degrees', 'dist', 'e', 'erf', 'erfc', 'exp', 'expm1', 'fabs', 'factorial', 'floor', 'fmod', 'frexp', 'fsum', 'gamma', 'gcd', 'hypot', 'inf', 'isclose', 'isfinite', 'isinf', 'isnan', 'isqrt', 'ldexp', 'lgamma', 'log', 'log10', 'log1p', 'log2', 'modf', 'nan', 'perm', 'pi', 'pow', 'prod', 'radians', 'remainder', 'sin', 'sinh', 'sqrt', 'tan', 'tanh', 'tau', 'trunc']\n"
     ]
    }
   ],
   "source": [
    "import math\n",
    "print(dir(math))"
   ]
  },
  {
   "cell_type": "markdown",
   "metadata": {},
   "source": [
    "<pre>\n",
    "import A - A           모듈을 가져옴 <br>\n",
    "import A as B          A모듈을 B이름으로 가져옴  <br>\n",
    "from A import B        A모듈안에 B함수 (A패키지안에 B모듈)를 C이름으로 가져옴<br>\n",
    "from A import B as C   A패키지 안에 B모듈안에 C함수를 가져옴\n",
    "from A import B as D   A패키지 안에 B모듈안에 C함수를 D이름으로 가져옴\n",
    "</pre>\n"
   ]
  },
  {
   "cell_type": "markdown",
   "metadata": {},
   "source": [
    "# 2절. 사용자 정의 모듈 \n",
    "- 함수나 클래스 등 파이썬 파일에 저장해서 모듈을 만들고 재상용할 수 있음 \n",
    "- 모듈을 가져오는 순서 (1)내장 모듈 (2) sys.path변수에 저장된 경로 \n",
    "\n"
   ]
  },
  {
   "cell_type": "code",
   "execution_count": 34,
   "metadata": {
    "ExecuteTime": {
     "end_time": "2021-02-25T05:56:06.216490Z",
     "start_time": "2021-02-25T05:56:06.211502Z"
    }
   },
   "outputs": [
    {
     "data": {
      "text/plain": [
       "['D:\\\\bigdata(psa)\\\\src\\\\8_python',\n",
       " 'C:\\\\Users\\\\tjoeun\\\\anaconda3\\\\python38.zip',\n",
       " 'C:\\\\Users\\\\tjoeun\\\\anaconda3\\\\DLLs',\n",
       " 'C:\\\\Users\\\\tjoeun\\\\anaconda3\\\\lib',\n",
       " 'C:\\\\Users\\\\tjoeun\\\\anaconda3',\n",
       " '',\n",
       " 'C:\\\\Users\\\\tjoeun\\\\anaconda3\\\\lib\\\\site-packages',\n",
       " 'C:\\\\Users\\\\tjoeun\\\\anaconda3\\\\lib\\\\site-packages\\\\win32',\n",
       " 'C:\\\\Users\\\\tjoeun\\\\anaconda3\\\\lib\\\\site-packages\\\\win32\\\\lib',\n",
       " 'C:\\\\Users\\\\tjoeun\\\\anaconda3\\\\lib\\\\site-packages\\\\Pythonwin',\n",
       " 'C:\\\\Users\\\\tjoeun\\\\anaconda3\\\\lib\\\\site-packages\\\\IPython\\\\extensions',\n",
       " 'C:\\\\Users\\\\tjoeun\\\\.ipython',\n",
       " 'D:\\x08igdata(psa)\\\\src\\\\pylib',\n",
       " 'D:\\x08igdata(psa)\\\\src\\\\pylib',\n",
       " 'D:\\x08igdata(psa)\\\\src\\\\pylib',\n",
       " 'D:\\x08igdata(psa)\\\\src\\\\pylib',\n",
       " 'D:\\x08igdata(psa)\\\\src\\\\pylib',\n",
       " 'D:\\x08igdata(psa)\\\\src\\\\pylib',\n",
       " 'D:\\x08igdata(psa)\\\\src\\\\pylib']"
      ]
     },
     "execution_count": 34,
     "metadata": {},
     "output_type": "execute_result"
    }
   ],
   "source": [
    "import sys\n",
    "sys.path"
   ]
  },
  {
   "cell_type": "code",
   "execution_count": 35,
   "metadata": {
    "ExecuteTime": {
     "end_time": "2021-02-25T05:56:08.590122Z",
     "start_time": "2021-02-25T05:56:08.585135Z"
    }
   },
   "outputs": [
    {
     "data": {
      "text/plain": [
       "['D:\\\\bigdata(psa)\\\\src\\\\8_python',\n",
       " 'C:\\\\Users\\\\tjoeun\\\\anaconda3\\\\python38.zip',\n",
       " 'C:\\\\Users\\\\tjoeun\\\\anaconda3\\\\DLLs',\n",
       " 'C:\\\\Users\\\\tjoeun\\\\anaconda3\\\\lib',\n",
       " 'C:\\\\Users\\\\tjoeun\\\\anaconda3',\n",
       " '',\n",
       " 'C:\\\\Users\\\\tjoeun\\\\anaconda3\\\\lib\\\\site-packages',\n",
       " 'C:\\\\Users\\\\tjoeun\\\\anaconda3\\\\lib\\\\site-packages\\\\win32',\n",
       " 'C:\\\\Users\\\\tjoeun\\\\anaconda3\\\\lib\\\\site-packages\\\\win32\\\\lib',\n",
       " 'C:\\\\Users\\\\tjoeun\\\\anaconda3\\\\lib\\\\site-packages\\\\Pythonwin',\n",
       " 'C:\\\\Users\\\\tjoeun\\\\anaconda3\\\\lib\\\\site-packages\\\\IPython\\\\extensions',\n",
       " 'C:\\\\Users\\\\tjoeun\\\\.ipython',\n",
       " 'D:\\x08igdata(psa)\\\\src\\\\pylib',\n",
       " 'D:\\x08igdata(psa)\\\\src\\\\pylib',\n",
       " 'D:\\x08igdata(psa)\\\\src\\\\pylib',\n",
       " 'D:\\x08igdata(psa)\\\\src\\\\pylib',\n",
       " 'D:\\x08igdata(psa)\\\\src\\\\pylib',\n",
       " 'D:\\x08igdata(psa)\\\\src\\\\pylib',\n",
       " 'D:\\x08igdata(psa)\\\\src\\\\pylib',\n",
       " 'D:\\x08igdata(psa)\\\\src\\\\pylib']"
      ]
     },
     "execution_count": 35,
     "metadata": {},
     "output_type": "execute_result"
    }
   ],
   "source": [
    "sys.path.append('D:\\bigdata(psa)\\src\\pylib')\n",
    "sys.path"
   ]
  },
  {
   "cell_type": "code",
   "execution_count": 42,
   "metadata": {
    "ExecuteTime": {
     "end_time": "2021-02-25T05:58:54.832480Z",
     "start_time": "2021-02-25T05:58:54.809541Z"
    }
   },
   "outputs": [],
   "source": [
    "#커널을 재시작 했다면      #모듈 만들어서 import\n",
    "import sys\n",
    "sys.path.append('D:\\\\bigdata(psa)\\\\src\\\\pylib')   #\\ 하나가 아니가 2개  \\\\  *************************\n",
    "import fibonacci"
   ]
  },
  {
   "cell_type": "code",
   "execution_count": 43,
   "metadata": {
    "ExecuteTime": {
     "end_time": "2021-02-25T05:59:01.945894Z",
     "start_time": "2021-02-25T05:59:01.941904Z"
    }
   },
   "outputs": [
    {
     "name": "stdout",
     "output_type": "stream",
     "text": [
      "0 1 1 2 3 5 8 13 21 34 55 89 \n"
     ]
    }
   ],
   "source": [
    "fibonacci.fibo_print(100)"
   ]
  },
  {
   "cell_type": "code",
   "execution_count": 48,
   "metadata": {
    "ExecuteTime": {
     "end_time": "2021-02-25T05:59:15.545697Z",
     "start_time": "2021-02-25T05:59:15.540711Z"
    }
   },
   "outputs": [
    {
     "data": {
      "text/plain": [
       "[0, 1, 1, 2, 3, 5, 8, 13, 21, 34, 55, 89, 144]"
      ]
     },
     "execution_count": 48,
     "metadata": {},
     "output_type": "execute_result"
    }
   ],
   "source": [
    "temp = fibonacci.fibo_return(200)\n",
    "temp"
   ]
  },
  {
   "cell_type": "code",
   "execution_count": 49,
   "metadata": {
    "ExecuteTime": {
     "end_time": "2021-02-25T05:59:16.912155Z",
     "start_time": "2021-02-25T05:59:16.909163Z"
    }
   },
   "outputs": [],
   "source": [
    "del fibonacci"
   ]
  },
  {
   "cell_type": "code",
   "execution_count": 50,
   "metadata": {
    "ExecuteTime": {
     "end_time": "2021-02-25T05:59:18.713987Z",
     "start_time": "2021-02-25T05:59:18.710975Z"
    }
   },
   "outputs": [],
   "source": [
    "import fibonacci as fibo"
   ]
  },
  {
   "cell_type": "code",
   "execution_count": 51,
   "metadata": {
    "ExecuteTime": {
     "end_time": "2021-02-25T05:59:21.325023Z",
     "start_time": "2021-02-25T05:59:21.321034Z"
    }
   },
   "outputs": [
    {
     "name": "stdout",
     "output_type": "stream",
     "text": [
      "0 1 1 2 3 5 8 13 21 34 55 89 144 \n"
     ]
    }
   ],
   "source": [
    "fibo.fibo_print(200)"
   ]
  },
  {
   "cell_type": "code",
   "execution_count": 52,
   "metadata": {
    "ExecuteTime": {
     "end_time": "2021-02-25T05:59:24.065888Z",
     "start_time": "2021-02-25T05:59:24.061898Z"
    }
   },
   "outputs": [],
   "source": [
    "del fibo"
   ]
  },
  {
   "cell_type": "code",
   "execution_count": 53,
   "metadata": {
    "ExecuteTime": {
     "end_time": "2021-02-25T05:59:26.567947Z",
     "start_time": "2021-02-25T05:59:26.563976Z"
    }
   },
   "outputs": [
    {
     "name": "stdout",
     "output_type": "stream",
     "text": [
      "0 1 1 2 3 5 8 13 21 34 55 89 144 233 \n"
     ]
    }
   ],
   "source": [
    "from fibonacci import fibo_print, fibo_return \n",
    "fibo_print(300)"
   ]
  },
  {
   "cell_type": "code",
   "execution_count": 54,
   "metadata": {
    "ExecuteTime": {
     "end_time": "2021-02-25T06:00:09.322091Z",
     "start_time": "2021-02-25T06:00:09.317103Z"
    }
   },
   "outputs": [
    {
     "data": {
      "text/plain": [
       "[0, 1, 1, 2, 3, 5, 8, 13, 21, 34, 55, 89, 144]"
      ]
     },
     "execution_count": 54,
     "metadata": {},
     "output_type": "execute_result"
    }
   ],
   "source": [
    "fibo_return(200)"
   ]
  },
  {
   "cell_type": "code",
   "execution_count": 55,
   "metadata": {
    "ExecuteTime": {
     "end_time": "2021-02-25T06:00:38.899622Z",
     "start_time": "2021-02-25T06:00:38.895632Z"
    }
   },
   "outputs": [],
   "source": [
    "from fibonacci import fibo_print as fibo_p"
   ]
  },
  {
   "cell_type": "code",
   "execution_count": 57,
   "metadata": {
    "ExecuteTime": {
     "end_time": "2021-02-25T06:00:51.164789Z",
     "start_time": "2021-02-25T06:00:51.160813Z"
    }
   },
   "outputs": [
    {
     "name": "stdout",
     "output_type": "stream",
     "text": [
      "0 1 1 2 3 5 8 13 21 34 55 89 144 233 \n"
     ]
    }
   ],
   "source": [
    "fibo_p(300)"
   ]
  },
  {
   "cell_type": "code",
   "execution_count": 1,
   "metadata": {
    "ExecuteTime": {
     "end_time": "2021-02-25T06:23:45.307206Z",
     "start_time": "2021-02-25T06:23:45.298226Z"
    }
   },
   "outputs": [
    {
     "name": "stdout",
     "output_type": "stream",
     "text": [
      "fibonacci\n"
     ]
    }
   ],
   "source": [
    "import sys \n",
    "sys.path.append('D:/bigdata(psa)/src/pylib')\n",
    "import fibonacci                                                   ##########"
   ]
  },
  {
   "cell_type": "code",
   "execution_count": 2,
   "metadata": {
    "ExecuteTime": {
     "end_time": "2021-02-25T06:24:19.964682Z",
     "start_time": "2021-02-25T06:24:19.951717Z"
    }
   },
   "outputs": [
    {
     "data": {
      "text/plain": [
       "<module 'fibonacci' from 'D:/bigdata(psa)/src/pylib\\\\fibonacci.py'>"
      ]
     },
     "execution_count": 2,
     "metadata": {},
     "output_type": "execute_result"
    }
   ],
   "source": [
    "from importlib import reload #reload: 패키지나 모듈을 다시  Load시키는 함수 \n",
    "reload(fibonacci)\n"
   ]
  },
  {
   "cell_type": "code",
   "execution_count": 3,
   "metadata": {
    "ExecuteTime": {
     "end_time": "2021-02-25T06:24:25.085151Z",
     "start_time": "2021-02-25T06:24:24.997943Z"
    }
   },
   "outputs": [
    {
     "name": "stdout",
     "output_type": "stream",
     "text": [
      "0 1 1 2 3 5 8 13 21 34 55 89 144 233 377 \n"
     ]
    }
   ],
   "source": [
    "!python D:/bigdata(psa)/src/pylib/fibonacci.py 500"
   ]
  },
  {
   "cell_type": "code",
   "execution_count": 1,
   "metadata": {
    "ExecuteTime": {
     "end_time": "2021-02-25T06:25:01.118264Z",
     "start_time": "2021-02-25T06:25:01.104301Z"
    }
   },
   "outputs": [
    {
     "data": {
      "text/plain": [
       "'D:/bigdata(psa)/src/pylib\\\\__pycache__\\\\fibonacci.cpython-38.pyc'"
      ]
     },
     "execution_count": 1,
     "metadata": {},
     "output_type": "execute_result"
    }
   ],
   "source": [
    "import py_compile\n",
    "py_compile.compile('D:/bigdata(psa)/src/pylib/fibonacci.py')"
   ]
  },
  {
   "cell_type": "code",
   "execution_count": 2,
   "metadata": {
    "ExecuteTime": {
     "end_time": "2021-02-25T06:53:52.897045Z",
     "start_time": "2021-02-25T06:25:03.120627Z"
    }
   },
   "outputs": [
    {
     "name": "stdout",
     "output_type": "stream",
     "text": [
      "^C\n"
     ]
    }
   ],
   "source": [
    "!python - py_compile 'D:/bigdata(psa)/src/pylib/fibonacci.cpython-38.pyc'"
   ]
  },
  {
   "cell_type": "code",
   "execution_count": null,
   "metadata": {
    "ExecuteTime": {
     "start_time": "2021-02-25T06:24:29.347Z"
    }
   },
   "outputs": [],
   "source": [
    "!python D:/bigdata(psa)/src/pylib/__pycache__/fibonacci.py/fibonacci.cpython-38.pyc 1000   "
   ]
  },
  {
   "cell_type": "code",
   "execution_count": null,
   "metadata": {},
   "outputs": [],
   "source": [
    "   #모듈 만들어서 캐지키 만들어서 import"
   ]
  },
  {
   "cell_type": "markdown",
   "metadata": {},
   "source": [
    "# 3. 패키지"
   ]
  },
  {
   "cell_type": "markdown",
   "metadata": {},
   "source": [
    "1- .모듀이름이 A,B.라면 A라는 패키지 안에 B라는 서브 모듈 <br\n",
    "                                          >\n",
    "    \n",
    "2- 다종 모듈패키지 ex.넘파이,.."
   ]
  },
  {
   "cell_type": "code",
   "execution_count": 10,
   "metadata": {
    "ExecuteTime": {
     "end_time": "2021-02-25T07:45:41.011007Z",
     "start_time": "2021-02-25T07:45:41.007017Z"
    }
   },
   "outputs": [],
   "source": [
    "import sys\n",
    "sys.path.append('D:/bigdata(psa)/src/pylib')  #폴더 가져올때 주소 맞게 . 파일도 pylib\n"
   ]
  },
  {
   "cell_type": "code",
   "execution_count": 11,
   "metadata": {
    "ExecuteTime": {
     "end_time": "2021-02-25T07:45:42.481636Z",
     "start_time": "2021-02-25T07:45:42.473657Z"
    }
   },
   "outputs": [
    {
     "name": "stdout",
     "output_type": "stream",
     "text": [
      "sample_pac패키지 안의 ab패키지 import함\n"
     ]
    }
   ],
   "source": [
    "import sample_pac # 상위 패키지를 import한다고 하위패키지 import되지 않음"
   ]
  },
  {
   "cell_type": "code",
   "execution_count": 12,
   "metadata": {
    "ExecuteTime": {
     "end_time": "2021-02-25T07:45:44.266705Z",
     "start_time": "2021-02-25T07:45:44.252762Z"
    }
   },
   "outputs": [
    {
     "name": "stdout",
     "output_type": "stream",
     "text": [
      "sample_pac 패키지 안의 ab 패키지 import함\n"
     ]
    }
   ],
   "source": [
    "import sample_pac.ab.a"
   ]
  },
  {
   "cell_type": "code",
   "execution_count": 13,
   "metadata": {
    "ExecuteTime": {
     "end_time": "2021-02-25T07:45:45.224625Z",
     "start_time": "2021-02-25T07:45:45.220656Z"
    }
   },
   "outputs": [
    {
     "name": "stdout",
     "output_type": "stream",
     "text": [
      "Hello - a모듈 안\n"
     ]
    }
   ],
   "source": [
    "sample_pac.ab.a.hello()"
   ]
  },
  {
   "cell_type": "code",
   "execution_count": 14,
   "metadata": {
    "ExecuteTime": {
     "end_time": "2021-02-25T07:45:46.216284Z",
     "start_time": "2021-02-25T07:45:46.213292Z"
    }
   },
   "outputs": [],
   "source": [
    "from sample_pac.ab import a"
   ]
  },
  {
   "cell_type": "code",
   "execution_count": 15,
   "metadata": {
    "ExecuteTime": {
     "end_time": "2021-02-25T07:45:47.309972Z",
     "start_time": "2021-02-25T07:45:47.305983Z"
    }
   },
   "outputs": [
    {
     "name": "stdout",
     "output_type": "stream",
     "text": [
      "Hello - a모듈 안\n"
     ]
    }
   ],
   "source": [
    "a.hello()"
   ]
  },
  {
   "cell_type": "code",
   "execution_count": 20,
   "metadata": {
    "ExecuteTime": {
     "end_time": "2021-02-25T07:45:55.288095Z",
     "start_time": "2021-02-25T07:45:55.285102Z"
    }
   },
   "outputs": [
    {
     "name": "stdout",
     "output_type": "stream",
     "text": [
      "Hello - a모듈 안\n"
     ]
    }
   ],
   "source": [
    "from sample_pac.ab.a import hello\n",
    "hello()"
   ]
  },
  {
   "cell_type": "code",
   "execution_count": 21,
   "metadata": {
    "ExecuteTime": {
     "end_time": "2021-02-25T07:45:55.514033Z",
     "start_time": "2021-02-25T07:45:55.503063Z"
    }
   },
   "outputs": [],
   "source": [
    "\n",
    "from sample_pac.ab import b"
   ]
  },
  {
   "cell_type": "code",
   "execution_count": 22,
   "metadata": {
    "ExecuteTime": {
     "end_time": "2021-02-25T07:45:55.709884Z",
     "start_time": "2021-02-25T07:45:55.705914Z"
    }
   },
   "outputs": [
    {
     "name": "stdout",
     "output_type": "stream",
     "text": [
      "world - b.py안\n"
     ]
    }
   ],
   "source": [
    "b.world()"
   ]
  },
  {
   "cell_type": "code",
   "execution_count": 23,
   "metadata": {
    "ExecuteTime": {
     "end_time": "2021-02-25T07:45:55.903428Z",
     "start_time": "2021-02-25T07:45:55.900459Z"
    }
   },
   "outputs": [],
   "source": [
    "#커널 재시작시 sys.path추가\n",
    "import sys\n",
    "sys.path.append( 'D:/bigdata(psa)/src/pylib' )\n"
   ]
  },
  {
   "cell_type": "code",
   "execution_count": 24,
   "metadata": {
    "ExecuteTime": {
     "end_time": "2021-02-25T07:45:56.117596Z",
     "start_time": "2021-02-25T07:45:56.113605Z"
    }
   },
   "outputs": [],
   "source": [
    "from sample_pac.ab import *"
   ]
  },
  {
   "cell_type": "code",
   "execution_count": 25,
   "metadata": {
    "ExecuteTime": {
     "end_time": "2021-02-25T07:45:56.609832Z",
     "start_time": "2021-02-25T07:45:56.606840Z"
    }
   },
   "outputs": [
    {
     "name": "stdout",
     "output_type": "stream",
     "text": [
      "Hello - a모듈 안\n"
     ]
    }
   ],
   "source": [
    "a.hello()"
   ]
  },
  {
   "cell_type": "code",
   "execution_count": 26,
   "metadata": {
    "ExecuteTime": {
     "end_time": "2021-02-25T07:45:57.054023Z",
     "start_time": "2021-02-25T07:45:57.051031Z"
    }
   },
   "outputs": [
    {
     "name": "stdout",
     "output_type": "stream",
     "text": [
      "world - b.py안\n"
     ]
    }
   ],
   "source": [
    "b.world()"
   ]
  },
  {
   "cell_type": "code",
   "execution_count": 27,
   "metadata": {
    "ExecuteTime": {
     "end_time": "2021-02-25T07:45:57.846826Z",
     "start_time": "2021-02-25T07:45:57.840822Z"
    }
   },
   "outputs": [
    {
     "name": "stdout",
     "output_type": "stream",
     "text": [
      "sample_pac 패키지\n"
     ]
    }
   ],
   "source": [
    "from sample_pac.cd import c   #c에서 ab를쓰고 있어 따라서 ab도 로드됨 "
   ]
  },
  {
   "cell_type": "code",
   "execution_count": 28,
   "metadata": {
    "ExecuteTime": {
     "end_time": "2021-02-25T07:45:58.582660Z",
     "start_time": "2021-02-25T07:45:58.578672Z"
    }
   },
   "outputs": [
    {
     "name": "stdout",
     "output_type": "stream",
     "text": [
      "nice - c.py안\n",
      "Hello - a모듈 안\n"
     ]
    }
   ],
   "source": [
    "c.nice()"
   ]
  },
  {
   "cell_type": "code",
   "execution_count": 29,
   "metadata": {
    "ExecuteTime": {
     "end_time": "2021-02-25T07:45:59.519268Z",
     "start_time": "2021-02-25T07:45:59.516277Z"
    }
   },
   "outputs": [],
   "source": [
    "# 특수속성들 \n",
    "\n",
    "\n",
    "#__all__\n",
    "#__name__\n",
    "#__path__\n",
    "#__file__"
   ]
  },
  {
   "cell_type": "code",
   "execution_count": 30,
   "metadata": {
    "ExecuteTime": {
     "end_time": "2021-02-25T07:46:00.400289Z",
     "start_time": "2021-02-25T07:46:00.331099Z"
    }
   },
   "outputs": [
    {
     "name": "stdout",
     "output_type": "stream",
     "text": [
      "_mypkg_foo import\n"
     ]
    }
   ],
   "source": [
    "from mypkg import foo "
   ]
  },
  {
   "cell_type": "code",
   "execution_count": 31,
   "metadata": {
    "ExecuteTime": {
     "end_time": "2021-02-25T07:46:01.211415Z",
     "start_time": "2021-02-25T07:46:01.207426Z"
    }
   },
   "outputs": [
    {
     "name": "stdout",
     "output_type": "stream",
     "text": [
      "foo_hello(mypkg_foo에 있다.\n",
      "          mpkg에 있는거 아님\n"
     ]
    }
   ],
   "source": [
    "foo.foo_hello()"
   ]
  },
  {
   "cell_type": "code",
   "execution_count": 32,
   "metadata": {
    "ExecuteTime": {
     "end_time": "2021-02-25T07:46:01.820075Z",
     "start_time": "2021-02-25T07:46:01.817081Z"
    }
   },
   "outputs": [],
   "source": [
    "import mypkg"
   ]
  },
  {
   "cell_type": "code",
   "execution_count": 33,
   "metadata": {
    "ExecuteTime": {
     "end_time": "2021-02-25T07:46:03.449739Z",
     "start_time": "2021-02-25T07:46:03.445731Z"
    }
   },
   "outputs": [],
   "source": [
    "from mypkg import bar"
   ]
  },
  {
   "cell_type": "code",
   "execution_count": 34,
   "metadata": {
    "ExecuteTime": {
     "end_time": "2021-02-25T07:46:03.830644Z",
     "start_time": "2021-02-25T07:46:03.827677Z"
    }
   },
   "outputs": [
    {
     "name": "stdout",
     "output_type": "stream",
     "text": [
      "bar Hello-mypkg밑\n"
     ]
    }
   ],
   "source": [
    "bar.bar_hello()"
   ]
  },
  {
   "cell_type": "markdown",
   "metadata": {},
   "source": [
    "# 4절. 패키치 설치 및 삭제"
   ]
  },
  {
   "cell_type": "code",
   "execution_count": 1,
   "metadata": {
    "ExecuteTime": {
     "end_time": "2021-02-25T08:06:15.370018Z",
     "start_time": "2021-02-25T08:06:15.172434Z"
    }
   },
   "outputs": [
    {
     "ename": "ModuleNotFoundError",
     "evalue": "No module named 'objgraph'",
     "output_type": "error",
     "traceback": [
      "\u001b[1;31m---------------------------------------------------------------------------\u001b[0m",
      "\u001b[1;31mModuleNotFoundError\u001b[0m                       Traceback (most recent call last)",
      "\u001b[1;32m<ipython-input-1-d1b184d14b6a>\u001b[0m in \u001b[0;36m<module>\u001b[1;34m\u001b[0m\n\u001b[0;32m      1\u001b[0m \u001b[1;31m#Anaconda prompt -->우클릭 '권리자권한' --> pip install objgraph   실행한 후\u001b[0m\u001b[1;33m\u001b[0m\u001b[1;33m\u001b[0m\u001b[1;33m\u001b[0m\u001b[0m\n\u001b[1;32m----> 2\u001b[1;33m \u001b[1;32mimport\u001b[0m \u001b[0mobjgraph\u001b[0m\u001b[1;33m\u001b[0m\u001b[1;33m\u001b[0m\u001b[0m\n\u001b[0m\u001b[0;32m      3\u001b[0m \u001b[0mobjgraph\u001b[0m\u001b[1;33m.\u001b[0m\u001b[0mshow_most_common_types\u001b[0m\u001b[1;33m(\u001b[0m\u001b[1;33m)\u001b[0m \u001b[1;31m#메모리 사용량 출력\u001b[0m\u001b[1;33m\u001b[0m\u001b[1;33m\u001b[0m\u001b[0m\n",
      "\u001b[1;31mModuleNotFoundError\u001b[0m: No module named 'objgraph'"
     ]
    }
   ],
   "source": [
    "#Anaconda prompt -->우클릭 '권리자권한' --> pip install objgraph   실행한 후 \n",
    "import objgraph \n",
    "objgraph.show_most_common_types() #메모리 사용량 출력"
   ]
  },
  {
   "cell_type": "code",
   "execution_count": 36,
   "metadata": {
    "ExecuteTime": {
     "end_time": "2021-02-25T07:59:51.503868Z",
     "start_time": "2021-02-25T07:59:51.500875Z"
    }
   },
   "outputs": [],
   "source": [
    "l = [10.56565656,20.56565656,10.56565656,20.56565656]  #이거 실행하고 위에 다시 실행. 메모리 늘어남 "
   ]
  },
  {
   "cell_type": "markdown",
   "metadata": {},
   "source": [
    "# 5절. 연습문제"
   ]
  },
  {
   "cell_type": "code",
   "execution_count": null,
   "metadata": {},
   "outputs": [],
   "source": [
    "#1. \n",
    "답:3번.  import해야 사용가능  \n",
    "    "
   ]
  },
  {
   "cell_type": "code",
   "execution_count": null,
   "metadata": {},
   "outputs": [],
   "source": [
    "#2\n",
    "답:4번    ct.time으로 수정해야 "
   ]
  },
  {
   "cell_type": "code",
   "execution_count": null,
   "metadata": {},
   "outputs": [],
   "source": [
    "#3 파이썬이 디렉터리를 패키지에 포함하도록 처리하기 위해 필요한 파일은? \n",
    " __init__.py \n",
    "    #파이썬은 디렉토리에 __init__.py 파일이 존재하면 이를 패키지라 여긴다"
   ]
  },
  {
   "cell_type": "code",
   "execution_count": null,
   "metadata": {},
   "outputs": [],
   "source": [
    "#4\n",
    "__all__= [\"a\"]\n"
   ]
  },
  {
   "cell_type": "code",
   "execution_count": null,
   "metadata": {},
   "outputs": [],
   "source": [
    "#5.\n",
    "1번\n"
   ]
  },
  {
   "cell_type": "code",
   "execution_count": null,
   "metadata": {},
   "outputs": [],
   "source": []
  },
  {
   "cell_type": "code",
   "execution_count": null,
   "metadata": {},
   "outputs": [],
   "source": []
  },
  {
   "cell_type": "code",
   "execution_count": null,
   "metadata": {},
   "outputs": [],
   "source": []
  }
 ],
 "metadata": {
  "kernelspec": {
   "display_name": "Python 3",
   "language": "python",
   "name": "python3"
  },
  "language_info": {
   "codemirror_mode": {
    "name": "ipython",
    "version": 3
   },
   "file_extension": ".py",
   "mimetype": "text/x-python",
   "name": "python",
   "nbconvert_exporter": "python",
   "pygments_lexer": "ipython3",
   "version": "3.8.5"
  },
  "toc": {
   "base_numbering": 1,
   "nav_menu": {},
   "number_sections": false,
   "sideBar": true,
   "skip_h1_title": false,
   "title_cell": "Table of Contents",
   "title_sidebar": "Contents",
   "toc_cell": false,
   "toc_position": {},
   "toc_section_display": true,
   "toc_window_display": false
  },
  "varInspector": {
   "cols": {
    "lenName": 16,
    "lenType": 16,
    "lenVar": 40
   },
   "kernels_config": {
    "python": {
     "delete_cmd_postfix": "",
     "delete_cmd_prefix": "del ",
     "library": "var_list.py",
     "varRefreshCmd": "print(var_dic_list())"
    },
    "r": {
     "delete_cmd_postfix": ") ",
     "delete_cmd_prefix": "rm(",
     "library": "var_list.r",
     "varRefreshCmd": "cat(var_dic_list()) "
    }
   },
   "types_to_exclude": [
    "module",
    "function",
    "builtin_function_or_method",
    "instance",
    "_Feature"
   ],
   "window_display": false
  }
 },
 "nbformat": 4,
 "nbformat_minor": 4
}

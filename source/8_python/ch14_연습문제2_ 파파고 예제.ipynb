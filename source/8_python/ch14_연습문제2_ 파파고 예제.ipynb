{
 "cells": [
  {
   "cell_type": "markdown",
   "metadata": {},
   "source": [
    "# 2번 동적 웹 크롤링\n",
    "- 영어번역 자동화 프로그램을 구현하시오. \n",
    "- 네이버 맞춤법 검사를 마친 텍\n",
    "스트를 papago.naver.com를 통해 영어로 번역된 텍스트를 파일로 출력\n",
    "하는 동적 웹크롤링 프로그램을 구현하시오."
   ]
  },
  {
   "cell_type": "code",
   "execution_count": 25,
   "metadata": {
    "ExecuteTime": {
     "end_time": "2021-03-18T05:10:21.637982Z",
     "start_time": "2021-03-18T05:10:07.442095Z"
    },
    "scrolled": true
   },
   "outputs": [
    {
     "name": "stdout",
     "output_type": "stream",
     "text": [
      "896\n"
     ]
    }
   ],
   "source": [
    "from selenium import webdriver\n",
    "from selenium.webdriver.common.keys import Keys\n",
    "from bs4 import BeautifulSoup \n",
    "import time \n",
    "\n",
    "with open(\"data/ch14_checked.txt\",\"r\",encoding=\"utf-8\") as f:\n",
    "    text = f.read()\n",
    "print(len(text))\n",
    "ready_list=[] \n",
    "while len(text)>5000:\n",
    "    temp_str = text[:5000]\n",
    "    last_space_idx = temp_str.rfind('.')            #rfind는 right find 오른쪽부터 찾는다   '. space'해야 한문장이 끝났다\n",
    "    ready_list.append(text[:last_space_idx+1])  #5000자                            # idx에 +1를 해야  .이 안빠짐\n",
    "    text = text[last_space_idx+1:] #readY_list에 append한 앞부분은 날림\n",
    "ready_list.append(text)  \n",
    "\n",
    "driver = webdriver.Chrome(\"D:/bigdata(psa)/selenium/chromedriver.exe\")\n",
    "driver.get(\"https://translate.kakao.com/\")\n",
    "\n",
    "close_btn = driver.find_element_by_css_selector(\"a.btn_close\")\n",
    "close_btn.click()\n",
    "\n",
    "textarea = driver.find_element_by_id(\"query\")  # name=\"query\"가 있는 곳에 \"맞춤법 검사기\" 치고, 그 페이지를 호출\n",
    "\n",
    "results=\"\"\n",
    "for ready in ready_list:\n",
    "    textarea.send_keys(Keys.CONTROL,\"a\")  #ctrl a는 기존에 있는것을 지운다는 뜻\n",
    "    textarea.send_keys(ready)\n",
    "    button = driver.find_element_by_class_name(\"btn_translation\")  # 검사하기 버튼 소스\n",
    "    button.click()\n",
    "    time.sleep(2)  #검사하기 클릭 후 잠시 후에 결과 크롤링    #***** 추가된 내용 **********************\n",
    "    soup = BeautifulSoup(driver.page_source,\"html.parser\")\n",
    "    result = soup.select_one(\"p#result\").text   # .text를해야 내용이 나옴  *************\n",
    "    results += result\n",
    "#print(results)    #확인용 \n",
    "with open('data/ch14_translation.txt','w',encoding='utf-8') as f:\n",
    "    f.write(results)\n",
    "time.sleep(3)     #해야 번역된 내용이  txt파일로 들어옴 \n",
    "driver.close()   #알아서 browser 닫힘 "
   ]
  },
  {
   "cell_type": "code",
   "execution_count": null,
   "metadata": {},
   "outputs": [],
   "source": []
  }
 ],
 "metadata": {
  "kernelspec": {
   "display_name": "Python 3",
   "language": "python",
   "name": "python3"
  },
  "language_info": {
   "codemirror_mode": {
    "name": "ipython",
    "version": 3
   },
   "file_extension": ".py",
   "mimetype": "text/x-python",
   "name": "python",
   "nbconvert_exporter": "python",
   "pygments_lexer": "ipython3",
   "version": "3.8.5"
  },
  "toc": {
   "base_numbering": 1,
   "nav_menu": {},
   "number_sections": false,
   "sideBar": true,
   "skip_h1_title": false,
   "title_cell": "Table of Contents",
   "title_sidebar": "Contents",
   "toc_cell": false,
   "toc_position": {
    "height": "calc(100% - 180px)",
    "left": "10px",
    "top": "150px",
    "width": "165px"
   },
   "toc_section_display": true,
   "toc_window_display": true
  },
  "varInspector": {
   "cols": {
    "lenName": 16,
    "lenType": 16,
    "lenVar": 40
   },
   "kernels_config": {
    "python": {
     "delete_cmd_postfix": "",
     "delete_cmd_prefix": "del ",
     "library": "var_list.py",
     "varRefreshCmd": "print(var_dic_list())"
    },
    "r": {
     "delete_cmd_postfix": ") ",
     "delete_cmd_prefix": "rm(",
     "library": "var_list.r",
     "varRefreshCmd": "cat(var_dic_list()) "
    }
   },
   "types_to_exclude": [
    "module",
    "function",
    "builtin_function_or_method",
    "instance",
    "_Feature"
   ],
   "window_display": false
  }
 },
 "nbformat": 4,
 "nbformat_minor": 4
}

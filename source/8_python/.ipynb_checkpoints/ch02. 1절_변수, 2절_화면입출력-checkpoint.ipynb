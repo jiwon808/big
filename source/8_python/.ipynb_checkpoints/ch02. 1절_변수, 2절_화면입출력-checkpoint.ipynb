{
 "cells": [
  {
   "cell_type": "markdown",
   "metadata": {},
   "source": [
    "<b><font color=\"red\"> ch02. 자료형과 연산자 </font>"
   ]
  },
  {
   "cell_type": "markdown",
   "metadata": {},
   "source": [
    "# 절. 변수"
   ]
  },
  {
   "cell_type": "markdown",
   "metadata": {
    "ExecuteTime": {
     "end_time": "2021-02-19T07:21:35.998141Z",
     "start_time": "2021-02-19T07:21:35.995137Z"
    }
   },
   "source": [
    "## 변수 선언"
   ]
  },
  {
   "cell_type": "markdown",
   "metadata": {},
   "source": [
    "- 값을 저장할 수 있는 변수를 만드는 것\n",
    "- 파이썬은 변수 선언을 위한 타입이 없고 별도의 변수 선언과정이 없음"
   ]
  },
  {
   "cell_type": "markdown",
   "metadata": {
    "ExecuteTime": {
     "end_time": "2021-02-19T07:25:54.778074Z",
     "start_time": "2021-02-19T07:25:54.775080Z"
    }
   },
   "source": [
    "## 변수 할당"
   ]
  },
  {
   "cell_type": "markdown",
   "metadata": {},
   "source": [
    "- 어떤 값이 이름을 갖도록 하는 과정\n",
    "- 할당연산자 (=)을 이용"
   ]
  },
  {
   "cell_type": "code",
   "execution_count": 4,
   "metadata": {
    "ExecuteTime": {
     "end_time": "2021-02-19T07:27:25.143078Z",
     "start_time": "2021-02-19T07:27:25.139108Z"
    }
   },
   "outputs": [
    {
     "name": "stdout",
     "output_type": "stream",
     "text": [
      "78.5\n"
     ]
    }
   ],
   "source": [
    "r = 5\n",
    "area=3.14 *5 *5\n",
    "print(area)"
   ]
  },
  {
   "cell_type": "code",
   "execution_count": 7,
   "metadata": {
    "ExecuteTime": {
     "end_time": "2021-02-19T07:29:55.584321Z",
     "start_time": "2021-02-19T07:29:55.580357Z"
    }
   },
   "outputs": [
    {
     "name": "stdout",
     "output_type": "stream",
     "text": [
      "반지름이 5인 원의 넓이는  5\n"
     ]
    }
   ],
   "source": [
    "import numpy as np\n",
    "r = 5\n",
    "area = np.pi *r*r\n",
    "print('반지름이 5인 원의 넓이는 ', r)"
   ]
  },
  {
   "cell_type": "code",
   "execution_count": 8,
   "metadata": {
    "ExecuteTime": {
     "end_time": "2021-02-19T07:31:04.883236Z",
     "start_time": "2021-02-19T07:31:04.880244Z"
    }
   },
   "outputs": [],
   "source": [
    "a = 10 "
   ]
  },
  {
   "cell_type": "code",
   "execution_count": 14,
   "metadata": {
    "ExecuteTime": {
     "end_time": "2021-02-19T07:33:43.745584Z",
     "start_time": "2021-02-19T07:33:43.741623Z"
    }
   },
   "outputs": [
    {
     "name": "stdout",
     "output_type": "stream",
     "text": [
      "2388138504944\n",
      "<class 'str'>\n"
     ]
    }
   ],
   "source": [
    "print(id(a))   #a변수의 주소 \n",
    "print(type(a)) #a변수의 타입"
   ]
  },
  {
   "cell_type": "code",
   "execution_count": 10,
   "metadata": {
    "ExecuteTime": {
     "end_time": "2021-02-19T07:31:52.215145Z",
     "start_time": "2021-02-19T07:31:52.212172Z"
    }
   },
   "outputs": [],
   "source": [
    "a = 5"
   ]
  },
  {
   "cell_type": "code",
   "execution_count": 15,
   "metadata": {
    "ExecuteTime": {
     "end_time": "2021-02-19T07:34:14.885680Z",
     "start_time": "2021-02-19T07:34:14.880693Z"
    }
   },
   "outputs": [
    {
     "name": "stdout",
     "output_type": "stream",
     "text": [
      "2388138504944\n",
      "<class 'str'>\n"
     ]
    }
   ],
   "source": [
    "print(id(a))   #a변수의 주소 \n",
    "print(type(a)) #a변수의 타입"
   ]
  },
  {
   "cell_type": "code",
   "execution_count": 16,
   "metadata": {
    "ExecuteTime": {
     "end_time": "2021-02-19T07:34:21.741401Z",
     "start_time": "2021-02-19T07:34:21.738438Z"
    }
   },
   "outputs": [],
   "source": [
    "a = 'Python'"
   ]
  },
  {
   "cell_type": "code",
   "execution_count": 18,
   "metadata": {
    "ExecuteTime": {
     "end_time": "2021-02-19T07:34:27.286802Z",
     "start_time": "2021-02-19T07:34:27.282811Z"
    }
   },
   "outputs": [
    {
     "name": "stdout",
     "output_type": "stream",
     "text": [
      "2388138504944\n",
      "<class 'str'>\n"
     ]
    }
   ],
   "source": [
    "print(id(a))   #a변수의 주소 \n",
    "print(type(a)) #a변수의 타입"
   ]
  },
  {
   "cell_type": "markdown",
   "metadata": {
    "ExecuteTime": {
     "end_time": "2021-02-19T07:35:11.506504Z",
     "start_time": "2021-02-19T07:35:11.502515Z"
    }
   },
   "source": [
    "## 변수 명명 규칙"
   ]
  },
  {
   "cell_type": "code",
   "execution_count": 20,
   "metadata": {
    "ExecuteTime": {
     "end_time": "2021-02-19T07:48:00.041659Z",
     "start_time": "2021-02-19T07:48:00.038667Z"
    }
   },
   "outputs": [],
   "source": [
    "불용어 = '북한'"
   ]
  },
  {
   "cell_type": "code",
   "execution_count": 21,
   "metadata": {
    "ExecuteTime": {
     "end_time": "2021-02-19T07:48:09.233413Z",
     "start_time": "2021-02-19T07:48:09.228426Z"
    }
   },
   "outputs": [
    {
     "data": {
      "text/plain": [
       "'북한'"
      ]
     },
     "execution_count": 21,
     "metadata": {},
     "output_type": "execute_result"
    }
   ],
   "source": [
    "불용어"
   ]
  },
  {
   "cell_type": "code",
   "execution_count": 24,
   "metadata": {
    "ExecuteTime": {
     "end_time": "2021-02-19T07:49:37.080800Z",
     "start_time": "2021-02-19T07:49:37.076810Z"
    }
   },
   "outputs": [
    {
     "name": "stdout",
     "output_type": "stream",
     "text": [
      "Hello,World2\n"
     ]
    }
   ],
   "source": [
    "print('Hello' +',World' + str(2))"
   ]
  },
  {
   "cell_type": "code",
   "execution_count": 2,
   "metadata": {
    "ExecuteTime": {
     "end_time": "2021-02-19T07:53:19.519144Z",
     "start_time": "2021-02-19T07:53:19.516151Z"
    }
   },
   "outputs": [],
   "source": [
    "print_= 5\n",
    "_print= 5"
   ]
  },
  {
   "cell_type": "code",
   "execution_count": 1,
   "metadata": {
    "ExecuteTime": {
     "end_time": "2021-02-19T07:52:32.813278Z",
     "start_time": "2021-02-19T07:52:32.809288Z"
    }
   },
   "outputs": [
    {
     "name": "stdout",
     "output_type": "stream",
     "text": [
      "Hello\n"
     ]
    }
   ],
   "source": [
    "print('Hello')"
   ]
  },
  {
   "cell_type": "code",
   "execution_count": 4,
   "metadata": {
    "ExecuteTime": {
     "end_time": "2021-02-19T07:53:35.931258Z",
     "start_time": "2021-02-19T07:53:35.926276Z"
    }
   },
   "outputs": [
    {
     "ename": "SyntaxError",
     "evalue": "invalid syntax (<ipython-input-4-1a9bb92cc795>, line 1)",
     "output_type": "error",
     "traceback": [
      "\u001b[1;36m  File \u001b[1;32m\"<ipython-input-4-1a9bb92cc795>\"\u001b[1;36m, line \u001b[1;32m1\u001b[0m\n\u001b[1;33m    if = 5\u001b[0m\n\u001b[1;37m       ^\u001b[0m\n\u001b[1;31mSyntaxError\u001b[0m\u001b[1;31m:\u001b[0m invalid syntax\n"
     ]
    }
   ],
   "source": [
    "if = 5"
   ]
  },
  {
   "cell_type": "code",
   "execution_count": 5,
   "metadata": {
    "ExecuteTime": {
     "end_time": "2021-02-19T07:54:19.397985Z",
     "start_time": "2021-02-19T07:54:19.395012Z"
    }
   },
   "outputs": [],
   "source": [
    "i = 5j+4  #복소수"
   ]
  },
  {
   "cell_type": "code",
   "execution_count": 8,
   "metadata": {
    "ExecuteTime": {
     "end_time": "2021-02-19T07:55:01.909010Z",
     "start_time": "2021-02-19T07:55:01.904047Z"
    }
   },
   "outputs": [
    {
     "data": {
      "text/plain": [
       "complex"
      ]
     },
     "execution_count": 8,
     "metadata": {},
     "output_type": "execute_result"
    }
   ],
   "source": [
    "type(i) #변수의 타입 반환"
   ]
  },
  {
   "cell_type": "code",
   "execution_count": 9,
   "metadata": {
    "ExecuteTime": {
     "end_time": "2021-02-19T07:55:47.666525Z",
     "start_time": "2021-02-19T07:55:47.661538Z"
    }
   },
   "outputs": [
    {
     "data": {
      "text/plain": [
       "True"
      ]
     },
     "execution_count": 9,
     "metadata": {},
     "output_type": "execute_result"
    }
   ],
   "source": [
    "#자동완성 (Tab키)\n",
    "isinstance(i,complex)  #변수의 타입이 complex"
   ]
  },
  {
   "cell_type": "code",
   "execution_count": 10,
   "metadata": {
    "ExecuteTime": {
     "end_time": "2021-02-19T07:56:31.124424Z",
     "start_time": "2021-02-19T07:56:31.119458Z"
    }
   },
   "outputs": [
    {
     "data": {
      "text/plain": [
       "str"
      ]
     },
     "execution_count": 10,
     "metadata": {},
     "output_type": "execute_result"
    }
   ],
   "source": [
    "i = \"i\"\n",
    "type(i)"
   ]
  },
  {
   "cell_type": "code",
   "execution_count": 11,
   "metadata": {
    "ExecuteTime": {
     "end_time": "2021-02-19T07:56:43.416957Z",
     "start_time": "2021-02-19T07:56:43.411969Z"
    }
   },
   "outputs": [
    {
     "data": {
      "text/plain": [
       "int"
      ]
     },
     "execution_count": 11,
     "metadata": {},
     "output_type": "execute_result"
    }
   ],
   "source": [
    "i = 10\n",
    "type(i)"
   ]
  },
  {
   "cell_type": "code",
   "execution_count": 3,
   "metadata": {
    "ExecuteTime": {
     "end_time": "2021-02-19T08:26:53.367598Z",
     "start_time": "2021-02-19T08:26:53.363634Z"
    }
   },
   "outputs": [],
   "source": [
    "a,b = 10, 20"
   ]
  },
  {
   "cell_type": "code",
   "execution_count": 4,
   "metadata": {
    "ExecuteTime": {
     "end_time": "2021-02-19T08:26:56.434957Z",
     "start_time": "2021-02-19T08:26:56.429990Z"
    }
   },
   "outputs": [
    {
     "name": "stdout",
     "output_type": "stream",
     "text": [
      "a= 10 / b= 20\n"
     ]
    }
   ],
   "source": [
    "print('a=',a,'/ b=',b)"
   ]
  },
  {
   "cell_type": "code",
   "execution_count": 5,
   "metadata": {
    "ExecuteTime": {
     "end_time": "2021-02-19T08:27:02.893745Z",
     "start_time": "2021-02-19T08:27:02.890752Z"
    }
   },
   "outputs": [],
   "source": [
    "a, b    =    b, a+b          #######b가a로 들어가고, a+b가 b로 들어감 "
   ]
  },
  {
   "cell_type": "code",
   "execution_count": 6,
   "metadata": {
    "ExecuteTime": {
     "end_time": "2021-02-19T08:27:07.636465Z",
     "start_time": "2021-02-19T08:27:07.633493Z"
    }
   },
   "outputs": [
    {
     "name": "stdout",
     "output_type": "stream",
     "text": [
      "20\n",
      "30\n"
     ]
    }
   ],
   "source": [
    "print(a)\n",
    "print(b)"
   ]
  },
  {
   "cell_type": "code",
   "execution_count": 17,
   "metadata": {
    "ExecuteTime": {
     "end_time": "2021-02-19T07:59:13.098301Z",
     "start_time": "2021-02-19T07:59:13.094311Z"
    }
   },
   "outputs": [
    {
     "data": {
      "text/plain": [
       "<function print>"
      ]
     },
     "execution_count": 17,
     "metadata": {},
     "output_type": "execute_result"
    }
   ],
   "source": [
    "print"
   ]
  },
  {
   "cell_type": "markdown",
   "metadata": {
    "ExecuteTime": {
     "end_time": "2021-02-19T08:00:07.065355Z",
     "start_time": "2021-02-19T08:00:07.061367Z"
    }
   },
   "source": [
    "## 도움말"
   ]
  },
  {
   "cell_type": "code",
   "execution_count": 23,
   "metadata": {
    "ExecuteTime": {
     "end_time": "2021-02-19T08:02:05.153308Z",
     "start_time": "2021-02-19T08:02:05.149321Z"
    }
   },
   "outputs": [
    {
     "name": "stdout",
     "output_type": "stream",
     "text": [
      "\n"
     ]
    }
   ],
   "source": [
    "#도움말기능은 shift_Tab키\n",
    "print()"
   ]
  },
  {
   "cell_type": "markdown",
   "metadata": {},
   "source": [
    "# 화면입출력"
   ]
  },
  {
   "cell_type": "code",
   "execution_count": 2,
   "metadata": {
    "ExecuteTime": {
     "end_time": "2021-02-19T08:26:14.311108Z",
     "start_time": "2021-02-19T08:26:10.821943Z"
    }
   },
   "outputs": [
    {
     "name": "stdout",
     "output_type": "stream",
     "text": [
      "첫번째 숫자4\n",
      "두번째 숫자4\n"
     ]
    }
   ],
   "source": [
    "first = input('첫번째 숫자')\n",
    "second = input('두번째 숫자')   ###############"
   ]
  },
  {
   "cell_type": "code",
   "execution_count": null,
   "metadata": {
    "ExecuteTime": {
     "start_time": "2021-02-19T08:06:16.333Z"
    }
   },
   "outputs": [],
   "source": [
    "print('두 수의 합은',(first+second))"
   ]
  },
  {
   "cell_type": "code",
   "execution_count": null,
   "metadata": {
    "ExecuteTime": {
     "start_time": "2021-02-19T08:07:34.785Z"
    }
   },
   "outputs": [],
   "source": [
    "print('두 수의 합은',(int(first)+ int(second)))"
   ]
  },
  {
   "cell_type": "code",
   "execution_count": null,
   "metadata": {
    "ExecuteTime": {
     "start_time": "2021-02-19T08:09:17.000Z"
    }
   },
   "outputs": [],
   "source": [
    "first = int(input('첫번째 수'))\n",
    "second = int(input('두번째 수'))\n",
    "\n"
   ]
  },
  {
   "cell_type": "code",
   "execution_count": null,
   "metadata": {},
   "outputs": [],
   "source": [
    "print('두 수의 합은')"
   ]
  },
  {
   "cell_type": "code",
   "execution_count": null,
   "metadata": {},
   "outputs": [],
   "source": [
    "print('Hello','WORLD', sep='/',end=\"\\n\\n\")\n",
    "print('Hello','python',step='!')\n",
    "      \n",
    "      "
   ]
  },
  {
   "cell_type": "raw",
   "metadata": {},
   "source": [
    "#######################"
   ]
  },
  {
   "cell_type": "markdown",
   "metadata": {
    "ExecuteTime": {
     "start_time": "2021-02-19T08:15:01.030Z"
    }
   },
   "source": [
    "# 기본자료형, 숫자형(정수, 실수, 복소수), 논리형, 문자"
   ]
  },
  {
   "cell_type": "markdown",
   "metadata": {},
   "source": [
    "## 숫자형"
   ]
  },
  {
   "cell_type": "code",
   "execution_count": null,
   "metadata": {
    "ExecuteTime": {
     "start_time": "2021-02-19T08:15:58.887Z"
    }
   },
   "outputs": [],
   "source": [
    "import sys\n",
    "print(sys.maxsize)           "
   ]
  },
  {
   "cell_type": "code",
   "execution_count": null,
   "metadata": {
    "ExecuteTime": {
     "start_time": "2021-02-19T08:17:05.609Z"
    }
   },
   "outputs": [],
   "source": [
    "i = 92233720368547\n",
    "type(i)"
   ]
  },
  {
   "cell_type": "code",
   "execution_count": null,
   "metadata": {
    "ExecuteTime": {
     "start_time": "2021-02-19T08:17:34.163Z"
    }
   },
   "outputs": [],
   "source": [
    "f=3.5\n",
    "type(f)"
   ]
  },
  {
   "cell_type": "code",
   "execution_count": null,
   "metadata": {
    "ExecuteTime": {
     "start_time": "2021-02-19T08:18:30.357Z"
    }
   },
   "outputs": [],
   "source": [
    "f = 3/2\n",
    "print(f)\n",
    "print(type)"
   ]
  },
  {
   "cell_type": "code",
   "execution_count": null,
   "metadata": {
    "ExecuteTime": {
     "start_time": "2021-02-19T08:18:57.214Z"
    }
   },
   "outputs": [],
   "source": [
    "f=2/2\n",
    "print(f)\n",
    "print(type(f))"
   ]
  },
  {
   "cell_type": "code",
   "execution_count": null,
   "metadata": {
    "ExecuteTime": {
     "start_time": "2021-02-19T08:20:52.018Z"
    }
   },
   "outputs": [],
   "source": [
    "a=3+2j  #복소수\n",
    "b=1j    #복소수"
   ]
  },
  {
   "cell_type": "code",
   "execution_count": null,
   "metadata": {
    "ExecuteTime": {
     "start_time": "2021-02-19T08:21:21.951Z"
    }
   },
   "outputs": [],
   "source": [
    "print(a)\n",
    "print(type(a))"
   ]
  },
  {
   "cell_type": "code",
   "execution_count": null,
   "metadata": {
    "ExecuteTime": {
     "start_time": "2021-02-19T08:21:27.909Z"
    }
   },
   "outputs": [],
   "source": [
    "a+b"
   ]
  },
  {
   "cell_type": "code",
   "execution_count": null,
   "metadata": {
    "ExecuteTime": {
     "start_time": "2021-02-19T08:21:50.972Z"
    }
   },
   "outputs": [],
   "source": [
    "print(b**2) #b의 제곱"
   ]
  },
  {
   "cell_type": "code",
   "execution_count": null,
   "metadata": {
    "ExecuteTime": {
     "start_time": "2021-02-19T08:23:39.292Z"
    }
   },
   "outputs": [],
   "source": [
    "f = 1.13e-8\n",
    "print(f)\n",
    "g = 1.13e12\n",
    "print(g)"
   ]
  },
  {
   "cell_type": "code",
   "execution_count": null,
   "metadata": {},
   "outputs": [],
   "source": []
  },
  {
   "cell_type": "markdown",
   "metadata": {},
   "source": [
    "## 문자형"
   ]
  },
  {
   "cell_type": "code",
   "execution_count": 7,
   "metadata": {
    "ExecuteTime": {
     "end_time": "2021-02-19T08:36:21.098565Z",
     "start_time": "2021-02-19T08:36:21.094601Z"
    }
   },
   "outputs": [
    {
     "name": "stdout",
     "output_type": "stream",
     "text": [
      "홍길동 서울시 마포구\n"
     ]
    }
   ],
   "source": [
    "name = '홍길동'\n",
    "address= '서울시 마포구'\n",
    "print(name, address)"
   ]
  },
  {
   "cell_type": "code",
   "execution_count": 9,
   "metadata": {
    "ExecuteTime": {
     "end_time": "2021-02-19T08:38:10.709681Z",
     "start_time": "2021-02-19T08:38:10.706708Z"
    }
   },
   "outputs": [
    {
     "name": "stdout",
     "output_type": "stream",
     "text": [
      " 이렇게 작성하면\n",
      "줄 바꿈도 그대로 적용해서 여러 줄의 문자를 \n",
      "입력할 수 있습니다\n"
     ]
    }
   ],
   "source": [
    "text = ''' 이렇게 작성하면\n",
    "줄 바꿈도 그대로 적용해서 여러 줄의 문자를 \n",
    "입력할 수 있습니다'''\n",
    "print(text)"
   ]
  },
  {
   "cell_type": "code",
   "execution_count": 10,
   "metadata": {
    "ExecuteTime": {
     "end_time": "2021-02-19T08:38:58.494218Z",
     "start_time": "2021-02-19T08:38:58.490227Z"
    }
   },
   "outputs": [
    {
     "name": "stdout",
     "output_type": "stream",
     "text": [
      "이렇게 작성하면\n",
      "줄 바꿈도 그대로 적용해서 여러 줄의 문자를 \n",
      "입력할 수 있습니다\n",
      "\n"
     ]
    }
   ],
   "source": [
    "text= \"\"\"이렇게 작성하면\n",
    "줄 바꿈도 그대로 적용해서 여러 줄의 문자를 \n",
    "입력할 수 있습니다\n",
    "\"\"\"\n",
    "print(text)"
   ]
  },
  {
   "cell_type": "code",
   "execution_count": 11,
   "metadata": {
    "ExecuteTime": {
     "end_time": "2021-02-19T08:39:30.140435Z",
     "start_time": "2021-02-19T08:39:30.136447Z"
    }
   },
   "outputs": [
    {
     "name": "stdout",
     "output_type": "stream",
     "text": [
      "Hello\n",
      "World\n"
     ]
    }
   ],
   "source": [
    "greeting = \"\"\"Hello\n",
    "World\"\"\"\n",
    "print(greeting)"
   ]
  },
  {
   "cell_type": "code",
   "execution_count": 12,
   "metadata": {
    "ExecuteTime": {
     "end_time": "2021-02-19T08:40:02.910159Z",
     "start_time": "2021-02-19T08:40:02.906169Z"
    }
   },
   "outputs": [
    {
     "name": "stdout",
     "output_type": "stream",
     "text": [
      "Hello\n",
      "World\n"
     ]
    }
   ],
   "source": [
    "greeting = \"Hello\\nWorld\"\n",
    "print(greeting)"
   ]
  },
  {
   "cell_type": "code",
   "execution_count": 13,
   "metadata": {
    "ExecuteTime": {
     "end_time": "2021-02-19T08:41:06.116928Z",
     "start_time": "2021-02-19T08:41:06.113962Z"
    }
   },
   "outputs": [
    {
     "name": "stdout",
     "output_type": "stream",
     "text": [
      "Hello\\nWorld\n"
     ]
    }
   ],
   "source": [
    "print(r\"Hello\\nWorld\") #r:raw data"
   ]
  },
  {
   "cell_type": "code",
   "execution_count": 14,
   "metadata": {
    "ExecuteTime": {
     "end_time": "2021-02-19T08:41:47.865142Z",
     "start_time": "2021-02-19T08:41:47.861153Z"
    }
   },
   "outputs": [
    {
     "name": "stdout",
     "output_type": "stream",
     "text": [
      "Hello,World\n"
     ]
    }
   ],
   "source": [
    "print(\"Hello\"+\",World\")"
   ]
  },
  {
   "cell_type": "code",
   "execution_count": 15,
   "metadata": {
    "ExecuteTime": {
     "end_time": "2021-02-19T08:42:09.690396Z",
     "start_time": "2021-02-19T08:42:09.686435Z"
    }
   },
   "outputs": [
    {
     "name": "stdout",
     "output_type": "stream",
     "text": [
      "HelloHelloHello\n"
     ]
    }
   ],
   "source": [
    "print(\"Hello\"*3)  #문자열*숫자; 숫자만큼 반복 "
   ]
  },
  {
   "cell_type": "code",
   "execution_count": 16,
   "metadata": {
    "ExecuteTime": {
     "end_time": "2021-02-19T08:42:53.393019Z",
     "start_time": "2021-02-19T08:42:53.389049Z"
    }
   },
   "outputs": [],
   "source": [
    "str = \"0123456789\""
   ]
  },
  {
   "cell_type": "code",
   "execution_count": null,
   "metadata": {},
   "outputs": [],
   "source": [
    "#문자열 슬라이싱 "
   ]
  },
  {
   "cell_type": "code",
   "execution_count": 17,
   "metadata": {
    "ExecuteTime": {
     "end_time": "2021-02-19T08:43:32.057336Z",
     "start_time": "2021-02-19T08:43:32.048359Z"
    }
   },
   "outputs": [
    {
     "data": {
      "text/plain": [
       "'012'"
      ]
     },
     "execution_count": 17,
     "metadata": {},
     "output_type": "execute_result"
    }
   ],
   "source": [
    "str[0:3] #0번째부터 3번째 앞까지 "
   ]
  },
  {
   "cell_type": "code",
   "execution_count": 18,
   "metadata": {
    "ExecuteTime": {
     "end_time": "2021-02-19T08:44:18.078909Z",
     "start_time": "2021-02-19T08:44:18.074918Z"
    }
   },
   "outputs": [
    {
     "data": {
      "text/plain": [
       "'7'"
      ]
     },
     "execution_count": 18,
     "metadata": {},
     "output_type": "execute_result"
    }
   ],
   "source": [
    "str[-3]        #뒤에서부터3번째 "
   ]
  },
  {
   "cell_type": "code",
   "execution_count": 19,
   "metadata": {
    "ExecuteTime": {
     "end_time": "2021-02-19T08:45:16.281870Z",
     "start_time": "2021-02-19T08:45:16.276883Z"
    }
   },
   "outputs": [
    {
     "data": {
      "text/plain": [
       "'56789'"
      ]
     },
     "execution_count": 19,
     "metadata": {},
     "output_type": "execute_result"
    }
   ],
   "source": [
    "str[5:]   #5번쨰부터 끝까지"
   ]
  },
  {
   "cell_type": "code",
   "execution_count": 20,
   "metadata": {
    "ExecuteTime": {
     "end_time": "2021-02-19T08:45:26.441776Z",
     "start_time": "2021-02-19T08:45:26.437795Z"
    }
   },
   "outputs": [
    {
     "data": {
      "text/plain": [
       "'012'"
      ]
     },
     "execution_count": 20,
     "metadata": {},
     "output_type": "execute_result"
    }
   ],
   "source": [
    "str[:3] #처음부터 3번째앞까지"
   ]
  },
  {
   "cell_type": "code",
   "execution_count": 21,
   "metadata": {
    "ExecuteTime": {
     "end_time": "2021-02-19T08:46:18.222824Z",
     "start_time": "2021-02-19T08:46:18.217837Z"
    }
   },
   "outputs": [
    {
     "data": {
      "text/plain": [
       "'0123456789'"
      ]
     },
     "execution_count": 21,
     "metadata": {},
     "output_type": "execute_result"
    }
   ],
   "source": [
    "str[:] #처음부터 끝까지"
   ]
  },
  {
   "cell_type": "code",
   "execution_count": 22,
   "metadata": {
    "ExecuteTime": {
     "end_time": "2021-02-19T08:46:55.442818Z",
     "start_time": "2021-02-19T08:46:55.437831Z"
    }
   },
   "outputs": [
    {
     "data": {
      "text/plain": [
       "'56789'"
      ]
     },
     "execution_count": 22,
     "metadata": {},
     "output_type": "execute_result"
    }
   ],
   "source": [
    "str[5:100]  #5번째부터 끝까지 "
   ]
  },
  {
   "cell_type": "code",
   "execution_count": 25,
   "metadata": {
    "ExecuteTime": {
     "end_time": "2021-02-19T08:49:43.968289Z",
     "start_time": "2021-02-19T08:49:43.964303Z"
    }
   },
   "outputs": [
    {
     "name": "stdout",
     "output_type": "stream",
     "text": [
      "02468\n"
     ]
    }
   ],
   "source": [
    "str[0:9:2] #0번째부터 9번째앞까지   2씩 증가해서        0,2,4,6,8번째  \n",
    "print(str[::2])"
   ]
  },
  {
   "cell_type": "code",
   "execution_count": 28,
   "metadata": {
    "ExecuteTime": {
     "end_time": "2021-02-19T08:53:26.822280Z",
     "start_time": "2021-02-19T08:53:26.818334Z"
    }
   },
   "outputs": [
    {
     "name": "stdout",
     "output_type": "stream",
     "text": [
      "987654321\n",
      "9876543210\n",
      "9876543210\n"
     ]
    }
   ],
   "source": [
    "# 끝부터 처음까지 꺼꾸로 \n",
    "print(str[9:0:-1])    # 9부터0번쨰 전까지  -1씩 index감소\n",
    "print(str[9::-1])     # 9부터 처음까지 -1씩 감소\n",
    "print(str[::-1])      # 끝부터 처음까지 -1씩 감소 "
   ]
  },
  {
   "cell_type": "code",
   "execution_count": 41,
   "metadata": {
    "ExecuteTime": {
     "end_time": "2021-02-19T09:07:40.342507Z",
     "start_time": "2021-02-19T09:07:40.338543Z"
    }
   },
   "outputs": [
    {
     "name": "stdout",
     "output_type": "stream",
     "text": [
      "이름:홍길동, 주소:서울, 전화:02-716-1006, 특징: 번쩍번쩍02-789-7878\n"
     ]
    }
   ],
   "source": [
    "import re\n",
    "data = \"이름:홍길동, 주소:서울, 전화:02-716-1006, 특징: 번쩍번쩍02-789-7878\"\n",
    "print(data)"
   ]
  },
  {
   "cell_type": "code",
   "execution_count": 42,
   "metadata": {
    "ExecuteTime": {
     "end_time": "2021-02-19T09:07:41.683438Z",
     "start_time": "2021-02-19T09:07:41.679449Z"
    }
   },
   "outputs": [
    {
     "name": "stdout",
     "output_type": "stream",
     "text": [
      "data에서 추출된 전화번호 ['02-716-1006', '02-789-7878']\n"
     ]
    }
   ],
   "source": [
    "phone_pattern= r'[\\d]{2,3}-[\\d]{3,4}-[\\d]{4}'       #\\d는 digital를 의미\n",
    "phone = re.findall(phone_pattern,data)              #pattern, string      ##########################\n",
    "print('data에서 추출된 전화번호',phone)"
   ]
  },
  {
   "cell_type": "markdown",
   "metadata": {},
   "source": [
    "## 논리형(True,False)"
   ]
  },
  {
   "cell_type": "code",
   "execution_count": 36,
   "metadata": {
    "ExecuteTime": {
     "end_time": "2021-02-19T09:00:18.461194Z",
     "start_time": "2021-02-19T09:00:18.457204Z"
    }
   },
   "outputs": [
    {
     "name": "stdout",
     "output_type": "stream",
     "text": [
      "True\n",
      "<class 'bool'>\n",
      "True\n"
     ]
    }
   ],
   "source": [
    "a=True\n",
    "print(a)\n",
    "print(type(a))\n",
    "print(isinstance(a,bool))"
   ]
  },
  {
   "cell_type": "code",
   "execution_count": 37,
   "metadata": {
    "ExecuteTime": {
     "end_time": "2021-02-19T09:03:10.943470Z",
     "start_time": "2021-02-19T09:03:10.939481Z"
    }
   },
   "outputs": [],
   "source": [
    "# False로 간주되는 것: 0. None, \"\" [],(),{} \n",
    "# ' ' , 널문자(''\\0')은 True "
   ]
  },
  {
   "cell_type": "code",
   "execution_count": 38,
   "metadata": {
    "ExecuteTime": {
     "end_time": "2021-02-19T09:03:28.751627Z",
     "start_time": "2021-02-19T09:03:28.747635Z"
    }
   },
   "outputs": [
    {
     "name": "stdout",
     "output_type": "stream",
     "text": [
      "False\n"
     ]
    }
   ],
   "source": [
    "if\"\":\n",
    "    print(True)\n",
    "else:\n",
    "    print(False)"
   ]
  },
  {
   "cell_type": "code",
   "execution_count": 39,
   "metadata": {
    "ExecuteTime": {
     "end_time": "2021-02-19T09:04:44.468364Z",
     "start_time": "2021-02-19T09:04:44.464400Z"
    }
   },
   "outputs": [
    {
     "name": "stdout",
     "output_type": "stream",
     "text": [
      "False\n"
     ]
    }
   ],
   "source": [
    "a=10\n",
    "b=10\n",
    "if a-b:\n",
    "    print(True)                                           ##################0이어서 False\n",
    "else:\n",
    "    print(False)"
   ]
  },
  {
   "cell_type": "code",
   "execution_count": 40,
   "metadata": {
    "ExecuteTime": {
     "end_time": "2021-02-19T09:05:46.314295Z",
     "start_time": "2021-02-19T09:05:46.310330Z"
    }
   },
   "outputs": [
    {
     "name": "stdout",
     "output_type": "stream",
     "text": [
      "False\n"
     ]
    }
   ],
   "source": [
    "if 0+0j:\n",
    "    print(True)\n",
    "else:\n",
    "    print(False)"
   ]
  },
  {
   "cell_type": "code",
   "execution_count": null,
   "metadata": {},
   "outputs": [],
   "source": []
  },
  {
   "cell_type": "code",
   "execution_count": null,
   "metadata": {},
   "outputs": [],
   "source": []
  },
  {
   "cell_type": "code",
   "execution_count": null,
   "metadata": {},
   "outputs": [],
   "source": []
  }
 ],
 "metadata": {
  "kernelspec": {
   "display_name": "Python 3",
   "language": "python",
   "name": "python3"
  },
  "language_info": {
   "codemirror_mode": {
    "name": "ipython",
    "version": 3
   },
   "file_extension": ".py",
   "mimetype": "text/x-python",
   "name": "python",
   "nbconvert_exporter": "python",
   "pygments_lexer": "ipython3",
   "version": "3.8.5"
  },
  "toc": {
   "base_numbering": 1,
   "nav_menu": {},
   "number_sections": true,
   "sideBar": true,
   "skip_h1_title": false,
   "title_cell": "Table of Contents",
   "title_sidebar": "Contents",
   "toc_cell": false,
   "toc_position": {},
   "toc_section_display": true,
   "toc_window_display": true
  },
  "varInspector": {
   "cols": {
    "lenName": 16,
    "lenType": 16,
    "lenVar": 40
   },
   "kernels_config": {
    "python": {
     "delete_cmd_postfix": "",
     "delete_cmd_prefix": "del ",
     "library": "var_list.py",
     "varRefreshCmd": "print(var_dic_list())"
    },
    "r": {
     "delete_cmd_postfix": ") ",
     "delete_cmd_prefix": "rm(",
     "library": "var_list.r",
     "varRefreshCmd": "cat(var_dic_list()) "
    }
   },
   "types_to_exclude": [
    "module",
    "function",
    "builtin_function_or_method",
    "instance",
    "_Feature"
   ],
   "window_display": false
  }
 },
 "nbformat": 4,
 "nbformat_minor": 4
}

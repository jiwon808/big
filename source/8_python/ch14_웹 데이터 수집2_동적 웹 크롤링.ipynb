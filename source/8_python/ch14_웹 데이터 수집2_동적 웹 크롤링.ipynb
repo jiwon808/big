{
 "cells": [
  {
   "cell_type": "markdown",
   "metadata": {},
   "source": [
    "# 3절. Selenium을 이용한 웹 데이터 수집\n",
    "- 구글에서 'selenium python'검색\n",
    "https://selenium-python.readthedocs.io/getting-started.html\n",
    "- pip install selenium"
   ]
  },
  {
   "cell_type": "markdown",
   "metadata": {},
   "source": [
    "- **chrome버전을 확인하고 맞는 chrome driver버전을 다운로드** "
   ]
  },
  {
   "cell_type": "code",
   "execution_count": 1,
   "metadata": {
    "ExecuteTime": {
     "end_time": "2021-03-17T08:53:43.480350Z",
     "start_time": "2021-03-17T08:53:41.760768Z"
    }
   },
   "outputs": [],
   "source": [
    "from selenium import webdriver\n",
    "driver= webdriver.Chrome(\"D:/bigdata(psa)/selenium/chromedriver.exe\")    # /하나 혹은 \\\\ (역슬래시 두 개)\n",
    "#chromedriver.exe가 쥬피터노트북파일 여기서  bigdata(psa) src  8_python안에 있으면  Chrome() 안에 아무것도 안써도됨 "
   ]
  },
  {
   "cell_type": "code",
   "execution_count": 2,
   "metadata": {
    "ExecuteTime": {
     "end_time": "2021-03-17T08:54:26.012099Z",
     "start_time": "2021-03-17T08:54:23.402973Z"
    }
   },
   "outputs": [],
   "source": [
    "driver.get('http://python.org')"
   ]
  },
  {
   "cell_type": "code",
   "execution_count": 5,
   "metadata": {
    "ExecuteTime": {
     "end_time": "2021-03-17T09:03:48.533012Z",
     "start_time": "2021-03-17T09:03:48.418713Z"
    }
   },
   "outputs": [],
   "source": [
    "elem=driver.find_element_by_name('q')   #find에  shift+tab 키   \n",
    "elem.clear()   # 검색창안에 입력한 내용을 지우고 \n",
    "elem.send_keys(\"pycon\")    #그러면 브라우저 검색창에서 pycon이 나타남 "
   ]
  },
  {
   "cell_type": "code",
   "execution_count": 6,
   "metadata": {
    "ExecuteTime": {
     "end_time": "2021-03-17T09:03:51.931027Z",
     "start_time": "2021-03-17T09:03:49.868590Z"
    }
   },
   "outputs": [],
   "source": [
    "#pycon를 쳤으면 enter를 눌러라\n",
    "from selenium.webdriver.common.keys import Keys\n",
    "elem.send_keys(Keys.RETURN) # Enter키 "
   ]
  },
  {
   "cell_type": "code",
   "execution_count": 9,
   "metadata": {
    "ExecuteTime": {
     "end_time": "2021-03-17T09:12:55.511946Z",
     "start_time": "2021-03-17T09:12:55.140658Z"
    }
   },
   "outputs": [
    {
     "name": "stdout",
     "output_type": "stream",
     "text": [
      "{PSF PyCon Trademark Usage Policy-https://www.python.org/psf/trademarks/pycon\n",
      "{Conferences and Workshops-https://www.python.org/community/workshops\n",
      "{PyCon Italia 2016 (PyCon Sette)-https://www.python.org/events/python-events/378/\n",
      "{2008-04-14 PSF Board Meeting Minutes-https://www.python.org/psf/records/board/minutes/2008-04-14\n",
      "{2012-07-16 PSF Board Meeting Minutes-https://www.python.org/psf/records/board/minutes/2012-07-16\n",
      "{2013-02-06 PSF Board Meeting Minutes-https://www.python.org/psf/records/board/minutes/2013-02-06\n",
      "{PyCon Home at python.org-https://www.python.org/community/pycon\n",
      "{PyCon Australia 2013-https://www.python.org/events/python-events/57/\n",
      "{PyCon AU 2019-https://www.python.org/events/python-events/776/\n",
      "{PyCon Australia 2014-https://www.python.org/events/python-events/10/\n",
      "{PyCon Ireland 2012-https://www.python.org/events/python-events/76/\n",
      "{PyCon Ireland 2016-https://www.python.org/events/python-events/429/\n",
      "{PyCon AU 2018-https://www.python.org/events/python-events/696/\n",
      "{PyCon Ireland 2015-https://www.python.org/events/python-events/333/\n",
      "{PyCon PL 2014-https://www.python.org/events/python-events/191/\n",
      "{PyCon AU 2015-https://www.python.org/events/python-events/273/\n",
      "{PyCon MY 2015-https://www.python.org/events/python-events/313/\n",
      "{PyCon Australia 2016-https://www.python.org/events/python-events/357/\n",
      "{PyCon MY 2014-https://www.python.org/events/python-events/151/\n",
      "{PyCon Ireland 2014-https://www.python.org/events/python-events/149/\n"
     ]
    }
   ],
   "source": [
    "result_list=driver.find_elements_by_css_selector(\"form h3>a\")   #결과 여러개 있어서 find_element가 아니고  find_elements  \n",
    "for result in result_list:\n",
    "    print(\"{%s-%s\"%(result.text,result.get_attribute(\"href\")))"
   ]
  },
  {
   "cell_type": "code",
   "execution_count": 10,
   "metadata": {
    "ExecuteTime": {
     "end_time": "2021-03-17T09:14:26.241302Z",
     "start_time": "2021-03-17T09:14:21.875247Z"
    }
   },
   "outputs": [],
   "source": [
    "#브라우저 종료\n",
    "driver.close()"
   ]
  },
  {
   "cell_type": "markdown",
   "metadata": {},
   "source": [
    "## **맞춤법 검사기(네이버 맞춤법 검사기 이용)**"
   ]
  },
  {
   "cell_type": "code",
   "execution_count": 9,
   "metadata": {
    "ExecuteTime": {
     "end_time": "2021-03-18T01:04:39.979706Z",
     "start_time": "2021-03-18T01:04:35.515375Z"
    }
   },
   "outputs": [],
   "source": [
    "from selenium import webdriver\n",
    "from selenium.webdriver.common.keys import Keys\n",
    "from bs4 import BeautifulSoup \n",
    "import time \n",
    "\n",
    "driver = webdriver.Chrome(\"D:/bigdata(psa)/selenium/chromedriver.exe\")\n",
    "driver.get(\"http://www.naver.com\")"
   ]
  },
  {
   "cell_type": "code",
   "execution_count": 10,
   "metadata": {
    "ExecuteTime": {
     "end_time": "2021-03-18T01:04:41.445508Z",
     "start_time": "2021-03-18T01:04:40.124320Z"
    }
   },
   "outputs": [],
   "source": [
    "elem = driver.find_element_by_name(\"query\")  # name=\"query\"가 있는 곳에 \"맞춤법 검사기\" 치고, 그 페이지를 호출\n",
    "elem.send_keys(\"맞춤법 검사기\")\n",
    "elem.send_keys(Keys.RETURN)"
   ]
  },
  {
   "cell_type": "markdown",
   "metadata": {},
   "source": [
    "- 네이버 맞춤법 검사기에 \"한녕하세요.방갑습니다.\"라는 text가 들어감"
   ]
  },
  {
   "cell_type": "code",
   "execution_count": 11,
   "metadata": {
    "ExecuteTime": {
     "end_time": "2021-03-18T01:04:43.956121Z",
     "start_time": "2021-03-18T01:04:43.861232Z"
    }
   },
   "outputs": [],
   "source": [
    "textarea= driver.find_element_by_class_name(\"txt_gray\")  #find치고tab치면  find_element_by_class_name  나옴\n",
    "#검색창 소스를 보면 class =\"txt_gray\"\n",
    "textarea.send_keys(\"한녕하세요. 방갑습니다.\")"
   ]
  },
  {
   "cell_type": "markdown",
   "metadata": {},
   "source": [
    "- '검사하기' 버튼이 클릭됨"
   ]
  },
  {
   "cell_type": "code",
   "execution_count": 13,
   "metadata": {
    "ExecuteTime": {
     "end_time": "2021-03-18T01:04:58.823568Z",
     "start_time": "2021-03-18T01:04:58.759947Z"
    }
   },
   "outputs": [],
   "source": [
    "button = driver.find_element_by_class_name(\"btn_check\")  # 검사하기 버튼 소스\n",
    "button.click()"
   ]
  },
  {
   "cell_type": "code",
   "execution_count": 17,
   "metadata": {
    "ExecuteTime": {
     "end_time": "2021-03-18T01:07:02.568790Z",
     "start_time": "2021-03-18T01:07:02.428670Z"
    }
   },
   "outputs": [
    {
     "data": {
      "text/plain": [
       "'맞춤법 검사를 원하는 단어나 문장을 입력해 주세요. 한 멍하세요. 반갑습니다.'"
      ]
     },
     "execution_count": 17,
     "metadata": {},
     "output_type": "execute_result"
    }
   ],
   "source": [
    "soup = BeautifulSoup(driver.page_source,\"html.parser\")\n",
    "result = soup.select_one(\"p._result_text.stand_txt\").text   # .text를해야 내용이 나옴 \n",
    "result"
   ]
  },
  {
   "cell_type": "markdown",
   "metadata": {},
   "source": [
    "- **<최종 버전>**"
   ]
  },
  {
   "cell_type": "code",
   "execution_count": 23,
   "metadata": {
    "ExecuteTime": {
     "end_time": "2021-03-18T01:18:51.745301Z",
     "start_time": "2021-03-18T01:18:39.075278Z"
    }
   },
   "outputs": [
    {
     "name": "stdout",
     "output_type": "stream",
     "text": [
      "안녕하세요. 반갑습니다.\n"
     ]
    }
   ],
   "source": [
    "from selenium import webdriver\n",
    "from selenium.webdriver.common.keys import Keys\n",
    "from bs4 import BeautifulSoup \n",
    "import time \n",
    "\n",
    "driver = webdriver.Chrome(\"D:/bigdata(psa)/selenium/chromedriver.exe\")\n",
    "driver.get(\"http://www.naver.com\")\n",
    "\n",
    "elem = driver.find_element_by_name(\"query\")  # name=\"query\"가 있는 곳에 \"맞춤법 검사기\" 치고, 그 페이지를 호출\n",
    "elem.send_keys(\"맞춤법 검사기\")\n",
    "elem.send_keys(Keys.RETURN)\n",
    "time.sleep(1)     #잠깐 있어라. 그래야 다음을 넘어감  ***** 추가된 내용 **********************\n",
    "\n",
    "textarea= driver.find_element_by_class_name(\"txt_gray\")  #find치고tab치면  find_element_by_class_name  나옴\n",
    "#검색창 소스를 보면 class =\"txt_gray\"\n",
    "textarea.send_keys(Keys.CONTROL,\"a \")                    #***** 추가된 내용 **********************\n",
    "textarea.send_keys(\"한녕하세요. 방갑습니다.\")\n",
    "\n",
    "button = driver.find_element_by_class_name(\"btn_check\")  # 검사하기 버튼 소스\n",
    "button.click()\n",
    "time.sleep(2)  #검사하기 클릭 후 잠시 후에 결과 크롤링    #***** 추가된 내용 **********************\n",
    "soup = BeautifulSoup(driver.page_source,\"html.parser\")\n",
    "result = soup.select_one(\"p._result_text.stand_txt\").text   # .text를해야 내용이 나옴 \n",
    "print(result)\n"
   ]
  },
  {
   "cell_type": "markdown",
   "metadata": {},
   "source": [
    "## **맞춤법감사가 안 된 text파일을 맞춤법 검사가 완료된 text파일로 output** "
   ]
  },
  {
   "cell_type": "code",
   "execution_count": 33,
   "metadata": {
    "ExecuteTime": {
     "end_time": "2021-03-18T02:11:46.435202Z",
     "start_time": "2021-03-18T02:11:11.719097Z"
    }
   },
   "outputs": [
    {
     "name": "stdout",
     "output_type": "stream",
     "text": [
      "887\n",
      "2\n",
      "['한녕하세요. \\n\\n블룸버그을 비롯한 외신들은 이반 조치에 대해 “미국 제재로 어려움을 겪고 있는 화웨이가 새로운 수익원을 만들려는 것이다\"고 분석했다.\\n\\n실제로 화웨이는 미국 제재 이후 스마트폰 시장에서 큰 어려움을 겪고 있다. 한 때 1위 자리까지 넘보던 화웨이는 3위권 밖으로 밀려났다.\\n\\n■ 퀄컴이나 에릭슨·노키아보다 훨씬 좋은 조건\\n\\n허지만 특허전문 사이트 포스페이턴츠는 화웨이의 특허료 부과 조건이 상당이 합리적인 편이라고 평가했다.\\n\\n이 사이트를 운영하고 있는 플로리언 뮐러는 \"대당 최대 2.5달러를 부과하겠다는 화웨이의 조건을 보고 안도했다”면서 “정치적인 지형과 관계 없이 화웨이는 여전히 제푸메 초점을 맞춘 혁신가 그룹에 속해 있다는 사실을 확인했다”고 평가했다.\\n\\n그는 특히 “에릭슨, 노키아 등의 지적재산권 정책과 달리 화웨이는 자신들의 특허권이 스마트폰, 커넥티드카, 그리고 좀더넓게는 사물인터넷 분야의 혁신에 도움되는 방양으로 라이선스되길 원하는 것 같다\"고', ' 덧붙였다.\\n\\n포스페이턴츠는 5G 단말기 한 대당 2.50달러라는 화웨이의 로열티는 다른 업체들에 비해서도 낮은 편이라고 지적했다.\\n\\n미국 연방거래위원회(FTC)와 소송 당시 공개된 자료에 따르면 퀄컴은 5G 단말기 한대당 13달러까지 요구했다고 포스페이턴츠가 전했다.\\n\\n또 노키아는 대당 로열티 상한선은 3유로(3.59달러)다. 에릭슨은 구체적인 기준이 공개되지 않았지만 노키아에 비해선 월등히 높은 편인 것으로 알려졌다.\\n\\n포스페이턴츠는 이 같은 사실을 지적하면서 “대당 2.50달러라는 화웨이의 5G 로열티 상한선은 올해 자주 거론될 것 같다”고 전망했다. 특히 에릭슨과 소송 중인 삼성이 법정에서 화웨이의 5G 필수표준특허 라이선스 조건을 적극 활용할 것으로 예상했다.\\n\\n감사함니다. 방갑습니다. ']\n"
     ]
    }
   ],
   "source": [
    "from selenium import webdriver\n",
    "from selenium.webdriver.common.keys import Keys\n",
    "from bs4 import BeautifulSoup \n",
    "import time \n",
    "\n",
    "with open(\"data/ch14.txt\",\"r\",encoding=\"utf-8\") as f:\n",
    "    text = f.read()\n",
    "print(len(text))\n",
    "ready_list=[]  #text를 '500글자가 있는 바로 앞 sapce 잘라서' (글자중간에 자르면 맞춤법 수정이 안될 수 있기때문에) list에 넣음 \n",
    "while len(text)>500:\n",
    "    temp_str = text[:500]\n",
    "    last_space_idx = temp_str.rfind(' ')            #rfind는 right find 오른쪽부터 찾는다   '. space'해야 한문장이 끝났다\n",
    "    ready_list.append(text[:last_space_idx])  #500자\n",
    "    text = text[last_space_idx:] #readY_list에 append한 앞부분은 날림\n",
    "ready_list.append(text)  #마지막 500문자 안된 나머지의 문자들을 append \n",
    "print(len(ready_list))\n",
    "print((ready_list))\n",
    "\n",
    "#webdriver, chrome, ready_list에 있는 아이를 넣는다. for문 \n",
    "#결과. 하나의 text file\n",
    "#file로 output \n",
    "driver = webdriver.Chrome(\"D:/bigdata(psa)/selenium/chromedriver.exe\")\n",
    "driver.get(\"http://www.naver.com\")\n",
    "\n",
    "elem = driver.find_element_by_name(\"query\")  # name=\"query\"가 있는 곳에 \"맞춤법 검사기\" 치고, 그 페이지를 호출\n",
    "elem.send_keys(\"맞춤법 검사기\")\n",
    "elem.send_keys(Keys.RETURN)\n",
    "time.sleep(1)     #잠깐 있어라. 그래야 다음을 넘어감  ***** 추가된 내용 **********************\n",
    "\n",
    "textarea= driver.find_element_by_class_name(\"txt_gray\")  #find치고tab치면  find_element_by_class_name  나옴\n",
    "#검색창 소스를 보면 class =\"txt_gray\"\n",
    "results =\"\"\n",
    "for ready in ready_list:\n",
    "    textarea.send_keys(Keys.CONTROL,\"a\")  #ctrl a는 기존에 있는것을 지운다는 뜻\n",
    "    textarea.send_keys(ready)\n",
    "    button = driver.find_element_by_class_name(\"btn_check\")  # 검사하기 버튼 소스\n",
    "    button.click()\n",
    "    time.sleep(2)  #검사하기 클릭 후 잠시 후에 결과 크롤링    #***** 추가된 내용 **********************\n",
    "    soup = BeautifulSoup(driver.page_source,\"html.parser\")\n",
    "    result = soup.select_one(\"p._result_text.stand_txt\").text   # .text를해야 내용이 나옴 \n",
    "    results += result.replace('.','.\\n')\n",
    "#print(results)\n",
    "with open('data/ch14_checked.txt','w',encoding='utf-8') as f:\n",
    "    f.write(results)\n",
    "driver.close()   #알아서 browser 닫힘 "
   ]
  },
  {
   "cell_type": "markdown",
   "metadata": {},
   "source": [
    "번역"
   ]
  },
  {
   "cell_type": "code",
   "execution_count": null,
   "metadata": {},
   "outputs": [],
   "source": [
    "from selenium import webdriver\n",
    "from selenium.webdriver.common.keys import Keys\n",
    "from bs4 import BeautifulSoup \n",
    "import time \n",
    "\n",
    "with open(\"data/ch14.txt\",\"r\",encoding=\"utf-8\") as f:\n",
    "    text = f.read()\n",
    "print(len(text))\n",
    "ready_list=[]  #text를 '500글자가 있는 바로 앞 sapce 잘라서' (글자중간에 자르면 맞춤법 수정이 안될 수 있기때문에) list에 넣음 \n",
    "while len(text)>500:\n",
    "    temp_str = text[:500]\n",
    "    last_space_idx = temp_str.rfind('. ')            #rfind는 right find 오른쪽부터 찾는다   '. space'해야 한문장이 끝났다\n",
    "    ready_list.append(text[:last_space_idx+1])  #500자                            # idx에 +1를 해야  .이 안빠짐\n",
    "    text = text[last_space_idx+1:] #readY_list에 append한 앞부분은 날림\n",
    "ready_list.append(text)  #마지막 500문자 안된 나머지의 문자들을 append \n",
    "print(len(ready_list))\n",
    "print((ready_list))\n",
    "\n",
    "#webdriver, chrome, ready_list에 있는 아이를 넣는다. for문 \n",
    "#결과. 하나의 text file\n",
    "#file로 output \n",
    "driver = webdriver.Chrome(\"D:/bigdata(psa)/selenium/chromedriver.exe\")\n",
    "driver.get(\"http://www.naver.com\")\n",
    "\n",
    "elem = driver.find_element_by_name(\"query\")  # name=\"query\"가 있는 곳에 \"맞춤법 검사기\" 치고, 그 페이지를 호출\n",
    "elem.send_keys(\"맞춤법 검사기\")\n",
    "elem.send_keys(Keys.RETURN)\n",
    "time.sleep(1)     #잠깐 있어라. 그래야 다음을 넘어감  ***** 추가된 내용 **********************\n",
    "\n",
    "textarea= driver.find_element_by_class_name(\"txt_gray\")  #find치고tab치면  find_element_by_class_name  나옴\n",
    "#검색창 소스를 보면 class =\"txt_gray\"\n",
    "results =\"\"\n",
    "for ready in ready_list:\n",
    "    textarea.send_keys(Keys.CONTROL,\"a\")  #ctrl a는 기존에 있는것을 지운다는 뜻\n",
    "    textarea.send_keys(ready)\n",
    "    button = driver.find_element_by_class_name(\"btn_check\")  # 검사하기 버튼 소스\n",
    "    button.click()\n",
    "    time.sleep(2)  #검사하기 클릭 후 잠시 후에 결과 크롤링    #***** 추가된 내용 **********************\n",
    "    soup = BeautifulSoup(driver.page_source,\"html.parser\")\n",
    "    result = soup.select_one(\"p._result_text.stand_txt\").text   # .text를해야 내용이 나옴 \n",
    "    results += result.replace('.','.\\n')\n",
    "#print(results)\n",
    "with open('data/ch14_checked.txt','w',encoding='utf-8') as f:\n",
    "    f.write(results)\n",
    "driver.close()   #알아서 browser 닫힘 "
   ]
  },
  {
   "cell_type": "code",
   "execution_count": null,
   "metadata": {},
   "outputs": [],
   "source": []
  },
  {
   "cell_type": "code",
   "execution_count": null,
   "metadata": {},
   "outputs": [],
   "source": []
  },
  {
   "cell_type": "code",
   "execution_count": null,
   "metadata": {},
   "outputs": [],
   "source": []
  },
  {
   "cell_type": "code",
   "execution_count": null,
   "metadata": {},
   "outputs": [],
   "source": []
  }
 ],
 "metadata": {
  "kernelspec": {
   "display_name": "Python 3",
   "language": "python",
   "name": "python3"
  },
  "language_info": {
   "codemirror_mode": {
    "name": "ipython",
    "version": 3
   },
   "file_extension": ".py",
   "mimetype": "text/x-python",
   "name": "python",
   "nbconvert_exporter": "python",
   "pygments_lexer": "ipython3",
   "version": "3.8.5"
  },
  "toc": {
   "base_numbering": 1,
   "nav_menu": {},
   "number_sections": false,
   "sideBar": true,
   "skip_h1_title": false,
   "title_cell": "Table of Contents",
   "title_sidebar": "Contents",
   "toc_cell": false,
   "toc_position": {
    "height": "calc(100% - 180px)",
    "left": "10px",
    "top": "150px",
    "width": "165px"
   },
   "toc_section_display": true,
   "toc_window_display": true
  },
  "varInspector": {
   "cols": {
    "lenName": 16,
    "lenType": 16,
    "lenVar": 40
   },
   "kernels_config": {
    "python": {
     "delete_cmd_postfix": "",
     "delete_cmd_prefix": "del ",
     "library": "var_list.py",
     "varRefreshCmd": "print(var_dic_list())"
    },
    "r": {
     "delete_cmd_postfix": ") ",
     "delete_cmd_prefix": "rm(",
     "library": "var_list.r",
     "varRefreshCmd": "cat(var_dic_list()) "
    }
   },
   "types_to_exclude": [
    "module",
    "function",
    "builtin_function_or_method",
    "instance",
    "_Feature"
   ],
   "window_display": false
  }
 },
 "nbformat": 4,
 "nbformat_minor": 4
}

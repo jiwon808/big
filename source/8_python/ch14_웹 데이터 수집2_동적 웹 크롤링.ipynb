{
 "cells": [
  {
   "cell_type": "markdown",
   "metadata": {},
   "source": [
    "# 3절. Selenium을 이용한 웹 데이터 수집\n",
    "- 구글에서 'selenium python'검색\n",
    "https://selenium-python.readthedocs.io/getting-started.html\n",
    "- pip install selenium"
   ]
  },
  {
   "cell_type": "markdown",
   "metadata": {},
   "source": [
    "- **chrome버전을 확인하고 맞는 chrome driver버전을 다운로드** "
   ]
  },
  {
   "cell_type": "code",
   "execution_count": 1,
   "metadata": {
    "ExecuteTime": {
     "end_time": "2021-03-17T08:53:43.480350Z",
     "start_time": "2021-03-17T08:53:41.760768Z"
    }
   },
   "outputs": [],
   "source": [
    "from selenium import webdriver\n",
    "driver= webdriver.Chrome(\"D:/bigdata(psa)/selenium/chromedriver.exe\")    # /하나 혹은 \\\\ (역슬래시 두 개)\n",
    "#chromedriver.exe가 쥬피터노트북파일 여기서  bigdata(psa) src  8_python안에 있으면  Chrome() 안에 아무것도 안써도됨 "
   ]
  },
  {
   "cell_type": "code",
   "execution_count": 2,
   "metadata": {
    "ExecuteTime": {
     "end_time": "2021-03-17T08:54:26.012099Z",
     "start_time": "2021-03-17T08:54:23.402973Z"
    }
   },
   "outputs": [],
   "source": [
    "driver.get('http://python.org')"
   ]
  },
  {
   "cell_type": "code",
   "execution_count": 5,
   "metadata": {
    "ExecuteTime": {
     "end_time": "2021-03-17T09:03:48.533012Z",
     "start_time": "2021-03-17T09:03:48.418713Z"
    }
   },
   "outputs": [],
   "source": [
    "elem=driver.find_element_by_name('q')   #find에  shift+tab 키   \n",
    "elem.clear()   # 검색창안에 입력한 내용을 지우고 \n",
    "elem.send_keys(\"pycon\")    #그러면 브라우저 검색창에서 pycon이 나타남 "
   ]
  },
  {
   "cell_type": "code",
   "execution_count": 6,
   "metadata": {
    "ExecuteTime": {
     "end_time": "2021-03-17T09:03:51.931027Z",
     "start_time": "2021-03-17T09:03:49.868590Z"
    }
   },
   "outputs": [],
   "source": [
    "#pycon를 쳤으면 enter를 눌러라\n",
    "from selenium.webdriver.common.keys import Keys\n",
    "elem.send_keys(Keys.RETURN) # Enter키 "
   ]
  },
  {
   "cell_type": "code",
   "execution_count": 9,
   "metadata": {
    "ExecuteTime": {
     "end_time": "2021-03-17T09:12:55.511946Z",
     "start_time": "2021-03-17T09:12:55.140658Z"
    }
   },
   "outputs": [
    {
     "name": "stdout",
     "output_type": "stream",
     "text": [
      "{PSF PyCon Trademark Usage Policy-https://www.python.org/psf/trademarks/pycon\n",
      "{Conferences and Workshops-https://www.python.org/community/workshops\n",
      "{PyCon Italia 2016 (PyCon Sette)-https://www.python.org/events/python-events/378/\n",
      "{2008-04-14 PSF Board Meeting Minutes-https://www.python.org/psf/records/board/minutes/2008-04-14\n",
      "{2012-07-16 PSF Board Meeting Minutes-https://www.python.org/psf/records/board/minutes/2012-07-16\n",
      "{2013-02-06 PSF Board Meeting Minutes-https://www.python.org/psf/records/board/minutes/2013-02-06\n",
      "{PyCon Home at python.org-https://www.python.org/community/pycon\n",
      "{PyCon Australia 2013-https://www.python.org/events/python-events/57/\n",
      "{PyCon AU 2019-https://www.python.org/events/python-events/776/\n",
      "{PyCon Australia 2014-https://www.python.org/events/python-events/10/\n",
      "{PyCon Ireland 2012-https://www.python.org/events/python-events/76/\n",
      "{PyCon Ireland 2016-https://www.python.org/events/python-events/429/\n",
      "{PyCon AU 2018-https://www.python.org/events/python-events/696/\n",
      "{PyCon Ireland 2015-https://www.python.org/events/python-events/333/\n",
      "{PyCon PL 2014-https://www.python.org/events/python-events/191/\n",
      "{PyCon AU 2015-https://www.python.org/events/python-events/273/\n",
      "{PyCon MY 2015-https://www.python.org/events/python-events/313/\n",
      "{PyCon Australia 2016-https://www.python.org/events/python-events/357/\n",
      "{PyCon MY 2014-https://www.python.org/events/python-events/151/\n",
      "{PyCon Ireland 2014-https://www.python.org/events/python-events/149/\n"
     ]
    }
   ],
   "source": [
    "result_list=driver.find_elements_by_css_selector(\"form h3>a\")   #결과 여러개 있어서 find_element가 아니고  find_elements  \n",
    "for result in result_list:\n",
    "    print(\"{%s-%s\"%(result.text,result.get_attribute(\"href\")))"
   ]
  },
  {
   "cell_type": "code",
   "execution_count": 10,
   "metadata": {
    "ExecuteTime": {
     "end_time": "2021-03-17T09:14:26.241302Z",
     "start_time": "2021-03-17T09:14:21.875247Z"
    }
   },
   "outputs": [],
   "source": [
    "#브라우저 종료\n",
    "driver.close()"
   ]
  },
  {
   "cell_type": "code",
   "execution_count": null,
   "metadata": {},
   "outputs": [],
   "source": []
  },
  {
   "cell_type": "code",
   "execution_count": null,
   "metadata": {},
   "outputs": [],
   "source": []
  },
  {
   "cell_type": "code",
   "execution_count": null,
   "metadata": {},
   "outputs": [],
   "source": []
  },
  {
   "cell_type": "code",
   "execution_count": null,
   "metadata": {},
   "outputs": [],
   "source": []
  }
 ],
 "metadata": {
  "kernelspec": {
   "display_name": "Python 3",
   "language": "python",
   "name": "python3"
  },
  "language_info": {
   "codemirror_mode": {
    "name": "ipython",
    "version": 3
   },
   "file_extension": ".py",
   "mimetype": "text/x-python",
   "name": "python",
   "nbconvert_exporter": "python",
   "pygments_lexer": "ipython3",
   "version": "3.8.5"
  },
  "toc": {
   "base_numbering": 1,
   "nav_menu": {},
   "number_sections": false,
   "sideBar": true,
   "skip_h1_title": false,
   "title_cell": "Table of Contents",
   "title_sidebar": "Contents",
   "toc_cell": false,
   "toc_position": {},
   "toc_section_display": true,
   "toc_window_display": true
  },
  "varInspector": {
   "cols": {
    "lenName": 16,
    "lenType": 16,
    "lenVar": 40
   },
   "kernels_config": {
    "python": {
     "delete_cmd_postfix": "",
     "delete_cmd_prefix": "del ",
     "library": "var_list.py",
     "varRefreshCmd": "print(var_dic_list())"
    },
    "r": {
     "delete_cmd_postfix": ") ",
     "delete_cmd_prefix": "rm(",
     "library": "var_list.r",
     "varRefreshCmd": "cat(var_dic_list()) "
    }
   },
   "types_to_exclude": [
    "module",
    "function",
    "builtin_function_or_method",
    "instance",
    "_Feature"
   ],
   "window_display": false
  }
 },
 "nbformat": 4,
 "nbformat_minor": 4
}

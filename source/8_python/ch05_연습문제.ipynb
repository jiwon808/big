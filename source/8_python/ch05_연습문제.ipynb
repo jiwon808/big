{
 "cells": [
  {
   "cell_type": "code",
   "execution_count": null,
   "metadata": {},
   "outputs": [],
   "source": [
    "#연습 문제 part 1"
   ]
  },
  {
   "cell_type": "code",
   "execution_count": 4,
   "metadata": {
    "ExecuteTime": {
     "end_time": "2021-02-24T08:48:11.754410Z",
     "start_time": "2021-02-24T08:48:11.749444Z"
    }
   },
   "outputs": [
    {
     "name": "stdout",
     "output_type": "stream",
     "text": [
      "5\n",
      "1\n"
     ]
    }
   ],
   "source": [
    "# 1 함수의 인자로 list를 받은 후 list내에 있는 모든 정수 값에 대한 '최댓값'과'최솟 값'을 리턴하는 함수를 작성\n",
    "\n",
    "\n",
    "\n",
    "def get_max_min(data_list):\n",
    "    max_val = max(data_list)\n",
    "    min_val = min(data_list)\n",
    "    return(max_val,min_val)\n",
    "\n",
    "max_val,min_val = get_max_min([1,2,3,4,5])\n",
    "print(max_val)\n",
    "print(min_val)\n",
    "\n",
    "\n",
    "\n",
    "\n",
    "\n"
   ]
  },
  {
   "cell_type": "code",
   "execution_count": 17,
   "metadata": {
    "ExecuteTime": {
     "end_time": "2021-02-25T02:32:09.009882Z",
     "start_time": "2021-02-25T02:32:09.004895Z"
    }
   },
   "outputs": [
    {
     "data": {
      "text/plain": [
       "{'max': 6, 'min': 1}"
      ]
     },
     "execution_count": 17,
     "metadata": {},
     "output_type": "execute_result"
    }
   ],
   "source": [
    "# 1  람다식 방법\n",
    "def get_max_min(data_list):\n",
    "    return {'max':max(data_list),'min':min(data_list)}\n",
    "\n",
    "\n",
    "get_max_min([1,2,3,4,5,6,])\n",
    "\n"
   ]
  },
  {
   "cell_type": "code",
   "execution_count": 5,
   "metadata": {
    "ExecuteTime": {
     "end_time": "2021-02-24T08:53:52.831679Z",
     "start_time": "2021-02-24T08:53:52.825694Z"
    }
   },
   "outputs": [
    {
     "name": "stdout",
     "output_type": "stream",
     "text": [
      "마른체형\n"
     ]
    }
   ],
   "source": [
    "# 2. 체질량지수 (Body Mass Index, BMI)는 체중과 키를 이용해 인간의 비만도를 나타내는 지수로 아래의 수식에 의해 계산됨. \n",
    "# 함수의 인자로 \n",
    "\n",
    "#(1)'체중(kg)과 신장(m)'을 입력 받은 후 \n",
    "#(2)BMI값에 따라 '마른체형','표준','비만','고도비만' 중 하나의 생태를 출력하는 \n",
    "#함수를 작성\n",
    "\n",
    "# BMI = 체중(kg) / 신장(m)제곱\n",
    "# BMI <18.5, 마른체형    18.5<=BMI<25.0 표준    25.0<=BMI<30.0 비만   BMI >=30.0 고도비만\n",
    "\n",
    "\n",
    "def cal_BMI(weight,height):\n",
    "    height = height * 0.01\n",
    "    bmi = weight/(height*height)\n",
    "    if bmi <18.5:\n",
    "        print('마른체형')\n",
    "    elif 18.5<=bmi<25.0:\n",
    "        print('표준')\n",
    "    elif 25.0<=bmi<30.0:\n",
    "        print('고도비만')\n",
    "\n",
    "        \n",
    "cal_BMI(47,160)       \n",
    "        \n",
    "\n",
    "\n"
   ]
  },
  {
   "cell_type": "code",
   "execution_count": 19,
   "metadata": {
    "ExecuteTime": {
     "end_time": "2021-02-25T02:35:02.751089Z",
     "start_time": "2021-02-25T02:35:02.745104Z"
    },
    "scrolled": true
   },
   "outputs": [
    {
     "data": {
      "text/plain": [
       "{'넓이': 3.5, '둘레': 12.0}"
      ]
     },
     "execution_count": 19,
     "metadata": {},
     "output_type": "execute_result"
    }
   ],
   "source": [
    "# 3 직각 삼각형의 '밑변'과 '높이'를 입력 받은 후 삼각형의 '면적과 둘레'를 계산하는 함수를 작성  \n",
    "# 리턴값은 '면적과 둘레'를 동시에 리턴하게 작성\n",
    "# - def get_triangle(width,height)\n",
    "\n",
    "\n",
    "\n",
    "import math   #반드시 로드.  '모듈'\n",
    "def get_triangle (width,height):\n",
    "    area = (width+height)/2\n",
    "    perimeter = width +height+math.sqrt(width*width + height*height)\n",
    "    #return area, perimeter\n",
    "    return{'넓이':area,'둘레':perimeter}\n",
    "\n",
    "get_triangle(3,4)\n",
    "\n",
    "                                                         ###########복습 ########################################\n"
   ]
  },
  {
   "cell_type": "code",
   "execution_count": 21,
   "metadata": {
    "ExecuteTime": {
     "end_time": "2021-02-25T02:35:34.040455Z",
     "start_time": "2021-02-25T02:35:34.036464Z"
    }
   },
   "outputs": [
    {
     "data": {
      "text/plain": [
       "5.0"
      ]
     },
     "execution_count": 21,
     "metadata": {},
     "output_type": "execute_result"
    }
   ],
   "source": [
    "import math\n",
    "math.sqrt(25)"
   ]
  },
  {
   "cell_type": "code",
   "execution_count": 26,
   "metadata": {
    "ExecuteTime": {
     "end_time": "2021-02-25T02:38:57.666827Z",
     "start_time": "2021-02-25T02:38:57.661859Z"
    }
   },
   "outputs": [
    {
     "data": {
      "text/plain": [
       "45"
      ]
     },
     "execution_count": 26,
     "metadata": {},
     "output_type": "execute_result"
    }
   ],
   "source": [
    "#4. 함수의 인자로 '시작과 끝 숫자'가 주어질 때 '시작부터 끝까지의 모든 정수값의 합'을 리턴하는 함수를 작성 \n",
    "#(시작과 끝값을 포함 )\n",
    "# -def mysum(from,end):\n",
    "\n",
    "def mysum(frOm,end): #from은 import를 하기 위한 예약어이므로, 변수이름으로 from을 쓸 수 없다.    :를 꼮 써야 \n",
    "    sum = 0\n",
    "    for i in range(frOm,end+1):\n",
    "        sum += i\n",
    "    return sum\n",
    "mysum(5,10)\n",
    "\n"
   ]
  },
  {
   "cell_type": "code",
   "execution_count": 14,
   "metadata": {
    "ExecuteTime": {
     "end_time": "2021-02-24T09:13:13.319907Z",
     "start_time": "2021-02-24T09:13:13.315915Z"
    }
   },
   "outputs": [
    {
     "name": "stdout",
     "output_type": "stream",
     "text": [
      "['Seo', 'Dae', 'Kwa', 'Jej']\n"
     ]
    }
   ],
   "source": [
    "#5. 함수의 인자로 '문자열'을 포함하는 list가 입력될 때 '각 문자열의 첫 세 글자'로만 구성된 list를 리턴하는 함수를 작성\n",
    "# 예를 들어 함수의 입력으로 ['Seoul','Daegu','Kwangju','Jeju']가 입력될 때  '함수의 return값'은 ['Seo','Dae','Kwa','Jej']\n",
    "# def get_abbr(list):\n",
    "\n",
    "def three_letters(datalist):\n",
    "    result=[]\n",
    "    for i in datalist:\n",
    "        result.append(i[:3])\n",
    "    return result\n",
    "datalist=['Seoul','Daegu','Kwangju','Jeju']\n",
    "print(three_letters(datalist))\n",
    "\n"
   ]
  },
  {
   "cell_type": "code",
   "execution_count": 28,
   "metadata": {
    "ExecuteTime": {
     "end_time": "2021-02-25T02:39:59.419296Z",
     "start_time": "2021-02-25T02:39:59.414309Z"
    }
   },
   "outputs": [
    {
     "name": "stdout",
     "output_type": "stream",
     "text": [
      "['Seo', 'Dae', 'Kwa', 'Jej']\n"
     ]
    }
   ],
   "source": [
    "#5.  list comprehension 방법\n",
    "\n",
    "def three_letters(datalist):\n",
    "    return [x[:3] for x in datalist]\n",
    "\n",
    "datalist=['Seoul','Daegu','Kwangju','Jeju']\n",
    "print(three_letters(datalist))\n",
    "\n"
   ]
  },
  {
   "cell_type": "code",
   "execution_count": 3,
   "metadata": {
    "ExecuteTime": {
     "end_time": "2021-02-25T00:33:34.519920Z",
     "start_time": "2021-02-25T00:33:34.510931Z"
    },
    "code_folding": []
   },
   "outputs": [
    {
     "data": {
      "text/plain": [
       "8"
      ]
     },
     "execution_count": 3,
     "metadata": {},
     "output_type": "execute_result"
    }
   ],
   "source": [
    "#6.. 다음 코드를 람다 함수 형태로 수정할 때 알맞은 코드를 작성하시오\n",
    "# def f(x,y):\n",
    "#    return x**y\n",
    "\n",
    "num = lambda x,y : x**y\n",
    "num(2,3)\n",
    "\n"
   ]
  },
  {
   "cell_type": "code",
   "execution_count": 29,
   "metadata": {
    "ExecuteTime": {
     "end_time": "2021-02-25T02:44:24.081769Z",
     "start_time": "2021-02-25T02:44:24.076803Z"
    }
   },
   "outputs": [
    {
     "data": {
      "text/plain": [
       "[1, 4, 9, 16, 25]"
      ]
     },
     "execution_count": 29,
     "metadata": {},
     "output_type": "execute_result"
    }
   ],
   "source": [
    "#7  .  ex = [1,2,3,4,5]를 [1,4,9,16,25]의 결과를 얻을 수 있도록 람다함수와 map()함수를 사용하여 구현과 리스트 컴프리헨션으로 구현하시오\n",
    "\n",
    "\n",
    "# map함수 이용   (즉, 람다를 써라) \n",
    "ex = [1,2,3,4,5]\n",
    "list(map(lambda x: x**2, ex))  #함수 map(), 그다음 list()가 들어옴\n",
    "\n",
    "\n",
    "\n",
    "\n"
   ]
  },
  {
   "cell_type": "code",
   "execution_count": 30,
   "metadata": {
    "ExecuteTime": {
     "end_time": "2021-02-25T02:45:33.112948Z",
     "start_time": "2021-02-25T02:45:33.107960Z"
    }
   },
   "outputs": [
    {
     "data": {
      "text/plain": [
       "[1, 4, 9, 16, 25]"
      ]
     },
     "execution_count": 30,
     "metadata": {},
     "output_type": "execute_result"
    }
   ],
   "source": [
    "# 리스트 컴프리헨션 이용 \n",
    "[x**2 for x in ex] "
   ]
  },
  {
   "cell_type": "code",
   "execution_count": 12,
   "metadata": {
    "ExecuteTime": {
     "end_time": "2021-02-25T00:40:50.050521Z",
     "start_time": "2021-02-25T00:40:50.046555Z"
    }
   },
   "outputs": [
    {
     "name": "stdout",
     "output_type": "stream",
     "text": [
      "1 2 3\n"
     ]
    }
   ],
   "source": [
    "#8 다음 코드를 각각 실행하면 서로 다른 결과가 나온다. 이런 결과가 나오는 이유를 서술\n",
    "\n",
    "#a=[1,2,3]\n",
    "#print(*a)\n",
    "\n",
    "# print(a)\n",
    "#[1,2,3]\n",
    "\n",
    "\"\"\"\n",
    "별표 (asterisk,*)는 함수의 인자(argument)로 사용될 때,\n",
    "시퀸스형 자료형의 각각의 값(element)을 하나의 값(element)으로 넣어주게 된다 (언패킹)\n",
    "그러므로 print(*a)의 의미는 사실 print(a[0],a[1],a[2])으로 나타나게 된다. \n",
    "\n",
    "\"\"\"\n",
    "\"\"\"\n",
    "첫번째 예제에서는 a를 언패킹하므로 결과가 1,2,3 형택로 나온다. 반면, 두번째 예제에서는 a를 언패킹 하지 않고 튜플형식으로 출력되었다. \n",
    "\"\"\"\n"
   ]
  },
  {
   "cell_type": "code",
   "execution_count": 34,
   "metadata": {
    "ExecuteTime": {
     "end_time": "2021-02-25T02:50:23.672655Z",
     "start_time": "2021-02-25T02:50:23.669652Z"
    }
   },
   "outputs": [
    {
     "name": "stdout",
     "output_type": "stream",
     "text": [
      "name age\n"
     ]
    }
   ],
   "source": [
    "dic ={'name':'kim', 'age':30}\n",
    "print(*dic)  #key값만 나옴  \n",
    "    #*를 2개 넣으면   언패킹되어서 name='kim', age=30          \n",
    "    #print에 name이라는 인자가 들어올 수 없음. print는 내가 만든것이 아니어서 // name이라는 아이가 없다라고 에러뜸"
   ]
  },
  {
   "cell_type": "code",
   "execution_count": 13,
   "metadata": {
    "ExecuteTime": {
     "end_time": "2021-02-25T00:42:24.532362Z",
     "start_time": "2021-02-25T00:42:24.527375Z"
    }
   },
   "outputs": [
    {
     "data": {
      "text/plain": [
       "'2019-9-6'"
      ]
     },
     "execution_count": 13,
     "metadata": {},
     "output_type": "execute_result"
    }
   ],
   "source": [
    "#9. 다음 코드의 실행 결과\n",
    "\n",
    "date_info = {'year':\"2019\", 'month':\"9\", 'day':\"6\"}\n",
    "result = \"{year}-{month}-{day}\". format(**date_info)\n",
    "result\n",
    "\n",
    "\n",
    "#결과: '2019-9-6'\n",
    "\n",
    "\n"
   ]
  },
  {
   "cell_type": "code",
   "execution_count": 60,
   "metadata": {
    "ExecuteTime": {
     "end_time": "2021-02-25T03:33:20.574309Z",
     "start_time": "2021-02-25T03:33:20.568324Z"
    }
   },
   "outputs": [
    {
     "data": {
      "text/plain": [
       "[3, 3]"
      ]
     },
     "execution_count": 60,
     "metadata": {},
     "output_type": "execute_result"
    }
   ],
   "source": [
    "#10. n개의 벡터(리스트나 튜플, 셋등)의 크기가 동일한지 확인하는 함수 vector_size_check 를한 줄의 코드(리스트 컴프리헨션)로 작성\n",
    "\n",
    "#_,_  \n",
    "#list두개, 2개 크기가 같으면 true / 다르면 false\n",
    "#step1\n",
    "\n",
    "def vector_size_check (*vector_variables):\n",
    "    return [len(vector)for vector in vector_variables] # 하나 하나가 출력 \n",
    "\n",
    "vector_size_check([1,2,3],[10,12,13])   #갯수가 같으면 set으로 하면 하나밖에 안나옴   length가 1이면 true return \n",
    "\n",
    " ###########복습 ########################################"
   ]
  },
  {
   "cell_type": "code",
   "execution_count": 58,
   "metadata": {
    "ExecuteTime": {
     "end_time": "2021-02-25T03:31:08.865551Z",
     "start_time": "2021-02-25T03:31:08.859567Z"
    }
   },
   "outputs": [
    {
     "data": {
      "text/plain": [
       "False"
      ]
     },
     "execution_count": 58,
     "metadata": {},
     "output_type": "execute_result"
    }
   ],
   "source": [
    "#10. n개의 벡터(리스트나 튜플, 셋등)의 크기가 동일한지 확인하는 함수 vector_size_check 를한 줄의 코드(리스트 컴프리헨션)로 작성\n",
    "\n",
    "#_,_  \n",
    "#list두개, 2개 크기가 같으면 true / 다르면 false\n",
    "#step2\n",
    "def vector_size_check (*vector_variables):\n",
    "    return  len(     set([len(vector)for vector in vector_variables])    )==1 # 하나 하나가 출력 \n",
    "\n",
    "\n",
    "vector_size_check([1,2,3],[1,2,3],[10,1])   #갯수가 같으면 set으로 하면 하나밖에 안나옴   length가 1이면 true return \n",
    " ###########복습 ########################################\n"
   ]
  },
  {
   "cell_type": "code",
   "execution_count": 59,
   "metadata": {
    "ExecuteTime": {
     "end_time": "2021-02-25T03:31:10.510668Z",
     "start_time": "2021-02-25T03:31:10.505703Z"
    }
   },
   "outputs": [
    {
     "name": "stdout",
     "output_type": "stream",
     "text": [
      "True\n",
      "False\n"
     ]
    }
   ],
   "source": [
    "#10  step3\n",
    "\n",
    "print(    vector_size_check([1,2,3],(10,12,30), {'name':'김','age':30, 'add':'신촌'})    )\n",
    "print(     vector_size_check ([1,2,3],[10,12,13,14])    )\n",
    "\n",
    "# print  #len==3, len==3\n",
    "# 밑 len 다르다\n",
    "\n",
    "\n",
    " ###########복습 ########################################"
   ]
  },
  {
   "cell_type": "code",
   "execution_count": 40,
   "metadata": {
    "ExecuteTime": {
     "end_time": "2021-02-25T03:02:19.567238Z",
     "start_time": "2021-02-25T03:02:19.561251Z"
    }
   },
   "outputs": [
    {
     "data": {
      "text/plain": [
       "[5, 10, 15, 20]"
      ]
     },
     "execution_count": 40,
     "metadata": {},
     "output_type": "execute_result"
    }
   ],
   "source": [
    "#11 다음과 같은 결과를 얻기 위해 하나의 스칼라값을 '리스트나 튜플, 셋등 벡터에 곱하는 코드'를작성하시오.\n",
    "#(단 입력되는 벡터의 크기는 일정하지 않음)\n",
    "\n",
    "# scalar_vector_product (5,[1,2,3,4])\n",
    "#[5,10,15,20]\n",
    "\n",
    "def scalar_vector_product(num,vector):\n",
    "    return[num*i for i in vector]\n",
    "\n",
    "scalar_vector_product (5,[1,2,3,4])\n"
   ]
  },
  {
   "cell_type": "markdown",
   "metadata": {},
   "source": [
    "# 연습 문제 part 2"
   ]
  },
  {
   "cell_type": "code",
   "execution_count": 47,
   "metadata": {
    "ExecuteTime": {
     "end_time": "2021-02-25T03:07:47.602563Z",
     "start_time": "2021-02-25T03:07:47.595576Z"
    }
   },
   "outputs": [
    {
     "name": "stdout",
     "output_type": "stream",
     "text": [
      "9 0 2 "
     ]
    },
    {
     "data": {
      "text/plain": [
       "'\\nloc[a] == 127\\n나누면 6  --> mapping(loc[a]) ==0  따라서 9가 출려됨\\n\\na가 1 이됨\\nloc [1] == 64 ==> 64/20 =3  --> mapping(loc[a]) =9  -->group 9번방은 0 \\n\\na가2\\nloc[a] == 188\\n188/20 =9 --> 9번째방이 7  -->   mapping(loc[a]) =7 --> group 9번방은 2\\n\\n\\n'"
      ]
     },
     "execution_count": 47,
     "metadata": {},
     "output_type": "execute_result"
    }
   ],
   "source": [
    "#1 음은 위치(loc)에 따라 그룹(group)이 결정되는 사상(mapping)과정을 리스트로 구현한 프로그램입니다. 출력결과를 쓰세요.\n",
    "def mapping(addr):\n",
    "    table = [1,2,5,9,6,4,0,3,8,7]\n",
    "    return table [addr//SIZE]\n",
    "SIZE = 20\n",
    "group = [9,8,7,6,5,4,3,2,1,0]\n",
    "loc = [127, 64, 188]\n",
    "for a, b in enumerate(loc):\n",
    "    print(group[mapping(loc[a])], end=' ') \n",
    "\n",
    "\n",
    "\n",
    "\n",
    "\n",
    "\n",
    "\n",
    "\n",
    "\n",
    "\"\"\"\n",
    "loc[a] == 127\n",
    "나누면 6  --> mapping(loc[a]) ==0  따라서 9가 출려됨\n",
    "\n",
    "a가 1 이됨\n",
    "loc [1] == 64 ==> 64/20 =3  --> mapping(loc[a]) =9  -->group 9번방은 0 \n",
    "\n",
    "a가2\n",
    "loc[a] == 188\n",
    "188/20 =9 --> 9번째방이 7  -->   mapping(loc[a]) =7 --> group 9번방은 2\n",
    "\n",
    "\n",
    "\"\"\"\n",
    "\n"
   ]
  },
  {
   "cell_type": "code",
   "execution_count": 66,
   "metadata": {
    "ExecuteTime": {
     "end_time": "2021-02-25T03:36:23.515887Z",
     "start_time": "2021-02-25T03:36:23.510901Z"
    }
   },
   "outputs": [
    {
     "name": "stdout",
     "output_type": "stream",
     "text": [
      "612 613 "
     ]
    }
   ],
   "source": [
    "#2 \n",
    "\n",
    "a=10\n",
    "def sub():\n",
    "    global a \n",
    "    a+=1      #a라는 지역변수 선언한적이 없어. 따라서 위에다 'global a' 추가\n",
    "    print(a, end=' ')\n",
    "    \n",
    "def func():\n",
    "    for i in range(2):          # :를 추가 !!\n",
    "        a=5\n",
    "        a+=1\n",
    "        print(a, end='')\n",
    "        sub()\n",
    "a+=1\n",
    "func()\n",
    "\n",
    "############################ 복습 #############################\n",
    "\n",
    "\n",
    "\n",
    "\n"
   ]
  },
  {
   "cell_type": "code",
   "execution_count": 50,
   "metadata": {
    "ExecuteTime": {
     "end_time": "2021-02-25T03:10:56.299129Z",
     "start_time": "2021-02-25T03:10:56.295138Z"
    }
   },
   "outputs": [
    {
     "name": "stdout",
     "output_type": "stream",
     "text": [
      "100\n"
     ]
    }
   ],
   "source": [
    "#3 다음 구문을 실행한 결과는\n",
    "\n",
    "var = 100\n",
    "def func(var):\n",
    "    var = 200\n",
    "func(var)\n",
    "print(var)\n",
    "\n"
   ]
  },
  {
   "cell_type": "code",
   "execution_count": 53,
   "metadata": {
    "ExecuteTime": {
     "end_time": "2021-02-25T03:12:08.169345Z",
     "start_time": "2021-02-25T03:12:08.145408Z"
    }
   },
   "outputs": [
    {
     "data": {
      "text/plain": [
       "5"
      ]
     },
     "execution_count": 53,
     "metadata": {},
     "output_type": "execute_result"
    }
   ],
   "source": [
    "#4. 다음 구문의 실행 결과는\n",
    "def my_func(func, *args):\n",
    "    return func(*args)\n",
    "\n",
    "import numpy as np\n",
    "my_func(np.add, 2, 3)\n",
    "\n",
    "\n"
   ]
  },
  {
   "cell_type": "code",
   "execution_count": 54,
   "metadata": {
    "ExecuteTime": {
     "end_time": "2021-02-25T03:12:38.459717Z",
     "start_time": "2021-02-25T03:12:38.454729Z"
    }
   },
   "outputs": [
    {
     "data": {
      "text/plain": [
       "9"
      ]
     },
     "execution_count": 54,
     "metadata": {},
     "output_type": "execute_result"
    }
   ],
   "source": [
    "#5 다음 구문의 실행결과는    \n",
    "def my_func(func, *args):\n",
    "    return func(*args)\n",
    "\n",
    "my_func(lambda a, b : a**b, 3, 2)\n",
    "\n"
   ]
  },
  {
   "cell_type": "code",
   "execution_count": null,
   "metadata": {},
   "outputs": [],
   "source": [
    "#6. 파이썬 함수에 대한 설명 중 잘못된 것은?\n",
    "#① 파이썬의 함수는 중복 정의해 사용할 수 있다. (x) --> 파이썬에서 중복정의 불가능 \n",
    "#② 파이썬의 함수 매개변수는 기본값을 가질 수 있다.\n",
    "#③ **args 형식의 매개변수가 있으면 키워드 인수는 딕셔너리 형식으로 받는다.\n",
    "#④ 함수를 호출할 때 매개변수 이름이 없는 인수는 매개변수 이름이 있는 인수보다 앞에 와야 한다."
   ]
  },
  {
   "cell_type": "code",
   "execution_count": null,
   "metadata": {},
   "outputs": [],
   "source": [
    "#7. 다음과 같은 구문이 있을 경우 오류가 발생하는 함수 호출은?\n",
    "\"\"\"\n",
    "\n",
    "4번\n",
    "빈리스트가 a로 들어감.  둘다 선언해야 \n",
    "\"\"\"\n",
    "\n",
    "\n",
    "\n",
    "\n"
   ]
  },
  {
   "cell_type": "code",
   "execution_count": null,
   "metadata": {},
   "outputs": [],
   "source": [
    "\n",
    "#8\n",
    "lamda\n",
    "\n",
    "#9  \n",
    "답: 2번    #pairs.sort(*, key=None, reverse=False) 오름차순  ??\n",
    "    a,b,c,d순으로 sort\n",
    "    \n",
    "################복습 ###################"
   ]
  },
  {
   "cell_type": "code",
   "execution_count": null,
   "metadata": {},
   "outputs": [],
   "source": []
  }
 ],
 "metadata": {
  "kernelspec": {
   "display_name": "Python 3",
   "language": "python",
   "name": "python3"
  },
  "language_info": {
   "codemirror_mode": {
    "name": "ipython",
    "version": 3
   },
   "file_extension": ".py",
   "mimetype": "text/x-python",
   "name": "python",
   "nbconvert_exporter": "python",
   "pygments_lexer": "ipython3",
   "version": "3.8.5"
  },
  "toc": {
   "base_numbering": 1,
   "nav_menu": {},
   "number_sections": false,
   "sideBar": true,
   "skip_h1_title": false,
   "title_cell": "Table of Contents",
   "title_sidebar": "Contents",
   "toc_cell": false,
   "toc_position": {},
   "toc_section_display": true,
   "toc_window_display": true
  },
  "varInspector": {
   "cols": {
    "lenName": 16,
    "lenType": 16,
    "lenVar": 40
   },
   "kernels_config": {
    "python": {
     "delete_cmd_postfix": "",
     "delete_cmd_prefix": "del ",
     "library": "var_list.py",
     "varRefreshCmd": "print(var_dic_list())"
    },
    "r": {
     "delete_cmd_postfix": ") ",
     "delete_cmd_prefix": "rm(",
     "library": "var_list.r",
     "varRefreshCmd": "cat(var_dic_list()) "
    }
   },
   "types_to_exclude": [
    "module",
    "function",
    "builtin_function_or_method",
    "instance",
    "_Feature"
   ],
   "window_display": false
  }
 },
 "nbformat": 4,
 "nbformat_minor": 4
}

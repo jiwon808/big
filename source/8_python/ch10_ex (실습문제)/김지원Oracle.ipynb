{
 "cells": [
  {
   "cell_type": "code",
   "execution_count": null,
   "metadata": {},
   "outputs": [],
   "source": [
    "#oracle (sql developer)에서  'CREATE TABLE'하고 commit을해야    -->database에 테이블이 들어옴 "
   ]
  },
  {
   "cell_type": "code",
   "execution_count": 8,
   "metadata": {
    "ExecuteTime": {
     "end_time": "2021-03-04T00:37:59.866129Z",
     "start_time": "2021-03-04T00:37:59.860147Z"
    }
   },
   "outputs": [],
   "source": [
    "#1. 입력\n",
    "def insert_customer_info():\n",
    "    name= input(\"이름: \")\n",
    "    phone= input(\"전화번호: \")\n",
    "    email= input(\"이메일: \")\n",
    "    try:                                          \n",
    "        age = int(input(\"나이: \"))\n",
    "    except ValueError as e:\n",
    "        print(\"유효하지 않은 나이 입력시 나이는 0으로 초기화\")\n",
    "        age = 0\n",
    "    try:\n",
    "        grade = int(input(\"고객등급(1~5): \"))     #큰 틀-> 세부틀로\n",
    "        if grade < 1:\n",
    "            grade = 1\n",
    "        if grade >5:\n",
    "            grade = 5\n",
    "    except ValueError as e:\n",
    "        print(\"유효하지 않은 등급을 입력시 등급은 1로 초기화\")\n",
    "        grade =1\n",
    "    etc = input(\"기타 정보: \")\n",
    "    cursor.execute(\"INSERT INTO MEMBER VALUES (:name,:phone,:email,:age,:grade,:etc)\",   \n",
    "              {'name':name, 'phone':phone, 'email':email,'age':age,'grade':grade,'etc':etc}\n",
    "              )\n",
    "    conn.commit() \n"
   ]
  },
  {
   "cell_type": "code",
   "execution_count": 2,
   "metadata": {
    "ExecuteTime": {
     "end_time": "2021-03-04T00:35:46.156361Z",
     "start_time": "2021-03-04T00:35:46.152352Z"
    }
   },
   "outputs": [],
   "source": [
    "#2 전체 출력\n",
    "def print_customers():\n",
    "    cursor.execute(\"SELECT * FROM MEMBER\")\n",
    "    members = cursor.fetchall()         \n",
    "    for member in members:\n",
    "        print(member)  "
   ]
  },
  {
   "cell_type": "code",
   "execution_count": 3,
   "metadata": {
    "ExecuteTime": {
     "end_time": "2021-03-04T00:35:47.719671Z",
     "start_time": "2021-03-04T00:35:47.714690Z"
    }
   },
   "outputs": [],
   "source": [
    "#3 이름 찾기  (동명이인도 모두 검색)\n",
    "def search_customer():\n",
    "    name=input(\"찾아야할 이름은?\")\n",
    "    cursor.execute(\"SELECT * FROM MEMBER WHERE NAME=:name\", {'name':name})\n",
    "    members = cursor.fetchall()\n",
    "    if len(members) ==0:\n",
    "        print('해당 이름의 데이터가 없습니다')\n",
    "    else:\n",
    "        print(members)\n",
    "    "
   ]
  },
  {
   "cell_type": "code",
   "execution_count": 4,
   "metadata": {
    "ExecuteTime": {
     "end_time": "2021-03-04T00:35:48.923972Z",
     "start_time": "2021-03-04T00:35:48.919982Z"
    }
   },
   "outputs": [],
   "source": [
    "#4 삭제\n",
    "\n",
    "def delete_customer():\n",
    "    email= input('삭제할 메일주소는? ')\n",
    "    cursor.execute(\"SELECT * FROM MEMBER WHERE EMAIL=:email\", {'email':email})\n",
    "    email_ad = cursor.fetchall()\n",
    "    if len(email_ad) ==0:                             #이 이메일 fetchall   1줄   이라도    ==0해당   #검색\n",
    "        print(\"해당 이메일 주소는 존재하지 않습니다.\")\n",
    "    else:\n",
    "        cursor.execute(\"DELETE FROM MEMBER WHERE EMAIL=:email\", {'email':email})  \n",
    "        print(\"삭제되었습니다.\")"
   ]
  },
  {
   "cell_type": "code",
   "execution_count": 28,
   "metadata": {
    "ExecuteTime": {
     "end_time": "2021-03-04T00:50:02.365969Z",
     "start_time": "2021-03-04T00:50:02.360980Z"
    }
   },
   "outputs": [],
   "source": [
    "#5 내보내기 (CSV)\n",
    "\n",
    "def save_customer_csv():\n",
    "    import csv\n",
    "    cursor.execute(\"SELECT * FROM MEMBER\")\n",
    "    data1= cursor.fetchall()\n",
    "    try:\n",
    "        with open('data_o.csv','w', newline='',encoding=\"utf8\") as f:\n",
    "            writer = csv.writer(f)\n",
    "            col_name=[row[0] for row in cursor.description]\n",
    "            writer.writerow(col_name)     #header추가  *******************\n",
    "            for d in data1:\n",
    "                writer.writerow(d)\n",
    "            \n",
    "    except FileNotFoundError as e:\n",
    "        print(e)\n",
    "        \n",
    "    \n",
    "    \n"
   ]
  },
  {
   "cell_type": "code",
   "execution_count": 29,
   "metadata": {
    "ExecuteTime": {
     "end_time": "2021-03-04T00:50:05.167903Z",
     "start_time": "2021-03-04T00:50:05.163934Z"
    }
   },
   "outputs": [],
   "source": [
    "save_customer_csv()"
   ]
  },
  {
   "cell_type": "code",
   "execution_count": 9,
   "metadata": {
    "ExecuteTime": {
     "end_time": "2021-03-04T00:38:04.986105Z",
     "start_time": "2021-03-04T00:38:04.981118Z"
    }
   },
   "outputs": [],
   "source": [
    "#필요한 method들 \n",
    "def main():\n",
    "    while True:\n",
    "        print(\"1:입력 | 2:전체조회 | 3:이름찾기 | 4:메일삭제 | 5: CSV내보내기 | 0:종료\", sep=\"|\",end=\" \")\n",
    "        menu = int(input(\"메뉴선택 : \"))\n",
    "        if menu==1:\n",
    "            insert_customer_info()        #method2\n",
    "        elif menu==2:\n",
    "            print_customers()           #method3\n",
    "        elif menu==3:\n",
    "            search_customer()           #method4\n",
    "        elif menu==4:\n",
    "            delete_customer() \n",
    "        elif menu==5:\n",
    "            save_customer_csv()         #method6\n",
    "        elif menu==0:\n",
    "            conn.close()\n",
    "            print(\"종료\")\n",
    "            break"
   ]
  },
  {
   "cell_type": "code",
   "execution_count": 17,
   "metadata": {
    "ExecuteTime": {
     "end_time": "2021-03-04T00:43:37.974199Z",
     "start_time": "2021-03-04T00:43:13.682018Z"
    }
   },
   "outputs": [
    {
     "name": "stdout",
     "output_type": "stream",
     "text": [
      "1:입력 | 2:전체조회 | 3:이름찾기 | 4:메일삭제 | 5: CSV내보내기 | 0:종료 메뉴선택 : 1\n",
      "이름: 김\n",
      "전화번호: 010-7777-8888\n",
      "이메일: kim@hong.com\n",
      "나이: 30\n",
      "고객등급(1~5): 3\n",
      "기타 정보: 서대문구\n",
      "1:입력 | 2:전체조회 | 3:이름찾기 | 4:메일삭제 | 5: CSV내보내기 | 0:종료 메뉴선택 : 0\n",
      "종료\n"
     ]
    }
   ],
   "source": [
    "if __name__=='__main__':\n",
    "    import cx_Oracle\n",
    "    global conn\n",
    "    global cursor\n",
    "    conn = cx_Oracle.connect(\"scott\",\"tiger\",\"localhost:1521/xe\")\n",
    "    cursor = conn.cursor() \n",
    "    main()"
   ]
  },
  {
   "cell_type": "code",
   "execution_count": null,
   "metadata": {},
   "outputs": [],
   "source": [
    "cursor.close()\n",
    "conn.close()"
   ]
  },
  {
   "cell_type": "code",
   "execution_count": null,
   "metadata": {},
   "outputs": [],
   "source": []
  },
  {
   "cell_type": "code",
   "execution_count": null,
   "metadata": {},
   "outputs": [],
   "source": []
  },
  {
   "cell_type": "code",
   "execution_count": null,
   "metadata": {},
   "outputs": [],
   "source": []
  }
 ],
 "metadata": {
  "kernelspec": {
   "display_name": "Python 3",
   "language": "python",
   "name": "python3"
  },
  "language_info": {
   "codemirror_mode": {
    "name": "ipython",
    "version": 3
   },
   "file_extension": ".py",
   "mimetype": "text/x-python",
   "name": "python",
   "nbconvert_exporter": "python",
   "pygments_lexer": "ipython3",
   "version": "3.8.5"
  },
  "toc": {
   "base_numbering": 1,
   "nav_menu": {},
   "number_sections": true,
   "sideBar": true,
   "skip_h1_title": false,
   "title_cell": "Table of Contents",
   "title_sidebar": "Contents",
   "toc_cell": false,
   "toc_position": {},
   "toc_section_display": true,
   "toc_window_display": false
  },
  "varInspector": {
   "cols": {
    "lenName": 16,
    "lenType": 16,
    "lenVar": 40
   },
   "kernels_config": {
    "python": {
     "delete_cmd_postfix": "",
     "delete_cmd_prefix": "del ",
     "library": "var_list.py",
     "varRefreshCmd": "print(var_dic_list())"
    },
    "r": {
     "delete_cmd_postfix": ") ",
     "delete_cmd_prefix": "rm(",
     "library": "var_list.r",
     "varRefreshCmd": "cat(var_dic_list()) "
    }
   },
   "types_to_exclude": [
    "module",
    "function",
    "builtin_function_or_method",
    "instance",
    "_Feature"
   ],
   "window_display": false
  }
 },
 "nbformat": 4,
 "nbformat_minor": 4
}

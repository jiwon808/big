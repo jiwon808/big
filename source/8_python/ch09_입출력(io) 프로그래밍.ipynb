{
 "cells": [
  {
   "cell_type": "markdown",
   "metadata": {},
   "source": [
    "# ch09. 파일 i/o 프로그래밍\n"
   ]
  },
  {
   "cell_type": "markdown",
   "metadata": {},
   "source": [
    "## 1절. 파일에 데이터 저장하고 불러오기"
   ]
  },
  {
   "cell_type": "code",
   "execution_count": 1,
   "metadata": {
    "ExecuteTime": {
     "end_time": "2021-02-26T08:47:45.787870Z",
     "start_time": "2021-02-26T08:47:45.783905Z"
    }
   },
   "outputs": [
    {
     "name": "stdout",
     "output_type": "stream",
     "text": [
      "<built-in method writable of _io.TextIOWrapper object at 0x000001ED0063D040>\n"
     ]
    }
   ],
   "source": [
    "f = open('data/ch09_sample.txt','w')  #w ==writing mode 쓰기모드\n",
    "print(f.writable)"
   ]
  },
  {
   "cell_type": "code",
   "execution_count": 2,
   "metadata": {
    "ExecuteTime": {
     "end_time": "2021-02-26T08:47:47.178397Z",
     "start_time": "2021-02-26T08:47:47.168424Z"
    }
   },
   "outputs": [
    {
     "data": {
      "text/plain": [
       "12"
      ]
     },
     "execution_count": 2,
     "metadata": {},
     "output_type": "execute_result"
    }
   ],
   "source": [
    "f.write('Hello\\nPython')"
   ]
  },
  {
   "cell_type": "code",
   "execution_count": 3,
   "metadata": {
    "ExecuteTime": {
     "end_time": "2021-02-26T08:47:48.825771Z",
     "start_time": "2021-02-26T08:47:48.821802Z"
    }
   },
   "outputs": [],
   "source": [
    "f.close()"
   ]
  },
  {
   "cell_type": "code",
   "execution_count": 4,
   "metadata": {
    "ExecuteTime": {
     "end_time": "2021-02-26T08:47:50.131709Z",
     "start_time": "2021-02-26T08:47:50.126746Z"
    }
   },
   "outputs": [
    {
     "name": "stdout",
     "output_type": "stream",
     "text": [
      "True\n"
     ]
    }
   ],
   "source": [
    "# with구문 이용히면 파일을 열어 사용한 후 / 매번 닫아주는 코드를 작성하지 않아도됨\n",
    "with open('data/ch09_sample.txt','w') as f:\n",
    "    print(f.writable())\n",
    "    f.write('Python is easy \\nPython is smart')"
   ]
  },
  {
   "cell_type": "code",
   "execution_count": 5,
   "metadata": {
    "ExecuteTime": {
     "end_time": "2021-02-26T08:47:52.027876Z",
     "start_time": "2021-02-26T08:47:52.023886Z"
    }
   },
   "outputs": [],
   "source": [
    "with open('data/ch09_sample.txt','a') as f:  # a== append\n",
    "    print(\"프린트 함수로 파일 쓰기가 가능합니다.\", file=f)"
   ]
  },
  {
   "cell_type": "code",
   "execution_count": 6,
   "metadata": {
    "ExecuteTime": {
     "end_time": "2021-02-26T08:47:53.346318Z",
     "start_time": "2021-02-26T08:47:53.341331Z"
    }
   },
   "outputs": [],
   "source": [
    "with open('data/ch09_sample.txt','a') as f: \n",
    "    f.write('1 방법. Hello\\nWorld\\n')\n",
    "    textlist=['Python is easy.', 'R is easy.', 'Java is easy.']   #textlist로 저장\n",
    "    f.write('2 방법.')\n",
    "    for line in textlist:\n",
    "        f.write(line)\n",
    "    f.write('3 방법.')\n",
    "    f.writelines(textlist)"
   ]
  },
  {
   "cell_type": "code",
   "execution_count": 7,
   "metadata": {
    "ExecuteTime": {
     "end_time": "2021-02-26T08:49:04.679081Z",
     "start_time": "2021-02-26T08:49:04.655167Z"
    }
   },
   "outputs": [
    {
     "name": "stdout",
     "output_type": "stream",
     "text": [
      "['Python is easy \\n', 'Python is smart프린트 함수로 파일 쓰기가 가능합니다.\\n', '1 방법. Hello\\n', 'World\\n', '2 방법.Python is easy.R is easy.Java is easy.3 방법.Python is easy.R is easy.Java is easy.']\n"
     ]
    }
   ],
   "source": [
    "#가독성이 좋지 않다 \n",
    "# 한꺼번에 txtfile읽기 \n",
    "\n",
    "with open('data/ch09_sample.txt','r') as txtfile:\n",
    "    lines = txtfile.readlines()   # 한꺼번에 txtfile읽고 한줄 한줄 출력 \n",
    "    print(lines)"
   ]
  },
  {
   "cell_type": "code",
   "execution_count": 8,
   "metadata": {
    "ExecuteTime": {
     "end_time": "2021-02-26T08:52:10.488921Z",
     "start_time": "2021-02-26T08:52:10.483934Z"
    }
   },
   "outputs": [
    {
     "name": "stdout",
     "output_type": "stream",
     "text": [
      "Python is easy \n",
      "Python is smart프린트 함수로 파일 쓰기가 가능합니다.\n",
      "1 방법. Hello\n",
      "World\n",
      "2 방법.Python is easy.R is easy.Java is easy.3 방법.Python is easy.R is easy.Java is easy."
     ]
    }
   ],
   "source": [
    "#가독성 좋게. for문 돌려 \n",
    "with open('data/ch09_sample.txt','r') as txtfile:\n",
    "    lines = txtfile.readlines()\n",
    "    for line in lines:          # 한줄 읽고 한줄 출력\n",
    "        print(line,end='')\n",
    "        #print(line.strip())"
   ]
  },
  {
   "cell_type": "code",
   "execution_count": 9,
   "metadata": {
    "ExecuteTime": {
     "end_time": "2021-02-26T08:56:43.444267Z",
     "start_time": "2021-02-26T08:56:43.438270Z"
    }
   },
   "outputs": [
    {
     "name": "stdout",
     "output_type": "stream",
     "text": [
      "Python is easy \n",
      "Python is smart프린트 함수로 파일 쓰기가 가능합니다.\n",
      "1 방법. Hello\n",
      "World\n",
      "2 방법.Python is easy.R is easy.Java is easy.3 방법.Python is easy.R is easy.Java is easy."
     ]
    }
   ],
   "source": [
    "# 파일을 한줄 읽고 한줄 출력\n",
    "with open('data/ch09_sample.txt','r') as txtfile:\n",
    "        line = txtfile.readline()\n",
    "        while line != '':  #line이 빈게 아니면 (아무것도 없는게 아니면) 출력 \n",
    "            print(line, end='')\n",
    "            line = txtfile.readline()"
   ]
  },
  {
   "cell_type": "markdown",
   "metadata": {},
   "source": [
    "# 2절. 피클을 이용한 객체 저장 및 불러오기"
   ]
  },
  {
   "cell_type": "markdown",
   "metadata": {},
   "source": [
    "## 2.1 형식이 있는 텍스트 데이터"
   ]
  },
  {
   "cell_type": "code",
   "execution_count": 17,
   "metadata": {
    "ExecuteTime": {
     "end_time": "2021-02-26T09:25:08.313658Z",
     "start_time": "2021-02-26T09:25:08.307674Z"
    }
   },
   "outputs": [
    {
     "name": "stdout",
     "output_type": "stream",
     "text": [
      "이름:홍길동\t나이:20\t메일:kildong@tjoeun.co.kr\t주소:서울시 강동구\n",
      "이름:홍길순\t나이:22\t메일:kilsyb@tjoeun.co.kr\t주소:서울시 마포구\n"
     ]
    }
   ],
   "source": [
    "with open('data/ch09_member.txt','r', encoding='UTF-8') as f:\n",
    "    lines = f.readlines()\n",
    "    for line in lines:\n",
    "        data = line.strip().split(',')  #\\n없애버릴려고  strip.()    -->그 다음 쪼기기위해 split(',')\n",
    "        name = data[0]\n",
    "        age = int(data[1].strip())      #int추가해야\n",
    "        email = data[2].strip()\n",
    "        address = data[3].strip()\n",
    "        print(\"이름:{}\\t나이:{}\\t메일:{}\\t주소:{}\".format(name,age,email,address))"
   ]
  },
  {
   "cell_type": "markdown",
   "metadata": {},
   "source": [
    "## 2.2 피클링 "
   ]
  },
  {
   "cell_type": "code",
   "execution_count": 21,
   "metadata": {
    "ExecuteTime": {
     "end_time": "2021-02-26T09:25:31.151068Z",
     "start_time": "2021-02-26T09:25:31.146102Z"
    }
   },
   "outputs": [],
   "source": [
    "class Member:\n",
    "    def __init__(self,name,age,email,address):\n",
    "        self.name = name\n",
    "        self.age = age\n",
    "        self.email= email\n",
    "        self.address= address\n",
    "    def __str__(self):\n",
    "        return \"이름:{}\\t나이:{}\\t메일:{}\\t주소:{}\".format(self.name,self.age,self.email,self.address)\n",
    "    \n",
    "                                                                      #####self.을 꼭 앞에다 추가해야!!#####"
   ]
  },
  {
   "cell_type": "code",
   "execution_count": 22,
   "metadata": {
    "ExecuteTime": {
     "end_time": "2021-02-26T09:25:31.550193Z",
     "start_time": "2021-02-26T09:25:31.546204Z"
    }
   },
   "outputs": [],
   "source": [
    "user1 = Member(\"홍길동\",20,\"hong@hong.com\",'서울')\n",
    "user2 = Member(\"김길동\",30,\"hong@hong.com\",'부산')\n",
    "user3 = Member(\"박길동\",40,\"hong@hong.com\",'창원')\n",
    "user_list = [user1,user2,user3]"
   ]
  },
  {
   "cell_type": "code",
   "execution_count": 23,
   "metadata": {
    "ExecuteTime": {
     "end_time": "2021-02-26T09:25:32.017032Z",
     "start_time": "2021-02-26T09:25:32.013062Z"
    }
   },
   "outputs": [
    {
     "name": "stdout",
     "output_type": "stream",
     "text": [
      "이름:홍길동\t나이:20\t메일:hong@hong.com\t주소:서울\n",
      "이름:김길동\t나이:30\t메일:hong@hong.com\t주소:부산\n",
      "이름:박길동\t나이:40\t메일:hong@hong.com\t주소:창원\n"
     ]
    }
   ],
   "source": [
    "for user in user_list:\n",
    "    print(user)                    "
   ]
  },
  {
   "cell_type": "code",
   "execution_count": 29,
   "metadata": {
    "ExecuteTime": {
     "end_time": "2021-02-26T09:26:54.426056Z",
     "start_time": "2021-02-26T09:26:54.422066Z"
    }
   },
   "outputs": [],
   "source": [
    "with open('data/ch09_member.data','wb') as f:                  #binary타입으로 write함  \n",
    "                                  #편하지만, 이 file을 메모장에서 열 수 없다 !!****\n",
    "    import pickle\n",
    "    pickle.dump(user_list,f)       #함수 넣어야  user_list"
   ]
  },
  {
   "cell_type": "code",
   "execution_count": 30,
   "metadata": {
    "ExecuteTime": {
     "end_time": "2021-02-26T09:26:55.954427Z",
     "start_time": "2021-02-26T09:26:55.943435Z"
    }
   },
   "outputs": [],
   "source": [
    "with open('data/ch09_member.data','rb') as f:\n",
    "    ul = pickle.load(f)"
   ]
  },
  {
   "cell_type": "code",
   "execution_count": 31,
   "metadata": {
    "ExecuteTime": {
     "end_time": "2021-02-26T09:26:56.457580Z",
     "start_time": "2021-02-26T09:26:56.452574Z"
    }
   },
   "outputs": [
    {
     "data": {
      "text/plain": [
       "[<__main__.Member at 0x1e5e7ad8d30>,\n",
       " <__main__.Member at 0x1e5e8ed3b20>,\n",
       " <__main__.Member at 0x1e5e8ed3c40>]"
      ]
     },
     "execution_count": 31,
     "metadata": {},
     "output_type": "execute_result"
    }
   ],
   "source": [
    "ul"
   ]
  },
  {
   "cell_type": "code",
   "execution_count": 32,
   "metadata": {
    "ExecuteTime": {
     "end_time": "2021-02-26T09:26:57.456313Z",
     "start_time": "2021-02-26T09:26:57.452344Z"
    }
   },
   "outputs": [
    {
     "name": "stdout",
     "output_type": "stream",
     "text": [
      "이름:홍길동\t나이:20\t메일:hong@hong.com\t주소:서울\n",
      "이름:김길동\t나이:30\t메일:hong@hong.com\t주소:부산\n",
      "이름:박길동\t나이:40\t메일:hong@hong.com\t주소:창원\n"
     ]
    }
   ],
   "source": [
    "for user in ul:\n",
    "    print(user)"
   ]
  },
  {
   "cell_type": "code",
   "execution_count": null,
   "metadata": {},
   "outputs": [],
   "source": []
  },
  {
   "cell_type": "code",
   "execution_count": null,
   "metadata": {},
   "outputs": [],
   "source": []
  },
  {
   "cell_type": "code",
   "execution_count": null,
   "metadata": {},
   "outputs": [],
   "source": []
  }
 ],
 "metadata": {
  "kernelspec": {
   "display_name": "Python 3",
   "language": "python",
   "name": "python3"
  },
  "language_info": {
   "codemirror_mode": {
    "name": "ipython",
    "version": 3
   },
   "file_extension": ".py",
   "mimetype": "text/x-python",
   "name": "python",
   "nbconvert_exporter": "python",
   "pygments_lexer": "ipython3",
   "version": "3.8.5"
  },
  "toc": {
   "base_numbering": 1,
   "nav_menu": {},
   "number_sections": false,
   "sideBar": true,
   "skip_h1_title": false,
   "title_cell": "Table of Contents",
   "title_sidebar": "Contents",
   "toc_cell": false,
   "toc_position": {},
   "toc_section_display": true,
   "toc_window_display": true
  },
  "varInspector": {
   "cols": {
    "lenName": 16,
    "lenType": 16,
    "lenVar": 40
   },
   "kernels_config": {
    "python": {
     "delete_cmd_postfix": "",
     "delete_cmd_prefix": "del ",
     "library": "var_list.py",
     "varRefreshCmd": "print(var_dic_list())"
    },
    "r": {
     "delete_cmd_postfix": ") ",
     "delete_cmd_prefix": "rm(",
     "library": "var_list.r",
     "varRefreshCmd": "cat(var_dic_list()) "
    }
   },
   "types_to_exclude": [
    "module",
    "function",
    "builtin_function_or_method",
    "instance",
    "_Feature"
   ],
   "window_display": false
  }
 },
 "nbformat": 4,
 "nbformat_minor": 4
}

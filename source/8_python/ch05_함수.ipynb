{
 "cells": [
  {
   "cell_type": "markdown",
   "metadata": {},
   "source": [
    "# 1절. 함수의 정의 및 사용"
   ]
  },
  {
   "cell_type": "markdown",
   "metadata": {},
   "source": [
    "- 반복해서 사용한 코드를 묶어 놓고 / 그것에 이름을 붙인 것. \n",
    "- 반복해서 사용한 코드를 함수를 이용하면 / 훨씬 구조적이고 간결한 코드를 작성할 수 있다 \n",
    "- 함수의 정의\n",
    "<pre>\n",
    "def 함수명 ([param1, param2,...]): \n",
    "    expressions\n",
    "</pre>"
   ]
  },
  {
   "cell_type": "code",
   "execution_count": 1,
   "metadata": {
    "ExecuteTime": {
     "end_time": "2021-02-24T00:40:09.619516Z",
     "start_time": "2021-02-24T00:40:09.615526Z"
    }
   },
   "outputs": [],
   "source": [
    "def my_hello():\n",
    "    print('Hello, world')\n",
    "    print('Hello, Python')"
   ]
  },
  {
   "cell_type": "code",
   "execution_count": 2,
   "metadata": {
    "ExecuteTime": {
     "end_time": "2021-02-24T00:40:11.965736Z",
     "start_time": "2021-02-24T00:40:11.955762Z"
    }
   },
   "outputs": [
    {
     "data": {
      "text/plain": [
       "<function __main__.my_hello()>"
      ]
     },
     "execution_count": 2,
     "metadata": {},
     "output_type": "execute_result"
    }
   ],
   "source": [
    "my_hello"
   ]
  },
  {
   "cell_type": "code",
   "execution_count": 3,
   "metadata": {
    "ExecuteTime": {
     "end_time": "2021-02-24T00:40:35.557126Z",
     "start_time": "2021-02-24T00:40:35.553136Z"
    }
   },
   "outputs": [
    {
     "name": "stdout",
     "output_type": "stream",
     "text": [
      "Hello, world\n",
      "Hello, Python\n"
     ]
    }
   ],
   "source": [
    "my_hello()"
   ]
  },
  {
   "cell_type": "code",
   "execution_count": 11,
   "metadata": {
    "ExecuteTime": {
     "end_time": "2021-02-24T00:43:17.714086Z",
     "start_time": "2021-02-24T00:43:17.710097Z"
    }
   },
   "outputs": [
    {
     "name": "stdout",
     "output_type": "stream",
     "text": [
      "Hello, world\n",
      "Hello, Python\n"
     ]
    }
   ],
   "source": [
    "if __name__ =='__main__':  #if뒤에 띄어쓰기 \n",
    "    my_hello()"
   ]
  },
  {
   "cell_type": "code",
   "execution_count": 5,
   "metadata": {
    "ExecuteTime": {
     "end_time": "2021-02-24T00:42:07.220452Z",
     "start_time": "2021-02-24T00:42:07.216462Z"
    }
   },
   "outputs": [
    {
     "name": "stdout",
     "output_type": "stream",
     "text": [
      "__main__\n"
     ]
    }
   ],
   "source": [
    "print(__name__)   #이런것 만든적이 없는데 sys에서 자동적으로 __main__이 출력됨"
   ]
  },
  {
   "cell_type": "code",
   "execution_count": 14,
   "metadata": {
    "ExecuteTime": {
     "end_time": "2021-02-24T00:49:06.485141Z",
     "start_time": "2021-02-24T00:49:06.474151Z"
    }
   },
   "outputs": [
    {
     "name": "stdout",
     "output_type": "stream",
     "text": [
      "90\n",
      "50\n"
     ]
    },
    {
     "ename": "TypeError",
     "evalue": "my_add() missing 1 required positional argument: 'num2'",
     "output_type": "error",
     "traceback": [
      "\u001b[1;31m---------------------------------------------------------------------------\u001b[0m",
      "\u001b[1;31mTypeError\u001b[0m                                 Traceback (most recent call last)",
      "\u001b[1;32m<ipython-input-14-94d335c11579>\u001b[0m in \u001b[0;36m<module>\u001b[1;34m\u001b[0m\n\u001b[0;32m      3\u001b[0m \u001b[0mprint\u001b[0m\u001b[1;33m(\u001b[0m\u001b[0mmy_add\u001b[0m\u001b[1;33m(\u001b[0m\u001b[1;36m20\u001b[0m\u001b[1;33m,\u001b[0m\u001b[1;36m30\u001b[0m\u001b[1;33m,\u001b[0m\u001b[1;36m40\u001b[0m\u001b[1;33m)\u001b[0m\u001b[1;33m)\u001b[0m\u001b[1;33m\u001b[0m\u001b[1;33m\u001b[0m\u001b[0m\n\u001b[0;32m      4\u001b[0m \u001b[0mprint\u001b[0m\u001b[1;33m(\u001b[0m\u001b[0mmy_add\u001b[0m\u001b[1;33m(\u001b[0m\u001b[1;36m20\u001b[0m\u001b[1;33m,\u001b[0m\u001b[1;36m30\u001b[0m\u001b[1;33m)\u001b[0m\u001b[1;33m)\u001b[0m\u001b[1;33m\u001b[0m\u001b[1;33m\u001b[0m\u001b[0m\n\u001b[1;32m----> 5\u001b[1;33m \u001b[0mprint\u001b[0m\u001b[1;33m(\u001b[0m\u001b[0mmy_add\u001b[0m\u001b[1;33m(\u001b[0m\u001b[1;36m20\u001b[0m\u001b[1;33m)\u001b[0m\u001b[1;33m)\u001b[0m\u001b[1;33m\u001b[0m\u001b[1;33m\u001b[0m\u001b[0m\n\u001b[0m",
      "\u001b[1;31mTypeError\u001b[0m: my_add() missing 1 required positional argument: 'num2'"
     ]
    }
   ],
   "source": [
    "def my_add(num1, num2, num3=0): #기본값을 갖는 매개변수 반드시 맨 뒤에  (num3은위치인수, num1,num2는 key인수)\n",
    "    return num1+num2+num3\n",
    "print(my_add(20,30,40))\n",
    "print(my_add(20,30))\n",
    "print(my_add(20))"
   ]
  },
  {
   "cell_type": "markdown",
   "metadata": {},
   "source": [
    "## 1.2 docstring\n",
    "- 함수를 선언할때 많이 사용"
   ]
  },
  {
   "cell_type": "code",
   "execution_count": 21,
   "metadata": {
    "ExecuteTime": {
     "end_time": "2021-02-24T00:54:40.054665Z",
     "start_time": "2021-02-24T00:54:40.050676Z"
    }
   },
   "outputs": [],
   "source": [
    "def my_function():      #함수 밑 글 docstring\n",
    "    \"\"\"\n",
    "    함수의 첫 라인에 docstring을 포함시킬 수 있다.\n",
    "    docstring은 함수의 설명서를 달아주는 역할. 주석보다 더 많은 기능 \n",
    "    \"\"\"\n",
    "    pass"
   ]
  },
  {
   "cell_type": "code",
   "execution_count": 22,
   "metadata": {
    "ExecuteTime": {
     "end_time": "2021-02-24T00:54:41.503058Z",
     "start_time": "2021-02-24T00:54:41.499068Z"
    }
   },
   "outputs": [
    {
     "name": "stdout",
     "output_type": "stream",
     "text": [
      "\n",
      "    함수의 첫 라인에 docstring을 포함시킬 수 있다.\n",
      "    docstring은 함수의 설명서를 달아주는 역할. 주석보다 더 많은 기능 \n",
      "    \n"
     ]
    }
   ],
   "source": [
    "print(my_function.__doc__)                                    #.__doc__는 docstring"
   ]
  },
  {
   "cell_type": "code",
   "execution_count": 25,
   "metadata": {
    "ExecuteTime": {
     "end_time": "2021-02-24T01:01:36.754831Z",
     "start_time": "2021-02-24T01:01:36.750834Z"
    }
   },
   "outputs": [
    {
     "name": "stdout",
     "output_type": "stream",
     "text": [
      "0 1 1 2 3 5 8 \n"
     ]
    }
   ],
   "source": [
    "def fibonacci(n):\n",
    "    \"\"\"\n",
    "    매개변수로 들어온 n값 미만까지 피보나치 수열을 출력합니다. \n",
    "    \"\"\"\n",
    "    a,b =0,1\n",
    "    while a < n:\n",
    "        print(a, end=' ')\n",
    "        a,b = b,a+b      #b값이a에 a에 들어오고, a+b가 b에 들어간다\n",
    "    print()\n",
    "    \n",
    "if __name__ == '__main__':\n",
    "    fibonacci(10)"
   ]
  },
  {
   "cell_type": "code",
   "execution_count": 26,
   "metadata": {
    "ExecuteTime": {
     "end_time": "2021-02-24T01:01:44.677171Z",
     "start_time": "2021-02-24T01:01:44.674178Z"
    }
   },
   "outputs": [
    {
     "name": "stdout",
     "output_type": "stream",
     "text": [
      "0 1 1 2 3 5 8 \n"
     ]
    }
   ],
   "source": [
    "fibonacci(10)  #10이하의 아이를 출력  # 0 1 1 2 3 5 8       앞에 2개 더한게 뒤에 반영"
   ]
  },
  {
   "cell_type": "markdown",
   "metadata": {},
   "source": [
    "## 1.3 지역함수와 전역변수"
   ]
  },
  {
   "cell_type": "code",
   "execution_count": 27,
   "metadata": {
    "ExecuteTime": {
     "end_time": "2021-02-24T01:04:43.696576Z",
     "start_time": "2021-02-24T01:04:43.692607Z"
    }
   },
   "outputs": [
    {
     "name": "stdout",
     "output_type": "stream",
     "text": [
      "100\n"
     ]
    }
   ],
   "source": [
    "global_var = 100 #전역변수     #전역변수는 다 쓸 수 있다\n",
    "def func1():\n",
    "    print(global_var)\n",
    "func1()"
   ]
  },
  {
   "cell_type": "code",
   "execution_count": 29,
   "metadata": {
    "ExecuteTime": {
     "end_time": "2021-02-24T01:05:59.912712Z",
     "start_time": "2021-02-24T01:05:59.909741Z"
    }
   },
   "outputs": [],
   "source": [
    "def func2():\n",
    "    local_var = 200\n",
    "    print(local_var)\n",
    "    \n",
    "fun2()   #지역변수               #지역변수는 '함수를 안에서만 사용가능' "
   ]
  },
  {
   "cell_type": "code",
   "execution_count": 30,
   "metadata": {
    "ExecuteTime": {
     "end_time": "2021-02-24T01:09:18.631320Z",
     "start_time": "2021-02-24T01:09:18.619353Z"
    }
   },
   "outputs": [
    {
     "ename": "UnboundLocalError",
     "evalue": "local variable 'g_var' referenced before assignment",
     "output_type": "error",
     "traceback": [
      "\u001b[1;31m---------------------------------------------------------------------------\u001b[0m",
      "\u001b[1;31mUnboundLocalError\u001b[0m                         Traceback (most recent call last)",
      "\u001b[1;32m<ipython-input-30-9a2dfb5ebc18>\u001b[0m in \u001b[0;36m<module>\u001b[1;34m\u001b[0m\n\u001b[0;32m      5\u001b[0m     \u001b[0mg_var\u001b[0m \u001b[1;33m=\u001b[0m \u001b[1;36m200\u001b[0m\u001b[1;33m\u001b[0m\u001b[1;33m\u001b[0m\u001b[0m\n\u001b[0;32m      6\u001b[0m     \u001b[0mprint\u001b[0m\u001b[1;33m(\u001b[0m\u001b[1;34m'after'\u001b[0m\u001b[1;33m,\u001b[0m\u001b[0mg_var\u001b[0m\u001b[1;33m)\u001b[0m\u001b[1;33m\u001b[0m\u001b[1;33m\u001b[0m\u001b[0m\n\u001b[1;32m----> 7\u001b[1;33m \u001b[0mfun3\u001b[0m\u001b[1;33m(\u001b[0m\u001b[1;33m)\u001b[0m\u001b[1;33m\u001b[0m\u001b[1;33m\u001b[0m\u001b[0m\n\u001b[0m",
      "\u001b[1;32m<ipython-input-30-9a2dfb5ebc18>\u001b[0m in \u001b[0;36mfun3\u001b[1;34m()\u001b[0m\n\u001b[0;32m      2\u001b[0m \u001b[0mg_var\u001b[0m \u001b[1;33m=\u001b[0m \u001b[1;36m100\u001b[0m\u001b[1;33m\u001b[0m\u001b[1;33m\u001b[0m\u001b[0m\n\u001b[0;32m      3\u001b[0m \u001b[1;32mdef\u001b[0m \u001b[0mfun3\u001b[0m\u001b[1;33m(\u001b[0m\u001b[1;33m)\u001b[0m\u001b[1;33m:\u001b[0m\u001b[1;33m\u001b[0m\u001b[1;33m\u001b[0m\u001b[0m\n\u001b[1;32m----> 4\u001b[1;33m     \u001b[0mprint\u001b[0m\u001b[1;33m(\u001b[0m\u001b[1;34m'before'\u001b[0m\u001b[1;33m,\u001b[0m \u001b[0mg_var\u001b[0m\u001b[1;33m)\u001b[0m\u001b[1;33m\u001b[0m\u001b[1;33m\u001b[0m\u001b[0m\n\u001b[0m\u001b[0;32m      5\u001b[0m     \u001b[0mg_var\u001b[0m \u001b[1;33m=\u001b[0m \u001b[1;36m200\u001b[0m\u001b[1;33m\u001b[0m\u001b[1;33m\u001b[0m\u001b[0m\n\u001b[0;32m      6\u001b[0m     \u001b[0mprint\u001b[0m\u001b[1;33m(\u001b[0m\u001b[1;34m'after'\u001b[0m\u001b[1;33m,\u001b[0m\u001b[0mg_var\u001b[0m\u001b[1;33m)\u001b[0m\u001b[1;33m\u001b[0m\u001b[1;33m\u001b[0m\u001b[0m\n",
      "\u001b[1;31mUnboundLocalError\u001b[0m: local variable 'g_var' referenced before assignment"
     ]
    }
   ],
   "source": [
    "# 렉시컬 특성 \n",
    "g_var = 100\n",
    "def fun3():\n",
    "    print('before', g_var)\n",
    "    g_var = 200      #지역변수를 선언\n",
    "    print('after',g_var)\n",
    "fun3()"
   ]
  },
  {
   "cell_type": "code",
   "execution_count": 59,
   "metadata": {
    "ExecuteTime": {
     "end_time": "2021-02-24T03:32:27.534463Z",
     "start_time": "2021-02-24T03:32:27.529477Z"
    }
   },
   "outputs": [
    {
     "name": "stdout",
     "output_type": "stream",
     "text": [
      "fun3()실행 전 100\n",
      "before 100\n",
      "after 200\n",
      "200\n"
     ]
    }
   ],
   "source": [
    "g_var = 100 \n",
    "def func3():\n",
    "    global g_var        #g_var변수는 전역변수를 쓸거야    #예약어\n",
    "    print('before',g_var)\n",
    "    g_var = 200          #전역변수  ㅎg_var에 다시 값 할당 \n",
    "    print('after',g_var)\n",
    "\n",
    "    ##################여기까지는 '정의'만 한것. 뿌린거 아님 ################\n",
    "    \n",
    "print(\"fun3()실행 전\",g_var)   #밖에 있는 g_var = 100 가져옴 (즉 맨 처음에 선언한것) \n",
    "func3()          #(1) 왜 순서가 print(\"fun3()실행 전\",g_var) 게 먼저나오는지 (밖에 있어서??)   \n",
    "                    #(2) 여기다 func3() 이거 왜 넣는지    (3) 이걸 넣어야 맨 마지막에 print(g_var)가 200으로 나오는지?\n",
    "print(g_var) ########################????????????????????????????"
   ]
  },
  {
   "cell_type": "code",
   "execution_count": 34,
   "metadata": {
    "ExecuteTime": {
     "end_time": "2021-02-24T01:19:19.856288Z",
     "start_time": "2021-02-24T01:19:19.850303Z"
    }
   },
   "outputs": [
    {
     "name": "stdout",
     "output_type": "stream",
     "text": [
      "fun1()실행 전 global_var값 100\n",
      "200\n",
      "fun1()실행 후 global_var값 100\n"
     ]
    }
   ],
   "source": [
    "global_var = 100\n",
    "def func1():\n",
    "    global_var = 200      #'새롭게 지역변수'를 선언\n",
    "    print(global_var)     #우선순위가 높은 '지역변수'를 출력 \n",
    "print('fun1()실행 전 global_var값',global_var)\n",
    "\n",
    "func1()\n",
    "print('fun1()실행 후 global_var값',global_var)\n"
   ]
  },
  {
   "cell_type": "code",
   "execution_count": 35,
   "metadata": {
    "ExecuteTime": {
     "end_time": "2021-02-24T01:20:18.564278Z",
     "start_time": "2021-02-24T01:20:18.559299Z"
    }
   },
   "outputs": [
    {
     "name": "stdout",
     "output_type": "stream",
     "text": [
      "fun1()실행 전 global_var값 100\n",
      "200\n",
      "fun1()실행 후 global_var값 200\n"
     ]
    }
   ],
   "source": [
    "global_var = 100\n",
    "def func1():\n",
    "    global global_var       #이것을 추가하면 전역변수!!!!!!!!!!!!!!!!!\n",
    "    global_var = 200      #'전역변수'를 선언\n",
    "    print(global_var)     #전역변수\n",
    "print('fun1()실행 전 global_var값',global_var)\n",
    "\n",
    "func1()\n",
    "print('fun1()실행 후 global_var값',global_var)"
   ]
  },
  {
   "cell_type": "markdown",
   "metadata": {},
   "source": [
    "## 1.3 값에 의한 호출\n",
    "- 함수에 인수로 전달되는 변수가 --> 스칼라변수 (숫자, 문자, 논리)일 경우"
   ]
  },
  {
   "cell_type": "code",
   "execution_count": 3,
   "metadata": {
    "ExecuteTime": {
     "end_time": "2021-02-24T01:38:11.060451Z",
     "start_time": "2021-02-24T01:38:11.050478Z"
    }
   },
   "outputs": [
    {
     "data": {
      "text/plain": [
       "2142637670064"
      ]
     },
     "execution_count": 3,
     "metadata": {},
     "output_type": "execute_result"
    }
   ],
   "source": [
    "foo = 'a'  #전역변수\n",
    "id(foo)   #a의 주소"
   ]
  },
  {
   "cell_type": "code",
   "execution_count": 6,
   "metadata": {
    "ExecuteTime": {
     "end_time": "2021-02-24T01:41:32.093928Z",
     "start_time": "2021-02-24T01:41:32.087944Z"
    }
   },
   "outputs": [
    {
     "name": "stdout",
     "output_type": "stream",
     "text": [
      "Before: a 의 주소는 2142637670064\n",
      "After: aaa 의 주소는 2142747877424\n"
     ]
    }
   ],
   "source": [
    "def func1(foo):  #매개변수는 지역변수 \n",
    "    print('Before:', foo, '의 주소는', id(foo))\n",
    "    foo = foo *3   #foo가 aaa로 바꿔있음 \n",
    "    print('After:', foo,'의 주소는',id(foo))           #func1()이라는 변수가 정의 됬을뿐\n",
    "                                                       #여기까지 들여쓰기 한 이유. 이 전체 통이 func1()를 정의\n",
    "func1(foo)\n",
    "        "
   ]
  },
  {
   "cell_type": "code",
   "execution_count": 8,
   "metadata": {
    "ExecuteTime": {
     "end_time": "2021-02-24T01:43:26.192564Z",
     "start_time": "2021-02-24T01:43:26.188593Z"
    }
   },
   "outputs": [
    {
     "name": "stdout",
     "output_type": "stream",
     "text": [
      "a 2142637670064\n"
     ]
    }
   ],
   "source": [
    "print(foo,id(foo)) #전역변수   #값에 의한 호출    #'값이 전달됨'        #앞과 변한게 없음"
   ]
  },
  {
   "cell_type": "markdown",
   "metadata": {},
   "source": [
    "## 1.4 참조에 의한 호출\n",
    "- 함수에 인수로 전달되는 변수가 --> 리스트,딕셔너리, 셋...일 경우"
   ]
  },
  {
   "cell_type": "code",
   "execution_count": 10,
   "metadata": {
    "ExecuteTime": {
     "end_time": "2021-02-24T01:45:18.013472Z",
     "start_time": "2021-02-24T01:45:18.008484Z"
    }
   },
   "outputs": [
    {
     "data": {
      "text/plain": [
       "2142746568640"
      ]
     },
     "execution_count": 10,
     "metadata": {},
     "output_type": "execute_result"
    }
   ],
   "source": [
    "L=[1,2,3,4,5]\n",
    "id(L)"
   ]
  },
  {
   "cell_type": "code",
   "execution_count": 13,
   "metadata": {
    "ExecuteTime": {
     "end_time": "2021-02-24T01:48:32.992029Z",
     "start_time": "2021-02-24T01:48:32.986046Z"
    }
   },
   "outputs": [
    {
     "name": "stdout",
     "output_type": "stream",
     "text": [
      "beofre: [1, 2, 3, 4, 5] 의 주소: 2142746568640\n",
      "after: [1, 2, 3, 4, 5, 6] 의 주소: 2142746568640\n",
      "함수 호출 후에 L: [1, 2, 3, 4, 5, 6] 의 주소: 2142746568640\n"
     ]
    }
   ],
   "source": [
    "def func2(foo): #foo는 지역변수 \n",
    "    print('beofre:',foo,'의 주소:', id(foo))\n",
    "    foo.append(6)\n",
    "    print('after:', foo,'의 주소:',id(foo))\n",
    "\n",
    "func2(L)\n",
    "print('함수 호출 후에 L:',L,'의 주소:' ,id(L))  #바꿔도 주소가 안바꿈. 따라서 '주소'를 참조(o). 값 참조(x)\n",
    "\n",
    "#######복습##########"
   ]
  },
  {
   "cell_type": "markdown",
   "metadata": {},
   "source": [
    "## 1.5 함수의 이름 변경\n",
    "- Python; 함수형 언어, 객체 지향 언어 "
   ]
  },
  {
   "cell_type": "code",
   "execution_count": 15,
   "metadata": {
    "ExecuteTime": {
     "end_time": "2021-02-24T01:51:32.097879Z",
     "start_time": "2021-02-24T01:51:32.092893Z"
    }
   },
   "outputs": [],
   "source": [
    "def fibonacci(n):\n",
    "    \"\"\"\n",
    "    매개변수로 들어온 n값 미만까지 피보나치 수열을 출력합니다. \n",
    "    \"\"\"\n",
    "    a,b =0,1\n",
    "    while a < n:\n",
    "        print(a, end=' ')\n",
    "        a,b = b,a+b      #b값이a에 a에 들어오고, a+b가 b에 들어간다\n",
    "    print()"
   ]
  },
  {
   "cell_type": "code",
   "execution_count": 16,
   "metadata": {
    "ExecuteTime": {
     "end_time": "2021-02-24T01:51:33.659202Z",
     "start_time": "2021-02-24T01:51:33.655212Z"
    }
   },
   "outputs": [
    {
     "data": {
      "text/plain": [
       "function"
      ]
     },
     "execution_count": 16,
     "metadata": {},
     "output_type": "execute_result"
    }
   ],
   "source": [
    "type(fibonacci)"
   ]
  },
  {
   "cell_type": "code",
   "execution_count": 17,
   "metadata": {
    "ExecuteTime": {
     "end_time": "2021-02-24T01:52:27.699813Z",
     "start_time": "2021-02-24T01:52:27.695822Z"
    }
   },
   "outputs": [],
   "source": [
    "fibo = fibonacci #fibonacci함수이름이 fibo로도 사용가능 "
   ]
  },
  {
   "cell_type": "code",
   "execution_count": 18,
   "metadata": {
    "ExecuteTime": {
     "end_time": "2021-02-24T01:52:49.398934Z",
     "start_time": "2021-02-24T01:52:49.394945Z"
    }
   },
   "outputs": [
    {
     "name": "stdout",
     "output_type": "stream",
     "text": [
      "0 1 1 2 3 5 8 13 21 34 55 89 \n"
     ]
    }
   ],
   "source": [
    "fibo(100)     #shift+tab설명나옴    # 매개변수로 들어온 n값 미만까지 피보나치 수열을 출력합니다.  0+1=1 1+1=2 1+2=3 2+3=5"
   ]
  },
  {
   "cell_type": "markdown",
   "metadata": {},
   "source": [
    "# 2절. 함수의 실형 결과를 반환하는 return"
   ]
  },
  {
   "cell_type": "code",
   "execution_count": 63,
   "metadata": {
    "ExecuteTime": {
     "end_time": "2021-02-24T03:36:10.817849Z",
     "start_time": "2021-02-24T03:36:10.812862Z"
    }
   },
   "outputs": [],
   "source": [
    "def fibonacci_print(n):\n",
    "    \"\"\"\n",
    "    매개변수로 들어온 n값 미만까지 피보나치 수열을 출력합니다. \n",
    "    \"\"\"\n",
    "    a,b =0,1\n",
    "    while a < n:\n",
    "        print(a, end=' ')\n",
    "        a,b = b,a+b      #b값이a에 a에 들어오고, a+b가 b에 들어간다\n",
    "    print()\n",
    "    \n",
    "def fibonacci(n):\n",
    "    \"n값 미만의 피보나치 수열을 return\" #*********실행하면 위에 있는 함수가 사라지고, 밑에 있는 함수가 실행*******\n",
    "    result = []                                   #***python은 중복정의 안됨******\n",
    "    a, b = 0, 1\n",
    "    while a < n :\n",
    "        result.append(a)         #print대신 result에 a를 append \n",
    "        a, b = b, a+b\n",
    "    return result                  #값을 안고 나를 호출한 곳으로감"
   ]
  },
  {
   "cell_type": "code",
   "execution_count": null,
   "metadata": {},
   "outputs": [],
   "source": [
    "a = 10\n",
    "\n",
    "a = 'hello'"
   ]
  },
  {
   "cell_type": "code",
   "execution_count": 66,
   "metadata": {
    "ExecuteTime": {
     "end_time": "2021-02-24T03:37:22.946748Z",
     "start_time": "2021-02-24T03:37:22.942759Z"
    }
   },
   "outputs": [
    {
     "name": "stdout",
     "output_type": "stream",
     "text": [
      "0 1 1 2 3 5 8 13 21 34 55 89 \n"
     ]
    }
   ],
   "source": [
    "x = fibonacci_print(100)"
   ]
  },
  {
   "cell_type": "code",
   "execution_count": 67,
   "metadata": {
    "ExecuteTime": {
     "end_time": "2021-02-24T03:37:24.463726Z",
     "start_time": "2021-02-24T03:37:24.460743Z"
    }
   },
   "outputs": [
    {
     "name": "stdout",
     "output_type": "stream",
     "text": [
      "None <class 'NoneType'>\n"
     ]
    }
   ],
   "source": [
    "print(x,type(x))      #왜x는 none으로 나오는지??? 0 1 1 2 3 5 8 13 21 34 55 89 이 걸로 나오지 않고????????????"
   ]
  },
  {
   "cell_type": "code",
   "execution_count": 68,
   "metadata": {
    "ExecuteTime": {
     "end_time": "2021-02-24T03:38:01.426629Z",
     "start_time": "2021-02-24T03:38:01.422661Z"
    }
   },
   "outputs": [],
   "source": [
    "L = fibonacci(100)  #return값이 L에 들어감 "
   ]
  },
  {
   "cell_type": "code",
   "execution_count": 69,
   "metadata": {
    "ExecuteTime": {
     "end_time": "2021-02-24T03:38:02.810371Z",
     "start_time": "2021-02-24T03:38:02.806382Z"
    }
   },
   "outputs": [
    {
     "name": "stdout",
     "output_type": "stream",
     "text": [
      "[0, 1, 1, 2, 3, 5, 8, 13, 21, 34, 55, 89] <class 'list'>\n"
     ]
    }
   ],
   "source": [
    "print(L,type(L))"
   ]
  },
  {
   "cell_type": "markdown",
   "metadata": {},
   "source": [
    "## 2.1 여러개 값 반환"
   ]
  },
  {
   "cell_type": "code",
   "execution_count": 40,
   "metadata": {
    "ExecuteTime": {
     "end_time": "2021-02-24T02:06:25.015212Z",
     "start_time": "2021-02-24T02:06:25.011222Z"
    }
   },
   "outputs": [],
   "source": [
    "def swap(a,b):\n",
    "    return b,a        #,를 찍으면 자동적로 class 'tuple'"
   ]
  },
  {
   "cell_type": "code",
   "execution_count": 43,
   "metadata": {
    "ExecuteTime": {
     "end_time": "2021-02-24T02:07:14.383151Z",
     "start_time": "2021-02-24T02:07:14.379143Z"
    }
   },
   "outputs": [
    {
     "name": "stdout",
     "output_type": "stream",
     "text": [
      "함수 실행전 5 10\n",
      "함수 실행 후 10 5\n"
     ]
    }
   ],
   "source": [
    "x = 5                     #x,y=5,10\n",
    "y = 10\n",
    "print('함수 실행전', x,y)\n",
    "x,y = swap(x,y)\n",
    "print('함수 실행 후', x,y)"
   ]
  },
  {
   "cell_type": "code",
   "execution_count": 44,
   "metadata": {
    "ExecuteTime": {
     "end_time": "2021-02-24T02:08:27.247391Z",
     "start_time": "2021-02-24T02:08:27.242405Z"
    }
   },
   "outputs": [
    {
     "name": "stdout",
     "output_type": "stream",
     "text": [
      "<class 'tuple'>\n",
      "(5, 10)\n"
     ]
    }
   ],
   "source": [
    "a = swap(x,y)     #a에 투플이 들어옴 \n",
    "print(type(a))\n",
    "print(a)"
   ]
  },
  {
   "cell_type": "markdown",
   "metadata": {},
   "source": [
    "# ★3절. 함수의 매개변수"
   ]
  },
  {
   "cell_type": "markdown",
   "metadata": {},
   "source": [
    "## 3.1 기본값을 갖는 매개변수"
   ]
  },
  {
   "cell_type": "code",
   "execution_count": 2,
   "metadata": {
    "ExecuteTime": {
     "end_time": "2021-02-24T02:18:02.892351Z",
     "start_time": "2021-02-24T02:18:02.887363Z"
    }
   },
   "outputs": [
    {
     "data": {
      "text/plain": [
       "'http://localhost:80'"
      ]
     },
     "execution_count": 2,
     "metadata": {},
     "output_type": "execute_result"
    }
   ],
   "source": [
    "def make_url(ip, port=80):#기본값을 받는 기본함수 (앞 )기본값을 안 받는 매개변수 (뒤\n",
    "    return 'http://{}:{}'.format(ip,port)\n",
    "\n",
    "make_url(\"localhost\",80)"
   ]
  },
  {
   "cell_type": "code",
   "execution_count": 3,
   "metadata": {
    "ExecuteTime": {
     "end_time": "2021-02-24T02:18:05.218853Z",
     "start_time": "2021-02-24T02:18:05.214863Z"
    }
   },
   "outputs": [
    {
     "data": {
      "text/plain": [
       "'http://localhost:80'"
      ]
     },
     "execution_count": 3,
     "metadata": {},
     "output_type": "execute_result"
    }
   ],
   "source": [
    "make_url(\"localhost\")       #기본값을 갖는 매개변수 "
   ]
  },
  {
   "cell_type": "markdown",
   "metadata": {},
   "source": [
    "## 3.2 기본 변수를 갖는 매개변수 "
   ]
  },
  {
   "cell_type": "code",
   "execution_count": 9,
   "metadata": {
    "ExecuteTime": {
     "end_time": "2021-02-24T02:42:43.772244Z",
     "start_time": "2021-02-24T02:42:43.767257Z"
    }
   },
   "outputs": [],
   "source": [
    "i = 5                 #'기본함수가 스칼라변수'일 때:arg의 기본 값은 함수가 정의되는 지점에 한번만 평가됨 ************. \n",
    "def func2(arg=i):    #arg의 기본값은 함수가 정의되는 지점에 한단번 평기  변수는 기본 값으로 세팅                    \n",
    "    print('arg= ',arg)"
   ]
  },
  {
   "cell_type": "code",
   "execution_count": 10,
   "metadata": {
    "ExecuteTime": {
     "end_time": "2021-02-24T02:42:45.131145Z",
     "start_time": "2021-02-24T02:42:45.127154Z"
    }
   },
   "outputs": [
    {
     "name": "stdout",
     "output_type": "stream",
     "text": [
      "arg=  5\n"
     ]
    }
   ],
   "source": [
    "i = 6\n",
    "func2()     ####func2는 앞에서 이미 i=5로 정의됨. \n",
    "            #'기본함수가 스칼라변수'일 때:arg의 기본 값은 함수가 정의되는 지점에 한번만 평가됨 ************. "
   ]
  },
  {
   "cell_type": "code",
   "execution_count": 70,
   "metadata": {
    "ExecuteTime": {
     "end_time": "2021-02-24T03:40:18.885594Z",
     "start_time": "2021-02-24T03:40:18.882601Z"
    }
   },
   "outputs": [
    {
     "name": "stdout",
     "output_type": "stream",
     "text": [
      "<function func2 at 0x000001BB393CD5E0>\n"
     ]
    }
   ],
   "source": [
    "print(func2) ##########function이라서 값이 안나오고 이렇게 나옴 "
   ]
  },
  {
   "cell_type": "code",
   "execution_count": 123,
   "metadata": {
    "ExecuteTime": {
     "end_time": "2021-02-24T06:30:49.167121Z",
     "start_time": "2021-02-24T06:30:49.162135Z"
    }
   },
   "outputs": [
    {
     "name": "stdout",
     "output_type": "stream",
     "text": [
      "[1]\n",
      "[1]\n"
     ]
    }
   ],
   "source": [
    "# 기본변수가 list, set, dictionary 또는 객체일때 함수를 호출 후 다시 전달\n",
    "list_ = []\n",
    "def func3(a,L=list_):   #기본값이 변수로       *********#L=list_  객체변수 (주소가 1번세팅)  | 세칼라변수 '값세팅'*******\n",
    "    L.append(a)\n",
    "    return L\n",
    "print(func3(1,list_))    #list값바뀜    # 원래 빈 리스트, 2번째값 자동적으로 기본값. list_=[] 빈스트링. 3을 return해서 1 만 나옴\n",
    "print(list_)\n",
    "#####################???????????##########"
   ]
  },
  {
   "cell_type": "code",
   "execution_count": 124,
   "metadata": {
    "ExecuteTime": {
     "end_time": "2021-02-24T06:30:52.491613Z",
     "start_time": "2021-02-24T06:30:52.487649Z"
    }
   },
   "outputs": [
    {
     "name": "stdout",
     "output_type": "stream",
     "text": [
      "[1, 2]\n",
      "[1, 2]\n"
     ]
    }
   ],
   "source": [
    "print(func3(2))\n",
    "print(list_)   #####2가 계속 늘어남 ###############???????????????"
   ]
  },
  {
   "cell_type": "code",
   "execution_count": 14,
   "metadata": {
    "ExecuteTime": {
     "end_time": "2021-02-24T02:44:38.465187Z",
     "start_time": "2021-02-24T02:44:38.461198Z"
    }
   },
   "outputs": [
    {
     "name": "stdout",
     "output_type": "stream",
     "text": [
      "[1]\n"
     ]
    }
   ],
   "source": [
    "def func(a, L=[]): #안들어왔을경우 빈string\n",
    "    L.append(a)\n",
    "    return L\n",
    "print(func(1))   #a에1  L=[]에 빈string이 들어감 *** 지역변수L값.   주소 뭔가 하나 잡혀져있음  그주소는L주소"
   ]
  },
  {
   "cell_type": "code",
   "execution_count": 15,
   "metadata": {
    "ExecuteTime": {
     "end_time": "2021-02-24T02:44:56.167479Z",
     "start_time": "2021-02-24T02:44:56.163511Z"
    }
   },
   "outputs": [
    {
     "name": "stdout",
     "output_type": "stream",
     "text": [
      "[1, 2]\n"
     ]
    }
   ],
   "source": [
    "print(func(2))       #왜 이렇게 나오는지???????????????????? 주소잡혀있는아이 고대로L로 ??dictionary,set등에서 값이 그대로 남아있어\n",
    "                    #계속 주소에 머물러있다"
   ]
  },
  {
   "cell_type": "markdown",
   "metadata": {},
   "source": [
    "## 3.3 순서(order)인수와 키워드(keyword)인수\n",
    "- 순서인수와 키워드인수 (기본값을 갖는 인수)가 같이 올 때는 / 키워드 인수가 반드시 뒤에 온다 \n",
    "<pre>\n",
    "    def function명(변수명1,변수명2, 변수명n= 기본값):\n",
    "                      순서인수         키워드인수\n",
    "</pre>\n"
   ]
  },
  {
   "cell_type": "code",
   "execution_count": 16,
   "metadata": {
    "ExecuteTime": {
     "end_time": "2021-02-24T02:48:34.635051Z",
     "start_time": "2021-02-24T02:48:34.631062Z"
    }
   },
   "outputs": [
    {
     "name": "stdout",
     "output_type": "stream",
     "text": [
      "10 20\n"
     ]
    }
   ],
   "source": [
    "def func(a,b):\n",
    "    print(a,b)\n",
    "func(10,20) ####순서로 넣어야 "
   ]
  },
  {
   "cell_type": "code",
   "execution_count": 17,
   "metadata": {
    "ExecuteTime": {
     "end_time": "2021-02-24T02:49:19.274752Z",
     "start_time": "2021-02-24T02:49:19.270762Z"
    }
   },
   "outputs": [
    {
     "name": "stdout",
     "output_type": "stream",
     "text": [
      "10 20\n"
     ]
    }
   ],
   "source": [
    "def func(a,b,c=10): #c가 키워드 인수. 기본값을 갖는인수\n",
    "    print(a,b)\n",
    "func(10,20) ####순서로 넣어야 "
   ]
  },
  {
   "cell_type": "code",
   "execution_count": 18,
   "metadata": {
    "ExecuteTime": {
     "end_time": "2021-02-24T02:53:34.061270Z",
     "start_time": "2021-02-24T02:53:34.055304Z"
    }
   },
   "outputs": [
    {
     "data": {
      "text/plain": [
       "[10]"
      ]
     },
     "execution_count": 18,
     "metadata": {},
     "output_type": "execute_result"
    }
   ],
   "source": [
    "def func4(a,L=None):\n",
    "    if L is None:\n",
    "        L = []\n",
    "    L.append(a)\n",
    "    return L\n",
    "func4(10)   #L=None는 아무것도 아니어서 출력안됨    #####내설명이 맞는지???????????????"
   ]
  },
  {
   "cell_type": "code",
   "execution_count": 22,
   "metadata": {
    "ExecuteTime": {
     "end_time": "2021-02-24T02:54:22.947972Z",
     "start_time": "2021-02-24T02:54:22.943984Z"
    }
   },
   "outputs": [
    {
     "data": {
      "text/plain": [
       "[30]"
      ]
     },
     "execution_count": 22,
     "metadata": {},
     "output_type": "execute_result"
    }
   ],
   "source": [
    "func4(30) #2번쨰 안쓰면 항상 빈스트링이 추가됨"
   ]
  },
  {
   "cell_type": "code",
   "execution_count": 23,
   "metadata": {
    "ExecuteTime": {
     "end_time": "2021-02-24T02:54:58.265116Z",
     "start_time": "2021-02-24T02:54:58.260129Z"
    }
   },
   "outputs": [
    {
     "data": {
      "text/plain": [
       "[10]"
      ]
     },
     "execution_count": 23,
     "metadata": {},
     "output_type": "execute_result"
    }
   ],
   "source": [
    "list_= []\n",
    "func4(10,list_) "
   ]
  },
  {
   "cell_type": "code",
   "execution_count": 24,
   "metadata": {
    "ExecuteTime": {
     "end_time": "2021-02-24T02:55:36.849269Z",
     "start_time": "2021-02-24T02:55:36.844283Z"
    }
   },
   "outputs": [
    {
     "data": {
      "text/plain": [
       "[10, 2]"
      ]
     },
     "execution_count": 24,
     "metadata": {},
     "output_type": "execute_result"
    }
   ],
   "source": [
    "func4(2,list_)       #################??왜 여기서는 공유가 되는지 ?????????????????????? 왜 2,10이 아니고 10,2 인지  \n",
    "                    # 메모리에 이미 10이 올라가있어서 이런건지??"
   ]
  },
  {
   "cell_type": "code",
   "execution_count": 26,
   "metadata": {
    "ExecuteTime": {
     "end_time": "2021-02-24T02:56:50.740626Z",
     "start_time": "2021-02-24T02:56:50.735639Z"
    }
   },
   "outputs": [
    {
     "data": {
      "text/plain": [
       "[10, 2, 2, 2]"
      ]
     },
     "execution_count": 26,
     "metadata": {},
     "output_type": "execute_result"
    }
   ],
   "source": [
    "func4(a=2,L=list_)"
   ]
  },
  {
   "cell_type": "code",
   "execution_count": 28,
   "metadata": {
    "ExecuteTime": {
     "end_time": "2021-02-24T02:57:26.272293Z",
     "start_time": "2021-02-24T02:57:26.267306Z"
    }
   },
   "outputs": [
    {
     "data": {
      "text/plain": [
       "[10, 2, 2, 2, 2]"
      ]
     },
     "execution_count": 28,
     "metadata": {},
     "output_type": "execute_result"
    }
   ],
   "source": [
    "func4(L=list_,a=2)  # L과a의 순서를 바꿔 실행해도 똑같음 "
   ]
  },
  {
   "cell_type": "code",
   "execution_count": 29,
   "metadata": {
    "ExecuteTime": {
     "end_time": "2021-02-24T02:58:04.796326Z",
     "start_time": "2021-02-24T02:58:04.791339Z"
    }
   },
   "outputs": [
    {
     "data": {
      "text/plain": [
       "[30]"
      ]
     },
     "execution_count": 29,
     "metadata": {},
     "output_type": "execute_result"
    }
   ],
   "source": [
    "func4(a=30) #a값만 넣으면, L값은 none으로 들어옴"
   ]
  },
  {
   "cell_type": "code",
   "execution_count": 32,
   "metadata": {
    "ExecuteTime": {
     "end_time": "2021-02-24T02:59:40.149572Z",
     "start_time": "2021-02-24T02:59:40.141593Z"
    }
   },
   "outputs": [
    {
     "ename": "TypeError",
     "evalue": "func4() got multiple values for argument 'a'",
     "output_type": "error",
     "traceback": [
      "\u001b[1;31m---------------------------------------------------------------------------\u001b[0m",
      "\u001b[1;31mTypeError\u001b[0m                                 Traceback (most recent call last)",
      "\u001b[1;32m<ipython-input-32-50b44bea2a06>\u001b[0m in \u001b[0;36m<module>\u001b[1;34m\u001b[0m\n\u001b[1;32m----> 1\u001b[1;33m \u001b[0mfunc4\u001b[0m\u001b[1;33m(\u001b[0m\u001b[1;33m[\u001b[0m\u001b[1;33m]\u001b[0m\u001b[1;33m,\u001b[0m \u001b[0ma\u001b[0m\u001b[1;33m=\u001b[0m\u001b[1;36m30\u001b[0m\u001b[1;33m)\u001b[0m\u001b[1;33m\u001b[0m\u001b[1;33m\u001b[0m\u001b[0m\n\u001b[0m",
      "\u001b[1;31mTypeError\u001b[0m: func4() got multiple values for argument 'a'"
     ]
    }
   ],
   "source": [
    "func4([], a=30)  #이름을 적지 않으면 '순서인수'가됨. 따라서 []를L로 인식하지 못하고 'a가 2개야; 라고 error "
   ]
  },
  {
   "cell_type": "code",
   "execution_count": 33,
   "metadata": {
    "ExecuteTime": {
     "end_time": "2021-02-24T03:00:35.884499Z",
     "start_time": "2021-02-24T03:00:35.879512Z"
    }
   },
   "outputs": [
    {
     "data": {
      "text/plain": [
       "[[]]"
      ]
     },
     "execution_count": 33,
     "metadata": {},
     "output_type": "execute_result"
    }
   ],
   "source": [
    "func4([])"
   ]
  },
  {
   "cell_type": "code",
   "execution_count": 34,
   "metadata": {
    "ExecuteTime": {
     "end_time": "2021-02-24T03:01:58.292648Z",
     "start_time": "2021-02-24T03:01:58.286663Z"
    }
   },
   "outputs": [
    {
     "data": {
      "text/plain": [
       "[10, 2, 2, 2, 2, 70]"
      ]
     },
     "execution_count": 34,
     "metadata": {},
     "output_type": "execute_result"
    }
   ],
   "source": [
    "func4(L=list_,a=70) ##쓸려면 앞에 변수이름을 다써야  #순서인수는 순서대로 할당"
   ]
  },
  {
   "cell_type": "markdown",
   "metadata": {},
   "source": [
    "## 3.4 튜플 매개변수를 이용한 가변인수 설정"
   ]
  },
  {
   "cell_type": "code",
   "execution_count": 35,
   "metadata": {
    "ExecuteTime": {
     "end_time": "2021-02-24T03:07:41.946623Z",
     "start_time": "2021-02-24T03:07:41.942633Z"
    }
   },
   "outputs": [
    {
     "name": "stdout",
     "output_type": "stream",
     "text": [
      "3\n"
     ]
    }
   ],
   "source": [
    "def add(a,b):\n",
    "    return a+b\n",
    "print(add(1,2))"
   ]
  },
  {
   "cell_type": "code",
   "execution_count": 38,
   "metadata": {
    "ExecuteTime": {
     "end_time": "2021-02-24T03:09:31.507146Z",
     "start_time": "2021-02-24T03:09:31.503156Z"
    }
   },
   "outputs": [
    {
     "name": "stdout",
     "output_type": "stream",
     "text": [
      "6\n"
     ]
    }
   ],
   "source": [
    "def add(a,b,c):\n",
    "    return a+b+c\n",
    "print(add(1,2,3))"
   ]
  },
  {
   "cell_type": "code",
   "execution_count": 39,
   "metadata": {
    "ExecuteTime": {
     "end_time": "2021-02-24T03:09:54.077791Z",
     "start_time": "2021-02-24T03:09:54.068814Z"
    }
   },
   "outputs": [
    {
     "ename": "TypeError",
     "evalue": "add() missing 1 required positional argument: 'c'",
     "output_type": "error",
     "traceback": [
      "\u001b[1;31m---------------------------------------------------------------------------\u001b[0m",
      "\u001b[1;31mTypeError\u001b[0m                                 Traceback (most recent call last)",
      "\u001b[1;32m<ipython-input-39-2fde645b07d3>\u001b[0m in \u001b[0;36m<module>\u001b[1;34m\u001b[0m\n\u001b[1;32m----> 1\u001b[1;33m \u001b[0mprint\u001b[0m\u001b[1;33m(\u001b[0m\u001b[0madd\u001b[0m\u001b[1;33m(\u001b[0m\u001b[1;36m10\u001b[0m\u001b[1;33m,\u001b[0m\u001b[1;36m20\u001b[0m\u001b[1;33m)\u001b[0m\u001b[1;33m)\u001b[0m\u001b[1;33m\u001b[0m\u001b[1;33m\u001b[0m\u001b[0m\n\u001b[0m\u001b[0;32m      2\u001b[0m \u001b[1;31m#파이썬은 함수의 중복(overloading)을 지원하지 않는다\u001b[0m\u001b[1;33m\u001b[0m\u001b[1;33m\u001b[0m\u001b[1;33m\u001b[0m\u001b[0m\n\u001b[0;32m      3\u001b[0m \u001b[1;33m\u001b[0m\u001b[0m\n",
      "\u001b[1;31mTypeError\u001b[0m: add() missing 1 required positional argument: 'c'"
     ]
    }
   ],
   "source": [
    "print(add(10,20))\n",
    "#파이썬은 함수의 중복(overloading)을 지원하지 않는다 **********************\n"
   ]
  },
  {
   "cell_type": "code",
   "execution_count": 43,
   "metadata": {
    "ExecuteTime": {
     "end_time": "2021-02-24T03:14:02.390287Z",
     "start_time": "2021-02-24T03:14:02.385300Z"
    }
   },
   "outputs": [
    {
     "name": "stdout",
     "output_type": "stream",
     "text": [
      "15\n",
      "1\n"
     ]
    }
   ],
   "source": [
    "# args 앞에 * : args가 튜플 전달  **************************************\n",
    "def add(*args):   # args=(1,2,3,4,5)          #return하면서 다시 올라가는 건지?????????????????????       \n",
    "    sum = 0\n",
    "    for num in args:\n",
    "        sum += num \n",
    "    return sum                               #return 나를 호출한 곳으로 다시 돌아감 !!!!!!!!!11\n",
    "print(add(1,2,3,4,5))\n",
    "print(add(1))"
   ]
  },
  {
   "cell_type": "code",
   "execution_count": 46,
   "metadata": {
    "ExecuteTime": {
     "end_time": "2021-02-24T03:16:34.334363Z",
     "start_time": "2021-02-24T03:16:34.329375Z"
    }
   },
   "outputs": [
    {
     "data": {
      "text/plain": [
       "'서울-부산-인천'"
      ]
     },
     "execution_count": 46,
     "metadata": {},
     "output_type": "execute_result"
    }
   ],
   "source": [
    "city= ('서울','부산','인천')\n",
    "'-'.join(city)"
   ]
  },
  {
   "cell_type": "code",
   "execution_count": 47,
   "metadata": {
    "ExecuteTime": {
     "end_time": "2021-02-24T03:16:36.533071Z",
     "start_time": "2021-02-24T03:16:36.529056Z"
    }
   },
   "outputs": [],
   "source": [
    "def concat (*args, sep):   #0방부터 끝방까지 sep를 return 해라 \n",
    "    return sep.join(args)       #함수선언 "
   ]
  },
  {
   "cell_type": "code",
   "execution_count": 48,
   "metadata": {
    "ExecuteTime": {
     "end_time": "2021-02-24T03:16:48.878676Z",
     "start_time": "2021-02-24T03:16:48.870684Z"
    }
   },
   "outputs": [
    {
     "ename": "TypeError",
     "evalue": "concat() missing 1 required keyword-only argument: 'sep'",
     "output_type": "error",
     "traceback": [
      "\u001b[1;31m---------------------------------------------------------------------------\u001b[0m",
      "\u001b[1;31mTypeError\u001b[0m                                 Traceback (most recent call last)",
      "\u001b[1;32m<ipython-input-48-143a90ea8324>\u001b[0m in \u001b[0;36m<module>\u001b[1;34m\u001b[0m\n\u001b[1;32m----> 1\u001b[1;33m \u001b[0mconcat\u001b[0m\u001b[1;33m(\u001b[0m\u001b[1;34m'hello'\u001b[0m\u001b[1;33m,\u001b[0m\u001b[1;34m'world'\u001b[0m\u001b[1;33m,\u001b[0m\u001b[1;34m'/'\u001b[0m\u001b[1;33m)\u001b[0m\u001b[1;33m\u001b[0m\u001b[1;33m\u001b[0m\u001b[0m\n\u001b[0m",
      "\u001b[1;31mTypeError\u001b[0m: concat() missing 1 required keyword-only argument: 'sep'"
     ]
    }
   ],
   "source": [
    "concat('hello','world','/')   #args튜플밖에 없음. -->sep에 들어갈게 없음 -->return 불가 "
   ]
  },
  {
   "cell_type": "code",
   "execution_count": 49,
   "metadata": {
    "ExecuteTime": {
     "end_time": "2021-02-24T03:17:57.941629Z",
     "start_time": "2021-02-24T03:17:57.936641Z"
    }
   },
   "outputs": [
    {
     "data": {
      "text/plain": [
       "'hello/world'"
      ]
     },
     "execution_count": 49,
     "metadata": {},
     "output_type": "execute_result"
    }
   ],
   "source": [
    "concat('hello','world',sep='/')    ######return sep.join(args)이므로 /가 'hello' 와'world'를 연결"
   ]
  },
  {
   "cell_type": "code",
   "execution_count": 50,
   "metadata": {
    "ExecuteTime": {
     "end_time": "2021-02-24T03:18:46.475083Z",
     "start_time": "2021-02-24T03:18:46.470096Z"
    }
   },
   "outputs": [
    {
     "data": {
      "text/plain": [
       "'hello/world'"
      ]
     },
     "execution_count": 50,
     "metadata": {},
     "output_type": "execute_result"
    }
   ],
   "source": [
    "#해결책1\n",
    "concat('hello','world',sep='/')"
   ]
  },
  {
   "cell_type": "code",
   "execution_count": 51,
   "metadata": {
    "ExecuteTime": {
     "end_time": "2021-02-24T03:22:47.218744Z",
     "start_time": "2021-02-24T03:22:47.214776Z"
    }
   },
   "outputs": [],
   "source": [
    "#해결책2  \n",
    "#'순서인수'와 '튜플인수'가 있으면. '튜플인수'를 뒤에다 빼야 *********\n",
    "def concat(sep,*args):\n",
    "    return sep.join(args)\n"
   ]
  },
  {
   "cell_type": "code",
   "execution_count": 52,
   "metadata": {
    "ExecuteTime": {
     "end_time": "2021-02-24T03:23:05.815930Z",
     "start_time": "2021-02-24T03:23:05.811928Z"
    }
   },
   "outputs": [
    {
     "data": {
      "text/plain": [
       "'earth/mars/venus'"
      ]
     },
     "execution_count": 52,
     "metadata": {},
     "output_type": "execute_result"
    }
   ],
   "source": [
    "concat('/','earth','mars','venus')    #sep이 '/'로 들어감"
   ]
  },
  {
   "cell_type": "code",
   "execution_count": 53,
   "metadata": {
    "ExecuteTime": {
     "end_time": "2021-02-24T03:26:49.854263Z",
     "start_time": "2021-02-24T03:26:49.849298Z"
    }
   },
   "outputs": [
    {
     "data": {
      "text/plain": [
       "'marsearthvenus'"
      ]
     },
     "execution_count": 53,
     "metadata": {},
     "output_type": "execute_result"
    }
   ],
   "source": [
    "concat('earth','mars','venus')        #sep이 'earth'로 들어감"
   ]
  },
  {
   "cell_type": "code",
   "execution_count": 56,
   "metadata": {
    "ExecuteTime": {
     "end_time": "2021-02-24T03:29:15.832377Z",
     "start_time": "2021-02-24T03:29:15.829384Z"
    }
   },
   "outputs": [],
   "source": [
    "#해결책3 \n",
    "def concat (*args, sep='/'):   # 순서인수가 뒤에 오면안됨. 튜플인수가 뒤에 온다.  따라서 sep를 keyword인수(기본값을 갖는인수)로 바꿈\n",
    "                              # 순서인수 > 튜플인수 > 키워드인수 \n",
    "    return sep.join(args)\n",
    "\n"
   ]
  },
  {
   "cell_type": "code",
   "execution_count": 57,
   "metadata": {
    "ExecuteTime": {
     "end_time": "2021-02-24T03:29:32.134407Z",
     "start_time": "2021-02-24T03:29:32.129400Z"
    }
   },
   "outputs": [
    {
     "data": {
      "text/plain": [
       "'earth/mars/venus'"
      ]
     },
     "execution_count": 57,
     "metadata": {},
     "output_type": "execute_result"
    }
   ],
   "source": [
    "concat('earth','mars','venus')"
   ]
  },
  {
   "cell_type": "code",
   "execution_count": 58,
   "metadata": {
    "ExecuteTime": {
     "end_time": "2021-02-24T03:30:03.879460Z",
     "start_time": "2021-02-24T03:30:03.875470Z"
    }
   },
   "outputs": [
    {
     "data": {
      "text/plain": [
       "'Python~R~hadoop'"
      ]
     },
     "execution_count": 58,
     "metadata": {},
     "output_type": "execute_result"
    }
   ],
   "source": [
    "concat('Python','R','hadoop', sep='~')"
   ]
  },
  {
   "cell_type": "markdown",
   "metadata": {},
   "source": [
    "## 3.5 딕셔너리 매개변수\n",
    "- 순서인수, 튜플인수, 키워드인수, 딕셔너리 인수 등은 같이 사용될 수 있음. 순서를 유의해서 사용 "
   ]
  },
  {
   "cell_type": "code",
   "execution_count": 72,
   "metadata": {
    "ExecuteTime": {
     "end_time": "2021-02-24T03:49:04.367714Z",
     "start_time": "2021-02-24T03:49:04.363750Z"
    }
   },
   "outputs": [
    {
     "name": "stdout",
     "output_type": "stream",
     "text": [
      "('name', '홍길동')\n",
      "('age', 30)\n",
      "('address', '서울시')\n"
     ]
    }
   ],
   "source": [
    "def func5(**args): #**args가 딕셔너리로 전달(**)\n",
    "                    # args = {name='홍길동',age=30, address='서울시'}\n",
    "    for item in args.items():                                 #튜플 형식   근데 이게 왜 튜플 형식?????????????\n",
    "        print(item)\n",
    "func5(name='홍길동',age=30, address='서울시') "
   ]
  },
  {
   "cell_type": "code",
   "execution_count": 73,
   "metadata": {
    "ExecuteTime": {
     "end_time": "2021-02-24T03:49:35.084500Z",
     "start_time": "2021-02-24T03:49:35.079534Z"
    }
   },
   "outputs": [
    {
     "name": "stdout",
     "output_type": "stream",
     "text": [
      "name 홍길동\n",
      "age 30\n",
      "address 서울시\n"
     ]
    }
   ],
   "source": [
    "def func5(**args): #**args가 딕셔너리로 전달(**)\n",
    "                    # args = {name='홍길동',age=30, address='서울시'}\n",
    "    for key,value in args.items():\n",
    "        print(key,value)\n",
    "func5(name='홍길동',age=30, address='서울시')"
   ]
  },
  {
   "cell_type": "code",
   "execution_count": 76,
   "metadata": {
    "ExecuteTime": {
     "end_time": "2021-02-24T03:54:33.915645Z",
     "start_time": "2021-02-24T03:54:33.911674Z"
    }
   },
   "outputs": [],
   "source": [
    "# 순서인수, 튜플인수, 키워드 인수, 딕셔너리 인수\n",
    "def func6(a, *b, **c):   #튜플인수가 뒤로 와야 \n",
    "    print('a=',a)\n",
    "    print('b=',b)\n",
    "    print('c=',c)"
   ]
  },
  {
   "cell_type": "code",
   "execution_count": 77,
   "metadata": {
    "ExecuteTime": {
     "end_time": "2021-02-24T03:54:36.225996Z",
     "start_time": "2021-02-24T03:54:36.222006Z"
    }
   },
   "outputs": [
    {
     "name": "stdout",
     "output_type": "stream",
     "text": [
      "a= 10\n",
      "b= (1, 2, 3, 4, 5)\n",
      "c= {'name': 'kim', 'age': 30}\n"
     ]
    }
   ],
   "source": [
    "func6(10,1,2,3,4,5, name='kim',age=30)         #     *튜플 변수   ** 딕셔너리 변수"
   ]
  },
  {
   "cell_type": "markdown",
   "metadata": {},
   "source": [
    "## 3.6 함수 정의 시 매개변수의 순서"
   ]
  },
  {
   "cell_type": "code",
   "execution_count": 79,
   "metadata": {
    "ExecuteTime": {
     "end_time": "2021-02-24T03:57:27.826966Z",
     "start_time": "2021-02-24T03:57:27.822976Z"
    }
   },
   "outputs": [],
   "source": [
    "# 순서인수, 튜플인수, 키워드 인수, 딕셔너리 인수\n",
    "def func(a,b,c,*d, e=10, **f):\n",
    "    print('a=',a)\n",
    "    print('b=',b)\n",
    "    print('c=',c)\n",
    "    print('d=',d)\n",
    "    print('e=',e)\n",
    "    print('f=',f)\n",
    "    "
   ]
  },
  {
   "cell_type": "code",
   "execution_count": 80,
   "metadata": {
    "ExecuteTime": {
     "end_time": "2021-02-24T03:58:10.181522Z",
     "start_time": "2021-02-24T03:58:10.176535Z"
    }
   },
   "outputs": [
    {
     "name": "stdout",
     "output_type": "stream",
     "text": [
      "a= 10\n",
      "b= 20\n",
      "c= 30\n",
      "d= (1, 2, 3, 4, 2, 4)\n",
      "e= 20\n",
      "f= {'name': 'kim', 'age': 30, 'address': '마포'}\n"
     ]
    }
   ],
   "source": [
    "func(10,20,30, 1,2,3,4,2,4, e=20, name='kim',age=30, address='마포')"
   ]
  },
  {
   "cell_type": "markdown",
   "metadata": {},
   "source": [
    "## 3.7 인수의 언패킹"
   ]
  },
  {
   "cell_type": "markdown",
   "metadata": {},
   "source": [
    "**튜플언패킹**"
   ]
  },
  {
   "cell_type": "code",
   "execution_count": 81,
   "metadata": {
    "ExecuteTime": {
     "end_time": "2021-02-24T04:00:09.318441Z",
     "start_time": "2021-02-24T04:00:09.312457Z"
    }
   },
   "outputs": [
    {
     "data": {
      "text/plain": [
       "10"
      ]
     },
     "execution_count": 81,
     "metadata": {},
     "output_type": "execute_result"
    }
   ],
   "source": [
    "def add(*args):\n",
    "    sum = 0\n",
    "    for num in args:\n",
    "        sum += num\n",
    "    return sum\n",
    "add(1,2,3,4)"
   ]
  },
  {
   "cell_type": "code",
   "execution_count": 82,
   "metadata": {
    "ExecuteTime": {
     "end_time": "2021-02-24T04:02:13.960892Z",
     "start_time": "2021-02-24T04:02:13.956923Z"
    }
   },
   "outputs": [
    {
     "data": {
      "text/plain": [
       "10"
      ]
     },
     "execution_count": 82,
     "metadata": {},
     "output_type": "execute_result"
    }
   ],
   "source": [
    "numbers =(1,2,3,4)\n",
    "#add(numbers)\n",
    "add(*numbers)  #튜플되어있는 변수를 *하나붙여서 unpacking해서 넣는다    \n",
    "               #(*안붙이고 numbers만 넣으면 튜플변수 통째로 넣는것이기때문에 실행안됨)"
   ]
  },
  {
   "cell_type": "code",
   "execution_count": 85,
   "metadata": {
    "ExecuteTime": {
     "end_time": "2021-02-24T04:03:56.297349Z",
     "start_time": "2021-02-24T04:03:56.293360Z"
    }
   },
   "outputs": [
    {
     "name": "stdout",
     "output_type": "stream",
     "text": [
      "[0, 1, 2, 3, 4, 5, 6, 7, 8, 9]\n",
      "[5, 6, 7, 8, 9]\n",
      "[5, 7, 9]\n"
     ]
    }
   ],
   "source": [
    "#예제:\n",
    "print(list(range(10)))\n",
    "print(list(range(5,10)))\n",
    "print(list(range(5,10,2)))"
   ]
  },
  {
   "cell_type": "code",
   "execution_count": 87,
   "metadata": {
    "ExecuteTime": {
     "end_time": "2021-02-24T04:06:30.889760Z",
     "start_time": "2021-02-24T04:06:30.880811Z"
    }
   },
   "outputs": [
    {
     "ename": "NameError",
     "evalue": "name 'range2' is not defined",
     "output_type": "error",
     "traceback": [
      "\u001b[1;31m---------------------------------------------------------------------------\u001b[0m",
      "\u001b[1;31mNameError\u001b[0m                                 Traceback (most recent call last)",
      "\u001b[1;32m<ipython-input-87-5a312ebffdda>\u001b[0m in \u001b[0;36m<module>\u001b[1;34m\u001b[0m\n\u001b[0;32m      1\u001b[0m \u001b[1;31m#예제:\u001b[0m\u001b[1;33m\u001b[0m\u001b[1;33m\u001b[0m\u001b[1;33m\u001b[0m\u001b[0m\n\u001b[1;32m----> 2\u001b[1;33m \u001b[0mprint\u001b[0m\u001b[1;33m(\u001b[0m\u001b[0mrange2\u001b[0m\u001b[1;33m(\u001b[0m\u001b[1;36m10\u001b[0m\u001b[1;33m)\u001b[0m\u001b[1;33m)\u001b[0m         \u001b[1;31m#왜 이것은  list안써도 가능한지  sys에 지정된 변수가 아니고, 새로운 변수이기 때문에?????\u001b[0m\u001b[1;33m\u001b[0m\u001b[1;33m\u001b[0m\u001b[0m\n\u001b[0m\u001b[0;32m      3\u001b[0m \u001b[0mprint\u001b[0m\u001b[1;33m(\u001b[0m\u001b[0mrange2\u001b[0m\u001b[1;33m(\u001b[0m\u001b[1;36m5\u001b[0m\u001b[1;33m,\u001b[0m\u001b[1;36m10\u001b[0m\u001b[1;33m)\u001b[0m\u001b[1;33m)\u001b[0m\u001b[1;33m\u001b[0m\u001b[1;33m\u001b[0m\u001b[0m\n\u001b[0;32m      4\u001b[0m \u001b[0mprint\u001b[0m\u001b[1;33m(\u001b[0m\u001b[0mrange2\u001b[0m\u001b[1;33m(\u001b[0m\u001b[1;36m5\u001b[0m\u001b[1;33m,\u001b[0m\u001b[1;36m10\u001b[0m\u001b[1;33m,\u001b[0m\u001b[1;36m2\u001b[0m\u001b[1;33m)\u001b[0m\u001b[1;33m)\u001b[0m\u001b[1;33m\u001b[0m\u001b[1;33m\u001b[0m\u001b[0m\n",
      "\u001b[1;31mNameError\u001b[0m: name 'range2' is not defined"
     ]
    }
   ],
   "source": [
    "#예제:\n",
    "print(range2(10))         #왜 이것은  list안써도 가능한지  sys에 지정된 변수가 아니고, 새로운 변수이기 때문에?????\n",
    "print(range2(5,10))\n",
    "print(range2(5,10,2))  ####################왜 name 'range2' is not defined ??????????????????????????"
   ]
  },
  {
   "cell_type": "code",
   "execution_count": 94,
   "metadata": {
    "ExecuteTime": {
     "end_time": "2021-02-24T05:38:08.581566Z",
     "start_time": "2021-02-24T05:38:08.574585Z"
    }
   },
   "outputs": [
    {
     "name": "stdout",
     "output_type": "stream",
     "text": [
      "[0, 1, 2, 3, 4, 5, 6, 7, 8, 9]\n",
      "[5, 6, 7, 8, 9]\n",
      "[5, 7, 9]\n",
      "떼끼\n",
      "None\n"
     ]
    }
   ],
   "source": [
    "def range2(*args):\n",
    "    length = len(args)\n",
    "    result = []\n",
    "    if length ==0:\n",
    "        raise Exception('매개변수가 없으면 안 돼')\n",
    "    elif length == 1:      #0부터10앞까지 리스트를 만들어 \n",
    "        for i in range(args[0]):  #range(10) 따라서 0부터 9번째방까지 돈다 \n",
    "            result.append(i)      #result를 return \n",
    "    elif length == 2:\n",
    "        for i in range(args[0],args[1]):\n",
    "            result.append(i)\n",
    "    elif length ==3:\n",
    "        for i in range(args[0],args[1],args[2]):\n",
    "            result.append(i)\n",
    "    else:\n",
    "        print(\"떼끼\")\n",
    "        return\n",
    "    return result\n",
    "print(range2(10))      #length1로 빠짐\n",
    "print(range2(5,10))\n",
    "print(range2(5,10,2))\n",
    "print(range2(1,2,3,4))                             ################복습!!!!!####################\n"
   ]
  },
  {
   "cell_type": "code",
   "execution_count": 96,
   "metadata": {
    "ExecuteTime": {
     "end_time": "2021-02-24T05:39:31.364063Z",
     "start_time": "2021-02-24T05:39:31.359077Z"
    }
   },
   "outputs": [
    {
     "data": {
      "text/plain": [
       "[5, 7, 9]"
      ]
     },
     "execution_count": 96,
     "metadata": {},
     "output_type": "execute_result"
    }
   ],
   "source": [
    "t = (5,10,2)\n",
    "range2(*t)  # *추가해서 unpacking                    ###############??????????????????????????????????"
   ]
  },
  {
   "cell_type": "markdown",
   "metadata": {},
   "source": [
    "**딕셔너리 인수 언패킹**"
   ]
  },
  {
   "cell_type": "code",
   "execution_count": 97,
   "metadata": {
    "ExecuteTime": {
     "end_time": "2021-02-24T05:41:30.232489Z",
     "start_time": "2021-02-24T05:41:30.227503Z"
    }
   },
   "outputs": [
    {
     "name": "stdout",
     "output_type": "stream",
     "text": [
      "('name', '홍길동')\n",
      "('age', 30)\n",
      "('address', '마포')\n"
     ]
    }
   ],
   "source": [
    "def func5(**data):\n",
    "    for item in data.items():\n",
    "        print(item)\n",
    "func5(name='홍길동',age=30, address='마포')       #dictionary로 받겠다   # 이 부분을 위에다 먼저 써도되는지?????????\n"
   ]
  },
  {
   "cell_type": "code",
   "execution_count": 100,
   "metadata": {
    "ExecuteTime": {
     "end_time": "2021-02-24T05:44:15.672910Z",
     "start_time": "2021-02-24T05:44:15.668921Z"
    }
   },
   "outputs": [
    {
     "name": "stdout",
     "output_type": "stream",
     "text": [
      "('name', '홍길동')\n",
      "('age', 30)\n",
      "('address', '마포')\n"
     ]
    }
   ],
   "source": [
    "customerInfo= {'name':'홍길동','age':30, 'address':'마포'}  #dictionary 데이터가packing되었기때문에. \n",
    "#func5(customerInfo)\n",
    "func5(**customerInfo)                                     #딕션너리 인수 언패킹!! "
   ]
  },
  {
   "cell_type": "markdown",
   "metadata": {},
   "source": [
    "# 4절. 람다식\n",
    "- 람다식은 작은 익명함수를 의미함 \n",
    "- 실행할 문장이 한문장만 작성할 수 있음 \n",
    "- return 구문이 없어도 statement결과를 반환함 \n",
    "- 리스트컴프리핸션(list comprehension) 같이 참조해서 학습 추천\n",
    "- filter(), map()함수 같이 참조해서 학습 추천 "
   ]
  },
  {
   "cell_type": "code",
   "execution_count": 101,
   "metadata": {
    "ExecuteTime": {
     "end_time": "2021-02-24T05:48:16.335505Z",
     "start_time": "2021-02-24T05:48:16.330521Z"
    }
   },
   "outputs": [
    {
     "data": {
      "text/plain": [
       "[1, 8, 27]"
      ]
     },
     "execution_count": 101,
     "metadata": {},
     "output_type": "execute_result"
    }
   ],
   "source": [
    "l = [1,2,3]\n",
    "[x**3 for x in l]  #3제곱 "
   ]
  },
  {
   "cell_type": "markdown",
   "metadata": {},
   "source": [
    "## 4.1 람다식; 한 줄짜리 작은 익명함수를 의미 "
   ]
  },
  {
   "cell_type": "code",
   "execution_count": 102,
   "metadata": {
    "ExecuteTime": {
     "end_time": "2021-02-24T05:50:27.197777Z",
     "start_time": "2021-02-24T05:50:27.193786Z"
    }
   },
   "outputs": [
    {
     "data": {
      "text/plain": [
       "11"
      ]
     },
     "execution_count": 102,
     "metadata": {},
     "output_type": "execute_result"
    }
   ],
   "source": [
    "def add(a,b):\n",
    "    return a+b\n",
    "add(5,6)\n"
   ]
  },
  {
   "cell_type": "code",
   "execution_count": 103,
   "metadata": {
    "ExecuteTime": {
     "end_time": "2021-02-24T05:50:48.904298Z",
     "start_time": "2021-02-24T05:50:48.899311Z"
    }
   },
   "outputs": [
    {
     "data": {
      "text/plain": [
       "<function __main__.add(a, b)>"
      ]
     },
     "execution_count": 103,
     "metadata": {},
     "output_type": "execute_result"
    }
   ],
   "source": [
    "add"
   ]
  },
  {
   "cell_type": "code",
   "execution_count": 104,
   "metadata": {
    "ExecuteTime": {
     "end_time": "2021-02-24T05:50:55.778843Z",
     "start_time": "2021-02-24T05:50:55.773854Z"
    }
   },
   "outputs": [
    {
     "data": {
      "text/plain": [
       "function"
      ]
     },
     "execution_count": 104,
     "metadata": {},
     "output_type": "execute_result"
    }
   ],
   "source": [
    "type(add)"
   ]
  },
  {
   "cell_type": "code",
   "execution_count": 105,
   "metadata": {
    "ExecuteTime": {
     "end_time": "2021-02-24T05:54:00.735343Z",
     "start_time": "2021-02-24T05:54:00.731353Z"
    }
   },
   "outputs": [],
   "source": [
    "add2 = lambda a,b : a+b"
   ]
  },
  {
   "cell_type": "code",
   "execution_count": 107,
   "metadata": {
    "ExecuteTime": {
     "end_time": "2021-02-24T05:54:12.151430Z",
     "start_time": "2021-02-24T05:54:12.146442Z"
    }
   },
   "outputs": [
    {
     "data": {
      "text/plain": [
       "30"
      ]
     },
     "execution_count": 107,
     "metadata": {},
     "output_type": "execute_result"
    }
   ],
   "source": [
    "add2(10,20)"
   ]
  },
  {
   "cell_type": "code",
   "execution_count": 108,
   "metadata": {
    "ExecuteTime": {
     "end_time": "2021-02-24T05:54:47.010231Z",
     "start_time": "2021-02-24T05:54:47.005245Z"
    }
   },
   "outputs": [
    {
     "data": {
      "text/plain": [
       "70"
      ]
     },
     "execution_count": 108,
     "metadata": {},
     "output_type": "execute_result"
    }
   ],
   "source": [
    "(lambda a,b : a+b)(30,40)"
   ]
  },
  {
   "cell_type": "markdown",
   "metadata": {},
   "source": [
    "## 4.2 함수의 인수에 람다식 사용 "
   ]
  },
  {
   "cell_type": "code",
   "execution_count": 109,
   "metadata": {
    "ExecuteTime": {
     "end_time": "2021-02-24T06:00:57.617236Z",
     "start_time": "2021-02-24T06:00:57.612255Z"
    }
   },
   "outputs": [],
   "source": [
    "def map_template(func,L=[]):\n",
    "    result = []\n",
    "    for item in L:\n",
    "        result.append(func(item))       #0방 가져와서 1를 2배로 띄어  1,4,6을 result에 넣어\n",
    "    return result"
   ]
  },
  {
   "cell_type": "code",
   "execution_count": 112,
   "metadata": {
    "ExecuteTime": {
     "end_time": "2021-02-24T06:04:57.141899Z",
     "start_time": "2021-02-24T06:04:57.136912Z"
    }
   },
   "outputs": [
    {
     "data": {
      "text/plain": [
       "[2, 4, 6, 8, 10]"
      ]
     },
     "execution_count": 112,
     "metadata": {},
     "output_type": "execute_result"
    }
   ],
   "source": [
    "list_data =[1,2,3,4,5]\n",
    "def x_2(x):\n",
    "    return x*2 \n",
    "map_template(x_2, list_data)       #function(함수있데 변수처럼 쓸 수 있다), list_data\n",
    "                            #??????????????????????????????"
   ]
  },
  {
   "cell_type": "code",
   "execution_count": 113,
   "metadata": {
    "ExecuteTime": {
     "end_time": "2021-02-24T06:04:59.579246Z",
     "start_time": "2021-02-24T06:04:59.574236Z"
    }
   },
   "outputs": [
    {
     "data": {
      "text/plain": [
       "[2, 4, 6, 8, 10]"
      ]
     },
     "execution_count": 113,
     "metadata": {},
     "output_type": "execute_result"
    }
   ],
   "source": [
    "map_template(lambda x : x*2, list_data)"
   ]
  },
  {
   "cell_type": "code",
   "execution_count": null,
   "metadata": {},
   "outputs": [],
   "source": [
    "print(list_data)\n",
    "map_template(lamda x:x*2, list_data)"
   ]
  },
  {
   "cell_type": "code",
   "execution_count": 114,
   "metadata": {
    "ExecuteTime": {
     "end_time": "2021-02-24T06:07:17.578784Z",
     "start_time": "2021-02-24T06:07:17.573797Z"
    }
   },
   "outputs": [
    {
     "data": {
      "text/plain": [
       "[2, 4, 6, 8, 10]"
      ]
     },
     "execution_count": 114,
     "metadata": {},
     "output_type": "execute_result"
    }
   ],
   "source": [
    "#map()함수이용\n",
    "list(map(lambda x:x*2, list_data))"
   ]
  },
  {
   "cell_type": "code",
   "execution_count": 119,
   "metadata": {
    "ExecuteTime": {
     "end_time": "2021-02-24T06:08:28.367962Z",
     "start_time": "2021-02-24T06:08:28.363992Z"
    }
   },
   "outputs": [
    {
     "data": {
      "text/plain": [
       "[2, 4, 6, 8, 10]"
      ]
     },
     "execution_count": 119,
     "metadata": {},
     "output_type": "execute_result"
    }
   ],
   "source": [
    "#리스트 컴피르핸션\n",
    "[x*2 for x in list_data]"
   ]
  },
  {
   "cell_type": "code",
   "execution_count": 125,
   "metadata": {
    "ExecuteTime": {
     "end_time": "2021-02-24T06:35:56.839435Z",
     "start_time": "2021-02-24T06:35:56.835434Z"
    }
   },
   "outputs": [],
   "source": [
    "list_data = [1,2,3,4,5]\n",
    "def filter_template(func, L=[]):\n",
    "    result = []\n",
    "    for item in L:\n",
    "        if func(item):\n",
    "            result.append(item)\n",
    "    return result"
   ]
  },
  {
   "cell_type": "code",
   "execution_count": 126,
   "metadata": {
    "ExecuteTime": {
     "end_time": "2021-02-24T06:36:04.016694Z",
     "start_time": "2021-02-24T06:36:04.011707Z"
    }
   },
   "outputs": [
    {
     "data": {
      "text/plain": [
       "[2, 4]"
      ]
     },
     "execution_count": 126,
     "metadata": {},
     "output_type": "execute_result"
    }
   ],
   "source": [
    "def evenyesorno(x):\n",
    "    if x%2==0:\n",
    "        return True\n",
    "filter_template(evenyesorno, list_data)"
   ]
  },
  {
   "cell_type": "code",
   "execution_count": 127,
   "metadata": {
    "ExecuteTime": {
     "end_time": "2021-02-24T06:36:16.025637Z",
     "start_time": "2021-02-24T06:36:16.020652Z"
    }
   },
   "outputs": [
    {
     "data": {
      "text/plain": [
       "[2, 4]"
      ]
     },
     "execution_count": 127,
     "metadata": {},
     "output_type": "execute_result"
    }
   ],
   "source": [
    "filter_template(lambda x : x%2==0, list_data)"
   ]
  },
  {
   "cell_type": "code",
   "execution_count": 128,
   "metadata": {
    "ExecuteTime": {
     "end_time": "2021-02-24T06:36:24.048341Z",
     "start_time": "2021-02-24T06:36:24.043353Z"
    }
   },
   "outputs": [
    {
     "data": {
      "text/plain": [
       "[2, 4]"
      ]
     },
     "execution_count": 128,
     "metadata": {},
     "output_type": "execute_result"
    }
   ],
   "source": [
    "# filter()함수 \n",
    "list(filter(lambda x : x%2==0, list_data))"
   ]
  },
  {
   "cell_type": "code",
   "execution_count": 129,
   "metadata": {
    "ExecuteTime": {
     "end_time": "2021-02-24T06:36:30.821471Z",
     "start_time": "2021-02-24T06:36:30.816511Z"
    }
   },
   "outputs": [
    {
     "data": {
      "text/plain": [
       "[2, 4]"
      ]
     },
     "execution_count": 129,
     "metadata": {},
     "output_type": "execute_result"
    }
   ],
   "source": [
    "# 리스트 컴프리헨션\n",
    "[x for x in list_data if x%2==0]"
   ]
  },
  {
   "cell_type": "code",
   "execution_count": null,
   "metadata": {},
   "outputs": [],
   "source": [
    "print(f)"
   ]
  },
  {
   "cell_type": "code",
   "execution_count": null,
   "metadata": {},
   "outputs": [],
   "source": [
    "if everysecorno(1):\n",
    "    pfi"
   ]
  },
  {
   "cell_type": "code",
   "execution_count": null,
   "metadata": {},
   "outputs": [],
   "source": [
    "filter_temploeta(oj)"
   ]
  },
  {
   "cell_type": "code",
   "execution_count": null,
   "metadata": {},
   "outputs": [],
   "source": [
    "#filter()함수\n",
    "liste(.labmAd=x)"
   ]
  },
  {
   "cell_type": "code",
   "execution_count": 131,
   "metadata": {
    "ExecuteTime": {
     "end_time": "2021-02-24T06:37:07.787660Z",
     "start_time": "2021-02-24T06:37:07.782674Z"
    }
   },
   "outputs": [
    {
     "data": {
      "text/plain": [
       "[2, 4]"
      ]
     },
     "execution_count": 131,
     "metadata": {},
     "output_type": "execute_result"
    }
   ],
   "source": [
    "#리스트 컴프래핸션\n",
    "[x for x in list_data if x%2==0]"
   ]
  },
  {
   "cell_type": "markdown",
   "metadata": {},
   "source": [
    "**람다식은 '함수가 실행할 문장'이 '한 문자일 경우'만 사용** <br>\n",
    "**람다식이 가장 많이 사용되는 곳은 (1)함수의 '인수로 전달'할때나 (2)'return'할때**"
   ]
  },
  {
   "cell_type": "code",
   "execution_count": 133,
   "metadata": {
    "ExecuteTime": {
     "end_time": "2021-02-24T06:43:39.620513Z",
     "start_time": "2021-02-24T06:43:39.614529Z"
    }
   },
   "outputs": [
    {
     "data": {
      "text/plain": [
       "[(1, 'one'), (2, 'two'), (3, 'three'), (4, 'four')]"
      ]
     },
     "execution_count": 133,
     "metadata": {},
     "output_type": "execute_result"
    }
   ],
   "source": [
    "pairs=[(1,'one'),(3,'three'),(2,'two'),(4,'four')]\n",
    "pairs.sort()\n",
    "pairs"
   ]
  },
  {
   "cell_type": "code",
   "execution_count": 135,
   "metadata": {
    "ExecuteTime": {
     "end_time": "2021-02-24T06:46:41.866429Z",
     "start_time": "2021-02-24T06:46:41.861443Z"
    }
   },
   "outputs": [
    {
     "data": {
      "text/plain": [
       "[(4, 'four'), (1, 'one'), (3, 'three'), (2, 'two')]"
      ]
     },
     "execution_count": 135,
     "metadata": {},
     "output_type": "execute_result"
    }
   ],
   "source": [
    "pairs.sort(key=lambda pair: pair[1])   #pairs.sort(*, key=None, reverse=False) 오름차순 \n",
    "                                       #Sort the list in ascending order and return None.\n",
    "pairs"
   ]
  },
  {
   "cell_type": "code",
   "execution_count": 134,
   "metadata": {
    "ExecuteTime": {
     "end_time": "2021-02-24T06:46:14.281216Z",
     "start_time": "2021-02-24T06:46:14.276249Z"
    }
   },
   "outputs": [
    {
     "data": {
      "text/plain": [
       "20"
      ]
     },
     "execution_count": 134,
     "metadata": {},
     "output_type": "execute_result"
    }
   ],
   "source": [
    "(lambda pair: pair[1])([10,20,30])    #그중 1번째방 아이만 가져와"
   ]
  },
  {
   "cell_type": "code",
   "execution_count": 136,
   "metadata": {
    "ExecuteTime": {
     "end_time": "2021-02-24T06:48:44.227310Z",
     "start_time": "2021-02-24T06:48:44.221325Z"
    }
   },
   "outputs": [
    {
     "data": {
      "text/plain": [
       "1000000"
      ]
     },
     "execution_count": 136,
     "metadata": {},
     "output_type": "execute_result"
    }
   ],
   "source": [
    "def apply(data,func =None):\n",
    "    if func == None:\n",
    "        return data\n",
    "    else:\n",
    "        return func(data)\n",
    "apply(100,lambda x:x**3)"
   ]
  },
  {
   "cell_type": "markdown",
   "metadata": {},
   "source": [
    "## 4.3 return문에 람다식 이용 "
   ]
  },
  {
   "cell_type": "code",
   "execution_count": null,
   "metadata": {},
   "outputs": [],
   "source": [
    "#함수를 return하는 함수\n",
    "def make_box(shape):\n",
    "    def box(init_value):\n",
    "        if len(shape)==1:                    #1차원******\n",
    "            return [init_value]*shape[0]    # [10,10,10,10,10]   #shape1방 행\n",
    "    return box\n",
    "# return: to send the function's result back to the caller.        #########복습########################????????"
   ]
  },
  {
   "cell_type": "code",
   "execution_count": null,
   "metadata": {},
   "outputs": [],
   "source": [
    "\"\"\"\n",
    "make_box((5,)) => 1차원 5개짜리 list를 만드는 함수 fun => fun(10) => [10,10,10,10,10]\n",
    "make_box((2,3)) +> 2차원 2행 3열 list를 만드는 함수 fun => fun(10) =>\n",
    "                                                    [[10,10,10],[10,10,10]]\n",
    "\n",
    "\"\"\"\n",
    "\n",
    "#length가 1   1차원    len가2    2차원 "
   ]
  },
  {
   "cell_type": "code",
   "execution_count": 137,
   "metadata": {
    "ExecuteTime": {
     "end_time": "2021-02-24T06:59:02.199069Z",
     "start_time": "2021-02-24T06:59:02.194081Z"
    }
   },
   "outputs": [],
   "source": [
    "def make_box(shape):\n",
    "    def box(init_value):\n",
    "        if len(shape)==1:                    #1차원******\n",
    "            return [init_value]*shape[0]    # [10,10,10,10,10]\n",
    "        elif len(shape)==2:\n",
    "            return[ [init_value]*shape[1] ] *shape[0]\n",
    "    return box                                                         #########복습########################????????"
   ]
  },
  {
   "cell_type": "code",
   "execution_count": 138,
   "metadata": {
    "ExecuteTime": {
     "end_time": "2021-02-24T06:59:57.058779Z",
     "start_time": "2021-02-24T06:59:57.055808Z"
    }
   },
   "outputs": [],
   "source": [
    "box1 = make_box([5,])   #1차원으로 만들어라 "
   ]
  },
  {
   "cell_type": "code",
   "execution_count": 139,
   "metadata": {
    "ExecuteTime": {
     "end_time": "2021-02-24T07:00:10.626169Z",
     "start_time": "2021-02-24T07:00:10.622201Z"
    }
   },
   "outputs": [
    {
     "data": {
      "text/plain": [
       "function"
      ]
     },
     "execution_count": 139,
     "metadata": {},
     "output_type": "execute_result"
    }
   ],
   "source": [
    "type(box1)"
   ]
  },
  {
   "cell_type": "code",
   "execution_count": 140,
   "metadata": {
    "ExecuteTime": {
     "end_time": "2021-02-24T07:00:57.778657Z",
     "start_time": "2021-02-24T07:00:57.773696Z"
    }
   },
   "outputs": [
    {
     "data": {
      "text/plain": [
       "[10, 10, 10, 10, 10]"
      ]
     },
     "execution_count": 140,
     "metadata": {},
     "output_type": "execute_result"
    }
   ],
   "source": [
    "box1(10)         #(위:1차원으로 만들어라 )  여기서 value를 10을 넣어라 "
   ]
  },
  {
   "cell_type": "code",
   "execution_count": 141,
   "metadata": {
    "ExecuteTime": {
     "end_time": "2021-02-24T07:01:40.580174Z",
     "start_time": "2021-02-24T07:01:40.576166Z"
    }
   },
   "outputs": [
    {
     "data": {
      "text/plain": [
       "[[10, 10, 10], [10, 10, 10]]"
      ]
     },
     "execution_count": 141,
     "metadata": {},
     "output_type": "execute_result"
    }
   ],
   "source": [
    "box2= make_box([2,3])                    #############?????????????????????????????????????\n",
    "box2(10)"
   ]
  },
  {
   "cell_type": "code",
   "execution_count": 143,
   "metadata": {
    "ExecuteTime": {
     "end_time": "2021-02-24T07:05:08.318028Z",
     "start_time": "2021-02-24T07:05:08.314059Z"
    }
   },
   "outputs": [],
   "source": [
    "def make_box1(shape):\n",
    "    if len(shape)==1:\n",
    "        return lambda x : [x]*shape[0]                #1차원 배열 return         initvalue받아서 shape0방 만큼  list를 만든 익명함수가됨\n",
    "    elif len(shape)==2 :\n",
    "        return lambda x : [[x]*shape[1]] *shape[0]\n",
    "\n",
    "    "
   ]
  },
  {
   "cell_type": "code",
   "execution_count": 144,
   "metadata": {
    "ExecuteTime": {
     "end_time": "2021-02-24T07:05:36.110005Z",
     "start_time": "2021-02-24T07:05:36.104998Z"
    }
   },
   "outputs": [
    {
     "data": {
      "text/plain": [
       "[[5, 5], [5, 5], [5, 5]]"
      ]
     },
     "execution_count": 144,
     "metadata": {},
     "output_type": "execute_result"
    }
   ],
   "source": [
    "box1 = make_box1((3,2))\n",
    "box1(5)"
   ]
  },
  {
   "cell_type": "code",
   "execution_count": 145,
   "metadata": {
    "ExecuteTime": {
     "end_time": "2021-02-24T07:05:54.594829Z",
     "start_time": "2021-02-24T07:05:54.589843Z"
    }
   },
   "outputs": [
    {
     "data": {
      "text/plain": [
       "[10, 10, 10, 10, 10, 10, 10]"
      ]
     },
     "execution_count": 145,
     "metadata": {},
     "output_type": "execute_result"
    }
   ],
   "source": [
    "box2 = make_box1((7,) )          #7개 \n",
    "box2(10)"
   ]
  },
  {
   "cell_type": "markdown",
   "metadata": {},
   "source": [
    "# 5절. 파이썬 내장함수\n",
    "- import 하지 않고 바로 사용 가능한 함수. \n",
    "- 키워드처럼 간주되므로 식별자로 사용하는 것을 피함 "
   ]
  },
  {
   "cell_type": "code",
   "execution_count": 146,
   "metadata": {
    "ExecuteTime": {
     "end_time": "2021-02-24T07:12:31.345118Z",
     "start_time": "2021-02-24T07:12:31.340131Z"
    }
   },
   "outputs": [
    {
     "data": {
      "text/plain": [
       "1"
      ]
     },
     "execution_count": 146,
     "metadata": {},
     "output_type": "execute_result"
    }
   ],
   "source": [
    "int(\"1\")"
   ]
  },
  {
   "cell_type": "code",
   "execution_count": 147,
   "metadata": {
    "ExecuteTime": {
     "end_time": "2021-02-24T07:12:53.697910Z",
     "start_time": "2021-02-24T07:12:53.689910Z"
    }
   },
   "outputs": [
    {
     "ename": "ValueError",
     "evalue": "invalid literal for int() with base 10: '1.2'",
     "output_type": "error",
     "traceback": [
      "\u001b[1;31m---------------------------------------------------------------------------\u001b[0m",
      "\u001b[1;31mValueError\u001b[0m                                Traceback (most recent call last)",
      "\u001b[1;32m<ipython-input-147-8a24604d2f3f>\u001b[0m in \u001b[0;36m<module>\u001b[1;34m\u001b[0m\n\u001b[1;32m----> 1\u001b[1;33m \u001b[0mint\u001b[0m\u001b[1;33m(\u001b[0m\u001b[1;34m\"1.2\"\u001b[0m\u001b[1;33m)\u001b[0m\u001b[1;33m\u001b[0m\u001b[1;33m\u001b[0m\u001b[0m\n\u001b[0m",
      "\u001b[1;31mValueError\u001b[0m: invalid literal for int() with base 10: '1.2'"
     ]
    }
   ],
   "source": [
    "int(\"1.2\")  #실수로 바꾸는 것이지, int정수로 바꾸는것이 아님 "
   ]
  },
  {
   "cell_type": "code",
   "execution_count": 148,
   "metadata": {
    "ExecuteTime": {
     "end_time": "2021-02-24T07:13:25.632372Z",
     "start_time": "2021-02-24T07:13:25.628383Z"
    }
   },
   "outputs": [
    {
     "data": {
      "text/plain": [
       "1"
      ]
     },
     "execution_count": 148,
     "metadata": {},
     "output_type": "execute_result"
    }
   ],
   "source": [
    "int(float(\"1.2\"))"
   ]
  },
  {
   "cell_type": "code",
   "execution_count": 150,
   "metadata": {
    "ExecuteTime": {
     "end_time": "2021-02-24T07:15:43.092952Z",
     "start_time": "2021-02-24T07:15:43.067023Z"
    }
   },
   "outputs": [
    {
     "data": {
      "text/plain": [
       "{'__name__': '__main__',\n",
       " '__doc__': 'Automatically created module for IPython interactive environment',\n",
       " '__package__': None,\n",
       " '__loader__': None,\n",
       " '__spec__': None,\n",
       " '__builtin__': <module 'builtins' (built-in)>,\n",
       " '__builtins__': <module 'builtins' (built-in)>,\n",
       " '_ih': ['',\n",
       "  'def make_url(ip, port=80):#기본값을 받는 기본함수 (앞 )기본값을 안 받는 매개변수 (뒤\\n    return \"http://{}:{}.format(ip,port)\"\\n\\nmake_url(\"localhost\",80)',\n",
       "  'def make_url(ip, port=80):#기본값을 받는 기본함수 (앞 )기본값을 안 받는 매개변수 (뒤\\n    return \\'http://{}:{}\\'.format(ip,port)\\n\\nmake_url(\"localhost\",80)',\n",
       "  'make_url(\"localhost\")       #기본값을 갖는 매개변수 ',\n",
       "  '# 기본변수가 list, set, dictionary 또는 객체일때 함수를 호출 후 다시 전달\\nlist_ = []\\ndef func3(a,L=list_):   #기본값이 변수로 \\n    L.append(a)\\n    return L\\nprint(func3(1)) # 원래 빈 리스트, 2번째값 자동적으로 기본값. list_=[] 빈스트링. 3을 return해서 1만나옴',\n",
       "  '# 기본변수가 list, set, dictionary 또는 객체일때 함수를 호출 후 다시 전달\\nlist_ = []\\ndef func3(a,L=list_):   #기본값이 변수로 \\n    L.append(a)\\n    return L\\nprint(func3(1)) # 원래 빈 리스트, 2번째값 자동적으로 기본값. list_=[] 빈스트링. 3을 return해서 1 만 나옴\\nprint(list_)\\n#####################???????????##########',\n",
       "  'print(func3(2))',\n",
       "  'print(func3(2))\\nprint(list_)',\n",
       "  'print(func3(2))\\nprint(list_)',\n",
       "  \"i = 5    #arg값 계속5??????????????????한번 정의하면 변하지 않는건지????????????\\n    #'기본함수가 스칼라변수'일 때:arg의 기본 값은 함수가 정의되는 지점에 한번만 평가된. \\ndef func2(arg=i):    #arg의 기본값은 함구가 정의되는 지점에 한단번 평기  변수는 기본 값으로 세팅                    \\n    print('arg= ',arg)\",\n",
       "  'i = 6\\nfunc2()',\n",
       "  'pint(fun2)',\n",
       "  'pint(func2)',\n",
       "  'print(func2)',\n",
       "  'def func(a, L=[]): #안들어왔을경우 빈string\\n    L.append(a)\\n    return L\\nprint(func(1))   #a에1  L=[]에 빈string이 들어감 ***',\n",
       "  'print(func(2))',\n",
       "  'def func(a,b):\\n    print(a,b)\\nfunc(10,20)',\n",
       "  'def func(a,b,c=10): #c가 키워드 인수. 기본값을 갖는인수\\n    print(a,b)\\nfunc(10,20) ####순서로 넣어야 ',\n",
       "  'def func4(a,L=None):\\n    if L is None:\\n        L = []\\n    L.append(a)\\n    return L\\nfunc4(10)',\n",
       "  'fun4(30) #2번쨰 안쓰면 항상 빈스트링이 추가됨',\n",
       "  'func4(30) #2번쨰 안쓰면 항상 빈스트링이 추가됨',\n",
       "  'func4(30) #2번쨰 안쓰면 항상 빈스트링이 추가됨',\n",
       "  'func4(30) #2번쨰 안쓰면 항상 빈스트링이 추가됨',\n",
       "  'list_= []\\nfunc4(10,list_)',\n",
       "  'func4(2,list_)',\n",
       "  'func4(a=2,L=list_)',\n",
       "  'func4(a=2,L=list_)',\n",
       "  'print(\"Hello\", end=\\'\\\\t\\')',\n",
       "  'func4(L=list_,a=2)',\n",
       "  'func4(a=30) #a값만 넣으면, L값은 none으로 들어옴',\n",
       "  'func4(50,a=30,L=[]) #자동적으로a값 세팅',\n",
       "  'func4(L=[], a=30)',\n",
       "  'func4([], a=30)',\n",
       "  'func4([])',\n",
       "  'func4(L=list_,a=70)',\n",
       "  'def add(a,b):\\n    return a+b\\nprint(add(1,2))',\n",
       "  'def add(a,b.c):\\n    return a+b+c\\nprint(add(1,2,3))',\n",
       "  'def add(a,b,c):\\n    return a+b+c\\nprint(add(1,2,3))',\n",
       "  'def add(a,b,c):\\n    return a+b+c\\nprint(add(1,2,3))',\n",
       "  'print(add(10,20))\\n#파이썬은 함수의 중복(overloading)을 지원하지 않는다 ',\n",
       "  '# args 앞에 * : args가 튜플 전달  **************************************\\ndef add(*args):   # args=(1,2,3,4,5)\\nadd(1,2,3,4,5)',\n",
       "  '# args 앞에 * : args가 튜플 전달  **************************************\\ndef add(*args):   # args=(1,2,3,4,5)\\n    sum = 0\\n    for num in args:\\n        sum += num \\n    return sum\\nadd(1,2,3,4,5)',\n",
       "  '# args 앞에 * : args가 튜플 전달  **************************************\\ndef add(*args):   # args=(1,2,3,4,5)          #args=(1,)        #근데 결과는 같지 않는지????  args=(1)랑 결과 같은지?        \\n    sum = 0\\n    for num in args:\\n        sum += num \\n    return sum\\nadd(1,2,3,4,5)\\nprint(add(1))',\n",
       "  '# args 앞에 * : args가 튜플 전달  **************************************\\ndef add(*args):   # args=(1,2,3,4,5)          #args=(1,)        #근데 결과는 같지 않는지????  args=(1)랑 결과 같은지?        \\n    sum = 0\\n    for num in args:\\n        sum += num \\n    return sum\\nprint(add(1,2,3,4,5))\\nprint(add(1))',\n",
       "  'def concat (*args, sep):\\n    return sep.join(args)',\n",
       "  \"city= ('서울','부산','인천')\\n'-'.join(city)\",\n",
       "  \"city= ('서울','부산','인천')\\n'-'.join(city)\",\n",
       "  'def concat (*args, sep):   #0방부터 끝방까지 sep를 return 해라 \\n    return sep.join(args)       #함수선언 ',\n",
       "  \"concat('hello','world','/')\",\n",
       "  \"concat('hello','world',sep='/')\",\n",
       "  \"#해결책1\\nconcat('hello','world',sep='/')\",\n",
       "  \"#해결책2  \\n#'순서인수'와 '튜플인수'가 있으면. '튜플인수'를 뒤에다 빼야 *********\\ndef concat(sep,*args):\\n    return sep.join(args)\",\n",
       "  \"concat('/','earth','mars','venus')\",\n",
       "  \"concat('earth','mars','venus')        #sep이 'earth'로 들어감\",\n",
       "  '#해결책3 \\ndef concat (*args)',\n",
       "  \"#해결책3 \\ndef concat (*args, sep='/')   # 순서인수가 뒤에 오면안됨. 튜플인수가 뒤에 온다.  따라서 sep를 keyword인수(기본값을 갖는인수)로 바꿈\\n                              # 순서인수 > 튜플인수 > 키워드인수 \\n    return sep.join(args)\",\n",
       "  \"#해결책3 \\ndef concat (*args, sep='/'):   # 순서인수가 뒤에 오면안됨. 튜플인수가 뒤에 온다.  따라서 sep를 keyword인수(기본값을 갖는인수)로 바꿈\\n                              # 순서인수 > 튜플인수 > 키워드인수 \\n    return sep.join(args)\",\n",
       "  \"concat('earth','mars','venus')\",\n",
       "  \"concat('Python','R','hadoop', sep='~')\",\n",
       "  'g_var = 100 \\ndef func3():\\n    global g_var        #g_var변수는 전역변수를 쓸거야    #예약어\\n    print(\\'before\\',g_var)\\n    g_var = 200          #전역변수  ㅎg_var에 다시 값 할당 \\n    print(\\'after\\',g_var)\\n\\nprint(\"fun3()실행 전\",g_var)   #밖에 있는 g_var = 100 가져옴 (즉 맨 처음에 선언한것) \\nfunc3()\\nprint(g_var) ########################????????????????????????????',\n",
       "  'def fibonacci(n):\\n    \"\"\"\\n    매개변수로 들어온 n값 미만까지 피보나치 수열을 출력합니다. \\n    \"\"\"\\n    a,b =0,1\\n    while a < n:\\n        print(a, end=\\' \\')\\n        a,b = b,a+b      #b값이a에 a에 들어오고, a+b가 b에 들어간다\\n    print()\\n    \\ndef fibonacci(n):\\n    \"n값 미만의 피보나치 수열을 return\" #*********실행하면 위에 있는 함수가 사라지고, 밑에 있는 함수가 실행*******\\n    result = []                                   #***python은 중복정의 안됨******\\n    a, b = 0, 1\\n    while a < n :\\n        result.append(a)         #print대신 result에 a를 append \\n        a, b = b, a+b\\n    return result    ',\n",
       "  'x = fibonacci_print(100)',\n",
       "  'x = fibonacci_print(100)',\n",
       "  'def fibonacci_print(n):\\n    \"\"\"\\n    매개변수로 들어온 n값 미만까지 피보나치 수열을 출력합니다. \\n    \"\"\"\\n    a,b =0,1\\n    while a < n:\\n        print(a, end=\\' \\')\\n        a,b = b,a+b      #b값이a에 a에 들어오고, a+b가 b에 들어간다\\n    print()\\n    \\ndef fibonacci(n):\\n    \"n값 미만의 피보나치 수열을 return\" #*********실행하면 위에 있는 함수가 사라지고, 밑에 있는 함수가 실행*******\\n    result = []                                   #***python은 중복정의 안됨******\\n    a, b = 0, 1\\n    while a < n :\\n        result.append(a)         #print대신 result에 a를 append \\n        a, b = b, a+b\\n    return result    ',\n",
       "  'x = fibonacci_print(100)',\n",
       "  'print(x,type(x))',\n",
       "  'x = fibonacci_print(100)',\n",
       "  'print(x,type(x))      ',\n",
       "  'L = fibonacci(100)  #return값이 L에 들어감 ',\n",
       "  'print(L,type(L))',\n",
       "  'print(func2)',\n",
       "  'def func5(**args): #**args가 딕셔너리로 전달(**)\\n    for item in args.items():\\n        print(item)',\n",
       "  \"def func5(**args): #**args가 딕셔너리로 전달(**)\\n                    # args = {name='홍길동',age=30, address='서울시'}\\n    for item in args.items():\\n        print(item)\\nfunc5(name='홍길동',age=30, address='서울시')\",\n",
       "  \"def func5(**args): #**args가 딕셔너리로 전달(**)\\n                    # args = {name='홍길동',age=30, address='서울시'}\\n    for key,value in args.items():\\n        print(key,value)\\nfunc5(name='홍길동',age=30, address='서울시')\",\n",
       "  \"# 순서인수, 튜플인수, 키워드 인수, 딕셔너리 인수\\ndef func6(a, *b, **c):   #튜플인수가 뒤로 와야 \\n    print('a=',a)\\n    print('b=',b)\\n    print('c=',c)\",\n",
       "  \"# 순서인수, 튜플인수, 키워드 인수, 딕셔너리 인수\\ndef func6(a, *b, **c):   #튜플인수가 뒤로 와야 \\n    print('a=',a)\\n    print('b=',b)\\n    print('c=',c)\",\n",
       "  \"# 순서인수, 튜플인수, 키워드 인수, 딕셔너리 인수\\ndef func6(a, *b, **c):   #튜플인수가 뒤로 와야 \\n    print('a=',a)\\n    print('b=',b)\\n    print('c=',c)\",\n",
       "  \"func6(10,1,2,3,4,5, name='kim',age=30)           # a:10       b:1,2,3,4,5       c:name='kim',age=30   {딕셔너리.name&value}\",\n",
       "  \"# 순서인수, 튜플인수, 키워드 인수, 딕셔너리 인수\\ndef func(a,b,c,*d, e=10, **f):\\n    print('a=',a)\\n    print('a=',a)\\n    print('a=',a)\\n    print('a=',a)\\n    \\n    \\n    \\n    \\n    \",\n",
       "  \"# 순서인수, 튜플인수, 키워드 인수, 딕셔너리 인수\\ndef func(a,b,c,*d, e=10, **f):\\n    print('a=',a)\\n    print('b=',b)\\n    print('c=',c)\\n    print('d=',d)\\n    print('e=',e)\\n    print('f=',f)\\n    \",\n",
       "  \"func(10,20,30, 1,2,3,4,2,4, e=20, name='kim',age=30, address='마포')\",\n",
       "  'def add(*args):\\n    sum = 0\\n    for num in args:\\n        sum += num\\n    return sum\\nadd(1,2,3,4)',\n",
       "  'numbers =(1,2,3,4)\\n#add(numbers)\\nadd(*numbers)',\n",
       "  '#예제:\\nlist(range(10))',\n",
       "  '#예제:\\nprint(list(range(10)))',\n",
       "  '#예제:\\nprint(list(range(10)))\\nprint(list(range(5,10)))\\nprint(list(range(5,10,2)))',\n",
       "  '#예제:\\nprint(range2(10))         #왜 이것은  list안써도 가능한지  sys에 지정된 변수가 아니고, 새로운 변수이기 때문에?????\\nprint(range2(5,10))\\nprint(range2(5,10,2))',\n",
       "  '#예제:\\nprint(range2(10))         #왜 이것은  list안써도 가능한지  sys에 지정된 변수가 아니고, 새로운 변수이기 때문에?????\\nprint(range2(5,10))\\nprint(range2(5,10,2)) ',\n",
       "  'def range2(*args):\\n    print(args)',\n",
       "  'def range2(*args):\\n    length = len(args)\\n    result = []\\n    if length ==0:\\n        raise Exception(\\'매개변수가 없으면 안 돼\\')\\n    elif length == 1:      #0부터10앞까지 리스트를 만들어 \\n        for i in range(args[0])  #range(10) 따라서 0부터 9번째방까지 돈다 \\n            result.append(i)      #result를 return \\n    elif length == 2:\\n        for i in range(args[0],args[1]):\\n            result.append(i)\\n    elif length ==3:\\n        for i in range(args[0],args[1],args[2]):\\n            result.append(i)\\n    else:\\n        print(\"떼끼\")',\n",
       "  'def range2(*args):\\n    length = len(args)\\n    result = []\\n    if length ==0:\\n        raise Exception(\\'매개변수가 없으면 안 돼\\')\\n    elif length == 1:      #0부터10앞까지 리스트를 만들어 \\n        for i in range(args[0]):  #range(10) 따라서 0부터 9번째방까지 돈다 \\n            result.append(i)      #result를 return \\n    elif length == 2:\\n        for i in range(args[0],args[1]):\\n            result.append(i)\\n    elif length ==3:\\n        for i in range(args[0],args[1],args[2]):\\n            result.append(i)\\n    else:\\n        print(\"떼끼\")',\n",
       "  'def range2(*args):\\n    length = len(args)\\n    result = []\\n    if length ==0:\\n        raise Exception(\\'매개변수가 없으면 안 돼\\')\\n    elif length == 1:      #0부터10앞까지 리스트를 만들어 \\n        for i in range(args[0]):  #range(10) 따라서 0부터 9번째방까지 돈다 \\n            result.append(i)      #result를 return \\n    elif length == 2:\\n        for i in range(args[0],args[1]):\\n            result.append(i)\\n    elif length ==3:\\n        for i in range(args[0],args[1],args[2]):\\n            result.append(i)\\n    else:\\n        print(\"떼끼\")\\n    return result',\n",
       "  'def range2(*args):\\n    length = len(args)\\n    result = []\\n    if length ==0:\\n        raise Exception(\\'매개변수가 없으면 안 돼\\')\\n    elif length == 1:      #0부터10앞까지 리스트를 만들어 \\n        for i in range(args[0]):  #range(10) 따라서 0부터 9번째방까지 돈다 \\n            result.append(i)      #result를 return \\n    elif length == 2:\\n        for i in range(args[0],args[1]):\\n            result.append(i)\\n    elif length ==3:\\n        for i in range(args[0],args[1],args[2]):\\n            result.append(i)\\n    else:\\n        print(\"떼끼\")\\n    return result\\nprint(range2())',\n",
       "  'def range2(*args):\\n    length = len(args)\\n    result = []\\n    if length ==0:\\n        raise Exception(\\'매개변수가 없으면 안 돼\\')\\n    elif length == 1:      #0부터10앞까지 리스트를 만들어 \\n        for i in range(args[0]):  #range(10) 따라서 0부터 9번째방까지 돈다 \\n            result.append(i)      #result를 return \\n    elif length == 2:\\n        for i in range(args[0],args[1]):\\n            result.append(i)\\n    elif length ==3:\\n        for i in range(args[0],args[1],args[2]):\\n            result.append(i)\\n    else:\\n        print(\"떼끼\")\\n    return result\\nprint(range2(10))',\n",
       "  'def range2(*args):\\n    length = len(args)\\n    result = []\\n    if length ==0:\\n        raise Exception(\\'매개변수가 없으면 안 돼\\')\\n    elif length == 1:      #0부터10앞까지 리스트를 만들어 \\n        for i in range(args[0]):  #range(10) 따라서 0부터 9번째방까지 돈다 \\n            result.append(i)      #result를 return \\n    elif length == 2:\\n        for i in range(args[0],args[1]):\\n            result.append(i)\\n    elif length ==3:\\n        for i in range(args[0],args[1],args[2]):\\n            result.append(i)\\n    else:\\n        print(\"떼끼\")\\n        return\\n    return result\\nprint(range2(10))      #length1로 빠짐\\nprint(range2(5,10))\\nprint(range2(5,10,2))\\nprint(range2(1,2,3,4))',\n",
       "  't = (5,10,2)\\nrange2(t)',\n",
       "  't = (5,10,2)\\nrange2(*t)  # *추가해서 unpacking',\n",
       "  \"def func5(**data):\\n    for item in data.items():\\n        print(item)\\nfunc5(name='홍길동',age=30, address='마포')\",\n",
       "  \"customerInfo= {'name':'홍길동','age':30, 'address'='마포'}\",\n",
       "  \"customerInfo= {'name':'홍길동','age':30, 'address':'마포'}\\nfunc5(customerInfo)\",\n",
       "  \"customerInfo= {'name':'홍길동','age':30, 'address':'마포'}  #dictionary 데이터가packing되었기때문에. \\n#func5(customerInfo)\\nfunc5(**customerInfo)\",\n",
       "  'l = [1,2,3]\\n[x**3 for x in l]',\n",
       "  'def add(a,b):\\n    return a+b\\nadd(5,6)',\n",
       "  'add',\n",
       "  'type(add)',\n",
       "  'add2 = lambda a,b : a+b',\n",
       "  'add2',\n",
       "  'add2(10,20)',\n",
       "  '(lambda a,b : a+b)(30,40)',\n",
       "  'def map_template(func,L=[]):\\n    result = []\\n    for item in L:\\n        result.append(func(item))       #0방 가져와서 1를 2배로 띄어  1,4,6을 result에 넣어\\n    return result',\n",
       "  'map_template(2배로함수,[1.2.3])',\n",
       "  'map_template(lambda x : x*2, list_data)',\n",
       "  'list_data =[1,2,3,4,5]\\ndef x_2(x):\\n    return x*2 \\nmap_template(x_2, list_data)       #function(함수있데 변수처럼 쓸 수 있다), list_data\\n                            #',\n",
       "  'map_template(lambda x : x*2, list_data)',\n",
       "  '#map()함수이용\\nlist(map(lambda x:x*2, list_data))',\n",
       "  '#리스트 컴피르핸션\\n[for x inllist_data]',\n",
       "  '#리스트 컴피르핸션\\nfor [x inllist_data]',\n",
       "  '#리스트 컴피르핸션\\n[x*2for x inllist_data]',\n",
       "  '#리스트 컴피르핸션\\n[x*2 for x inllist_data]',\n",
       "  '#리스트 컴피르핸션\\n[x*2 for x in list_data]',\n",
       "  'list_data = [2.3.4]',\n",
       "  'def everuserama(x)',\n",
       "  '#리스트 컴프래핸션\\n2.o j \\n [x for x i n list_data if x%2==0]',\n",
       "  \"# 기본변수가 list, set, dictionary 또는 객체일때 함수를 호출 후 다시 전달\\nlist_ = []\\ndef func3(a,L=list_):   #기본값이 변수로       *********#L=list_  객체변수 (주소가 1번세팅)  | 세칼라변수 '값세팅'*******\\n    L.append(a)\\n    return L\\nprint(func3(1,list_))    #list값바뀜    # 원래 빈 리스트, 2번째값 자동적으로 기본값. list_=[] 빈스트링. 3을 return해서 1 만 나옴\\nprint(list_)\\n#####################???????????##########\",\n",
       "  'print(func3(2))\\nprint(list_)   #####2가 계속 늘어남 ###############???????????????',\n",
       "  'list_data = [1,2,3,4,5]\\ndef filter_template(func, L=[]):\\n    result = []\\n    for item in L:\\n        if func(item):\\n            result.append(item)\\n    return result',\n",
       "  'def evenyesorno(x):\\n    if x%2==0:\\n        return True\\nfilter_template(evenyesorno, list_data)',\n",
       "  'filter_template(lambda x : x%2==0, list_data)',\n",
       "  '# filter()함수 \\nlist(filter(lambda x : x%2==0, list_data))',\n",
       "  '# 리스트 컴프리헨션\\n[x for x in list_data if x%2==0]',\n",
       "  '#리스트 컴프래핸션\\n [x for x i n list_data if x%2==0]',\n",
       "  '#리스트 컴프래핸션\\n[x for x in list_data if x%2==0]',\n",
       "  \"pairs=[(1,'one'),(3,'three'),(2,'two'),(4,'four')]\",\n",
       "  \"pairs=[(1,'one'),(3,'three'),(2,'two'),(4,'four')]\\npairs.sort()\\npairs\",\n",
       "  '(lambda pair: pair[1])([10,20,30])    #그중 1번째방 아이만 가져와',\n",
       "  'pairs.sort(key=lambda pair: pair[1])   #pairs.sort(*, key=None, reverse=False) 오름차순 \\n                                       #Sort the list in ascending order and return None.\\npairs',\n",
       "  'def apply(data,func =None):\\n    if func == None:\\n        return data\\n    else:\\n        return func(data)\\napply(100,lambda x:x**3)',\n",
       "  'def make_box(shape):\\n    def box(init_value):\\n        if len(shape)==1:                    #1차원******\\n            return [init_value]*shape[0]    # [10,10,10,10,10]\\n        elif len(shape)==2:\\n            return[ [init_value]*shape[1] ] *shape[0]\\n    return box',\n",
       "  'box1 = make_box([5,])',\n",
       "  'type(box1)',\n",
       "  'box1(10)         #(위:1차원으로 만들어라 )  여기서 value를 10을 넣어라 ',\n",
       "  'box2= make_box([2,3])\\nbox2(10)',\n",
       "  'def make_box1(shape):\\n    if len(shape)==1:\\n        return lambda x : [x]*shape[0]                #1차원 배열 return         initvalue받아서 shape0방 만큼  list를 만든 익명함수가됨\\n    else len(shape)==2 :\\n        return lambda x : [[x]*shape[1]] *shape[0]\\n\\n    ',\n",
       "  'def make_box1(shape):\\n    if len(shape)==1:\\n        return lambda x : [x]*shape[0]                #1차원 배열 return         initvalue받아서 shape0방 만큼  list를 만든 익명함수가됨\\n    elif len(shape)==2 :\\n        return lambda x : [[x]*shape[1]] *shape[0]\\n\\n    ',\n",
       "  'box1 = make_box1((3,2))\\nbox1(5)',\n",
       "  'box2 = make_box1((7,) )\\nbox2(10)',\n",
       "  'int(\"1\")',\n",
       "  'int(\"1.2\")',\n",
       "  'int(float(\"1.2\"))',\n",
       "  'globals() #전역변수들list',\n",
       "  'var = 10\\nglobals() #전역변수들 dictionary '],\n",
       " '_oh': {1: 'http://{}:{}.format(ip,port)',\n",
       "  2: 'http://localhost:80',\n",
       "  3: 'http://localhost:80',\n",
       "  18: [10],\n",
       "  20: [30],\n",
       "  21: [30],\n",
       "  22: [30],\n",
       "  23: [10, 2, 2, 2, 2, 70],\n",
       "  24: [10, 2, 2, 2, 2, 70],\n",
       "  25: [10, 2, 2, 2, 2, 70],\n",
       "  26: [10, 2, 2, 2, 2, 70],\n",
       "  28: [10, 2, 2, 2, 2, 70],\n",
       "  29: [30],\n",
       "  31: [30],\n",
       "  33: [[]],\n",
       "  34: [10, 2, 2, 2, 2, 70],\n",
       "  41: 15,\n",
       "  45: '서울-부산-인천',\n",
       "  46: '서울-부산-인천',\n",
       "  49: 'hello/world',\n",
       "  50: 'hello/world',\n",
       "  52: 'earth/mars/venus',\n",
       "  53: 'marsearthvenus',\n",
       "  57: 'earth/mars/venus',\n",
       "  58: 'Python~R~hadoop',\n",
       "  81: 10,\n",
       "  82: 10,\n",
       "  83: [0, 1, 2, 3, 4, 5, 6, 7, 8, 9],\n",
       "  96: [5, 7, 9],\n",
       "  101: [1, 8, 27],\n",
       "  102: 11,\n",
       "  103: <function __main__.add(a, b)>,\n",
       "  104: function,\n",
       "  106: <function __main__.<lambda>(a, b)>,\n",
       "  107: 30,\n",
       "  108: 70,\n",
       "  112: [2, 4, 6, 8, 10],\n",
       "  113: [2, 4, 6, 8, 10],\n",
       "  114: [2, 4, 6, 8, 10],\n",
       "  119: [2, 4, 6, 8, 10],\n",
       "  126: [2, 4],\n",
       "  127: [2, 4],\n",
       "  128: [2, 4],\n",
       "  129: [2, 4],\n",
       "  131: [2, 4],\n",
       "  133: [(4, 'four'), (1, 'one'), (3, 'three'), (2, 'two')],\n",
       "  134: 20,\n",
       "  135: [(4, 'four'), (1, 'one'), (3, 'three'), (2, 'two')],\n",
       "  136: 1000000,\n",
       "  139: function,\n",
       "  140: [10, 10, 10, 10, 10],\n",
       "  141: [[10, 10, 10], [10, 10, 10]],\n",
       "  144: [[5, 5], [5, 5], [5, 5]],\n",
       "  145: [10, 10, 10, 10, 10, 10, 10],\n",
       "  146: 1,\n",
       "  148: 1,\n",
       "  149: {...}},\n",
       " '_dh': ['D:\\\\bigdata(psa)\\\\src\\\\8_python'],\n",
       " 'In': ['',\n",
       "  'def make_url(ip, port=80):#기본값을 받는 기본함수 (앞 )기본값을 안 받는 매개변수 (뒤\\n    return \"http://{}:{}.format(ip,port)\"\\n\\nmake_url(\"localhost\",80)',\n",
       "  'def make_url(ip, port=80):#기본값을 받는 기본함수 (앞 )기본값을 안 받는 매개변수 (뒤\\n    return \\'http://{}:{}\\'.format(ip,port)\\n\\nmake_url(\"localhost\",80)',\n",
       "  'make_url(\"localhost\")       #기본값을 갖는 매개변수 ',\n",
       "  '# 기본변수가 list, set, dictionary 또는 객체일때 함수를 호출 후 다시 전달\\nlist_ = []\\ndef func3(a,L=list_):   #기본값이 변수로 \\n    L.append(a)\\n    return L\\nprint(func3(1)) # 원래 빈 리스트, 2번째값 자동적으로 기본값. list_=[] 빈스트링. 3을 return해서 1만나옴',\n",
       "  '# 기본변수가 list, set, dictionary 또는 객체일때 함수를 호출 후 다시 전달\\nlist_ = []\\ndef func3(a,L=list_):   #기본값이 변수로 \\n    L.append(a)\\n    return L\\nprint(func3(1)) # 원래 빈 리스트, 2번째값 자동적으로 기본값. list_=[] 빈스트링. 3을 return해서 1 만 나옴\\nprint(list_)\\n#####################???????????##########',\n",
       "  'print(func3(2))',\n",
       "  'print(func3(2))\\nprint(list_)',\n",
       "  'print(func3(2))\\nprint(list_)',\n",
       "  \"i = 5    #arg값 계속5??????????????????한번 정의하면 변하지 않는건지????????????\\n    #'기본함수가 스칼라변수'일 때:arg의 기본 값은 함수가 정의되는 지점에 한번만 평가된. \\ndef func2(arg=i):    #arg의 기본값은 함구가 정의되는 지점에 한단번 평기  변수는 기본 값으로 세팅                    \\n    print('arg= ',arg)\",\n",
       "  'i = 6\\nfunc2()',\n",
       "  'pint(fun2)',\n",
       "  'pint(func2)',\n",
       "  'print(func2)',\n",
       "  'def func(a, L=[]): #안들어왔을경우 빈string\\n    L.append(a)\\n    return L\\nprint(func(1))   #a에1  L=[]에 빈string이 들어감 ***',\n",
       "  'print(func(2))',\n",
       "  'def func(a,b):\\n    print(a,b)\\nfunc(10,20)',\n",
       "  'def func(a,b,c=10): #c가 키워드 인수. 기본값을 갖는인수\\n    print(a,b)\\nfunc(10,20) ####순서로 넣어야 ',\n",
       "  'def func4(a,L=None):\\n    if L is None:\\n        L = []\\n    L.append(a)\\n    return L\\nfunc4(10)',\n",
       "  'fun4(30) #2번쨰 안쓰면 항상 빈스트링이 추가됨',\n",
       "  'func4(30) #2번쨰 안쓰면 항상 빈스트링이 추가됨',\n",
       "  'func4(30) #2번쨰 안쓰면 항상 빈스트링이 추가됨',\n",
       "  'func4(30) #2번쨰 안쓰면 항상 빈스트링이 추가됨',\n",
       "  'list_= []\\nfunc4(10,list_)',\n",
       "  'func4(2,list_)',\n",
       "  'func4(a=2,L=list_)',\n",
       "  'func4(a=2,L=list_)',\n",
       "  'print(\"Hello\", end=\\'\\\\t\\')',\n",
       "  'func4(L=list_,a=2)',\n",
       "  'func4(a=30) #a값만 넣으면, L값은 none으로 들어옴',\n",
       "  'func4(50,a=30,L=[]) #자동적으로a값 세팅',\n",
       "  'func4(L=[], a=30)',\n",
       "  'func4([], a=30)',\n",
       "  'func4([])',\n",
       "  'func4(L=list_,a=70)',\n",
       "  'def add(a,b):\\n    return a+b\\nprint(add(1,2))',\n",
       "  'def add(a,b.c):\\n    return a+b+c\\nprint(add(1,2,3))',\n",
       "  'def add(a,b,c):\\n    return a+b+c\\nprint(add(1,2,3))',\n",
       "  'def add(a,b,c):\\n    return a+b+c\\nprint(add(1,2,3))',\n",
       "  'print(add(10,20))\\n#파이썬은 함수의 중복(overloading)을 지원하지 않는다 ',\n",
       "  '# args 앞에 * : args가 튜플 전달  **************************************\\ndef add(*args):   # args=(1,2,3,4,5)\\nadd(1,2,3,4,5)',\n",
       "  '# args 앞에 * : args가 튜플 전달  **************************************\\ndef add(*args):   # args=(1,2,3,4,5)\\n    sum = 0\\n    for num in args:\\n        sum += num \\n    return sum\\nadd(1,2,3,4,5)',\n",
       "  '# args 앞에 * : args가 튜플 전달  **************************************\\ndef add(*args):   # args=(1,2,3,4,5)          #args=(1,)        #근데 결과는 같지 않는지????  args=(1)랑 결과 같은지?        \\n    sum = 0\\n    for num in args:\\n        sum += num \\n    return sum\\nadd(1,2,3,4,5)\\nprint(add(1))',\n",
       "  '# args 앞에 * : args가 튜플 전달  **************************************\\ndef add(*args):   # args=(1,2,3,4,5)          #args=(1,)        #근데 결과는 같지 않는지????  args=(1)랑 결과 같은지?        \\n    sum = 0\\n    for num in args:\\n        sum += num \\n    return sum\\nprint(add(1,2,3,4,5))\\nprint(add(1))',\n",
       "  'def concat (*args, sep):\\n    return sep.join(args)',\n",
       "  \"city= ('서울','부산','인천')\\n'-'.join(city)\",\n",
       "  \"city= ('서울','부산','인천')\\n'-'.join(city)\",\n",
       "  'def concat (*args, sep):   #0방부터 끝방까지 sep를 return 해라 \\n    return sep.join(args)       #함수선언 ',\n",
       "  \"concat('hello','world','/')\",\n",
       "  \"concat('hello','world',sep='/')\",\n",
       "  \"#해결책1\\nconcat('hello','world',sep='/')\",\n",
       "  \"#해결책2  \\n#'순서인수'와 '튜플인수'가 있으면. '튜플인수'를 뒤에다 빼야 *********\\ndef concat(sep,*args):\\n    return sep.join(args)\",\n",
       "  \"concat('/','earth','mars','venus')\",\n",
       "  \"concat('earth','mars','venus')        #sep이 'earth'로 들어감\",\n",
       "  '#해결책3 \\ndef concat (*args)',\n",
       "  \"#해결책3 \\ndef concat (*args, sep='/')   # 순서인수가 뒤에 오면안됨. 튜플인수가 뒤에 온다.  따라서 sep를 keyword인수(기본값을 갖는인수)로 바꿈\\n                              # 순서인수 > 튜플인수 > 키워드인수 \\n    return sep.join(args)\",\n",
       "  \"#해결책3 \\ndef concat (*args, sep='/'):   # 순서인수가 뒤에 오면안됨. 튜플인수가 뒤에 온다.  따라서 sep를 keyword인수(기본값을 갖는인수)로 바꿈\\n                              # 순서인수 > 튜플인수 > 키워드인수 \\n    return sep.join(args)\",\n",
       "  \"concat('earth','mars','venus')\",\n",
       "  \"concat('Python','R','hadoop', sep='~')\",\n",
       "  'g_var = 100 \\ndef func3():\\n    global g_var        #g_var변수는 전역변수를 쓸거야    #예약어\\n    print(\\'before\\',g_var)\\n    g_var = 200          #전역변수  ㅎg_var에 다시 값 할당 \\n    print(\\'after\\',g_var)\\n\\nprint(\"fun3()실행 전\",g_var)   #밖에 있는 g_var = 100 가져옴 (즉 맨 처음에 선언한것) \\nfunc3()\\nprint(g_var) ########################????????????????????????????',\n",
       "  'def fibonacci(n):\\n    \"\"\"\\n    매개변수로 들어온 n값 미만까지 피보나치 수열을 출력합니다. \\n    \"\"\"\\n    a,b =0,1\\n    while a < n:\\n        print(a, end=\\' \\')\\n        a,b = b,a+b      #b값이a에 a에 들어오고, a+b가 b에 들어간다\\n    print()\\n    \\ndef fibonacci(n):\\n    \"n값 미만의 피보나치 수열을 return\" #*********실행하면 위에 있는 함수가 사라지고, 밑에 있는 함수가 실행*******\\n    result = []                                   #***python은 중복정의 안됨******\\n    a, b = 0, 1\\n    while a < n :\\n        result.append(a)         #print대신 result에 a를 append \\n        a, b = b, a+b\\n    return result    ',\n",
       "  'x = fibonacci_print(100)',\n",
       "  'x = fibonacci_print(100)',\n",
       "  'def fibonacci_print(n):\\n    \"\"\"\\n    매개변수로 들어온 n값 미만까지 피보나치 수열을 출력합니다. \\n    \"\"\"\\n    a,b =0,1\\n    while a < n:\\n        print(a, end=\\' \\')\\n        a,b = b,a+b      #b값이a에 a에 들어오고, a+b가 b에 들어간다\\n    print()\\n    \\ndef fibonacci(n):\\n    \"n값 미만의 피보나치 수열을 return\" #*********실행하면 위에 있는 함수가 사라지고, 밑에 있는 함수가 실행*******\\n    result = []                                   #***python은 중복정의 안됨******\\n    a, b = 0, 1\\n    while a < n :\\n        result.append(a)         #print대신 result에 a를 append \\n        a, b = b, a+b\\n    return result    ',\n",
       "  'x = fibonacci_print(100)',\n",
       "  'print(x,type(x))',\n",
       "  'x = fibonacci_print(100)',\n",
       "  'print(x,type(x))      ',\n",
       "  'L = fibonacci(100)  #return값이 L에 들어감 ',\n",
       "  'print(L,type(L))',\n",
       "  'print(func2)',\n",
       "  'def func5(**args): #**args가 딕셔너리로 전달(**)\\n    for item in args.items():\\n        print(item)',\n",
       "  \"def func5(**args): #**args가 딕셔너리로 전달(**)\\n                    # args = {name='홍길동',age=30, address='서울시'}\\n    for item in args.items():\\n        print(item)\\nfunc5(name='홍길동',age=30, address='서울시')\",\n",
       "  \"def func5(**args): #**args가 딕셔너리로 전달(**)\\n                    # args = {name='홍길동',age=30, address='서울시'}\\n    for key,value in args.items():\\n        print(key,value)\\nfunc5(name='홍길동',age=30, address='서울시')\",\n",
       "  \"# 순서인수, 튜플인수, 키워드 인수, 딕셔너리 인수\\ndef func6(a, *b, **c):   #튜플인수가 뒤로 와야 \\n    print('a=',a)\\n    print('b=',b)\\n    print('c=',c)\",\n",
       "  \"# 순서인수, 튜플인수, 키워드 인수, 딕셔너리 인수\\ndef func6(a, *b, **c):   #튜플인수가 뒤로 와야 \\n    print('a=',a)\\n    print('b=',b)\\n    print('c=',c)\",\n",
       "  \"# 순서인수, 튜플인수, 키워드 인수, 딕셔너리 인수\\ndef func6(a, *b, **c):   #튜플인수가 뒤로 와야 \\n    print('a=',a)\\n    print('b=',b)\\n    print('c=',c)\",\n",
       "  \"func6(10,1,2,3,4,5, name='kim',age=30)           # a:10       b:1,2,3,4,5       c:name='kim',age=30   {딕셔너리.name&value}\",\n",
       "  \"# 순서인수, 튜플인수, 키워드 인수, 딕셔너리 인수\\ndef func(a,b,c,*d, e=10, **f):\\n    print('a=',a)\\n    print('a=',a)\\n    print('a=',a)\\n    print('a=',a)\\n    \\n    \\n    \\n    \\n    \",\n",
       "  \"# 순서인수, 튜플인수, 키워드 인수, 딕셔너리 인수\\ndef func(a,b,c,*d, e=10, **f):\\n    print('a=',a)\\n    print('b=',b)\\n    print('c=',c)\\n    print('d=',d)\\n    print('e=',e)\\n    print('f=',f)\\n    \",\n",
       "  \"func(10,20,30, 1,2,3,4,2,4, e=20, name='kim',age=30, address='마포')\",\n",
       "  'def add(*args):\\n    sum = 0\\n    for num in args:\\n        sum += num\\n    return sum\\nadd(1,2,3,4)',\n",
       "  'numbers =(1,2,3,4)\\n#add(numbers)\\nadd(*numbers)',\n",
       "  '#예제:\\nlist(range(10))',\n",
       "  '#예제:\\nprint(list(range(10)))',\n",
       "  '#예제:\\nprint(list(range(10)))\\nprint(list(range(5,10)))\\nprint(list(range(5,10,2)))',\n",
       "  '#예제:\\nprint(range2(10))         #왜 이것은  list안써도 가능한지  sys에 지정된 변수가 아니고, 새로운 변수이기 때문에?????\\nprint(range2(5,10))\\nprint(range2(5,10,2))',\n",
       "  '#예제:\\nprint(range2(10))         #왜 이것은  list안써도 가능한지  sys에 지정된 변수가 아니고, 새로운 변수이기 때문에?????\\nprint(range2(5,10))\\nprint(range2(5,10,2)) ',\n",
       "  'def range2(*args):\\n    print(args)',\n",
       "  'def range2(*args):\\n    length = len(args)\\n    result = []\\n    if length ==0:\\n        raise Exception(\\'매개변수가 없으면 안 돼\\')\\n    elif length == 1:      #0부터10앞까지 리스트를 만들어 \\n        for i in range(args[0])  #range(10) 따라서 0부터 9번째방까지 돈다 \\n            result.append(i)      #result를 return \\n    elif length == 2:\\n        for i in range(args[0],args[1]):\\n            result.append(i)\\n    elif length ==3:\\n        for i in range(args[0],args[1],args[2]):\\n            result.append(i)\\n    else:\\n        print(\"떼끼\")',\n",
       "  'def range2(*args):\\n    length = len(args)\\n    result = []\\n    if length ==0:\\n        raise Exception(\\'매개변수가 없으면 안 돼\\')\\n    elif length == 1:      #0부터10앞까지 리스트를 만들어 \\n        for i in range(args[0]):  #range(10) 따라서 0부터 9번째방까지 돈다 \\n            result.append(i)      #result를 return \\n    elif length == 2:\\n        for i in range(args[0],args[1]):\\n            result.append(i)\\n    elif length ==3:\\n        for i in range(args[0],args[1],args[2]):\\n            result.append(i)\\n    else:\\n        print(\"떼끼\")',\n",
       "  'def range2(*args):\\n    length = len(args)\\n    result = []\\n    if length ==0:\\n        raise Exception(\\'매개변수가 없으면 안 돼\\')\\n    elif length == 1:      #0부터10앞까지 리스트를 만들어 \\n        for i in range(args[0]):  #range(10) 따라서 0부터 9번째방까지 돈다 \\n            result.append(i)      #result를 return \\n    elif length == 2:\\n        for i in range(args[0],args[1]):\\n            result.append(i)\\n    elif length ==3:\\n        for i in range(args[0],args[1],args[2]):\\n            result.append(i)\\n    else:\\n        print(\"떼끼\")\\n    return result',\n",
       "  'def range2(*args):\\n    length = len(args)\\n    result = []\\n    if length ==0:\\n        raise Exception(\\'매개변수가 없으면 안 돼\\')\\n    elif length == 1:      #0부터10앞까지 리스트를 만들어 \\n        for i in range(args[0]):  #range(10) 따라서 0부터 9번째방까지 돈다 \\n            result.append(i)      #result를 return \\n    elif length == 2:\\n        for i in range(args[0],args[1]):\\n            result.append(i)\\n    elif length ==3:\\n        for i in range(args[0],args[1],args[2]):\\n            result.append(i)\\n    else:\\n        print(\"떼끼\")\\n    return result\\nprint(range2())',\n",
       "  'def range2(*args):\\n    length = len(args)\\n    result = []\\n    if length ==0:\\n        raise Exception(\\'매개변수가 없으면 안 돼\\')\\n    elif length == 1:      #0부터10앞까지 리스트를 만들어 \\n        for i in range(args[0]):  #range(10) 따라서 0부터 9번째방까지 돈다 \\n            result.append(i)      #result를 return \\n    elif length == 2:\\n        for i in range(args[0],args[1]):\\n            result.append(i)\\n    elif length ==3:\\n        for i in range(args[0],args[1],args[2]):\\n            result.append(i)\\n    else:\\n        print(\"떼끼\")\\n    return result\\nprint(range2(10))',\n",
       "  'def range2(*args):\\n    length = len(args)\\n    result = []\\n    if length ==0:\\n        raise Exception(\\'매개변수가 없으면 안 돼\\')\\n    elif length == 1:      #0부터10앞까지 리스트를 만들어 \\n        for i in range(args[0]):  #range(10) 따라서 0부터 9번째방까지 돈다 \\n            result.append(i)      #result를 return \\n    elif length == 2:\\n        for i in range(args[0],args[1]):\\n            result.append(i)\\n    elif length ==3:\\n        for i in range(args[0],args[1],args[2]):\\n            result.append(i)\\n    else:\\n        print(\"떼끼\")\\n        return\\n    return result\\nprint(range2(10))      #length1로 빠짐\\nprint(range2(5,10))\\nprint(range2(5,10,2))\\nprint(range2(1,2,3,4))',\n",
       "  't = (5,10,2)\\nrange2(t)',\n",
       "  't = (5,10,2)\\nrange2(*t)  # *추가해서 unpacking',\n",
       "  \"def func5(**data):\\n    for item in data.items():\\n        print(item)\\nfunc5(name='홍길동',age=30, address='마포')\",\n",
       "  \"customerInfo= {'name':'홍길동','age':30, 'address'='마포'}\",\n",
       "  \"customerInfo= {'name':'홍길동','age':30, 'address':'마포'}\\nfunc5(customerInfo)\",\n",
       "  \"customerInfo= {'name':'홍길동','age':30, 'address':'마포'}  #dictionary 데이터가packing되었기때문에. \\n#func5(customerInfo)\\nfunc5(**customerInfo)\",\n",
       "  'l = [1,2,3]\\n[x**3 for x in l]',\n",
       "  'def add(a,b):\\n    return a+b\\nadd(5,6)',\n",
       "  'add',\n",
       "  'type(add)',\n",
       "  'add2 = lambda a,b : a+b',\n",
       "  'add2',\n",
       "  'add2(10,20)',\n",
       "  '(lambda a,b : a+b)(30,40)',\n",
       "  'def map_template(func,L=[]):\\n    result = []\\n    for item in L:\\n        result.append(func(item))       #0방 가져와서 1를 2배로 띄어  1,4,6을 result에 넣어\\n    return result',\n",
       "  'map_template(2배로함수,[1.2.3])',\n",
       "  'map_template(lambda x : x*2, list_data)',\n",
       "  'list_data =[1,2,3,4,5]\\ndef x_2(x):\\n    return x*2 \\nmap_template(x_2, list_data)       #function(함수있데 변수처럼 쓸 수 있다), list_data\\n                            #',\n",
       "  'map_template(lambda x : x*2, list_data)',\n",
       "  '#map()함수이용\\nlist(map(lambda x:x*2, list_data))',\n",
       "  '#리스트 컴피르핸션\\n[for x inllist_data]',\n",
       "  '#리스트 컴피르핸션\\nfor [x inllist_data]',\n",
       "  '#리스트 컴피르핸션\\n[x*2for x inllist_data]',\n",
       "  '#리스트 컴피르핸션\\n[x*2 for x inllist_data]',\n",
       "  '#리스트 컴피르핸션\\n[x*2 for x in list_data]',\n",
       "  'list_data = [2.3.4]',\n",
       "  'def everuserama(x)',\n",
       "  '#리스트 컴프래핸션\\n2.o j \\n [x for x i n list_data if x%2==0]',\n",
       "  \"# 기본변수가 list, set, dictionary 또는 객체일때 함수를 호출 후 다시 전달\\nlist_ = []\\ndef func3(a,L=list_):   #기본값이 변수로       *********#L=list_  객체변수 (주소가 1번세팅)  | 세칼라변수 '값세팅'*******\\n    L.append(a)\\n    return L\\nprint(func3(1,list_))    #list값바뀜    # 원래 빈 리스트, 2번째값 자동적으로 기본값. list_=[] 빈스트링. 3을 return해서 1 만 나옴\\nprint(list_)\\n#####################???????????##########\",\n",
       "  'print(func3(2))\\nprint(list_)   #####2가 계속 늘어남 ###############???????????????',\n",
       "  'list_data = [1,2,3,4,5]\\ndef filter_template(func, L=[]):\\n    result = []\\n    for item in L:\\n        if func(item):\\n            result.append(item)\\n    return result',\n",
       "  'def evenyesorno(x):\\n    if x%2==0:\\n        return True\\nfilter_template(evenyesorno, list_data)',\n",
       "  'filter_template(lambda x : x%2==0, list_data)',\n",
       "  '# filter()함수 \\nlist(filter(lambda x : x%2==0, list_data))',\n",
       "  '# 리스트 컴프리헨션\\n[x for x in list_data if x%2==0]',\n",
       "  '#리스트 컴프래핸션\\n [x for x i n list_data if x%2==0]',\n",
       "  '#리스트 컴프래핸션\\n[x for x in list_data if x%2==0]',\n",
       "  \"pairs=[(1,'one'),(3,'three'),(2,'two'),(4,'four')]\",\n",
       "  \"pairs=[(1,'one'),(3,'three'),(2,'two'),(4,'four')]\\npairs.sort()\\npairs\",\n",
       "  '(lambda pair: pair[1])([10,20,30])    #그중 1번째방 아이만 가져와',\n",
       "  'pairs.sort(key=lambda pair: pair[1])   #pairs.sort(*, key=None, reverse=False) 오름차순 \\n                                       #Sort the list in ascending order and return None.\\npairs',\n",
       "  'def apply(data,func =None):\\n    if func == None:\\n        return data\\n    else:\\n        return func(data)\\napply(100,lambda x:x**3)',\n",
       "  'def make_box(shape):\\n    def box(init_value):\\n        if len(shape)==1:                    #1차원******\\n            return [init_value]*shape[0]    # [10,10,10,10,10]\\n        elif len(shape)==2:\\n            return[ [init_value]*shape[1] ] *shape[0]\\n    return box',\n",
       "  'box1 = make_box([5,])',\n",
       "  'type(box1)',\n",
       "  'box1(10)         #(위:1차원으로 만들어라 )  여기서 value를 10을 넣어라 ',\n",
       "  'box2= make_box([2,3])\\nbox2(10)',\n",
       "  'def make_box1(shape):\\n    if len(shape)==1:\\n        return lambda x : [x]*shape[0]                #1차원 배열 return         initvalue받아서 shape0방 만큼  list를 만든 익명함수가됨\\n    else len(shape)==2 :\\n        return lambda x : [[x]*shape[1]] *shape[0]\\n\\n    ',\n",
       "  'def make_box1(shape):\\n    if len(shape)==1:\\n        return lambda x : [x]*shape[0]                #1차원 배열 return         initvalue받아서 shape0방 만큼  list를 만든 익명함수가됨\\n    elif len(shape)==2 :\\n        return lambda x : [[x]*shape[1]] *shape[0]\\n\\n    ',\n",
       "  'box1 = make_box1((3,2))\\nbox1(5)',\n",
       "  'box2 = make_box1((7,) )\\nbox2(10)',\n",
       "  'int(\"1\")',\n",
       "  'int(\"1.2\")',\n",
       "  'int(float(\"1.2\"))',\n",
       "  'globals() #전역변수들list',\n",
       "  'var = 10\\nglobals() #전역변수들 dictionary '],\n",
       " 'Out': {1: 'http://{}:{}.format(ip,port)',\n",
       "  2: 'http://localhost:80',\n",
       "  3: 'http://localhost:80',\n",
       "  18: [10],\n",
       "  20: [30],\n",
       "  21: [30],\n",
       "  22: [30],\n",
       "  23: [10, 2, 2, 2, 2, 70],\n",
       "  24: [10, 2, 2, 2, 2, 70],\n",
       "  25: [10, 2, 2, 2, 2, 70],\n",
       "  26: [10, 2, 2, 2, 2, 70],\n",
       "  28: [10, 2, 2, 2, 2, 70],\n",
       "  29: [30],\n",
       "  31: [30],\n",
       "  33: [[]],\n",
       "  34: [10, 2, 2, 2, 2, 70],\n",
       "  41: 15,\n",
       "  45: '서울-부산-인천',\n",
       "  46: '서울-부산-인천',\n",
       "  49: 'hello/world',\n",
       "  50: 'hello/world',\n",
       "  52: 'earth/mars/venus',\n",
       "  53: 'marsearthvenus',\n",
       "  57: 'earth/mars/venus',\n",
       "  58: 'Python~R~hadoop',\n",
       "  81: 10,\n",
       "  82: 10,\n",
       "  83: [0, 1, 2, 3, 4, 5, 6, 7, 8, 9],\n",
       "  96: [5, 7, 9],\n",
       "  101: [1, 8, 27],\n",
       "  102: 11,\n",
       "  103: <function __main__.add(a, b)>,\n",
       "  104: function,\n",
       "  106: <function __main__.<lambda>(a, b)>,\n",
       "  107: 30,\n",
       "  108: 70,\n",
       "  112: [2, 4, 6, 8, 10],\n",
       "  113: [2, 4, 6, 8, 10],\n",
       "  114: [2, 4, 6, 8, 10],\n",
       "  119: [2, 4, 6, 8, 10],\n",
       "  126: [2, 4],\n",
       "  127: [2, 4],\n",
       "  128: [2, 4],\n",
       "  129: [2, 4],\n",
       "  131: [2, 4],\n",
       "  133: [(4, 'four'), (1, 'one'), (3, 'three'), (2, 'two')],\n",
       "  134: 20,\n",
       "  135: [(4, 'four'), (1, 'one'), (3, 'three'), (2, 'two')],\n",
       "  136: 1000000,\n",
       "  139: function,\n",
       "  140: [10, 10, 10, 10, 10],\n",
       "  141: [[10, 10, 10], [10, 10, 10]],\n",
       "  144: [[5, 5], [5, 5], [5, 5]],\n",
       "  145: [10, 10, 10, 10, 10, 10, 10],\n",
       "  146: 1,\n",
       "  148: 1,\n",
       "  149: {...}},\n",
       " 'get_ipython': <function IPython.core.getipython.get_ipython()>,\n",
       " 'exit': <IPython.core.autocall.ZMQExitAutocall at 0x1bb392bb340>,\n",
       " 'quit': <IPython.core.autocall.ZMQExitAutocall at 0x1bb392bb340>,\n",
       " '_': {...},\n",
       " '__': 1,\n",
       " '___': 1,\n",
       " '_i': 'globals() #전역변수들list',\n",
       " '_ii': 'int(float(\"1.2\"))',\n",
       " '_iii': 'int(\"1.2\")',\n",
       " '_i1': 'def make_url(ip, port=80):#기본값을 받는 기본함수 (앞 )기본값을 안 받는 매개변수 (뒤\\n    return \"http://{}:{}.format(ip,port)\"\\n\\nmake_url(\"localhost\",80)',\n",
       " 'make_url': <function __main__.make_url(ip, port=80)>,\n",
       " '_1': 'http://{}:{}.format(ip,port)',\n",
       " 'json': <module 'json' from 'C:\\\\Users\\\\tjoeun\\\\anaconda3\\\\lib\\\\json\\\\__init__.py'>,\n",
       " 'yapf_reformat': <function __main__.yapf_reformat(cell_text)>,\n",
       " 'autopep8': <module 'autopep8' from 'C:\\\\Users\\\\tjoeun\\\\anaconda3\\\\lib\\\\site-packages\\\\autopep8.py'>,\n",
       " 'getsizeof': <function sys.getsizeof>,\n",
       " 'NamespaceMagics': IPython.core.magics.namespace.NamespaceMagics,\n",
       " '_nms': <IPython.core.magics.namespace.NamespaceMagics at 0x1bb3c556790>,\n",
       " '_Jupyter': <ipykernel.zmqshell.ZMQInteractiveShell at 0x1bb392469a0>,\n",
       " 'np': <module 'numpy' from 'C:\\\\Users\\\\tjoeun\\\\anaconda3\\\\lib\\\\site-packages\\\\numpy\\\\__init__.py'>,\n",
       " '_getsizeof': <function __main__._getsizeof(x)>,\n",
       " '_getshapeof': <function __main__._getshapeof(x)>,\n",
       " 'var_dic_list': <function __main__.var_dic_list()>,\n",
       " '_i2': 'def make_url(ip, port=80):#기본값을 받는 기본함수 (앞 )기본값을 안 받는 매개변수 (뒤\\n    return \\'http://{}:{}\\'.format(ip,port)\\n\\nmake_url(\"localhost\",80)',\n",
       " '_2': 'http://localhost:80',\n",
       " '_i3': 'make_url(\"localhost\")       #기본값을 갖는 매개변수 ',\n",
       " '_3': 'http://localhost:80',\n",
       " '_i4': '# 기본변수가 list, set, dictionary 또는 객체일때 함수를 호출 후 다시 전달\\nlist_ = []\\ndef func3(a,L=list_):   #기본값이 변수로 \\n    L.append(a)\\n    return L\\nprint(func3(1)) # 원래 빈 리스트, 2번째값 자동적으로 기본값. list_=[] 빈스트링. 3을 return해서 1만나옴',\n",
       " 'list_': [1, 2],\n",
       " 'func3': <function __main__.func3(a, L=[1, 2])>,\n",
       " '_i5': '# 기본변수가 list, set, dictionary 또는 객체일때 함수를 호출 후 다시 전달\\nlist_ = []\\ndef func3(a,L=list_):   #기본값이 변수로 \\n    L.append(a)\\n    return L\\nprint(func3(1)) # 원래 빈 리스트, 2번째값 자동적으로 기본값. list_=[] 빈스트링. 3을 return해서 1 만 나옴\\nprint(list_)\\n#####################???????????##########',\n",
       " '_i6': 'print(func3(2))',\n",
       " '_i7': 'print(func3(2))\\nprint(list_)',\n",
       " '_i8': 'print(func3(2))\\nprint(list_)',\n",
       " '_i9': \"i = 5    #arg값 계속5??????????????????한번 정의하면 변하지 않는건지????????????\\n    #'기본함수가 스칼라변수'일 때:arg의 기본 값은 함수가 정의되는 지점에 한번만 평가된. \\ndef func2(arg=i):    #arg의 기본값은 함구가 정의되는 지점에 한단번 평기  변수는 기본 값으로 세팅                    \\n    print('arg= ',arg)\",\n",
       " 'i': 6,\n",
       " 'func2': <function __main__.func2(arg=5)>,\n",
       " '_i10': 'i = 6\\nfunc2()',\n",
       " '_i11': 'pint(fun2)',\n",
       " '_i12': 'pint(func2)',\n",
       " '_i13': 'print(func2)',\n",
       " '_i14': 'def func(a, L=[]): #안들어왔을경우 빈string\\n    L.append(a)\\n    return L\\nprint(func(1))   #a에1  L=[]에 빈string이 들어감 ***',\n",
       " 'func': <function __main__.func(a, b, c, *d, e=10, **f)>,\n",
       " '_i15': 'print(func(2))',\n",
       " '_i16': 'def func(a,b):\\n    print(a,b)\\nfunc(10,20)',\n",
       " '_i17': 'def func(a,b,c=10): #c가 키워드 인수. 기본값을 갖는인수\\n    print(a,b)\\nfunc(10,20) ####순서로 넣어야 ',\n",
       " '_i18': 'def func4(a,L=None):\\n    if L is None:\\n        L = []\\n    L.append(a)\\n    return L\\nfunc4(10)',\n",
       " 'func4': <function __main__.func4(a, L=None)>,\n",
       " '_18': [10],\n",
       " '_i19': 'fun4(30) #2번쨰 안쓰면 항상 빈스트링이 추가됨',\n",
       " '_i20': 'func4(30) #2번쨰 안쓰면 항상 빈스트링이 추가됨',\n",
       " '_20': [30],\n",
       " '_i21': 'func4(30) #2번쨰 안쓰면 항상 빈스트링이 추가됨',\n",
       " '_21': [30],\n",
       " '_i22': 'func4(30) #2번쨰 안쓰면 항상 빈스트링이 추가됨',\n",
       " '_22': [30],\n",
       " '_i23': 'list_= []\\nfunc4(10,list_)',\n",
       " '_23': [10, 2, 2, 2, 2, 70],\n",
       " '_i24': 'func4(2,list_)',\n",
       " '_24': [10, 2, 2, 2, 2, 70],\n",
       " '_i25': 'func4(a=2,L=list_)',\n",
       " '_25': [10, 2, 2, 2, 2, 70],\n",
       " '_i26': 'func4(a=2,L=list_)',\n",
       " '_26': [10, 2, 2, 2, 2, 70],\n",
       " '_i27': 'print(\"Hello\", end=\\'\\\\t\\')',\n",
       " '_i28': 'func4(L=list_,a=2)',\n",
       " '_28': [10, 2, 2, 2, 2, 70],\n",
       " '_i29': 'func4(a=30) #a값만 넣으면, L값은 none으로 들어옴',\n",
       " '_29': [30],\n",
       " '_i30': 'func4(50,a=30,L=[]) #자동적으로a값 세팅',\n",
       " '_i31': 'func4(L=[], a=30)',\n",
       " '_31': [30],\n",
       " '_i32': 'func4([], a=30)',\n",
       " '_i33': 'func4([])',\n",
       " '_33': [[]],\n",
       " '_i34': 'func4(L=list_,a=70)',\n",
       " '_34': [10, 2, 2, 2, 2, 70],\n",
       " '_i35': 'def add(a,b):\\n    return a+b\\nprint(add(1,2))',\n",
       " 'add': <function __main__.add(a, b)>,\n",
       " '_i36': 'def add(a,b.c):\\n    return a+b+c\\nprint(add(1,2,3))',\n",
       " '_i37': 'def add(a,b,c):\\n    return a+b+c\\nprint(add(1,2,3))',\n",
       " '_i38': 'def add(a,b,c):\\n    return a+b+c\\nprint(add(1,2,3))',\n",
       " '_i39': 'print(add(10,20))\\n#파이썬은 함수의 중복(overloading)을 지원하지 않는다 ',\n",
       " '_i40': '# args 앞에 * : args가 튜플 전달  **************************************\\ndef add(*args):   # args=(1,2,3,4,5)\\nadd(1,2,3,4,5)',\n",
       " '_i41': '# args 앞에 * : args가 튜플 전달  **************************************\\ndef add(*args):   # args=(1,2,3,4,5)\\n    sum = 0\\n    for num in args:\\n        sum += num \\n    return sum\\nadd(1,2,3,4,5)',\n",
       " '_41': 15,\n",
       " '_i42': '# args 앞에 * : args가 튜플 전달  **************************************\\ndef add(*args):   # args=(1,2,3,4,5)          #args=(1,)        #근데 결과는 같지 않는지????  args=(1)랑 결과 같은지?        \\n    sum = 0\\n    for num in args:\\n        sum += num \\n    return sum\\nadd(1,2,3,4,5)\\nprint(add(1))',\n",
       " '_i43': '# args 앞에 * : args가 튜플 전달  **************************************\\ndef add(*args):   # args=(1,2,3,4,5)          #args=(1,)        #근데 결과는 같지 않는지????  args=(1)랑 결과 같은지?        \\n    sum = 0\\n    for num in args:\\n        sum += num \\n    return sum\\nprint(add(1,2,3,4,5))\\nprint(add(1))',\n",
       " '_i44': 'def concat (*args, sep):\\n    return sep.join(args)',\n",
       " 'concat': <function __main__.concat(*args, sep='/')>,\n",
       " '_i45': \"city= ('서울','부산','인천')\\n'-'.join(city)\",\n",
       " 'city': ('서울', '부산', '인천'),\n",
       " '_45': '서울-부산-인천',\n",
       " '_i46': \"city= ('서울','부산','인천')\\n'-'.join(city)\",\n",
       " '_46': '서울-부산-인천',\n",
       " '_i47': 'def concat (*args, sep):   #0방부터 끝방까지 sep를 return 해라 \\n    return sep.join(args)       #함수선언 ',\n",
       " '_i48': \"concat('hello','world','/')\",\n",
       " '_i49': \"concat('hello','world',sep='/')\",\n",
       " '_49': 'hello/world',\n",
       " '_i50': \"#해결책1\\nconcat('hello','world',sep='/')\",\n",
       " '_50': 'hello/world',\n",
       " '_i51': \"#해결책2  \\n#'순서인수'와 '튜플인수'가 있으면. '튜플인수'를 뒤에다 빼야 *********\\ndef concat(sep,*args):\\n    return sep.join(args)\",\n",
       " '_i52': \"concat('/','earth','mars','venus')\",\n",
       " '_52': 'earth/mars/venus',\n",
       " '_i53': \"concat('earth','mars','venus')        #sep이 'earth'로 들어감\",\n",
       " '_53': 'marsearthvenus',\n",
       " '_i54': '#해결책3 \\ndef concat (*args)',\n",
       " '_i55': \"#해결책3 \\ndef concat (*args, sep='/')   # 순서인수가 뒤에 오면안됨. 튜플인수가 뒤에 온다.  따라서 sep를 keyword인수(기본값을 갖는인수)로 바꿈\\n                              # 순서인수 > 튜플인수 > 키워드인수 \\n    return sep.join(args)\",\n",
       " '_i56': \"#해결책3 \\ndef concat (*args, sep='/'):   # 순서인수가 뒤에 오면안됨. 튜플인수가 뒤에 온다.  따라서 sep를 keyword인수(기본값을 갖는인수)로 바꿈\\n                              # 순서인수 > 튜플인수 > 키워드인수 \\n    return sep.join(args)\",\n",
       " '_i57': \"concat('earth','mars','venus')\",\n",
       " '_57': 'earth/mars/venus',\n",
       " '_i58': \"concat('Python','R','hadoop', sep='~')\",\n",
       " '_58': 'Python~R~hadoop',\n",
       " '_i59': 'g_var = 100 \\ndef func3():\\n    global g_var        #g_var변수는 전역변수를 쓸거야    #예약어\\n    print(\\'before\\',g_var)\\n    g_var = 200          #전역변수  ㅎg_var에 다시 값 할당 \\n    print(\\'after\\',g_var)\\n\\nprint(\"fun3()실행 전\",g_var)   #밖에 있는 g_var = 100 가져옴 (즉 맨 처음에 선언한것) \\nfunc3()\\nprint(g_var) ########################????????????????????????????',\n",
       " 'g_var': 200,\n",
       " '_i60': 'def fibonacci(n):\\n    \"\"\"\\n    매개변수로 들어온 n값 미만까지 피보나치 수열을 출력합니다. \\n    \"\"\"\\n    a,b =0,1\\n    while a < n:\\n        print(a, end=\\' \\')\\n        a,b = b,a+b      #b값이a에 a에 들어오고, a+b가 b에 들어간다\\n    print()\\n    \\ndef fibonacci(n):\\n    \"n값 미만의 피보나치 수열을 return\" #*********실행하면 위에 있는 함수가 사라지고, 밑에 있는 함수가 실행*******\\n    result = []                                   #***python은 중복정의 안됨******\\n    a, b = 0, 1\\n    while a < n :\\n        result.append(a)         #print대신 result에 a를 append \\n        a, b = b, a+b\\n    return result    ',\n",
       " 'fibonacci': <function __main__.fibonacci(n)>,\n",
       " '_i61': 'x = fibonacci_print(100)',\n",
       " '_i62': 'x = fibonacci_print(100)',\n",
       " '_i63': 'def fibonacci_print(n):\\n    \"\"\"\\n    매개변수로 들어온 n값 미만까지 피보나치 수열을 출력합니다. \\n    \"\"\"\\n    a,b =0,1\\n    while a < n:\\n        print(a, end=\\' \\')\\n        a,b = b,a+b      #b값이a에 a에 들어오고, a+b가 b에 들어간다\\n    print()\\n    \\ndef fibonacci(n):\\n    \"n값 미만의 피보나치 수열을 return\" #*********실행하면 위에 있는 함수가 사라지고, 밑에 있는 함수가 실행*******\\n    result = []                                   #***python은 중복정의 안됨******\\n    a, b = 0, 1\\n    while a < n :\\n        result.append(a)         #print대신 result에 a를 append \\n        a, b = b, a+b\\n    return result    ',\n",
       " 'fibonacci_print': <function __main__.fibonacci_print(n)>,\n",
       " '_i64': 'x = fibonacci_print(100)',\n",
       " 'x': None,\n",
       " '_i65': 'print(x,type(x))',\n",
       " '_i66': 'x = fibonacci_print(100)',\n",
       " '_i67': 'print(x,type(x))      ',\n",
       " '_i68': 'L = fibonacci(100)  #return값이 L에 들어감 ',\n",
       " 'L': [0, 1, 1, 2, 3, 5, 8, 13, 21, 34, 55, 89],\n",
       " '_i69': 'print(L,type(L))',\n",
       " '_i70': 'print(func2)',\n",
       " '_i71': 'def func5(**args): #**args가 딕셔너리로 전달(**)\\n    for item in args.items():\\n        print(item)',\n",
       " 'func5': <function __main__.func5(**data)>,\n",
       " '_i72': \"def func5(**args): #**args가 딕셔너리로 전달(**)\\n                    # args = {name='홍길동',age=30, address='서울시'}\\n    for item in args.items():\\n        print(item)\\nfunc5(name='홍길동',age=30, address='서울시')\",\n",
       " '_i73': \"def func5(**args): #**args가 딕셔너리로 전달(**)\\n                    # args = {name='홍길동',age=30, address='서울시'}\\n    for key,value in args.items():\\n        print(key,value)\\nfunc5(name='홍길동',age=30, address='서울시')\",\n",
       " '_i74': \"# 순서인수, 튜플인수, 키워드 인수, 딕셔너리 인수\\ndef func6(a, *b, **c):   #튜플인수가 뒤로 와야 \\n    print('a=',a)\\n    print('b=',b)\\n    print('c=',c)\",\n",
       " 'func6': <function __main__.func6(a, *b, **c)>,\n",
       " '_i75': \"# 순서인수, 튜플인수, 키워드 인수, 딕셔너리 인수\\ndef func6(a, *b, **c):   #튜플인수가 뒤로 와야 \\n    print('a=',a)\\n    print('b=',b)\\n    print('c=',c)\",\n",
       " '_i76': \"# 순서인수, 튜플인수, 키워드 인수, 딕셔너리 인수\\ndef func6(a, *b, **c):   #튜플인수가 뒤로 와야 \\n    print('a=',a)\\n    print('b=',b)\\n    print('c=',c)\",\n",
       " '_i77': \"func6(10,1,2,3,4,5, name='kim',age=30)           # a:10       b:1,2,3,4,5       c:name='kim',age=30   {딕셔너리.name&value}\",\n",
       " '_i78': \"# 순서인수, 튜플인수, 키워드 인수, 딕셔너리 인수\\ndef func(a,b,c,*d, e=10, **f):\\n    print('a=',a)\\n    print('a=',a)\\n    print('a=',a)\\n    print('a=',a)\\n    \\n    \\n    \\n    \\n    \",\n",
       " '_i79': \"# 순서인수, 튜플인수, 키워드 인수, 딕셔너리 인수\\ndef func(a,b,c,*d, e=10, **f):\\n    print('a=',a)\\n    print('b=',b)\\n    print('c=',c)\\n    print('d=',d)\\n    print('e=',e)\\n    print('f=',f)\\n    \",\n",
       " '_i80': \"func(10,20,30, 1,2,3,4,2,4, e=20, name='kim',age=30, address='마포')\",\n",
       " '_i81': 'def add(*args):\\n    sum = 0\\n    for num in args:\\n        sum += num\\n    return sum\\nadd(1,2,3,4)',\n",
       " '_81': 10,\n",
       " '_i82': 'numbers =(1,2,3,4)\\n#add(numbers)\\nadd(*numbers)',\n",
       " 'numbers': (1, 2, 3, 4),\n",
       " '_82': 10,\n",
       " '_i83': '#예제:\\nlist(range(10))',\n",
       " '_83': [0, 1, 2, 3, 4, 5, 6, 7, 8, 9],\n",
       " '_i84': '#예제:\\nprint(list(range(10)))',\n",
       " '_i85': '#예제:\\nprint(list(range(10)))\\nprint(list(range(5,10)))\\nprint(list(range(5,10,2)))',\n",
       " '_i86': '#예제:\\nprint(range2(10))         #왜 이것은  list안써도 가능한지  sys에 지정된 변수가 아니고, 새로운 변수이기 때문에?????\\nprint(range2(5,10))\\nprint(range2(5,10,2))',\n",
       " '_i87': '#예제:\\nprint(range2(10))         #왜 이것은  list안써도 가능한지  sys에 지정된 변수가 아니고, 새로운 변수이기 때문에?????\\nprint(range2(5,10))\\nprint(range2(5,10,2)) ',\n",
       " '_i88': 'def range2(*args):\\n    print(args)',\n",
       " 'range2': <function __main__.range2(*args)>,\n",
       " '_i89': 'def range2(*args):\\n    length = len(args)\\n    result = []\\n    if length ==0:\\n        raise Exception(\\'매개변수가 없으면 안 돼\\')\\n    elif length == 1:      #0부터10앞까지 리스트를 만들어 \\n        for i in range(args[0])  #range(10) 따라서 0부터 9번째방까지 돈다 \\n            result.append(i)      #result를 return \\n    elif length == 2:\\n        for i in range(args[0],args[1]):\\n            result.append(i)\\n    elif length ==3:\\n        for i in range(args[0],args[1],args[2]):\\n            result.append(i)\\n    else:\\n        print(\"떼끼\")',\n",
       " '_i90': 'def range2(*args):\\n    length = len(args)\\n    result = []\\n    if length ==0:\\n        raise Exception(\\'매개변수가 없으면 안 돼\\')\\n    elif length == 1:      #0부터10앞까지 리스트를 만들어 \\n        for i in range(args[0]):  #range(10) 따라서 0부터 9번째방까지 돈다 \\n            result.append(i)      #result를 return \\n    elif length == 2:\\n        for i in range(args[0],args[1]):\\n            result.append(i)\\n    elif length ==3:\\n        for i in range(args[0],args[1],args[2]):\\n            result.append(i)\\n    else:\\n        print(\"떼끼\")',\n",
       " '_i91': 'def range2(*args):\\n    length = len(args)\\n    result = []\\n    if length ==0:\\n        raise Exception(\\'매개변수가 없으면 안 돼\\')\\n    elif length == 1:      #0부터10앞까지 리스트를 만들어 \\n        for i in range(args[0]):  #range(10) 따라서 0부터 9번째방까지 돈다 \\n            result.append(i)      #result를 return \\n    elif length == 2:\\n        for i in range(args[0],args[1]):\\n            result.append(i)\\n    elif length ==3:\\n        for i in range(args[0],args[1],args[2]):\\n            result.append(i)\\n    else:\\n        print(\"떼끼\")\\n    return result',\n",
       " '_i92': 'def range2(*args):\\n    length = len(args)\\n    result = []\\n    if length ==0:\\n        raise Exception(\\'매개변수가 없으면 안 돼\\')\\n    elif length == 1:      #0부터10앞까지 리스트를 만들어 \\n        for i in range(args[0]):  #range(10) 따라서 0부터 9번째방까지 돈다 \\n            result.append(i)      #result를 return \\n    elif length == 2:\\n        for i in range(args[0],args[1]):\\n            result.append(i)\\n    elif length ==3:\\n        for i in range(args[0],args[1],args[2]):\\n            result.append(i)\\n    else:\\n        print(\"떼끼\")\\n    return result\\nprint(range2())',\n",
       " '_i93': 'def range2(*args):\\n    length = len(args)\\n    result = []\\n    if length ==0:\\n        raise Exception(\\'매개변수가 없으면 안 돼\\')\\n    elif length == 1:      #0부터10앞까지 리스트를 만들어 \\n        for i in range(args[0]):  #range(10) 따라서 0부터 9번째방까지 돈다 \\n            result.append(i)      #result를 return \\n    elif length == 2:\\n        for i in range(args[0],args[1]):\\n            result.append(i)\\n    elif length ==3:\\n        for i in range(args[0],args[1],args[2]):\\n            result.append(i)\\n    else:\\n        print(\"떼끼\")\\n    return result\\nprint(range2(10))',\n",
       " '_i94': 'def range2(*args):\\n    length = len(args)\\n    result = []\\n    if length ==0:\\n        raise Exception(\\'매개변수가 없으면 안 돼\\')\\n    elif length == 1:      #0부터10앞까지 리스트를 만들어 \\n        for i in range(args[0]):  #range(10) 따라서 0부터 9번째방까지 돈다 \\n            result.append(i)      #result를 return \\n    elif length == 2:\\n        for i in range(args[0],args[1]):\\n            result.append(i)\\n    elif length ==3:\\n        for i in range(args[0],args[1],args[2]):\\n            result.append(i)\\n    else:\\n        print(\"떼끼\")\\n        return\\n    return result\\nprint(range2(10))      #length1로 빠짐\\nprint(range2(5,10))\\nprint(range2(5,10,2))\\nprint(range2(1,2,3,4))',\n",
       " '_i95': 't = (5,10,2)\\nrange2(t)',\n",
       " 't': (5, 10, 2),\n",
       " '_i96': 't = (5,10,2)\\nrange2(*t)  # *추가해서 unpacking',\n",
       " '_96': [5, 7, 9],\n",
       " '_i97': \"def func5(**data):\\n    for item in data.items():\\n        print(item)\\nfunc5(name='홍길동',age=30, address='마포')\",\n",
       " '_i98': \"customerInfo= {'name':'홍길동','age':30, 'address'='마포'}\",\n",
       " '_i99': \"customerInfo= {'name':'홍길동','age':30, 'address':'마포'}\\nfunc5(customerInfo)\",\n",
       " 'customerInfo': {'name': '홍길동', 'age': 30, 'address': '마포'},\n",
       " '_i100': \"customerInfo= {'name':'홍길동','age':30, 'address':'마포'}  #dictionary 데이터가packing되었기때문에. \\n#func5(customerInfo)\\nfunc5(**customerInfo)\",\n",
       " '_i101': 'l = [1,2,3]\\n[x**3 for x in l]',\n",
       " 'l': [1, 2, 3],\n",
       " '_101': [1, 8, 27],\n",
       " '_i102': 'def add(a,b):\\n    return a+b\\nadd(5,6)',\n",
       " '_102': 11,\n",
       " '_i103': 'add',\n",
       " '_103': <function __main__.add(a, b)>,\n",
       " '_i104': 'type(add)',\n",
       " '_104': function,\n",
       " '_i105': 'add2 = lambda a,b : a+b',\n",
       " 'add2': <function __main__.<lambda>(a, b)>,\n",
       " '_i106': 'add2',\n",
       " '_106': <function __main__.<lambda>(a, b)>,\n",
       " '_i107': 'add2(10,20)',\n",
       " '_107': 30,\n",
       " '_i108': '(lambda a,b : a+b)(30,40)',\n",
       " '_108': 70,\n",
       " '_i109': 'def map_template(func,L=[]):\\n    result = []\\n    for item in L:\\n        result.append(func(item))       #0방 가져와서 1를 2배로 띄어  1,4,6을 result에 넣어\\n    return result',\n",
       " 'map_template': <function __main__.map_template(func, L=[])>,\n",
       " '_i110': 'map_template(2배로함수,[1.2.3])',\n",
       " '_i111': 'map_template(lambda x : x*2, list_data)',\n",
       " '_i112': 'list_data =[1,2,3,4,5]\\ndef x_2(x):\\n    return x*2 \\nmap_template(x_2, list_data)       #function(함수있데 변수처럼 쓸 수 있다), list_data\\n                            #',\n",
       " 'list_data': [1, 2, 3, 4, 5],\n",
       " 'x_2': <function __main__.x_2(x)>,\n",
       " '_112': [2, 4, 6, 8, 10],\n",
       " '_i113': 'map_template(lambda x : x*2, list_data)',\n",
       " '_113': [2, 4, 6, 8, 10],\n",
       " '_i114': '#map()함수이용\\nlist(map(lambda x:x*2, list_data))',\n",
       " '_114': [2, 4, 6, 8, 10],\n",
       " '_i115': '#리스트 컴피르핸션\\n[for x inllist_data]',\n",
       " '_i116': '#리스트 컴피르핸션\\nfor [x inllist_data]',\n",
       " '_i117': '#리스트 컴피르핸션\\n[x*2for x inllist_data]',\n",
       " '_i118': '#리스트 컴피르핸션\\n[x*2 for x inllist_data]',\n",
       " '_i119': '#리스트 컴피르핸션\\n[x*2 for x in list_data]',\n",
       " '_119': [2, 4, 6, 8, 10],\n",
       " '_i120': 'list_data = [2.3.4]',\n",
       " '_i121': 'def everuserama(x)',\n",
       " '_i122': '#리스트 컴프래핸션\\n2.o j \\n [x for x i n list_data if x%2==0]',\n",
       " '_i123': \"# 기본변수가 list, set, dictionary 또는 객체일때 함수를 호출 후 다시 전달\\nlist_ = []\\ndef func3(a,L=list_):   #기본값이 변수로       *********#L=list_  객체변수 (주소가 1번세팅)  | 세칼라변수 '값세팅'*******\\n    L.append(a)\\n    return L\\nprint(func3(1,list_))    #list값바뀜    # 원래 빈 리스트, 2번째값 자동적으로 기본값. list_=[] 빈스트링. 3을 return해서 1 만 나옴\\nprint(list_)\\n#####################???????????##########\",\n",
       " '_i124': 'print(func3(2))\\nprint(list_)   #####2가 계속 늘어남 ###############???????????????',\n",
       " '_i125': 'list_data = [1,2,3,4,5]\\ndef filter_template(func, L=[]):\\n    result = []\\n    for item in L:\\n        if func(item):\\n            result.append(item)\\n    return result',\n",
       " 'filter_template': <function __main__.filter_template(func, L=[])>,\n",
       " '_i126': 'def evenyesorno(x):\\n    if x%2==0:\\n        return True\\nfilter_template(evenyesorno, list_data)',\n",
       " 'evenyesorno': <function __main__.evenyesorno(x)>,\n",
       " '_126': [2, 4],\n",
       " '_i127': 'filter_template(lambda x : x%2==0, list_data)',\n",
       " '_127': [2, 4],\n",
       " '_i128': '# filter()함수 \\nlist(filter(lambda x : x%2==0, list_data))',\n",
       " '_128': [2, 4],\n",
       " '_i129': '# 리스트 컴프리헨션\\n[x for x in list_data if x%2==0]',\n",
       " '_129': [2, 4],\n",
       " '_i130': '#리스트 컴프래핸션\\n [x for x i n list_data if x%2==0]',\n",
       " '_i131': '#리스트 컴프래핸션\\n[x for x in list_data if x%2==0]',\n",
       " '_131': [2, 4],\n",
       " '_i132': \"pairs=[(1,'one'),(3,'three'),(2,'two'),(4,'four')]\",\n",
       " 'pairs': [(4, 'four'), (1, 'one'), (3, 'three'), (2, 'two')],\n",
       " '_i133': \"pairs=[(1,'one'),(3,'three'),(2,'two'),(4,'four')]\\npairs.sort()\\npairs\",\n",
       " '_133': [(4, 'four'), (1, 'one'), (3, 'three'), (2, 'two')],\n",
       " '_i134': '(lambda pair: pair[1])([10,20,30])    #그중 1번째방 아이만 가져와',\n",
       " '_134': 20,\n",
       " '_i135': 'pairs.sort(key=lambda pair: pair[1])   #pairs.sort(*, key=None, reverse=False) 오름차순 \\n                                       #Sort the list in ascending order and return None.\\npairs',\n",
       " '_135': [(4, 'four'), (1, 'one'), (3, 'three'), (2, 'two')],\n",
       " '_i136': 'def apply(data,func =None):\\n    if func == None:\\n        return data\\n    else:\\n        return func(data)\\napply(100,lambda x:x**3)',\n",
       " 'apply': <function __main__.apply(data, func=None)>,\n",
       " '_136': 1000000,\n",
       " '_i137': 'def make_box(shape):\\n    def box(init_value):\\n        if len(shape)==1:                    #1차원******\\n            return [init_value]*shape[0]    # [10,10,10,10,10]\\n        elif len(shape)==2:\\n            return[ [init_value]*shape[1] ] *shape[0]\\n    return box',\n",
       " 'make_box': <function __main__.make_box(shape)>,\n",
       " '_i138': 'box1 = make_box([5,])',\n",
       " 'box1': <function __main__.make_box1.<locals>.<lambda>(x)>,\n",
       " '_i139': 'type(box1)',\n",
       " '_139': function,\n",
       " '_i140': 'box1(10)         #(위:1차원으로 만들어라 )  여기서 value를 10을 넣어라 ',\n",
       " '_140': [10, 10, 10, 10, 10],\n",
       " '_i141': 'box2= make_box([2,3])\\nbox2(10)',\n",
       " 'box2': <function __main__.make_box1.<locals>.<lambda>(x)>,\n",
       " '_141': [[10, 10, 10], [10, 10, 10]],\n",
       " '_i142': 'def make_box1(shape):\\n    if len(shape)==1:\\n        return lambda x : [x]*shape[0]                #1차원 배열 return         initvalue받아서 shape0방 만큼  list를 만든 익명함수가됨\\n    else len(shape)==2 :\\n        return lambda x : [[x]*shape[1]] *shape[0]\\n\\n    ',\n",
       " '_i143': 'def make_box1(shape):\\n    if len(shape)==1:\\n        return lambda x : [x]*shape[0]                #1차원 배열 return         initvalue받아서 shape0방 만큼  list를 만든 익명함수가됨\\n    elif len(shape)==2 :\\n        return lambda x : [[x]*shape[1]] *shape[0]\\n\\n    ',\n",
       " 'make_box1': <function __main__.make_box1(shape)>,\n",
       " '_i144': 'box1 = make_box1((3,2))\\nbox1(5)',\n",
       " '_144': [[5, 5], [5, 5], [5, 5]],\n",
       " '_i145': 'box2 = make_box1((7,) )\\nbox2(10)',\n",
       " '_145': [10, 10, 10, 10, 10, 10, 10],\n",
       " '_i146': 'int(\"1\")',\n",
       " '_146': 1,\n",
       " '_i147': 'int(\"1.2\")',\n",
       " '_i148': 'int(float(\"1.2\"))',\n",
       " '_148': 1,\n",
       " '_i149': 'globals() #전역변수들list',\n",
       " '_149': {...},\n",
       " '_i150': 'var = 10\\nglobals() #전역변수들 dictionary ',\n",
       " 'var': 10}"
      ]
     },
     "execution_count": 150,
     "metadata": {},
     "output_type": "execute_result"
    }
   ],
   "source": [
    "var = 10\n",
    "globals() #전역변수들 dictionary "
   ]
  },
  {
   "cell_type": "code",
   "execution_count": 151,
   "metadata": {
    "ExecuteTime": {
     "end_time": "2021-02-24T07:18:19.188051Z",
     "start_time": "2021-02-24T07:18:19.181051Z"
    }
   },
   "outputs": [
    {
     "name": "stdout",
     "output_type": "stream",
     "text": [
      "{'n': 5, 'L': [0, 1, 2, 3, 4], 'i': 4}\n"
     ]
    },
    {
     "data": {
      "text/plain": [
       "[0, 1, 2, 3, 4]"
      ]
     },
     "execution_count": 151,
     "metadata": {},
     "output_type": "execute_result"
    }
   ],
   "source": [
    "def abc(n):      #매개변수로 들어온 수 5 [0,1,2,3,4]\n",
    "    L =[]\n",
    "    for i in range(n):      #0-4까지\n",
    "        L.append(i)         #0,1,2,3,4, L에 append\n",
    "    print(locals())         #지역변수들 출력 \n",
    "    return L \n",
    "abc(5)"
   ]
  },
  {
   "cell_type": "code",
   "execution_count": 152,
   "metadata": {
    "ExecuteTime": {
     "end_time": "2021-02-24T07:19:41.761954Z",
     "start_time": "2021-02-24T07:19:41.757986Z"
    }
   },
   "outputs": [
    {
     "data": {
      "text/plain": [
       "True"
      ]
     },
     "execution_count": 152,
     "metadata": {},
     "output_type": "execute_result"
    }
   ],
   "source": [
    "isinstance(3.5, float)"
   ]
  },
  {
   "cell_type": "code",
   "execution_count": 153,
   "metadata": {
    "ExecuteTime": {
     "end_time": "2021-02-24T07:22:03.731578Z",
     "start_time": "2021-02-24T07:22:03.726612Z"
    }
   },
   "outputs": [],
   "source": [
    "class Test: \n",
    "    def __init__(self,a,b):\n",
    "        self.a = a\n",
    "        self.b = b\n",
    "    def print_info(self):\n",
    "        print(self.a, self.b)"
   ]
  },
  {
   "cell_type": "code",
   "execution_count": 154,
   "metadata": {
    "ExecuteTime": {
     "end_time": "2021-02-24T07:22:52.508817Z",
     "start_time": "2021-02-24T07:22:52.504844Z"
    }
   },
   "outputs": [
    {
     "name": "stdout",
     "output_type": "stream",
     "text": [
      "10 8\n"
     ]
    }
   ],
   "source": [
    "t = Test(10,8)  # t.a=10, t.b=8\n",
    "t.print_info()"
   ]
  },
  {
   "cell_type": "code",
   "execution_count": 155,
   "metadata": {
    "ExecuteTime": {
     "end_time": "2021-02-24T07:23:02.970843Z",
     "start_time": "2021-02-24T07:23:02.965857Z"
    }
   },
   "outputs": [
    {
     "data": {
      "text/plain": [
       "True"
      ]
     },
     "execution_count": 155,
     "metadata": {},
     "output_type": "execute_result"
    }
   ],
   "source": [
    "isinstance(t,Test) #isinstance 객체에서 많이 쓴다 "
   ]
  },
  {
   "cell_type": "code",
   "execution_count": 156,
   "metadata": {
    "ExecuteTime": {
     "end_time": "2021-02-24T07:23:45.209157Z",
     "start_time": "2021-02-24T07:23:45.204170Z"
    }
   },
   "outputs": [
    {
     "data": {
      "text/plain": [
       "['__class__',\n",
       " '__delattr__',\n",
       " '__dict__',\n",
       " '__dir__',\n",
       " '__doc__',\n",
       " '__eq__',\n",
       " '__format__',\n",
       " '__ge__',\n",
       " '__getattribute__',\n",
       " '__gt__',\n",
       " '__hash__',\n",
       " '__init__',\n",
       " '__init_subclass__',\n",
       " '__le__',\n",
       " '__lt__',\n",
       " '__module__',\n",
       " '__ne__',\n",
       " '__new__',\n",
       " '__reduce__',\n",
       " '__reduce_ex__',\n",
       " '__repr__',\n",
       " '__setattr__',\n",
       " '__sizeof__',\n",
       " '__str__',\n",
       " '__subclasshook__',\n",
       " '__weakref__',\n",
       " 'a',\n",
       " 'b',\n",
       " 'print_info']"
      ]
     },
     "execution_count": 156,
     "metadata": {},
     "output_type": "execute_result"
    }
   ],
   "source": [
    "dir(t)"
   ]
  },
  {
   "cell_type": "code",
   "execution_count": 157,
   "metadata": {
    "ExecuteTime": {
     "end_time": "2021-02-24T07:25:10.866672Z",
     "start_time": "2021-02-24T07:25:10.861685Z"
    }
   },
   "outputs": [
    {
     "data": {
      "text/plain": [
       "[(0, 10), (1, 20), (2, 30)]"
      ]
     },
     "execution_count": 157,
     "metadata": {},
     "output_type": "execute_result"
    }
   ],
   "source": [
    "list(enumerate([10,20,30]))   #index와 같이 반환"
   ]
  },
  {
   "cell_type": "code",
   "execution_count": 158,
   "metadata": {
    "ExecuteTime": {
     "end_time": "2021-02-24T07:25:52.753663Z",
     "start_time": "2021-02-24T07:25:52.748695Z"
    }
   },
   "outputs": [
    {
     "data": {
      "text/plain": [
       "False"
      ]
     },
     "execution_count": 158,
     "metadata": {},
     "output_type": "execute_result"
    }
   ],
   "source": [
    "all([0,1,2,3])  #다 true인지      #0이포함되있어서 false로 나옴"
   ]
  },
  {
   "cell_type": "code",
   "execution_count": 159,
   "metadata": {
    "ExecuteTime": {
     "end_time": "2021-02-24T07:26:13.001333Z",
     "start_time": "2021-02-24T07:26:12.996346Z"
    }
   },
   "outputs": [
    {
     "data": {
      "text/plain": [
       "True"
      ]
     },
     "execution_count": 159,
     "metadata": {},
     "output_type": "execute_result"
    }
   ],
   "source": [
    "any([0,1,2,3])"
   ]
  },
  {
   "cell_type": "code",
   "execution_count": 160,
   "metadata": {
    "ExecuteTime": {
     "end_time": "2021-02-24T07:26:24.870380Z",
     "start_time": "2021-02-24T07:26:24.865420Z"
    }
   },
   "outputs": [
    {
     "data": {
      "text/plain": [
       "(4, 3.7)"
      ]
     },
     "execution_count": 160,
     "metadata": {},
     "output_type": "execute_result"
    }
   ],
   "source": [
    "round(3.69), round(3.69,1)     #  3.69 를 소수점1자리수까지 round"
   ]
  },
  {
   "cell_type": "code",
   "execution_count": 164,
   "metadata": {
    "ExecuteTime": {
     "end_time": "2021-02-24T07:47:17.498990Z",
     "start_time": "2021-02-24T07:47:17.494004Z"
    }
   },
   "outputs": [
    {
     "data": {
      "text/plain": [
       "(3.0, 4.0, 4.0)"
      ]
     },
     "execution_count": 164,
     "metadata": {},
     "output_type": "execute_result"
    }
   ],
   "source": [
    "import numpy as np\n",
    "np.floor(3.67),np.ceil(3.67), np.round(3.67)"
   ]
  },
  {
   "cell_type": "markdown",
   "metadata": {},
   "source": [
    "# 6. 연습문제 -실습형 문제 1번부터11번 (p53)"
   ]
  },
  {
   "cell_type": "code",
   "execution_count": null,
   "metadata": {},
   "outputs": [],
   "source": [
    "# cho5_연슨문제 파일 봐 "
   ]
  },
  {
   "cell_type": "code",
   "execution_count": null,
   "metadata": {},
   "outputs": [],
   "source": []
  },
  {
   "cell_type": "code",
   "execution_count": null,
   "metadata": {},
   "outputs": [],
   "source": []
  },
  {
   "cell_type": "code",
   "execution_count": null,
   "metadata": {},
   "outputs": [],
   "source": []
  },
  {
   "cell_type": "code",
   "execution_count": null,
   "metadata": {},
   "outputs": [],
   "source": []
  },
  {
   "cell_type": "code",
   "execution_count": null,
   "metadata": {},
   "outputs": [],
   "source": []
  },
  {
   "cell_type": "code",
   "execution_count": null,
   "metadata": {},
   "outputs": [],
   "source": []
  }
 ],
 "metadata": {
  "kernelspec": {
   "display_name": "Python 3",
   "language": "python",
   "name": "python3"
  },
  "language_info": {
   "codemirror_mode": {
    "name": "ipython",
    "version": 3
   },
   "file_extension": ".py",
   "mimetype": "text/x-python",
   "name": "python",
   "nbconvert_exporter": "python",
   "pygments_lexer": "ipython3",
   "version": "3.8.5"
  },
  "toc": {
   "base_numbering": 1,
   "nav_menu": {},
   "number_sections": false,
   "sideBar": true,
   "skip_h1_title": false,
   "title_cell": "Table of Contents",
   "title_sidebar": "Contents",
   "toc_cell": false,
   "toc_position": {},
   "toc_section_display": true,
   "toc_window_display": true
  },
  "varInspector": {
   "cols": {
    "lenName": 16,
    "lenType": 16,
    "lenVar": 40
   },
   "kernels_config": {
    "python": {
     "delete_cmd_postfix": "",
     "delete_cmd_prefix": "del ",
     "library": "var_list.py",
     "varRefreshCmd": "print(var_dic_list())"
    },
    "r": {
     "delete_cmd_postfix": ") ",
     "delete_cmd_prefix": "rm(",
     "library": "var_list.r",
     "varRefreshCmd": "cat(var_dic_list()) "
    }
   },
   "types_to_exclude": [
    "module",
    "function",
    "builtin_function_or_method",
    "instance",
    "_Feature"
   ],
   "window_display": false
  }
 },
 "nbformat": 4,
 "nbformat_minor": 4
}

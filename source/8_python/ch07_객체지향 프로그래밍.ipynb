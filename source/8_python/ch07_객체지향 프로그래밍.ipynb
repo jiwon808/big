{
 "cells": [
  {
   "cell_type": "markdown",
   "metadata": {},
   "source": [
    "# ch07.객체지향 프로그래밍"
   ]
  },
  {
   "cell_type": "markdown",
   "metadata": {},
   "source": [
    "## 1절. 객체와 클라스\n",
    "<pre>\n",
    "class 클래스명(상속받을 클래스명):\n",
    "    함수나 변수들 선언 \n"
   ]
  },
  {
   "cell_type": "code",
   "execution_count": 2,
   "metadata": {
    "ExecuteTime": {
     "end_time": "2021-02-25T08:20:16.980399Z",
     "start_time": "2021-02-25T08:20:16.977406Z"
    }
   },
   "outputs": [],
   "source": [
    "class Person:\n",
    "    \"Person 클래스\"\n",
    "    pass\n",
    "p1 = Person()"
   ]
  },
  {
   "cell_type": "code",
   "execution_count": 3,
   "metadata": {
    "ExecuteTime": {
     "end_time": "2021-02-25T08:20:43.875444Z",
     "start_time": "2021-02-25T08:20:43.865470Z"
    }
   },
   "outputs": [
    {
     "data": {
      "text/plain": [
       "__main__.Person"
      ]
     },
     "execution_count": 3,
     "metadata": {},
     "output_type": "execute_result"
    }
   ],
   "source": [
    "type(p1)   #Person  타입 "
   ]
  },
  {
   "cell_type": "code",
   "execution_count": 4,
   "metadata": {
    "ExecuteTime": {
     "end_time": "2021-02-25T08:21:00.376995Z",
     "start_time": "2021-02-25T08:21:00.373998Z"
    }
   },
   "outputs": [
    {
     "name": "stdout",
     "output_type": "stream",
     "text": [
      "<__main__.Person object at 0x000002352C7411F0>\n"
     ]
    }
   ],
   "source": [
    "print(p1)"
   ]
  },
  {
   "cell_type": "code",
   "execution_count": 5,
   "metadata": {
    "ExecuteTime": {
     "end_time": "2021-02-25T08:21:44.653249Z",
     "start_time": "2021-02-25T08:21:44.648263Z"
    }
   },
   "outputs": [
    {
     "data": {
      "text/plain": [
       "True"
      ]
     },
     "execution_count": 5,
     "metadata": {},
     "output_type": "execute_result"
    }
   ],
   "source": [
    "isinstance(p1,Person)"
   ]
  },
  {
   "cell_type": "code",
   "execution_count": 6,
   "metadata": {
    "ExecuteTime": {
     "end_time": "2021-02-25T08:22:02.455999Z",
     "start_time": "2021-02-25T08:22:02.452008Z"
    }
   },
   "outputs": [
    {
     "name": "stdout",
     "output_type": "stream",
     "text": [
      "Person 클래스\n"
     ]
    }
   ],
   "source": [
    "print(p1.__doc__)"
   ]
  },
  {
   "cell_type": "markdown",
   "metadata": {},
   "source": [
    "# 2절. 변수와 메소드\n",
    "- 일반변수, static변수, 일반 메소드, static메소드, 클래스메소드 "
   ]
  },
  {
   "cell_type": "code",
   "execution_count": 11,
   "metadata": {
    "ExecuteTime": {
     "end_time": "2021-02-25T08:39:39.402549Z",
     "start_time": "2021-02-25T08:39:39.398559Z"
    }
   },
   "outputs": [
    {
     "name": "stdout",
     "output_type": "stream",
     "text": [
      "홍길동 남자\n"
     ]
    }
   ],
   "source": [
    "# 변수 추가\n",
    "class Person:\n",
    "    name =\"홍길동\"\n",
    "    gender =\"남자\"\n",
    "p1 = Person()\n",
    "print(p1.name,p1.gender) #p1,p2는 class Person을 참조 "
   ]
  },
  {
   "cell_type": "code",
   "execution_count": 12,
   "metadata": {
    "ExecuteTime": {
     "end_time": "2021-02-25T08:39:41.118898Z",
     "start_time": "2021-02-25T08:39:41.114908Z"
    }
   },
   "outputs": [
    {
     "name": "stdout",
     "output_type": "stream",
     "text": [
      "이순신 남자\n"
     ]
    }
   ],
   "source": [
    "p2 = Person() \n",
    "p2.name=\"이순신\"\n",
    "print(p2.name,p2.gender)"
   ]
  },
  {
   "cell_type": "code",
   "execution_count": 14,
   "metadata": {
    "ExecuteTime": {
     "end_time": "2021-02-25T08:40:58.103853Z",
     "start_time": "2021-02-25T08:40:58.100861Z"
    }
   },
   "outputs": [],
   "source": [
    "Person.name=\"리사\"\n",
    "Person.gender=\"여자\""
   ]
  },
  {
   "cell_type": "code",
   "execution_count": 15,
   "metadata": {
    "ExecuteTime": {
     "end_time": "2021-02-25T08:41:00.233589Z",
     "start_time": "2021-02-25T08:41:00.229603Z"
    }
   },
   "outputs": [
    {
     "name": "stdout",
     "output_type": "stream",
     "text": [
      "리사 여자\n",
      "이순신 여자\n"
     ]
    }
   ],
   "source": [
    "print(p1.name,p1.gender) \n",
    "print(p2.name,p2.gender)          ###############? 노트 복습    자바와 달라 "
   ]
  },
  {
   "cell_type": "code",
   "execution_count": null,
   "metadata": {},
   "outputs": [],
   "source": [
    "#p1바꾼적없으면. person class별개인 이름이 세팅  #######그림찾아 !!!##########33???"
   ]
  },
  {
   "cell_type": "code",
   "execution_count": 16,
   "metadata": {
    "ExecuteTime": {
     "end_time": "2021-02-25T08:43:42.364348Z",
     "start_time": "2021-02-25T08:43:42.359360Z"
    }
   },
   "outputs": [
    {
     "name": "stdout",
     "output_type": "stream",
     "text": [
      "리사 여자\n",
      "신길동 남자\n",
      "이순신 여자\n"
     ]
    }
   ],
   "source": [
    "p1.name=\"신길동\"\n",
    "p1.gender=\"남자\"\n",
    "print(Person.name, Person.gender)\n",
    "print(p1.name,p1.gender) \n",
    "print(p2.name,p2.gender) "
   ]
  },
  {
   "cell_type": "code",
   "execution_count": 17,
   "metadata": {
    "ExecuteTime": {
     "end_time": "2021-02-25T08:46:40.733380Z",
     "start_time": "2021-02-25T08:46:40.728412Z"
    }
   },
   "outputs": [
    {
     "name": "stdout",
     "output_type": "stream",
     "text": [
      "홍길동 남자\n",
      "Person 메소드입니다\n"
     ]
    }
   ],
   "source": [
    "1. # 메소드 추가\n",
    "#Person형 객체변수. 이 아이는 안바뀌고, 새로만든 그 아이만 바뀜\n",
    "class Person:\n",
    "    name= \"홍길동\"\n",
    "    gender = \"남자\"\n",
    "    def print_info():\n",
    "        print(\"Person 메소드입니다\")\n",
    "print(Person.name, Person.gender)\n",
    "Person.print_info()"
   ]
  },
  {
   "cell_type": "code",
   "execution_count": null,
   "metadata": {},
   "outputs": [],
   "source": [
    "그림\n",
    "##Person\n",
    "\n",
    "#n\n",
    "#g\n",
    "#print_info (함수형 변수) (data형 메소드)"
   ]
  },
  {
   "cell_type": "code",
   "execution_count": 18,
   "metadata": {
    "ExecuteTime": {
     "end_time": "2021-02-25T08:50:47.689003Z",
     "start_time": "2021-02-25T08:50:47.684041Z"
    }
   },
   "outputs": [
    {
     "name": "stdout",
     "output_type": "stream",
     "text": [
      "이순신 남자\n",
      "홍길동 남자\n"
     ]
    }
   ],
   "source": [
    "p1= Person()   #p1객체 만들고\n",
    "p1.name=\"이순신\" #p1.name 바꾸고  \n",
    "print(p1.name, p1.gender)   #홍길동이 이순신으로 바뀌는게 아님 .  class Person영역과 person1영역은 따로 논다 \n",
    "                            #two seperate circles\n",
    "print(Person.name, Person.gender)\n",
    "\n",
    "\n",
    "   ##Person\n",
    "#n\n",
    "#g\n",
    "#p\n",
    "\n",
    "   ##p1\n",
    "#n \n",
    "#g  gender가 생기고. [link가 끊어져!!!***********]      #two seperate circles****************************\n",
    "#p \n"
   ]
  },
  {
   "cell_type": "code",
   "execution_count": null,
   "metadata": {},
   "outputs": [],
   "source": [
    "#왜 Person.print_info()는 출력되고, p1.print_info()는 안되는지 "
   ]
  },
  {
   "cell_type": "code",
   "execution_count": 19,
   "metadata": {
    "ExecuteTime": {
     "end_time": "2021-02-25T08:52:19.162837Z",
     "start_time": "2021-02-25T08:52:19.158872Z"
    }
   },
   "outputs": [
    {
     "name": "stdout",
     "output_type": "stream",
     "text": [
      "Person 메소드입니다\n"
     ]
    }
   ],
   "source": [
    "Person.print_info()"
   ]
  },
  {
   "cell_type": "code",
   "execution_count": 21,
   "metadata": {
    "ExecuteTime": {
     "end_time": "2021-02-25T08:52:35.569785Z",
     "start_time": "2021-02-25T08:52:35.560810Z"
    }
   },
   "outputs": [
    {
     "ename": "TypeError",
     "evalue": "print_info() takes 0 positional arguments but 1 was given",
     "output_type": "error",
     "traceback": [
      "\u001b[1;31m---------------------------------------------------------------------------\u001b[0m",
      "\u001b[1;31mTypeError\u001b[0m                                 Traceback (most recent call last)",
      "\u001b[1;32m<ipython-input-21-123b1e7cbd59>\u001b[0m in \u001b[0;36m<module>\u001b[1;34m\u001b[0m\n\u001b[1;32m----> 1\u001b[1;33m \u001b[0mp1\u001b[0m\u001b[1;33m.\u001b[0m\u001b[0mprint_info\u001b[0m\u001b[1;33m(\u001b[0m\u001b[1;33m)\u001b[0m\u001b[1;33m\u001b[0m\u001b[1;33m\u001b[0m\u001b[0m\n\u001b[0m",
      "\u001b[1;31mTypeError\u001b[0m: print_info() takes 0 positional arguments but 1 was given"
     ]
    }
   ],
   "source": [
    "p1.print_info()"
   ]
  },
  {
   "cell_type": "code",
   "execution_count": 28,
   "metadata": {
    "ExecuteTime": {
     "end_time": "2021-02-25T09:00:45.175317Z",
     "start_time": "2021-02-25T09:00:45.170330Z"
    }
   },
   "outputs": [
    {
     "name": "stdout",
     "output_type": "stream",
     "text": [
      "홍길동 남자\n",
      "리사는 30살이고 남자입니다\n"
     ]
    }
   ],
   "source": [
    "# 인스턴스 메소드 \n",
    "class Person:\n",
    "    name= \"홍길동\"\n",
    "    gender = \"남자\"\n",
    "    age = 30              \n",
    "    def print_info(self):    #객체만 실행가능한 메소드  = 인스턴스 메소드 \n",
    "        print(\"{}는 {}살이고 {}입니다\".format(self.name,self.age,self.gender))  \n",
    "                                        #####self를 포함하지 않으면, 객체단위로 실행이 안됨*********\n",
    "print(Person.name, Person.gender)\n",
    "p1 = Person()\n",
    "p1.name =\"리사\"    \n",
    "#p1.name 새로 값을 넣음  # class  circle이 존재. p1 circle은 class circlr를 복붙 --> 그후 p1.name=\"리사\" --> p1 circie안에서만 이 부분 바뀜\n",
    "p1.print_info()"
   ]
  },
  {
   "cell_type": "code",
   "execution_count": 22,
   "metadata": {
    "ExecuteTime": {
     "end_time": "2021-02-25T08:54:22.913062Z",
     "start_time": "2021-02-25T08:54:22.909073Z"
    }
   },
   "outputs": [],
   "source": [
    "def print_info():\n",
    "        print(\"Person 메소드입니다\")"
   ]
  },
  {
   "cell_type": "code",
   "execution_count": null,
   "metadata": {},
   "outputs": [],
   "source": [
    "#class공간, 객체 공간   --> two different circles           [이 점은 java와 다름 ]"
   ]
  },
  {
   "cell_type": "code",
   "execution_count": 30,
   "metadata": {
    "ExecuteTime": {
     "end_time": "2021-02-25T09:04:30.882644Z",
     "start_time": "2021-02-25T09:04:30.878654Z"
    }
   },
   "outputs": [
    {
     "data": {
      "text/plain": [
       "('리사', '남자', 30)"
      ]
     },
     "execution_count": 30,
     "metadata": {},
     "output_type": "execute_result"
    }
   ],
   "source": [
    "p1.name,p1.gender,p1.age"
   ]
  },
  {
   "cell_type": "code",
   "execution_count": 32,
   "metadata": {
    "ExecuteTime": {
     "end_time": "2021-02-25T09:04:43.706596Z",
     "start_time": "2021-02-25T09:04:43.701630Z"
    }
   },
   "outputs": [
    {
     "data": {
      "text/plain": [
       "['__class__',\n",
       " '__delattr__',\n",
       " '__dict__',\n",
       " '__dir__',\n",
       " '__doc__',\n",
       " '__eq__',\n",
       " '__format__',\n",
       " '__ge__',\n",
       " '__getattribute__',\n",
       " '__gt__',\n",
       " '__hash__',\n",
       " '__init__',\n",
       " '__init_subclass__',\n",
       " '__le__',\n",
       " '__lt__',\n",
       " '__module__',\n",
       " '__ne__',\n",
       " '__new__',\n",
       " '__reduce__',\n",
       " '__reduce_ex__',\n",
       " '__repr__',\n",
       " '__setattr__',\n",
       " '__sizeof__',\n",
       " '__str__',\n",
       " '__subclasshook__',\n",
       " '__weakref__',\n",
       " 'age',\n",
       " 'gender',\n",
       " 'name',\n",
       " 'print_info']"
      ]
     },
     "execution_count": 32,
     "metadata": {},
     "output_type": "execute_result"
    }
   ],
   "source": [
    "dir(p1)    #directory"
   ]
  },
  {
   "cell_type": "markdown",
   "metadata": {},
   "source": [
    "<pre>\n",
    "**파이썬은 클래스(class) 와 객체(instance)의 이름 공간이 분리되어 있음**\n",
    "**클래스(class)와 객체(instance)의 변수명이 다를 수 있다**\n",
    "**동적으로 객체(instance)에 멤버 추가 가능**\n",
    "</pre>"
   ]
  },
  {
   "cell_type": "code",
   "execution_count": 33,
   "metadata": {
    "ExecuteTime": {
     "end_time": "2021-02-25T09:07:34.248007Z",
     "start_time": "2021-02-25T09:07:34.244015Z"
    }
   },
   "outputs": [],
   "source": [
    "p1.address= '마포구 신촌'\n",
    "p1.nickname='곰돌이푸'"
   ]
  },
  {
   "cell_type": "code",
   "execution_count": 34,
   "metadata": {
    "ExecuteTime": {
     "end_time": "2021-02-25T09:07:46.881679Z",
     "start_time": "2021-02-25T09:07:46.877722Z"
    }
   },
   "outputs": [
    {
     "name": "stdout",
     "output_type": "stream",
     "text": [
      "리사는 30살이고 남자입니다\n"
     ]
    }
   ],
   "source": [
    "p1.print_info()  ######위에 설정을   print(\"{}는 {}살이고 {}입니다\".format(self.name,self.age,self.gender))  이렇게함"
   ]
  },
  {
   "cell_type": "code",
   "execution_count": null,
   "metadata": {},
   "outputs": [],
   "source": [
    "# 클래스 메소드  vs. static 메소드 "
   ]
  },
  {
   "cell_type": "code",
   "execution_count": null,
   "metadata": {},
   "outputs": [],
   "source": []
  },
  {
   "cell_type": "code",
   "execution_count": null,
   "metadata": {},
   "outputs": [],
   "source": []
  },
  {
   "cell_type": "code",
   "execution_count": null,
   "metadata": {},
   "outputs": [],
   "source": []
  },
  {
   "cell_type": "code",
   "execution_count": null,
   "metadata": {},
   "outputs": [],
   "source": []
  },
  {
   "cell_type": "code",
   "execution_count": null,
   "metadata": {},
   "outputs": [],
   "source": []
  },
  {
   "cell_type": "code",
   "execution_count": null,
   "metadata": {},
   "outputs": [],
   "source": []
  }
 ],
 "metadata": {
  "kernelspec": {
   "display_name": "Python 3",
   "language": "python",
   "name": "python3"
  },
  "language_info": {
   "codemirror_mode": {
    "name": "ipython",
    "version": 3
   },
   "file_extension": ".py",
   "mimetype": "text/x-python",
   "name": "python",
   "nbconvert_exporter": "python",
   "pygments_lexer": "ipython3",
   "version": "3.8.5"
  },
  "toc": {
   "base_numbering": 1,
   "nav_menu": {},
   "number_sections": false,
   "sideBar": true,
   "skip_h1_title": false,
   "title_cell": "Table of Contents",
   "title_sidebar": "Contents",
   "toc_cell": false,
   "toc_position": {},
   "toc_section_display": true,
   "toc_window_display": true
  },
  "varInspector": {
   "cols": {
    "lenName": 16,
    "lenType": 16,
    "lenVar": 40
   },
   "kernels_config": {
    "python": {
     "delete_cmd_postfix": "",
     "delete_cmd_prefix": "del ",
     "library": "var_list.py",
     "varRefreshCmd": "print(var_dic_list())"
    },
    "r": {
     "delete_cmd_postfix": ") ",
     "delete_cmd_prefix": "rm(",
     "library": "var_list.r",
     "varRefreshCmd": "cat(var_dic_list()) "
    }
   },
   "types_to_exclude": [
    "module",
    "function",
    "builtin_function_or_method",
    "instance",
    "_Feature"
   ],
   "window_display": false
  }
 },
 "nbformat": 4,
 "nbformat_minor": 4
}

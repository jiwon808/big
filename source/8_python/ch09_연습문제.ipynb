{
 "cells": [
  {
   "cell_type": "markdown",
   "metadata": {},
   "source": [
    "# 6절. 연습문제. 고객관리 애플리케이션"
   ]
  },
  {
   "cell_type": "code",
   "execution_count": 11,
   "metadata": {
    "ExecuteTime": {
     "end_time": "2021-03-02T08:38:42.162369Z",
     "start_time": "2021-03-02T08:38:42.156380Z"
    }
   },
   "outputs": [],
   "source": [
    "#필요한 클래스나 함수들 정의 \n",
    "class Customer:\n",
    "    def __init__(self, name, phone, email, age, grade, etc):\n",
    "        self.name = name\n",
    "        self.phone = phone\n",
    "        self.email = email\n",
    "        self.age = age\n",
    "        self.grade = grade\n",
    "        self.etc = etc\n",
    "    def as_dict(self): #csv파일 저장시 필요 \n",
    "        return{\"name\":self.name,\n",
    "               \"phone\":self.phone,\n",
    "              \"email\":self.email,\n",
    "              \"age\":self.age,\n",
    "              \"grade\":self.grade,\n",
    "              \"etc\":self.etc}\n",
    "    def to_list_style(self): #txt파일 저장시 필요 홍길동 9999-9999 2@hong.com\n",
    "        temp=[self.name,self.phone,self.email,str(self.age),str(self.grade),self.etc,'\\n']\n",
    "        return ' '.join(temp)\n",
    "    def __str__(self):\n",
    "        return \"{:>5}\\t{:3}\\t{:15}\\t{:15}\\t{:3}\\t{}\".format('*'*self.grade,self.name,self.phone,self.email,self.age,self.etc)\n"
   ]
  },
  {
   "cell_type": "code",
   "execution_count": 12,
   "metadata": {
    "ExecuteTime": {
     "end_time": "2021-03-02T08:38:43.410972Z",
     "start_time": "2021-03-02T08:38:43.406960Z"
    }
   },
   "outputs": [],
   "source": [
    "#txt파일 내용: 홀길동 010-9999-9999 h@hong.com 20 5 열심히\n",
    "#txt파일의 내용을 Customer 객체로 반환 \n",
    "#row는 txt파일 한 줄 읽는 내용: 홍길동 010-9999-9999 h@hong.com 20 5 열심히\n",
    "\n",
    "def to_customer(row):\n",
    "    data =row.strip().split(' ')\n",
    "    name=data[0]\n",
    "    phone=data[1]\n",
    "    email=data[2]\n",
    "    age=int(data[3])\n",
    "    grade=int(data[4])\n",
    "    etc=data[5]\n",
    "    return Customer(name,phone,email,age,grade,etc)"
   ]
  },
  {
   "cell_type": "code",
   "execution_count": null,
   "metadata": {},
   "outputs": [],
   "source": [
    "# binary file로 저장 \n",
    "\n",
    "#dictwriter\n",
    "#파일에 있는 line"
   ]
  },
  {
   "cell_type": "code",
   "execution_count": 13,
   "metadata": {
    "ExecuteTime": {
     "end_time": "2021-03-02T08:38:51.867309Z",
     "start_time": "2021-03-02T08:38:51.862324Z"
    }
   },
   "outputs": [],
   "source": [
    "#0. 실행하면서 customers 파일의 내용 load\n",
    "#파일이 있으면 한줄씩 읽어와 \n",
    "def load_customers():\n",
    "    customer_list=[]\n",
    "    try:\n",
    "        with open('data/ch09_customers.txt','r',encoding=\"UTF8\") as f:\n",
    "            lines=f.readlines()\n",
    "            for row in lines:\n",
    "                customer = to_customer(row)\n",
    "                customer_list.append(customer)\n",
    "        print('데이터가 로드 되었습니다')\n",
    "    except FileNotFoundError:\n",
    "        print('데이터 파일이 없어 초기화하였습니다.')\n",
    "        f=open('data/ch09_customers.txt','w',encoding=\"UTF8\")\n",
    "        f.write('')\n",
    "        f.close()\n",
    "    return customer_list"
   ]
  },
  {
   "cell_type": "code",
   "execution_count": 14,
   "metadata": {
    "ExecuteTime": {
     "end_time": "2021-03-02T08:38:58.174511Z",
     "start_time": "2021-03-02T08:38:58.169522Z"
    }
   },
   "outputs": [
    {
     "name": "stdout",
     "output_type": "stream",
     "text": [
      "데이터 파일이 없어 초기화하였습니다.\n"
     ]
    }
   ],
   "source": [
    "for cust in load_customers():\n",
    "    print(cust)"
   ]
  },
  {
   "cell_type": "code",
   "execution_count": 15,
   "metadata": {
    "ExecuteTime": {
     "end_time": "2021-03-02T08:39:14.008989Z",
     "start_time": "2021-03-02T08:39:14.003005Z"
    }
   },
   "outputs": [],
   "source": [
    "#1. 입력\n",
    "def insert_customer_info():\n",
    "    name= input(\"이름: \")\n",
    "    phone= input(\"전화번호: \")\n",
    "    email= input(\"이메일: \")\n",
    "    try:                                          #숫자가 아닌 것을 입력한것을 대비\n",
    "        age = int(input(\"나이: \"))\n",
    "    except ValueError as e:\n",
    "        print(\"유효하지 않은 나이 입력시 나이는 0으로 초기화\")\n",
    "        age = 0\n",
    "    try:\n",
    "        grade = int(input(\"고객등급(1~5): \"))     #큰 틀-> 세부틀로\n",
    "        if grade < 1:\n",
    "            grade = 1\n",
    "        if grade >5:\n",
    "            grade = 5\n",
    "    except ValueError as e:\n",
    "        print(\"유효하지 않은 등급을 입력시 등급은 1로 초기화\")\n",
    "        grade =1\n",
    "    etc = input(\"기타 정보: \")\n",
    "    customer = Customer(name,phone,email,age,grade,etc)\n",
    "    return customer"
   ]
  },
  {
   "cell_type": "code",
   "execution_count": 16,
   "metadata": {
    "ExecuteTime": {
     "end_time": "2021-03-02T08:39:16.749207Z",
     "start_time": "2021-03-02T08:39:16.744219Z"
    }
   },
   "outputs": [],
   "source": [
    "#2 전체 출력\n",
    "def print_customers(customer_list):\n",
    "    print('='*70)\n",
    "    print(\"{:^70}\".format(\"고객 정보\")) #70글자 중에 '고객정보'가 가운데 정렬해서 나옴\n",
    "    print('-'*70)\n",
    "    print(\"{}\\t{}\\t{}\\t\\t{}\\t\\t\\t{}\\t{}\".format(\"GRADE\",\"이름\",\"전화\",\"메일\",\"나이\",\"기타\"))\n",
    "    \n",
    "    print('='*70)\n",
    "    for customer in customer_list:\n",
    "        print(customer)\n",
    "    print('='*70)"
   ]
  },
  {
   "cell_type": "code",
   "execution_count": 18,
   "metadata": {
    "ExecuteTime": {
     "end_time": "2021-03-02T08:39:51.706072Z",
     "start_time": "2021-03-02T08:39:51.700088Z"
    }
   },
   "outputs": [],
   "source": [
    "#3. 삭제 \n",
    "def delete_customer(customer_list):\n",
    "    name = input('삭제할 이름은? ')\n",
    "    delete_flag = False\n",
    "    delete_idx = []\n",
    "    for i , customer in enumerate(customer_list):\n",
    "        #삭제할 이름과 같은 data의 index를 delete_idx에 추가 (동명이인 고려)\n",
    "        if customer.name==name:\n",
    "            delete_idx.append(i)       # 뒤에 있는 것 부터 지워야. 큰idx부터 지워 \n",
    "    #끝 idx부터 지워야 동명이인일 경우 제대로 작동 \n",
    "    for i in range(len(delete_idx)-1,-1,-1):   # 0,1  length2  \n",
    "                                                # length-1   |   -1(-1전까지-->0,1)   *****************\n",
    "                                                #\"from               to                   by \" \n",
    "        del customer_list[delete_idx[i]]\n",
    "        delete_flag = True\n",
    "    if delete_flag:\n",
    "        print('\\\"{}\\\" 님을 삭제하였습니다'.format(name))   #\"\"를 나오게 하기 위해서 앞에다 \\추가   --> \\\"   이렇게\n",
    "    else:\n",
    "        print('\\\"{}\\\" 님이 데이터에 존재하지 않습니다'.format(name))  #0번째 아이를 지우면 1번이 다시 또 0번이됨. 따라서 큰idx먼저"
   ]
  },
  {
   "cell_type": "code",
   "execution_count": null,
   "metadata": {
    "ExecuteTime": {
     "start_time": "2021-03-02T08:51:50.232Z"
    }
   },
   "outputs": [],
   "source": [
    "#4 이름 찾기 (동명이인도 모두 검색)\n",
    "def search_customer(customer_list):\n",
    "    name=input(\"찾아야할 이름은?\")\n",
    "    search_result=[]\n",
    "    for customer in customer_list:\n",
    "        if customer.name == name:\n",
    "            search_result.append(customer)\n",
    "    if len(search_result)==0:\n",
    "        print(\"검색한 고객이 데이터에 존재하지 않습니다\")\n",
    "    else:\n",
    "        for customer in search_result:\n",
    "            print(customer)\n"
   ]
  },
  {
   "cell_type": "code",
   "execution_count": 20,
   "metadata": {
    "ExecuteTime": {
     "end_time": "2021-03-02T08:43:25.990349Z",
     "start_time": "2021-03-02T08:43:25.984389Z"
    }
   },
   "outputs": [],
   "source": [
    "#5 내보내기 (CSV)\n",
    "def save_customer_csv(customer_list):\n",
    "    import csv\n",
    "    fieldnames =[\"name\",\"phone\",\"email\",\"age\",\"grade\",\"etc\"]\n",
    "    customer_dict_list=[]\n",
    "    for customer in customer_list:\n",
    "        customer_dict_list.append(customer.as_dict())\n",
    "    filename=input('저장할 파일 이름은?')\n",
    "    try:\n",
    "        with open(\"data/\"+filename,\"w\",newline='',encoding=\"UTF-8\") as f:\n",
    "            dict_writer = csv.DictWriter(f,fieldnames=fieldnames)\n",
    "            dict_writer.writerheader()\n",
    "            dict_writer.writerows(customer_dict_list)\n",
    "    except Exception as e:\n",
    "        print('데이터 내보내지 예외:', e)\n",
    "\n",
    "#dict타입으로 바꿔서 넣어준다\n",
    "#DictWriter \n",
    "#참조해서 수업시간꺼 바탕으로 "
   ]
  },
  {
   "cell_type": "code",
   "execution_count": 21,
   "metadata": {
    "ExecuteTime": {
     "end_time": "2021-03-02T08:45:23.912470Z",
     "start_time": "2021-03-02T08:45:23.908501Z"
    }
   },
   "outputs": [],
   "source": [
    "#5. 종료하기 전 txt파일로 저장\n",
    "def save_customer_txt(customer_list):\n",
    "    customer_text_list =[]\n",
    "    for customer in customer_list:\n",
    "        customer_text_list.append(customer.to_list_style())\n",
    "    try:\n",
    "        with open(\"data/ch09_customer.txt\",\"w\",encoding=\"UTF-8\") as f:\n",
    "            f.writelines(customer_text_list)\n",
    "    except Exception as e:\n",
    "        print(\"데이터 내보내기 예외:\",e)"
   ]
  },
  {
   "cell_type": "code",
   "execution_count": 24,
   "metadata": {
    "ExecuteTime": {
     "end_time": "2021-03-02T08:47:26.527878Z",
     "start_time": "2021-03-02T08:47:26.522890Z"
    }
   },
   "outputs": [],
   "source": [
    "customer_list={Customer(\"홍길동\",\"010-9999-9999\",\"h@hong.com\",20,5,\"etc\"),\n",
    "              Customer(\"마길동\",\"010-8888-9999\",\"m@hong.com\",30,4,\"etc\"),\n",
    "            Customer(\"윤길훈\",\"010-7777-9999\",\"y@hong.com\",40,3,\"etc\") \n",
    "              }\n",
    "save_customer_txt(customer_list)"
   ]
  },
  {
   "cell_type": "code",
   "execution_count": 1,
   "metadata": {
    "ExecuteTime": {
     "end_time": "2021-03-02T08:52:15.166437Z",
     "start_time": "2021-03-02T08:52:15.160472Z"
    }
   },
   "outputs": [],
   "source": [
    "#필요한 method들 \n",
    "def main():\n",
    "    customer_list =load_customers()              #method1 (한 줄 받아서 -->객체화.   list로 반환)\n",
    "    while True:\n",
    "        print(\"1:입력 | 2:전체출력 | 3:삭제 | 4:이름찾기 | 5: 내보내기(CSV) | 9:종료\", sep=\"|\",end=\" \")\n",
    "        menu = int(input(\"메뉴선택 : \"))\n",
    "        if menu==1:\n",
    "            customer = insert_customer_info()        #method2\n",
    "            customer_list.append(customer)\n",
    "        elif menu==2:\n",
    "            print_customers(customer_list)           #method3\n",
    "        elif menu==3:\n",
    "            delete_customer(customer_list)           #method4\n",
    "        elif menu==4:\n",
    "            search_customer(customer_list)           #method5\n",
    "        elif menu==5:\n",
    "            save_customer_csv(customer_list)         #method6\n",
    "        elif menu==9:\n",
    "            save_customer_txt(customer_list)          #method7\n",
    "            break\n",
    "    "
   ]
  },
  {
   "cell_type": "code",
   "execution_count": null,
   "metadata": {
    "ExecuteTime": {
     "end_time": "2021-03-02T08:52:15.341967Z",
     "start_time": "2021-03-02T08:52:11.897Z"
    }
   },
   "outputs": [],
   "source": [
    "if __name__=='__main__':\n",
    "    main()"
   ]
  },
  {
   "cell_type": "code",
   "execution_count": null,
   "metadata": {},
   "outputs": [],
   "source": [
    "#txt. 객체들 list    5번  9번 필요 method다름 "
   ]
  },
  {
   "cell_type": "code",
   "execution_count": null,
   "metadata": {},
   "outputs": [],
   "source": []
  },
  {
   "cell_type": "code",
   "execution_count": null,
   "metadata": {},
   "outputs": [],
   "source": []
  }
 ],
 "metadata": {
  "kernelspec": {
   "display_name": "Python 3",
   "language": "python",
   "name": "python3"
  },
  "toc": {
   "base_numbering": 1,
   "nav_menu": {},
   "number_sections": true,
   "sideBar": true,
   "skip_h1_title": false,
   "title_cell": "Table of Contents",
   "title_sidebar": "Contents",
   "toc_cell": false,
   "toc_position": {},
   "toc_section_display": true,
   "toc_window_display": false
  },
  "varInspector": {
   "cols": {
    "lenName": 16,
    "lenType": 16,
    "lenVar": 40
   },
   "kernels_config": {
    "python": {
     "delete_cmd_postfix": "",
     "delete_cmd_prefix": "del ",
     "library": "var_list.py",
     "varRefreshCmd": "print(var_dic_list())"
    },
    "r": {
     "delete_cmd_postfix": ") ",
     "delete_cmd_prefix": "rm(",
     "library": "var_list.r",
     "varRefreshCmd": "cat(var_dic_list()) "
    }
   },
   "types_to_exclude": [
    "module",
    "function",
    "builtin_function_or_method",
    "instance",
    "_Feature"
   ],
   "window_display": false
  }
 },
 "nbformat": 4,
 "nbformat_minor": 4
}

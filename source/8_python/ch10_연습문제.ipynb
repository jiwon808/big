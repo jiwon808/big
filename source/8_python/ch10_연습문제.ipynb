{
 "cells": [
  {
   "cell_type": "markdown",
   "metadata": {},
   "source": [
    "연습문제 (실습형)"
   ]
  },
  {
   "cell_type": "code",
   "execution_count": null,
   "metadata": {},
   "outputs": [],
   "source": [
    "#김지원Oracle, 김지원SQLITE   봐"
   ]
  },
  {
   "cell_type": "markdown",
   "metadata": {},
   "source": [
    "연습문제 (문제풀이형)"
   ]
  },
  {
   "cell_type": "code",
   "execution_count": null,
   "metadata": {},
   "outputs": [],
   "source": [
    "#1\n",
    "\"\"\"\n",
    "1.파이썬의데이터베이스 연동에대해잘 못 설명한 것은?\n",
    "① 데이터베이스에 연결하기위한 모듈들은SQLite 데이터베이스를 위한DB-API 2.0 사양을 준\n",
    "수한다.\n",
    "② COnnection 객체를 이용해서 변경사항을 저장(cOmmit)하거나 취소(rOllback)할 수 있 다.\n",
    "③ COnnection 객체를 생성하는 방법은 데이터베이스마다 다를 수 있다.\n",
    "④ cOmmit()을 호출하지 않고 데이터베이스 연결 객체를 clOse() 하면 변경사항은 자동으로 저\n",
    "장된다\n",
    "\"\"\"\n",
    "4번   자동으로 저장 안된다 \n"
   ]
  },
  {
   "cell_type": "code",
   "execution_count": null,
   "metadata": {},
   "outputs": [],
   "source": [
    "#2\n",
    "\"\"\"\n",
    "2.파이썬의CursOr 객체에대해잘 못 설명한 것은?\n",
    "① 커서는SQL 구문을실행시키고 데이터를조회하는데 사용한다.\n",
    "② 커서 객체의execute() 메소드는결과 집합을 반환한다.\n",
    "③ 실행할SQL 구문을매개변수화 할 수 있다.\n",
    "④ 커서 객체는 COnnection의 cursOr() 메소드를 이용해 사용할 수 있다.\n",
    "\"\"\"\n",
    "\n",
    "2번 집합(X) --> 리스트(O)\n",
    "② 커서 객체의execute() 메소드는결과 집합(X) '리스트(O)'을 반환한다"
   ]
  },
  {
   "cell_type": "code",
   "execution_count": null,
   "metadata": {},
   "outputs": [],
   "source": []
  }
 ],
 "metadata": {
  "kernelspec": {
   "display_name": "Python 3",
   "language": "python",
   "name": "python3"
  },
  "language_info": {
   "codemirror_mode": {
    "name": "ipython",
    "version": 3
   },
   "file_extension": ".py",
   "mimetype": "text/x-python",
   "name": "python",
   "nbconvert_exporter": "python",
   "pygments_lexer": "ipython3",
   "version": "3.8.5"
  },
  "toc": {
   "base_numbering": 1,
   "nav_menu": {},
   "number_sections": true,
   "sideBar": true,
   "skip_h1_title": false,
   "title_cell": "Table of Contents",
   "title_sidebar": "Contents",
   "toc_cell": false,
   "toc_position": {},
   "toc_section_display": true,
   "toc_window_display": false
  },
  "varInspector": {
   "cols": {
    "lenName": 16,
    "lenType": 16,
    "lenVar": 40
   },
   "kernels_config": {
    "python": {
     "delete_cmd_postfix": "",
     "delete_cmd_prefix": "del ",
     "library": "var_list.py",
     "varRefreshCmd": "print(var_dic_list())"
    },
    "r": {
     "delete_cmd_postfix": ") ",
     "delete_cmd_prefix": "rm(",
     "library": "var_list.r",
     "varRefreshCmd": "cat(var_dic_list()) "
    }
   },
   "types_to_exclude": [
    "module",
    "function",
    "builtin_function_or_method",
    "instance",
    "_Feature"
   ],
   "window_display": false
  }
 },
 "nbformat": 4,
 "nbformat_minor": 4
}

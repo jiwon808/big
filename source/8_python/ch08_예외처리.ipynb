{
 "cells": [
  {
   "cell_type": "markdown",
   "metadata": {},
   "source": [
    "# ch08 예외처리"
   ]
  },
  {
   "cell_type": "markdown",
   "metadata": {},
   "source": [
    "# 1절. 예외처리\n",
    "- 예외가 날 가능성이 있는 부분에 대해 / 미리 프로그래밍 "
   ]
  },
  {
   "cell_type": "code",
   "execution_count": 3,
   "metadata": {
    "ExecuteTime": {
     "end_time": "2021-02-26T06:10:09.825690Z",
     "start_time": "2021-02-26T06:10:08.441173Z"
    }
   },
   "outputs": [
    {
     "name": "stdout",
     "output_type": "stream",
     "text": [
      "읽을 파일이름은?1\n"
     ]
    },
    {
     "ename": "FileNotFoundError",
     "evalue": "[Errno 2] No such file or directory: 'data/1'",
     "output_type": "error",
     "traceback": [
      "\u001b[1;31m---------------------------------------------------------------------------\u001b[0m",
      "\u001b[1;31mFileNotFoundError\u001b[0m                         Traceback (most recent call last)",
      "\u001b[1;32m<ipython-input-3-c4ef1670de61>\u001b[0m in \u001b[0;36m<module>\u001b[1;34m\u001b[0m\n\u001b[0;32m      1\u001b[0m \u001b[0mfilename\u001b[0m \u001b[1;33m=\u001b[0m \u001b[0minput\u001b[0m\u001b[1;33m(\u001b[0m\u001b[1;34m'읽을 파일이름은?'\u001b[0m\u001b[1;33m)\u001b[0m\u001b[1;33m\u001b[0m\u001b[1;33m\u001b[0m\u001b[0m\n\u001b[1;32m----> 2\u001b[1;33m \u001b[0mf\u001b[0m \u001b[1;33m=\u001b[0m \u001b[0mopen\u001b[0m\u001b[1;33m(\u001b[0m\u001b[1;34m'data/'\u001b[0m\u001b[1;33m+\u001b[0m\u001b[0mfilename\u001b[0m \u001b[1;33m,\u001b[0m\u001b[1;34m'r'\u001b[0m\u001b[1;33m)\u001b[0m            \u001b[1;31m#왜 r???\u001b[0m\u001b[1;33m\u001b[0m\u001b[1;33m\u001b[0m\u001b[0m\n\u001b[0m\u001b[0;32m      3\u001b[0m \u001b[0mfirstline\u001b[0m \u001b[1;33m=\u001b[0m \u001b[0mf\u001b[0m\u001b[1;33m.\u001b[0m\u001b[0mreadline\u001b[0m\u001b[1;33m(\u001b[0m\u001b[1;33m)\u001b[0m  \u001b[1;31m# 한 줄 읽어 오기\u001b[0m\u001b[1;33m\u001b[0m\u001b[1;33m\u001b[0m\u001b[0m\n\u001b[0;32m      4\u001b[0m \u001b[0mprint\u001b[0m\u001b[1;33m(\u001b[0m\u001b[0mfirstline\u001b[0m\u001b[1;33m)\u001b[0m\u001b[1;33m\u001b[0m\u001b[1;33m\u001b[0m\u001b[0m\n\u001b[0;32m      5\u001b[0m \u001b[0mf\u001b[0m\u001b[1;33m.\u001b[0m\u001b[0mclose\u001b[0m\u001b[1;33m(\u001b[0m\u001b[1;33m)\u001b[0m\u001b[1;33m\u001b[0m\u001b[1;33m\u001b[0m\u001b[0m\n",
      "\u001b[1;31mFileNotFoundError\u001b[0m: [Errno 2] No such file or directory: 'data/1'"
     ]
    }
   ],
   "source": [
    "filename = input('읽을 파일이름은?')\n",
    "f = open('data/'+filename ,'r')            # r  == read mode\n",
    "firstline = f.readline()  # 한 줄 읽어 오기 \n",
    "print(firstline)\n",
    "f.close()\n",
    "\n",
    "#f = open('data/ch08_abc.txt','r')  "
   ]
  },
  {
   "cell_type": "code",
   "execution_count": 4,
   "metadata": {
    "ExecuteTime": {
     "end_time": "2021-02-26T06:14:20.181497Z",
     "start_time": "2021-02-26T06:14:16.396833Z"
    }
   },
   "outputs": [
    {
     "name": "stdout",
     "output_type": "stream",
     "text": [
      "정수를 입력하세요>a\n"
     ]
    },
    {
     "ename": "ValueError",
     "evalue": "invalid literal for int() with base 10: 'a'",
     "output_type": "error",
     "traceback": [
      "\u001b[1;31m---------------------------------------------------------------------------\u001b[0m",
      "\u001b[1;31mValueError\u001b[0m                                Traceback (most recent call last)",
      "\u001b[1;32m<ipython-input-4-9615d3d8e542>\u001b[0m in \u001b[0;36m<module>\u001b[1;34m\u001b[0m\n\u001b[1;32m----> 1\u001b[1;33m \u001b[0mnum\u001b[0m \u001b[1;33m=\u001b[0m \u001b[0mint\u001b[0m\u001b[1;33m(\u001b[0m\u001b[0minput\u001b[0m\u001b[1;33m(\u001b[0m\u001b[1;34m\"정수를 입력하세요>\"\u001b[0m\u001b[1;33m)\u001b[0m\u001b[1;33m)\u001b[0m\u001b[1;33m\u001b[0m\u001b[1;33m\u001b[0m\u001b[0m\n\u001b[0m",
      "\u001b[1;31mValueError\u001b[0m: invalid literal for int() with base 10: 'a'"
     ]
    }
   ],
   "source": [
    "num = int(input(\"정수를 입력하세요>\"))"
   ]
  },
  {
   "cell_type": "code",
   "execution_count": 5,
   "metadata": {
    "ExecuteTime": {
     "end_time": "2021-02-26T06:15:01.639433Z",
     "start_time": "2021-02-26T06:15:00.529199Z"
    }
   },
   "outputs": [
    {
     "name": "stdout",
     "output_type": "stream",
     "text": [
      "정수를 입력하세요>5\n",
      "2.0\n"
     ]
    }
   ],
   "source": [
    "num = int(input(\"정수를 입력하세요>\"))\n",
    "print(10 / num) "
   ]
  },
  {
   "cell_type": "code",
   "execution_count": 13,
   "metadata": {
    "ExecuteTime": {
     "end_time": "2021-02-26T06:25:28.047611Z",
     "start_time": "2021-02-26T06:25:27.260487Z"
    }
   },
   "outputs": [
    {
     "name": "stdout",
     "output_type": "stream",
     "text": [
      "원하는 인덱스는?2\n",
      "2번째 값은3\n"
     ]
    }
   ],
   "source": [
    "l = [1,2,3]                               \n",
    "idx = int(input(\"원하는 인덱스는?\"))\n",
    "print(\"{}번째 값은{}\".format(idx,l[idx]))"
   ]
  },
  {
   "cell_type": "markdown",
   "metadata": {},
   "source": [
    "# 2절. 예외처리하기 (try~except)"
   ]
  },
  {
   "cell_type": "code",
   "execution_count": 7,
   "metadata": {
    "ExecuteTime": {
     "end_time": "2021-02-26T06:19:17.857438Z",
     "start_time": "2021-02-26T06:19:14.791029Z"
    }
   },
   "outputs": [
    {
     "name": "stdout",
     "output_type": "stream",
     "text": [
      "정수는 ?f\n"
     ]
    },
    {
     "ename": "ValueError",
     "evalue": "invalid literal for int() with base 10: 'f'",
     "output_type": "error",
     "traceback": [
      "\u001b[1;31m---------------------------------------------------------------------------\u001b[0m",
      "\u001b[1;31mValueError\u001b[0m                                Traceback (most recent call last)",
      "\u001b[1;32m<ipython-input-7-8645140a069a>\u001b[0m in \u001b[0;36m<module>\u001b[1;34m\u001b[0m\n\u001b[1;32m----> 1\u001b[1;33m \u001b[0mx\u001b[0m \u001b[1;33m=\u001b[0m \u001b[0mint\u001b[0m\u001b[1;33m(\u001b[0m\u001b[0minput\u001b[0m\u001b[1;33m(\u001b[0m\u001b[1;34m\"정수는 ?\"\u001b[0m\u001b[1;33m)\u001b[0m\u001b[1;33m)\u001b[0m\u001b[1;33m\u001b[0m\u001b[1;33m\u001b[0m\u001b[0m\n\u001b[0m\u001b[0;32m      2\u001b[0m \u001b[0mprint\u001b[0m\u001b[1;33m(\u001b[0m\u001b[1;34m\"입력한 정수느 {}입니다\"\u001b[0m\u001b[1;33m.\u001b[0m\u001b[0mformat\u001b[0m\u001b[1;33m(\u001b[0m\u001b[0mx\u001b[0m\u001b[1;33m)\u001b[0m\u001b[1;33m)\u001b[0m\u001b[1;33m\u001b[0m\u001b[1;33m\u001b[0m\u001b[0m\n",
      "\u001b[1;31mValueError\u001b[0m: invalid literal for int() with base 10: 'f'"
     ]
    }
   ],
   "source": [
    "x = int(input(\"정수는 ?\"))\n",
    "print(\"입력한 정수느 {}입니다\".format(x))\n",
    "    "
   ]
  },
  {
   "cell_type": "code",
   "execution_count": 9,
   "metadata": {
    "ExecuteTime": {
     "end_time": "2021-02-26T06:21:55.872791Z",
     "start_time": "2021-02-26T06:21:53.181375Z"
    }
   },
   "outputs": [
    {
     "name": "stdout",
     "output_type": "stream",
     "text": [
      "정수는 ?f\n",
      "유효한 정수가 아닙니다.\n"
     ]
    }
   ],
   "source": [
    "try:\n",
    "    x = int(input(\"정수는 ?\"))\n",
    "    print(\"입력한 정수는 {}입니다\".format(x))\n",
    "except Exception: \n",
    "    print(\"유효한 정수가 아닙니다.\")\n",
    "    "
   ]
  },
  {
   "cell_type": "code",
   "execution_count": 11,
   "metadata": {
    "ExecuteTime": {
     "end_time": "2021-02-26T06:24:00.054323Z",
     "start_time": "2021-02-26T06:23:58.703449Z"
    }
   },
   "outputs": [
    {
     "name": "stdout",
     "output_type": "stream",
     "text": [
      "정수는 ?f\n",
      "invalid literal for int() with base 10: 'f'\n",
      "유효한 정수가 아닙니다.\n"
     ]
    }
   ],
   "source": [
    "try:\n",
    "    x = int(input(\"정수는 ?\"))\n",
    "    print(\"입력한 정수는 {}입니다\".format(x))\n",
    "except ValueError as e:  # e라는 아이가 예외객체를 받음 \n",
    "    print(e)    #print(e.__str__())    e가 객체인데 print안에 들어가면 자동적으로 (e.__str__())  이것을 호출\n",
    "    print(\"유효한 정수가 아닙니다.\")\n",
    "    "
   ]
  },
  {
   "cell_type": "code",
   "execution_count": 14,
   "metadata": {
    "ExecuteTime": {
     "end_time": "2021-02-26T06:43:02.923485Z",
     "start_time": "2021-02-26T06:42:54.662858Z"
    }
   },
   "outputs": [
    {
     "name": "stdout",
     "output_type": "stream",
     "text": [
      "정수를 입력하세요: d\n",
      "유효한 정수를 다시 입력하세요.\n",
      "정수를 입력하세요: a\n",
      "유효한 정수를 다시 입력하세요.\n",
      "정수를 입력하세요: 10\n",
      "입력한 정수는10입니다\n"
     ]
    }
   ],
   "source": [
    "# 입력한 값이 정수가 아닐 경우 --> 예외 메세지를 출력하고, 다시 입력받는다 \n",
    "while True:   ####정수를 입력 받을 떄까지 \n",
    "    try:\n",
    "        x= int(input(\"정수를 입력하세요: \"))\n",
    "        print(\"입력한 정수는{}입니다\".format(x))\n",
    "        break;    #예외가 발생하지 않으면 while문을 더 이상 돌리지 않고, 빠져나옴 \n",
    "    except ValueError:\n",
    "        print(\"유효한 정수를 다시 입력하세요.\")\n",
    "\n",
    "        \n",
    "        \n",
    "        "
   ]
  },
  {
   "cell_type": "code",
   "execution_count": 18,
   "metadata": {
    "ExecuteTime": {
     "end_time": "2021-02-26T06:50:34.589682Z",
     "start_time": "2021-02-26T06:50:34.585692Z"
    }
   },
   "outputs": [],
   "source": [
    "# (1) 알파벳 쳐서  '예외발생'\n",
    "# (2)0을 쳐서 '예외발생'"
   ]
  },
  {
   "cell_type": "code",
   "execution_count": null,
   "metadata": {
    "ExecuteTime": {
     "end_time": "2021-02-26T06:50:06.274940Z",
     "start_time": "2021-02-26T06:50:04.294Z"
    }
   },
   "outputs": [],
   "source": [
    "# 100을 입력한 정수값으로 나눠 출력한다. \n",
    "while True:   ####정수를 입력 받을 떄까지 \n",
    "    try:\n",
    "        x= int(input(\"정수를 입력하세요: \"))\n",
    "        print(\"입력한 정수는{}입니다\".format(x))     # 알파벳 쳐서  '예외발생'\n",
    "        result = 100/x\n",
    "        print(\"100/{} = {}\".format(x,result))        # 0을 쳐서 '예외발생'\n",
    "        break;    #예외가 발생하지 않으면 while문을 더 이상 돌리지 않고, 빠져나옴 \n",
    "    except ValueError:\n",
    "        print(\"유효한 정수를 다시 입력하세요.\")\n",
    "    \n",
    "#그러나 이 단계에서 (2)0을 쳐서 '예외발생'   이거 예외처리안함 "
   ]
  },
  {
   "cell_type": "code",
   "execution_count": null,
   "metadata": {},
   "outputs": [],
   "source": [
    "x= int(input(\"정수를 입력하세요: \"))\n",
    "print(\"입력한 정수는{}입니다\".format(x))     # (1) 알파벳 쳐서  '예외발생'\n",
    "result = 100/x\n",
    "print(\"100/{} = {}\".format(x,result))        # (2)0을 쳐서 '예외발생'"
   ]
  },
  {
   "cell_type": "code",
   "execution_count": 19,
   "metadata": {
    "ExecuteTime": {
     "end_time": "2021-02-26T06:51:01.108460Z",
     "start_time": "2021-02-26T06:50:55.187216Z"
    }
   },
   "outputs": [
    {
     "name": "stdout",
     "output_type": "stream",
     "text": [
      "정수를 입력하세요: d\n",
      "유효한 정수를 다시 입력하세요.\n",
      "정수를 입력하세요: 0\n",
      "입력한 정수는0입니다\n",
      "0으로 나눌 수 없습니다. 다시 입력해주세요. \n",
      "정수를 입력하세요: 10\n",
      "입력한 정수는10입니다\n",
      "100/10 = 10.0\n"
     ]
    }
   ],
   "source": [
    "# 100을 입력한 정수값으로 나눠 출력한다. \n",
    "while True:   ####정수를 입력 받을 떄까지 \n",
    "    try:\n",
    "        x= int(input(\"정수를 입력하세요: \"))\n",
    "        print(\"입력한 정수는{}입니다\".format(x))     # 알파벳 쳐서  '예외발생'\n",
    "        result = 100/x\n",
    "        print(\"100/{} = {}\".format(x,result))        # 0을 쳐서 '예외발생'\n",
    "        break;    #예외가 발생하지 않으면 while문을 더 이상 돌리지 않고, 빠져나옴 \n",
    "    except ValueError:\n",
    "        print(\"유효한 정수를 다시 입력하세요.\")\n",
    "    except ZeroDivisionError: \n",
    "        print(\"0으로 나눌 수 없습니다. 다시 입력해주세요. \")"
   ]
  },
  {
   "cell_type": "code",
   "execution_count": null,
   "metadata": {},
   "outputs": [],
   "source": [
    "# 100을 입력한 정수값으로 나눠 출력한다. (두가지 예외 사항을 '따로' 처리 )\n",
    "while True:   ####정수를 입력 받을 떄까지 \n",
    "    try:\n",
    "        x= int(input(\"정수를 입력하세요: \"))\n",
    "        print(\"입력한 정수는{}입니다\".format(x))     # 알파벳 쳐서  '예외발생'\n",
    "        result = 100/x\n",
    "        print(\"100/{} = {}\".format(x,result))        # 0을 쳐서 '예외발생'\n",
    "        break;    #예외가 발생하지 않으면 while문을 더 이상 돌리지 않고, 빠져나옴 \n",
    "    except Exception:         # ValueError과  ZeroDivisionError 는 다  Exception에 속함. 따라서 Exception에서 걸림. 밑에 두줄 쓰나마나\n",
    "                               # 따라서 상위예외클래스는 하단에  (상위에 쓰는것 아님)\n",
    "        print(\"예외입니다\")\n",
    "    except ValueError:\n",
    "        print(\"유효한 정수를 다시 입력하세요.\")\n",
    "    except ZeroDivisionError: \n",
    "        print(\"0으로 나눌 수 없습니다. 다시 입력해주세요. \")"
   ]
  },
  {
   "cell_type": "code",
   "execution_count": 23,
   "metadata": {
    "ExecuteTime": {
     "end_time": "2021-02-26T06:57:55.554804Z",
     "start_time": "2021-02-26T06:56:57.213631Z"
    }
   },
   "outputs": [
    {
     "name": "stdout",
     "output_type": "stream",
     "text": [
      "정수를 입력하세요: fd\n",
      "에러났습니다. 다시 입력해주세요. \n",
      "invalid literal for int() with base 10: 'fd'\n",
      "정수를 입력하세요: fd\n",
      "에러났습니다. 다시 입력해주세요. \n",
      "invalid literal for int() with base 10: 'fd'\n",
      "정수를 입력하세요: 10\n",
      "입력한 정수는10입니다\n",
      "100/10 = 10.0\n"
     ]
    }
   ],
   "source": [
    "# 100을 입력한 정수값으로 나눠 출력한다. (두가지 예외 사항을 '하나로' 처리 )\n",
    "while True:   ####정수를 입력 받을 떄까지 \n",
    "    try:\n",
    "        x= int(input(\"정수를 입력하세요: \"))\n",
    "        print(\"입력한 정수는{}입니다\".format(x))     # 알파벳 쳐서  '예외발생'\n",
    "        result = 100/x\n",
    "        print(\"100/{} = {}\".format(x,result))        # 0을 쳐서 '예외발생'\n",
    "        break;    #예외가 발생하지 않으면 while문을 더 이상 돌리지 않고, 빠져나옴 \n",
    "    except (ZeroDivisionError, ValueError) as e:   #해당 예외처리 경우에만 \n",
    "        print(\"에러났습니다. 다시 입력해주세요. \")\n",
    "        print(e.__str__()) #예외메세지 뿌림 "
   ]
  },
  {
   "cell_type": "code",
   "execution_count": 1,
   "metadata": {
    "ExecuteTime": {
     "end_time": "2021-02-26T06:58:29.423777Z",
     "start_time": "2021-02-26T06:58:11.123828Z"
    }
   },
   "outputs": [
    {
     "name": "stdout",
     "output_type": "stream",
     "text": [
      "정수를 입력하세요: i\n",
      " 다시 입력해주세요. \n",
      "정수를 입력하세요: 0\n",
      "입력한 정수는0입니다\n",
      " 다시 입력해주세요. \n",
      "정수를 입력하세요: 10\n",
      "입력한 정수는10입니다\n",
      "100/10 = 10.0\n"
     ]
    }
   ],
   "source": [
    "# simple version\n",
    "\n",
    "# 100을 입력한 정수값으로 나눠 출력한다. (두가지 예외 사항을 '하나로' 처리 )\n",
    "while True:   ####정수를 입력 받을 떄까지 \n",
    "    try:\n",
    "        x= int(input(\"정수를 입력하세요: \"))\n",
    "        print(\"입력한 정수는{}입니다\".format(x))     # 알파벳 쳐서  '예외발생'\n",
    "        result = 100/x\n",
    "        print(\"100/{} = {}\".format(x,result))        # 0을 쳐서 '예외발생'\n",
    "        break;    #예외가 발생하지 않으면 while문을 더 이상 돌리지 않고, 빠져나옴 \n",
    "    except :   #해당 예외처리 경우에만 \n",
    "        print(\" 다시 입력해주세요. \")\n"
   ]
  },
  {
   "cell_type": "code",
   "execution_count": null,
   "metadata": {},
   "outputs": [],
   "source": [
    "# try ~ except  ~ (else ~) finally"
   ]
  },
  {
   "cell_type": "code",
   "execution_count": 7,
   "metadata": {
    "ExecuteTime": {
     "end_time": "2021-02-26T07:06:15.869748Z",
     "start_time": "2021-02-26T07:06:15.864760Z"
    }
   },
   "outputs": [
    {
     "name": "stdout",
     "output_type": "stream",
     "text": [
      "파일이 없습니다.\n"
     ]
    }
   ],
   "source": [
    "# else 블록: try블록에서 '예외가 발생(O)'되면 --> except블록 실행. '예외발생(X)' else블록 실행  ******\n",
    "try:\n",
    "    f = open(\"data/ch08_ab.txt\",\"r\")  # read스트림이면 r, write스트림이면 w   #일부러 파일이름 틀리게함 \n",
    "    data = f.read()\n",
    "    print(data)\n",
    "except FileNotFoundError:\n",
    "    print(\"파일이 없습니다.\")\n",
    "else:\n",
    "    data = f.read()\n",
    "    print(data)\n",
    "    f.close()\n",
    "finally: # finally 블록은 try블록에 예외가 발생 하든 안하든 꼭 실행 \n",
    "    f.close()\n",
    "    "
   ]
  },
  {
   "cell_type": "code",
   "execution_count": 5,
   "metadata": {
    "ExecuteTime": {
     "end_time": "2021-02-26T07:03:38.040273Z",
     "start_time": "2021-02-26T07:03:38.035307Z"
    }
   },
   "outputs": [
    {
     "name": "stdout",
     "output_type": "stream",
     "text": [
      "jupyter notebook KR utf-8\n",
      "Hello\n",
      "Python\n",
      "\n"
     ]
    }
   ],
   "source": [
    "f = open(\"data/ch08_abc.txt\",\"r\")  # read스트림이면 r, write스트림이면 w\n",
    "data = f.read()\n",
    "print(data)"
   ]
  },
  {
   "cell_type": "code",
   "execution_count": 8,
   "metadata": {
    "ExecuteTime": {
     "end_time": "2021-02-26T07:08:48.313468Z",
     "start_time": "2021-02-26T07:08:48.308482Z"
    }
   },
   "outputs": [
    {
     "name": "stdout",
     "output_type": "stream",
     "text": [
      "파일이 없습니다.\n"
     ]
    }
   ],
   "source": [
    "# best version\n",
    "\n",
    "# else 블록: try블록에서 '예외가 발생(O)'되면 --> except블록 실행. '예외발생(X)' else블록 실행  ******\n",
    "try:\n",
    "    f = open(\"data/ch08_ab.txt\",\"r\")  # read스트림이면 r, write스트림이면 w   #일부러 파일이름 틀리게함 \n",
    "    data = f.read()\n",
    "    print(data)\n",
    "except FileNotFoundError:\n",
    "    print(\"파일이 없습니다.\")\n",
    "finally: # finally 블록은 try블록에 예외가 발생 하든 안하든 꼭 실행 \n",
    "    f.close()"
   ]
  },
  {
   "cell_type": "code",
   "execution_count": 1,
   "metadata": {
    "ExecuteTime": {
     "end_time": "2021-02-26T07:14:20.536623Z",
     "start_time": "2021-02-26T07:11:47.495609Z"
    }
   },
   "outputs": [
    {
     "name": "stdout",
     "output_type": "stream",
     "text": [
      "정수를 입력하세요: ㅇ\n",
      "invalid literal for int() with base 10: 'ㅇ'\n",
      "invalid literal for int() with base 10: 'ㅇ'\n",
      "정수를 입력하세요: 0\n",
      "입력한 정수는0입니다\n",
      "division by zero\n",
      "division by zero\n",
      "정수를 입력하세요: ㄱ\n",
      "invalid literal for int() with base 10: 'ㄱ'\n",
      "invalid literal for int() with base 10: 'ㄱ'\n",
      "정수를 입력하세요: 10\n",
      "입력한 정수는10입니다\n",
      "100/10 = 10.0\n"
     ]
    }
   ],
   "source": [
    "# 예외인수  e \n",
    "\n",
    "while True:   ####정수를 입력 받을 떄까지 \n",
    "    try:\n",
    "        x= int(input(\"정수를 입력하세요: \"))\n",
    "        print(\"입력한 정수는{}입니다\".format(x))     # 알파벳 쳐서  '예외발생'\n",
    "        result = 100/x\n",
    "        print(\"100/{} = {}\".format(x,result))        # 0을 쳐서 '예외발생'\n",
    "        break;    #예외가 발생하지 않으면 while문을 더 이상 돌리지 않고, 빠져나옴 \n",
    "    except (ZeroDivisionError, ValueError) as e: \n",
    "        print(e)\n",
    "        print(e.args[0])  #e.args  튜플형식   #이 줄  = = 윗줄 "
   ]
  },
  {
   "cell_type": "markdown",
   "metadata": {},
   "source": [
    "# 3절. raise로 예외 발생시키기 "
   ]
  },
  {
   "cell_type": "code",
   "execution_count": 2,
   "metadata": {
    "ExecuteTime": {
     "end_time": "2021-02-26T07:14:21.948934Z",
     "start_time": "2021-02-26T07:14:21.919011Z"
    }
   },
   "outputs": [
    {
     "ename": "NameError",
     "evalue": "예외가 발생",
     "output_type": "error",
     "traceback": [
      "\u001b[1;31m---------------------------------------------------------------------------\u001b[0m",
      "\u001b[1;31mNameError\u001b[0m                                 Traceback (most recent call last)",
      "\u001b[1;32m<ipython-input-2-9b870e7e3bc4>\u001b[0m in \u001b[0;36m<module>\u001b[1;34m\u001b[0m\n\u001b[1;32m----> 1\u001b[1;33m \u001b[1;32mraise\u001b[0m \u001b[0mNameError\u001b[0m\u001b[1;33m(\u001b[0m\u001b[1;34m\"예외가 발생\"\u001b[0m\u001b[1;33m)\u001b[0m\u001b[1;33m\u001b[0m\u001b[1;33m\u001b[0m\u001b[0m\n\u001b[0m",
      "\u001b[1;31mNameError\u001b[0m: 예외가 발생"
     ]
    }
   ],
   "source": [
    "raise NameError(\"예외가 발생\")"
   ]
  },
  {
   "cell_type": "code",
   "execution_count": 3,
   "metadata": {
    "ExecuteTime": {
     "end_time": "2021-02-26T07:15:56.709471Z",
     "start_time": "2021-02-26T07:15:56.705495Z"
    }
   },
   "outputs": [],
   "source": [
    "def insert(data):\n",
    "    if len(data)==0:\n",
    "        raise Exception(\"길이가 0이라 출력할 것도 없습니다.\")\n",
    "    print(data,'를 입력할게요')"
   ]
  },
  {
   "cell_type": "code",
   "execution_count": 6,
   "metadata": {
    "ExecuteTime": {
     "end_time": "2021-02-26T07:16:39.469495Z",
     "start_time": "2021-02-26T07:16:39.459521Z"
    }
   },
   "outputs": [
    {
     "ename": "Exception",
     "evalue": "길이가 0이라 출력할 것도 없습니다.",
     "output_type": "error",
     "traceback": [
      "\u001b[1;31m---------------------------------------------------------------------------\u001b[0m",
      "\u001b[1;31mException\u001b[0m                                 Traceback (most recent call last)",
      "\u001b[1;32m<ipython-input-6-6286de826f60>\u001b[0m in \u001b[0;36m<module>\u001b[1;34m\u001b[0m\n\u001b[1;32m----> 1\u001b[1;33m \u001b[0minsert\u001b[0m\u001b[1;33m(\u001b[0m\u001b[1;33m[\u001b[0m\u001b[1;33m]\u001b[0m\u001b[1;33m)\u001b[0m\u001b[1;33m\u001b[0m\u001b[1;33m\u001b[0m\u001b[0m\n\u001b[0m",
      "\u001b[1;32m<ipython-input-3-34bed9312169>\u001b[0m in \u001b[0;36minsert\u001b[1;34m(data)\u001b[0m\n\u001b[0;32m      1\u001b[0m \u001b[1;32mdef\u001b[0m \u001b[0minsert\u001b[0m\u001b[1;33m(\u001b[0m\u001b[0mdata\u001b[0m\u001b[1;33m)\u001b[0m\u001b[1;33m:\u001b[0m\u001b[1;33m\u001b[0m\u001b[1;33m\u001b[0m\u001b[0m\n\u001b[0;32m      2\u001b[0m     \u001b[1;32mif\u001b[0m \u001b[0mlen\u001b[0m\u001b[1;33m(\u001b[0m\u001b[0mdata\u001b[0m\u001b[1;33m)\u001b[0m\u001b[1;33m==\u001b[0m\u001b[1;36m0\u001b[0m\u001b[1;33m:\u001b[0m\u001b[1;33m\u001b[0m\u001b[1;33m\u001b[0m\u001b[0m\n\u001b[1;32m----> 3\u001b[1;33m         \u001b[1;32mraise\u001b[0m \u001b[0mException\u001b[0m\u001b[1;33m(\u001b[0m\u001b[1;34m\"길이가 0이라 출력할 것도 없습니다.\"\u001b[0m\u001b[1;33m)\u001b[0m\u001b[1;33m\u001b[0m\u001b[1;33m\u001b[0m\u001b[0m\n\u001b[0m\u001b[0;32m      4\u001b[0m     \u001b[0mprint\u001b[0m\u001b[1;33m(\u001b[0m\u001b[0mdata\u001b[0m\u001b[1;33m,\u001b[0m\u001b[1;34m'를 입력할게요'\u001b[0m\u001b[1;33m)\u001b[0m\u001b[1;33m\u001b[0m\u001b[1;33m\u001b[0m\u001b[0m\n",
      "\u001b[1;31mException\u001b[0m: 길이가 0이라 출력할 것도 없습니다."
     ]
    }
   ],
   "source": [
    "insert([])  #안에 아무것도 안치면 '예외발생'"
   ]
  },
  {
   "cell_type": "code",
   "execution_count": null,
   "metadata": {},
   "outputs": [],
   "source": [
    "insert([1,2,3])  #안에 뭐치면 예외발생 안함"
   ]
  },
  {
   "cell_type": "code",
   "execution_count": 7,
   "metadata": {
    "ExecuteTime": {
     "end_time": "2021-02-26T07:17:42.397283Z",
     "start_time": "2021-02-26T07:17:42.393284Z"
    }
   },
   "outputs": [
    {
     "name": "stdout",
     "output_type": "stream",
     "text": [
      "길이가 0이라 출력할 것도 없습니다.\n"
     ]
    }
   ],
   "source": [
    "try:\n",
    "    insert({})\n",
    "except Exception as e:\n",
    "    print(e.args[0])"
   ]
  },
  {
   "cell_type": "markdown",
   "metadata": {},
   "source": [
    "# 4절. raise를 이용하여 추상클래스 정의하기 \n",
    "- python은 추상클래스를 생성할 수 없으나 --> 'raise를 이용'해서 '추상클래스를 흉내냄'\n",
    "- 나를 상속한 아이의 표준을 만들어주기 위해서\n",
    "\n",
    "# 5절. 사용자 정의 예외"
   ]
  },
  {
   "cell_type": "code",
   "execution_count": null,
   "metadata": {},
   "outputs": [],
   "source": [
    "class Shape:\n",
    "    def __init__(self):\n",
    "        raise Exception(\"Shape는 추상 클래스여서 객체 생성 불가\")"
   ]
  },
  {
   "cell_type": "code",
   "execution_count": null,
   "metadata": {},
   "outputs": [],
   "source": []
  },
  {
   "cell_type": "code",
   "execution_count": 8,
   "metadata": {
    "ExecuteTime": {
     "end_time": "2021-02-26T07:41:37.459005Z",
     "start_time": "2021-02-26T07:41:37.455016Z"
    }
   },
   "outputs": [],
   "source": [
    "class AbstractError(Exception):\n",
    "    \"추상 클래스를 이용하여 객체를 생성할 때 나는 오류\"\n",
    "    def __init__(self):\n",
    "        Exception.__init__(self,\"Shape는 추상 클래스여서 객체 생성 불가\")"
   ]
  },
  {
   "cell_type": "code",
   "execution_count": 9,
   "metadata": {
    "ExecuteTime": {
     "end_time": "2021-02-26T07:41:38.887198Z",
     "start_time": "2021-02-26T07:41:38.883210Z"
    }
   },
   "outputs": [],
   "source": [
    "class Shape:\n",
    "    def __init__(self):\n",
    "        raise AbstractError()\n",
    "    def cal_area(self):\n",
    "        raise AbstractError()"
   ]
  },
  {
   "cell_type": "code",
   "execution_count": 11,
   "metadata": {
    "ExecuteTime": {
     "end_time": "2021-02-26T07:42:50.725048Z",
     "start_time": "2021-02-26T07:42:50.721089Z"
    }
   },
   "outputs": [],
   "source": [
    "class Circle(Shape):\n",
    "    def __init__(self,r):\n",
    "        self.r = r\n",
    "    def cal_area(self):\n",
    "        return r*r*3.14"
   ]
  },
  {
   "cell_type": "code",
   "execution_count": 12,
   "metadata": {
    "ExecuteTime": {
     "end_time": "2021-02-26T07:43:28.723668Z",
     "start_time": "2021-02-26T07:43:28.719679Z"
    }
   },
   "outputs": [],
   "source": [
    "c = Circle(3)"
   ]
  },
  {
   "cell_type": "markdown",
   "metadata": {},
   "source": [
    "# 6절. 파일정리작업"
   ]
  },
  {
   "cell_type": "code",
   "execution_count": 14,
   "metadata": {
    "ExecuteTime": {
     "end_time": "2021-02-26T07:47:31.248672Z",
     "start_time": "2021-02-26T07:47:16.609536Z"
    }
   },
   "outputs": [
    {
     "name": "stdout",
     "output_type": "stream",
     "text": [
      "파일명은 ?ch08_abc.txt\n",
      "['jupyter notebook KR utf-8\\n', 'Hello\\n', 'Python\\n']\n"
     ]
    }
   ],
   "source": [
    "filename = input('파일명은 ?')\n",
    "try:\n",
    "    f = open('data/'+filename,'r')\n",
    "    lines = f.readlines()\n",
    "    print(lines)\n",
    "except:\n",
    "    pass\n",
    "finally:\n",
    "    f.close()    #finally에서 반드시 close 닫아줘야 "
   ]
  },
  {
   "cell_type": "code",
   "execution_count": null,
   "metadata": {},
   "outputs": [],
   "source": [
    "# simple version (간단하게 하더라고, 'f.close'꼭해줘야)\n",
    "filename = input('파일명은 ?')\n",
    "\n",
    "f = open('data/'+filename,'r')         #open했으면 반드시 close  (마지막에)\n",
    "lines = f.readlines()\n",
    "print(lines)\n",
    "f.close()  #★                          #finally에서 반드시 close 닫아줘야 "
   ]
  },
  {
   "cell_type": "code",
   "execution_count": 16,
   "metadata": {
    "ExecuteTime": {
     "end_time": "2021-02-26T07:50:47.020134Z",
     "start_time": "2021-02-26T07:50:47.015147Z"
    }
   },
   "outputs": [
    {
     "name": "stdout",
     "output_type": "stream",
     "text": [
      "['jupyter notebook KR utf-8\\n', 'Hello\\n', 'Python\\n']\n"
     ]
    }
   ],
   "source": [
    "# with절 이후에는 자동적으로 close()\n",
    "with open('data/ch08_abc.txt','r') as f:  #f라는 변수에 string객체를 받는다 \n",
    "    lines = f.readlines()\n",
    "    print(lines)\n",
    "    "
   ]
  },
  {
   "cell_type": "code",
   "execution_count": null,
   "metadata": {},
   "outputs": [],
   "source": []
  }
 ],
 "metadata": {
  "kernelspec": {
   "display_name": "Python 3",
   "language": "python",
   "name": "python3"
  },
  "language_info": {
   "codemirror_mode": {
    "name": "ipython",
    "version": 3
   },
   "file_extension": ".py",
   "mimetype": "text/x-python",
   "name": "python",
   "nbconvert_exporter": "python",
   "pygments_lexer": "ipython3",
   "version": "3.8.5"
  },
  "toc": {
   "base_numbering": 1,
   "nav_menu": {},
   "number_sections": false,
   "sideBar": true,
   "skip_h1_title": false,
   "title_cell": "Table of Contents",
   "title_sidebar": "Contents",
   "toc_cell": false,
   "toc_position": {},
   "toc_section_display": true,
   "toc_window_display": true
  },
  "varInspector": {
   "cols": {
    "lenName": 16,
    "lenType": 16,
    "lenVar": 40
   },
   "kernels_config": {
    "python": {
     "delete_cmd_postfix": "",
     "delete_cmd_prefix": "del ",
     "library": "var_list.py",
     "varRefreshCmd": "print(var_dic_list())"
    },
    "r": {
     "delete_cmd_postfix": ") ",
     "delete_cmd_prefix": "rm(",
     "library": "var_list.r",
     "varRefreshCmd": "cat(var_dic_list()) "
    }
   },
   "types_to_exclude": [
    "module",
    "function",
    "builtin_function_or_method",
    "instance",
    "_Feature"
   ],
   "window_display": false
  }
 },
 "nbformat": 4,
 "nbformat_minor": 4
}

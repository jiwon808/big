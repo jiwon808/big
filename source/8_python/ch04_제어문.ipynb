{
 "cells": [
  {
   "cell_type": "markdown",
   "metadata": {},
   "source": [
    "# ch04. 제어문\n",
    "- if,in, while\n"
   ]
  },
  {
   "cell_type": "markdown",
   "metadata": {},
   "source": [
    "# 1절. 조건문"
   ]
  },
  {
   "cell_type": "code",
   "execution_count": 3,
   "metadata": {
    "ExecuteTime": {
     "end_time": "2021-02-23T05:38:35.877545Z",
     "start_time": "2021-02-23T05:38:34.674428Z"
    }
   },
   "outputs": [
    {
     "name": "stdout",
     "output_type": "stream",
     "text": [
      "Enter your score>99\n",
      "참 잘했어요\n",
      "다음에도 기대할께요\n",
      "점수를 입력 받아 잘한 사람에게 메시지를 출력함\n"
     ]
    }
   ],
   "source": [
    "score = int(input('Enter your score>'))\n",
    "if score>= 90:\n",
    "    print('참 잘했어요')\n",
    "    print('다음에도 기대할께요')\n",
    "else:\n",
    "    print('분발하세요')\n",
    "    \n",
    "print('점수를 입력 받아 잘한 사람에게 메시지를 출력함')"
   ]
  },
  {
   "cell_type": "code",
   "execution_count": 4,
   "metadata": {
    "ExecuteTime": {
     "end_time": "2021-02-23T05:55:38.346493Z",
     "start_time": "2021-02-23T05:55:26.968330Z"
    }
   },
   "outputs": [
    {
     "name": "stdout",
     "output_type": "stream",
     "text": [
      "Enter your score>90\n",
      "입력한 점수는 90이고 A등급\n"
     ]
    }
   ],
   "source": [
    "score = int(input('Enter your score>'))\n",
    "if 90 <= score <= 100:\n",
    "    grade ='A'\n",
    "elif 80 <= score < 90:\n",
    "    grade ='B'\n",
    "elif 70 <= score <80:\n",
    "    grade ='C'\n",
    "elif 60 <= score <70:\n",
    "    grade='D'\n",
    "elif 0 <= score < 60:\n",
    "    grade ='F'\n",
    "else:\n",
    "    grade = '유효하지 않는 점수'\n",
    "print(\"입력한 점수는 {}이고 {}등급\".format(score,grade))\n"
   ]
  },
  {
   "cell_type": "markdown",
   "metadata": {},
   "source": [
    "# 2절. 반복문"
   ]
  },
  {
   "cell_type": "markdown",
   "metadata": {},
   "source": [
    "## 2.1 for-in\n",
    "- for 변수 in 나열가능한 자료: <br>\n",
    "    반복할 문장1<br>\n",
    "    반복할 문장2<br>\n",
    "    ..\n",
    "   else:<br>\n",
    "     변수에 값이 할당되지 않은 경우 한번 실행할 문장 \n",
    "- else 구문은 선택사항"
   ]
  },
  {
   "cell_type": "code",
   "execution_count": 7,
   "metadata": {
    "ExecuteTime": {
     "end_time": "2021-02-23T06:17:46.993613Z",
     "start_time": "2021-02-23T06:17:46.989646Z"
    }
   },
   "outputs": [
    {
     "name": "stdout",
     "output_type": "stream",
     "text": [
      "1\t3\t5\t7\t9\tDONE\n"
     ]
    }
   ],
   "source": [
    "for i in range(1,10,2):    # from to by\n",
    "    print(i, end=\"\\t\")\n",
    "else:\n",
    "    print(\"DONE\")"
   ]
  },
  {
   "cell_type": "markdown",
   "metadata": {},
   "source": [
    "## 2.2 while\n",
    "- while 조건: <br>\n",
    "    반복할 문장1<br>\n",
    "    반복할 문장2<br>\n",
    "    ....<br>\n",
    "   else:<br>\n",
    "    조건이 거짓일 경우 실행할 문장<br> \n",
    "\n",
    "- else 구문은 선택사항<br>\n",
    "- 무한 반복문에 빠지지 않도록 / 조건식이 바뀔 수 있는 변수값을 수정하는 코드 필요 \n",
    "    \n",
    "    "
   ]
  },
  {
   "cell_type": "code",
   "execution_count": 1,
   "metadata": {
    "ExecuteTime": {
     "end_time": "2021-02-23T06:22:49.181498Z",
     "start_time": "2021-02-23T06:22:49.177551Z"
    }
   },
   "outputs": [
    {
     "name": "stdout",
     "output_type": "stream",
     "text": [
      "0\t1\t2\t3\t4\t5\t6\t7\t8\t9\ti값이 10이라서 빠져나감\n"
     ]
    }
   ],
   "source": [
    "i = 0\n",
    "while i<10:\n",
    "    print(i, end='\\t')\n",
    "    i += 1\n",
    "else:\n",
    "    print(\"i값이 {}이라서 빠져나감\".format(i))"
   ]
  },
  {
   "cell_type": "code",
   "execution_count": 2,
   "metadata": {
    "ExecuteTime": {
     "end_time": "2021-02-23T06:37:14.139734Z",
     "start_time": "2021-02-23T06:37:14.134747Z"
    }
   },
   "outputs": [
    {
     "name": "stdout",
     "output_type": "stream",
     "text": [
      "1부터100까지 짝수의 합은 2550\n"
     ]
    }
   ],
   "source": [
    "# 1~100까지의 짝수의 합 \n",
    "sum = 0\n",
    "i = 1\n",
    "while i <= 100:\n",
    "    if i%2 == 0:\n",
    "        sum += i\n",
    "    i += 1\n",
    "else:\n",
    "    print(\"1부터100까지 짝수의 합은\",sum)"
   ]
  },
  {
   "cell_type": "markdown",
   "metadata": {},
   "source": [
    "## 2.3 break, continue"
   ]
  },
  {
   "cell_type": "code",
   "execution_count": 35,
   "metadata": {
    "ExecuteTime": {
     "end_time": "2021-02-23T08:24:46.921988Z",
     "start_time": "2021-02-23T08:24:46.917988Z"
    }
   },
   "outputs": [
    {
     "name": "stdout",
     "output_type": "stream",
     "text": [
      "1234"
     ]
    }
   ],
   "source": [
    "num = 0\n",
    "while num <=10:\n",
    "    num += 1\n",
    "    if num == 5:\n",
    "        break; #현재 반복문 빠져나감\n",
    "    print(num,end='')"
   ]
  },
  {
   "cell_type": "code",
   "execution_count": 3,
   "metadata": {
    "ExecuteTime": {
     "end_time": "2021-02-23T06:40:16.069243Z",
     "start_time": "2021-02-23T06:40:16.064256Z"
    }
   },
   "outputs": [
    {
     "name": "stdout",
     "output_type": "stream",
     "text": [
      "1 2 3 4 6 7 8 9 10 11 "
     ]
    }
   ],
   "source": [
    "num = 0\n",
    "while num <=10:\n",
    "    num += 1\n",
    "    if num == 5:\n",
    "        continue; #반복문의 조건으로 감                                               \n",
    "    print(num,end=' ')\n",
    "    \n",
    "    \n",
    "    ############ (1) num=0    <=10이므로 --> 1 로되고 print  그리고 (2) num=1  <=10이므로 --> 2로되고 print    ....\n",
    "    #(4) num=4일때 -->5가 되고  if문으로빠짐  따라서 print단계까지 안가고 continue를 만나게됨. continue이므로 다시 위로 올라감. \n",
    "    #(5) num=5     --> +1해서  6이 되고  따라서 출력     ...\n",
    "    # 따라서 출력결과중에 5 만 빠짐. (왜냐하면 n이 4일때 -->5 로 되어서  if문으로 빠짐으로서  출력단계까지 안가고 다시 올라감)"
   ]
  },
  {
   "cell_type": "code",
   "execution_count": 6,
   "metadata": {
    "ExecuteTime": {
     "end_time": "2021-02-23T06:46:51.759365Z",
     "start_time": "2021-02-23T06:46:51.753381Z"
    }
   },
   "outputs": [
    {
     "data": {
      "text/plain": [
       "73"
      ]
     },
     "execution_count": 6,
     "metadata": {},
     "output_type": "execute_result"
    }
   ],
   "source": [
    "#숫자 찾기 게임\n",
    "'''\n",
    "1~100 사이의 숫자를 맞추는 프로그램을 제작하시오\n",
    "(프로그램 안에서 임의의 숫자가 만들어지고, 숫자를 맞추도록 한다\n",
    "\n",
    "방법1: 숫자가 틀리면 up, down을 알려주고 숫자를 맞추면 종료한다. \n",
    "\n",
    "방법2: 숫자가 틀리면 min~max 사이의 수라고 알려주고 숫자를 맞추면 종료 \n",
    "최종적으로 숫자를 맞출 때까지)\n",
    "'''\n",
    "import random\n",
    "#random.seed(1)   #seed값 세팅  만약 계속 같은 seed(씨앗)을 사용한다면 컴퓨터는 계속 같은 패턴의 난수를 생성\n",
    "random.randint(1,100)\n",
    "\n",
    "\n"
   ]
  },
  {
   "cell_type": "code",
   "execution_count": 7,
   "metadata": {
    "ExecuteTime": {
     "end_time": "2021-02-23T07:03:14.071071Z",
     "start_time": "2021-02-23T07:02:53.608589Z"
    }
   },
   "outputs": [
    {
     "name": "stdout",
     "output_type": "stream",
     "text": [
      "1 ~ 100 사이의 컴퓨터가 선택할 특정 수를 맞춰보세요: \n",
      "90\n",
      "당신이 입력한 수 보다 큰은 수에요(UP)\n",
      "91 ~ 100 사이의 컴퓨터가 선택할 특정 수를 맞춰보세요: \n",
      "99\n",
      "당신이 입력한 수 보다 작은 수에요(DOWN)\n",
      "91 ~ 98 사이의 컴퓨터가 선택할 특정 수를 맞춰보세요: \n",
      "92\n",
      "당신이 입력한 수 보다 큰은 수에요(UP)\n",
      "93 ~ 98 사이의 컴퓨터가 선택할 특정 수를 맞춰보세요: \n",
      "95\n",
      "당신이 입력한 수 보다 큰은 수에요(UP)\n",
      "96 ~ 98 사이의 컴퓨터가 선택할 특정 수를 맞춰보세요: \n",
      "96\n",
      "당신이 입력한 수 보다 큰은 수에요(UP)\n",
      "97 ~ 98 사이의 컴퓨터가 선택할 특정 수를 맞춰보세요: \n",
      "97\n",
      "당신이 입력한 수 보다 큰은 수에요(UP)\n",
      "98 ~ 98 사이의 컴퓨터가 선택할 특정 수를 맞춰보세요: \n",
      "98\n",
      "축하 맞추셨어요\n"
     ]
    }
   ],
   "source": [
    "min =1\n",
    "max =100\n",
    "randomNum = random.randint(min,max)\n",
    "inputNum = 0\n",
    "while randomNum != inputNum:\n",
    "    print(min, '~', max, '사이의 컴퓨터가 선택할 특정 수를 맞춰보세요: ' ) #python에서 int+str안됨 따라서, 사용\n",
    "    inputNum = int(input())\n",
    "    if randomNum < inputNum:\n",
    "        max = inputNum -1\n",
    "        print('당신이 입력한 수 보다 작은 수에요(DOWN)')\n",
    "    elif inputNum < randomNum:\n",
    "        min= inputNum +1\n",
    "        print('당신이 입력한 수 보다 큰은 수에요(UP)')\n",
    "    else:\n",
    "        print(\"축하 맞추셨어요\")\n",
    "    \n",
    "    \n",
    "    \n",
    "                                                         ######################복습!!!##############################\n",
    "    \n",
    "    "
   ]
  },
  {
   "cell_type": "code",
   "execution_count": 8,
   "metadata": {
    "ExecuteTime": {
     "end_time": "2021-02-23T07:03:31.146583Z",
     "start_time": "2021-02-23T07:03:16.556765Z"
    }
   },
   "outputs": [
    {
     "name": "stdout",
     "output_type": "stream",
     "text": [
      "1 ~ 100 사이의 컴퓨터가 선택할 특정 수를 맞춰보세요: \n",
      "98\n",
      "당신이 입력한 수 보다 작은 수에요(DOWN)\n",
      "1 ~ 97 사이의 컴퓨터가 선택할 특정 수를 맞춰보세요: \n",
      "50\n",
      "당신이 입력한 수 보다 작은 수에요(DOWN)\n",
      "1 ~ 49 사이의 컴퓨터가 선택할 특정 수를 맞춰보세요: \n",
      "30\n",
      "당신이 입력한 수 보다 작은 수에요(DOWN)\n",
      "1 ~ 29 사이의 컴퓨터가 선택할 특정 수를 맞춰보세요: \n",
      "20\n",
      "당신이 입력한 수 보다 작은 수에요(DOWN)\n",
      "1 ~ 19 사이의 컴퓨터가 선택할 특정 수를 맞춰보세요: \n",
      "10\n",
      "당신이 입력한 수 보다 작은 수에요(DOWN)\n",
      "1 ~ 9 사이의 컴퓨터가 선택할 특정 수를 맞춰보세요: \n",
      "5\n",
      "당신이 입력한 수 보다 큰은 수에요(UP)\n",
      "6 ~ 9 사이의 컴퓨터가 선택할 특정 수를 맞춰보세요: \n",
      "9\n",
      "축하 맞추셨어요\n"
     ]
    }
   ],
   "source": [
    "min =1\n",
    "max =100\n",
    "randomNum = random.randint(min,max)\n",
    "while True:\n",
    "    print(min, '~', max, '사이의 컴퓨터가 선택할 특정 수를 맞춰보세요: ' )\n",
    "    inputNum = int(input())\n",
    "    if randomNum < inputNum:\n",
    "        max = inputNum -1\n",
    "        print('당신이 입력한 수 보다 작은 수에요(DOWN)')\n",
    "    elif inputNum < randomNum:\n",
    "        min = inputNum+1\n",
    "        print('당신이 입력한 수 보다 큰은 수에요(UP)')\n",
    "    else:\n",
    "        print(\"축하 맞추셨어요\")\n",
    "        break;\n",
    "        \n",
    "                                                        ######################복습!!!##############################\n"
   ]
  },
  {
   "cell_type": "markdown",
   "metadata": {},
   "source": [
    "## 3절. 중첩루프; 반목문 안에 반복문\n",
    "- 2차원 이상의 데이터 구조의 모든 항목들을 처리하기 위해 사용 "
   ]
  },
  {
   "cell_type": "code",
   "execution_count": 21,
   "metadata": {
    "ExecuteTime": {
     "end_time": "2021-02-23T07:29:01.040590Z",
     "start_time": "2021-02-23T07:29:01.035603Z"
    }
   },
   "outputs": [
    {
     "name": "stdout",
     "output_type": "stream",
     "text": [
      "1\n"
     ]
    }
   ],
   "source": [
    "list_2d = [[1,2,3,4,5],\n",
    "          [10,20,30,40],\n",
    "          [11,22,33,44]]\n",
    "print(list_2d[0][0])            #0번째행에 0번째 열    따라서1   "
   ]
  },
  {
   "cell_type": "code",
   "execution_count": 12,
   "metadata": {
    "ExecuteTime": {
     "end_time": "2021-02-23T07:08:08.594181Z",
     "start_time": "2021-02-23T07:08:08.589194Z"
    }
   },
   "outputs": [
    {
     "name": "stdout",
     "output_type": "stream",
     "text": [
      "0행0열 : 1\t0행1열 : 2\t0행2열 : 3\t0행3열 : 4\t0행4열 : 5\t\n",
      "1행0열 : 10\t1행1열 : 20\t1행2열 : 30\t1행3열 : 40\t\n",
      "2행0열 : 11\t2행1열 : 22\t2행2열 : 33\t2행3열 : 44\t\n"
     ]
    }
   ],
   "source": [
    "for i in range(len(list_2d)):\n",
    "    for j in range(len(list_2d[i]) ):       #i의 len만큼\n",
    "        print(\"{}행{}열 : {}\".format(i,j,list_2d[i][j]), end='\\t')    ###############list_2d[i][j]   i번째행에 j번째 열 \n",
    "    print()"
   ]
  },
  {
   "cell_type": "code",
   "execution_count": 13,
   "metadata": {
    "ExecuteTime": {
     "end_time": "2021-02-23T07:09:27.867840Z",
     "start_time": "2021-02-23T07:09:27.861877Z"
    }
   },
   "outputs": [
    {
     "name": "stdout",
     "output_type": "stream",
     "text": [
      "2행0열: 1\t2행1열: 2\t2행2열: 3\t2행3열: 4\t2행4열: 5\t\n",
      "2행0열: 10\t2행1열: 20\t2행2열: 30\t2행3열: 40\t\n",
      "2행0열: 11\t2행1열: 22\t2행2열: 33\t2행3열: 44\t\n"
     ]
    }
   ],
   "source": [
    "for idx, row in enumerate(list_2d):\n",
    "    for j, data in enumerate(row):\n",
    "        print(\"{}행{}열: {}\".format(i,j,data), end='\\t')\n",
    "    print()"
   ]
  },
  {
   "cell_type": "code",
   "execution_count": 15,
   "metadata": {
    "ExecuteTime": {
     "end_time": "2021-02-23T07:17:22.475041Z",
     "start_time": "2021-02-23T07:17:22.467062Z"
    }
   },
   "outputs": [
    {
     "name": "stdout",
     "output_type": "stream",
     "text": [
      "2*1= 2\t 3*1= 3\t 4*1= 4\t 5*1= 5\t 6*1= 6\t 7*1= 7\t 8*1= 8\t 9*1= 9\t \n",
      "2*2= 4\t 3*2= 6\t 4*2= 8\t 5*2=10\t 6*2=12\t 7*2=14\t 8*2=16\t 9*2=18\t \n",
      "2*3= 6\t 3*3= 9\t 4*3=12\t 5*3=15\t 6*3=18\t 7*3=21\t 8*3=24\t 9*3=27\t \n",
      "2*4= 8\t 3*4=12\t 4*4=16\t 5*4=20\t 6*4=24\t 7*4=28\t 8*4=32\t 9*4=36\t \n",
      "2*5=10\t 3*5=15\t 4*5=20\t 5*5=25\t 6*5=30\t 7*5=35\t 8*5=40\t 9*5=45\t \n",
      "2*6=12\t 3*6=18\t 4*6=24\t 5*6=30\t 6*6=36\t 7*6=42\t 8*6=48\t 9*6=54\t \n",
      "2*7=14\t 3*7=21\t 4*7=28\t 5*7=35\t 6*7=42\t 7*7=49\t 8*7=56\t 9*7=63\t \n",
      "2*8=16\t 3*8=24\t 4*8=32\t 5*8=40\t 6*8=48\t 7*8=56\t 8*8=64\t 9*8=72\t \n",
      "2*9=18\t 3*9=27\t 4*9=36\t 5*9=45\t 6*9=54\t 7*9=63\t 8*9=72\t 9*9=81\t \n"
     ]
    }
   ],
   "source": [
    "#2~9단 까지 구구단 전체 출력하시오\n",
    "'''\n",
    "2*1=2  3*1=3  4*1=4  5*1=5\n",
    "'''\n",
    "for i in range(1,10):     #1부터9까지 돌아야해서  range(1,10)\n",
    "    for j in range(2,10):  #2부터9까지 \n",
    "        print(\"{}*{}={:>2}\".format(j,i,i*j), end='\\t ')  #오른쪽 정렬 2자리수 표현   여기 i*j 는 {:>2}에 속함 \n",
    "    print()                                               #j가9일때까지 다 나왔으면 개행"
   ]
  },
  {
   "cell_type": "markdown",
   "metadata": {},
   "source": [
    "# 4절. 중첩루프 탈출"
   ]
  },
  {
   "cell_type": "code",
   "execution_count": 18,
   "metadata": {
    "ExecuteTime": {
     "end_time": "2021-02-23T07:21:20.121746Z",
     "start_time": "2021-02-23T07:21:20.116754Z"
    }
   },
   "outputs": [
    {
     "name": "stdout",
     "output_type": "stream",
     "text": [
      "0 1\n",
      "0 2\n",
      "2 1\n"
     ]
    }
   ],
   "source": [
    "# 이 예제에서 break는 안쪽 반복문을 빠져나옴 \n",
    "for a in range(0,3):       #a = 0, 1, 2\n",
    "    for b in range(1,3):   #b= 1, 2\n",
    "        if a==b:      #a가1 b가1 빠져나가서 실행안하고      a가2 b가2 빠져나가서 실행안하고\n",
    "            break;          \n",
    "        print(a,b)"
   ]
  },
  {
   "cell_type": "code",
   "execution_count": 23,
   "metadata": {
    "ExecuteTime": {
     "end_time": "2021-02-23T07:38:19.578843Z",
     "start_time": "2021-02-23T07:38:19.574874Z"
    }
   },
   "outputs": [
    {
     "name": "stdout",
     "output_type": "stream",
     "text": [
      "0 1\n",
      "0 2\n"
     ]
    }
   ],
   "source": [
    "# break를 만나면 바깥쪽 반복문까지 탈출; 방법1. 플러그 변수 이용 \n",
    "break_out_flag = False\n",
    "for a in range(0,3):\n",
    "    for b in range(1,3):\n",
    "        if a==b:\n",
    "                break_out_flag = True   #break를 만났던 애\n",
    "                break;\n",
    "        print(a,b)\n",
    "    if break_out_flag:\n",
    "        break;"
   ]
  },
  {
   "cell_type": "code",
   "execution_count": null,
   "metadata": {},
   "outputs": [],
   "source": [
    "# break를 만나면 바깥쪽 반복문까지 탈출; 방법2: Exception이용 \n"
   ]
  },
  {
   "cell_type": "code",
   "execution_count": 25,
   "metadata": {
    "ExecuteTime": {
     "end_time": "2021-02-23T07:42:13.356651Z",
     "start_time": "2021-02-23T07:42:13.352661Z"
    }
   },
   "outputs": [],
   "source": [
    "class BreakOutLoop(Exception): \n",
    "    pass #아무것도 추가하지 않겠다 "
   ]
  },
  {
   "cell_type": "code",
   "execution_count": 26,
   "metadata": {
    "ExecuteTime": {
     "end_time": "2021-02-23T07:44:10.953711Z",
     "start_time": "2021-02-23T07:44:10.949739Z"
    }
   },
   "outputs": [
    {
     "name": "stdout",
     "output_type": "stream",
     "text": [
      "0 1\n",
      "0 2\n"
     ]
    }
   ],
   "source": [
    "for a in range(0,3):  #0부터2까지    #안에는1부터3까지\n",
    "    try:\n",
    "        for b in range(1,3):\n",
    "            if a==b:\n",
    "                raise BreakOutLoop\n",
    "            print(a,b)\n",
    "    except BreakOutLoop:\n",
    "        break;\n",
    "    "
   ]
  },
  {
   "cell_type": "code",
   "execution_count": 27,
   "metadata": {
    "ExecuteTime": {
     "end_time": "2021-02-23T07:46:32.497932Z",
     "start_time": "2021-02-23T07:46:32.493963Z"
    }
   },
   "outputs": [
    {
     "name": "stdout",
     "output_type": "stream",
     "text": [
      "0 1\n",
      "0 2\n",
      "a와b가 같아지면 break\n"
     ]
    }
   ],
   "source": [
    "try:\n",
    "    for a in range(3):\n",
    "        for b in range(1,3):\n",
    "            if a==b:\n",
    "                raise BreakOutLoop\n",
    "            print(a,b)\n",
    "except BreakOutLoop:     #  ':' 이거 나오면 뒤에 무조건 무엇을 써야 \n",
    "    print('a와b가 같아지면 break')   #아무일도 하지 않도록 "
   ]
  },
  {
   "cell_type": "markdown",
   "metadata": {},
   "source": [
    "# 5절. 실습형 연습문제"
   ]
  },
  {
   "cell_type": "code",
   "execution_count": 41,
   "metadata": {
    "ExecuteTime": {
     "end_time": "2021-02-23T09:00:29.479831Z",
     "start_time": "2021-02-23T09:00:26.636840Z"
    }
   },
   "outputs": [
    {
     "name": "stdout",
     "output_type": "stream",
     "text": [
      "양의 정수를 입력하세요9\n",
      "9를 입력하셨네요. 홀수입니다.\n"
     ]
    }
   ],
   "source": [
    "#1. 양의 정수를 입력 받아 홀수인지 짝수인지를 판별하는 프로그램을 작성하세요. \n",
    "#양의 정수가 아니면 숫자를 다시 입력 받아야 합니다.\n",
    "num = -1     ##########????????????????????????????????????????????????????\n",
    "while(num <=0): \n",
    "    num = int(input('양의 정수를 입력하세요')) \n",
    "    if (num>0) and (num%2 ==0):\n",
    "        print(\"{}를 입력하셨네요. 짝수입니다.\".format(num))\n",
    "    elif(num>0) and (num%2==1):\n",
    "        print(\"{}를 입력하셨네요. 홀수입니다.\".format(num))\n",
    "    else:\n",
    "        print('양수')\n",
    "        \n",
    "    \n",
    "#######복습!#################\n",
    "\n"
   ]
  },
  {
   "cell_type": "code",
   "execution_count": 42,
   "metadata": {
    "ExecuteTime": {
     "end_time": "2021-02-23T09:02:06.844832Z",
     "start_time": "2021-02-23T09:02:04.353961Z"
    }
   },
   "outputs": [
    {
     "name": "stdout",
     "output_type": "stream",
     "text": [
      "양수를 입력: 8\n",
      "짝수\n"
     ]
    }
   ],
   "source": [
    "while(True):\n",
    "    num = int(input('양수를 입력: '))\n",
    "    if(num>0):\n",
    "        if num%2==0:\n",
    "            print(\"짝수\")\n",
    "        else:\n",
    "            print(\"홀수\")\n",
    "        break\n",
    "    else:\n",
    "        print(\"양수를 입력하세요\")\n",
    "        \n",
    "#######복습!#################\n"
   ]
  },
  {
   "cell_type": "code",
   "execution_count": 44,
   "metadata": {
    "ExecuteTime": {
     "end_time": "2021-02-23T09:04:22.278893Z",
     "start_time": "2021-02-23T09:04:22.275891Z"
    }
   },
   "outputs": [
    {
     "name": "stdout",
     "output_type": "stream",
     "text": [
      "1~50까지의 3의 배수의 총합: 408\n"
     ]
    }
   ],
   "source": [
    "#2. 1~50까지 자연수 중 '3의 배수의 총합'을 출력하는 프로그램을 작성하세요\n",
    "sum = 0\n",
    "for i in range (1,51):\n",
    "    if(i%3==0):      #질문:num%2==1 이것은 홀수로 표현할 수 있는지????????????????????????\n",
    "        sum+=i    #sum= sum+i\n",
    "else:\n",
    "    print('1~50까지의 3의 배수의 총합:', sum)\n"
   ]
  },
  {
   "cell_type": "code",
   "execution_count": 39,
   "metadata": {
    "ExecuteTime": {
     "end_time": "2021-02-23T08:53:52.550051Z",
     "start_time": "2021-02-23T08:53:52.545084Z"
    }
   },
   "outputs": [
    {
     "name": "stdout",
     "output_type": "stream",
     "text": [
      "*****\n",
      "*****\n",
      "*****\n",
      "*****\n",
      "*****\n"
     ]
    }
   ],
   "source": [
    "#3(a). 아래 패턴의 별을 출력하는 프로그램을 작성하세요.\n",
    "print('a')\n",
    "for i in range(5):            #0부터 4까지  5번 반복. 세로 방향\n",
    "    for j in range(5):        #0부터 4까지   5번 반복. 가로 방향\n",
    "       # if j == i:             # 세로 방향 변수와 같을 때    #왜 이 부분 없어도되는지??????????????????????\n",
    "            print('*****',end='') # 별 출력. end에 ''를 지정하여 줄바꿈을 하지 않음\n",
    "    print()                 # 가로 방향으로 별을 다 그린 뒤 다음 줄로 넘어감\n",
    "\n"
   ]
  },
  {
   "cell_type": "code",
   "execution_count": 45,
   "metadata": {
    "ExecuteTime": {
     "end_time": "2021-02-23T09:07:10.028989Z",
     "start_time": "2021-02-23T09:07:10.024003Z"
    }
   },
   "outputs": [
    {
     "name": "stdout",
     "output_type": "stream",
     "text": [
      "b\n",
      "*\n",
      "**\n",
      "***\n",
      "****\n",
      "*****\n"
     ]
    }
   ],
   "source": [
    "#3(b). 선생님방법 \n",
    "print('b')\n",
    "for i in range(5):\n",
    "    for j in range(i+1):\n",
    "        print('*', end='')\n",
    "    print()\n",
    "                                            #######복습!#################"
   ]
  },
  {
   "cell_type": "code",
   "execution_count": 38,
   "metadata": {
    "ExecuteTime": {
     "end_time": "2021-02-23T08:48:50.754418Z",
     "start_time": "2021-02-23T08:48:50.749452Z"
    },
    "code_folding": []
   },
   "outputs": [
    {
     "name": "stdout",
     "output_type": "stream",
     "text": [
      "*\n",
      "**\n",
      "***\n",
      "****\n",
      "*****\n"
     ]
    }
   ],
   "source": [
    "#3(b). \n",
    "print('')\n",
    "for i in range(5):              #0부터 4까지  5번 반복. 세로 방향\n",
    "    for j in range(5):         #0부터 4까지   5번 반복. 가로 방향\n",
    "        if j <= i:             #세로 방향 변수 i 만큼\n",
    "                                    #첫 번째 줄에는 별이 한 개, 두 번째 줄에는 별이 두 개, \n",
    "                         #세 번째 줄에는 별이 세 개, 네 번째 줄에는 별이 네 개, 다섯 번째 줄에는 별이 다섯 개입니다.\n",
    "                  #즉, 별의 개수는 세로 방향인 줄의 위치에 비례하므로 조건식도 세로 방향 변수 i에 맞추어 작성해야 합니다.\n",
    "            print('*', end='') #별 출력. end에 '' 를 지정하여 줄바꿈을 하지 않음\n",
    "    print()                     #가로 방향으로 별을 다 그린 뒤 다음 줄로 넘어감 \n",
    "\n"
   ]
  },
  {
   "cell_type": "code",
   "execution_count": 46,
   "metadata": {
    "ExecuteTime": {
     "end_time": "2021-02-23T09:07:51.063739Z",
     "start_time": "2021-02-23T09:07:51.058752Z"
    }
   },
   "outputs": [
    {
     "name": "stdout",
     "output_type": "stream",
     "text": [
      "c\n",
      "*****\n",
      "****\n",
      "***\n",
      "**\n",
      "*\n"
     ]
    }
   ],
   "source": [
    "#3(c). \n",
    "print('c')\n",
    "for i in range(5, 0, -1):\n",
    "    for j in range(i):\n",
    "        print('*', end='')\n",
    "    print()\n",
    "\n",
    "#######복습!#################"
   ]
  },
  {
   "cell_type": "code",
   "execution_count": 47,
   "metadata": {
    "ExecuteTime": {
     "end_time": "2021-02-23T09:08:02.791663Z",
     "start_time": "2021-02-23T09:08:02.786675Z"
    }
   },
   "outputs": [
    {
     "name": "stdout",
     "output_type": "stream",
     "text": [
      "d\n",
      "    *\n",
      "   **\n",
      "  ***\n",
      " ****\n",
      "*****\n"
     ]
    }
   ],
   "source": [
    "#3(d). \n",
    "\n",
    "print('d')\n",
    "for j in range(1,6):\n",
    "    for i in range(5-j):\n",
    "        print(' ', end='')\n",
    "    for i in range(j):\n",
    "        print('*', end='')\n",
    "    print()\n",
    "    \n",
    " #######복습!#################   "
   ]
  },
  {
   "cell_type": "code",
   "execution_count": 48,
   "metadata": {
    "ExecuteTime": {
     "end_time": "2021-02-23T09:08:30.803998Z",
     "start_time": "2021-02-23T09:08:30.799032Z"
    }
   },
   "outputs": [
    {
     "name": "stdout",
     "output_type": "stream",
     "text": [
      "d\n",
      "    *\n",
      "   **\n",
      "  ***\n",
      " ****\n",
      "*****\n"
     ]
    }
   ],
   "source": [
    "#3(d). 두 번째 방법\n",
    "print('d')\n",
    "for j in range(1,6):\n",
    "    start = ''\n",
    "    for i in range(5-j):\n",
    "        start += ' '\n",
    "    for i in range(j):\n",
    "        start += '*'\n",
    "    print(start)\n",
    "\n"
   ]
  },
  {
   "cell_type": "code",
   "execution_count": 50,
   "metadata": {
    "ExecuteTime": {
     "end_time": "2021-02-23T09:08:46.576606Z",
     "start_time": "2021-02-23T09:08:46.570642Z"
    }
   },
   "outputs": [
    {
     "name": "stdout",
     "output_type": "stream",
     "text": [
      "e\n",
      "*****\n",
      " ****\n",
      "  ***\n",
      "   **\n",
      "    *\n"
     ]
    }
   ],
   "source": [
    "#3(e). \n",
    "print('e')\n",
    "for i in range(5,0, -1):\n",
    "    for k in range(5-i):\n",
    "        print(' ', end='')\n",
    "    for j in range(i):\n",
    "        print('*', end='')\n",
    "    print()\n"
   ]
  },
  {
   "cell_type": "markdown",
   "metadata": {},
   "source": [
    "# 5-1절. 서술형 연습문제 (p24부터)"
   ]
  },
  {
   "cell_type": "code",
   "execution_count": 51,
   "metadata": {
    "ExecuteTime": {
     "end_time": "2021-02-23T09:09:28.560689Z",
     "start_time": "2021-02-23T09:09:28.555689Z"
    },
    "code_folding": []
   },
   "outputs": [
    {
     "name": "stdout",
     "output_type": "stream",
     "text": [
      "165\n"
     ]
    }
   ],
   "source": [
    "\n",
    "\n",
    "#1. 다음 코드는 1부터 30까지(30포함) 자연수 중에서 3의 배수의 총 합을 출력하는 프로그램입니다. 빈칸의 코드를 완성하시오.\n",
    "\n",
    "sum = 0\n",
    "for i in range(1,31):\n",
    "    if (i%3==0):     ########중요  빈칸문제 (i%3==0) #########\n",
    "        sum = sum + i\n",
    "    else:\n",
    "        pass\n",
    "print(sum) \n"
   ]
  },
  {
   "cell_type": "code",
   "execution_count": 53,
   "metadata": {
    "ExecuteTime": {
     "end_time": "2021-02-23T09:10:21.351561Z",
     "start_time": "2021-02-23T09:10:21.346595Z"
    }
   },
   "outputs": [
    {
     "name": "stdout",
     "output_type": "stream",
     "text": [
      "1 3 5 7 9 "
     ]
    }
   ],
   "source": [
    "#2. 다음 코드의 실행결과가 “1 3 5 7 9”가 되도록 빈칸을 완성하시오\n",
    "\n",
    "num = 0\n",
    "while num <= 10:   ########중요  빈칸문제 while ######### \n",
    "    if num%2 == 1:\n",
    "        print(num, end=' ')\n",
    "    num += 1\n"
   ]
  },
  {
   "cell_type": "code",
   "execution_count": 68,
   "metadata": {
    "ExecuteTime": {
     "end_time": "2021-02-23T09:12:17.832862Z",
     "start_time": "2021-02-23T09:12:17.828871Z"
    }
   },
   "outputs": [
    {
     "name": "stdout",
     "output_type": "stream",
     "text": [
      "1 2 3 \n",
      "4 5 6 7 \n",
      "8 9 \n"
     ]
    }
   ],
   "source": [
    "#3. 다음 2차원 리스트의 모든 값을 출력하는 코드입니다. 빈칸을 완성하시오.\n",
    "\n",
    "list_2d = [ [1,2,3],[4,5,6,7],[8,9]]\n",
    "for row in list_2d:\n",
    "    for data in row:   ########중요  빈칸문제 '전체 줄'######### \n",
    "        print(data, end=' ')\n",
    "    print() \n",
    "\n",
    "    \n"
   ]
  },
  {
   "cell_type": "code",
   "execution_count": 69,
   "metadata": {
    "ExecuteTime": {
     "end_time": "2021-02-23T09:12:54.056052Z",
     "start_time": "2021-02-23T09:12:54.051079Z"
    }
   },
   "outputs": [
    {
     "name": "stdout",
     "output_type": "stream",
     "text": [
      "0 apple\n",
      "1 banana\n"
     ]
    }
   ],
   "source": [
    "#4. 다음 빈칸에 들어갈 함수 이름은?\n",
    "colors = {\"red\":\"apple\", 'yellow':'banana'}\n",
    "for i, v in enumerate(colors.values()):  ########중요  빈칸문제 'enumerate' ######### \n",
    "    print(i, v)\n"
   ]
  },
  {
   "cell_type": "code",
   "execution_count": 31,
   "metadata": {
    "ExecuteTime": {
     "end_time": "2021-02-23T08:02:19.642675Z",
     "start_time": "2021-02-23T08:02:19.638686Z"
    }
   },
   "outputs": [
    {
     "name": "stdout",
     "output_type": "stream",
     "text": [
      "1 0\n"
     ]
    }
   ],
   "source": [
    "#5. 다음 코드의 실행결과는?          \n",
    "for i in range(0, 2):      # 0, 1\n",
    "    for j in range(0, 2):  # 0, 1\n",
    "        if i==j:           \n",
    "            break    #i가 0일때  j 0 1   --> 그러나 0 0 안에 for문 break빠져나옴  [뒤에 0 1 아예실행도안함]  -->따라서 밖에 for문으로 감.  \n",
    "                            #--> i가 1일때  j가 0 1    --> 그러나  1 1 빠져나옴   --> 따라서 출력결과   1  0\n",
    "        print(i, j)\n",
    "\n",
    "                             #########복습##################\n"
   ]
  },
  {
   "cell_type": "code",
   "execution_count": null,
   "metadata": {
    "code_folding": []
   },
   "outputs": [],
   "source": [
    "#6. 다음 코드의 실행 결과로 출력될 수 없는 것은?\n",
    "\n",
    "for i in range(0, 2):     #0,1\n",
    "    for j in range(0,2):  #0,1\n",
    "        print(i, j)    #i가 0일때, j 0 1     --> 00  01    #i가 1일때, j 0 1 --> 10 11 \n",
    "        if i==j:\n",
    "            break\n",
    "\n",
    "#① 0 0 \n",
    "#② 0 1  (x)   출력안됨        위 문제와 비교했을때 print의 위치를 봐 \n",
    "#③ 1 0 \n",
    "#④ 1 1\n"
   ]
  },
  {
   "cell_type": "code",
   "execution_count": 34,
   "metadata": {
    "ExecuteTime": {
     "end_time": "2021-02-23T08:21:18.403775Z",
     "start_time": "2021-02-23T08:21:18.399785Z"
    }
   },
   "outputs": [
    {
     "name": "stdout",
     "output_type": "stream",
     "text": [
      "3 5 7 9 "
     ]
    }
   ],
   "source": [
    "#7. 다음 코드의 실행결과는?\n",
    "\n",
    "L = [3, 4, 5, 6, 7, 8, 9, 10]\n",
    "for i, data in enumerate(L):       #여기서 i는 몇번째 방, data는 value \n",
    "    if (i%2 == 0):                 #'짝수번째 방'이면 출력       #0번째 방, 2번째 방, 4번째 방 , 6번째방 \n",
    "        print(data, end=' ')\n",
    "\n"
   ]
  },
  {
   "cell_type": "code",
   "execution_count": null,
   "metadata": {},
   "outputs": [],
   "source": []
  },
  {
   "cell_type": "code",
   "execution_count": null,
   "metadata": {},
   "outputs": [],
   "source": []
  }
 ],
 "metadata": {
  "kernelspec": {
   "display_name": "Python 3",
   "language": "python",
   "name": "python3"
  },
  "language_info": {
   "codemirror_mode": {
    "name": "ipython",
    "version": 3
   },
   "file_extension": ".py",
   "mimetype": "text/x-python",
   "name": "python",
   "nbconvert_exporter": "python",
   "pygments_lexer": "ipython3",
   "version": "3.8.5"
  },
  "toc": {
   "base_numbering": 1,
   "nav_menu": {},
   "number_sections": false,
   "sideBar": true,
   "skip_h1_title": false,
   "title_cell": "Table of Contents",
   "title_sidebar": "Contents",
   "toc_cell": false,
   "toc_position": {},
   "toc_section_display": true,
   "toc_window_display": true
  },
  "varInspector": {
   "cols": {
    "lenName": 16,
    "lenType": 16,
    "lenVar": 40
   },
   "kernels_config": {
    "python": {
     "delete_cmd_postfix": "",
     "delete_cmd_prefix": "del ",
     "library": "var_list.py",
     "varRefreshCmd": "print(var_dic_list())"
    },
    "r": {
     "delete_cmd_postfix": ") ",
     "delete_cmd_prefix": "rm(",
     "library": "var_list.r",
     "varRefreshCmd": "cat(var_dic_list()) "
    }
   },
   "types_to_exclude": [
    "module",
    "function",
    "builtin_function_or_method",
    "instance",
    "_Feature"
   ],
   "window_display": false
  }
 },
 "nbformat": 4,
 "nbformat_minor": 4
}

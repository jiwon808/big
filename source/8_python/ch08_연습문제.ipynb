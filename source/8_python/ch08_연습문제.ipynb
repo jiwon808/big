{
 "cells": [
  {
   "cell_type": "markdown",
   "metadata": {},
   "source": [
    "# 7절. 연습문제(실습형)"
   ]
  },
  {
   "cell_type": "code",
   "execution_count": null,
   "metadata": {},
   "outputs": [],
   "source": [
    "#1. 숫자 2개를 입력 받아 / 나눗셈 연산을 / 하는 프로그램을 작성\n",
    "#(1)두 숫자는 정수 또는 실수 이며 (2) 0으로 나눌 수 없다 \n",
    "# 올바른 두 수를 입력하고 / 나눗셈 연산결과를 출력한 후 / 종료 \n",
    "# 다음은 실행 후 출력 예시    [ch08강의 노트 p25 참조]\n",
    "\n",
    "#2. 1번 코드의 예외처리를 예외에 따라 다르게 처리\n",
    "# 숫자로 바꿀 수 없을 경우 ValueError가 발생\n",
    "# 0으로 나누려고 할 때  ZeroDivisionError가 발생\n",
    "# 다음은 실행 후 출력 예시 \n",
    "\n",
    "\n",
    "float(1.2)"
   ]
  },
  {
   "cell_type": "code",
   "execution_count": null,
   "metadata": {
    "ExecuteTime": {
     "end_time": "2021-02-26T08:12:47.598537Z",
     "start_time": "2021-02-26T08:09:32.006Z"
    }
   },
   "outputs": [],
   "source": [
    "\"\"\"\n",
    "x = int(input(\"첫 번째 수를 입력하세요:\"))\n",
    "y = float(input(\"두 번째 수를 입력하세요:\"))\n",
    "result = x/y\n",
    "print(\"x/y={}\".format(result))\n",
    "break;\n",
    "print(\"입력한 수는 {}과{}입니다\").format(x,y)\n",
    "\n",
    "\"\"\""
   ]
  },
  {
   "cell_type": "code",
   "execution_count": 3,
   "metadata": {
    "ExecuteTime": {
     "end_time": "2021-02-26T08:17:12.097461Z",
     "start_time": "2021-02-26T08:17:09.906871Z"
    }
   },
   "outputs": [
    {
     "name": "stdout",
     "output_type": "stream",
     "text": [
      "첫 번째 수를 입력하세요:3\n",
      "두 번째 수를 입력하세요:2\n",
      "입력한 정수는3,2.0입니다\n",
      "3을2.0로 나누면1.5\n"
     ]
    }
   ],
   "source": [
    "while True:\n",
    "    try:\n",
    "        x = int(input(\"첫 번째 수를 입력하세요:\"))\n",
    "        y = float(input(\"두 번째 수를 입력하세요:\"))\n",
    "        print(\"입력한 정수는{},{}입니다\".format(x,y)) \n",
    "        result = x/y\n",
    "        print(\"{}을{}로 나누면{}\".format(x,y,result))\n",
    "        break;\n",
    "    except ValueError:\n",
    "        print(\"유효한 정수를 다시 입력하세요.\")\n",
    "    except ZeroDivisionError: \n",
    "        print(\"0으로 나눌 수 없습니다. 다시 입력해주세요. \")"
   ]
  },
  {
   "cell_type": "code",
   "execution_count": null,
   "metadata": {},
   "outputs": [],
   "source": []
  },
  {
   "cell_type": "code",
   "execution_count": null,
   "metadata": {},
   "outputs": [],
   "source": []
  },
  {
   "cell_type": "markdown",
   "metadata": {},
   "source": [
    "# 7절. 연습문제(문제풀이형)"
   ]
  },
  {
   "cell_type": "code",
   "execution_count": null,
   "metadata": {},
   "outputs": [],
   "source": [
    "#1 예외처리에 대해 잘 못 설명한 것은?\n",
    "3번  (뒤에)"
   ]
  },
  {
   "cell_type": "code",
   "execution_count": null,
   "metadata": {},
   "outputs": [],
   "source": [
    "#2 예외처리에 대한 설명 중 잘못 된 것은?\n",
    "2번 (catch가 아니라 except)\n",
    "\n"
   ]
  },
  {
   "cell_type": "code",
   "execution_count": null,
   "metadata": {},
   "outputs": [],
   "source": [
    "#3. except절을 잘 못 사용한 것은?\n",
    "4번\n"
   ]
  },
  {
   "cell_type": "code",
   "execution_count": null,
   "metadata": {},
   "outputs": [],
   "source": [
    "#4. 예외처리에 사용하지 않는 구문은?\n",
    "3번"
   ]
  },
  {
   "cell_type": "code",
   "execution_count": null,
   "metadata": {},
   "outputs": [],
   "source": []
  },
  {
   "cell_type": "code",
   "execution_count": null,
   "metadata": {},
   "outputs": [],
   "source": []
  }
 ],
 "metadata": {
  "kernelspec": {
   "display_name": "Python 3",
   "language": "python",
   "name": "python3"
  },
  "language_info": {
   "codemirror_mode": {
    "name": "ipython",
    "version": 3
   },
   "file_extension": ".py",
   "mimetype": "text/x-python",
   "name": "python",
   "nbconvert_exporter": "python",
   "pygments_lexer": "ipython3",
   "version": "3.8.5"
  },
  "toc": {
   "base_numbering": 1,
   "nav_menu": {},
   "number_sections": false,
   "sideBar": true,
   "skip_h1_title": false,
   "title_cell": "Table of Contents",
   "title_sidebar": "Contents",
   "toc_cell": false,
   "toc_position": {},
   "toc_section_display": true,
   "toc_window_display": true
  },
  "varInspector": {
   "cols": {
    "lenName": 16,
    "lenType": 16,
    "lenVar": 40
   },
   "kernels_config": {
    "python": {
     "delete_cmd_postfix": "",
     "delete_cmd_prefix": "del ",
     "library": "var_list.py",
     "varRefreshCmd": "print(var_dic_list())"
    },
    "r": {
     "delete_cmd_postfix": ") ",
     "delete_cmd_prefix": "rm(",
     "library": "var_list.r",
     "varRefreshCmd": "cat(var_dic_list()) "
    }
   },
   "types_to_exclude": [
    "module",
    "function",
    "builtin_function_or_method",
    "instance",
    "_Feature"
   ],
   "window_display": false
  }
 },
 "nbformat": 4,
 "nbformat_minor": 4
}

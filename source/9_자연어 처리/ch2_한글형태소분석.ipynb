{
 "cells": [
  {
   "cell_type": "markdown",
   "metadata": {},
   "source": [
    "# 자연어 처리\n",
    "- 자연어 (사람들이 일상적으로 사용하는 언어) 처리 \n",
    "- 자연어 처리하는 분야\n",
    "    - 자연어 이해: 형태소 분석 -> 의미 분석 -> 대화분석 \n",
    "    - 자연어 생성: 대화분석 -> 다음 문장이나 단어 출력 \n",
    "- 활용 분야: 맞춤법검사, 번역기, 검색 엔진, 키워드분석\n"
   ]
  },
  {
   "cell_type": "markdown",
   "metadata": {},
   "source": [
    "# 형태소 분석 절차\n",
    "- 전처리: 단어, 어절 추출\n",
    "- 분석 후보 생성: 형태소 분리, 원형복원, 품사 태깅\n",
    "- 제약조건 규칙 확인 / 불용어 (안쓰는 단어) 처리\n",
    "- 분석 "
   ]
  },
  {
   "cell_type": "markdown",
   "metadata": {},
   "source": [
    "# 한글 형태소 분석 엔진\n",
    "- KoNLPy: 파이썬용 자연어 처리기 (JPypel 패키지를 의존)\n",
    "- KOMORAN: 자바로 만든 형태소 분석기 (JAVA_HOME 시스템변수)\n",
    "- HanNanum: 자바로 만든 형태소 분석기 (JAVA_HOME 시스템변수)\n",
    "- Kkma: 서울대학교 연구실 \n",
    "- KoNLP: R용 자연어 처리기"
   ]
  },
  {
   "cell_type": "code",
   "execution_count": 5,
   "metadata": {
    "ExecuteTime": {
     "end_time": "2021-03-25T08:45:24.357603Z",
     "start_time": "2021-03-25T08:45:21.233324Z"
    }
   },
   "outputs": [
    {
     "name": "stdout",
     "output_type": "stream",
     "text": [
      "Processing d:\\bigdata(psa)\\src\\9_자연어 처리\\jpype1-1.2.0-cp38-cp38-win_amd64.whl\n",
      "Installing collected packages: JPype1\n",
      "Successfully installed JPype1-1.2.0\n"
     ]
    }
   ],
   "source": [
    "# java_home있는지 확인 c:/program Files / java                  # pip show JPypel       pip uninstall JPypel\n",
    "#Step1\n",
    "! pip install JPype1-1.2.0-cp38-cp38-win_amd64.whl \n",
    "# KoNLPy 패키지 install\n",
    "  "
   ]
  },
  {
   "cell_type": "code",
   "execution_count": 7,
   "metadata": {
    "ExecuteTime": {
     "end_time": "2021-03-25T08:51:18.474175Z",
     "start_time": "2021-03-25T08:51:18.463203Z"
    }
   },
   "outputs": [],
   "source": [
    "text =\"\"\" 아름답지만 다소 복잡하기도 한 한국어는 전세계에서 13번째로 많이 사용되는 언어입니다 \"\"\""
   ]
  },
  {
   "cell_type": "markdown",
   "metadata": {},
   "source": [
    "# 3.1 HanNanum"
   ]
  },
  {
   "cell_type": "code",
   "execution_count": 10,
   "metadata": {
    "ExecuteTime": {
     "end_time": "2021-03-25T08:52:58.586682Z",
     "start_time": "2021-03-25T08:52:55.479079Z"
    }
   },
   "outputs": [
    {
     "data": {
      "text/plain": [
       "[[[('아름답', 'paa'), ('지만', 'ecs')],\n",
       "  [('아름답', 'paa'), ('지', 'ecs'), ('만', 'jxc')],\n",
       "  [('아름답', 'paa'), ('지', 'ecx'), ('말', 'px'), ('ㄴ', 'etm')]],\n",
       " [[('다소', 'mag')], [('다소', 'ncn')]],\n",
       " [[('복잡', 'ncn'), ('하기', 'ncn'), ('도', 'jxc')],\n",
       "  [('복잡', 'ncn'), ('하기', 'ncn'), ('도', 'ncn')],\n",
       "  [('복잡', 'ncps'), ('하기', 'ncn'), ('도', 'jxc')],\n",
       "  [('복잡', 'ncps'), ('하기', 'ncn'), ('도', 'ncn')],\n",
       "  [('복잡', 'ncps'), ('하', 'xsms'), ('기', 'etn'), ('도', 'jxc')]],\n",
       " [[('하', 'pvg'), ('ㄴ', 'etm')],\n",
       "  [('한', 'nnc')],\n",
       "  [('한', 'ncn')],\n",
       "  [('한', 'nbn')],\n",
       "  [('하', 'px'), ('ㄴ', 'etm')]],\n",
       " [[('한국어', 'ncn'), ('는', 'jxc')]],\n",
       " [[('전세계', 'ncn'), ('에서', 'jca')],\n",
       "  [('전세', 'ncn'), ('계', 'ncn'), ('에서', 'jca')],\n",
       "  [('전', 'xp'), ('세계', 'ncn'), ('에서', 'jca')]],\n",
       " [[('13', 'nnc'), ('번', 'nbu'), ('째', 'xsnu'), ('로', 'jca')]],\n",
       " [[('많', 'paa'), ('이', 'xsa')], [('많이', 'mag')]],\n",
       " [[('사용', 'ncpa'), ('되', 'xsvn'), ('는', 'etm')]],\n",
       " [[('언어', 'ncn'), ('이', 'jp'), ('ㅂ니다', 'ef')]]]"
      ]
     },
     "execution_count": 10,
     "metadata": {},
     "output_type": "execute_result"
    }
   ],
   "source": [
    "#Step(2)아나콘다에 plp install konlpy\n",
    "from konlpy.tag import Hannanum\n",
    "han = Hannanum()\n",
    "han.analyze(text)"
   ]
  },
  {
   "cell_type": "code",
   "execution_count": null,
   "metadata": {},
   "outputs": [],
   "source": []
  },
  {
   "cell_type": "code",
   "execution_count": null,
   "metadata": {},
   "outputs": [],
   "source": []
  },
  {
   "cell_type": "code",
   "execution_count": null,
   "metadata": {},
   "outputs": [],
   "source": []
  },
  {
   "cell_type": "code",
   "execution_count": null,
   "metadata": {},
   "outputs": [],
   "source": []
  }
 ],
 "metadata": {
  "kernelspec": {
   "display_name": "Python 3",
   "language": "python",
   "name": "python3"
  },
  "language_info": {
   "codemirror_mode": {
    "name": "ipython",
    "version": 3
   },
   "file_extension": ".py",
   "mimetype": "text/x-python",
   "name": "python",
   "nbconvert_exporter": "python",
   "pygments_lexer": "ipython3",
   "version": "3.8.5"
  },
  "toc": {
   "base_numbering": 1,
   "nav_menu": {},
   "number_sections": true,
   "sideBar": true,
   "skip_h1_title": false,
   "title_cell": "Table of Contents",
   "title_sidebar": "Contents",
   "toc_cell": false,
   "toc_position": {},
   "toc_section_display": true,
   "toc_window_display": false
  },
  "varInspector": {
   "cols": {
    "lenName": 16,
    "lenType": 16,
    "lenVar": 40
   },
   "kernels_config": {
    "python": {
     "delete_cmd_postfix": "",
     "delete_cmd_prefix": "del ",
     "library": "var_list.py",
     "varRefreshCmd": "print(var_dic_list())"
    },
    "r": {
     "delete_cmd_postfix": ") ",
     "delete_cmd_prefix": "rm(",
     "library": "var_list.r",
     "varRefreshCmd": "cat(var_dic_list()) "
    }
   },
   "types_to_exclude": [
    "module",
    "function",
    "builtin_function_or_method",
    "instance",
    "_Feature"
   ],
   "window_display": false
  }
 },
 "nbformat": 4,
 "nbformat_minor": 4
}

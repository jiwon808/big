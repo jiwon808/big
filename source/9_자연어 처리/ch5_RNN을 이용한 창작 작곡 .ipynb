{
 "cells": [
  {
   "cell_type": "markdown",
   "metadata": {},
   "source": [
    "# 코딩 준비\n",
    "<pre>\n",
    "참조 document : https://web.mit.edu/music21/doc/index.html\n",
    "참조 예제 : https://bit.ly/2HQ9Q4J\n",
    "참조 데이터 : https://tykimos.github.io/2017/04/09/RNN_Layer_Talk/\n",
    "악보 처리용 프로그램 추가 :https://musescore.org (MuseScore3인스톨)\n",
    "악보를 보기 위한 setting :\n",
    "us=music21.environment.UserSettings()\n",
    "us[\"musescoreDirectPNGPath\"]=\"C:/Program Files/MuseScore 3/bin/MuseScore3.exe\"\n",
    "\n",
    "pip install music21"
   ]
  },
  {
   "cell_type": "markdown",
   "metadata": {},
   "source": [
    "<pre>\n",
    "참조 document : https://web.mit.edu/music21/doc/index.html\n",
    "참조 예제 : https://bit.ly/2HQ9Q4J\n",
    "참조 데이터 : https://tykimos.github.io/2017/04/09/RNN_Layer_Talk/\n",
    "악보 처리용 프로그램 추가 :https://musescore.org (MuseScore3인스톨)\n",
    "악보를 보기 위한 setting :\n",
    "us=music21.environment.UserSettings()\n",
    "us[\"musescoreDirectPNGPath\"]=\"C:/Program Files/MuseScore 3/bin/MuseScore3.ex"
   ]
  },
  {
   "cell_type": "markdown",
   "metadata": {},
   "source": [
    "import tensorflow as tf\n",
    "print(tf.__version__)"
   ]
  },
  {
   "cell_type": "code",
   "execution_count": 63,
   "metadata": {
    "ExecuteTime": {
     "end_time": "2021-03-30T02:04:47.532367Z",
     "start_time": "2021-03-30T02:04:47.521375Z"
    }
   },
   "outputs": [],
   "source": [
    "import tensorflow as tf\n",
    "import numpy as np\n",
    "import music21\n",
    "from tensorflow.keras.models import Sequential\n",
    "from tensorflow.keras.layers import Dense, LSTM\n",
    "import tensorflow.keras.utils as utils\n",
    "import os "
   ]
  },
  {
   "cell_type": "markdown",
   "metadata": {},
   "source": [
    "## RNN을 이용한 창작 (작곡) - 1\n",
    "https://tykimos.github.io/2017/04/09/RNN_Layer_Talk/"
   ]
  },
  {
   "cell_type": "markdown",
   "metadata": {},
   "source": [
    "# 데이터 준비하기"
   ]
  },
  {
   "cell_type": "markdown",
   "metadata": {},
   "source": [
    "**시퀀스 데이터 정의**"
   ]
  },
  {
   "cell_type": "code",
   "execution_count": 4,
   "metadata": {
    "ExecuteTime": {
     "end_time": "2021-03-30T00:44:22.113116Z",
     "start_time": "2021-03-30T00:44:22.100151Z"
    }
   },
   "outputs": [
    {
     "name": "stdout",
     "output_type": "stream",
     "text": [
      "length of seq: 54\n"
     ]
    }
   ],
   "source": [
    "seq = ['g8', 'e8', 'e4', 'f8', 'd8', 'd4', 'c8', 'd8', 'e8', 'f8', 'g8', 'g8', 'g4',\n",
    "       'g8', 'e8', 'e8', 'e8', 'f8', 'd8', 'd4', 'c8', 'e8', 'g8', 'g8', 'e8', 'e8', 'e4',\n",
    "       'd8', 'd8', 'd8', 'd8', 'd8', 'e8', 'f4', 'e8', 'e8', 'e8', 'e8', 'e8', 'f8', 'g4',\n",
    "       'g8', 'e8', 'e4', 'f8', 'd8', 'd4', 'c8', 'e8', 'g8', 'g8', 'e8', 'e8', 'e4']\n",
    "print(\"length of seq: {0}\".format(len(seq)))"
   ]
  },
  {
   "cell_type": "code",
   "execution_count": 5,
   "metadata": {
    "ExecuteTime": {
     "end_time": "2021-03-30T00:44:56.622298Z",
     "start_time": "2021-03-30T00:44:56.614345Z"
    }
   },
   "outputs": [
    {
     "name": "stdout",
     "output_type": "stream",
     "text": [
      "['g8', 'e8', 'e4', 'f8', 'd8', 'd4', 'c8', 'd8', 'e8', 'f8', 'g8', 'g8', 'g4', 'g8', 'e8', 'e8', 'e8', 'f8', 'd8', 'd4', 'c8', 'e8', 'g8', 'g8', 'e8', 'e8', 'e4', 'd8', 'd8', 'd8', 'd8', 'd8', 'e8', 'f4', 'e8', 'e8', 'e8', 'e8', 'e8', 'f8', 'g4', 'g8', 'e8', 'e4', 'f8', 'd8', 'd4', 'c8', 'e8', 'g8', 'g8', 'e8', 'e8', 'e4']\n"
     ]
    }
   ],
   "source": [
    "print(seq)"
   ]
  },
  {
   "cell_type": "code",
   "execution_count": 9,
   "metadata": {
    "ExecuteTime": {
     "end_time": "2021-03-30T00:49:03.941074Z",
     "start_time": "2021-03-30T00:49:03.859304Z"
    }
   },
   "outputs": [
    {
     "name": "stdout",
     "output_type": "stream",
     "text": [
      "g8 e8 e4 f8 d8 d4 c8 d8 e8 f8 g8 g8 g4 g8 e8 e8 e8 f8 d8 d4 c8 e8 g8 g8 e8 e8 e4 d8 d8 d8 d8 d8 e8 f4 e8 e8 e8 e8 e8 f8 g4 g8 e8 e4 f8 d8 d4 c8 e8 g8 g8 e8 e8 e4\n"
     ]
    },
    {
     "data": {
      "text/html": [
       "\n",
       "                <div id='midiPlayerDiv3837'></div>\n",
       "                <link rel=\"stylesheet\" href=\"//cuthbertLab.github.io/music21j/css/m21.css\"\n",
       "                    type=\"text/css\" />\n",
       "                <script>\n",
       "                require.config({\n",
       "                    paths: {'music21': '//cuthbertLab.github.io/music21j/src/music21'}\n",
       "                });\n",
       "                require(['music21'], function() {\n",
       "                               mp = new music21.miditools.MidiPlayer();\n",
       "                               mp.addPlayer('#midiPlayerDiv3837');\n",
       "                               mp.base64Load('data:audio/midi;base64,TVRoZAAAAAYAAQACBABNVHJrAAAAFAD/UQMHoSAA/1gEAgIYCIgA/y8ATVRyawAAAfQA/wMAAOAAQIgAkENahACAQwAAkEBahACAQAAAkEBaiACAQAAAkEFahACAQQAAkD5ahACAPgAAkD5aiACAPgAAkDxahACAPAAAkD5ahACAPgAAkEBahACAQAAAkEFahACAQQAAkENahACAQwAAkENahACAQwAAkENaiACAQwAAkENahACAQwAAkEBahACAQAAAkEBahACAQAAAkEBahACAQAAAkEFahACAQQAAkD5ahACAPgAAkD5aiACAPgAAkDxahACAPAAAkEBahACAQAAAkENahACAQwAAkENahACAQwAAkEBahACAQAAAkEBahACAQAAAkEBaiACAQAAAkD5ahACAPgAAkD5ahACAPgAAkD5ahACAPgAAkD5ahACAPgAAkD5ahACAPgAAkEBahACAQAAAkEFaiACAQQAAkEBahACAQAAAkEBahACAQAAAkEBahACAQAAAkEBahACAQAAAkEBahACAQAAAkEFahACAQQAAkENaiACAQwAAkENahACAQwAAkEBahACAQAAAkEBaiACAQAAAkEFahACAQQAAkD5ahACAPgAAkD5aiACAPgAAkDxahACAPAAAkEBahACAQAAAkENahACAQwAAkENahACAQwAAkEBahACAQAAAkEBahACAQAAAkEBaiACAQACIAP8vAA==');\n",
       "                        });\n",
       "                </script>"
      ],
      "text/plain": [
       "<IPython.core.display.HTML object>"
      ]
     },
     "metadata": {},
     "output_type": "display_data"
    }
   ],
   "source": [
    "note_seq = \" \".join(seq)\n",
    "print(note_seq)\n",
    "m = music21.converter.parse(\"2/4 \" + note_seq, format='tinyNotation')\n",
    "m.show(\"midi\")"
   ]
  },
  {
   "cell_type": "code",
   "execution_count": 41,
   "metadata": {
    "ExecuteTime": {
     "end_time": "2021-03-30T01:39:28.187481Z",
     "start_time": "2021-03-30T01:39:26.501879Z"
    }
   },
   "outputs": [
    {
     "data": {
      "image/png": "[encoded data removed]",
      "text/plain": [
       "<IPython.core.display.Image object>"
      ]
     },
     "metadata": {
      "image/png": {
       "height": 180,
       "width": 708
      }
     },
     "output_type": "display_data"
    }
   ],
   "source": [
    "us=music21.environment.UserSettings()\n",
    "us[\"musescoreDirectPNGPath\"]=\"C:/Program Files/MuseScore 3/bin/MuseScore3.exe\"\n",
    "m.show()"
   ]
  },
  {
   "cell_type": "code",
   "execution_count": 10,
   "metadata": {
    "ExecuteTime": {
     "end_time": "2021-03-30T00:56:24.589729Z",
     "start_time": "2021-03-30T00:56:24.580773Z"
    }
   },
   "outputs": [
    {
     "data": {
      "text/plain": [
       "'g8 e8 e4 f8 d8 d4 c8 d8 e8 f8 g8 g8 g4 g8 e8 e8 e8 f8 d8 d4 c8 e8 g8 g8 e8 e8 e4 d8 d8 d8 d8 d8 e8 f4 e8 e8 e8 e8 e8 f8 g4 g8 e8 e4 f8 d8 d4 c8 e8 g8 g8 e8 e8 e4'"
      ]
     },
     "execution_count": 10,
     "metadata": {},
     "output_type": "execute_result"
    }
   ],
   "source": [
    "note_seq"
   ]
  },
  {
   "cell_type": "code",
   "execution_count": 11,
   "metadata": {
    "ExecuteTime": {
     "end_time": "2021-03-30T00:59:25.364645Z",
     "start_time": "2021-03-30T00:59:25.345674Z"
    }
   },
   "outputs": [
    {
     "name": "stdout",
     "output_type": "stream",
     "text": [
      "[2, 1, 5, 4, 3, 6, 7, 3, 1, 4, 2, 2, 8, 2, 1, 1, 1, 4, 3, 6, 7, 1, 2, 2, 1, 1, 5, 3, 3, 3, 3, 3, 1, 9, 1, 1, 1, 1, 1, 4, 8, 2, 1, 5, 4, 3, 6, 7, 1, 2, 2, 1, 1, 5]\n",
      "{'e8': 1, 'g8': 2, 'd8': 3, 'f8': 4, 'e4': 5, 'd4': 6, 'c8': 7, 'g4': 8, 'f4': 9}\n"
     ]
    }
   ],
   "source": [
    "from keras_preprocessing.text import Tokenizer\n",
    "t= Tokenizer()\n",
    "t.fit_on_texts([seq])\n",
    "encoded = t.texts_to_sequences([seq])[0]\n",
    "print(encoded)\n",
    "print(t.word_index)"
   ]
  },
  {
   "cell_type": "markdown",
   "metadata": {},
   "source": [
    "**코드 사전 정의**"
   ]
  },
  {
   "cell_type": "code",
   "execution_count": 12,
   "metadata": {
    "ExecuteTime": {
     "end_time": "2021-03-30T01:02:17.233297Z",
     "start_time": "2021-03-30T01:02:17.226309Z"
    }
   },
   "outputs": [],
   "source": [
    "# (위에 없는 것도 포함됨)\n",
    "code2idx = {'c4': 0, 'd4': 1, 'e4': 2, 'f4': 3, 'g4': 4, 'a4': 5, 'b4': 6,\n",
    "            'c8': 7, 'd8': 8, 'e8': 9, 'f8': 10, 'g8': 11, 'a8': 12, 'b8': 13}\n",
    "\n",
    "idx2code = {0: 'c4', 1: 'd4', 2: 'e4', 3: 'f4', 4: 'g4', 5: 'a4', 6: 'b4',\n",
    "            7: 'c8', 8: 'd8', 9: 'e8', 10: 'f8', 11: 'g8', 12: 'a8', 13: 'b8'}"
   ]
  },
  {
   "cell_type": "markdown",
   "metadata": {},
   "source": [
    "# 데이터셋 생성하기"
   ]
  },
  {
   "cell_type": "markdown",
   "metadata": {},
   "source": [
    "**데이터셋 생성 함수**"
   ]
  },
  {
   "cell_type": "code",
   "execution_count": 13,
   "metadata": {
    "ExecuteTime": {
     "end_time": "2021-03-30T01:04:50.890676Z",
     "start_time": "2021-03-30T01:04:50.886674Z"
    }
   },
   "outputs": [
    {
     "data": {
      "text/plain": [
       "'g8 e8 e4 f8 d8 d4 c8 d8 e8 f8 g8 g8 g4 g8 e8 e8 e8 f8 d8 d4 c8 e8 g8 g8 e8 e8 e4 d8 d8 d8 d8 d8 e8 f4 e8 e8 e8 e8 e8 f8 g4 g8 e8 e4 f8 d8 d4 c8 e8 g8 g8 e8 e8 e4'"
      ]
     },
     "execution_count": 13,
     "metadata": {},
     "output_type": "execute_result"
    }
   ],
   "source": [
    "note_seq"
   ]
  },
  {
   "cell_type": "code",
   "execution_count": 14,
   "metadata": {
    "ExecuteTime": {
     "end_time": "2021-03-30T01:05:03.084837Z",
     "start_time": "2021-03-30T01:05:03.077876Z"
    }
   },
   "outputs": [
    {
     "data": {
      "text/plain": [
       "11"
      ]
     },
     "execution_count": 14,
     "metadata": {},
     "output_type": "execute_result"
    }
   ],
   "source": [
    "code2idx['g8']"
   ]
  },
  {
   "cell_type": "code",
   "execution_count": 16,
   "metadata": {
    "ExecuteTime": {
     "end_time": "2021-03-30T01:06:02.998973Z",
     "start_time": "2021-03-30T01:06:02.985010Z"
    }
   },
   "outputs": [
    {
     "name": "stdout",
     "output_type": "stream",
     "text": [
      "['g8', 'e8', 'e4', 'f8', 'd8', 'd4', 'c8', 'd8', 'e8', 'f8', 'g8', 'g8', 'g4', 'g8', 'e8', 'e8', 'e8', 'f8', 'd8', 'd4', 'c8', 'e8', 'g8', 'g8', 'e8', 'e8', 'e4', 'd8', 'd8', 'd8', 'd8', 'd8', 'e8', 'f4', 'e8', 'e8', 'e8', 'e8', 'e8', 'f8', 'g4', 'g8', 'e8', 'e4', 'f8', 'd8', 'd4', 'c8', 'e8', 'g8', 'g8', 'e8', 'e8', 'e4']\n"
     ]
    }
   ],
   "source": [
    "print(seq)"
   ]
  },
  {
   "cell_type": "code",
   "execution_count": 33,
   "metadata": {
    "ExecuteTime": {
     "end_time": "2021-03-30T01:24:44.169092Z",
     "start_time": "2021-03-30T01:24:44.152138Z"
    }
   },
   "outputs": [
    {
     "name": "stdout",
     "output_type": "stream",
     "text": [
      "11921081789101111411999108179111199288888939999910411921081791111992"
     ]
    },
    {
     "data": {
      "text/plain": [
       "[11,\n",
       " 9,\n",
       " 2,\n",
       " 10,\n",
       " 8,\n",
       " 1,\n",
       " 7,\n",
       " 8,\n",
       " 9,\n",
       " 10,\n",
       " 11,\n",
       " 11,\n",
       " 4,\n",
       " 11,\n",
       " 9,\n",
       " 9,\n",
       " 9,\n",
       " 10,\n",
       " 8,\n",
       " 1,\n",
       " 7,\n",
       " 9,\n",
       " 11,\n",
       " 11,\n",
       " 9,\n",
       " 9,\n",
       " 2,\n",
       " 8,\n",
       " 8,\n",
       " 8,\n",
       " 8,\n",
       " 8,\n",
       " 9,\n",
       " 3,\n",
       " 9,\n",
       " 9,\n",
       " 9,\n",
       " 9,\n",
       " 9,\n",
       " 10,\n",
       " 4,\n",
       " 11,\n",
       " 9,\n",
       " 2,\n",
       " 10,\n",
       " 8,\n",
       " 1,\n",
       " 7,\n",
       " 9,\n",
       " 11,\n",
       " 11,\n",
       " 9,\n",
       " 9,\n",
       " 2]"
      ]
     },
     "execution_count": 33,
     "metadata": {},
     "output_type": "execute_result"
    }
   ],
   "source": [
    "for item in seq:\n",
    "    print(code2idx[item], end='')\n",
    "[code2idx[item] for item in seq]"
   ]
  },
  {
   "cell_type": "code",
   "execution_count": 18,
   "metadata": {
    "ExecuteTime": {
     "end_time": "2021-03-30T01:07:37.578976Z",
     "start_time": "2021-03-30T01:07:37.571995Z"
    },
    "scrolled": true
   },
   "outputs": [
    {
     "name": "stdout",
     "output_type": "stream",
     "text": [
      "[11, 9, 2, 10, 8, 1, 7, 8, 9, 10, 11, 11, 4, 11, 9, 9, 9, 10, 8, 1, 7, 9, 11, 11, 9, 9, 2, 8, 8, 8, 8, 8, 9, 3, 9, 9, 9, 9, 9, 10, 4, 11, 9, 2, 10, 8, 1, 7, 9, 11, 11, 9, 9, 2]\n"
     ]
    }
   ],
   "source": [
    "print([code2idx[item] for item in seq])  #code2idx[item] 내용으로  / seq범위안에서 for문돌려  ?????"
   ]
  },
  {
   "cell_type": "code",
   "execution_count": null,
   "metadata": {},
   "outputs": [],
   "source": [
    "#11, 9, 2, 10, 8 이렇게 5개 자르고 =>  9, 2, 10, 8, 1 이렇게 5개 자르고  => 2, 10, 8, 1,7 이렇게  5개 자르고 "
   ]
  },
  {
   "cell_type": "code",
   "execution_count": 36,
   "metadata": {
    "ExecuteTime": {
     "end_time": "2021-03-30T01:35:06.528381Z",
     "start_time": "2021-03-30T01:35:06.512397Z"
    }
   },
   "outputs": [],
   "source": [
    "# seq를 학습시킬 데이터 셋으로 반환하는 함수 \n",
    "# seq = 음계가 담긴 list, window_size: 독립변수의 갯수 \n",
    "def seq2dataset(seq,window_size):        #window_size  (독립변수)가 4개면   5개 씩 잘라  ***************\n",
    "    dataset = []\n",
    "    for i in range(len(seq)-window_size):   #Dense 를 써야하기 때문에  IV의 갯수가 똑같아야\n",
    "        subset = seq[i : (i+window_size+1)]   #window_size가4면   5개가 되도록 자름\n",
    "        encoded = [code2idx[item] for item in subset]    #g8대신 11, e8대신 9가 대치되어야 \n",
    "        dataset.append(encoded)\n",
    "    return np.array(dataset)"
   ]
  },
  {
   "cell_type": "code",
   "execution_count": 37,
   "metadata": {
    "ExecuteTime": {
     "end_time": "2021-03-30T01:35:08.036327Z",
     "start_time": "2021-03-30T01:35:08.022365Z"
    }
   },
   "outputs": [
    {
     "name": "stdout",
     "output_type": "stream",
     "text": [
      "['g8', 'e8', 'e4', 'f8', 'd8', 'd4', 'c8', 'd8', 'e8', 'f8']\n",
      "[[11  9  2 10  8]\n",
      " [ 9  2 10  8  1]\n",
      " [ 2 10  8  1  7]\n",
      " [10  8  1  7  8]\n",
      " [ 8  1  7  8  9]\n",
      " [ 1  7  8  9 10]]\n"
     ]
    }
   ],
   "source": [
    "print(seq[0:10])\n",
    "print(seq2dataset(seq[0:10],4))   #갯수가 53이면 inex는54까지 있다         #????????????????"
   ]
  },
  {
   "cell_type": "markdown",
   "metadata": {},
   "source": [
    "**생성**"
   ]
  },
  {
   "cell_type": "code",
   "execution_count": 39,
   "metadata": {
    "ExecuteTime": {
     "end_time": "2021-03-30T01:37:15.819737Z",
     "start_time": "2021-03-30T01:37:15.808790Z"
    }
   },
   "outputs": [
    {
     "name": "stdout",
     "output_type": "stream",
     "text": [
      "[[11  9  2 10  8]\n",
      " [ 9  2 10  8  1]]\n"
     ]
    },
    {
     "data": {
      "text/plain": [
       "(50, 5)"
      ]
     },
     "execution_count": 39,
     "metadata": {},
     "output_type": "execute_result"
    }
   ],
   "source": [
    "n_steps = 4  #4개씩 학습 (IV 갯수)\n",
    "n_inputs =1 \n",
    "dataset = seq2dataset(seq=seq, window_size = n_steps)\n",
    "print(dataset[:2])  #0,1번방 \n",
    "dataset.shape"
   ]
  },
  {
   "cell_type": "markdown",
   "metadata": {},
   "source": [
    "## 독립변수 (X), 종속변수 (Y)로 분리 "
   ]
  },
  {
   "cell_type": "code",
   "execution_count": 42,
   "metadata": {
    "ExecuteTime": {
     "end_time": "2021-03-30T01:40:05.722809Z",
     "start_time": "2021-03-30T01:40:05.711813Z"
    },
    "scrolled": true
   },
   "outputs": [
    {
     "name": "stdout",
     "output_type": "stream",
     "text": [
      "[11  9  2 10  8]\n",
      "[11  9  2 10] 8\n",
      "(50, 4) (50,)\n"
     ]
    }
   ],
   "source": [
    "x_train = dataset [:,:-1]\n",
    "y_train = dataset [:,-1]\n",
    "print(dataset[0])\n",
    "print(x_train[0],y_train[0])\n",
    "print(x_train.shape,y_train.shape)"
   ]
  },
  {
   "cell_type": "code",
   "execution_count": 44,
   "metadata": {
    "ExecuteTime": {
     "end_time": "2021-03-30T01:41:28.005957Z",
     "start_time": "2021-03-30T01:41:27.993985Z"
    }
   },
   "outputs": [
    {
     "data": {
      "text/plain": [
       "{'c4': 0,\n",
       " 'd4': 1,\n",
       " 'e4': 2,\n",
       " 'f4': 3,\n",
       " 'g4': 4,\n",
       " 'a4': 5,\n",
       " 'b4': 6,\n",
       " 'c8': 7,\n",
       " 'd8': 8,\n",
       " 'e8': 9,\n",
       " 'f8': 10,\n",
       " 'g8': 11,\n",
       " 'a8': 12,\n",
       " 'b8': 13}"
      ]
     },
     "execution_count": 44,
     "metadata": {},
     "output_type": "execute_result"
    }
   ],
   "source": [
    "code2idx"
   ]
  },
  {
   "cell_type": "markdown",
   "metadata": {},
   "source": [
    "- **정규화 시킬 때 나눌 값:  code2idx의 제일 큰 values 값**"
   ]
  },
  {
   "cell_type": "code",
   "execution_count": 46,
   "metadata": {
    "ExecuteTime": {
     "end_time": "2021-03-30T01:41:55.519981Z",
     "start_time": "2021-03-30T01:41:55.511006Z"
    }
   },
   "outputs": [
    {
     "data": {
      "text/plain": [
       "13"
      ]
     },
     "execution_count": 46,
     "metadata": {},
     "output_type": "execute_result"
    }
   ],
   "source": [
    "# 정규화 시킬 때 나눌 값:  code2idx의 제일 큰 values 값\n",
    "max_idx_value = max(code2idx.values())       #dictionary는 key값을 한다\n",
    "max_idx_value"
   ]
  },
  {
   "cell_type": "markdown",
   "metadata": {},
   "source": [
    "## 독립변수 정규화 "
   ]
  },
  {
   "cell_type": "code",
   "execution_count": 47,
   "metadata": {
    "ExecuteTime": {
     "end_time": "2021-03-30T01:43:13.769719Z",
     "start_time": "2021-03-30T01:43:13.762738Z"
    }
   },
   "outputs": [
    {
     "name": "stdout",
     "output_type": "stream",
     "text": [
      "정규화 전 x_train[:2]\n",
      "[[11  9  2 10]\n",
      " [ 9  2 10  8]]\n"
     ]
    }
   ],
   "source": [
    "print('정규화 전 x_train[:2]', x_train[:2],sep=\"\\n\")"
   ]
  },
  {
   "cell_type": "code",
   "execution_count": 48,
   "metadata": {
    "ExecuteTime": {
     "end_time": "2021-03-30T01:44:15.547847Z",
     "start_time": "2021-03-30T01:44:15.533884Z"
    }
   },
   "outputs": [
    {
     "name": "stdout",
     "output_type": "stream",
     "text": [
      "정규화 후 x_train[:2]\n",
      "[[0.84615385 0.69230769 0.15384615 0.76923077]\n",
      " [0.69230769 0.15384615 0.76923077 0.61538462]]\n"
     ]
    }
   ],
   "source": [
    "x_train = x_train / float(max_idx_value)\n",
    "print(\"정규화 후 x_train[:2]\", x_train[:2],sep='\\n')"
   ]
  },
  {
   "cell_type": "markdown",
   "metadata": {},
   "source": [
    "## 독립변수의 shape변환 (샘플수,nsteps -> 샘플수, nsteps,1)"
   ]
  },
  {
   "cell_type": "code",
   "execution_count": 49,
   "metadata": {
    "ExecuteTime": {
     "end_time": "2021-03-30T01:45:34.705400Z",
     "start_time": "2021-03-30T01:45:34.686450Z"
    }
   },
   "outputs": [
    {
     "data": {
      "text/plain": [
       "(50, 4)"
      ]
     },
     "execution_count": 49,
     "metadata": {},
     "output_type": "execute_result"
    }
   ],
   "source": [
    "x_train.shape"
   ]
  },
  {
   "cell_type": "code",
   "execution_count": 52,
   "metadata": {
    "ExecuteTime": {
     "end_time": "2021-03-30T01:46:22.079237Z",
     "start_time": "2021-03-30T01:46:22.073253Z"
    }
   },
   "outputs": [
    {
     "data": {
      "text/plain": [
       "(50, 4, 1)"
      ]
     },
     "execution_count": 52,
     "metadata": {},
     "output_type": "execute_result"
    }
   ],
   "source": [
    "x_train = x_train.reshape( x_train.shape[0], x_train.shape[1],1 )\n",
    "x_train.shape "
   ]
  },
  {
   "cell_type": "markdown",
   "metadata": {},
   "source": [
    "## 종속변수 (라벨값)의 원핫인코딩"
   ]
  },
  {
   "cell_type": "code",
   "execution_count": 53,
   "metadata": {
    "ExecuteTime": {
     "end_time": "2021-03-30T01:47:57.676954Z",
     "start_time": "2021-03-30T01:47:57.663983Z"
    }
   },
   "outputs": [
    {
     "data": {
      "text/plain": [
       "array([ 8,  1,  7,  8,  9, 10, 11, 11,  4, 11,  9,  9,  9, 10,  8,  1,  7,\n",
       "        9, 11, 11,  9,  9,  2,  8,  8,  8,  8,  8,  9,  3,  9,  9,  9,  9,\n",
       "        9, 10,  4, 11,  9,  2, 10,  8,  1,  7,  9, 11, 11,  9,  9,  2])"
      ]
     },
     "execution_count": 53,
     "metadata": {},
     "output_type": "execute_result"
    }
   ],
   "source": [
    "y_train"
   ]
  },
  {
   "cell_type": "code",
   "execution_count": 54,
   "metadata": {
    "ExecuteTime": {
     "end_time": "2021-03-30T01:48:29.117244Z",
     "start_time": "2021-03-30T01:48:29.096280Z"
    }
   },
   "outputs": [
    {
     "data": {
      "text/plain": [
       "array([[0., 0., 0., 0., 0., 0., 0., 0., 1., 0., 0., 0.],\n",
       "       [0., 1., 0., 0., 0., 0., 0., 0., 0., 0., 0., 0.],\n",
       "       [0., 0., 0., 0., 0., 0., 0., 1., 0., 0., 0., 0.],\n",
       "       [0., 0., 0., 0., 0., 0., 0., 0., 1., 0., 0., 0.],\n",
       "       [0., 0., 0., 0., 0., 0., 0., 0., 0., 1., 0., 0.],\n",
       "       [0., 0., 0., 0., 0., 0., 0., 0., 0., 0., 1., 0.],\n",
       "       [0., 0., 0., 0., 0., 0., 0., 0., 0., 0., 0., 1.],\n",
       "       [0., 0., 0., 0., 0., 0., 0., 0., 0., 0., 0., 1.],\n",
       "       [0., 0., 0., 0., 1., 0., 0., 0., 0., 0., 0., 0.],\n",
       "       [0., 0., 0., 0., 0., 0., 0., 0., 0., 0., 0., 1.],\n",
       "       [0., 0., 0., 0., 0., 0., 0., 0., 0., 1., 0., 0.],\n",
       "       [0., 0., 0., 0., 0., 0., 0., 0., 0., 1., 0., 0.],\n",
       "       [0., 0., 0., 0., 0., 0., 0., 0., 0., 1., 0., 0.],\n",
       "       [0., 0., 0., 0., 0., 0., 0., 0., 0., 0., 1., 0.],\n",
       "       [0., 0., 0., 0., 0., 0., 0., 0., 1., 0., 0., 0.],\n",
       "       [0., 1., 0., 0., 0., 0., 0., 0., 0., 0., 0., 0.],\n",
       "       [0., 0., 0., 0., 0., 0., 0., 1., 0., 0., 0., 0.],\n",
       "       [0., 0., 0., 0., 0., 0., 0., 0., 0., 1., 0., 0.],\n",
       "       [0., 0., 0., 0., 0., 0., 0., 0., 0., 0., 0., 1.],\n",
       "       [0., 0., 0., 0., 0., 0., 0., 0., 0., 0., 0., 1.],\n",
       "       [0., 0., 0., 0., 0., 0., 0., 0., 0., 1., 0., 0.],\n",
       "       [0., 0., 0., 0., 0., 0., 0., 0., 0., 1., 0., 0.],\n",
       "       [0., 0., 1., 0., 0., 0., 0., 0., 0., 0., 0., 0.],\n",
       "       [0., 0., 0., 0., 0., 0., 0., 0., 1., 0., 0., 0.],\n",
       "       [0., 0., 0., 0., 0., 0., 0., 0., 1., 0., 0., 0.],\n",
       "       [0., 0., 0., 0., 0., 0., 0., 0., 1., 0., 0., 0.],\n",
       "       [0., 0., 0., 0., 0., 0., 0., 0., 1., 0., 0., 0.],\n",
       "       [0., 0., 0., 0., 0., 0., 0., 0., 1., 0., 0., 0.],\n",
       "       [0., 0., 0., 0., 0., 0., 0., 0., 0., 1., 0., 0.],\n",
       "       [0., 0., 0., 1., 0., 0., 0., 0., 0., 0., 0., 0.],\n",
       "       [0., 0., 0., 0., 0., 0., 0., 0., 0., 1., 0., 0.],\n",
       "       [0., 0., 0., 0., 0., 0., 0., 0., 0., 1., 0., 0.],\n",
       "       [0., 0., 0., 0., 0., 0., 0., 0., 0., 1., 0., 0.],\n",
       "       [0., 0., 0., 0., 0., 0., 0., 0., 0., 1., 0., 0.],\n",
       "       [0., 0., 0., 0., 0., 0., 0., 0., 0., 1., 0., 0.],\n",
       "       [0., 0., 0., 0., 0., 0., 0., 0., 0., 0., 1., 0.],\n",
       "       [0., 0., 0., 0., 1., 0., 0., 0., 0., 0., 0., 0.],\n",
       "       [0., 0., 0., 0., 0., 0., 0., 0., 0., 0., 0., 1.],\n",
       "       [0., 0., 0., 0., 0., 0., 0., 0., 0., 1., 0., 0.],\n",
       "       [0., 0., 1., 0., 0., 0., 0., 0., 0., 0., 0., 0.],\n",
       "       [0., 0., 0., 0., 0., 0., 0., 0., 0., 0., 1., 0.],\n",
       "       [0., 0., 0., 0., 0., 0., 0., 0., 1., 0., 0., 0.],\n",
       "       [0., 1., 0., 0., 0., 0., 0., 0., 0., 0., 0., 0.],\n",
       "       [0., 0., 0., 0., 0., 0., 0., 1., 0., 0., 0., 0.],\n",
       "       [0., 0., 0., 0., 0., 0., 0., 0., 0., 1., 0., 0.],\n",
       "       [0., 0., 0., 0., 0., 0., 0., 0., 0., 0., 0., 1.],\n",
       "       [0., 0., 0., 0., 0., 0., 0., 0., 0., 0., 0., 1.],\n",
       "       [0., 0., 0., 0., 0., 0., 0., 0., 0., 1., 0., 0.],\n",
       "       [0., 0., 0., 0., 0., 0., 0., 0., 0., 1., 0., 0.],\n",
       "       [0., 0., 1., 0., 0., 0., 0., 0., 0., 0., 0., 0.]], dtype=float32)"
      ]
     },
     "execution_count": 54,
     "metadata": {},
     "output_type": "execute_result"
    }
   ],
   "source": [
    "y_train = utils.to_categorical (y_train)\n",
    "y_train"
   ]
  },
  {
   "cell_type": "code",
   "execution_count": 55,
   "metadata": {
    "ExecuteTime": {
     "end_time": "2021-03-30T01:49:27.000744Z",
     "start_time": "2021-03-30T01:49:26.981795Z"
    }
   },
   "outputs": [
    {
     "data": {
      "text/plain": [
       "12"
      ]
     },
     "execution_count": 55,
     "metadata": {},
     "output_type": "execute_result"
    }
   ],
   "source": [
    "one_hot_vec_size = y_train.shape[1]\n",
    "one_hot_vec_size"
   ]
  },
  {
   "cell_type": "markdown",
   "metadata": {},
   "source": [
    "# 모델 구성하기 "
   ]
  },
  {
   "cell_type": "code",
   "execution_count": 56,
   "metadata": {
    "ExecuteTime": {
     "end_time": "2021-03-30T01:53:41.754476Z",
     "start_time": "2021-03-30T01:53:40.722705Z"
    }
   },
   "outputs": [],
   "source": [
    "model = Sequential()\n",
    "model.add(LSTM(\n",
    "    units=128,\n",
    "    kernel_initializer='glorot_normal',\n",
    "    bias_initializer='zero',\n",
    "    batch_input_shape=(1, n_steps, n_inputs), \n",
    "    stateful=True\n",
    "))\n",
    "model.add(Dense(\n",
    "    units=one_hot_vec_size, \n",
    "    kernel_initializer='glorot_normal',\n",
    "    bias_initializer='zero',    \n",
    "    activation='softmax'\n",
    "))"
   ]
  },
  {
   "cell_type": "markdown",
   "metadata": {},
   "source": [
    "# 모델 학습과정 설정하기"
   ]
  },
  {
   "cell_type": "code",
   "execution_count": 58,
   "metadata": {
    "ExecuteTime": {
     "end_time": "2021-03-30T01:54:25.805296Z",
     "start_time": "2021-03-30T01:54:25.781341Z"
    }
   },
   "outputs": [],
   "source": [
    "model.compile(loss='categorical_crossentropy', \n",
    "              optimizer='adam', \n",
    "              metrics=['accuracy'])"
   ]
  },
  {
   "cell_type": "markdown",
   "metadata": {},
   "source": [
    "# 모델 학습시키기"
   ]
  },
  {
   "cell_type": "markdown",
   "metadata": {},
   "source": [
    "**loss, accuracy 이력 클래스 정의**"
   ]
  },
  {
   "cell_type": "code",
   "execution_count": 65,
   "metadata": {
    "ExecuteTime": {
     "end_time": "2021-03-30T02:04:54.084948Z",
     "start_time": "2021-03-30T02:04:54.074977Z"
    }
   },
   "outputs": [],
   "source": [
    "class LossHistory(tf.keras.callbacks.Callback):\n",
    "    def __init__(self):        #  def init(self) 생성자 함수가 아니기에 반드시 '호출'   #생성자 함수는  def __init__(self)\n",
    "        self.epoch = 0\n",
    "        self.losses = []\n",
    "        self.accuracy = []\n",
    "\n",
    "    def on_epoch_end(self, batch, logs={}):\n",
    "        self.losses.append(logs.get('loss'))\n",
    "        self.accuracy.append(logs.get('accuracy'))\n",
    "        if self.epoch % 100 == 0:\n",
    "            print(\"epoch: {0} - loss: {1:8.6f}, accuracy:{2:8.6f}\".format(self.epoch, logs.get('loss'), logs.get('accuracy')))  \n",
    "                                    ##8.6f  총 8자리 소숫점 뒤 6자리\n",
    "            \n",
    "        self.epoch += 1"
   ]
  },
  {
   "cell_type": "markdown",
   "metadata": {},
   "source": [
    "**학습**"
   ]
  },
  {
   "cell_type": "code",
   "execution_count": 66,
   "metadata": {
    "ExecuteTime": {
     "end_time": "2021-03-30T02:05:47.954883Z",
     "start_time": "2021-03-30T02:04:55.245621Z"
    }
   },
   "outputs": [
    {
     "name": "stdout",
     "output_type": "stream",
     "text": [
      "epoch: 0 - loss: 2.377825, accuracy:0.180000\n",
      "epoch: 100 - loss: 0.956226, accuracy:0.660000\n",
      "epoch: 200 - loss: 0.004324, accuracy:1.000000\n",
      "epoch: 300 - loss: 0.001800, accuracy:1.000000\n",
      "epoch: 400 - loss: 0.000099, accuracy:1.000000\n",
      "epoch: 490 - loss: 0.000010\n"
     ]
    }
   ],
   "source": [
    "num_epochs = 1500          ###1500번 학습 \n",
    "history = LossHistory()  # 손실 이력 객체 생성\n",
    "\n",
    "for epoch_idx in range(num_epochs + 1):\n",
    "    model.fit(\n",
    "        x=x_train,\n",
    "        y=y_train,\n",
    "        epochs=1,\n",
    "        batch_size=1,\n",
    "        verbose=0,\n",
    "        shuffle=False,\n",
    "        callbacks=[history]\n",
    "    )\n",
    "    if history.losses[-1] < 1e-5:     #0.00001보다 작으면 break,  작지 않으면 계속 for문 돌아서 1500번 학습 \n",
    "        print(\"epoch: {0} - loss: {1:8.6f}\".format(epoch_idx, history.losses[-1]))\n",
    "        model.reset_states()    \n",
    "        break\n",
    "    model.reset_states()"
   ]
  },
  {
   "cell_type": "code",
   "execution_count": 60,
   "metadata": {
    "ExecuteTime": {
     "end_time": "2021-03-30T02:01:20.512415Z",
     "start_time": "2021-03-30T02:01:20.494439Z"
    }
   },
   "outputs": [
    {
     "name": "stdout",
     "output_type": "stream",
     "text": [
      "0.00001\n"
     ]
    }
   ],
   "source": [
    "print(\"{:.5f}\".format(1e-5))"
   ]
  },
  {
   "cell_type": "markdown",
   "metadata": {},
   "source": [
    "# 학습과정 살펴보기"
   ]
  },
  {
   "cell_type": "code",
   "execution_count": 67,
   "metadata": {
    "ExecuteTime": {
     "end_time": "2021-03-30T02:05:48.674526Z",
     "start_time": "2021-03-30T02:05:47.989791Z"
    }
   },
   "outputs": [
    {
     "data": {
      "image/png": "[encoded data removed]",
      "text/plain": [
       "<Figure size 432x288 with 1 Axes>"
      ]
     },
     "metadata": {
      "image/png": {
       "height": 261,
       "width": 386
      },
      "needs_background": "light"
     },
     "output_type": "display_data"
    }
   ],
   "source": [
    "import matplotlib.pyplot as plt\n",
    "%matplotlib inline\n",
    "\n",
    "plt.plot(history.losses)\n",
    "plt.ylabel('loss')\n",
    "plt.xlabel('epoch')\n",
    "plt.legend(['train'], loc='upper right')\n",
    "plt.show()"
   ]
  },
  {
   "cell_type": "markdown",
   "metadata": {},
   "source": [
    "# 모델 평가하기 "
   ]
  },
  {
   "cell_type": "code",
   "execution_count": 68,
   "metadata": {
    "ExecuteTime": {
     "end_time": "2021-03-30T02:06:32.343598Z",
     "start_time": "2021-03-30T02:06:31.788885Z"
    }
   },
   "outputs": [
    {
     "name": "stdout",
     "output_type": "stream",
     "text": [
      "50/50 [==============================] - 1s 834us/step - loss: 9.6773e-06 - accuracy: 1.0000\n"
     ]
    }
   ],
   "source": [
    "model.evaluate(x_train, y_train, batch_size=1)\n",
    "model.reset_states()"
   ]
  },
  {
   "cell_type": "markdown",
   "metadata": {},
   "source": [
    "# 모델 사용하기"
   ]
  },
  {
   "cell_type": "code",
   "execution_count": 70,
   "metadata": {
    "ExecuteTime": {
     "end_time": "2021-03-30T02:07:36.922249Z",
     "start_time": "2021-03-30T02:07:36.913294Z"
    }
   },
   "outputs": [
    {
     "data": {
      "text/plain": [
       "(4, 1)"
      ]
     },
     "execution_count": 70,
     "metadata": {},
     "output_type": "execute_result"
    }
   ],
   "source": [
    "x_train[0].shape   #(4,1) 그러나 1행 몇을 넣어야"
   ]
  },
  {
   "cell_type": "markdown",
   "metadata": {},
   "source": [
    "## 바로 다음 스텝 예측 "
   ]
  },
  {
   "cell_type": "code",
   "execution_count": 71,
   "metadata": {
    "ExecuteTime": {
     "end_time": "2021-03-30T02:08:22.704553Z",
     "start_time": "2021-03-30T02:08:22.695578Z"
    }
   },
   "outputs": [
    {
     "data": {
      "text/plain": [
       "array([[[0.84615385],\n",
       "        [0.69230769],\n",
       "        [0.15384615],\n",
       "        [0.76923077]]])"
      ]
     },
     "execution_count": 71,
     "metadata": {},
     "output_type": "execute_result"
    }
   ],
   "source": [
    "x_train[0]\n",
    "temp = x_train[0].reshape(1,4,1)\n",
    "temp"
   ]
  },
  {
   "cell_type": "code",
   "execution_count": 72,
   "metadata": {
    "ExecuteTime": {
     "end_time": "2021-03-30T02:09:25.538598Z",
     "start_time": "2021-03-30T02:09:25.099552Z"
    }
   },
   "outputs": [
    {
     "data": {
      "text/plain": [
       "8"
      ]
     },
     "execution_count": 72,
     "metadata": {},
     "output_type": "execute_result"
    }
   ],
   "source": [
    "idx = np.argmax(model.predict(temp))\n",
    "idx"
   ]
  },
  {
   "cell_type": "code",
   "execution_count": 73,
   "metadata": {
    "ExecuteTime": {
     "end_time": "2021-03-30T02:09:44.672646Z",
     "start_time": "2021-03-30T02:09:44.655667Z"
    }
   },
   "outputs": [
    {
     "data": {
      "text/plain": [
       "'d8'"
      ]
     },
     "execution_count": 73,
     "metadata": {},
     "output_type": "execute_result"
    }
   ],
   "source": [
    "idx2code[idx]"
   ]
  },
  {
   "cell_type": "markdown",
   "metadata": {},
   "source": [
    "## 곡 전체 예측"
   ]
  },
  {
   "cell_type": "code",
   "execution_count": 74,
   "metadata": {
    "ExecuteTime": {
     "end_time": "2021-03-30T02:14:07.780934Z",
     "start_time": "2021-03-30T02:14:05.865385Z"
    }
   },
   "outputs": [
    {
     "name": "stdout",
     "output_type": "stream",
     "text": [
      "full song prediction : \n",
      "g8 c8 f4 e8 d4 c8 d8 e8 f8 g8 g8 g4 g8 g8 e8 e8 e8 f8 d8 d4 c8 e8 g8 g8 e8 e8 e4 d8 d8 d8 d8 d8 e8 f4 e8 e8 e8 e8 e8 f8 g4 g8 e8 e4 f8 d8 d4 c8 e8 g8 g8 e8 e8 e4 "
     ]
    }
   ],
   "source": [
    "pred_count = 50 #최대 예측 갯수\n",
    "seq_in = ['g8', 'c8', 'f4', 'e8']\n",
    "seq_out = seq_in\n",
    "seq_in = [code2idx[note] / float(max_idx_value) for note in seq_in]  # 코드를 인덱스값으로 변환\n",
    "\n",
    "for i in range(pred_count):\n",
    "    sample_in = np.array(seq_in)\n",
    "    sample_in = np.reshape(sample_in, (1, n_steps, n_inputs))  # 샘플 수, 타입스텝 수, 속성 수\n",
    "    pred_out = model.predict(sample_in)\n",
    "    idx = np.argmax(pred_out)\n",
    "    seq_out.append(idx2code[idx])\n",
    "    seq_in.append(idx / float(max_idx_value))\n",
    "    seq_in.pop(0)\n",
    "\n",
    "model.reset_states()\n",
    "\n",
    "print(\"full song prediction : \")\n",
    "\n",
    "for note in seq_out:\n",
    "    print(note, end=\" \")"
   ]
  },
  {
   "cell_type": "code",
   "execution_count": null,
   "metadata": {},
   "outputs": [],
   "source": [
    "# 딥러닝했다고 했을때 '어떤 데이터를 넣는지   확인"
   ]
  },
  {
   "cell_type": "code",
   "execution_count": 75,
   "metadata": {
    "ExecuteTime": {
     "end_time": "2021-03-30T02:18:24.958387Z",
     "start_time": "2021-03-30T02:18:24.868646Z"
    }
   },
   "outputs": [
    {
     "data": {
      "text/html": [
       "\n",
       "                <div id='midiPlayerDiv6185'></div>\n",
       "                <link rel=\"stylesheet\" href=\"//cuthbertLab.github.io/music21j/css/m21.css\"\n",
       "                    type=\"text/css\" />\n",
       "                <script>\n",
       "                require.config({\n",
       "                    paths: {'music21': '//cuthbertLab.github.io/music21j/src/music21'}\n",
       "                });\n",
       "                require(['music21'], function() {\n",
       "                               mp = new music21.miditools.MidiPlayer();\n",
       "                               mp.addPlayer('#midiPlayerDiv6185');\n",
       "                               mp.base64Load('data:audio/midi;base64,TVRoZAAAAAYAAQACBABNVHJrAAAAFAD/UQMHoSAA/1gEAgIYCIgA/y8ATVRyawAAAfQA/wMAAOAAQIgAkENahACAQwAAkDxahACAPAAAkEFaiACAQQAAkEBahACAQAAAkD5aiACAPgAAkDxahACAPAAAkD5ahACAPgAAkEBahACAQAAAkEFahACAQQAAkENahACAQwAAkENahACAQwAAkENaiACAQwAAkENahACAQwAAkENahACAQwAAkEBahACAQAAAkEBahACAQAAAkEBahACAQAAAkEFahACAQQAAkD5ahACAPgAAkD5aiACAPgAAkDxahACAPAAAkEBahACAQAAAkENahACAQwAAkENahACAQwAAkEBahACAQAAAkEBahACAQAAAkEBaiACAQAAAkD5ahACAPgAAkD5ahACAPgAAkD5ahACAPgAAkD5ahACAPgAAkD5ahACAPgAAkEBahACAQAAAkEFaiACAQQAAkEBahACAQAAAkEBahACAQAAAkEBahACAQAAAkEBahACAQAAAkEBahACAQAAAkEFahACAQQAAkENaiACAQwAAkENahACAQwAAkEBahACAQAAAkEBaiACAQAAAkEFahACAQQAAkD5ahACAPgAAkD5aiACAPgAAkDxahACAPAAAkEBahACAQAAAkENahACAQwAAkENahACAQwAAkEBahACAQAAAkEBahACAQAAAkEBaiACAQACIAP8vAA==');\n",
       "                        });\n",
       "                </script>"
      ],
      "text/plain": [
       "<IPython.core.display.HTML object>"
      ]
     },
     "metadata": {},
     "output_type": "display_data"
    }
   ],
   "source": [
    "# 나비야 초반: 'g8', 'e8','e4','f8'\n",
    "note_seq = \"\"\n",
    "for note in seq_out:\n",
    "    note_seq += note + \" \"\n",
    "    \n",
    "conv_midi = music21.converter.subConverters.ConverterMidi()\n",
    "\n",
    "m = music21.converter.parse(\"2/4 \" + note_seq, format='tinyNotation')\n",
    "\n",
    "m.show(\"midi\")"
   ]
  },
  {
   "cell_type": "code",
   "execution_count": null,
   "metadata": {},
   "outputs": [],
   "source": []
  },
  {
   "cell_type": "code",
   "execution_count": null,
   "metadata": {},
   "outputs": [],
   "source": []
  },
  {
   "cell_type": "code",
   "execution_count": null,
   "metadata": {},
   "outputs": [],
   "source": []
  }
 ],
 "metadata": {
  "kernelspec": {
   "display_name": "Python 3",
   "language": "python",
   "name": "python3"
  },
  "language_info": {
   "codemirror_mode": {
    "name": "ipython",
    "version": 3
   },
   "file_extension": ".py",
   "mimetype": "text/x-python",
   "name": "python",
   "nbconvert_exporter": "python",
   "pygments_lexer": "ipython3",
   "version": "3.8.5"
  },
  "toc": {
   "base_numbering": 1,
   "nav_menu": {},
   "number_sections": true,
   "sideBar": true,
   "skip_h1_title": false,
   "title_cell": "Table of Contents",
   "title_sidebar": "Contents",
   "toc_cell": false,
   "toc_position": {},
   "toc_section_display": true,
   "toc_window_display": false
  },
  "varInspector": {
   "cols": {
    "lenName": 16,
    "lenType": 16,
    "lenVar": 40
   },
   "kernels_config": {
    "python": {
     "delete_cmd_postfix": "",
     "delete_cmd_prefix": "del ",
     "library": "var_list.py",
     "varRefreshCmd": "print(var_dic_list())"
    },
    "r": {
     "delete_cmd_postfix": ") ",
     "delete_cmd_prefix": "rm(",
     "library": "var_list.r",
     "varRefreshCmd": "cat(var_dic_list()) "
    }
   },
   "types_to_exclude": [
    "module",
    "function",
    "builtin_function_or_method",
    "instance",
    "_Feature"
   ],
   "window_display": false
  }
 },
 "nbformat": 4,
 "nbformat_minor": 4
}

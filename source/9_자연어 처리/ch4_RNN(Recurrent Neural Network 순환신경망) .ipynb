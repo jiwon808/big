{
 "cells": [
  {
   "cell_type": "markdown",
   "metadata": {},
   "source": [
    "# 문맥을 이용하여 모델 만들기"
   ]
  },
  {
   "cell_type": "markdown",
   "metadata": {},
   "source": [
    "<pre>\n",
    "#문장의 문맥을 학습시키는 것이기 때문에 2개,4개  (1개는 안됌. 문맥을 학습시키기 때문에)\n",
    "# 밑에'가는 말이 고와야 오는 말이 곱다' 때문에 독립변수최대5개 \n",
    "\n",
    "경마장에 있는  (0,0,0,0,2,3)               # 순서가 중요  2 다음에 3이 나오는게 중요\n",
    "경마장에 있는 말이 (0,0,0,2,3,1)           # 종속변수1개,독립변수 최대가 5개  \n",
    "경마장에 있는 말이 뛰고 (0,0,2,3,1,4)      # 4개중 3개가 독립변수 1개가 종속변수 \n",
    "경마장에 있는 말이 뛰고 있다\n",
    "\n",
    "그의 말이\n",
    "그의 말이 법이다\n",
    "\n",
    "가는 말이\n",
    "가는 말이 고와야\n",
    "가는 말이 고와야 오는\n",
    "가는 말이 고와야 오는 말이\n",
    "가는 말이 고와야 오는 말이 곱다\n",
    "\n",
    "# 학습 횟수가 적을 수록 확률이 낮아짐.  (따라서 '가는 말이 고와야 오는 말이 곱다'이 가정 낮은 확률로 출력되고, '가는 말이' '가는 말이 고와야'가 높은 확률을 가지고 있음 )"
   ]
  },
  {
   "cell_type": "markdown",
   "metadata": {},
   "source": [
    "경마장에 있는  (0,0,0,0,2,3)            \n",
    "경마장에 있는 말이 (0,0,0,2,3,1)       \n",
    "경마장에 있는 말이 뛰고 (0,0,2,3,1,4)     \n",
    "경마장에 있는 말이 뛰고 있다\n",
    "있는 말이\n",
    "있는 말이 뛰고\n",
    "있는 말이 뛰고 있다\n",
    "말이 뛰고 \n",
    "말이 뛰고 있다\n",
    "뛰고 있다"
   ]
  },
  {
   "cell_type": "code",
   "execution_count": 3,
   "metadata": {
    "ExecuteTime": {
     "end_time": "2021-03-29T01:11:03.559155Z",
     "start_time": "2021-03-29T01:11:03.555191Z"
    }
   },
   "outputs": [],
   "source": [
    "text =\"\"\" 경마장에 있는 말이 뛰고 있다\n",
    "그의 말이 법이다\n",
    "가는 말이 고와야 오는 말이 곱다\n",
    "\"\"\"\n",
    "# 컴퓨터가 '경마장에'를 0 이라고 인식 및 출력. 그러면 내가 0이 '경마장에'라고 또 바꿔야함"
   ]
  },
  {
   "cell_type": "code",
   "execution_count": 5,
   "metadata": {
    "ExecuteTime": {
     "end_time": "2021-03-29T01:11:21.867986Z",
     "start_time": "2021-03-29T01:11:21.850061Z"
    }
   },
   "outputs": [
    {
     "data": {
      "text/plain": [
       "[2, 3, 1, 4, 5, 6, 1, 7, 8, 1, 9, 10, 1, 11]"
      ]
     },
     "execution_count": 5,
     "metadata": {},
     "output_type": "execute_result"
    }
   ],
   "source": [
    "from keras_preprocessing.text import Tokenizer\n",
    "t = Tokenizer()\n",
    "t.fit_on_texts ([text])   #text를 '리스트'로 들어오게\n",
    "encoded = t.texts_to_sequences([text])[0]\n",
    "encoded    # '경마장에'가 '2'    '있는' 3    '말이'1      '뛰고'4\n",
    "           # '2'이렇게 들어가는것이 아니라 ==> 예.0010000이런식으로 들어감.  우리는 '함수'를 쓰면됨"
   ]
  },
  {
   "cell_type": "code",
   "execution_count": 8,
   "metadata": {
    "ExecuteTime": {
     "end_time": "2021-03-29T01:14:18.985372Z",
     "start_time": "2021-03-29T01:14:18.969415Z"
    }
   },
   "outputs": [
    {
     "name": "stdout",
     "output_type": "stream",
     "text": [
      "[2, 3, 1, 4, 5, 6, 1, 7, 8, 1, 9, 10, 1, 11]\n",
      "{'말이': 1, '경마장에': 2, '있는': 3, '뛰고': 4, '있다': 5, '그의': 6, '법이다': 7, '가는': 8, '고와야': 9, '오는': 10, '곱다': 11}\n"
     ]
    }
   ],
   "source": [
    "print(encoded)\n",
    "print(t.word_index)  #value가4이면, 거기에 'key값'- '뛰고'를 출력 "
   ]
  },
  {
   "cell_type": "code",
   "execution_count": 17,
   "metadata": {
    "ExecuteTime": {
     "end_time": "2021-03-29T01:32:52.129907Z",
     "start_time": "2021-03-29T01:32:52.111955Z"
    }
   },
   "outputs": [
    {
     "data": {
      "text/plain": [
       "[11]"
      ]
     },
     "execution_count": 17,
     "metadata": {},
     "output_type": "execute_result"
    }
   ],
   "source": [
    "t.texts_to_sequences(['곱다','뛰고'])[0]      ######0번방"
   ]
  },
  {
   "cell_type": "code",
   "execution_count": 25,
   "metadata": {
    "ExecuteTime": {
     "end_time": "2021-03-29T01:34:59.487755Z",
     "start_time": "2021-03-29T01:34:59.473807Z"
    }
   },
   "outputs": [
    {
     "data": {
      "text/plain": [
       "[[11], [4]]"
      ]
     },
     "execution_count": 25,
     "metadata": {},
     "output_type": "execute_result"
    }
   ],
   "source": [
    "t.texts_to_sequences(['곱다','뛰고'])[0:2]       ###### 0번방,1번방 "
   ]
  },
  {
   "cell_type": "markdown",
   "metadata": {},
   "source": [
    "<pre>\n",
    "경마장에 있는  (0,0,0,0,2,3)            \n",
    "경마장에 있는 말이 (0,0,0,2,3,1)       \n",
    "경마장에 있는 말이 뛰고 (0,0,2,3,1,4)     \n",
    "경마장에 있는 말이 뛰고 있다\n",
    "있는 말이 3,1\n",
    "있는 말이 뛰고  3,1,4\n",
    "있는 말이 뛰고 있다  3,1,4,5\n",
    "말이 뛰고  1,4\n",
    "말이 뛰고 있다 1,4,5\n",
    "뛰고 있다 4,5"
   ]
  },
  {
   "cell_type": "code",
   "execution_count": 30,
   "metadata": {
    "ExecuteTime": {
     "end_time": "2021-03-29T01:58:55.405159Z",
     "start_time": "2021-03-29T01:58:55.388229Z"
    }
   },
   "outputs": [
    {
     "name": "stdout",
     "output_type": "stream",
     "text": [
      "\n",
      "[2:경마장에,3:있는,]\n",
      "[2:경마장에,3:있는,1:말이,]\n",
      "[2:경마장에,3:있는,1:말이,4:뛰고,]\n",
      "[2:경마장에,3:있는,1:말이,4:뛰고,5:있다,]\n",
      "[3:있는,1:말이,]\n",
      "[3:있는,1:말이,4:뛰고,]\n",
      "[3:있는,1:말이,4:뛰고,5:있다,]\n",
      "[1:말이,4:뛰고,]\n",
      "[1:말이,4:뛰고,5:있다,]\n",
      "[4:뛰고,5:있다,]\n",
      "[6:그의,1:말이,]\n",
      "[6:그의,1:말이,7:법이다,]\n",
      "[1:말이,7:법이다,]\n",
      "[8:가는,1:말이,]\n",
      "[8:가는,1:말이,9:고와야,]\n",
      "[8:가는,1:말이,9:고와야,10:오는,]\n",
      "[8:가는,1:말이,9:고와야,10:오는,1:말이,]\n",
      "[8:가는,1:말이,9:고와야,10:오는,1:말이,11:곱다,]\n",
      "[1:말이,9:고와야,]\n",
      "[1:말이,9:고와야,10:오는,]\n",
      "[1:말이,9:고와야,10:오는,1:말이,]\n",
      "[1:말이,9:고와야,10:오는,1:말이,11:곱다,]\n",
      "[9:고와야,10:오는,]\n",
      "[9:고와야,10:오는,1:말이,]\n",
      "[9:고와야,10:오는,1:말이,11:곱다,]\n",
      "[10:오는,1:말이,]\n",
      "[10:오는,1:말이,11:곱다,]\n",
      "[1:말이,11:곱다,]\n"
     ]
    }
   ],
   "source": [
    "#위와 같은 내용을 학습하기 위해 for문 \n",
    "sequences = []\n",
    "for line in text.split('\\n'):\n",
    "    encoded = t.texts_to_sequences([line])[0]\n",
    "#     print('원래 문장:',line)\n",
    "#     print('encoded 문장:', encoded)\n",
    "    for i in range(0,len(encoded)-1):  # len(encoded)-1 끝까지 가지 말고, 끝바로 앞까지 가라 \n",
    "        for j in range(i+2, len(encoded)+1):\n",
    "            sequences.append(encoded[i:j])\n",
    "print()\n",
    "for sequence in sequences:\n",
    "#     print(sequence)\n",
    "    print('[',end='')\n",
    "    for word_seq in sequence:\n",
    "        for key,value in t.word_index.items():\n",
    "            if value == word_seq:\n",
    "                print(\"{}:{}\".format(value,key),end=',')\n",
    "    print(']')\n"
   ]
  },
  {
   "cell_type": "code",
   "execution_count": 31,
   "metadata": {
    "ExecuteTime": {
     "end_time": "2021-03-29T02:00:29.497491Z",
     "start_time": "2021-03-29T02:00:29.478541Z"
    }
   },
   "outputs": [
    {
     "data": {
      "text/plain": [
       "[[2, 3],\n",
       " [2, 3, 1],\n",
       " [2, 3, 1, 4],\n",
       " [2, 3, 1, 4, 5],\n",
       " [3, 1],\n",
       " [3, 1, 4],\n",
       " [3, 1, 4, 5],\n",
       " [1, 4],\n",
       " [1, 4, 5],\n",
       " [4, 5],\n",
       " [6, 1],\n",
       " [6, 1, 7],\n",
       " [1, 7],\n",
       " [8, 1],\n",
       " [8, 1, 9],\n",
       " [8, 1, 9, 10],\n",
       " [8, 1, 9, 10, 1],\n",
       " [8, 1, 9, 10, 1, 11],\n",
       " [1, 9],\n",
       " [1, 9, 10],\n",
       " [1, 9, 10, 1],\n",
       " [1, 9, 10, 1, 11],\n",
       " [9, 10],\n",
       " [9, 10, 1],\n",
       " [9, 10, 1, 11],\n",
       " [10, 1],\n",
       " [10, 1, 11],\n",
       " [1, 11]]"
      ]
     },
     "execution_count": 31,
     "metadata": {},
     "output_type": "execute_result"
    }
   ],
   "source": [
    "sequences"
   ]
  },
  {
   "cell_type": "code",
   "execution_count": 36,
   "metadata": {
    "ExecuteTime": {
     "end_time": "2021-03-29T02:01:58.502360Z",
     "start_time": "2021-03-29T02:01:58.495379Z"
    }
   },
   "outputs": [
    {
     "name": "stdout",
     "output_type": "stream",
     "text": [
      "[2, 3, 4, 5, 2, 3, 4, 2, 3, 2, 2, 3, 2, 2, 3, 4, 5, 6, 2, 3, 4, 5, 2, 3, 4, 2, 3, 2]\n"
     ]
    }
   ],
   "source": [
    "print([len(s) for s in sequences])"
   ]
  },
  {
   "cell_type": "code",
   "execution_count": 40,
   "metadata": {
    "ExecuteTime": {
     "end_time": "2021-03-29T02:07:01.034627Z",
     "start_time": "2021-03-29T02:07:01.020667Z"
    }
   },
   "outputs": [
    {
     "data": {
      "text/plain": [
       "6"
      ]
     },
     "execution_count": 40,
     "metadata": {},
     "output_type": "execute_result"
    }
   ],
   "source": [
    "# sequences에 제일 많은 단어가 들어 있는 갯수  \n",
    "maxlen = max([len(s) for s in sequences])\n",
    "maxlen "
   ]
  },
  {
   "cell_type": "code",
   "execution_count": 42,
   "metadata": {
    "ExecuteTime": {
     "end_time": "2021-03-29T02:08:49.138577Z",
     "start_time": "2021-03-29T02:08:49.118239Z"
    }
   },
   "outputs": [
    {
     "data": {
      "text/plain": [
       "(numpy.ndarray,\n",
       " 28,\n",
       " array([[ 0,  0,  0,  0,  2,  3],\n",
       "        [ 0,  0,  0,  2,  3,  1],\n",
       "        [ 0,  0,  2,  3,  1,  4],\n",
       "        [ 0,  2,  3,  1,  4,  5],\n",
       "        [ 0,  0,  0,  0,  3,  1],\n",
       "        [ 0,  0,  0,  3,  1,  4],\n",
       "        [ 0,  0,  3,  1,  4,  5],\n",
       "        [ 0,  0,  0,  0,  1,  4],\n",
       "        [ 0,  0,  0,  1,  4,  5],\n",
       "        [ 0,  0,  0,  0,  4,  5],\n",
       "        [ 0,  0,  0,  0,  6,  1],\n",
       "        [ 0,  0,  0,  6,  1,  7],\n",
       "        [ 0,  0,  0,  0,  1,  7],\n",
       "        [ 0,  0,  0,  0,  8,  1],\n",
       "        [ 0,  0,  0,  8,  1,  9],\n",
       "        [ 0,  0,  8,  1,  9, 10],\n",
       "        [ 0,  8,  1,  9, 10,  1],\n",
       "        [ 8,  1,  9, 10,  1, 11],\n",
       "        [ 0,  0,  0,  0,  1,  9],\n",
       "        [ 0,  0,  0,  1,  9, 10],\n",
       "        [ 0,  0,  1,  9, 10,  1],\n",
       "        [ 0,  1,  9, 10,  1, 11],\n",
       "        [ 0,  0,  0,  0,  9, 10],\n",
       "        [ 0,  0,  0,  9, 10,  1],\n",
       "        [ 0,  0,  9, 10,  1, 11],\n",
       "        [ 0,  0,  0,  0, 10,  1],\n",
       "        [ 0,  0,  0, 10,  1, 11],\n",
       "        [ 0,  0,  0,  0,  1, 11]]))"
      ]
     },
     "execution_count": 42,
     "metadata": {},
     "output_type": "execute_result"
    }
   ],
   "source": [
    "# sequences를 훈련가능한 데이터로 만들기 \n",
    "from tensorflow.keras.preprocessing.sequence import pad_sequences\n",
    "sequences = pad_sequences(sequences=sequences, maxlen=maxlen, padding='pre')\n",
    "type(sequences), len(sequences),sequences   #왼쪽 '독립변수' , 맨 오른쪽 하나가 '종속변수'"
   ]
  },
  {
   "cell_type": "code",
   "execution_count": 43,
   "metadata": {
    "ExecuteTime": {
     "end_time": "2021-03-29T02:11:15.491236Z",
     "start_time": "2021-03-29T02:11:15.473284Z"
    }
   },
   "outputs": [
    {
     "data": {
      "text/plain": [
       "array([ 3,  1,  4,  5,  1,  4,  5,  4,  5,  5,  1,  7,  7,  1,  9, 10,  1,\n",
       "       11,  9, 10,  1, 11, 10,  1, 11,  1, 11, 11])"
      ]
     },
     "execution_count": 43,
     "metadata": {},
     "output_type": "execute_result"
    }
   ],
   "source": [
    "# 독립변수(x)와 종속변수(y) 분리\n",
    "X = sequences[:,:-1]\n",
    "Y = sequences[:,-1]\n",
    "Y"
   ]
  },
  {
   "cell_type": "code",
   "execution_count": 44,
   "metadata": {
    "ExecuteTime": {
     "end_time": "2021-03-29T02:19:14.441315Z",
     "start_time": "2021-03-29T02:19:14.436327Z"
    }
   },
   "outputs": [
    {
     "data": {
      "text/plain": [
       "12"
      ]
     },
     "execution_count": 44,
     "metadata": {},
     "output_type": "execute_result"
    }
   ],
   "source": [
    "vocab_size = len(t.word_index)+1\n",
    "vocab_size"
   ]
  },
  {
   "cell_type": "code",
   "execution_count": 52,
   "metadata": {
    "ExecuteTime": {
     "end_time": "2021-03-29T02:45:55.740157Z",
     "start_time": "2021-03-29T02:45:55.723204Z"
    }
   },
   "outputs": [],
   "source": [
    "# 종속변수Y를  원핫인코딩 \n",
    "from tensorflow.keras.utils import to_categorical\n",
    "Y = to_categorical(Y)     #  num_classes=12 단어 갯수는 11이지만, 카테로기는 12 ??????????????????????????????\n"
   ]
  },
  {
   "cell_type": "code",
   "execution_count": 46,
   "metadata": {
    "ExecuteTime": {
     "end_time": "2021-03-29T02:27:03.106778Z",
     "start_time": "2021-03-29T02:27:03.090821Z"
    }
   },
   "outputs": [
    {
     "data": {
      "text/plain": [
       "5"
      ]
     },
     "execution_count": 46,
     "metadata": {},
     "output_type": "execute_result"
    }
   ],
   "source": [
    "X.shape[1]"
   ]
  },
  {
   "cell_type": "code",
   "execution_count": 53,
   "metadata": {
    "ExecuteTime": {
     "end_time": "2021-03-29T02:46:00.549104Z",
     "start_time": "2021-03-29T02:45:57.454663Z"
    }
   },
   "outputs": [
    {
     "name": "stdout",
     "output_type": "stream",
     "text": [
      "Epoch 1/300\n",
      "1/1 - 2s - loss: 2.5023 - accuracy: 0.0000e+00\n",
      "Epoch 2/300\n",
      "1/1 - 0s - loss: 2.4901 - accuracy: 0.0000e+00\n",
      "Epoch 3/300\n",
      "1/1 - 0s - loss: 2.4780 - accuracy: 0.0357\n",
      "Epoch 4/300\n",
      "1/1 - 0s - loss: 2.4661 - accuracy: 0.1071\n",
      "Epoch 5/300\n",
      "1/1 - 0s - loss: 2.4542 - accuracy: 0.1429\n",
      "Epoch 6/300\n",
      "1/1 - 0s - loss: 2.4422 - accuracy: 0.2857\n",
      "Epoch 7/300\n",
      "1/1 - 0s - loss: 2.4299 - accuracy: 0.2857\n",
      "Epoch 8/300\n",
      "1/1 - 0s - loss: 2.4174 - accuracy: 0.2857\n",
      "Epoch 9/300\n",
      "1/1 - 0s - loss: 2.4043 - accuracy: 0.2857\n",
      "Epoch 10/300\n",
      "1/1 - 0s - loss: 2.3909 - accuracy: 0.2857\n",
      "Epoch 11/300\n",
      "1/1 - 0s - loss: 2.3768 - accuracy: 0.2857\n",
      "Epoch 12/300\n",
      "1/1 - 0s - loss: 2.3621 - accuracy: 0.2857\n",
      "Epoch 13/300\n",
      "1/1 - 0s - loss: 2.3468 - accuracy: 0.2857\n",
      "Epoch 14/300\n",
      "1/1 - 0s - loss: 2.3307 - accuracy: 0.2857\n",
      "Epoch 15/300\n",
      "1/1 - 0s - loss: 2.3139 - accuracy: 0.2857\n",
      "Epoch 16/300\n",
      "1/1 - 0s - loss: 2.2963 - accuracy: 0.2857\n",
      "Epoch 17/300\n",
      "1/1 - 0s - loss: 2.2779 - accuracy: 0.2857\n",
      "Epoch 18/300\n",
      "1/1 - 0s - loss: 2.2587 - accuracy: 0.2857\n",
      "Epoch 19/300\n",
      "1/1 - 0s - loss: 2.2388 - accuracy: 0.2857\n",
      "Epoch 20/300\n",
      "1/1 - 0s - loss: 2.2182 - accuracy: 0.2857\n",
      "Epoch 21/300\n",
      "1/1 - 0s - loss: 2.1971 - accuracy: 0.2857\n",
      "Epoch 22/300\n",
      "1/1 - 0s - loss: 2.1755 - accuracy: 0.2857\n",
      "Epoch 23/300\n",
      "1/1 - 0s - loss: 2.1536 - accuracy: 0.2857\n",
      "Epoch 24/300\n",
      "1/1 - 0s - loss: 2.1316 - accuracy: 0.2857\n",
      "Epoch 25/300\n",
      "1/1 - 0s - loss: 2.1096 - accuracy: 0.2857\n",
      "Epoch 26/300\n",
      "1/1 - 0s - loss: 2.0880 - accuracy: 0.2857\n",
      "Epoch 27/300\n",
      "1/1 - 0s - loss: 2.0669 - accuracy: 0.2857\n",
      "Epoch 28/300\n",
      "1/1 - 0s - loss: 2.0466 - accuracy: 0.2857\n",
      "Epoch 29/300\n",
      "1/1 - 0s - loss: 2.0272 - accuracy: 0.2857\n",
      "Epoch 30/300\n",
      "1/1 - 0s - loss: 2.0087 - accuracy: 0.2857\n",
      "Epoch 31/300\n",
      "1/1 - 0s - loss: 1.9914 - accuracy: 0.2857\n",
      "Epoch 32/300\n",
      "1/1 - 0s - loss: 1.9751 - accuracy: 0.2857\n",
      "Epoch 33/300\n",
      "1/1 - 0s - loss: 1.9598 - accuracy: 0.2857\n",
      "Epoch 34/300\n",
      "1/1 - 0s - loss: 1.9454 - accuracy: 0.2857\n",
      "Epoch 35/300\n",
      "1/1 - 0s - loss: 1.9317 - accuracy: 0.2857\n",
      "Epoch 36/300\n",
      "1/1 - 0s - loss: 1.9186 - accuracy: 0.2857\n",
      "Epoch 37/300\n",
      "1/1 - 0s - loss: 1.9061 - accuracy: 0.2857\n",
      "Epoch 38/300\n",
      "1/1 - 0s - loss: 1.8940 - accuracy: 0.2857\n",
      "Epoch 39/300\n",
      "1/1 - 0s - loss: 1.8823 - accuracy: 0.3214\n",
      "Epoch 40/300\n",
      "1/1 - 0s - loss: 1.8711 - accuracy: 0.3214\n",
      "Epoch 41/300\n",
      "1/1 - 0s - loss: 1.8604 - accuracy: 0.3214\n",
      "Epoch 42/300\n",
      "1/1 - 0s - loss: 1.8502 - accuracy: 0.3214\n",
      "Epoch 43/300\n",
      "1/1 - 0s - loss: 1.8404 - accuracy: 0.3571\n",
      "Epoch 44/300\n",
      "1/1 - 0s - loss: 1.8310 - accuracy: 0.3571\n",
      "Epoch 45/300\n",
      "1/1 - 0s - loss: 1.8221 - accuracy: 0.3571\n",
      "Epoch 46/300\n",
      "1/1 - 0s - loss: 1.8133 - accuracy: 0.3571\n",
      "Epoch 47/300\n",
      "1/1 - 0s - loss: 1.8047 - accuracy: 0.3571\n",
      "Epoch 48/300\n",
      "1/1 - 0s - loss: 1.7960 - accuracy: 0.3571\n",
      "Epoch 49/300\n",
      "1/1 - 0s - loss: 1.7872 - accuracy: 0.4286\n",
      "Epoch 50/300\n",
      "1/1 - 0s - loss: 1.7781 - accuracy: 0.4286\n",
      "Epoch 51/300\n",
      "1/1 - 0s - loss: 1.7686 - accuracy: 0.4286\n",
      "Epoch 52/300\n",
      "1/1 - 0s - loss: 1.7589 - accuracy: 0.4286\n",
      "Epoch 53/300\n",
      "1/1 - 0s - loss: 1.7488 - accuracy: 0.4286\n",
      "Epoch 54/300\n",
      "1/1 - 0s - loss: 1.7384 - accuracy: 0.4286\n",
      "Epoch 55/300\n",
      "1/1 - 0s - loss: 1.7276 - accuracy: 0.4286\n",
      "Epoch 56/300\n",
      "1/1 - 0s - loss: 1.7166 - accuracy: 0.4286\n",
      "Epoch 57/300\n",
      "1/1 - 0s - loss: 1.7053 - accuracy: 0.4286\n",
      "Epoch 58/300\n",
      "1/1 - 0s - loss: 1.6936 - accuracy: 0.4286\n",
      "Epoch 59/300\n",
      "1/1 - 0s - loss: 1.6816 - accuracy: 0.4286\n",
      "Epoch 60/300\n",
      "1/1 - 0s - loss: 1.6693 - accuracy: 0.4286\n",
      "Epoch 61/300\n",
      "1/1 - 0s - loss: 1.6566 - accuracy: 0.4286\n",
      "Epoch 62/300\n",
      "1/1 - 0s - loss: 1.6435 - accuracy: 0.4286\n",
      "Epoch 63/300\n",
      "1/1 - 0s - loss: 1.6301 - accuracy: 0.5000\n",
      "Epoch 64/300\n",
      "1/1 - 0s - loss: 1.6163 - accuracy: 0.5000\n",
      "Epoch 65/300\n",
      "1/1 - 0s - loss: 1.6023 - accuracy: 0.5000\n",
      "Epoch 66/300\n",
      "1/1 - 0s - loss: 1.5880 - accuracy: 0.5000\n",
      "Epoch 67/300\n",
      "1/1 - 0s - loss: 1.5734 - accuracy: 0.5000\n",
      "Epoch 68/300\n",
      "1/1 - 0s - loss: 1.5587 - accuracy: 0.5000\n",
      "Epoch 69/300\n",
      "1/1 - 0s - loss: 1.5438 - accuracy: 0.5357\n",
      "Epoch 70/300\n",
      "1/1 - 0s - loss: 1.5289 - accuracy: 0.5357\n",
      "Epoch 71/300\n",
      "1/1 - 0s - loss: 1.5138 - accuracy: 0.5357\n",
      "Epoch 72/300\n",
      "1/1 - 0s - loss: 1.4988 - accuracy: 0.5357\n",
      "Epoch 73/300\n",
      "1/1 - 0s - loss: 1.4837 - accuracy: 0.5357\n",
      "Epoch 74/300\n",
      "1/1 - 0s - loss: 1.4686 - accuracy: 0.5357\n",
      "Epoch 75/300\n",
      "1/1 - 0s - loss: 1.4536 - accuracy: 0.5357\n",
      "Epoch 76/300\n",
      "1/1 - 0s - loss: 1.4386 - accuracy: 0.5357\n",
      "Epoch 77/300\n",
      "1/1 - 0s - loss: 1.4237 - accuracy: 0.5357\n",
      "Epoch 78/300\n",
      "1/1 - 0s - loss: 1.4090 - accuracy: 0.5714\n",
      "Epoch 79/300\n",
      "1/1 - 0s - loss: 1.3943 - accuracy: 0.5714\n",
      "Epoch 80/300\n",
      "1/1 - 0s - loss: 1.3798 - accuracy: 0.5714\n",
      "Epoch 81/300\n",
      "1/1 - 0s - loss: 1.3654 - accuracy: 0.5714\n",
      "Epoch 82/300\n",
      "1/1 - 0s - loss: 1.3512 - accuracy: 0.5714\n",
      "Epoch 83/300\n",
      "1/1 - 0s - loss: 1.3372 - accuracy: 0.6071\n",
      "Epoch 84/300\n",
      "1/1 - 0s - loss: 1.3233 - accuracy: 0.6429\n",
      "Epoch 85/300\n",
      "1/1 - 0s - loss: 1.3097 - accuracy: 0.6429\n",
      "Epoch 86/300\n",
      "1/1 - 0s - loss: 1.2962 - accuracy: 0.6429\n",
      "Epoch 87/300\n",
      "1/1 - 0s - loss: 1.2828 - accuracy: 0.6429\n",
      "Epoch 88/300\n",
      "1/1 - 0s - loss: 1.2697 - accuracy: 0.6429\n",
      "Epoch 89/300\n",
      "1/1 - 0s - loss: 1.2568 - accuracy: 0.6429\n",
      "Epoch 90/300\n",
      "1/1 - 0s - loss: 1.2440 - accuracy: 0.6429\n",
      "Epoch 91/300\n",
      "1/1 - 0s - loss: 1.2315 - accuracy: 0.6429\n",
      "Epoch 92/300\n",
      "1/1 - 0s - loss: 1.2192 - accuracy: 0.6429\n",
      "Epoch 93/300\n",
      "1/1 - 0s - loss: 1.2070 - accuracy: 0.6429\n",
      "Epoch 94/300\n",
      "1/1 - 0s - loss: 1.1951 - accuracy: 0.6429\n",
      "Epoch 95/300\n",
      "1/1 - 0s - loss: 1.1833 - accuracy: 0.6429\n",
      "Epoch 96/300\n",
      "1/1 - 0s - loss: 1.1718 - accuracy: 0.6429\n",
      "Epoch 97/300\n",
      "1/1 - 0s - loss: 1.1604 - accuracy: 0.6429\n",
      "Epoch 98/300\n",
      "1/1 - 0s - loss: 1.1493 - accuracy: 0.6429\n",
      "Epoch 99/300\n",
      "1/1 - 0s - loss: 1.1383 - accuracy: 0.6429\n",
      "Epoch 100/300\n",
      "1/1 - 0s - loss: 1.1275 - accuracy: 0.6429\n",
      "Epoch 101/300\n",
      "1/1 - 0s - loss: 1.1168 - accuracy: 0.6429\n",
      "Epoch 102/300\n",
      "1/1 - 0s - loss: 1.1064 - accuracy: 0.6429\n",
      "Epoch 103/300\n",
      "1/1 - 0s - loss: 1.0961 - accuracy: 0.6429\n",
      "Epoch 104/300\n",
      "1/1 - 0s - loss: 1.0860 - accuracy: 0.6429\n",
      "Epoch 105/300\n",
      "1/1 - 0s - loss: 1.0760 - accuracy: 0.6429\n",
      "Epoch 106/300\n",
      "1/1 - 0s - loss: 1.0662 - accuracy: 0.6429\n",
      "Epoch 107/300\n",
      "1/1 - 0s - loss: 1.0566 - accuracy: 0.6429\n",
      "Epoch 108/300\n",
      "1/1 - 0s - loss: 1.0471 - accuracy: 0.6429\n",
      "Epoch 109/300\n",
      "1/1 - 0s - loss: 1.0377 - accuracy: 0.6429\n",
      "Epoch 110/300\n",
      "1/1 - 0s - loss: 1.0285 - accuracy: 0.6429\n",
      "Epoch 111/300\n",
      "1/1 - 0s - loss: 1.0194 - accuracy: 0.6786\n",
      "Epoch 112/300\n",
      "1/1 - 0s - loss: 1.0105 - accuracy: 0.6786\n",
      "Epoch 113/300\n",
      "1/1 - 0s - loss: 1.0016 - accuracy: 0.6786\n",
      "Epoch 114/300\n",
      "1/1 - 0s - loss: 0.9929 - accuracy: 0.6429\n",
      "Epoch 115/300\n",
      "1/1 - 0s - loss: 0.9843 - accuracy: 0.6429\n",
      "Epoch 116/300\n",
      "1/1 - 0s - loss: 0.9758 - accuracy: 0.6429\n",
      "Epoch 117/300\n",
      "1/1 - 0s - loss: 0.9674 - accuracy: 0.6429\n",
      "Epoch 118/300\n",
      "1/1 - 0s - loss: 0.9591 - accuracy: 0.6786\n",
      "Epoch 119/300\n",
      "1/1 - 0s - loss: 0.9509 - accuracy: 0.6786\n",
      "Epoch 120/300\n",
      "1/1 - 0s - loss: 0.9428 - accuracy: 0.6786\n",
      "Epoch 121/300\n",
      "1/1 - 0s - loss: 0.9347 - accuracy: 0.6786\n",
      "Epoch 122/300\n",
      "1/1 - 0s - loss: 0.9268 - accuracy: 0.6786\n",
      "Epoch 123/300\n",
      "1/1 - 0s - loss: 0.9189 - accuracy: 0.6786\n",
      "Epoch 124/300\n",
      "1/1 - 0s - loss: 0.9111 - accuracy: 0.6786\n",
      "Epoch 125/300\n",
      "1/1 - 0s - loss: 0.9034 - accuracy: 0.6786\n",
      "Epoch 126/300\n",
      "1/1 - 0s - loss: 0.8958 - accuracy: 0.6786\n",
      "Epoch 127/300\n",
      "1/1 - 0s - loss: 0.8882 - accuracy: 0.6786\n",
      "Epoch 128/300\n",
      "1/1 - 0s - loss: 0.8807 - accuracy: 0.7143\n",
      "Epoch 129/300\n",
      "1/1 - 0s - loss: 0.8733 - accuracy: 0.7143\n",
      "Epoch 130/300\n",
      "1/1 - 0s - loss: 0.8659 - accuracy: 0.7143\n",
      "Epoch 131/300\n",
      "1/1 - 0s - loss: 0.8586 - accuracy: 0.7143\n",
      "Epoch 132/300\n",
      "1/1 - 0s - loss: 0.8514 - accuracy: 0.7500\n",
      "Epoch 133/300\n",
      "1/1 - 0s - loss: 0.8442 - accuracy: 0.7500\n",
      "Epoch 134/300\n",
      "1/1 - 0s - loss: 0.8371 - accuracy: 0.7500\n",
      "Epoch 135/300\n",
      "1/1 - 0s - loss: 0.8300 - accuracy: 0.7500\n",
      "Epoch 136/300\n",
      "1/1 - 0s - loss: 0.8230 - accuracy: 0.7857\n",
      "Epoch 137/300\n",
      "1/1 - 0s - loss: 0.8160 - accuracy: 0.7857\n",
      "Epoch 138/300\n",
      "1/1 - 0s - loss: 0.8091 - accuracy: 0.7857\n",
      "Epoch 139/300\n",
      "1/1 - 0s - loss: 0.8023 - accuracy: 0.7857\n",
      "Epoch 140/300\n",
      "1/1 - 0s - loss: 0.7954 - accuracy: 0.7857\n",
      "Epoch 141/300\n",
      "1/1 - 0s - loss: 0.7887 - accuracy: 0.7857\n",
      "Epoch 142/300\n",
      "1/1 - 0s - loss: 0.7820 - accuracy: 0.7857\n",
      "Epoch 143/300\n",
      "1/1 - 0s - loss: 0.7753 - accuracy: 0.7857\n",
      "Epoch 144/300\n",
      "1/1 - 0s - loss: 0.7687 - accuracy: 0.7857\n",
      "Epoch 145/300\n",
      "1/1 - 0s - loss: 0.7622 - accuracy: 0.7857\n",
      "Epoch 146/300\n",
      "1/1 - 0s - loss: 0.7557 - accuracy: 0.7857\n"
     ]
    },
    {
     "name": "stdout",
     "output_type": "stream",
     "text": [
      "Epoch 147/300\n",
      "1/1 - 0s - loss: 0.7492 - accuracy: 0.7857\n",
      "Epoch 148/300\n",
      "1/1 - 0s - loss: 0.7428 - accuracy: 0.7857\n",
      "Epoch 149/300\n",
      "1/1 - 0s - loss: 0.7364 - accuracy: 0.8214\n",
      "Epoch 150/300\n",
      "1/1 - 0s - loss: 0.7301 - accuracy: 0.8214\n",
      "Epoch 151/300\n",
      "1/1 - 0s - loss: 0.7239 - accuracy: 0.8214\n",
      "Epoch 152/300\n",
      "1/1 - 0s - loss: 0.7176 - accuracy: 0.8214\n",
      "Epoch 153/300\n",
      "1/1 - 0s - loss: 0.7115 - accuracy: 0.8214\n",
      "Epoch 154/300\n",
      "1/1 - 0s - loss: 0.7054 - accuracy: 0.8214\n",
      "Epoch 155/300\n",
      "1/1 - 0s - loss: 0.6993 - accuracy: 0.8214\n",
      "Epoch 156/300\n",
      "1/1 - 0s - loss: 0.6933 - accuracy: 0.8214\n",
      "Epoch 157/300\n",
      "1/1 - 0s - loss: 0.6873 - accuracy: 0.8214\n",
      "Epoch 158/300\n",
      "1/1 - 0s - loss: 0.6814 - accuracy: 0.8214\n",
      "Epoch 159/300\n",
      "1/1 - 0s - loss: 0.6755 - accuracy: 0.8214\n",
      "Epoch 160/300\n",
      "1/1 - 0s - loss: 0.6697 - accuracy: 0.8214\n",
      "Epoch 161/300\n",
      "1/1 - 0s - loss: 0.6639 - accuracy: 0.8214\n",
      "Epoch 162/300\n",
      "1/1 - 0s - loss: 0.6582 - accuracy: 0.8214\n",
      "Epoch 163/300\n",
      "1/1 - 0s - loss: 0.6525 - accuracy: 0.8214\n",
      "Epoch 164/300\n",
      "1/1 - 0s - loss: 0.6469 - accuracy: 0.8214\n",
      "Epoch 165/300\n",
      "1/1 - 0s - loss: 0.6413 - accuracy: 0.8214\n",
      "Epoch 166/300\n",
      "1/1 - 0s - loss: 0.6358 - accuracy: 0.8214\n",
      "Epoch 167/300\n",
      "1/1 - 0s - loss: 0.6304 - accuracy: 0.8214\n",
      "Epoch 168/300\n",
      "1/1 - 0s - loss: 0.6250 - accuracy: 0.8214\n",
      "Epoch 169/300\n",
      "1/1 - 0s - loss: 0.6196 - accuracy: 0.8214\n",
      "Epoch 170/300\n",
      "1/1 - 0s - loss: 0.6143 - accuracy: 0.8214\n",
      "Epoch 171/300\n",
      "1/1 - 0s - loss: 0.6090 - accuracy: 0.8214\n",
      "Epoch 172/300\n",
      "1/1 - 0s - loss: 0.6039 - accuracy: 0.8214\n",
      "Epoch 173/300\n",
      "1/1 - 0s - loss: 0.5987 - accuracy: 0.8214\n",
      "Epoch 174/300\n",
      "1/1 - 0s - loss: 0.5936 - accuracy: 0.8214\n",
      "Epoch 175/300\n",
      "1/1 - 0s - loss: 0.5886 - accuracy: 0.8214\n",
      "Epoch 176/300\n",
      "1/1 - 0s - loss: 0.5836 - accuracy: 0.8214\n",
      "Epoch 177/300\n",
      "1/1 - 0s - loss: 0.5787 - accuracy: 0.8214\n",
      "Epoch 178/300\n",
      "1/1 - 0s - loss: 0.5738 - accuracy: 0.8214\n",
      "Epoch 179/300\n",
      "1/1 - 0s - loss: 0.5690 - accuracy: 0.8214\n",
      "Epoch 180/300\n",
      "1/1 - 0s - loss: 0.5642 - accuracy: 0.8214\n",
      "Epoch 181/300\n",
      "1/1 - 0s - loss: 0.5595 - accuracy: 0.8214\n",
      "Epoch 182/300\n",
      "1/1 - 0s - loss: 0.5548 - accuracy: 0.8214\n",
      "Epoch 183/300\n",
      "1/1 - 0s - loss: 0.5502 - accuracy: 0.8214\n",
      "Epoch 184/300\n",
      "1/1 - 0s - loss: 0.5456 - accuracy: 0.8214\n",
      "Epoch 185/300\n",
      "1/1 - 0s - loss: 0.5411 - accuracy: 0.8571\n",
      "Epoch 186/300\n",
      "1/1 - 0s - loss: 0.5367 - accuracy: 0.8929\n",
      "Epoch 187/300\n",
      "1/1 - 0s - loss: 0.5323 - accuracy: 0.8929\n",
      "Epoch 188/300\n",
      "1/1 - 0s - loss: 0.5280 - accuracy: 0.8929\n",
      "Epoch 189/300\n",
      "1/1 - 0s - loss: 0.5237 - accuracy: 0.8929\n",
      "Epoch 190/300\n",
      "1/1 - 0s - loss: 0.5194 - accuracy: 0.8929\n",
      "Epoch 191/300\n",
      "1/1 - 0s - loss: 0.5153 - accuracy: 0.8929\n",
      "Epoch 192/300\n",
      "1/1 - 0s - loss: 0.5111 - accuracy: 0.8929\n",
      "Epoch 193/300\n",
      "1/1 - 0s - loss: 0.5070 - accuracy: 0.8929\n",
      "Epoch 194/300\n",
      "1/1 - 0s - loss: 0.5030 - accuracy: 0.8929\n",
      "Epoch 195/300\n",
      "1/1 - 0s - loss: 0.4990 - accuracy: 0.8929\n",
      "Epoch 196/300\n",
      "1/1 - 0s - loss: 0.4951 - accuracy: 0.8929\n",
      "Epoch 197/300\n",
      "1/1 - 0s - loss: 0.4912 - accuracy: 0.8929\n",
      "Epoch 198/300\n",
      "1/1 - 0s - loss: 0.4874 - accuracy: 0.8929\n",
      "Epoch 199/300\n",
      "1/1 - 0s - loss: 0.4836 - accuracy: 0.8929\n",
      "Epoch 200/300\n",
      "1/1 - 0s - loss: 0.4799 - accuracy: 0.8929\n",
      "Epoch 201/300\n",
      "1/1 - 0s - loss: 0.4762 - accuracy: 0.8929\n",
      "Epoch 202/300\n",
      "1/1 - 0s - loss: 0.4726 - accuracy: 0.8929\n",
      "Epoch 203/300\n",
      "1/1 - 0s - loss: 0.4690 - accuracy: 0.8929\n",
      "Epoch 204/300\n",
      "1/1 - 0s - loss: 0.4655 - accuracy: 0.8929\n",
      "Epoch 205/300\n",
      "1/1 - 0s - loss: 0.4620 - accuracy: 0.8929\n",
      "Epoch 206/300\n",
      "1/1 - 0s - loss: 0.4586 - accuracy: 0.8929\n",
      "Epoch 207/300\n",
      "1/1 - 0s - loss: 0.4552 - accuracy: 0.8929\n",
      "Epoch 208/300\n",
      "1/1 - 0s - loss: 0.4518 - accuracy: 0.8929\n",
      "Epoch 209/300\n",
      "1/1 - 0s - loss: 0.4485 - accuracy: 0.8929\n",
      "Epoch 210/300\n",
      "1/1 - 0s - loss: 0.4453 - accuracy: 0.8929\n",
      "Epoch 211/300\n",
      "1/1 - 0s - loss: 0.4421 - accuracy: 0.8929\n",
      "Epoch 212/300\n",
      "1/1 - 0s - loss: 0.4389 - accuracy: 0.8929\n",
      "Epoch 213/300\n",
      "1/1 - 0s - loss: 0.4358 - accuracy: 0.8929\n",
      "Epoch 214/300\n",
      "1/1 - 0s - loss: 0.4327 - accuracy: 0.8929\n",
      "Epoch 215/300\n",
      "1/1 - 0s - loss: 0.4297 - accuracy: 0.8929\n",
      "Epoch 216/300\n",
      "1/1 - 0s - loss: 0.4267 - accuracy: 0.8929\n",
      "Epoch 217/300\n",
      "1/1 - 0s - loss: 0.4237 - accuracy: 0.8929\n",
      "Epoch 218/300\n",
      "1/1 - 0s - loss: 0.4208 - accuracy: 0.8929\n",
      "Epoch 219/300\n",
      "1/1 - 0s - loss: 0.4179 - accuracy: 0.8929\n",
      "Epoch 220/300\n",
      "1/1 - 0s - loss: 0.4151 - accuracy: 0.8929\n",
      "Epoch 221/300\n",
      "1/1 - 0s - loss: 0.4123 - accuracy: 0.8929\n",
      "Epoch 222/300\n",
      "1/1 - 0s - loss: 0.4095 - accuracy: 0.8929\n",
      "Epoch 223/300\n",
      "1/1 - 0s - loss: 0.4068 - accuracy: 0.8929\n",
      "Epoch 224/300\n",
      "1/1 - 0s - loss: 0.4042 - accuracy: 0.8929\n",
      "Epoch 225/300\n",
      "1/1 - 0s - loss: 0.4015 - accuracy: 0.8929\n",
      "Epoch 226/300\n",
      "1/1 - 0s - loss: 0.3989 - accuracy: 0.8929\n",
      "Epoch 227/300\n",
      "1/1 - 0s - loss: 0.3964 - accuracy: 0.8929\n",
      "Epoch 228/300\n",
      "1/1 - 0s - loss: 0.3938 - accuracy: 0.8929\n",
      "Epoch 229/300\n",
      "1/1 - 0s - loss: 0.3913 - accuracy: 0.8929\n",
      "Epoch 230/300\n",
      "1/1 - 0s - loss: 0.3889 - accuracy: 0.8929\n",
      "Epoch 231/300\n",
      "1/1 - 0s - loss: 0.3865 - accuracy: 0.8929\n",
      "Epoch 232/300\n",
      "1/1 - 0s - loss: 0.3841 - accuracy: 0.8929\n",
      "Epoch 233/300\n",
      "1/1 - 0s - loss: 0.3817 - accuracy: 0.8929\n",
      "Epoch 234/300\n",
      "1/1 - 0s - loss: 0.3794 - accuracy: 0.8929\n",
      "Epoch 235/300\n",
      "1/1 - 0s - loss: 0.3771 - accuracy: 0.8929\n",
      "Epoch 236/300\n",
      "1/1 - 0s - loss: 0.3749 - accuracy: 0.8929\n",
      "Epoch 237/300\n",
      "1/1 - 0s - loss: 0.3727 - accuracy: 0.8929\n",
      "Epoch 238/300\n",
      "1/1 - 0s - loss: 0.3705 - accuracy: 0.8929\n",
      "Epoch 239/300\n",
      "1/1 - 0s - loss: 0.3683 - accuracy: 0.8929\n",
      "Epoch 240/300\n",
      "1/1 - 0s - loss: 0.3662 - accuracy: 0.8929\n",
      "Epoch 241/300\n",
      "1/1 - 0s - loss: 0.3641 - accuracy: 0.8929\n",
      "Epoch 242/300\n",
      "1/1 - 0s - loss: 0.3620 - accuracy: 0.8929\n",
      "Epoch 243/300\n",
      "1/1 - 0s - loss: 0.3600 - accuracy: 0.8929\n",
      "Epoch 244/300\n",
      "1/1 - 0s - loss: 0.3580 - accuracy: 0.8929\n",
      "Epoch 245/300\n",
      "1/1 - 0s - loss: 0.3560 - accuracy: 0.8929\n",
      "Epoch 246/300\n",
      "1/1 - 0s - loss: 0.3541 - accuracy: 0.8929\n",
      "Epoch 247/300\n",
      "1/1 - 0s - loss: 0.3522 - accuracy: 0.8929\n",
      "Epoch 248/300\n",
      "1/1 - 0s - loss: 0.3503 - accuracy: 0.8929\n",
      "Epoch 249/300\n",
      "1/1 - 0s - loss: 0.3484 - accuracy: 0.8929\n",
      "Epoch 250/300\n",
      "1/1 - 0s - loss: 0.3466 - accuracy: 0.8929\n",
      "Epoch 251/300\n",
      "1/1 - 0s - loss: 0.3448 - accuracy: 0.8929\n",
      "Epoch 252/300\n",
      "1/1 - 0s - loss: 0.3430 - accuracy: 0.8929\n",
      "Epoch 253/300\n",
      "1/1 - 0s - loss: 0.3412 - accuracy: 0.8929\n",
      "Epoch 254/300\n",
      "1/1 - 0s - loss: 0.3395 - accuracy: 0.8929\n",
      "Epoch 255/300\n",
      "1/1 - 0s - loss: 0.3378 - accuracy: 0.8929\n",
      "Epoch 256/300\n",
      "1/1 - 0s - loss: 0.3361 - accuracy: 0.8929\n",
      "Epoch 257/300\n",
      "1/1 - 0s - loss: 0.3344 - accuracy: 0.8929\n",
      "Epoch 258/300\n",
      "1/1 - 0s - loss: 0.3328 - accuracy: 0.8929\n",
      "Epoch 259/300\n",
      "1/1 - 0s - loss: 0.3312 - accuracy: 0.8929\n",
      "Epoch 260/300\n",
      "1/1 - 0s - loss: 0.3296 - accuracy: 0.8929\n",
      "Epoch 261/300\n",
      "1/1 - 0s - loss: 0.3281 - accuracy: 0.8929\n",
      "Epoch 262/300\n",
      "1/1 - 0s - loss: 0.3265 - accuracy: 0.8929\n",
      "Epoch 263/300\n",
      "1/1 - 0s - loss: 0.3250 - accuracy: 0.8929\n",
      "Epoch 264/300\n",
      "1/1 - 0s - loss: 0.3235 - accuracy: 0.8929\n",
      "Epoch 265/300\n",
      "1/1 - 0s - loss: 0.3220 - accuracy: 0.8929\n",
      "Epoch 266/300\n",
      "1/1 - 0s - loss: 0.3206 - accuracy: 0.8929\n",
      "Epoch 267/300\n",
      "1/1 - 0s - loss: 0.3191 - accuracy: 0.8929\n",
      "Epoch 268/300\n",
      "1/1 - 0s - loss: 0.3177 - accuracy: 0.8929\n",
      "Epoch 269/300\n",
      "1/1 - 0s - loss: 0.3163 - accuracy: 0.8929\n",
      "Epoch 270/300\n",
      "1/1 - 0s - loss: 0.3150 - accuracy: 0.8929\n",
      "Epoch 271/300\n",
      "1/1 - 0s - loss: 0.3136 - accuracy: 0.8929\n",
      "Epoch 272/300\n",
      "1/1 - 0s - loss: 0.3123 - accuracy: 0.8929\n",
      "Epoch 273/300\n",
      "1/1 - 0s - loss: 0.3110 - accuracy: 0.8929\n",
      "Epoch 274/300\n",
      "1/1 - 0s - loss: 0.3097 - accuracy: 0.8929\n",
      "Epoch 275/300\n",
      "1/1 - 0s - loss: 0.3084 - accuracy: 0.8929\n",
      "Epoch 276/300\n",
      "1/1 - 0s - loss: 0.3072 - accuracy: 0.8929\n",
      "Epoch 277/300\n",
      "1/1 - 0s - loss: 0.3059 - accuracy: 0.8929\n",
      "Epoch 278/300\n",
      "1/1 - 0s - loss: 0.3047 - accuracy: 0.8929\n",
      "Epoch 279/300\n",
      "1/1 - 0s - loss: 0.3035 - accuracy: 0.8929\n",
      "Epoch 280/300\n",
      "1/1 - 0s - loss: 0.3023 - accuracy: 0.8929\n",
      "Epoch 281/300\n",
      "1/1 - 0s - loss: 0.3012 - accuracy: 0.8929\n",
      "Epoch 282/300\n",
      "1/1 - 0s - loss: 0.3000 - accuracy: 0.8929\n",
      "Epoch 283/300\n",
      "1/1 - 0s - loss: 0.2989 - accuracy: 0.8929\n",
      "Epoch 284/300\n",
      "1/1 - 0s - loss: 0.2978 - accuracy: 0.8929\n",
      "Epoch 285/300\n",
      "1/1 - 0s - loss: 0.2967 - accuracy: 0.8929\n",
      "Epoch 286/300\n",
      "1/1 - 0s - loss: 0.2956 - accuracy: 0.8929\n",
      "Epoch 287/300\n",
      "1/1 - 0s - loss: 0.2945 - accuracy: 0.8929\n",
      "Epoch 288/300\n",
      "1/1 - 0s - loss: 0.2935 - accuracy: 0.8929\n",
      "Epoch 289/300\n",
      "1/1 - 0s - loss: 0.2924 - accuracy: 0.8929\n",
      "Epoch 290/300\n",
      "1/1 - 0s - loss: 0.2914 - accuracy: 0.8929\n"
     ]
    },
    {
     "name": "stdout",
     "output_type": "stream",
     "text": [
      "Epoch 291/300\n",
      "1/1 - 0s - loss: 0.2904 - accuracy: 0.8929\n",
      "Epoch 292/300\n",
      "1/1 - 0s - loss: 0.2894 - accuracy: 0.8929\n",
      "Epoch 293/300\n",
      "1/1 - 0s - loss: 0.2884 - accuracy: 0.8929\n",
      "Epoch 294/300\n",
      "1/1 - 0s - loss: 0.2874 - accuracy: 0.8929\n",
      "Epoch 295/300\n",
      "1/1 - 0s - loss: 0.2865 - accuracy: 0.8929\n",
      "Epoch 296/300\n",
      "1/1 - 0s - loss: 0.2855 - accuracy: 0.8929\n",
      "Epoch 297/300\n",
      "1/1 - 0s - loss: 0.2846 - accuracy: 0.8929\n",
      "Epoch 298/300\n",
      "1/1 - 0s - loss: 0.2837 - accuracy: 0.8929\n",
      "Epoch 299/300\n",
      "1/1 - 0s - loss: 0.2828 - accuracy: 0.8929\n",
      "Epoch 300/300\n",
      "1/1 - 0s - loss: 0.2819 - accuracy: 0.8929\n"
     ]
    }
   ],
   "source": [
    "from tensorflow.keras.models import Sequential\n",
    "from tensorflow.keras.layers import SimpleRNN, Dense, Embedding\n",
    "\n",
    "# RNN 모델 생성\n",
    "model = Sequential()\n",
    "# 희소행렬로 변환 (10:벡터)\n",
    "model.add(Embedding(vocab_size, 10, input_length=X.shape[1]))\n",
    "model.add(SimpleRNN(32))\n",
    "model.add(Dense(vocab_size, activation=\"softmax\"))\n",
    "\n",
    "# 모델 학습과정 설정\n",
    "model.compile(loss=\"categorical_crossentropy\", optimizer=\"adam\", \n",
    "              metrics=['accuracy'])\n",
    "\n",
    "# 학습시키기\n",
    "hist = model.fit(X, Y, epochs=300, verbose=2)"
   ]
  },
  {
   "cell_type": "code",
   "execution_count": 54,
   "metadata": {
    "ExecuteTime": {
     "end_time": "2021-03-29T02:46:02.892276Z",
     "start_time": "2021-03-29T02:46:02.490180Z"
    }
   },
   "outputs": [
    {
     "name": "stdout",
     "output_type": "stream",
     "text": [
      "1/1 [==============================] - 0s 361ms/step - loss: 0.2810 - accuracy: 0.8929\n"
     ]
    },
    {
     "data": {
      "text/plain": [
       "[0.2810249924659729, 0.8928571343421936]"
      ]
     },
     "execution_count": 54,
     "metadata": {},
     "output_type": "execute_result"
    }
   ],
   "source": [
    "# 모델 평가 \n",
    "model.evaluate(X,Y)"
   ]
  },
  {
   "cell_type": "code",
   "execution_count": 56,
   "metadata": {
    "ExecuteTime": {
     "end_time": "2021-03-29T02:46:15.326086Z",
     "start_time": "2021-03-29T02:46:15.309152Z"
    }
   },
   "outputs": [
    {
     "data": {
      "text/plain": [
       "dict_keys(['loss', 'accuracy'])"
      ]
     },
     "execution_count": 56,
     "metadata": {},
     "output_type": "execute_result"
    }
   ],
   "source": [
    "hist.history.keys()"
   ]
  },
  {
   "cell_type": "code",
   "execution_count": 58,
   "metadata": {
    "ExecuteTime": {
     "end_time": "2021-03-29T02:46:34.347020Z",
     "start_time": "2021-03-29T02:46:32.465046Z"
    }
   },
   "outputs": [
    {
     "data": {
      "text/plain": [
       "<matplotlib.legend.Legend at 0x1f2606b0c40>"
      ]
     },
     "execution_count": 58,
     "metadata": {},
     "output_type": "execute_result"
    },
    {
     "data": {
      "image/png": "[encoded data removed]",
      "text/plain": [
       "<Figure size 432x288 with 1 Axes>"
      ]
     },
     "metadata": {
      "needs_background": "light"
     },
     "output_type": "display_data"
    }
   ],
   "source": [
    "#학습과정 보기\n",
    "import matplotlib.pyplot as plt\n",
    "plt.plot(hist.history['loss'], color='r', label=\"loss\")\n",
    "plt.plot(hist.history['accuracy'], color='g', label='accuracy')\n",
    "plt.legend()"
   ]
  },
  {
   "cell_type": "code",
   "execution_count": 66,
   "metadata": {
    "ExecuteTime": {
     "end_time": "2021-03-29T03:04:33.006660Z",
     "start_time": "2021-03-29T03:04:32.944240Z"
    }
   },
   "outputs": [
    {
     "name": "stdout",
     "output_type": "stream",
     "text": [
      "예측결과값: 1\n",
      "예측된 단어: 말이\n"
     ]
    }
   ],
   "source": [
    "# '경마장에 있는' 뒤에 나오는 단어를 model에 의해 추측 \n",
    "encoded= t.texts_to_sequences(['경마장에 있는'])[0]  # 출력결과 [2,3]\n",
    "encoded = pad_sequences([encoded],maxlen=5, padding='pre')  #출력결과 array([[0, 0, 0, 2, 3]])\n",
    "result = model.predict_classes(encoded)   # result의 출력결과  array([1], dtype=int64)\n",
    "print('예측결과값:', result[0])\n",
    "for key,value in t.word_index.items():\n",
    "    if value == result[0]:\n",
    "        print(\"예측된 단어:\", key)\n",
    "        break  "
   ]
  },
  {
   "cell_type": "code",
   "execution_count": 72,
   "metadata": {
    "ExecuteTime": {
     "end_time": "2021-03-29T03:26:44.918707Z",
     "start_time": "2021-03-29T03:26:42.167483Z"
    }
   },
   "outputs": [
    {
     "name": "stdout",
     "output_type": "stream",
     "text": [
      "입력단어:가는 말이\n",
      "예측결과값: 9\n",
      "예측된 단어: 고와야\n"
     ]
    }
   ],
   "source": [
    "# 입력받은 다음 단어 추측하기 \n",
    "word = input(\"입력단어:\")\n",
    "# '경마장에 있는' 뒤에 나오는 단어를 model에 의해 추측 \n",
    "encoded= t.texts_to_sequences([word])[0]  # 출력결과 [2,3]             #[word]이렇게 써야 ['word'] X   완전 다른 개념 \n",
    "encoded = pad_sequences([encoded],maxlen=5, padding='pre')  #출력결과 array([[0, 0, 0, 2, 3]])\n",
    "result = np.argmax(model.predict(encoded))  #argmax로 하면 => np로 안들어오고, 숫자하나로 들어옴     \n",
    "print('예측결과값:', result)\n",
    "for key,value in t.word_index.items():\n",
    "    if value == result:\n",
    "        print(\"예측된 단어:\", key)\n",
    "        break"
   ]
  },
  {
   "cell_type": "markdown",
   "metadata": {},
   "source": [
    "# 다음 문맥 예측해 보기 "
   ]
  },
  {
   "cell_type": "code",
   "execution_count": 68,
   "metadata": {
    "ExecuteTime": {
     "end_time": "2021-03-29T03:23:04.013290Z",
     "start_time": "2021-03-29T03:23:04.006307Z"
    }
   },
   "outputs": [],
   "source": [
    "# \"경마장에\" 이후에 올 단어 4개 예측 => 경마장에 있는 말이 뛰고\n",
    "#  -----                    --\n",
    "def sentence_generation(model,t, current_word,n):\n",
    "    init_word = current_word\n",
    "    print(\"입력 단어:\", init_word)\n",
    "    sentence = \"\"\n",
    "    for i in range(1,n+1):   #1번째 예측, 2번째 예측 \n",
    "        encoded = t.texts_to_sequences([current_word])[0]          #2,3 이렇게 나옴. 그러나 메델안에 독립변수 5개. 따라서 5개로 바꿔야\n",
    "        encoded = pad_sequences([encoded], maxlen=5, padding='pre')\n",
    "        result = np.argmax(model.predict(encoded))\n",
    "        for word, index in t.word_index.items():      #앞에 word가 key, 뒤에index가 value\n",
    "            if index == result:\n",
    "                print(\"{}번째:{}:{}\".format(i,word,result))\n",
    "                current_word = current_word + ' ' + word \n",
    "                break;\n",
    "    return current_word"
   ]
  },
  {
   "cell_type": "code",
   "execution_count": 69,
   "metadata": {
    "ExecuteTime": {
     "end_time": "2021-03-29T03:23:33.950028Z",
     "start_time": "2021-03-29T03:23:33.786939Z"
    }
   },
   "outputs": [
    {
     "name": "stdout",
     "output_type": "stream",
     "text": [
      "입력 단어: 경마장에\n",
      "1번째:있는:3\n",
      "2번째:말이:1\n",
      "3번째:뛰고:4\n",
      "4번째:있다:5\n"
     ]
    },
    {
     "data": {
      "text/plain": [
       "'경마장에 있는 말이 뛰고 있다'"
      ]
     },
     "execution_count": 69,
     "metadata": {},
     "output_type": "execute_result"
    }
   ],
   "source": [
    "#메소드 호출\n",
    "sentence_generation(model,t,\"경마장에\",4)"
   ]
  },
  {
   "cell_type": "code",
   "execution_count": 70,
   "metadata": {
    "ExecuteTime": {
     "end_time": "2021-03-29T03:24:05.321073Z",
     "start_time": "2021-03-29T03:24:05.160047Z"
    }
   },
   "outputs": [
    {
     "name": "stdout",
     "output_type": "stream",
     "text": [
      "입력 단어: 가는 말이\n",
      "1번째:고와야:9\n",
      "2번째:오는:10\n",
      "3번째:말이:1\n",
      "4번째:곱다:11\n"
     ]
    },
    {
     "data": {
      "text/plain": [
       "'가는 말이 고와야 오는 말이 곱다'"
      ]
     },
     "execution_count": 70,
     "metadata": {},
     "output_type": "execute_result"
    }
   ],
   "source": [
    "sentence_generation(model,t,\"가는 말이\",4)  # 뒤에 단어 4개 더 들어옴 "
   ]
  },
  {
   "cell_type": "markdown",
   "metadata": {},
   "source": [
    "# LSTM"
   ]
  },
  {
   "cell_type": "code",
   "execution_count": 74,
   "metadata": {
    "ExecuteTime": {
     "end_time": "2021-03-29T03:37:02.710665Z",
     "start_time": "2021-03-29T03:36:58.982128Z"
    }
   },
   "outputs": [
    {
     "name": "stdout",
     "output_type": "stream",
     "text": [
      "Epoch 1/300\n",
      "1/1 - 2s - loss: 2.4843 - accuracy: 0.1429\n",
      "Epoch 2/300\n",
      "1/1 - 0s - loss: 2.4818 - accuracy: 0.1786\n",
      "Epoch 3/300\n",
      "1/1 - 0s - loss: 2.4794 - accuracy: 0.1429\n",
      "Epoch 4/300\n",
      "1/1 - 0s - loss: 2.4769 - accuracy: 0.1786\n",
      "Epoch 5/300\n",
      "1/1 - 0s - loss: 2.4743 - accuracy: 0.2143\n",
      "Epoch 6/300\n",
      "1/1 - 0s - loss: 2.4717 - accuracy: 0.2143\n",
      "Epoch 7/300\n",
      "1/1 - 0s - loss: 2.4690 - accuracy: 0.2143\n",
      "Epoch 8/300\n",
      "1/1 - 0s - loss: 2.4662 - accuracy: 0.2500\n",
      "Epoch 9/300\n",
      "1/1 - 0s - loss: 2.4633 - accuracy: 0.2500\n",
      "Epoch 10/300\n",
      "1/1 - 0s - loss: 2.4603 - accuracy: 0.2500\n",
      "Epoch 11/300\n",
      "1/1 - 0s - loss: 2.4572 - accuracy: 0.2500\n",
      "Epoch 12/300\n",
      "1/1 - 0s - loss: 2.4540 - accuracy: 0.2857\n",
      "Epoch 13/300\n",
      "1/1 - 0s - loss: 2.4506 - accuracy: 0.2857\n",
      "Epoch 14/300\n",
      "1/1 - 0s - loss: 2.4470 - accuracy: 0.2857\n",
      "Epoch 15/300\n",
      "1/1 - 0s - loss: 2.4433 - accuracy: 0.2857\n",
      "Epoch 16/300\n",
      "1/1 - 0s - loss: 2.4394 - accuracy: 0.2857\n",
      "Epoch 17/300\n",
      "1/1 - 0s - loss: 2.4353 - accuracy: 0.2857\n",
      "Epoch 18/300\n",
      "1/1 - 0s - loss: 2.4309 - accuracy: 0.2857\n",
      "Epoch 19/300\n",
      "1/1 - 0s - loss: 2.4264 - accuracy: 0.2857\n",
      "Epoch 20/300\n",
      "1/1 - 0s - loss: 2.4216 - accuracy: 0.2857\n",
      "Epoch 21/300\n",
      "1/1 - 0s - loss: 2.4165 - accuracy: 0.2857\n",
      "Epoch 22/300\n",
      "1/1 - 0s - loss: 2.4111 - accuracy: 0.2857\n",
      "Epoch 23/300\n",
      "1/1 - 0s - loss: 2.4055 - accuracy: 0.2857\n",
      "Epoch 24/300\n",
      "1/1 - 0s - loss: 2.3994 - accuracy: 0.2857\n",
      "Epoch 25/300\n",
      "1/1 - 0s - loss: 2.3930 - accuracy: 0.2857\n",
      "Epoch 26/300\n",
      "1/1 - 0s - loss: 2.3863 - accuracy: 0.2857\n",
      "Epoch 27/300\n",
      "1/1 - 0s - loss: 2.3791 - accuracy: 0.2857\n",
      "Epoch 28/300\n",
      "1/1 - 0s - loss: 2.3714 - accuracy: 0.2857\n",
      "Epoch 29/300\n",
      "1/1 - 0s - loss: 2.3633 - accuracy: 0.2857\n",
      "Epoch 30/300\n",
      "1/1 - 0s - loss: 2.3547 - accuracy: 0.2857\n",
      "Epoch 31/300\n",
      "1/1 - 0s - loss: 2.3455 - accuracy: 0.2857\n",
      "Epoch 32/300\n",
      "1/1 - 0s - loss: 2.3357 - accuracy: 0.2857\n",
      "Epoch 33/300\n",
      "1/1 - 0s - loss: 2.3253 - accuracy: 0.2857\n",
      "Epoch 34/300\n",
      "1/1 - 0s - loss: 2.3143 - accuracy: 0.2857\n",
      "Epoch 35/300\n",
      "1/1 - 0s - loss: 2.3027 - accuracy: 0.2857\n",
      "Epoch 36/300\n",
      "1/1 - 0s - loss: 2.2903 - accuracy: 0.2857\n",
      "Epoch 37/300\n",
      "1/1 - 0s - loss: 2.2773 - accuracy: 0.2857\n",
      "Epoch 38/300\n",
      "1/1 - 0s - loss: 2.2636 - accuracy: 0.2857\n",
      "Epoch 39/300\n",
      "1/1 - 0s - loss: 2.2491 - accuracy: 0.2857\n",
      "Epoch 40/300\n",
      "1/1 - 0s - loss: 2.2340 - accuracy: 0.2857\n",
      "Epoch 41/300\n",
      "1/1 - 0s - loss: 2.2183 - accuracy: 0.2857\n",
      "Epoch 42/300\n",
      "1/1 - 0s - loss: 2.2020 - accuracy: 0.2857\n",
      "Epoch 43/300\n",
      "1/1 - 0s - loss: 2.1853 - accuracy: 0.2857\n",
      "Epoch 44/300\n",
      "1/1 - 0s - loss: 2.1683 - accuracy: 0.2857\n",
      "Epoch 45/300\n",
      "1/1 - 0s - loss: 2.1512 - accuracy: 0.2857\n",
      "Epoch 46/300\n",
      "1/1 - 0s - loss: 2.1342 - accuracy: 0.2857\n",
      "Epoch 47/300\n",
      "1/1 - 0s - loss: 2.1177 - accuracy: 0.2857\n",
      "Epoch 48/300\n",
      "1/1 - 0s - loss: 2.1019 - accuracy: 0.2857\n",
      "Epoch 49/300\n",
      "1/1 - 0s - loss: 2.0873 - accuracy: 0.2857\n",
      "Epoch 50/300\n",
      "1/1 - 0s - loss: 2.0743 - accuracy: 0.2857\n",
      "Epoch 51/300\n",
      "1/1 - 0s - loss: 2.0631 - accuracy: 0.2857\n",
      "Epoch 52/300\n",
      "1/1 - 0s - loss: 2.0537 - accuracy: 0.2857\n",
      "Epoch 53/300\n",
      "1/1 - 0s - loss: 2.0462 - accuracy: 0.2857\n",
      "Epoch 54/300\n",
      "1/1 - 0s - loss: 2.0399 - accuracy: 0.2857\n",
      "Epoch 55/300\n",
      "1/1 - 0s - loss: 2.0342 - accuracy: 0.2857\n",
      "Epoch 56/300\n",
      "1/1 - 0s - loss: 2.0285 - accuracy: 0.2857\n",
      "Epoch 57/300\n",
      "1/1 - 0s - loss: 2.0223 - accuracy: 0.2857\n",
      "Epoch 58/300\n",
      "1/1 - 0s - loss: 2.0153 - accuracy: 0.2857\n",
      "Epoch 59/300\n",
      "1/1 - 0s - loss: 2.0077 - accuracy: 0.2857\n",
      "Epoch 60/300\n",
      "1/1 - 0s - loss: 1.9996 - accuracy: 0.2857\n",
      "Epoch 61/300\n",
      "1/1 - 0s - loss: 1.9915 - accuracy: 0.2857\n",
      "Epoch 62/300\n",
      "1/1 - 0s - loss: 1.9836 - accuracy: 0.2857\n",
      "Epoch 63/300\n",
      "1/1 - 0s - loss: 1.9762 - accuracy: 0.2857\n",
      "Epoch 64/300\n",
      "1/1 - 0s - loss: 1.9694 - accuracy: 0.2857\n",
      "Epoch 65/300\n",
      "1/1 - 0s - loss: 1.9634 - accuracy: 0.2857\n",
      "Epoch 66/300\n",
      "1/1 - 0s - loss: 1.9579 - accuracy: 0.2857\n",
      "Epoch 67/300\n",
      "1/1 - 0s - loss: 1.9529 - accuracy: 0.2857\n",
      "Epoch 68/300\n",
      "1/1 - 0s - loss: 1.9483 - accuracy: 0.2857\n",
      "Epoch 69/300\n",
      "1/1 - 0s - loss: 1.9440 - accuracy: 0.2857\n",
      "Epoch 70/300\n",
      "1/1 - 0s - loss: 1.9399 - accuracy: 0.2857\n",
      "Epoch 71/300\n",
      "1/1 - 0s - loss: 1.9357 - accuracy: 0.2857\n",
      "Epoch 72/300\n",
      "1/1 - 0s - loss: 1.9316 - accuracy: 0.2857\n",
      "Epoch 73/300\n",
      "1/1 - 0s - loss: 1.9274 - accuracy: 0.2857\n",
      "Epoch 74/300\n",
      "1/1 - 0s - loss: 1.9232 - accuracy: 0.2857\n",
      "Epoch 75/300\n",
      "1/1 - 0s - loss: 1.9189 - accuracy: 0.2857\n",
      "Epoch 76/300\n",
      "1/1 - 0s - loss: 1.9147 - accuracy: 0.2857\n",
      "Epoch 77/300\n",
      "1/1 - 0s - loss: 1.9104 - accuracy: 0.2857\n",
      "Epoch 78/300\n",
      "1/1 - 0s - loss: 1.9062 - accuracy: 0.2857\n",
      "Epoch 79/300\n",
      "1/1 - 0s - loss: 1.9022 - accuracy: 0.2857\n",
      "Epoch 80/300\n",
      "1/1 - 0s - loss: 1.8982 - accuracy: 0.2857\n",
      "Epoch 81/300\n",
      "1/1 - 0s - loss: 1.8944 - accuracy: 0.2857\n",
      "Epoch 82/300\n",
      "1/1 - 0s - loss: 1.8907 - accuracy: 0.2857\n",
      "Epoch 83/300\n",
      "1/1 - 0s - loss: 1.8872 - accuracy: 0.2857\n",
      "Epoch 84/300\n",
      "1/1 - 0s - loss: 1.8837 - accuracy: 0.2857\n",
      "Epoch 85/300\n",
      "1/1 - 0s - loss: 1.8802 - accuracy: 0.2857\n",
      "Epoch 86/300\n",
      "1/1 - 0s - loss: 1.8767 - accuracy: 0.2857\n",
      "Epoch 87/300\n",
      "1/1 - 0s - loss: 1.8732 - accuracy: 0.2857\n",
      "Epoch 88/300\n",
      "1/1 - 0s - loss: 1.8697 - accuracy: 0.2857\n",
      "Epoch 89/300\n",
      "1/1 - 0s - loss: 1.8661 - accuracy: 0.2857\n",
      "Epoch 90/300\n",
      "1/1 - 0s - loss: 1.8624 - accuracy: 0.2857\n",
      "Epoch 91/300\n",
      "1/1 - 0s - loss: 1.8586 - accuracy: 0.2857\n",
      "Epoch 92/300\n",
      "1/1 - 0s - loss: 1.8548 - accuracy: 0.2857\n",
      "Epoch 93/300\n",
      "1/1 - 0s - loss: 1.8510 - accuracy: 0.2857\n",
      "Epoch 94/300\n",
      "1/1 - 0s - loss: 1.8472 - accuracy: 0.2857\n",
      "Epoch 95/300\n",
      "1/1 - 0s - loss: 1.8433 - accuracy: 0.2857\n",
      "Epoch 96/300\n",
      "1/1 - 0s - loss: 1.8394 - accuracy: 0.2857\n",
      "Epoch 97/300\n",
      "1/1 - 0s - loss: 1.8355 - accuracy: 0.2857\n",
      "Epoch 98/300\n",
      "1/1 - 0s - loss: 1.8315 - accuracy: 0.2857\n",
      "Epoch 99/300\n",
      "1/1 - 0s - loss: 1.8274 - accuracy: 0.2857\n",
      "Epoch 100/300\n",
      "1/1 - 0s - loss: 1.8232 - accuracy: 0.3214\n",
      "Epoch 101/300\n",
      "1/1 - 0s - loss: 1.8189 - accuracy: 0.3214\n",
      "Epoch 102/300\n",
      "1/1 - 0s - loss: 1.8145 - accuracy: 0.3214\n",
      "Epoch 103/300\n",
      "1/1 - 0s - loss: 1.8100 - accuracy: 0.3214\n",
      "Epoch 104/300\n",
      "1/1 - 0s - loss: 1.8054 - accuracy: 0.3214\n",
      "Epoch 105/300\n",
      "1/1 - 0s - loss: 1.8007 - accuracy: 0.3214\n",
      "Epoch 106/300\n",
      "1/1 - 0s - loss: 1.7959 - accuracy: 0.3214\n",
      "Epoch 107/300\n",
      "1/1 - 0s - loss: 1.7910 - accuracy: 0.3214\n",
      "Epoch 108/300\n",
      "1/1 - 0s - loss: 1.7860 - accuracy: 0.3214\n",
      "Epoch 109/300\n",
      "1/1 - 0s - loss: 1.7809 - accuracy: 0.3214\n",
      "Epoch 110/300\n",
      "1/1 - 0s - loss: 1.7756 - accuracy: 0.3214\n",
      "Epoch 111/300\n",
      "1/1 - 0s - loss: 1.7702 - accuracy: 0.3214\n",
      "Epoch 112/300\n",
      "1/1 - 0s - loss: 1.7647 - accuracy: 0.3571\n",
      "Epoch 113/300\n",
      "1/1 - 0s - loss: 1.7591 - accuracy: 0.3929\n",
      "Epoch 114/300\n",
      "1/1 - 0s - loss: 1.7533 - accuracy: 0.3929\n",
      "Epoch 115/300\n",
      "1/1 - 0s - loss: 1.7473 - accuracy: 0.3929\n",
      "Epoch 116/300\n",
      "1/1 - 0s - loss: 1.7412 - accuracy: 0.3929\n",
      "Epoch 117/300\n",
      "1/1 - 0s - loss: 1.7349 - accuracy: 0.3929\n",
      "Epoch 118/300\n",
      "1/1 - 0s - loss: 1.7285 - accuracy: 0.3929\n",
      "Epoch 119/300\n",
      "1/1 - 0s - loss: 1.7219 - accuracy: 0.3929\n",
      "Epoch 120/300\n",
      "1/1 - 0s - loss: 1.7151 - accuracy: 0.3929\n",
      "Epoch 121/300\n",
      "1/1 - 0s - loss: 1.7082 - accuracy: 0.3929\n",
      "Epoch 122/300\n",
      "1/1 - 0s - loss: 1.7010 - accuracy: 0.3929\n",
      "Epoch 123/300\n",
      "1/1 - 0s - loss: 1.6937 - accuracy: 0.4286\n",
      "Epoch 124/300\n",
      "1/1 - 0s - loss: 1.6862 - accuracy: 0.4286\n",
      "Epoch 125/300\n",
      "1/1 - 0s - loss: 1.6785 - accuracy: 0.4286\n",
      "Epoch 126/300\n",
      "1/1 - 0s - loss: 1.6706 - accuracy: 0.4286\n",
      "Epoch 127/300\n",
      "1/1 - 0s - loss: 1.6624 - accuracy: 0.4286\n",
      "Epoch 128/300\n",
      "1/1 - 0s - loss: 1.6541 - accuracy: 0.4286\n",
      "Epoch 129/300\n",
      "1/1 - 0s - loss: 1.6456 - accuracy: 0.4286\n",
      "Epoch 130/300\n",
      "1/1 - 0s - loss: 1.6369 - accuracy: 0.4286\n",
      "Epoch 131/300\n",
      "1/1 - 0s - loss: 1.6279 - accuracy: 0.4286\n",
      "Epoch 132/300\n",
      "1/1 - 0s - loss: 1.6188 - accuracy: 0.4286\n",
      "Epoch 133/300\n",
      "1/1 - 0s - loss: 1.6094 - accuracy: 0.4286\n",
      "Epoch 134/300\n",
      "1/1 - 0s - loss: 1.5998 - accuracy: 0.4643\n",
      "Epoch 135/300\n",
      "1/1 - 0s - loss: 1.5900 - accuracy: 0.4643\n",
      "Epoch 136/300\n",
      "1/1 - 0s - loss: 1.5800 - accuracy: 0.5000\n",
      "Epoch 137/300\n",
      "1/1 - 0s - loss: 1.5697 - accuracy: 0.5000\n",
      "Epoch 138/300\n",
      "1/1 - 0s - loss: 1.5592 - accuracy: 0.5000\n",
      "Epoch 139/300\n",
      "1/1 - 0s - loss: 1.5485 - accuracy: 0.5000\n",
      "Epoch 140/300\n",
      "1/1 - 0s - loss: 1.5376 - accuracy: 0.5714\n",
      "Epoch 141/300\n",
      "1/1 - 0s - loss: 1.5264 - accuracy: 0.5714\n",
      "Epoch 142/300\n",
      "1/1 - 0s - loss: 1.5151 - accuracy: 0.5714\n",
      "Epoch 143/300\n",
      "1/1 - 0s - loss: 1.5035 - accuracy: 0.5714\n",
      "Epoch 144/300\n",
      "1/1 - 0s - loss: 1.4917 - accuracy: 0.6071\n",
      "Epoch 145/300\n",
      "1/1 - 0s - loss: 1.4797 - accuracy: 0.6071\n",
      "Epoch 146/300\n",
      "1/1 - 0s - loss: 1.4676 - accuracy: 0.6071\n"
     ]
    },
    {
     "name": "stdout",
     "output_type": "stream",
     "text": [
      "Epoch 147/300\n",
      "1/1 - 0s - loss: 1.4552 - accuracy: 0.6071\n",
      "Epoch 148/300\n",
      "1/1 - 0s - loss: 1.4427 - accuracy: 0.6071\n",
      "Epoch 149/300\n",
      "1/1 - 0s - loss: 1.4299 - accuracy: 0.6071\n",
      "Epoch 150/300\n",
      "1/1 - 0s - loss: 1.4171 - accuracy: 0.6071\n",
      "Epoch 151/300\n",
      "1/1 - 0s - loss: 1.4041 - accuracy: 0.6071\n",
      "Epoch 152/300\n",
      "1/1 - 0s - loss: 1.3909 - accuracy: 0.6071\n",
      "Epoch 153/300\n",
      "1/1 - 0s - loss: 1.3777 - accuracy: 0.6071\n",
      "Epoch 154/300\n",
      "1/1 - 0s - loss: 1.3644 - accuracy: 0.6071\n",
      "Epoch 155/300\n",
      "1/1 - 0s - loss: 1.3509 - accuracy: 0.6071\n",
      "Epoch 156/300\n",
      "1/1 - 0s - loss: 1.3374 - accuracy: 0.6071\n",
      "Epoch 157/300\n",
      "1/1 - 0s - loss: 1.3239 - accuracy: 0.6071\n",
      "Epoch 158/300\n",
      "1/1 - 0s - loss: 1.3103 - accuracy: 0.6071\n",
      "Epoch 159/300\n",
      "1/1 - 0s - loss: 1.2968 - accuracy: 0.6071\n",
      "Epoch 160/300\n",
      "1/1 - 0s - loss: 1.2832 - accuracy: 0.6071\n",
      "Epoch 161/300\n",
      "1/1 - 0s - loss: 1.2697 - accuracy: 0.6071\n",
      "Epoch 162/300\n",
      "1/1 - 0s - loss: 1.2562 - accuracy: 0.6071\n",
      "Epoch 163/300\n",
      "1/1 - 0s - loss: 1.2428 - accuracy: 0.6071\n",
      "Epoch 164/300\n",
      "1/1 - 0s - loss: 1.2294 - accuracy: 0.6071\n",
      "Epoch 165/300\n",
      "1/1 - 0s - loss: 1.2162 - accuracy: 0.6071\n",
      "Epoch 166/300\n",
      "1/1 - 0s - loss: 1.2030 - accuracy: 0.6071\n",
      "Epoch 167/300\n",
      "1/1 - 0s - loss: 1.1900 - accuracy: 0.6071\n",
      "Epoch 168/300\n",
      "1/1 - 0s - loss: 1.1771 - accuracy: 0.6071\n",
      "Epoch 169/300\n",
      "1/1 - 0s - loss: 1.1644 - accuracy: 0.6071\n",
      "Epoch 170/300\n",
      "1/1 - 0s - loss: 1.1518 - accuracy: 0.6071\n",
      "Epoch 171/300\n",
      "1/1 - 0s - loss: 1.1394 - accuracy: 0.6071\n",
      "Epoch 172/300\n",
      "1/1 - 0s - loss: 1.1271 - accuracy: 0.6071\n",
      "Epoch 173/300\n",
      "1/1 - 0s - loss: 1.1151 - accuracy: 0.6071\n",
      "Epoch 174/300\n",
      "1/1 - 0s - loss: 1.1032 - accuracy: 0.6071\n",
      "Epoch 175/300\n",
      "1/1 - 0s - loss: 1.0916 - accuracy: 0.6071\n",
      "Epoch 176/300\n",
      "1/1 - 0s - loss: 1.0801 - accuracy: 0.6071\n",
      "Epoch 177/300\n",
      "1/1 - 0s - loss: 1.0689 - accuracy: 0.6071\n",
      "Epoch 178/300\n",
      "1/1 - 0s - loss: 1.0578 - accuracy: 0.6071\n",
      "Epoch 179/300\n",
      "1/1 - 0s - loss: 1.0470 - accuracy: 0.6071\n",
      "Epoch 180/300\n",
      "1/1 - 0s - loss: 1.0364 - accuracy: 0.6071\n",
      "Epoch 181/300\n",
      "1/1 - 0s - loss: 1.0259 - accuracy: 0.6071\n",
      "Epoch 182/300\n",
      "1/1 - 0s - loss: 1.0157 - accuracy: 0.6071\n",
      "Epoch 183/300\n",
      "1/1 - 0s - loss: 1.0057 - accuracy: 0.6071\n",
      "Epoch 184/300\n",
      "1/1 - 0s - loss: 0.9958 - accuracy: 0.6071\n",
      "Epoch 185/300\n",
      "1/1 - 0s - loss: 0.9861 - accuracy: 0.6429\n",
      "Epoch 186/300\n",
      "1/1 - 0s - loss: 0.9767 - accuracy: 0.6429\n",
      "Epoch 187/300\n",
      "1/1 - 0s - loss: 0.9674 - accuracy: 0.6429\n",
      "Epoch 188/300\n",
      "1/1 - 0s - loss: 0.9582 - accuracy: 0.6429\n",
      "Epoch 189/300\n",
      "1/1 - 0s - loss: 0.9493 - accuracy: 0.7143\n",
      "Epoch 190/300\n",
      "1/1 - 0s - loss: 0.9405 - accuracy: 0.7143\n",
      "Epoch 191/300\n",
      "1/1 - 0s - loss: 0.9318 - accuracy: 0.7143\n",
      "Epoch 192/300\n",
      "1/1 - 0s - loss: 0.9233 - accuracy: 0.7143\n",
      "Epoch 193/300\n",
      "1/1 - 0s - loss: 0.9149 - accuracy: 0.7143\n",
      "Epoch 194/300\n",
      "1/1 - 0s - loss: 0.9067 - accuracy: 0.7143\n",
      "Epoch 195/300\n",
      "1/1 - 0s - loss: 0.8987 - accuracy: 0.7500\n",
      "Epoch 196/300\n",
      "1/1 - 0s - loss: 0.8907 - accuracy: 0.7500\n",
      "Epoch 197/300\n",
      "1/1 - 0s - loss: 0.8829 - accuracy: 0.7500\n",
      "Epoch 198/300\n",
      "1/1 - 0s - loss: 0.8752 - accuracy: 0.7500\n",
      "Epoch 199/300\n",
      "1/1 - 0s - loss: 0.8677 - accuracy: 0.7500\n",
      "Epoch 200/300\n",
      "1/1 - 0s - loss: 0.8603 - accuracy: 0.7500\n",
      "Epoch 201/300\n",
      "1/1 - 0s - loss: 0.8529 - accuracy: 0.7500\n",
      "Epoch 202/300\n",
      "1/1 - 0s - loss: 0.8458 - accuracy: 0.7500\n",
      "Epoch 203/300\n",
      "1/1 - 0s - loss: 0.8387 - accuracy: 0.7500\n",
      "Epoch 204/300\n",
      "1/1 - 0s - loss: 0.8317 - accuracy: 0.7500\n",
      "Epoch 205/300\n",
      "1/1 - 0s - loss: 0.8249 - accuracy: 0.7500\n",
      "Epoch 206/300\n",
      "1/1 - 0s - loss: 0.8181 - accuracy: 0.7500\n",
      "Epoch 207/300\n",
      "1/1 - 0s - loss: 0.8115 - accuracy: 0.7500\n",
      "Epoch 208/300\n",
      "1/1 - 0s - loss: 0.8049 - accuracy: 0.7500\n",
      "Epoch 209/300\n",
      "1/1 - 0s - loss: 0.7985 - accuracy: 0.7500\n",
      "Epoch 210/300\n",
      "1/1 - 0s - loss: 0.7922 - accuracy: 0.7500\n",
      "Epoch 211/300\n",
      "1/1 - 0s - loss: 0.7859 - accuracy: 0.7500\n",
      "Epoch 212/300\n",
      "1/1 - 0s - loss: 0.7798 - accuracy: 0.7500\n",
      "Epoch 213/300\n",
      "1/1 - 0s - loss: 0.7737 - accuracy: 0.7500\n",
      "Epoch 214/300\n",
      "1/1 - 0s - loss: 0.7677 - accuracy: 0.7500\n",
      "Epoch 215/300\n",
      "1/1 - 0s - loss: 0.7619 - accuracy: 0.7500\n",
      "Epoch 216/300\n",
      "1/1 - 0s - loss: 0.7561 - accuracy: 0.7500\n",
      "Epoch 217/300\n",
      "1/1 - 0s - loss: 0.7504 - accuracy: 0.7500\n",
      "Epoch 218/300\n",
      "1/1 - 0s - loss: 0.7448 - accuracy: 0.7500\n",
      "Epoch 219/300\n",
      "1/1 - 0s - loss: 0.7392 - accuracy: 0.7500\n",
      "Epoch 220/300\n",
      "1/1 - 0s - loss: 0.7338 - accuracy: 0.7500\n",
      "Epoch 221/300\n",
      "1/1 - 0s - loss: 0.7284 - accuracy: 0.7500\n",
      "Epoch 222/300\n",
      "1/1 - 0s - loss: 0.7231 - accuracy: 0.7500\n",
      "Epoch 223/300\n",
      "1/1 - 0s - loss: 0.7179 - accuracy: 0.7500\n",
      "Epoch 224/300\n",
      "1/1 - 0s - loss: 0.7128 - accuracy: 0.7500\n",
      "Epoch 225/300\n",
      "1/1 - 0s - loss: 0.7077 - accuracy: 0.7500\n",
      "Epoch 226/300\n",
      "1/1 - 0s - loss: 0.7027 - accuracy: 0.7500\n",
      "Epoch 227/300\n",
      "1/1 - 0s - loss: 0.6978 - accuracy: 0.7500\n",
      "Epoch 228/300\n",
      "1/1 - 0s - loss: 0.6929 - accuracy: 0.7500\n",
      "Epoch 229/300\n",
      "1/1 - 0s - loss: 0.6881 - accuracy: 0.7500\n",
      "Epoch 230/300\n",
      "1/1 - 0s - loss: 0.6834 - accuracy: 0.7500\n",
      "Epoch 231/300\n",
      "1/1 - 0s - loss: 0.6788 - accuracy: 0.7500\n",
      "Epoch 232/300\n",
      "1/1 - 0s - loss: 0.6742 - accuracy: 0.7500\n",
      "Epoch 233/300\n",
      "1/1 - 0s - loss: 0.6696 - accuracy: 0.7500\n",
      "Epoch 234/300\n",
      "1/1 - 0s - loss: 0.6652 - accuracy: 0.7500\n",
      "Epoch 235/300\n",
      "1/1 - 0s - loss: 0.6608 - accuracy: 0.7500\n",
      "Epoch 236/300\n",
      "1/1 - 0s - loss: 0.6564 - accuracy: 0.7500\n",
      "Epoch 237/300\n",
      "1/1 - 0s - loss: 0.6522 - accuracy: 0.7500\n",
      "Epoch 238/300\n",
      "1/1 - 0s - loss: 0.6479 - accuracy: 0.7500\n",
      "Epoch 239/300\n",
      "1/1 - 0s - loss: 0.6438 - accuracy: 0.7500\n",
      "Epoch 240/300\n",
      "1/1 - 0s - loss: 0.6396 - accuracy: 0.7500\n",
      "Epoch 241/300\n",
      "1/1 - 0s - loss: 0.6356 - accuracy: 0.7500\n",
      "Epoch 242/300\n",
      "1/1 - 0s - loss: 0.6316 - accuracy: 0.7500\n",
      "Epoch 243/300\n",
      "1/1 - 0s - loss: 0.6276 - accuracy: 0.7500\n",
      "Epoch 244/300\n",
      "1/1 - 0s - loss: 0.6237 - accuracy: 0.7500\n",
      "Epoch 245/300\n",
      "1/1 - 0s - loss: 0.6198 - accuracy: 0.7500\n",
      "Epoch 246/300\n",
      "1/1 - 0s - loss: 0.6160 - accuracy: 0.7500\n",
      "Epoch 247/300\n",
      "1/1 - 0s - loss: 0.6123 - accuracy: 0.7500\n",
      "Epoch 248/300\n",
      "1/1 - 0s - loss: 0.6085 - accuracy: 0.7500\n",
      "Epoch 249/300\n",
      "1/1 - 0s - loss: 0.6049 - accuracy: 0.7500\n",
      "Epoch 250/300\n",
      "1/1 - 0s - loss: 0.6013 - accuracy: 0.7500\n",
      "Epoch 251/300\n",
      "1/1 - 0s - loss: 0.5977 - accuracy: 0.7500\n",
      "Epoch 252/300\n",
      "1/1 - 0s - loss: 0.5942 - accuracy: 0.7500\n",
      "Epoch 253/300\n",
      "1/1 - 0s - loss: 0.5907 - accuracy: 0.7500\n",
      "Epoch 254/300\n",
      "1/1 - 0s - loss: 0.5872 - accuracy: 0.7500\n",
      "Epoch 255/300\n",
      "1/1 - 0s - loss: 0.5838 - accuracy: 0.7500\n",
      "Epoch 256/300\n",
      "1/1 - 0s - loss: 0.5805 - accuracy: 0.7500\n",
      "Epoch 257/300\n",
      "1/1 - 0s - loss: 0.5772 - accuracy: 0.7500\n",
      "Epoch 258/300\n",
      "1/1 - 0s - loss: 0.5739 - accuracy: 0.7500\n",
      "Epoch 259/300\n",
      "1/1 - 0s - loss: 0.5706 - accuracy: 0.7500\n",
      "Epoch 260/300\n",
      "1/1 - 0s - loss: 0.5674 - accuracy: 0.7500\n",
      "Epoch 261/300\n",
      "1/1 - 0s - loss: 0.5643 - accuracy: 0.7500\n",
      "Epoch 262/300\n",
      "1/1 - 0s - loss: 0.5612 - accuracy: 0.7500\n",
      "Epoch 263/300\n",
      "1/1 - 0s - loss: 0.5581 - accuracy: 0.7500\n",
      "Epoch 264/300\n",
      "1/1 - 0s - loss: 0.5550 - accuracy: 0.7500\n",
      "Epoch 265/300\n",
      "1/1 - 0s - loss: 0.5520 - accuracy: 0.7500\n",
      "Epoch 266/300\n",
      "1/1 - 0s - loss: 0.5490 - accuracy: 0.7500\n",
      "Epoch 267/300\n",
      "1/1 - 0s - loss: 0.5461 - accuracy: 0.7500\n",
      "Epoch 268/300\n",
      "1/1 - 0s - loss: 0.5432 - accuracy: 0.7500\n",
      "Epoch 269/300\n",
      "1/1 - 0s - loss: 0.5403 - accuracy: 0.7500\n",
      "Epoch 270/300\n",
      "1/1 - 0s - loss: 0.5375 - accuracy: 0.7500\n",
      "Epoch 271/300\n",
      "1/1 - 0s - loss: 0.5346 - accuracy: 0.7500\n",
      "Epoch 272/300\n",
      "1/1 - 0s - loss: 0.5319 - accuracy: 0.7500\n",
      "Epoch 273/300\n",
      "1/1 - 0s - loss: 0.5291 - accuracy: 0.7500\n",
      "Epoch 274/300\n",
      "1/1 - 0s - loss: 0.5264 - accuracy: 0.7500\n",
      "Epoch 275/300\n",
      "1/1 - 0s - loss: 0.5237 - accuracy: 0.7500\n",
      "Epoch 276/300\n",
      "1/1 - 0s - loss: 0.5210 - accuracy: 0.7500\n",
      "Epoch 277/300\n",
      "1/1 - 0s - loss: 0.5184 - accuracy: 0.7500\n",
      "Epoch 278/300\n",
      "1/1 - 0s - loss: 0.5157 - accuracy: 0.7500\n",
      "Epoch 279/300\n",
      "1/1 - 0s - loss: 0.5131 - accuracy: 0.7500\n",
      "Epoch 280/300\n",
      "1/1 - 0s - loss: 0.5106 - accuracy: 0.7500\n",
      "Epoch 281/300\n",
      "1/1 - 0s - loss: 0.5080 - accuracy: 0.7500\n",
      "Epoch 282/300\n",
      "1/1 - 0s - loss: 0.5055 - accuracy: 0.7500\n",
      "Epoch 283/300\n",
      "1/1 - 0s - loss: 0.5030 - accuracy: 0.7500\n",
      "Epoch 284/300\n",
      "1/1 - 0s - loss: 0.5005 - accuracy: 0.7500\n",
      "Epoch 285/300\n",
      "1/1 - 0s - loss: 0.4981 - accuracy: 0.7500\n",
      "Epoch 286/300\n",
      "1/1 - 0s - loss: 0.4957 - accuracy: 0.7500\n",
      "Epoch 287/300\n",
      "1/1 - 0s - loss: 0.4932 - accuracy: 0.7500\n",
      "Epoch 288/300\n",
      "1/1 - 0s - loss: 0.4909 - accuracy: 0.7500\n",
      "Epoch 289/300\n",
      "1/1 - 0s - loss: 0.4885 - accuracy: 0.7500\n",
      "Epoch 290/300\n",
      "1/1 - 0s - loss: 0.4861 - accuracy: 0.7500\n"
     ]
    },
    {
     "name": "stdout",
     "output_type": "stream",
     "text": [
      "Epoch 291/300\n",
      "1/1 - 0s - loss: 0.4838 - accuracy: 0.8214\n",
      "Epoch 292/300\n",
      "1/1 - 0s - loss: 0.4815 - accuracy: 0.8214\n",
      "Epoch 293/300\n",
      "1/1 - 0s - loss: 0.4792 - accuracy: 0.8214\n",
      "Epoch 294/300\n",
      "1/1 - 0s - loss: 0.4769 - accuracy: 0.8214\n",
      "Epoch 295/300\n",
      "1/1 - 0s - loss: 0.4746 - accuracy: 0.8214\n",
      "Epoch 296/300\n",
      "1/1 - 0s - loss: 0.4724 - accuracy: 0.8214\n",
      "Epoch 297/300\n",
      "1/1 - 0s - loss: 0.4701 - accuracy: 0.8214\n",
      "Epoch 298/300\n",
      "1/1 - 0s - loss: 0.4679 - accuracy: 0.8214\n",
      "Epoch 299/300\n",
      "1/1 - 0s - loss: 0.4657 - accuracy: 0.8214\n",
      "Epoch 300/300\n",
      "1/1 - 0s - loss: 0.4635 - accuracy: 0.8214\n"
     ]
    }
   ],
   "source": [
    "from tensorflow.keras.models import Sequential\n",
    "from tensorflow.keras.layers import SimpleRNN, Dense, LSTM    #long term short term memory\n",
    "\n",
    "# RNN 모델 생성\n",
    "model = Sequential()\n",
    "# 희소행렬로 변환 (10:벡터)\n",
    "model.add(Embedding(vocab_size, 10, input_length=X.shape[1]))\n",
    "model.add(LSTM(32))\n",
    "model.add(Dense(vocab_size, activation=\"softmax\"))\n",
    "\n",
    "# 모델 학습과정 설정\n",
    "model.compile(loss=\"categorical_crossentropy\", optimizer=\"adam\", \n",
    "              metrics=['accuracy'])\n",
    "\n",
    "# 학습시키기\n",
    "hist = model.fit(X, Y, epochs=300, verbose=2)"
   ]
  },
  {
   "cell_type": "code",
   "execution_count": null,
   "metadata": {},
   "outputs": [],
   "source": []
  },
  {
   "cell_type": "code",
   "execution_count": null,
   "metadata": {},
   "outputs": [],
   "source": []
  }
 ],
 "metadata": {
  "kernelspec": {
   "display_name": "Python 3",
   "language": "python",
   "name": "python3"
  },
  "language_info": {
   "codemirror_mode": {
    "name": "ipython",
    "version": 3
   },
   "file_extension": ".py",
   "mimetype": "text/x-python",
   "name": "python",
   "nbconvert_exporter": "python",
   "pygments_lexer": "ipython3",
   "version": "3.8.5"
  },
  "toc": {
   "base_numbering": 1,
   "nav_menu": {},
   "number_sections": true,
   "sideBar": true,
   "skip_h1_title": false,
   "title_cell": "Table of Contents",
   "title_sidebar": "Contents",
   "toc_cell": false,
   "toc_position": {},
   "toc_section_display": true,
   "toc_window_display": false
  },
  "varInspector": {
   "cols": {
    "lenName": 16,
    "lenType": 16,
    "lenVar": 40
   },
   "kernels_config": {
    "python": {
     "delete_cmd_postfix": "",
     "delete_cmd_prefix": "del ",
     "library": "var_list.py",
     "varRefreshCmd": "print(var_dic_list())"
    },
    "r": {
     "delete_cmd_postfix": ") ",
     "delete_cmd_prefix": "rm(",
     "library": "var_list.r",
     "varRefreshCmd": "cat(var_dic_list()) "
    }
   },
   "types_to_exclude": [
    "module",
    "function",
    "builtin_function_or_method",
    "instance",
    "_Feature"
   ],
   "window_display": false
  }
 },
 "nbformat": 4,
 "nbformat_minor": 4
}

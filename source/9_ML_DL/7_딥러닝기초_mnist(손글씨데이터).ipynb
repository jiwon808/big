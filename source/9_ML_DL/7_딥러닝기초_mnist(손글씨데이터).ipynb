{
 "cells": [
  {
   "cell_type": "code",
   "execution_count": 6,
   "metadata": {
    "ExecuteTime": {
     "end_time": "2021-03-23T07:06:39.695193Z",
     "start_time": "2021-03-23T07:06:39.388857Z"
    }
   },
   "outputs": [],
   "source": [
    "from tensorflow.keras.datasets import mnist  # mnist 데이터셋\n",
    "import tensorflow.keras.utils as utils #원핫인코딩\n",
    "from tensorflow.keras.models import Sequential #모델\n",
    "from tensorflow.keras.layers import Dense, Activation # Layer add \n",
    "from matplotlib import pyplot as plt \n",
    "import numpy as np\n",
    "np.random.seed(3)\n"
   ]
  },
  {
   "cell_type": "markdown",
   "metadata": {},
   "source": [
    "# 1. 데이터 전처리"
   ]
  },
  {
   "cell_type": "code",
   "execution_count": 3,
   "metadata": {
    "ExecuteTime": {
     "end_time": "2021-03-23T07:03:24.394808Z",
     "start_time": "2021-03-23T07:03:23.973930Z"
    }
   },
   "outputs": [],
   "source": [
    "# 1. 데이터 셋 준비하기 \n",
    "# 훈련셋, 검증셋 분리 \n",
    "(X_train, Y_train), (X_test,Y_test) = mnist.load_data()    # X_train 독립변수, Y_train 종속변수  #mnist는 패키지안에 들어있다\n",
    "                                                           # mnist.load_data() == 알아서 나눠서 출력하는 메소드 "
   ]
  },
  {
   "cell_type": "code",
   "execution_count": 4,
   "metadata": {
    "ExecuteTime": {
     "end_time": "2021-03-23T07:03:24.766346Z",
     "start_time": "2021-03-23T07:03:24.756372Z"
    }
   },
   "outputs": [
    {
     "data": {
      "text/plain": [
       "((60000, 28, 28), (60000,), (10000, 28, 28), (10000,))"
      ]
     },
     "execution_count": 4,
     "metadata": {},
     "output_type": "execute_result"
    }
   ],
   "source": [
    "X_train.shape,Y_train.shape,X_test.shape,Y_test.shape  #60000면 28행 28열   "
   ]
  },
  {
   "cell_type": "code",
   "execution_count": 5,
   "metadata": {
    "ExecuteTime": {
     "end_time": "2021-03-23T07:05:36.045223Z",
     "start_time": "2021-03-23T07:05:36.037243Z"
    }
   },
   "outputs": [
    {
     "data": {
      "text/plain": [
       "array([[  0,   0,   0,   0,   0,   0,   0,   0,   0,   0,   0,   0,   0,\n",
       "          0,   0,   0,   0,   0,   0,   0,   0,   0,   0,   0,   0,   0,\n",
       "          0,   0],\n",
       "       [  0,   0,   0,   0,   0,   0,   0,   0,   0,   0,   0,   0,   0,\n",
       "          0,   0,   0,   0,   0,   0,   0,   0,   0,   0,   0,   0,   0,\n",
       "          0,   0],\n",
       "       [  0,   0,   0,   0,   0,   0,   0,   0,   0,   0,   0,   0,   0,\n",
       "          0,   0,   0,   0,   0,   0,   0,   0,   0,   0,   0,   0,   0,\n",
       "          0,   0],\n",
       "       [  0,   0,   0,   0,   0,   0,   0,   0,   0,   0,   0,   0,   0,\n",
       "          0,   0,   0,   0,   0,   0,   0,   0,   0,   0,   0,   0,   0,\n",
       "          0,   0],\n",
       "       [  0,   0,   0,   0,   0,   0,   0,   0,   0,   0,   0,   0,   0,\n",
       "          0,   0,   0,   0,   0,   0,   0,   0,   0,   0,   0,   0,   0,\n",
       "          0,   0],\n",
       "       [  0,   0,   0,   0,   0,   0,   0,   0,   0,   0,   0,   0,   3,\n",
       "         18,  18,  18, 126, 136, 175,  26, 166, 255, 247, 127,   0,   0,\n",
       "          0,   0],\n",
       "       [  0,   0,   0,   0,   0,   0,   0,   0,  30,  36,  94, 154, 170,\n",
       "        253, 253, 253, 253, 253, 225, 172, 253, 242, 195,  64,   0,   0,\n",
       "          0,   0],\n",
       "       [  0,   0,   0,   0,   0,   0,   0,  49, 238, 253, 253, 253, 253,\n",
       "        253, 253, 253, 253, 251,  93,  82,  82,  56,  39,   0,   0,   0,\n",
       "          0,   0],\n",
       "       [  0,   0,   0,   0,   0,   0,   0,  18, 219, 253, 253, 253, 253,\n",
       "        253, 198, 182, 247, 241,   0,   0,   0,   0,   0,   0,   0,   0,\n",
       "          0,   0],\n",
       "       [  0,   0,   0,   0,   0,   0,   0,   0,  80, 156, 107, 253, 253,\n",
       "        205,  11,   0,  43, 154,   0,   0,   0,   0,   0,   0,   0,   0,\n",
       "          0,   0],\n",
       "       [  0,   0,   0,   0,   0,   0,   0,   0,   0,  14,   1, 154, 253,\n",
       "         90,   0,   0,   0,   0,   0,   0,   0,   0,   0,   0,   0,   0,\n",
       "          0,   0],\n",
       "       [  0,   0,   0,   0,   0,   0,   0,   0,   0,   0,   0, 139, 253,\n",
       "        190,   2,   0,   0,   0,   0,   0,   0,   0,   0,   0,   0,   0,\n",
       "          0,   0],\n",
       "       [  0,   0,   0,   0,   0,   0,   0,   0,   0,   0,   0,  11, 190,\n",
       "        253,  70,   0,   0,   0,   0,   0,   0,   0,   0,   0,   0,   0,\n",
       "          0,   0],\n",
       "       [  0,   0,   0,   0,   0,   0,   0,   0,   0,   0,   0,   0,  35,\n",
       "        241, 225, 160, 108,   1,   0,   0,   0,   0,   0,   0,   0,   0,\n",
       "          0,   0],\n",
       "       [  0,   0,   0,   0,   0,   0,   0,   0,   0,   0,   0,   0,   0,\n",
       "         81, 240, 253, 253, 119,  25,   0,   0,   0,   0,   0,   0,   0,\n",
       "          0,   0],\n",
       "       [  0,   0,   0,   0,   0,   0,   0,   0,   0,   0,   0,   0,   0,\n",
       "          0,  45, 186, 253, 253, 150,  27,   0,   0,   0,   0,   0,   0,\n",
       "          0,   0],\n",
       "       [  0,   0,   0,   0,   0,   0,   0,   0,   0,   0,   0,   0,   0,\n",
       "          0,   0,  16,  93, 252, 253, 187,   0,   0,   0,   0,   0,   0,\n",
       "          0,   0],\n",
       "       [  0,   0,   0,   0,   0,   0,   0,   0,   0,   0,   0,   0,   0,\n",
       "          0,   0,   0,   0, 249, 253, 249,  64,   0,   0,   0,   0,   0,\n",
       "          0,   0],\n",
       "       [  0,   0,   0,   0,   0,   0,   0,   0,   0,   0,   0,   0,   0,\n",
       "          0,  46, 130, 183, 253, 253, 207,   2,   0,   0,   0,   0,   0,\n",
       "          0,   0],\n",
       "       [  0,   0,   0,   0,   0,   0,   0,   0,   0,   0,   0,   0,  39,\n",
       "        148, 229, 253, 253, 253, 250, 182,   0,   0,   0,   0,   0,   0,\n",
       "          0,   0],\n",
       "       [  0,   0,   0,   0,   0,   0,   0,   0,   0,   0,  24, 114, 221,\n",
       "        253, 253, 253, 253, 201,  78,   0,   0,   0,   0,   0,   0,   0,\n",
       "          0,   0],\n",
       "       [  0,   0,   0,   0,   0,   0,   0,   0,  23,  66, 213, 253, 253,\n",
       "        253, 253, 198,  81,   2,   0,   0,   0,   0,   0,   0,   0,   0,\n",
       "          0,   0],\n",
       "       [  0,   0,   0,   0,   0,   0,  18, 171, 219, 253, 253, 253, 253,\n",
       "        195,  80,   9,   0,   0,   0,   0,   0,   0,   0,   0,   0,   0,\n",
       "          0,   0],\n",
       "       [  0,   0,   0,   0,  55, 172, 226, 253, 253, 253, 253, 244, 133,\n",
       "         11,   0,   0,   0,   0,   0,   0,   0,   0,   0,   0,   0,   0,\n",
       "          0,   0],\n",
       "       [  0,   0,   0,   0, 136, 253, 253, 253, 212, 135, 132,  16,   0,\n",
       "          0,   0,   0,   0,   0,   0,   0,   0,   0,   0,   0,   0,   0,\n",
       "          0,   0],\n",
       "       [  0,   0,   0,   0,   0,   0,   0,   0,   0,   0,   0,   0,   0,\n",
       "          0,   0,   0,   0,   0,   0,   0,   0,   0,   0,   0,   0,   0,\n",
       "          0,   0],\n",
       "       [  0,   0,   0,   0,   0,   0,   0,   0,   0,   0,   0,   0,   0,\n",
       "          0,   0,   0,   0,   0,   0,   0,   0,   0,   0,   0,   0,   0,\n",
       "          0,   0],\n",
       "       [  0,   0,   0,   0,   0,   0,   0,   0,   0,   0,   0,   0,   0,\n",
       "          0,   0,   0,   0,   0,   0,   0,   0,   0,   0,   0,   0,   0,\n",
       "          0,   0]], dtype=uint8)"
      ]
     },
     "execution_count": 5,
     "metadata": {},
     "output_type": "execute_result"
    }
   ],
   "source": [
    "X_train[0]"
   ]
  },
  {
   "cell_type": "code",
   "execution_count": 7,
   "metadata": {
    "ExecuteTime": {
     "end_time": "2021-03-23T07:07:28.342853Z",
     "start_time": "2021-03-23T07:07:27.921103Z"
    }
   },
   "outputs": [
    {
     "data": {
      "text/plain": [
       "<matplotlib.image.AxesImage at 0x1ec863a1b20>"
      ]
     },
     "execution_count": 7,
     "metadata": {},
     "output_type": "execute_result"
    },
    {
     "data": {
      "image/png": "[encoded data removed]",
      "text/plain": [
       "<Figure size 432x288 with 1 Axes>"
      ]
     },
     "metadata": {
      "needs_background": "light"
     },
     "output_type": "display_data"
    }
   ],
   "source": [
    "plt.imshow(X_train[0])  #위에서 숫자 있는게 여기서 노랑부분"
   ]
  },
  {
   "cell_type": "code",
   "execution_count": 8,
   "metadata": {
    "ExecuteTime": {
     "end_time": "2021-03-23T07:08:55.673598Z",
     "start_time": "2021-03-23T07:08:55.662629Z"
    }
   },
   "outputs": [
    {
     "data": {
      "text/plain": [
       "5"
      ]
     },
     "execution_count": 8,
     "metadata": {},
     "output_type": "execute_result"
    }
   ],
   "source": [
    "#결과는 Y_train에 있다.  컴퓨터에게 위위 데이터를 알려줌\n",
    "Y_train[0]"
   ]
  },
  {
   "cell_type": "code",
   "execution_count": 9,
   "metadata": {
    "ExecuteTime": {
     "end_time": "2021-03-23T07:15:03.341607Z",
     "start_time": "2021-03-23T07:15:03.332630Z"
    }
   },
   "outputs": [],
   "source": [
    "# 훈련셋과 검증셋 분리  (X_train, Y_train을 검증셋과 훈련셋으로 분리)\n",
    "X_val = X_train[50000:]  #50000개부터 끝까지 \n",
    "Y_val = Y_train[50000:]\n",
    "X_train = X_train[:50000]\n",
    "Y_train = Y_train[:50000]"
   ]
  },
  {
   "cell_type": "code",
   "execution_count": 10,
   "metadata": {
    "ExecuteTime": {
     "end_time": "2021-03-23T07:15:04.759814Z",
     "start_time": "2021-03-23T07:15:04.749848Z"
    }
   },
   "outputs": [
    {
     "data": {
      "text/plain": [
       "((50000, 28, 28), (50000,))"
      ]
     },
     "execution_count": 10,
     "metadata": {},
     "output_type": "execute_result"
    }
   ],
   "source": [
    "# 훈련셋 - 학습할 때 사용      (accuracy높고,loss가 낮고)\n",
    "X_train.shape, Y_train.shape"
   ]
  },
  {
   "cell_type": "code",
   "execution_count": 11,
   "metadata": {
    "ExecuteTime": {
     "end_time": "2021-03-23T07:15:40.742025Z",
     "start_time": "2021-03-23T07:15:40.730058Z"
    }
   },
   "outputs": [
    {
     "data": {
      "text/plain": [
       "(10000, 10000)"
      ]
     },
     "execution_count": 11,
     "metadata": {},
     "output_type": "execute_result"
    }
   ],
   "source": [
    "# 검증셋 - 학습할 때 사용 \n",
    "len(X_val),len(Y_val)"
   ]
  },
  {
   "cell_type": "code",
   "execution_count": 12,
   "metadata": {
    "ExecuteTime": {
     "end_time": "2021-03-23T07:15:54.266510Z",
     "start_time": "2021-03-23T07:15:54.247560Z"
    }
   },
   "outputs": [
    {
     "data": {
      "text/plain": [
       "(10000, 10000)"
      ]
     },
     "execution_count": 12,
     "metadata": {},
     "output_type": "execute_result"
    }
   ],
   "source": [
    "# 훈련셋 - 모델 평가할 때 사용 \n",
    "len(X_test), len(Y_test)"
   ]
  },
  {
   "cell_type": "markdown",
   "metadata": {},
   "source": [
    "결국 2줄"
   ]
  },
  {
   "cell_type": "code",
   "execution_count": null,
   "metadata": {},
   "outputs": [],
   "source": [
    "# 훈련셋, 검증셋 분리 \n",
    "(X_train, Y_train), (X_test,Y_test) = mnist.load_data()   \n",
    "\n",
    "X_val = X_train[50000:]  #50000개부터 끝까지 \n",
    "Y_val = Y_train[50000:]\n",
    "X_train = X_train[:50000]\n",
    "Y_train = Y_train[:50000]"
   ]
  },
  {
   "cell_type": "markdown",
   "metadata": {},
   "source": [
    "## normalize하기 위해 색상값으로 나눔"
   ]
  },
  {
   "cell_type": "code",
   "execution_count": 13,
   "metadata": {
    "ExecuteTime": {
     "end_time": "2021-03-23T07:24:50.997253Z",
     "start_time": "2021-03-23T07:24:50.850599Z"
    }
   },
   "outputs": [],
   "source": [
    "X_train = X_train.reshape(50000,784).astype('float32')/255.0    #28x28=784********************\n",
    "X_val = X_val.reshape(10000,784).astype('float32')/255.0  # '데이터 784개' 한꺼번에 1차원으로 들어가  *******************************************\n",
    "X_test = X_test.reshape(10000,784).astype('float32')/255.0    #255.0는 색상값 \n"
   ]
  },
  {
   "cell_type": "code",
   "execution_count": 14,
   "metadata": {
    "ExecuteTime": {
     "end_time": "2021-03-23T07:25:03.952819Z",
     "start_time": "2021-03-23T07:25:03.933868Z"
    }
   },
   "outputs": [
    {
     "data": {
      "text/plain": [
       "((50000, 784), (10000, 784), (10000, 784))"
      ]
     },
     "execution_count": 14,
     "metadata": {},
     "output_type": "execute_result"
    }
   ],
   "source": [
    "X_train.shape, X_val.shape, X_test.shape"
   ]
  },
  {
   "cell_type": "code",
   "execution_count": 20,
   "metadata": {
    "ExecuteTime": {
     "end_time": "2021-03-23T07:53:15.140666Z",
     "start_time": "2021-03-23T07:53:15.115732Z"
    }
   },
   "outputs": [],
   "source": [
    "# 훈련셋과 검증셋 700개, 300개씩만 가져옴 \n",
    "#1부터50000까지 700개를 random하게 뽑자\n",
    "train_rand_idxs = np.random.choice(50000,700) #50000개중 700개를 뽑음\n",
    "val_rand_idxs = np.random.choice(10000,300)  #10000개 중 300개를 뽑아라   0부터99999까지 300개의 수   random.choice를 쓴 이유: 중복되면 안됨\n",
    "                                                #학습하는데 시간 줄여볼려고\n",
    "X_train = X_train[train_rand_idxs]\n",
    "Y_train = Y_train[train_rand_idxs]\n",
    "\n",
    "#300개의 index만 사용\n",
    "X_val = X_val[val_rand_idxs]      #X_val, Y_val이 같아야   \n",
    "Y_val = Y_val[val_rand_idxs]"
   ]
  },
  {
   "cell_type": "code",
   "execution_count": 21,
   "metadata": {
    "ExecuteTime": {
     "end_time": "2021-03-23T07:53:17.014242Z",
     "start_time": "2021-03-23T07:53:16.872454Z"
    }
   },
   "outputs": [
    {
     "data": {
      "text/plain": [
       "<matplotlib.image.AxesImage at 0x1ec851a8c40>"
      ]
     },
     "execution_count": 21,
     "metadata": {},
     "output_type": "execute_result"
    },
    {
     "data": {
      "image/png": "[encoded data removed]",
      "text/plain": [
       "<Figure size 432x288 with 1 Axes>"
      ]
     },
     "metadata": {
      "needs_background": "light"
     },
     "output_type": "display_data"
    }
   ],
   "source": [
    "plt.imshow(X_train[0].reshape(28,28))      #.reshap(28,28)하면 화면출력해서 그림 나옴"
   ]
  },
  {
   "cell_type": "code",
   "execution_count": 22,
   "metadata": {
    "ExecuteTime": {
     "end_time": "2021-03-23T07:53:20.280381Z",
     "start_time": "2021-03-23T07:53:20.271380Z"
    }
   },
   "outputs": [
    {
     "data": {
      "text/plain": [
       "9"
      ]
     },
     "execution_count": 22,
     "metadata": {},
     "output_type": "execute_result"
    }
   ],
   "source": [
    "Y_train[0]"
   ]
  },
  {
   "cell_type": "code",
   "execution_count": 23,
   "metadata": {
    "ExecuteTime": {
     "end_time": "2021-03-23T07:53:22.086818Z",
     "start_time": "2021-03-23T07:53:22.069863Z"
    }
   },
   "outputs": [
    {
     "data": {
      "text/plain": [
       "array([9, 2, 9, 6, 0, 4, 6, 4, 9, 9, 1, 9, 8, 1, 9, 0, 1, 5, 1, 9],\n",
       "      dtype=uint8)"
      ]
     },
     "execution_count": 23,
     "metadata": {},
     "output_type": "execute_result"
    }
   ],
   "source": [
    "Y_train[:20]"
   ]
  },
  {
   "cell_type": "code",
   "execution_count": 25,
   "metadata": {
    "ExecuteTime": {
     "end_time": "2021-03-23T07:54:37.207330Z",
     "start_time": "2021-03-23T07:54:37.198354Z"
    }
   },
   "outputs": [
    {
     "data": {
      "text/plain": [
       "((700,), (300,), (10000,))"
      ]
     },
     "execution_count": 25,
     "metadata": {},
     "output_type": "execute_result"
    }
   ],
   "source": [
    "Y_train.shape,Y_val.shape,Y_test.shape"
   ]
  },
  {
   "cell_type": "code",
   "execution_count": 27,
   "metadata": {
    "ExecuteTime": {
     "end_time": "2021-03-23T07:56:02.940189Z",
     "start_time": "2021-03-23T07:56:02.931213Z"
    }
   },
   "outputs": [],
   "source": [
    "# 원 핫 인코딩 = 라벨링 전환 \n",
    "# 0  => 1 0 0 0 0 0 0 0 0 0\n",
    "# 3 => 0 0 0 1 0 0 0 0 0 0 \n",
    "Y_train =  utils.to_categorical(Y_train)\n",
    "Y_val = utils.to_categorical(Y_val)\n",
    "Y_test = utils.to_categorical(Y_test)"
   ]
  },
  {
   "cell_type": "code",
   "execution_count": 28,
   "metadata": {
    "ExecuteTime": {
     "end_time": "2021-03-23T07:56:04.073281Z",
     "start_time": "2021-03-23T07:56:04.058321Z"
    }
   },
   "outputs": [
    {
     "data": {
      "text/plain": [
       "((700, 10), (300, 10), (10000, 10))"
      ]
     },
     "execution_count": 28,
     "metadata": {},
     "output_type": "execute_result"
    }
   ],
   "source": [
    "Y_train.shape, Y_val.shape,Y_test.shape"
   ]
  },
  {
   "cell_type": "code",
   "execution_count": 29,
   "metadata": {
    "ExecuteTime": {
     "end_time": "2021-03-23T07:56:14.603096Z",
     "start_time": "2021-03-23T07:56:14.598128Z"
    }
   },
   "outputs": [
    {
     "data": {
      "text/plain": [
       "array([0., 0., 0., 0., 0., 0., 0., 0., 0., 1.], dtype=float32)"
      ]
     },
     "execution_count": 29,
     "metadata": {},
     "output_type": "execute_result"
    }
   ],
   "source": [
    "Y_train[0]\n",
    "# 데이터 전치리 끝 #######################################################################"
   ]
  },
  {
   "cell_type": "markdown",
   "metadata": {},
   "source": [
    "# 2. 모델 구성하기"
   ]
  },
  {
   "cell_type": "code",
   "execution_count": 30,
   "metadata": {
    "ExecuteTime": {
     "end_time": "2021-03-23T08:08:04.624337Z",
     "start_time": "2021-03-23T08:08:04.531382Z"
    }
   },
   "outputs": [],
   "source": [
    "model = Sequential()\n",
    "model.add(Dense(units=2, input_dim=784, activation=\"relu\"))  #layer output 2개 \n",
    "model.add(Dense(units=10, activation=\"softmax\"))"
   ]
  },
  {
   "cell_type": "markdown",
   "metadata": {},
   "source": [
    "# 3. 모델 학습과정 설정"
   ]
  },
  {
   "cell_type": "code",
   "execution_count": 31,
   "metadata": {
    "ExecuteTime": {
     "end_time": "2021-03-23T08:08:06.262865Z",
     "start_time": "2021-03-23T08:08:06.243915Z"
    }
   },
   "outputs": [],
   "source": [
    "model.compile(loss=\"categorical_crossentropy\", optimizer = \"sgd\", metrics=['accuracy'])"
   ]
  },
  {
   "cell_type": "markdown",
   "metadata": {},
   "source": [
    "# 4. 모델 학습 시키기"
   ]
  },
  {
   "cell_type": "code",
   "execution_count": 32,
   "metadata": {
    "ExecuteTime": {
     "end_time": "2021-03-23T08:13:44.478261Z",
     "start_time": "2021-03-23T08:12:16.448616Z"
    }
   },
   "outputs": [
    {
     "name": "stdout",
     "output_type": "stream",
     "text": [
      "Epoch 1/1000\n",
      "70/70 [==============================] - 1s 4ms/step - loss: 2.2746 - accuracy: 0.1115 - val_loss: 2.2478 - val_accuracy: 0.1033\n",
      "Epoch 2/1000\n",
      "70/70 [==============================] - 0s 1ms/step - loss: 2.2240 - accuracy: 0.1493 - val_loss: 2.1927 - val_accuracy: 0.1333\n",
      "Epoch 3/1000\n",
      "70/70 [==============================] - 0s 1ms/step - loss: 2.1745 - accuracy: 0.1595 - val_loss: 2.1448 - val_accuracy: 0.1767\n",
      "Epoch 4/1000\n",
      "70/70 [==============================] - 0s 1ms/step - loss: 2.1013 - accuracy: 0.2380 - val_loss: 2.1116 - val_accuracy: 0.2500\n",
      "Epoch 5/1000\n",
      "70/70 [==============================] - 0s 1ms/step - loss: 2.0754 - accuracy: 0.2698 - val_loss: 2.0769 - val_accuracy: 0.2767\n",
      "Epoch 6/1000\n",
      "70/70 [==============================] - 0s 1ms/step - loss: 2.0295 - accuracy: 0.3034 - val_loss: 2.0451 - val_accuracy: 0.2867\n",
      "Epoch 7/1000\n",
      "70/70 [==============================] - 0s 1ms/step - loss: 1.9890 - accuracy: 0.2897 - val_loss: 2.0263 - val_accuracy: 0.2833\n",
      "Epoch 8/1000\n",
      "70/70 [==============================] - 0s 1ms/step - loss: 1.9756 - accuracy: 0.3093 - val_loss: 1.9895 - val_accuracy: 0.2833\n",
      "Epoch 9/1000\n",
      "70/70 [==============================] - 0s 1ms/step - loss: 1.9560 - accuracy: 0.3019 - val_loss: 1.9701 - val_accuracy: 0.2933\n",
      "Epoch 10/1000\n",
      "70/70 [==============================] - 0s 1ms/step - loss: 1.8913 - accuracy: 0.3183 - val_loss: 1.9489 - val_accuracy: 0.2867\n",
      "Epoch 11/1000\n",
      "70/70 [==============================] - 0s 1ms/step - loss: 1.9223 - accuracy: 0.3131 - val_loss: 1.9218 - val_accuracy: 0.2933\n",
      "Epoch 12/1000\n",
      "70/70 [==============================] - 0s 1ms/step - loss: 1.8481 - accuracy: 0.3423 - val_loss: 1.9014 - val_accuracy: 0.3033\n",
      "Epoch 13/1000\n",
      "70/70 [==============================] - 0s 1ms/step - loss: 1.8607 - accuracy: 0.3242 - val_loss: 1.8917 - val_accuracy: 0.2933\n",
      "Epoch 14/1000\n",
      "70/70 [==============================] - 0s 1ms/step - loss: 1.8704 - accuracy: 0.3070 - val_loss: 1.8711 - val_accuracy: 0.3000\n",
      "Epoch 15/1000\n",
      "70/70 [==============================] - 0s 1ms/step - loss: 1.8032 - accuracy: 0.3423 - val_loss: 1.8569 - val_accuracy: 0.3033\n",
      "Epoch 16/1000\n",
      "70/70 [==============================] - 0s 1ms/step - loss: 1.7997 - accuracy: 0.3347 - val_loss: 1.8492 - val_accuracy: 0.3067\n",
      "Epoch 17/1000\n",
      "70/70 [==============================] - 0s 1ms/step - loss: 1.7562 - accuracy: 0.3495 - val_loss: 1.8141 - val_accuracy: 0.3167\n",
      "Epoch 18/1000\n",
      "70/70 [==============================] - 0s 1ms/step - loss: 1.7103 - accuracy: 0.3800 - val_loss: 1.8059 - val_accuracy: 0.3033\n",
      "Epoch 19/1000\n",
      "70/70 [==============================] - 0s 1ms/step - loss: 1.7484 - accuracy: 0.3539 - val_loss: 1.7977 - val_accuracy: 0.3200\n",
      "Epoch 20/1000\n",
      "70/70 [==============================] - 0s 1ms/step - loss: 1.7142 - accuracy: 0.3855 - val_loss: 1.7713 - val_accuracy: 0.3133\n",
      "Epoch 21/1000\n",
      "70/70 [==============================] - 0s 1ms/step - loss: 1.6612 - accuracy: 0.4052 - val_loss: 1.7616 - val_accuracy: 0.3200\n",
      "Epoch 22/1000\n",
      "70/70 [==============================] - 0s 1ms/step - loss: 1.6393 - accuracy: 0.4234 - val_loss: 1.7474 - val_accuracy: 0.3267\n",
      "Epoch 23/1000\n",
      "70/70 [==============================] - 0s 1ms/step - loss: 1.6631 - accuracy: 0.4003 - val_loss: 1.7344 - val_accuracy: 0.3267\n",
      "Epoch 24/1000\n",
      "70/70 [==============================] - 0s 1ms/step - loss: 1.6145 - accuracy: 0.4231 - val_loss: 1.7280 - val_accuracy: 0.3333\n",
      "Epoch 25/1000\n",
      "70/70 [==============================] - 0s 1ms/step - loss: 1.6426 - accuracy: 0.3938 - val_loss: 1.7259 - val_accuracy: 0.3267\n",
      "Epoch 26/1000\n",
      "70/70 [==============================] - 0s 1ms/step - loss: 1.6395 - accuracy: 0.3748 - val_loss: 1.7057 - val_accuracy: 0.3400\n",
      "Epoch 27/1000\n",
      "70/70 [==============================] - 0s 1ms/step - loss: 1.6031 - accuracy: 0.4137 - val_loss: 1.6959 - val_accuracy: 0.3567\n",
      "Epoch 28/1000\n",
      "70/70 [==============================] - 0s 1ms/step - loss: 1.6123 - accuracy: 0.4026 - val_loss: 1.6824 - val_accuracy: 0.3633\n",
      "Epoch 29/1000\n",
      "70/70 [==============================] - 0s 1ms/step - loss: 1.5767 - accuracy: 0.4240 - val_loss: 1.6718 - val_accuracy: 0.3633\n",
      "Epoch 30/1000\n",
      "70/70 [==============================] - 0s 1ms/step - loss: 1.5903 - accuracy: 0.4285 - val_loss: 1.6734 - val_accuracy: 0.3700\n",
      "Epoch 31/1000\n",
      "70/70 [==============================] - 0s 1ms/step - loss: 1.5771 - accuracy: 0.4174 - val_loss: 1.6528 - val_accuracy: 0.3733\n",
      "Epoch 32/1000\n",
      "70/70 [==============================] - 0s 1ms/step - loss: 1.5585 - accuracy: 0.4454 - val_loss: 1.6534 - val_accuracy: 0.3833\n",
      "Epoch 33/1000\n",
      "70/70 [==============================] - 0s 1ms/step - loss: 1.5539 - accuracy: 0.4729 - val_loss: 1.6414 - val_accuracy: 0.3800\n",
      "Epoch 34/1000\n",
      "70/70 [==============================] - 0s 1ms/step - loss: 1.5482 - accuracy: 0.4439 - val_loss: 1.6449 - val_accuracy: 0.3633\n",
      "Epoch 35/1000\n",
      "70/70 [==============================] - 0s 1ms/step - loss: 1.5684 - accuracy: 0.4328 - val_loss: 1.6270 - val_accuracy: 0.3800\n",
      "Epoch 36/1000\n",
      "70/70 [==============================] - 0s 1ms/step - loss: 1.5119 - accuracy: 0.4440 - val_loss: 1.6168 - val_accuracy: 0.4067\n",
      "Epoch 37/1000\n",
      "70/70 [==============================] - ETA: 0s - loss: 1.6683 - accuracy: 0.40 - 0s 1ms/step - loss: 1.5259 - accuracy: 0.4456 - val_loss: 1.6160 - val_accuracy: 0.4000\n",
      "Epoch 38/1000\n",
      "70/70 [==============================] - 0s 1ms/step - loss: 1.5107 - accuracy: 0.4190 - val_loss: 1.6133 - val_accuracy: 0.3867\n",
      "Epoch 39/1000\n",
      "70/70 [==============================] - 0s 1ms/step - loss: 1.4729 - accuracy: 0.4617 - val_loss: 1.6055 - val_accuracy: 0.4133\n",
      "Epoch 40/1000\n",
      "70/70 [==============================] - 0s 1ms/step - loss: 1.4787 - accuracy: 0.4332 - val_loss: 1.5924 - val_accuracy: 0.4067\n",
      "Epoch 41/1000\n",
      "70/70 [==============================] - 0s 1ms/step - loss: 1.4712 - accuracy: 0.4690 - val_loss: 1.5980 - val_accuracy: 0.4067\n",
      "Epoch 42/1000\n",
      "70/70 [==============================] - 0s 1ms/step - loss: 1.4767 - accuracy: 0.4389 - val_loss: 1.5870 - val_accuracy: 0.4067\n",
      "Epoch 43/1000\n",
      "70/70 [==============================] - 0s 1ms/step - loss: 1.4170 - accuracy: 0.4684 - val_loss: 1.5829 - val_accuracy: 0.4033\n",
      "Epoch 44/1000\n",
      "70/70 [==============================] - 0s 1ms/step - loss: 1.4451 - accuracy: 0.4493 - val_loss: 1.5740 - val_accuracy: 0.4100\n",
      "Epoch 45/1000\n",
      "70/70 [==============================] - 0s 1ms/step - loss: 1.4195 - accuracy: 0.4567 - val_loss: 1.5708 - val_accuracy: 0.4067\n",
      "Epoch 46/1000\n",
      "70/70 [==============================] - 0s 1ms/step - loss: 1.4156 - accuracy: 0.4730 - val_loss: 1.5739 - val_accuracy: 0.4100\n",
      "Epoch 47/1000\n",
      "70/70 [==============================] - 0s 1ms/step - loss: 1.4417 - accuracy: 0.4811 - val_loss: 1.5644 - val_accuracy: 0.3967\n",
      "Epoch 48/1000\n",
      "70/70 [==============================] - 0s 1ms/step - loss: 1.4334 - accuracy: 0.4302 - val_loss: 1.5609 - val_accuracy: 0.4133\n",
      "Epoch 49/1000\n",
      "70/70 [==============================] - 0s 1ms/step - loss: 1.4256 - accuracy: 0.4569 - val_loss: 1.5578 - val_accuracy: 0.4100\n",
      "Epoch 50/1000\n",
      "70/70 [==============================] - 0s 1ms/step - loss: 1.4162 - accuracy: 0.4452 - val_loss: 1.5506 - val_accuracy: 0.4100\n",
      "Epoch 51/1000\n",
      "70/70 [==============================] - 0s 1ms/step - loss: 1.3549 - accuracy: 0.4689 - val_loss: 1.5477 - val_accuracy: 0.4200\n",
      "Epoch 52/1000\n",
      "70/70 [==============================] - 0s 1ms/step - loss: 1.4070 - accuracy: 0.4462 - val_loss: 1.5458 - val_accuracy: 0.4067\n",
      "Epoch 53/1000\n",
      "70/70 [==============================] - 0s 1ms/step - loss: 1.3986 - accuracy: 0.4407 - val_loss: 1.5490 - val_accuracy: 0.4000\n",
      "Epoch 54/1000\n",
      "70/70 [==============================] - 0s 1ms/step - loss: 1.3509 - accuracy: 0.4867 - val_loss: 1.5440 - val_accuracy: 0.4133\n",
      "Epoch 55/1000\n",
      "70/70 [==============================] - 0s 1ms/step - loss: 1.3587 - accuracy: 0.4417 - val_loss: 1.5365 - val_accuracy: 0.4100\n",
      "Epoch 56/1000\n",
      "70/70 [==============================] - 0s 1ms/step - loss: 1.3482 - accuracy: 0.4772 - val_loss: 1.5400 - val_accuracy: 0.4100\n",
      "Epoch 57/1000\n",
      "70/70 [==============================] - 0s 1ms/step - loss: 1.3524 - accuracy: 0.4717 - val_loss: 1.5388 - val_accuracy: 0.4100\n",
      "Epoch 58/1000\n"
     ]
    },
    {
     "name": "stdout",
     "output_type": "stream",
     "text": [
      "70/70 [==============================] - 0s 1ms/step - loss: 1.3293 - accuracy: 0.5024 - val_loss: 1.5337 - val_accuracy: 0.4167\n",
      "Epoch 59/1000\n",
      "70/70 [==============================] - 0s 1ms/step - loss: 1.3747 - accuracy: 0.4562 - val_loss: 1.5364 - val_accuracy: 0.4133\n",
      "Epoch 60/1000\n",
      "70/70 [==============================] - 0s 1ms/step - loss: 1.3641 - accuracy: 0.4715 - val_loss: 1.5354 - val_accuracy: 0.4300\n",
      "Epoch 61/1000\n",
      "70/70 [==============================] - 0s 1ms/step - loss: 1.3416 - accuracy: 0.4864 - val_loss: 1.5251 - val_accuracy: 0.4233\n",
      "Epoch 62/1000\n",
      "70/70 [==============================] - 0s 1ms/step - loss: 1.2607 - accuracy: 0.5208 - val_loss: 1.5262 - val_accuracy: 0.4267\n",
      "Epoch 63/1000\n",
      "70/70 [==============================] - 0s 1ms/step - loss: 1.3049 - accuracy: 0.5004 - val_loss: 1.5534 - val_accuracy: 0.4133\n",
      "Epoch 64/1000\n",
      "70/70 [==============================] - 0s 1ms/step - loss: 1.2839 - accuracy: 0.5131 - val_loss: 1.5276 - val_accuracy: 0.4433\n",
      "Epoch 65/1000\n",
      "70/70 [==============================] - 0s 1ms/step - loss: 1.2949 - accuracy: 0.5282 - val_loss: 1.5203 - val_accuracy: 0.4367\n",
      "Epoch 66/1000\n",
      "70/70 [==============================] - 0s 1ms/step - loss: 1.3061 - accuracy: 0.5083 - val_loss: 1.5183 - val_accuracy: 0.4367\n",
      "Epoch 67/1000\n",
      "70/70 [==============================] - 0s 1ms/step - loss: 1.2429 - accuracy: 0.5394 - val_loss: 1.5273 - val_accuracy: 0.4433\n",
      "Epoch 68/1000\n",
      "70/70 [==============================] - 0s 1ms/step - loss: 1.3357 - accuracy: 0.4626 - val_loss: 1.5231 - val_accuracy: 0.4333\n",
      "Epoch 69/1000\n",
      "70/70 [==============================] - 0s 1ms/step - loss: 1.2703 - accuracy: 0.5097 - val_loss: 1.5148 - val_accuracy: 0.4433\n",
      "Epoch 70/1000\n",
      "70/70 [==============================] - 0s 1ms/step - loss: 1.3179 - accuracy: 0.4819 - val_loss: 1.5099 - val_accuracy: 0.4533\n",
      "Epoch 71/1000\n",
      "70/70 [==============================] - 0s 1ms/step - loss: 1.3251 - accuracy: 0.4741 - val_loss: 1.5201 - val_accuracy: 0.4400\n",
      "Epoch 72/1000\n",
      "70/70 [==============================] - 0s 1ms/step - loss: 1.2978 - accuracy: 0.4941 - val_loss: 1.5268 - val_accuracy: 0.4433\n",
      "Epoch 73/1000\n",
      "70/70 [==============================] - 0s 1ms/step - loss: 1.3497 - accuracy: 0.5058 - val_loss: 1.5109 - val_accuracy: 0.4500\n",
      "Epoch 74/1000\n",
      "70/70 [==============================] - 0s 1ms/step - loss: 1.2473 - accuracy: 0.5416 - val_loss: 1.5134 - val_accuracy: 0.4533\n",
      "Epoch 75/1000\n",
      "70/70 [==============================] - 0s 1ms/step - loss: 1.2734 - accuracy: 0.5197 - val_loss: 1.5136 - val_accuracy: 0.4633\n",
      "Epoch 76/1000\n",
      "70/70 [==============================] - 0s 1ms/step - loss: 1.2788 - accuracy: 0.5434 - val_loss: 1.5143 - val_accuracy: 0.4600\n",
      "Epoch 77/1000\n",
      "70/70 [==============================] - 0s 1ms/step - loss: 1.2299 - accuracy: 0.5620 - val_loss: 1.4986 - val_accuracy: 0.4767\n",
      "Epoch 78/1000\n",
      "70/70 [==============================] - 0s 1ms/step - loss: 1.2270 - accuracy: 0.5528 - val_loss: 1.5058 - val_accuracy: 0.4733\n",
      "Epoch 79/1000\n",
      "70/70 [==============================] - 0s 1ms/step - loss: 1.2592 - accuracy: 0.5056 - val_loss: 1.5022 - val_accuracy: 0.4800\n",
      "Epoch 80/1000\n",
      "70/70 [==============================] - 0s 1ms/step - loss: 1.2313 - accuracy: 0.5573 - val_loss: 1.4951 - val_accuracy: 0.4800\n",
      "Epoch 81/1000\n",
      "70/70 [==============================] - 0s 1ms/step - loss: 1.2446 - accuracy: 0.5205 - val_loss: 1.5140 - val_accuracy: 0.4700\n",
      "Epoch 82/1000\n",
      "70/70 [==============================] - 0s 1ms/step - loss: 1.2133 - accuracy: 0.5398 - val_loss: 1.5022 - val_accuracy: 0.4800\n",
      "Epoch 83/1000\n",
      "70/70 [==============================] - 0s 1ms/step - loss: 1.2267 - accuracy: 0.5535 - val_loss: 1.4980 - val_accuracy: 0.4900\n",
      "Epoch 84/1000\n",
      "70/70 [==============================] - 0s 1ms/step - loss: 1.2079 - accuracy: 0.5457 - val_loss: 1.4974 - val_accuracy: 0.4800\n",
      "Epoch 85/1000\n",
      "70/70 [==============================] - 0s 1ms/step - loss: 1.2336 - accuracy: 0.5657 - val_loss: 1.4933 - val_accuracy: 0.4833\n",
      "Epoch 86/1000\n",
      "70/70 [==============================] - 0s 1ms/step - loss: 1.2030 - accuracy: 0.5462 - val_loss: 1.4916 - val_accuracy: 0.4867\n",
      "Epoch 87/1000\n",
      "70/70 [==============================] - 0s 1ms/step - loss: 1.2028 - accuracy: 0.5565 - val_loss: 1.4867 - val_accuracy: 0.5100\n",
      "Epoch 88/1000\n",
      "70/70 [==============================] - 0s 1ms/step - loss: 1.2098 - accuracy: 0.5608 - val_loss: 1.4883 - val_accuracy: 0.5000\n",
      "Epoch 89/1000\n",
      "70/70 [==============================] - 0s 1ms/step - loss: 1.1773 - accuracy: 0.5708 - val_loss: 1.4868 - val_accuracy: 0.5000\n",
      "Epoch 90/1000\n",
      "70/70 [==============================] - 0s 1ms/step - loss: 1.1776 - accuracy: 0.6034 - val_loss: 1.4833 - val_accuracy: 0.5067\n",
      "Epoch 91/1000\n",
      "70/70 [==============================] - 0s 1ms/step - loss: 1.1880 - accuracy: 0.5763 - val_loss: 1.4843 - val_accuracy: 0.5100\n",
      "Epoch 92/1000\n",
      "70/70 [==============================] - 0s 1ms/step - loss: 1.1859 - accuracy: 0.5771 - val_loss: 1.4937 - val_accuracy: 0.5000\n",
      "Epoch 93/1000\n",
      "70/70 [==============================] - 0s 1ms/step - loss: 1.1601 - accuracy: 0.5788 - val_loss: 1.4732 - val_accuracy: 0.5133\n",
      "Epoch 94/1000\n",
      "70/70 [==============================] - 0s 1ms/step - loss: 1.1590 - accuracy: 0.6070 - val_loss: 1.4885 - val_accuracy: 0.5000\n",
      "Epoch 95/1000\n",
      "70/70 [==============================] - 0s 1ms/step - loss: 1.1422 - accuracy: 0.6072 - val_loss: 1.4820 - val_accuracy: 0.5167\n",
      "Epoch 96/1000\n",
      "70/70 [==============================] - 0s 1ms/step - loss: 1.1777 - accuracy: 0.5862 - val_loss: 1.4837 - val_accuracy: 0.5100\n",
      "Epoch 97/1000\n",
      "70/70 [==============================] - 0s 1ms/step - loss: 1.1356 - accuracy: 0.5920 - val_loss: 1.4779 - val_accuracy: 0.5100\n",
      "Epoch 98/1000\n",
      "70/70 [==============================] - 0s 1ms/step - loss: 1.1903 - accuracy: 0.5702 - val_loss: 1.4777 - val_accuracy: 0.5167\n",
      "Epoch 99/1000\n",
      "70/70 [==============================] - 0s 1ms/step - loss: 1.1540 - accuracy: 0.5731 - val_loss: 1.4834 - val_accuracy: 0.5133\n",
      "Epoch 100/1000\n",
      "70/70 [==============================] - 0s 1ms/step - loss: 1.2059 - accuracy: 0.5418 - val_loss: 1.4766 - val_accuracy: 0.5167\n",
      "Epoch 101/1000\n",
      "70/70 [==============================] - 0s 1ms/step - loss: 1.1415 - accuracy: 0.5914 - val_loss: 1.4794 - val_accuracy: 0.5100\n",
      "Epoch 102/1000\n",
      "70/70 [==============================] - 0s 1ms/step - loss: 1.1454 - accuracy: 0.5684 - val_loss: 1.4760 - val_accuracy: 0.5233\n",
      "Epoch 103/1000\n",
      "70/70 [==============================] - 0s 1ms/step - loss: 1.1561 - accuracy: 0.5844 - val_loss: 1.4821 - val_accuracy: 0.5100\n",
      "Epoch 104/1000\n",
      "70/70 [==============================] - 0s 1ms/step - loss: 1.1368 - accuracy: 0.5853 - val_loss: 1.4762 - val_accuracy: 0.5133\n",
      "Epoch 105/1000\n",
      "70/70 [==============================] - 0s 1ms/step - loss: 1.1349 - accuracy: 0.5679 - val_loss: 1.4855 - val_accuracy: 0.5167\n",
      "Epoch 106/1000\n",
      "70/70 [==============================] - 0s 1ms/step - loss: 1.1447 - accuracy: 0.5837 - val_loss: 1.4843 - val_accuracy: 0.5200\n",
      "Epoch 107/1000\n",
      "70/70 [==============================] - 0s 1ms/step - loss: 1.1718 - accuracy: 0.5880 - val_loss: 1.4752 - val_accuracy: 0.5200\n",
      "Epoch 108/1000\n",
      "70/70 [==============================] - 0s 1ms/step - loss: 1.0947 - accuracy: 0.6058 - val_loss: 1.4753 - val_accuracy: 0.5200\n",
      "Epoch 109/1000\n",
      "70/70 [==============================] - 0s 1ms/step - loss: 1.1195 - accuracy: 0.5775 - val_loss: 1.4690 - val_accuracy: 0.5200\n",
      "Epoch 110/1000\n",
      "70/70 [==============================] - 0s 1ms/step - loss: 1.1227 - accuracy: 0.6083 - val_loss: 1.4705 - val_accuracy: 0.5133\n",
      "Epoch 111/1000\n",
      "70/70 [==============================] - 0s 1ms/step - loss: 1.1308 - accuracy: 0.5827 - val_loss: 1.4808 - val_accuracy: 0.5200\n",
      "Epoch 112/1000\n",
      "70/70 [==============================] - 0s 1ms/step - loss: 1.1083 - accuracy: 0.5963 - val_loss: 1.4915 - val_accuracy: 0.5233\n",
      "Epoch 113/1000\n",
      "70/70 [==============================] - 0s 1ms/step - loss: 1.1169 - accuracy: 0.5977 - val_loss: 1.4900 - val_accuracy: 0.5233\n",
      "Epoch 114/1000\n",
      "70/70 [==============================] - 0s 1ms/step - loss: 1.1357 - accuracy: 0.5991 - val_loss: 1.4893 - val_accuracy: 0.5133\n",
      "Epoch 115/1000\n"
     ]
    },
    {
     "name": "stdout",
     "output_type": "stream",
     "text": [
      "70/70 [==============================] - 0s 1ms/step - loss: 1.1194 - accuracy: 0.5734 - val_loss: 1.4817 - val_accuracy: 0.5167\n",
      "Epoch 116/1000\n",
      "70/70 [==============================] - 0s 1ms/step - loss: 1.0909 - accuracy: 0.6029 - val_loss: 1.4820 - val_accuracy: 0.5100\n",
      "Epoch 117/1000\n",
      "70/70 [==============================] - 0s 1ms/step - loss: 1.0641 - accuracy: 0.5943 - val_loss: 1.4816 - val_accuracy: 0.5167\n",
      "Epoch 118/1000\n",
      "70/70 [==============================] - 0s 1ms/step - loss: 1.0897 - accuracy: 0.6062 - val_loss: 1.4813 - val_accuracy: 0.5167\n",
      "Epoch 119/1000\n",
      "70/70 [==============================] - 0s 1ms/step - loss: 1.0885 - accuracy: 0.6157 - val_loss: 1.4788 - val_accuracy: 0.5200\n",
      "Epoch 120/1000\n",
      "70/70 [==============================] - 0s 1ms/step - loss: 1.1264 - accuracy: 0.6033 - val_loss: 1.4865 - val_accuracy: 0.5133\n",
      "Epoch 121/1000\n",
      "70/70 [==============================] - 0s 1ms/step - loss: 1.0764 - accuracy: 0.6158 - val_loss: 1.4846 - val_accuracy: 0.5200\n",
      "Epoch 122/1000\n",
      "70/70 [==============================] - 0s 1ms/step - loss: 1.1127 - accuracy: 0.6152 - val_loss: 1.5036 - val_accuracy: 0.5100\n",
      "Epoch 123/1000\n",
      "70/70 [==============================] - 0s 1ms/step - loss: 1.1044 - accuracy: 0.6185 - val_loss: 1.4980 - val_accuracy: 0.5200\n",
      "Epoch 124/1000\n",
      "70/70 [==============================] - 0s 1ms/step - loss: 1.0737 - accuracy: 0.5902 - val_loss: 1.4912 - val_accuracy: 0.5200\n",
      "Epoch 125/1000\n",
      "70/70 [==============================] - 0s 1ms/step - loss: 1.0999 - accuracy: 0.6118 - val_loss: 1.4986 - val_accuracy: 0.5200\n",
      "Epoch 126/1000\n",
      "70/70 [==============================] - 0s 1ms/step - loss: 1.1079 - accuracy: 0.6056 - val_loss: 1.4984 - val_accuracy: 0.5233\n",
      "Epoch 127/1000\n",
      "70/70 [==============================] - 0s 1ms/step - loss: 1.0681 - accuracy: 0.6284 - val_loss: 1.4843 - val_accuracy: 0.5100\n",
      "Epoch 128/1000\n",
      "70/70 [==============================] - 0s 1ms/step - loss: 1.0887 - accuracy: 0.6300 - val_loss: 1.4820 - val_accuracy: 0.5267\n",
      "Epoch 129/1000\n",
      "70/70 [==============================] - 0s 1ms/step - loss: 1.1046 - accuracy: 0.5834 - val_loss: 1.5056 - val_accuracy: 0.5200\n",
      "Epoch 130/1000\n",
      "70/70 [==============================] - 0s 1ms/step - loss: 1.0863 - accuracy: 0.6193 - val_loss: 1.4956 - val_accuracy: 0.5233\n",
      "Epoch 131/1000\n",
      "70/70 [==============================] - 0s 1ms/step - loss: 1.0424 - accuracy: 0.6332 - val_loss: 1.4993 - val_accuracy: 0.5233\n",
      "Epoch 132/1000\n",
      "70/70 [==============================] - 0s 1ms/step - loss: 1.0510 - accuracy: 0.6346 - val_loss: 1.5232 - val_accuracy: 0.5167\n",
      "Epoch 133/1000\n",
      "70/70 [==============================] - 0s 1ms/step - loss: 1.0566 - accuracy: 0.6043 - val_loss: 1.5042 - val_accuracy: 0.5267\n",
      "Epoch 134/1000\n",
      "70/70 [==============================] - 0s 1ms/step - loss: 1.0545 - accuracy: 0.6282 - val_loss: 1.4990 - val_accuracy: 0.5233\n",
      "Epoch 135/1000\n",
      "70/70 [==============================] - 0s 1ms/step - loss: 1.0504 - accuracy: 0.6187 - val_loss: 1.5049 - val_accuracy: 0.5233\n",
      "Epoch 136/1000\n",
      "70/70 [==============================] - 0s 1ms/step - loss: 1.0185 - accuracy: 0.6610 - val_loss: 1.5062 - val_accuracy: 0.5167\n",
      "Epoch 137/1000\n",
      "70/70 [==============================] - 0s 1ms/step - loss: 0.9934 - accuracy: 0.6714 - val_loss: 1.4971 - val_accuracy: 0.4900\n",
      "Epoch 138/1000\n",
      "70/70 [==============================] - 0s 1ms/step - loss: 1.0375 - accuracy: 0.6386 - val_loss: 1.5056 - val_accuracy: 0.5167\n",
      "Epoch 139/1000\n",
      "70/70 [==============================] - 0s 1ms/step - loss: 1.0291 - accuracy: 0.6294 - val_loss: 1.5039 - val_accuracy: 0.5133\n",
      "Epoch 140/1000\n",
      "70/70 [==============================] - 0s 1ms/step - loss: 1.0477 - accuracy: 0.6034 - val_loss: 1.5124 - val_accuracy: 0.5233\n",
      "Epoch 141/1000\n",
      "70/70 [==============================] - 0s 1ms/step - loss: 1.0134 - accuracy: 0.6557 - val_loss: 1.5115 - val_accuracy: 0.5233\n",
      "Epoch 142/1000\n",
      "70/70 [==============================] - 0s 1ms/step - loss: 1.0482 - accuracy: 0.6094 - val_loss: 1.5216 - val_accuracy: 0.5133\n",
      "Epoch 143/1000\n",
      "70/70 [==============================] - 0s 1ms/step - loss: 1.0289 - accuracy: 0.6355 - val_loss: 1.5334 - val_accuracy: 0.4933\n",
      "Epoch 144/1000\n",
      "70/70 [==============================] - 0s 1ms/step - loss: 1.0430 - accuracy: 0.6132 - val_loss: 1.5198 - val_accuracy: 0.4967\n",
      "Epoch 145/1000\n",
      "70/70 [==============================] - 0s 1ms/step - loss: 1.0542 - accuracy: 0.6357 - val_loss: 1.5191 - val_accuracy: 0.5067\n",
      "Epoch 146/1000\n",
      "70/70 [==============================] - 0s 1ms/step - loss: 1.0355 - accuracy: 0.6205 - val_loss: 1.5175 - val_accuracy: 0.4867\n",
      "Epoch 147/1000\n",
      "70/70 [==============================] - 0s 1ms/step - loss: 1.0568 - accuracy: 0.6176 - val_loss: 1.5206 - val_accuracy: 0.5200\n",
      "Epoch 148/1000\n",
      "70/70 [==============================] - 0s 1ms/step - loss: 1.0724 - accuracy: 0.5933 - val_loss: 1.5288 - val_accuracy: 0.5200\n",
      "Epoch 149/1000\n",
      "70/70 [==============================] - 0s 1ms/step - loss: 1.0231 - accuracy: 0.6362 - val_loss: 1.5108 - val_accuracy: 0.5133\n",
      "Epoch 150/1000\n",
      "70/70 [==============================] - 0s 1ms/step - loss: 0.9947 - accuracy: 0.6670 - val_loss: 1.5107 - val_accuracy: 0.5100\n",
      "Epoch 151/1000\n",
      "70/70 [==============================] - 0s 1ms/step - loss: 0.9867 - accuracy: 0.6793 - val_loss: 1.5280 - val_accuracy: 0.5200\n",
      "Epoch 152/1000\n",
      "70/70 [==============================] - 0s 1ms/step - loss: 1.0266 - accuracy: 0.6297 - val_loss: 1.5268 - val_accuracy: 0.5000\n",
      "Epoch 153/1000\n",
      "70/70 [==============================] - 0s 1ms/step - loss: 1.0149 - accuracy: 0.6036 - val_loss: 1.5308 - val_accuracy: 0.5167\n",
      "Epoch 154/1000\n",
      "70/70 [==============================] - 0s 1ms/step - loss: 0.9929 - accuracy: 0.6389 - val_loss: 1.5281 - val_accuracy: 0.4967\n",
      "Epoch 155/1000\n",
      "70/70 [==============================] - 0s 1ms/step - loss: 1.0258 - accuracy: 0.6357 - val_loss: 1.5302 - val_accuracy: 0.5000\n",
      "Epoch 156/1000\n",
      "70/70 [==============================] - 0s 1ms/step - loss: 1.0501 - accuracy: 0.6214 - val_loss: 1.5477 - val_accuracy: 0.5033\n",
      "Epoch 157/1000\n",
      "70/70 [==============================] - 0s 1ms/step - loss: 0.9908 - accuracy: 0.6487 - val_loss: 1.5232 - val_accuracy: 0.5067\n",
      "Epoch 158/1000\n",
      "70/70 [==============================] - 0s 1ms/step - loss: 1.0320 - accuracy: 0.6361 - val_loss: 1.5204 - val_accuracy: 0.5033\n",
      "Epoch 159/1000\n",
      "70/70 [==============================] - 0s 1ms/step - loss: 0.9943 - accuracy: 0.6408 - val_loss: 1.5403 - val_accuracy: 0.5000\n",
      "Epoch 160/1000\n",
      "70/70 [==============================] - 0s 1ms/step - loss: 1.0061 - accuracy: 0.6383 - val_loss: 1.5413 - val_accuracy: 0.4967\n",
      "Epoch 161/1000\n",
      "70/70 [==============================] - 0s 1ms/step - loss: 1.0381 - accuracy: 0.6002 - val_loss: 1.5290 - val_accuracy: 0.5100\n",
      "Epoch 162/1000\n",
      "70/70 [==============================] - 0s 1ms/step - loss: 0.9876 - accuracy: 0.6454 - val_loss: 1.5435 - val_accuracy: 0.5067\n",
      "Epoch 163/1000\n",
      "70/70 [==============================] - 0s 1ms/step - loss: 1.0116 - accuracy: 0.6311 - val_loss: 1.5488 - val_accuracy: 0.5000\n",
      "Epoch 164/1000\n",
      "70/70 [==============================] - 0s 1ms/step - loss: 1.0548 - accuracy: 0.6046 - val_loss: 1.5598 - val_accuracy: 0.5000\n",
      "Epoch 165/1000\n",
      "70/70 [==============================] - 0s 1ms/step - loss: 1.0226 - accuracy: 0.6264 - val_loss: 1.5403 - val_accuracy: 0.5033\n",
      "Epoch 166/1000\n",
      "70/70 [==============================] - 0s 1ms/step - loss: 1.0016 - accuracy: 0.6470 - val_loss: 1.5553 - val_accuracy: 0.5133\n",
      "Epoch 167/1000\n",
      "70/70 [==============================] - 0s 1ms/step - loss: 1.0394 - accuracy: 0.6061 - val_loss: 1.5337 - val_accuracy: 0.5167\n",
      "Epoch 168/1000\n",
      "70/70 [==============================] - 0s 1ms/step - loss: 1.0069 - accuracy: 0.6477 - val_loss: 1.5521 - val_accuracy: 0.4933\n",
      "Epoch 169/1000\n",
      "70/70 [==============================] - 0s 1ms/step - loss: 1.0051 - accuracy: 0.6542 - val_loss: 1.5379 - val_accuracy: 0.5167\n",
      "Epoch 170/1000\n",
      "70/70 [==============================] - 0s 1ms/step - loss: 0.9575 - accuracy: 0.6714 - val_loss: 1.5410 - val_accuracy: 0.5033\n",
      "Epoch 171/1000\n",
      "70/70 [==============================] - 0s 1ms/step - loss: 1.0077 - accuracy: 0.6422 - val_loss: 1.5567 - val_accuracy: 0.5000\n"
     ]
    },
    {
     "name": "stdout",
     "output_type": "stream",
     "text": [
      "Epoch 172/1000\n",
      "70/70 [==============================] - 0s 1ms/step - loss: 1.0155 - accuracy: 0.6419 - val_loss: 1.5488 - val_accuracy: 0.4933\n",
      "Epoch 173/1000\n",
      "70/70 [==============================] - 0s 1ms/step - loss: 1.0324 - accuracy: 0.6339 - val_loss: 1.5595 - val_accuracy: 0.5033\n",
      "Epoch 174/1000\n",
      "70/70 [==============================] - 0s 1ms/step - loss: 0.9474 - accuracy: 0.6494 - val_loss: 1.5509 - val_accuracy: 0.5067\n",
      "Epoch 175/1000\n",
      "70/70 [==============================] - 0s 1ms/step - loss: 0.9785 - accuracy: 0.6520 - val_loss: 1.5671 - val_accuracy: 0.4967\n",
      "Epoch 176/1000\n",
      "70/70 [==============================] - 0s 1ms/step - loss: 0.9931 - accuracy: 0.6373 - val_loss: 1.5582 - val_accuracy: 0.5000\n",
      "Epoch 177/1000\n",
      "70/70 [==============================] - 0s 1ms/step - loss: 1.0335 - accuracy: 0.5948 - val_loss: 1.5775 - val_accuracy: 0.5000\n",
      "Epoch 178/1000\n",
      "70/70 [==============================] - 0s 1ms/step - loss: 0.9641 - accuracy: 0.6494 - val_loss: 1.5890 - val_accuracy: 0.5033\n",
      "Epoch 179/1000\n",
      "70/70 [==============================] - 0s 1ms/step - loss: 1.0346 - accuracy: 0.6290 - val_loss: 1.5725 - val_accuracy: 0.5000\n",
      "Epoch 180/1000\n",
      "70/70 [==============================] - 0s 1ms/step - loss: 0.9686 - accuracy: 0.6729 - val_loss: 1.5687 - val_accuracy: 0.4933\n",
      "Epoch 181/1000\n",
      "70/70 [==============================] - 0s 1ms/step - loss: 0.9970 - accuracy: 0.6433 - val_loss: 1.5617 - val_accuracy: 0.5000\n",
      "Epoch 182/1000\n",
      "70/70 [==============================] - 0s 1ms/step - loss: 0.9687 - accuracy: 0.6583 - val_loss: 1.5776 - val_accuracy: 0.4967\n",
      "Epoch 183/1000\n",
      "70/70 [==============================] - 0s 1ms/step - loss: 0.9834 - accuracy: 0.6513 - val_loss: 1.5790 - val_accuracy: 0.5000\n",
      "Epoch 184/1000\n",
      "70/70 [==============================] - 0s 1ms/step - loss: 0.9678 - accuracy: 0.6564 - val_loss: 1.5686 - val_accuracy: 0.5000\n",
      "Epoch 185/1000\n",
      "70/70 [==============================] - 0s 1ms/step - loss: 0.9625 - accuracy: 0.6278 - val_loss: 1.5912 - val_accuracy: 0.5000\n",
      "Epoch 186/1000\n",
      "70/70 [==============================] - 0s 1ms/step - loss: 1.0020 - accuracy: 0.6227 - val_loss: 1.5818 - val_accuracy: 0.5000\n",
      "Epoch 187/1000\n",
      "70/70 [==============================] - 0s 1ms/step - loss: 0.9514 - accuracy: 0.6598 - val_loss: 1.5859 - val_accuracy: 0.5033\n",
      "Epoch 188/1000\n",
      "70/70 [==============================] - 0s 1ms/step - loss: 0.9168 - accuracy: 0.6776 - val_loss: 1.5732 - val_accuracy: 0.5033\n",
      "Epoch 189/1000\n",
      "70/70 [==============================] - 0s 1ms/step - loss: 1.0168 - accuracy: 0.6217 - val_loss: 1.5946 - val_accuracy: 0.4900\n",
      "Epoch 190/1000\n",
      "70/70 [==============================] - 0s 1ms/step - loss: 0.9830 - accuracy: 0.6341 - val_loss: 1.5797 - val_accuracy: 0.4933\n",
      "Epoch 191/1000\n",
      "70/70 [==============================] - 0s 1ms/step - loss: 0.9536 - accuracy: 0.6684 - val_loss: 1.5907 - val_accuracy: 0.5033\n",
      "Epoch 192/1000\n",
      "70/70 [==============================] - 0s 1ms/step - loss: 0.9516 - accuracy: 0.6277 - val_loss: 1.5860 - val_accuracy: 0.5000\n",
      "Epoch 193/1000\n",
      "70/70 [==============================] - 0s 1ms/step - loss: 0.9672 - accuracy: 0.6552 - val_loss: 1.5830 - val_accuracy: 0.5033\n",
      "Epoch 194/1000\n",
      "70/70 [==============================] - 0s 1ms/step - loss: 0.9159 - accuracy: 0.6887 - val_loss: 1.5777 - val_accuracy: 0.5100\n",
      "Epoch 195/1000\n",
      "70/70 [==============================] - 0s 1ms/step - loss: 0.9674 - accuracy: 0.6351 - val_loss: 1.5791 - val_accuracy: 0.5133\n",
      "Epoch 196/1000\n",
      "70/70 [==============================] - 0s 1ms/step - loss: 0.9329 - accuracy: 0.6601 - val_loss: 1.6125 - val_accuracy: 0.5033\n",
      "Epoch 197/1000\n",
      "70/70 [==============================] - 0s 1ms/step - loss: 0.9690 - accuracy: 0.6442 - val_loss: 1.6177 - val_accuracy: 0.4933\n",
      "Epoch 198/1000\n",
      "70/70 [==============================] - 0s 1ms/step - loss: 0.9444 - accuracy: 0.6672 - val_loss: 1.5878 - val_accuracy: 0.5000\n",
      "Epoch 199/1000\n",
      "70/70 [==============================] - 0s 1ms/step - loss: 0.9579 - accuracy: 0.6536 - val_loss: 1.5696 - val_accuracy: 0.5033\n",
      "Epoch 200/1000\n",
      "70/70 [==============================] - 0s 1ms/step - loss: 0.9810 - accuracy: 0.6479 - val_loss: 1.6126 - val_accuracy: 0.5033\n",
      "Epoch 201/1000\n",
      "70/70 [==============================] - 0s 1ms/step - loss: 0.9941 - accuracy: 0.6265 - val_loss: 1.6082 - val_accuracy: 0.5133\n",
      "Epoch 202/1000\n",
      "70/70 [==============================] - 0s 1ms/step - loss: 0.9378 - accuracy: 0.6482 - val_loss: 1.5866 - val_accuracy: 0.5033\n",
      "Epoch 203/1000\n",
      "70/70 [==============================] - 0s 1ms/step - loss: 0.9620 - accuracy: 0.6668 - val_loss: 1.6091 - val_accuracy: 0.4967\n",
      "Epoch 204/1000\n",
      "70/70 [==============================] - 0s 1ms/step - loss: 0.9441 - accuracy: 0.6664 - val_loss: 1.5987 - val_accuracy: 0.5067\n",
      "Epoch 205/1000\n",
      "70/70 [==============================] - 0s 1ms/step - loss: 0.9558 - accuracy: 0.6722 - val_loss: 1.6172 - val_accuracy: 0.4933\n",
      "Epoch 206/1000\n",
      "70/70 [==============================] - 0s 1ms/step - loss: 0.9574 - accuracy: 0.6488 - val_loss: 1.6137 - val_accuracy: 0.4967\n",
      "Epoch 207/1000\n",
      "70/70 [==============================] - 0s 1ms/step - loss: 0.9677 - accuracy: 0.6350 - val_loss: 1.5949 - val_accuracy: 0.5067\n",
      "Epoch 208/1000\n",
      "70/70 [==============================] - 0s 1ms/step - loss: 0.9492 - accuracy: 0.6270 - val_loss: 1.6067 - val_accuracy: 0.4967\n",
      "Epoch 209/1000\n",
      "70/70 [==============================] - 0s 1ms/step - loss: 0.9519 - accuracy: 0.6802 - val_loss: 1.6118 - val_accuracy: 0.5000\n",
      "Epoch 210/1000\n",
      "70/70 [==============================] - 0s 1ms/step - loss: 0.9924 - accuracy: 0.6571 - val_loss: 1.5998 - val_accuracy: 0.4967\n",
      "Epoch 211/1000\n",
      "70/70 [==============================] - 0s 1ms/step - loss: 0.9421 - accuracy: 0.6325 - val_loss: 1.6163 - val_accuracy: 0.4933\n",
      "Epoch 212/1000\n",
      "70/70 [==============================] - 0s 1ms/step - loss: 0.9608 - accuracy: 0.6559 - val_loss: 1.6271 - val_accuracy: 0.4967\n",
      "Epoch 213/1000\n",
      "70/70 [==============================] - 0s 1ms/step - loss: 0.9238 - accuracy: 0.6342 - val_loss: 1.6202 - val_accuracy: 0.4933\n",
      "Epoch 214/1000\n",
      "70/70 [==============================] - 0s 1ms/step - loss: 0.9795 - accuracy: 0.6303 - val_loss: 1.6274 - val_accuracy: 0.4933\n",
      "Epoch 215/1000\n",
      "70/70 [==============================] - 0s 1ms/step - loss: 0.9307 - accuracy: 0.6483 - val_loss: 1.6373 - val_accuracy: 0.4900\n",
      "Epoch 216/1000\n",
      "70/70 [==============================] - 0s 1ms/step - loss: 0.9273 - accuracy: 0.6554 - val_loss: 1.6253 - val_accuracy: 0.4900\n",
      "Epoch 217/1000\n",
      "70/70 [==============================] - 0s 1ms/step - loss: 0.9293 - accuracy: 0.6905 - val_loss: 1.6271 - val_accuracy: 0.4900\n",
      "Epoch 218/1000\n",
      "70/70 [==============================] - 0s 1ms/step - loss: 0.9116 - accuracy: 0.6774 - val_loss: 1.6283 - val_accuracy: 0.4900\n",
      "Epoch 219/1000\n",
      "70/70 [==============================] - 0s 1ms/step - loss: 0.8948 - accuracy: 0.6643 - val_loss: 1.6322 - val_accuracy: 0.4967\n",
      "Epoch 220/1000\n",
      "70/70 [==============================] - 0s 1ms/step - loss: 0.9063 - accuracy: 0.6827 - val_loss: 1.6211 - val_accuracy: 0.4900\n",
      "Epoch 221/1000\n",
      "70/70 [==============================] - 0s 1ms/step - loss: 0.9316 - accuracy: 0.6409 - val_loss: 1.6115 - val_accuracy: 0.4967\n",
      "Epoch 222/1000\n",
      "70/70 [==============================] - 0s 1ms/step - loss: 0.9170 - accuracy: 0.6668 - val_loss: 1.6257 - val_accuracy: 0.4900\n",
      "Epoch 223/1000\n",
      "70/70 [==============================] - 0s 1ms/step - loss: 0.8972 - accuracy: 0.6861 - val_loss: 1.6634 - val_accuracy: 0.4900\n",
      "Epoch 224/1000\n",
      "70/70 [==============================] - 0s 1ms/step - loss: 0.9206 - accuracy: 0.6652 - val_loss: 1.6138 - val_accuracy: 0.4967\n",
      "Epoch 225/1000\n",
      "70/70 [==============================] - 0s 1ms/step - loss: 0.8967 - accuracy: 0.6801 - val_loss: 1.6395 - val_accuracy: 0.5000\n",
      "Epoch 226/1000\n",
      "70/70 [==============================] - 0s 1ms/step - loss: 0.9165 - accuracy: 0.6796 - val_loss: 1.6474 - val_accuracy: 0.4867\n",
      "Epoch 227/1000\n",
      "70/70 [==============================] - 0s 1ms/step - loss: 0.9088 - accuracy: 0.6724 - val_loss: 1.6296 - val_accuracy: 0.4967\n",
      "Epoch 228/1000\n",
      "70/70 [==============================] - 0s 1ms/step - loss: 0.9157 - accuracy: 0.6622 - val_loss: 1.6445 - val_accuracy: 0.4933\n"
     ]
    },
    {
     "name": "stdout",
     "output_type": "stream",
     "text": [
      "Epoch 229/1000\n",
      "70/70 [==============================] - 0s 1ms/step - loss: 0.9486 - accuracy: 0.6851 - val_loss: 1.6327 - val_accuracy: 0.4933\n",
      "Epoch 230/1000\n",
      "70/70 [==============================] - 0s 1ms/step - loss: 0.8687 - accuracy: 0.6670 - val_loss: 1.6766 - val_accuracy: 0.4900\n",
      "Epoch 231/1000\n",
      "70/70 [==============================] - 0s 1ms/step - loss: 0.9161 - accuracy: 0.6844 - val_loss: 1.6425 - val_accuracy: 0.4900\n",
      "Epoch 232/1000\n",
      "70/70 [==============================] - 0s 1ms/step - loss: 0.9263 - accuracy: 0.6579 - val_loss: 1.6695 - val_accuracy: 0.4900\n",
      "Epoch 233/1000\n",
      "70/70 [==============================] - 0s 1ms/step - loss: 0.9437 - accuracy: 0.6672 - val_loss: 1.6477 - val_accuracy: 0.4867\n",
      "Epoch 234/1000\n",
      "70/70 [==============================] - 0s 1ms/step - loss: 0.9164 - accuracy: 0.6725 - val_loss: 1.6387 - val_accuracy: 0.4900\n",
      "Epoch 235/1000\n",
      "70/70 [==============================] - 0s 1ms/step - loss: 0.9243 - accuracy: 0.6640 - val_loss: 1.6653 - val_accuracy: 0.4833\n",
      "Epoch 236/1000\n",
      "70/70 [==============================] - 0s 1ms/step - loss: 0.9001 - accuracy: 0.6781 - val_loss: 1.6502 - val_accuracy: 0.4933\n",
      "Epoch 237/1000\n",
      "70/70 [==============================] - 0s 1ms/step - loss: 0.9536 - accuracy: 0.6604 - val_loss: 1.6631 - val_accuracy: 0.4933\n",
      "Epoch 238/1000\n",
      "70/70 [==============================] - 0s 1ms/step - loss: 0.9108 - accuracy: 0.6825 - val_loss: 1.6680 - val_accuracy: 0.4900\n",
      "Epoch 239/1000\n",
      "70/70 [==============================] - 0s 1ms/step - loss: 0.9402 - accuracy: 0.6477 - val_loss: 1.6374 - val_accuracy: 0.4900\n",
      "Epoch 240/1000\n",
      "70/70 [==============================] - 0s 1ms/step - loss: 0.9030 - accuracy: 0.6386 - val_loss: 1.6605 - val_accuracy: 0.4867\n",
      "Epoch 241/1000\n",
      "70/70 [==============================] - 0s 1ms/step - loss: 0.8926 - accuracy: 0.6792 - val_loss: 1.6683 - val_accuracy: 0.4933\n",
      "Epoch 242/1000\n",
      "70/70 [==============================] - 0s 1ms/step - loss: 0.9058 - accuracy: 0.6639 - val_loss: 1.6605 - val_accuracy: 0.4867\n",
      "Epoch 243/1000\n",
      "70/70 [==============================] - 0s 1ms/step - loss: 0.9424 - accuracy: 0.6420 - val_loss: 1.6726 - val_accuracy: 0.4867\n",
      "Epoch 244/1000\n",
      "70/70 [==============================] - 0s 1ms/step - loss: 0.8936 - accuracy: 0.6967 - val_loss: 1.6886 - val_accuracy: 0.4933\n",
      "Epoch 245/1000\n",
      "70/70 [==============================] - 0s 1ms/step - loss: 0.9136 - accuracy: 0.6546 - val_loss: 1.6625 - val_accuracy: 0.4867\n",
      "Epoch 246/1000\n",
      "70/70 [==============================] - 0s 1ms/step - loss: 0.9036 - accuracy: 0.6710 - val_loss: 1.6645 - val_accuracy: 0.4900\n",
      "Epoch 247/1000\n",
      "70/70 [==============================] - 0s 1ms/step - loss: 0.8933 - accuracy: 0.6801 - val_loss: 1.6692 - val_accuracy: 0.4867\n",
      "Epoch 248/1000\n",
      "70/70 [==============================] - 0s 1ms/step - loss: 0.8919 - accuracy: 0.6867 - val_loss: 1.6795 - val_accuracy: 0.4867\n",
      "Epoch 249/1000\n",
      "70/70 [==============================] - 0s 1ms/step - loss: 0.9058 - accuracy: 0.6525 - val_loss: 1.6911 - val_accuracy: 0.4867\n",
      "Epoch 250/1000\n",
      "70/70 [==============================] - 0s 1ms/step - loss: 0.8961 - accuracy: 0.6897 - val_loss: 1.6797 - val_accuracy: 0.4900\n",
      "Epoch 251/1000\n",
      "70/70 [==============================] - 0s 1ms/step - loss: 0.8889 - accuracy: 0.6976 - val_loss: 1.6830 - val_accuracy: 0.4900\n",
      "Epoch 252/1000\n",
      "70/70 [==============================] - 0s 1ms/step - loss: 0.8777 - accuracy: 0.6919 - val_loss: 1.7113 - val_accuracy: 0.4867\n",
      "Epoch 253/1000\n",
      "70/70 [==============================] - 0s 1ms/step - loss: 0.9254 - accuracy: 0.6750 - val_loss: 1.6824 - val_accuracy: 0.4933\n",
      "Epoch 254/1000\n",
      "70/70 [==============================] - 0s 1ms/step - loss: 0.8995 - accuracy: 0.6836 - val_loss: 1.7074 - val_accuracy: 0.4833\n",
      "Epoch 255/1000\n",
      "70/70 [==============================] - 0s 1ms/step - loss: 0.8983 - accuracy: 0.6882 - val_loss: 1.7022 - val_accuracy: 0.4800\n",
      "Epoch 256/1000\n",
      "70/70 [==============================] - 0s 1ms/step - loss: 0.9275 - accuracy: 0.6687 - val_loss: 1.6871 - val_accuracy: 0.4900\n",
      "Epoch 257/1000\n",
      "70/70 [==============================] - 0s 1ms/step - loss: 0.8454 - accuracy: 0.6962 - val_loss: 1.6935 - val_accuracy: 0.4867\n",
      "Epoch 258/1000\n",
      "70/70 [==============================] - 0s 1ms/step - loss: 0.8677 - accuracy: 0.7016 - val_loss: 1.7093 - val_accuracy: 0.4900\n",
      "Epoch 259/1000\n",
      "70/70 [==============================] - 0s 1ms/step - loss: 0.8993 - accuracy: 0.6994 - val_loss: 1.6765 - val_accuracy: 0.4900\n",
      "Epoch 260/1000\n",
      "70/70 [==============================] - 0s 1ms/step - loss: 0.9369 - accuracy: 0.6541 - val_loss: 1.6875 - val_accuracy: 0.4900\n",
      "Epoch 261/1000\n",
      "70/70 [==============================] - 0s 1ms/step - loss: 0.9097 - accuracy: 0.6902 - val_loss: 1.7033 - val_accuracy: 0.4933\n",
      "Epoch 262/1000\n",
      "70/70 [==============================] - 0s 1ms/step - loss: 0.8892 - accuracy: 0.6681 - val_loss: 1.7092 - val_accuracy: 0.4867\n",
      "Epoch 263/1000\n",
      "70/70 [==============================] - 0s 1ms/step - loss: 0.8863 - accuracy: 0.6985 - val_loss: 1.6837 - val_accuracy: 0.4867\n",
      "Epoch 264/1000\n",
      "70/70 [==============================] - 0s 1ms/step - loss: 0.8296 - accuracy: 0.6853 - val_loss: 1.6862 - val_accuracy: 0.4900\n",
      "Epoch 265/1000\n",
      "70/70 [==============================] - 0s 1ms/step - loss: 0.8794 - accuracy: 0.6962 - val_loss: 1.7202 - val_accuracy: 0.4767\n",
      "Epoch 266/1000\n",
      "70/70 [==============================] - 0s 1ms/step - loss: 0.9013 - accuracy: 0.6827 - val_loss: 1.7130 - val_accuracy: 0.4867\n",
      "Epoch 267/1000\n",
      "70/70 [==============================] - 0s 1ms/step - loss: 0.8656 - accuracy: 0.6833 - val_loss: 1.7043 - val_accuracy: 0.4900\n",
      "Epoch 268/1000\n",
      "70/70 [==============================] - 0s 1ms/step - loss: 0.8807 - accuracy: 0.6923 - val_loss: 1.7150 - val_accuracy: 0.4867\n",
      "Epoch 269/1000\n",
      "70/70 [==============================] - 0s 1ms/step - loss: 0.9017 - accuracy: 0.6686 - val_loss: 1.7392 - val_accuracy: 0.4767\n",
      "Epoch 270/1000\n",
      "70/70 [==============================] - 0s 1ms/step - loss: 0.8801 - accuracy: 0.7088 - val_loss: 1.7202 - val_accuracy: 0.4900\n",
      "Epoch 271/1000\n",
      "70/70 [==============================] - 0s 1ms/step - loss: 0.9120 - accuracy: 0.6573 - val_loss: 1.7155 - val_accuracy: 0.4867\n",
      "Epoch 272/1000\n",
      "70/70 [==============================] - 0s 1ms/step - loss: 0.8595 - accuracy: 0.7001 - val_loss: 1.7145 - val_accuracy: 0.4867\n",
      "Epoch 273/1000\n",
      "70/70 [==============================] - 0s 1ms/step - loss: 0.8793 - accuracy: 0.6816 - val_loss: 1.7284 - val_accuracy: 0.4900\n",
      "Epoch 274/1000\n",
      "70/70 [==============================] - 0s 1ms/step - loss: 0.9096 - accuracy: 0.6738 - val_loss: 1.7155 - val_accuracy: 0.4900\n",
      "Epoch 275/1000\n",
      "70/70 [==============================] - 0s 1ms/step - loss: 0.9077 - accuracy: 0.6559 - val_loss: 1.7189 - val_accuracy: 0.4900\n",
      "Epoch 276/1000\n",
      "70/70 [==============================] - 0s 1ms/step - loss: 0.9060 - accuracy: 0.6795 - val_loss: 1.7313 - val_accuracy: 0.4933\n",
      "Epoch 277/1000\n",
      "70/70 [==============================] - 0s 1ms/step - loss: 0.8451 - accuracy: 0.6830 - val_loss: 1.7475 - val_accuracy: 0.4833\n",
      "Epoch 278/1000\n",
      "70/70 [==============================] - 0s 1ms/step - loss: 0.8640 - accuracy: 0.6618 - val_loss: 1.7202 - val_accuracy: 0.4900\n",
      "Epoch 279/1000\n",
      "70/70 [==============================] - 0s 1ms/step - loss: 0.8857 - accuracy: 0.6902 - val_loss: 1.7304 - val_accuracy: 0.4833\n",
      "Epoch 280/1000\n",
      "70/70 [==============================] - 0s 1ms/step - loss: 0.8867 - accuracy: 0.6911 - val_loss: 1.7406 - val_accuracy: 0.4833\n",
      "Epoch 281/1000\n",
      "70/70 [==============================] - 0s 1ms/step - loss: 0.8966 - accuracy: 0.6746 - val_loss: 1.7356 - val_accuracy: 0.4833\n",
      "Epoch 282/1000\n",
      "70/70 [==============================] - 0s 1ms/step - loss: 0.8461 - accuracy: 0.7054 - val_loss: 1.7453 - val_accuracy: 0.4733\n",
      "Epoch 283/1000\n",
      "70/70 [==============================] - 0s 1ms/step - loss: 0.9224 - accuracy: 0.6630 - val_loss: 1.7512 - val_accuracy: 0.4733\n",
      "Epoch 284/1000\n",
      "70/70 [==============================] - 0s 1ms/step - loss: 0.8487 - accuracy: 0.7064 - val_loss: 1.7122 - val_accuracy: 0.4900\n",
      "Epoch 285/1000\n",
      "70/70 [==============================] - 0s 1ms/step - loss: 0.8866 - accuracy: 0.6620 - val_loss: 1.7470 - val_accuracy: 0.4833\n"
     ]
    },
    {
     "name": "stdout",
     "output_type": "stream",
     "text": [
      "Epoch 286/1000\n",
      "70/70 [==============================] - 0s 1ms/step - loss: 0.8444 - accuracy: 0.6891 - val_loss: 1.7643 - val_accuracy: 0.4867\n",
      "Epoch 287/1000\n",
      "70/70 [==============================] - 0s 1ms/step - loss: 0.8613 - accuracy: 0.7036 - val_loss: 1.7504 - val_accuracy: 0.4833\n",
      "Epoch 288/1000\n",
      "70/70 [==============================] - 0s 1ms/step - loss: 0.9051 - accuracy: 0.6788 - val_loss: 1.7438 - val_accuracy: 0.4900\n",
      "Epoch 289/1000\n",
      "70/70 [==============================] - 0s 1ms/step - loss: 0.8570 - accuracy: 0.6959 - val_loss: 1.7380 - val_accuracy: 0.4867\n",
      "Epoch 290/1000\n",
      "70/70 [==============================] - 0s 1ms/step - loss: 0.8779 - accuracy: 0.6757 - val_loss: 1.7540 - val_accuracy: 0.4800\n",
      "Epoch 291/1000\n",
      "70/70 [==============================] - 0s 1ms/step - loss: 0.8588 - accuracy: 0.6911 - val_loss: 1.7662 - val_accuracy: 0.4900\n",
      "Epoch 292/1000\n",
      "70/70 [==============================] - 0s 1ms/step - loss: 0.7937 - accuracy: 0.7353 - val_loss: 1.7797 - val_accuracy: 0.4833\n",
      "Epoch 293/1000\n",
      "70/70 [==============================] - 0s 1ms/step - loss: 0.8582 - accuracy: 0.6714 - val_loss: 1.7232 - val_accuracy: 0.4933\n",
      "Epoch 294/1000\n",
      "70/70 [==============================] - 0s 1ms/step - loss: 0.8706 - accuracy: 0.6915 - val_loss: 1.7630 - val_accuracy: 0.4833\n",
      "Epoch 295/1000\n",
      "70/70 [==============================] - 0s 1ms/step - loss: 0.8886 - accuracy: 0.6729 - val_loss: 1.7922 - val_accuracy: 0.4800\n",
      "Epoch 296/1000\n",
      "70/70 [==============================] - 0s 1ms/step - loss: 0.9093 - accuracy: 0.6935 - val_loss: 1.7625 - val_accuracy: 0.4800\n",
      "Epoch 297/1000\n",
      "70/70 [==============================] - 0s 1ms/step - loss: 0.8743 - accuracy: 0.7037 - val_loss: 1.7780 - val_accuracy: 0.4833\n",
      "Epoch 298/1000\n",
      "70/70 [==============================] - 0s 1ms/step - loss: 0.8721 - accuracy: 0.7182 - val_loss: 1.7633 - val_accuracy: 0.4800\n",
      "Epoch 299/1000\n",
      "70/70 [==============================] - 0s 1ms/step - loss: 0.8556 - accuracy: 0.6749 - val_loss: 1.7952 - val_accuracy: 0.4867\n",
      "Epoch 300/1000\n",
      "70/70 [==============================] - 0s 1ms/step - loss: 0.9275 - accuracy: 0.6775 - val_loss: 1.7542 - val_accuracy: 0.4933\n",
      "Epoch 301/1000\n",
      "70/70 [==============================] - 0s 1ms/step - loss: 0.8830 - accuracy: 0.6803 - val_loss: 1.7425 - val_accuracy: 0.4867\n",
      "Epoch 302/1000\n",
      "70/70 [==============================] - 0s 1ms/step - loss: 0.8379 - accuracy: 0.7110 - val_loss: 1.7573 - val_accuracy: 0.4900\n",
      "Epoch 303/1000\n",
      "70/70 [==============================] - 0s 1ms/step - loss: 0.8244 - accuracy: 0.7145 - val_loss: 1.7633 - val_accuracy: 0.4833\n",
      "Epoch 304/1000\n",
      "70/70 [==============================] - 0s 1ms/step - loss: 0.8557 - accuracy: 0.6964 - val_loss: 1.7768 - val_accuracy: 0.4767\n",
      "Epoch 305/1000\n",
      "70/70 [==============================] - 0s 1ms/step - loss: 0.8700 - accuracy: 0.7012 - val_loss: 1.7895 - val_accuracy: 0.4833\n",
      "Epoch 306/1000\n",
      "70/70 [==============================] - 0s 1ms/step - loss: 0.8304 - accuracy: 0.7191 - val_loss: 1.7485 - val_accuracy: 0.4933\n",
      "Epoch 307/1000\n",
      "70/70 [==============================] - 0s 1ms/step - loss: 0.8337 - accuracy: 0.6889 - val_loss: 1.7837 - val_accuracy: 0.4733\n",
      "Epoch 308/1000\n",
      "70/70 [==============================] - 0s 1ms/step - loss: 0.8636 - accuracy: 0.7117 - val_loss: 1.8088 - val_accuracy: 0.4767\n",
      "Epoch 309/1000\n",
      "70/70 [==============================] - 0s 1ms/step - loss: 0.8124 - accuracy: 0.7106 - val_loss: 1.7794 - val_accuracy: 0.4800\n",
      "Epoch 310/1000\n",
      "70/70 [==============================] - 0s 1ms/step - loss: 0.8391 - accuracy: 0.7146 - val_loss: 1.7683 - val_accuracy: 0.4867\n",
      "Epoch 311/1000\n",
      "70/70 [==============================] - 0s 1ms/step - loss: 0.8874 - accuracy: 0.6838 - val_loss: 1.7797 - val_accuracy: 0.4900\n",
      "Epoch 312/1000\n",
      "70/70 [==============================] - 0s 1ms/step - loss: 0.8121 - accuracy: 0.7309 - val_loss: 1.8027 - val_accuracy: 0.4800\n",
      "Epoch 313/1000\n",
      "70/70 [==============================] - 0s 1ms/step - loss: 0.8520 - accuracy: 0.7001 - val_loss: 1.8037 - val_accuracy: 0.4800\n",
      "Epoch 314/1000\n",
      "70/70 [==============================] - 0s 1ms/step - loss: 0.8350 - accuracy: 0.6823 - val_loss: 1.7914 - val_accuracy: 0.4933\n",
      "Epoch 315/1000\n",
      "70/70 [==============================] - 0s 1ms/step - loss: 0.8476 - accuracy: 0.7196 - val_loss: 1.8144 - val_accuracy: 0.4867\n",
      "Epoch 316/1000\n",
      "70/70 [==============================] - 0s 1ms/step - loss: 0.8653 - accuracy: 0.7089 - val_loss: 1.8100 - val_accuracy: 0.4767\n",
      "Epoch 317/1000\n",
      "70/70 [==============================] - 0s 1ms/step - loss: 0.8709 - accuracy: 0.6926 - val_loss: 1.7931 - val_accuracy: 0.4833\n",
      "Epoch 318/1000\n",
      "70/70 [==============================] - 0s 1ms/step - loss: 0.8595 - accuracy: 0.7132 - val_loss: 1.8040 - val_accuracy: 0.4800\n",
      "Epoch 319/1000\n",
      "70/70 [==============================] - 0s 1ms/step - loss: 0.8098 - accuracy: 0.6964 - val_loss: 1.8072 - val_accuracy: 0.4833\n",
      "Epoch 320/1000\n",
      "70/70 [==============================] - 0s 1ms/step - loss: 0.8604 - accuracy: 0.7191 - val_loss: 1.8149 - val_accuracy: 0.4800\n",
      "Epoch 321/1000\n",
      "70/70 [==============================] - 0s 1ms/step - loss: 0.9007 - accuracy: 0.6744 - val_loss: 1.8134 - val_accuracy: 0.4833\n",
      "Epoch 322/1000\n",
      "70/70 [==============================] - 0s 1ms/step - loss: 0.8339 - accuracy: 0.7022 - val_loss: 1.8244 - val_accuracy: 0.4767\n",
      "Epoch 323/1000\n",
      "70/70 [==============================] - 0s 1ms/step - loss: 0.8320 - accuracy: 0.7035 - val_loss: 1.8029 - val_accuracy: 0.4900\n",
      "Epoch 324/1000\n",
      "70/70 [==============================] - 0s 1ms/step - loss: 0.8327 - accuracy: 0.7047 - val_loss: 1.8340 - val_accuracy: 0.4767\n",
      "Epoch 325/1000\n",
      "70/70 [==============================] - 0s 1ms/step - loss: 0.7923 - accuracy: 0.7208 - val_loss: 1.8085 - val_accuracy: 0.4867\n",
      "Epoch 326/1000\n",
      "70/70 [==============================] - 0s 1ms/step - loss: 0.8673 - accuracy: 0.7025 - val_loss: 1.8165 - val_accuracy: 0.4933\n",
      "Epoch 327/1000\n",
      "70/70 [==============================] - 0s 1ms/step - loss: 0.8592 - accuracy: 0.6991 - val_loss: 1.8424 - val_accuracy: 0.4733\n",
      "Epoch 328/1000\n",
      "70/70 [==============================] - 0s 1ms/step - loss: 0.8899 - accuracy: 0.6745 - val_loss: 1.8151 - val_accuracy: 0.4767\n",
      "Epoch 329/1000\n",
      "70/70 [==============================] - 0s 1ms/step - loss: 0.8498 - accuracy: 0.6678 - val_loss: 1.8336 - val_accuracy: 0.4767\n",
      "Epoch 330/1000\n",
      "70/70 [==============================] - 0s 1ms/step - loss: 0.8791 - accuracy: 0.6813 - val_loss: 1.8425 - val_accuracy: 0.4767\n",
      "Epoch 331/1000\n",
      "70/70 [==============================] - 0s 1ms/step - loss: 0.8334 - accuracy: 0.7208 - val_loss: 1.8121 - val_accuracy: 0.4867\n",
      "Epoch 332/1000\n",
      "70/70 [==============================] - 0s 1ms/step - loss: 0.8503 - accuracy: 0.7129 - val_loss: 1.8260 - val_accuracy: 0.4833\n",
      "Epoch 333/1000\n",
      "70/70 [==============================] - 0s 1ms/step - loss: 0.8405 - accuracy: 0.7062 - val_loss: 1.8587 - val_accuracy: 0.4767\n",
      "Epoch 334/1000\n",
      "70/70 [==============================] - 0s 1ms/step - loss: 0.8296 - accuracy: 0.7103 - val_loss: 1.8481 - val_accuracy: 0.4867\n",
      "Epoch 335/1000\n",
      "70/70 [==============================] - 0s 1ms/step - loss: 0.8316 - accuracy: 0.7071 - val_loss: 1.8282 - val_accuracy: 0.4867\n",
      "Epoch 336/1000\n",
      "70/70 [==============================] - 0s 1ms/step - loss: 0.8095 - accuracy: 0.7139 - val_loss: 1.8453 - val_accuracy: 0.4833\n",
      "Epoch 337/1000\n",
      "70/70 [==============================] - 0s 1ms/step - loss: 0.8270 - accuracy: 0.7075 - val_loss: 1.8483 - val_accuracy: 0.4733\n",
      "Epoch 338/1000\n",
      "70/70 [==============================] - 0s 1ms/step - loss: 0.8879 - accuracy: 0.6933 - val_loss: 1.8624 - val_accuracy: 0.4800\n",
      "Epoch 339/1000\n",
      "70/70 [==============================] - 0s 1ms/step - loss: 0.8238 - accuracy: 0.7133 - val_loss: 1.8403 - val_accuracy: 0.4833\n",
      "Epoch 340/1000\n",
      "70/70 [==============================] - 0s 1ms/step - loss: 0.8061 - accuracy: 0.7182 - val_loss: 1.8627 - val_accuracy: 0.4833\n",
      "Epoch 341/1000\n",
      "70/70 [==============================] - 0s 1ms/step - loss: 0.8296 - accuracy: 0.6754 - val_loss: 1.8418 - val_accuracy: 0.4800\n",
      "Epoch 342/1000\n",
      "70/70 [==============================] - 0s 1ms/step - loss: 0.8513 - accuracy: 0.6937 - val_loss: 1.8659 - val_accuracy: 0.4867\n"
     ]
    },
    {
     "name": "stdout",
     "output_type": "stream",
     "text": [
      "Epoch 343/1000\n",
      "70/70 [==============================] - 0s 1ms/step - loss: 0.8052 - accuracy: 0.7010 - val_loss: 1.8443 - val_accuracy: 0.4800\n",
      "Epoch 344/1000\n",
      "70/70 [==============================] - 0s 1ms/step - loss: 0.8501 - accuracy: 0.6947 - val_loss: 1.8439 - val_accuracy: 0.4833\n",
      "Epoch 345/1000\n",
      "70/70 [==============================] - 0s 1ms/step - loss: 0.7704 - accuracy: 0.7485 - val_loss: 1.8517 - val_accuracy: 0.4867\n",
      "Epoch 346/1000\n",
      "70/70 [==============================] - 0s 1ms/step - loss: 0.8264 - accuracy: 0.7119 - val_loss: 1.8492 - val_accuracy: 0.4800\n",
      "Epoch 347/1000\n",
      "70/70 [==============================] - 0s 1ms/step - loss: 0.8135 - accuracy: 0.7132 - val_loss: 1.8483 - val_accuracy: 0.4800\n",
      "Epoch 348/1000\n",
      "70/70 [==============================] - 0s 1ms/step - loss: 0.8483 - accuracy: 0.7278 - val_loss: 1.8629 - val_accuracy: 0.4867\n",
      "Epoch 349/1000\n",
      "70/70 [==============================] - 0s 1ms/step - loss: 0.8658 - accuracy: 0.7128 - val_loss: 1.8643 - val_accuracy: 0.4800\n",
      "Epoch 350/1000\n",
      "70/70 [==============================] - 0s 1ms/step - loss: 0.7992 - accuracy: 0.7363 - val_loss: 1.8623 - val_accuracy: 0.4767\n",
      "Epoch 351/1000\n",
      "70/70 [==============================] - 0s 1ms/step - loss: 0.8340 - accuracy: 0.6938 - val_loss: 1.8644 - val_accuracy: 0.4867\n",
      "Epoch 352/1000\n",
      "70/70 [==============================] - 0s 1ms/step - loss: 0.8274 - accuracy: 0.7159 - val_loss: 1.8328 - val_accuracy: 0.5033\n",
      "Epoch 353/1000\n",
      "70/70 [==============================] - 0s 1ms/step - loss: 0.8794 - accuracy: 0.6991 - val_loss: 1.8736 - val_accuracy: 0.4800\n",
      "Epoch 354/1000\n",
      "70/70 [==============================] - 0s 1ms/step - loss: 0.8307 - accuracy: 0.7109 - val_loss: 1.8795 - val_accuracy: 0.4800\n",
      "Epoch 355/1000\n",
      "70/70 [==============================] - 0s 1ms/step - loss: 0.8353 - accuracy: 0.7141 - val_loss: 1.8589 - val_accuracy: 0.4800\n",
      "Epoch 356/1000\n",
      "70/70 [==============================] - 0s 1ms/step - loss: 0.8124 - accuracy: 0.7194 - val_loss: 1.8936 - val_accuracy: 0.4800\n",
      "Epoch 357/1000\n",
      "70/70 [==============================] - 0s 1ms/step - loss: 0.8455 - accuracy: 0.6921 - val_loss: 1.8656 - val_accuracy: 0.4767\n",
      "Epoch 358/1000\n",
      "70/70 [==============================] - 0s 1ms/step - loss: 0.8027 - accuracy: 0.7145 - val_loss: 1.8643 - val_accuracy: 0.4867\n",
      "Epoch 359/1000\n",
      "70/70 [==============================] - 0s 1ms/step - loss: 0.8144 - accuracy: 0.7207 - val_loss: 1.8825 - val_accuracy: 0.4700\n",
      "Epoch 360/1000\n",
      "70/70 [==============================] - 0s 1ms/step - loss: 0.8033 - accuracy: 0.6956 - val_loss: 1.8899 - val_accuracy: 0.4667\n",
      "Epoch 361/1000\n",
      "70/70 [==============================] - 0s 1ms/step - loss: 0.8103 - accuracy: 0.7328 - val_loss: 1.8768 - val_accuracy: 0.4833\n",
      "Epoch 362/1000\n",
      "70/70 [==============================] - 0s 1ms/step - loss: 0.8639 - accuracy: 0.7095 - val_loss: 1.8970 - val_accuracy: 0.4733\n",
      "Epoch 363/1000\n",
      "70/70 [==============================] - 0s 1ms/step - loss: 0.7754 - accuracy: 0.7183 - val_loss: 1.8543 - val_accuracy: 0.4967\n",
      "Epoch 364/1000\n",
      "70/70 [==============================] - 0s 1ms/step - loss: 0.8487 - accuracy: 0.6889 - val_loss: 1.8983 - val_accuracy: 0.4800\n",
      "Epoch 365/1000\n",
      "70/70 [==============================] - 0s 1ms/step - loss: 0.7976 - accuracy: 0.7054 - val_loss: 1.8737 - val_accuracy: 0.4867\n",
      "Epoch 366/1000\n",
      "70/70 [==============================] - 0s 1ms/step - loss: 0.8007 - accuracy: 0.7082 - val_loss: 1.8754 - val_accuracy: 0.4800\n",
      "Epoch 367/1000\n",
      "70/70 [==============================] - 0s 1ms/step - loss: 0.7989 - accuracy: 0.7318 - val_loss: 1.8878 - val_accuracy: 0.4833\n",
      "Epoch 368/1000\n",
      "70/70 [==============================] - 0s 1ms/step - loss: 0.8375 - accuracy: 0.6969 - val_loss: 1.8723 - val_accuracy: 0.4900\n",
      "Epoch 369/1000\n",
      "70/70 [==============================] - 0s 1ms/step - loss: 0.7899 - accuracy: 0.7312 - val_loss: 1.8919 - val_accuracy: 0.4867\n",
      "Epoch 370/1000\n",
      "70/70 [==============================] - 0s 1ms/step - loss: 0.8162 - accuracy: 0.7097 - val_loss: 1.8990 - val_accuracy: 0.4833\n",
      "Epoch 371/1000\n",
      "70/70 [==============================] - 0s 1ms/step - loss: 0.7750 - accuracy: 0.7180 - val_loss: 1.9026 - val_accuracy: 0.4900\n",
      "Epoch 372/1000\n",
      "70/70 [==============================] - 0s 1ms/step - loss: 0.8078 - accuracy: 0.7363 - val_loss: 1.8958 - val_accuracy: 0.4867\n",
      "Epoch 373/1000\n",
      "70/70 [==============================] - 0s 1ms/step - loss: 0.8037 - accuracy: 0.7068 - val_loss: 1.8888 - val_accuracy: 0.4833\n",
      "Epoch 374/1000\n",
      "70/70 [==============================] - 0s 1ms/step - loss: 0.8077 - accuracy: 0.6947 - val_loss: 1.9106 - val_accuracy: 0.4800\n",
      "Epoch 375/1000\n",
      "70/70 [==============================] - 0s 1ms/step - loss: 0.7978 - accuracy: 0.7285 - val_loss: 1.9122 - val_accuracy: 0.4833\n",
      "Epoch 376/1000\n",
      "70/70 [==============================] - 0s 1ms/step - loss: 0.7938 - accuracy: 0.7153 - val_loss: 1.8866 - val_accuracy: 0.4900\n",
      "Epoch 377/1000\n",
      "70/70 [==============================] - 0s 1ms/step - loss: 0.7909 - accuracy: 0.7418 - val_loss: 1.9230 - val_accuracy: 0.4833\n",
      "Epoch 378/1000\n",
      "70/70 [==============================] - 0s 1ms/step - loss: 0.8008 - accuracy: 0.7309 - val_loss: 1.9165 - val_accuracy: 0.4867\n",
      "Epoch 379/1000\n",
      "70/70 [==============================] - 0s 1ms/step - loss: 0.7887 - accuracy: 0.7276 - val_loss: 1.9294 - val_accuracy: 0.4767\n",
      "Epoch 380/1000\n",
      "70/70 [==============================] - 0s 1ms/step - loss: 0.7991 - accuracy: 0.7418 - val_loss: 1.9128 - val_accuracy: 0.4767\n",
      "Epoch 381/1000\n",
      "70/70 [==============================] - 0s 1ms/step - loss: 0.8387 - accuracy: 0.7120 - val_loss: 1.9668 - val_accuracy: 0.4733\n",
      "Epoch 382/1000\n",
      "70/70 [==============================] - 0s 1ms/step - loss: 0.7925 - accuracy: 0.7093 - val_loss: 1.9190 - val_accuracy: 0.4900\n",
      "Epoch 383/1000\n",
      "70/70 [==============================] - 0s 1ms/step - loss: 0.8055 - accuracy: 0.7300 - val_loss: 1.9183 - val_accuracy: 0.4800\n",
      "Epoch 384/1000\n",
      "70/70 [==============================] - 0s 1ms/step - loss: 0.8278 - accuracy: 0.7332 - val_loss: 1.8925 - val_accuracy: 0.4767\n",
      "Epoch 385/1000\n",
      "70/70 [==============================] - 0s 1ms/step - loss: 0.7897 - accuracy: 0.7337 - val_loss: 1.9133 - val_accuracy: 0.4900\n",
      "Epoch 386/1000\n",
      "70/70 [==============================] - 0s 1ms/step - loss: 0.7792 - accuracy: 0.7148 - val_loss: 1.9353 - val_accuracy: 0.4733\n",
      "Epoch 387/1000\n",
      "70/70 [==============================] - 0s 1ms/step - loss: 0.7879 - accuracy: 0.7347 - val_loss: 1.9555 - val_accuracy: 0.4733\n",
      "Epoch 388/1000\n",
      "70/70 [==============================] - 0s 1ms/step - loss: 0.8112 - accuracy: 0.7126 - val_loss: 1.9109 - val_accuracy: 0.4900\n",
      "Epoch 389/1000\n",
      "70/70 [==============================] - 0s 1ms/step - loss: 0.8420 - accuracy: 0.7003 - val_loss: 1.9338 - val_accuracy: 0.4800\n",
      "Epoch 390/1000\n",
      "70/70 [==============================] - 0s 1ms/step - loss: 0.8063 - accuracy: 0.7085 - val_loss: 1.9294 - val_accuracy: 0.4800\n",
      "Epoch 391/1000\n",
      "70/70 [==============================] - 0s 1ms/step - loss: 0.8373 - accuracy: 0.7097 - val_loss: 1.9497 - val_accuracy: 0.4733\n",
      "Epoch 392/1000\n",
      "70/70 [==============================] - 0s 1ms/step - loss: 0.8246 - accuracy: 0.6834 - val_loss: 1.9232 - val_accuracy: 0.4867\n",
      "Epoch 393/1000\n",
      "70/70 [==============================] - 0s 1ms/step - loss: 0.7416 - accuracy: 0.7517 - val_loss: 1.9179 - val_accuracy: 0.4867\n",
      "Epoch 394/1000\n",
      "70/70 [==============================] - 0s 1ms/step - loss: 0.8368 - accuracy: 0.6986 - val_loss: 1.9621 - val_accuracy: 0.4733\n",
      "Epoch 395/1000\n",
      "70/70 [==============================] - 0s 1ms/step - loss: 0.8300 - accuracy: 0.6931 - val_loss: 1.9514 - val_accuracy: 0.4733\n",
      "Epoch 396/1000\n",
      "70/70 [==============================] - 0s 1ms/step - loss: 0.7777 - accuracy: 0.7073 - val_loss: 1.9508 - val_accuracy: 0.4800\n",
      "Epoch 397/1000\n",
      "70/70 [==============================] - 0s 1ms/step - loss: 0.8255 - accuracy: 0.7121 - val_loss: 1.9595 - val_accuracy: 0.4733\n",
      "Epoch 398/1000\n",
      "70/70 [==============================] - 0s 1ms/step - loss: 0.7651 - accuracy: 0.7385 - val_loss: 1.9261 - val_accuracy: 0.4900\n",
      "Epoch 399/1000\n",
      "70/70 [==============================] - 0s 1ms/step - loss: 0.8089 - accuracy: 0.7286 - val_loss: 1.9646 - val_accuracy: 0.4700\n"
     ]
    },
    {
     "name": "stdout",
     "output_type": "stream",
     "text": [
      "Epoch 400/1000\n",
      "70/70 [==============================] - 0s 1ms/step - loss: 0.8021 - accuracy: 0.7237 - val_loss: 1.9717 - val_accuracy: 0.4700\n",
      "Epoch 401/1000\n",
      "70/70 [==============================] - 0s 1ms/step - loss: 0.7977 - accuracy: 0.7512 - val_loss: 1.9559 - val_accuracy: 0.4767\n",
      "Epoch 402/1000\n",
      "70/70 [==============================] - 0s 1ms/step - loss: 0.7702 - accuracy: 0.7109 - val_loss: 1.9754 - val_accuracy: 0.4633\n",
      "Epoch 403/1000\n",
      "70/70 [==============================] - 0s 1ms/step - loss: 0.8082 - accuracy: 0.7068 - val_loss: 1.9712 - val_accuracy: 0.4733\n",
      "Epoch 404/1000\n",
      "70/70 [==============================] - 0s 1ms/step - loss: 0.7640 - accuracy: 0.7244 - val_loss: 1.9850 - val_accuracy: 0.4833\n",
      "Epoch 405/1000\n",
      "70/70 [==============================] - 0s 1ms/step - loss: 0.8066 - accuracy: 0.7119 - val_loss: 2.0011 - val_accuracy: 0.4733\n",
      "Epoch 406/1000\n",
      "70/70 [==============================] - 0s 1ms/step - loss: 0.7397 - accuracy: 0.7387 - val_loss: 1.9626 - val_accuracy: 0.4800\n",
      "Epoch 407/1000\n",
      "70/70 [==============================] - 0s 1ms/step - loss: 0.7906 - accuracy: 0.7363 - val_loss: 1.9667 - val_accuracy: 0.4700\n",
      "Epoch 408/1000\n",
      "70/70 [==============================] - 0s 1ms/step - loss: 0.8361 - accuracy: 0.7008 - val_loss: 1.9824 - val_accuracy: 0.4733\n",
      "Epoch 409/1000\n",
      "70/70 [==============================] - 0s 1ms/step - loss: 0.8293 - accuracy: 0.6926 - val_loss: 1.9716 - val_accuracy: 0.4833\n",
      "Epoch 410/1000\n",
      "70/70 [==============================] - 0s 1ms/step - loss: 0.7779 - accuracy: 0.7372 - val_loss: 1.9723 - val_accuracy: 0.4800\n",
      "Epoch 411/1000\n",
      "70/70 [==============================] - 0s 1ms/step - loss: 0.7994 - accuracy: 0.7199 - val_loss: 1.9925 - val_accuracy: 0.4800\n",
      "Epoch 412/1000\n",
      "70/70 [==============================] - 0s 1ms/step - loss: 0.7884 - accuracy: 0.6907 - val_loss: 1.9829 - val_accuracy: 0.4767\n",
      "Epoch 413/1000\n",
      "70/70 [==============================] - 0s 1ms/step - loss: 0.8177 - accuracy: 0.7224 - val_loss: 1.9849 - val_accuracy: 0.4667\n",
      "Epoch 414/1000\n",
      "70/70 [==============================] - 0s 1ms/step - loss: 0.7924 - accuracy: 0.7030 - val_loss: 1.9867 - val_accuracy: 0.4833\n",
      "Epoch 415/1000\n",
      "70/70 [==============================] - 0s 1ms/step - loss: 0.8043 - accuracy: 0.7168 - val_loss: 1.9792 - val_accuracy: 0.4733\n",
      "Epoch 416/1000\n",
      "70/70 [==============================] - 0s 1ms/step - loss: 0.7801 - accuracy: 0.7364 - val_loss: 1.9687 - val_accuracy: 0.4733\n",
      "Epoch 417/1000\n",
      "70/70 [==============================] - 0s 1ms/step - loss: 0.7808 - accuracy: 0.7041 - val_loss: 1.9911 - val_accuracy: 0.4733\n",
      "Epoch 418/1000\n",
      "70/70 [==============================] - 0s 1ms/step - loss: 0.7802 - accuracy: 0.7160 - val_loss: 1.9784 - val_accuracy: 0.4700\n",
      "Epoch 419/1000\n",
      "70/70 [==============================] - 0s 1ms/step - loss: 0.7941 - accuracy: 0.7230 - val_loss: 1.9952 - val_accuracy: 0.4833\n",
      "Epoch 420/1000\n",
      "70/70 [==============================] - 0s 1ms/step - loss: 0.8034 - accuracy: 0.7341 - val_loss: 2.0043 - val_accuracy: 0.4633\n",
      "Epoch 421/1000\n",
      "70/70 [==============================] - 0s 1ms/step - loss: 0.8110 - accuracy: 0.7179 - val_loss: 1.9986 - val_accuracy: 0.4833\n",
      "Epoch 422/1000\n",
      "70/70 [==============================] - 0s 1ms/step - loss: 0.7685 - accuracy: 0.7266 - val_loss: 1.9821 - val_accuracy: 0.4767\n",
      "Epoch 423/1000\n",
      "70/70 [==============================] - 0s 1ms/step - loss: 0.7552 - accuracy: 0.7329 - val_loss: 1.9754 - val_accuracy: 0.4833\n",
      "Epoch 424/1000\n",
      "70/70 [==============================] - 0s 1ms/step - loss: 0.7807 - accuracy: 0.7336 - val_loss: 2.0208 - val_accuracy: 0.4700\n",
      "Epoch 425/1000\n",
      "70/70 [==============================] - 0s 1ms/step - loss: 0.7778 - accuracy: 0.7341 - val_loss: 2.0135 - val_accuracy: 0.4767\n",
      "Epoch 426/1000\n",
      "70/70 [==============================] - 0s 1ms/step - loss: 0.7794 - accuracy: 0.7338 - val_loss: 1.9896 - val_accuracy: 0.4667\n",
      "Epoch 427/1000\n",
      "70/70 [==============================] - 0s 1ms/step - loss: 0.7518 - accuracy: 0.7477 - val_loss: 1.9972 - val_accuracy: 0.4867\n",
      "Epoch 428/1000\n",
      "70/70 [==============================] - 0s 1ms/step - loss: 0.7645 - accuracy: 0.7352 - val_loss: 2.0049 - val_accuracy: 0.4733\n",
      "Epoch 429/1000\n",
      "70/70 [==============================] - 0s 1ms/step - loss: 0.7551 - accuracy: 0.7431 - val_loss: 2.0327 - val_accuracy: 0.4667\n",
      "Epoch 430/1000\n",
      "70/70 [==============================] - 0s 1ms/step - loss: 0.8199 - accuracy: 0.6692 - val_loss: 2.0077 - val_accuracy: 0.4800\n",
      "Epoch 431/1000\n",
      "70/70 [==============================] - 0s 1ms/step - loss: 0.7599 - accuracy: 0.7278 - val_loss: 2.0047 - val_accuracy: 0.4800\n",
      "Epoch 432/1000\n",
      "70/70 [==============================] - 0s 1ms/step - loss: 0.7415 - accuracy: 0.7401 - val_loss: 1.9963 - val_accuracy: 0.4800\n",
      "Epoch 433/1000\n",
      "70/70 [==============================] - 0s 1ms/step - loss: 0.7419 - accuracy: 0.7309 - val_loss: 2.0333 - val_accuracy: 0.4833\n",
      "Epoch 434/1000\n",
      "70/70 [==============================] - 0s 1ms/step - loss: 0.7485 - accuracy: 0.7464 - val_loss: 2.0111 - val_accuracy: 0.4867\n",
      "Epoch 435/1000\n",
      "70/70 [==============================] - 0s 1ms/step - loss: 0.7854 - accuracy: 0.7292 - val_loss: 2.0217 - val_accuracy: 0.4767\n",
      "Epoch 436/1000\n",
      "70/70 [==============================] - 0s 1ms/step - loss: 0.7857 - accuracy: 0.7342 - val_loss: 2.0121 - val_accuracy: 0.4667\n",
      "Epoch 437/1000\n",
      "70/70 [==============================] - 0s 1ms/step - loss: 0.7845 - accuracy: 0.7150 - val_loss: 2.0086 - val_accuracy: 0.4767\n",
      "Epoch 438/1000\n",
      "70/70 [==============================] - 0s 1ms/step - loss: 0.7418 - accuracy: 0.7260 - val_loss: 2.0135 - val_accuracy: 0.4933\n",
      "Epoch 439/1000\n",
      "70/70 [==============================] - 0s 1ms/step - loss: 0.8048 - accuracy: 0.7268 - val_loss: 2.0087 - val_accuracy: 0.4633\n",
      "Epoch 440/1000\n",
      "70/70 [==============================] - 0s 1ms/step - loss: 0.8111 - accuracy: 0.7170 - val_loss: 2.0264 - val_accuracy: 0.4767\n",
      "Epoch 441/1000\n",
      "70/70 [==============================] - 0s 1ms/step - loss: 0.7403 - accuracy: 0.7445 - val_loss: 2.0007 - val_accuracy: 0.4733\n",
      "Epoch 442/1000\n",
      "70/70 [==============================] - 0s 1ms/step - loss: 0.8189 - accuracy: 0.7349 - val_loss: 1.9971 - val_accuracy: 0.4833\n",
      "Epoch 443/1000\n",
      "70/70 [==============================] - 0s 1ms/step - loss: 0.8094 - accuracy: 0.7137 - val_loss: 2.0268 - val_accuracy: 0.4900\n",
      "Epoch 444/1000\n",
      "70/70 [==============================] - 0s 1ms/step - loss: 0.7692 - accuracy: 0.7248 - val_loss: 2.0595 - val_accuracy: 0.4767\n",
      "Epoch 445/1000\n",
      "70/70 [==============================] - 0s 1ms/step - loss: 0.7272 - accuracy: 0.7491 - val_loss: 2.0450 - val_accuracy: 0.4700\n",
      "Epoch 446/1000\n",
      "70/70 [==============================] - 0s 1ms/step - loss: 0.7857 - accuracy: 0.7205 - val_loss: 2.0399 - val_accuracy: 0.4733\n",
      "Epoch 447/1000\n",
      "70/70 [==============================] - 0s 1ms/step - loss: 0.7937 - accuracy: 0.7228 - val_loss: 2.0510 - val_accuracy: 0.4800\n",
      "Epoch 448/1000\n",
      "70/70 [==============================] - 0s 1ms/step - loss: 0.7491 - accuracy: 0.7543 - val_loss: 2.0306 - val_accuracy: 0.4833\n",
      "Epoch 449/1000\n",
      "70/70 [==============================] - 0s 1ms/step - loss: 0.7535 - accuracy: 0.7570 - val_loss: 2.0356 - val_accuracy: 0.4900\n",
      "Epoch 450/1000\n",
      "70/70 [==============================] - 0s 1ms/step - loss: 0.7725 - accuracy: 0.7571 - val_loss: 2.0460 - val_accuracy: 0.4600\n",
      "Epoch 451/1000\n",
      "70/70 [==============================] - 0s 1ms/step - loss: 0.7811 - accuracy: 0.7162 - val_loss: 2.0626 - val_accuracy: 0.4800\n",
      "Epoch 452/1000\n",
      "70/70 [==============================] - 0s 1ms/step - loss: 0.7227 - accuracy: 0.7722 - val_loss: 2.0570 - val_accuracy: 0.4800\n",
      "Epoch 453/1000\n",
      "70/70 [==============================] - 0s 1ms/step - loss: 0.7528 - accuracy: 0.7617 - val_loss: 2.0364 - val_accuracy: 0.4667\n",
      "Epoch 454/1000\n",
      "70/70 [==============================] - 0s 1ms/step - loss: 0.7604 - accuracy: 0.7324 - val_loss: 2.0496 - val_accuracy: 0.4700\n",
      "Epoch 455/1000\n",
      "70/70 [==============================] - 0s 1ms/step - loss: 0.6986 - accuracy: 0.7578 - val_loss: 2.0328 - val_accuracy: 0.4800\n",
      "Epoch 456/1000\n",
      "70/70 [==============================] - 0s 1ms/step - loss: 0.7301 - accuracy: 0.7673 - val_loss: 2.0680 - val_accuracy: 0.4667\n"
     ]
    },
    {
     "name": "stdout",
     "output_type": "stream",
     "text": [
      "Epoch 457/1000\n",
      "70/70 [==============================] - 0s 1ms/step - loss: 0.7907 - accuracy: 0.7507 - val_loss: 2.0663 - val_accuracy: 0.4733\n",
      "Epoch 458/1000\n",
      "70/70 [==============================] - 0s 1ms/step - loss: 0.8037 - accuracy: 0.7364 - val_loss: 2.0226 - val_accuracy: 0.4700\n",
      "Epoch 459/1000\n",
      "70/70 [==============================] - 0s 1ms/step - loss: 0.8199 - accuracy: 0.7127 - val_loss: 2.0642 - val_accuracy: 0.4733\n",
      "Epoch 460/1000\n",
      "70/70 [==============================] - 0s 1ms/step - loss: 0.7687 - accuracy: 0.7294 - val_loss: 2.0821 - val_accuracy: 0.4767\n",
      "Epoch 461/1000\n",
      "70/70 [==============================] - 0s 1ms/step - loss: 0.7425 - accuracy: 0.7428 - val_loss: 2.0468 - val_accuracy: 0.4733\n",
      "Epoch 462/1000\n",
      "70/70 [==============================] - 0s 1ms/step - loss: 0.7425 - accuracy: 0.7614 - val_loss: 2.0796 - val_accuracy: 0.4667\n",
      "Epoch 463/1000\n",
      "70/70 [==============================] - 0s 1ms/step - loss: 0.7469 - accuracy: 0.7621 - val_loss: 2.0468 - val_accuracy: 0.4767\n",
      "Epoch 464/1000\n",
      "70/70 [==============================] - 0s 1ms/step - loss: 0.7881 - accuracy: 0.7010 - val_loss: 2.0631 - val_accuracy: 0.4833\n",
      "Epoch 465/1000\n",
      "70/70 [==============================] - 0s 1ms/step - loss: 0.7452 - accuracy: 0.7646 - val_loss: 2.0702 - val_accuracy: 0.4700\n",
      "Epoch 466/1000\n",
      "70/70 [==============================] - 0s 1ms/step - loss: 0.7701 - accuracy: 0.7462 - val_loss: 2.0755 - val_accuracy: 0.4767\n",
      "Epoch 467/1000\n",
      "70/70 [==============================] - 0s 1ms/step - loss: 0.7862 - accuracy: 0.7121 - val_loss: 2.0888 - val_accuracy: 0.4633\n",
      "Epoch 468/1000\n",
      "70/70 [==============================] - 0s 1ms/step - loss: 0.8011 - accuracy: 0.7281 - val_loss: 2.0714 - val_accuracy: 0.4567\n",
      "Epoch 469/1000\n",
      "70/70 [==============================] - 0s 1ms/step - loss: 0.7263 - accuracy: 0.7582 - val_loss: 2.0812 - val_accuracy: 0.4667\n",
      "Epoch 470/1000\n",
      "70/70 [==============================] - 0s 1ms/step - loss: 0.7327 - accuracy: 0.7343 - val_loss: 2.0951 - val_accuracy: 0.4833\n",
      "Epoch 471/1000\n",
      "70/70 [==============================] - 0s 1ms/step - loss: 0.7100 - accuracy: 0.7591 - val_loss: 2.1049 - val_accuracy: 0.4767\n",
      "Epoch 472/1000\n",
      "70/70 [==============================] - 0s 1ms/step - loss: 0.7432 - accuracy: 0.7597 - val_loss: 2.0793 - val_accuracy: 0.4733\n",
      "Epoch 473/1000\n",
      "70/70 [==============================] - 0s 1ms/step - loss: 0.7631 - accuracy: 0.7381 - val_loss: 2.0793 - val_accuracy: 0.4733\n",
      "Epoch 474/1000\n",
      "70/70 [==============================] - 0s 1ms/step - loss: 0.7697 - accuracy: 0.7363 - val_loss: 2.0801 - val_accuracy: 0.4733\n",
      "Epoch 475/1000\n",
      "70/70 [==============================] - 0s 1ms/step - loss: 0.7813 - accuracy: 0.7374 - val_loss: 2.1236 - val_accuracy: 0.4633\n",
      "Epoch 476/1000\n",
      "70/70 [==============================] - 0s 1ms/step - loss: 0.7240 - accuracy: 0.7477 - val_loss: 2.0844 - val_accuracy: 0.4667\n",
      "Epoch 477/1000\n",
      "70/70 [==============================] - 0s 1ms/step - loss: 0.7361 - accuracy: 0.7663 - val_loss: 2.1157 - val_accuracy: 0.4667\n",
      "Epoch 478/1000\n",
      "70/70 [==============================] - 0s 1ms/step - loss: 0.7227 - accuracy: 0.7567 - val_loss: 2.0930 - val_accuracy: 0.4700\n",
      "Epoch 479/1000\n",
      "70/70 [==============================] - 0s 1ms/step - loss: 0.7298 - accuracy: 0.7583 - val_loss: 2.0894 - val_accuracy: 0.4867\n",
      "Epoch 480/1000\n",
      "70/70 [==============================] - 0s 1ms/step - loss: 0.7375 - accuracy: 0.7433 - val_loss: 2.0706 - val_accuracy: 0.4733\n",
      "Epoch 481/1000\n",
      "70/70 [==============================] - 0s 1ms/step - loss: 0.7297 - accuracy: 0.7530 - val_loss: 2.1143 - val_accuracy: 0.4767\n",
      "Epoch 482/1000\n",
      "70/70 [==============================] - 0s 1ms/step - loss: 0.7565 - accuracy: 0.7410 - val_loss: 2.1099 - val_accuracy: 0.4633\n",
      "Epoch 483/1000\n",
      "70/70 [==============================] - 0s 1ms/step - loss: 0.7680 - accuracy: 0.7137 - val_loss: 2.1013 - val_accuracy: 0.4833\n",
      "Epoch 484/1000\n",
      "70/70 [==============================] - 0s 1ms/step - loss: 0.7382 - accuracy: 0.7592 - val_loss: 2.1212 - val_accuracy: 0.4733\n",
      "Epoch 485/1000\n",
      "70/70 [==============================] - 0s 1ms/step - loss: 0.7333 - accuracy: 0.7333 - val_loss: 2.1119 - val_accuracy: 0.4600\n",
      "Epoch 486/1000\n",
      "70/70 [==============================] - 0s 1ms/step - loss: 0.7548 - accuracy: 0.7577 - val_loss: 2.1196 - val_accuracy: 0.4600\n",
      "Epoch 487/1000\n",
      "70/70 [==============================] - 0s 1ms/step - loss: 0.7304 - accuracy: 0.7655 - val_loss: 2.1320 - val_accuracy: 0.4667\n",
      "Epoch 488/1000\n",
      "70/70 [==============================] - 0s 1ms/step - loss: 0.7730 - accuracy: 0.7545 - val_loss: 2.1257 - val_accuracy: 0.4767\n",
      "Epoch 489/1000\n",
      "70/70 [==============================] - 0s 1ms/step - loss: 0.7251 - accuracy: 0.7536 - val_loss: 2.1024 - val_accuracy: 0.4833\n",
      "Epoch 490/1000\n",
      "70/70 [==============================] - 0s 1ms/step - loss: 0.8012 - accuracy: 0.7145 - val_loss: 2.1197 - val_accuracy: 0.4667\n",
      "Epoch 491/1000\n",
      "70/70 [==============================] - 0s 1ms/step - loss: 0.7523 - accuracy: 0.7607 - val_loss: 2.1109 - val_accuracy: 0.4700\n",
      "Epoch 492/1000\n",
      "70/70 [==============================] - 0s 1ms/step - loss: 0.8036 - accuracy: 0.7524 - val_loss: 2.1331 - val_accuracy: 0.4667\n",
      "Epoch 493/1000\n",
      "70/70 [==============================] - 0s 1ms/step - loss: 0.6922 - accuracy: 0.7749 - val_loss: 2.1363 - val_accuracy: 0.4767\n",
      "Epoch 494/1000\n",
      "70/70 [==============================] - 0s 1ms/step - loss: 0.7285 - accuracy: 0.7443 - val_loss: 2.1410 - val_accuracy: 0.4733\n",
      "Epoch 495/1000\n",
      "70/70 [==============================] - 0s 1ms/step - loss: 0.7608 - accuracy: 0.7447 - val_loss: 2.1266 - val_accuracy: 0.4667\n",
      "Epoch 496/1000\n",
      "70/70 [==============================] - 0s 1ms/step - loss: 0.7100 - accuracy: 0.7540 - val_loss: 2.1440 - val_accuracy: 0.4867\n",
      "Epoch 497/1000\n",
      "70/70 [==============================] - 0s 1ms/step - loss: 0.7284 - accuracy: 0.7659 - val_loss: 2.1437 - val_accuracy: 0.4767\n",
      "Epoch 498/1000\n",
      "70/70 [==============================] - 0s 1ms/step - loss: 0.7201 - accuracy: 0.7701 - val_loss: 2.1216 - val_accuracy: 0.4800\n",
      "Epoch 499/1000\n",
      "70/70 [==============================] - 0s 1ms/step - loss: 0.7393 - accuracy: 0.7281 - val_loss: 2.1570 - val_accuracy: 0.4733\n",
      "Epoch 500/1000\n",
      "70/70 [==============================] - 0s 1ms/step - loss: 0.8063 - accuracy: 0.7512 - val_loss: 2.1499 - val_accuracy: 0.4767\n",
      "Epoch 501/1000\n",
      "70/70 [==============================] - 0s 1ms/step - loss: 0.7987 - accuracy: 0.7173 - val_loss: 2.1373 - val_accuracy: 0.4767\n",
      "Epoch 502/1000\n",
      "70/70 [==============================] - 0s 1ms/step - loss: 0.7013 - accuracy: 0.7790 - val_loss: 2.1303 - val_accuracy: 0.4800\n",
      "Epoch 503/1000\n",
      "70/70 [==============================] - 0s 2ms/step - loss: 0.7646 - accuracy: 0.7191 - val_loss: 2.1592 - val_accuracy: 0.4633\n",
      "Epoch 504/1000\n",
      "70/70 [==============================] - 0s 1ms/step - loss: 0.7169 - accuracy: 0.7694 - val_loss: 2.1217 - val_accuracy: 0.4667\n",
      "Epoch 505/1000\n",
      "70/70 [==============================] - 0s 1ms/step - loss: 0.7352 - accuracy: 0.7539 - val_loss: 2.1700 - val_accuracy: 0.4700\n",
      "Epoch 506/1000\n",
      "70/70 [==============================] - 0s 1ms/step - loss: 0.7614 - accuracy: 0.7264 - val_loss: 2.1537 - val_accuracy: 0.4700\n",
      "Epoch 507/1000\n",
      "70/70 [==============================] - 0s 1ms/step - loss: 0.7861 - accuracy: 0.7405 - val_loss: 2.1520 - val_accuracy: 0.4633\n",
      "Epoch 508/1000\n",
      "70/70 [==============================] - 0s 1ms/step - loss: 0.7837 - accuracy: 0.7479 - val_loss: 2.1391 - val_accuracy: 0.4733\n",
      "Epoch 509/1000\n",
      "70/70 [==============================] - 0s 1ms/step - loss: 0.7446 - accuracy: 0.7511 - val_loss: 2.1356 - val_accuracy: 0.4733\n",
      "Epoch 510/1000\n",
      "70/70 [==============================] - 0s 1ms/step - loss: 0.7723 - accuracy: 0.7265 - val_loss: 2.1781 - val_accuracy: 0.4700\n",
      "Epoch 511/1000\n",
      "70/70 [==============================] - 0s 1ms/step - loss: 0.7225 - accuracy: 0.7536 - val_loss: 2.1352 - val_accuracy: 0.4767\n",
      "Epoch 512/1000\n",
      "70/70 [==============================] - 0s 1ms/step - loss: 0.7405 - accuracy: 0.7783 - val_loss: 2.1769 - val_accuracy: 0.4600\n",
      "Epoch 513/1000\n",
      "70/70 [==============================] - 0s 1ms/step - loss: 0.7567 - accuracy: 0.7515 - val_loss: 2.1666 - val_accuracy: 0.4533\n"
     ]
    },
    {
     "name": "stdout",
     "output_type": "stream",
     "text": [
      "Epoch 514/1000\n",
      "70/70 [==============================] - 0s 1ms/step - loss: 0.7474 - accuracy: 0.7356 - val_loss: 2.1317 - val_accuracy: 0.4800\n",
      "Epoch 515/1000\n",
      "70/70 [==============================] - 0s 1ms/step - loss: 0.7747 - accuracy: 0.7163 - val_loss: 2.1677 - val_accuracy: 0.4633\n",
      "Epoch 516/1000\n",
      "70/70 [==============================] - 0s 1ms/step - loss: 0.7628 - accuracy: 0.7482 - val_loss: 2.1696 - val_accuracy: 0.4633\n",
      "Epoch 517/1000\n",
      "70/70 [==============================] - 0s 1ms/step - loss: 0.7243 - accuracy: 0.7487 - val_loss: 2.1759 - val_accuracy: 0.4700\n",
      "Epoch 518/1000\n",
      "70/70 [==============================] - 0s 1ms/step - loss: 0.7246 - accuracy: 0.7572 - val_loss: 2.1665 - val_accuracy: 0.4767\n",
      "Epoch 519/1000\n",
      "70/70 [==============================] - 0s 1ms/step - loss: 0.7258 - accuracy: 0.7452 - val_loss: 2.1907 - val_accuracy: 0.4533\n",
      "Epoch 520/1000\n",
      "70/70 [==============================] - 0s 1ms/step - loss: 0.7077 - accuracy: 0.7431 - val_loss: 2.1729 - val_accuracy: 0.4767\n",
      "Epoch 521/1000\n",
      "70/70 [==============================] - 0s 1ms/step - loss: 0.7468 - accuracy: 0.7471 - val_loss: 2.1666 - val_accuracy: 0.4500\n",
      "Epoch 522/1000\n",
      "70/70 [==============================] - 0s 1ms/step - loss: 0.7001 - accuracy: 0.7496 - val_loss: 2.1703 - val_accuracy: 0.4700\n",
      "Epoch 523/1000\n",
      "70/70 [==============================] - 0s 1ms/step - loss: 0.7631 - accuracy: 0.7410 - val_loss: 2.1560 - val_accuracy: 0.4633\n",
      "Epoch 524/1000\n",
      "70/70 [==============================] - 0s 1ms/step - loss: 0.7888 - accuracy: 0.7486 - val_loss: 2.1946 - val_accuracy: 0.4533\n",
      "Epoch 525/1000\n",
      "70/70 [==============================] - 0s 1ms/step - loss: 0.7429 - accuracy: 0.7506 - val_loss: 2.2065 - val_accuracy: 0.4767\n",
      "Epoch 526/1000\n",
      "70/70 [==============================] - 0s 1ms/step - loss: 0.7636 - accuracy: 0.7272 - val_loss: 2.1821 - val_accuracy: 0.4533\n",
      "Epoch 527/1000\n",
      "70/70 [==============================] - 0s 1ms/step - loss: 0.7272 - accuracy: 0.7456 - val_loss: 2.1988 - val_accuracy: 0.4700\n",
      "Epoch 528/1000\n",
      "70/70 [==============================] - 0s 1ms/step - loss: 0.7402 - accuracy: 0.7593 - val_loss: 2.1837 - val_accuracy: 0.4567\n",
      "Epoch 529/1000\n",
      "70/70 [==============================] - 0s 1ms/step - loss: 0.7350 - accuracy: 0.7595 - val_loss: 2.2037 - val_accuracy: 0.4667\n",
      "Epoch 530/1000\n",
      "70/70 [==============================] - 0s 1ms/step - loss: 0.7034 - accuracy: 0.7857 - val_loss: 2.1868 - val_accuracy: 0.4633\n",
      "Epoch 531/1000\n",
      "70/70 [==============================] - 0s 1ms/step - loss: 0.7064 - accuracy: 0.7492 - val_loss: 2.2008 - val_accuracy: 0.4533\n",
      "Epoch 532/1000\n",
      "70/70 [==============================] - 0s 1ms/step - loss: 0.7197 - accuracy: 0.7665 - val_loss: 2.2123 - val_accuracy: 0.4567\n",
      "Epoch 533/1000\n",
      "70/70 [==============================] - 0s 1ms/step - loss: 0.7083 - accuracy: 0.7499 - val_loss: 2.1954 - val_accuracy: 0.4567\n",
      "Epoch 534/1000\n",
      "70/70 [==============================] - 0s 1ms/step - loss: 0.7053 - accuracy: 0.7698 - val_loss: 2.1950 - val_accuracy: 0.4800\n",
      "Epoch 535/1000\n",
      "70/70 [==============================] - 0s 1ms/step - loss: 0.6887 - accuracy: 0.7629 - val_loss: 2.1972 - val_accuracy: 0.4567\n",
      "Epoch 536/1000\n",
      "70/70 [==============================] - 0s 1ms/step - loss: 0.7314 - accuracy: 0.7639 - val_loss: 2.1945 - val_accuracy: 0.4600\n",
      "Epoch 537/1000\n",
      "70/70 [==============================] - 0s 1ms/step - loss: 0.7231 - accuracy: 0.7843 - val_loss: 2.2201 - val_accuracy: 0.4567\n",
      "Epoch 538/1000\n",
      "70/70 [==============================] - 0s 1ms/step - loss: 0.6505 - accuracy: 0.7839 - val_loss: 2.2218 - val_accuracy: 0.4600\n",
      "Epoch 539/1000\n",
      "70/70 [==============================] - 0s 1ms/step - loss: 0.7512 - accuracy: 0.7309 - val_loss: 2.2305 - val_accuracy: 0.4633\n",
      "Epoch 540/1000\n",
      "70/70 [==============================] - 0s 1ms/step - loss: 0.7106 - accuracy: 0.7535 - val_loss: 2.2012 - val_accuracy: 0.4767\n",
      "Epoch 541/1000\n",
      "70/70 [==============================] - 0s 1ms/step - loss: 0.7099 - accuracy: 0.7629 - val_loss: 2.1961 - val_accuracy: 0.4733\n",
      "Epoch 542/1000\n",
      "70/70 [==============================] - 0s 1ms/step - loss: 0.7316 - accuracy: 0.7654 - val_loss: 2.2342 - val_accuracy: 0.4633\n",
      "Epoch 543/1000\n",
      "70/70 [==============================] - 0s 1ms/step - loss: 0.7103 - accuracy: 0.7478 - val_loss: 2.2121 - val_accuracy: 0.4867\n",
      "Epoch 544/1000\n",
      "70/70 [==============================] - 0s 1ms/step - loss: 0.7025 - accuracy: 0.7664 - val_loss: 2.2117 - val_accuracy: 0.4567\n",
      "Epoch 545/1000\n",
      "70/70 [==============================] - 0s 1ms/step - loss: 0.6810 - accuracy: 0.7665 - val_loss: 2.2442 - val_accuracy: 0.4600\n",
      "Epoch 546/1000\n",
      "70/70 [==============================] - 0s 1ms/step - loss: 0.7406 - accuracy: 0.7297 - val_loss: 2.2421 - val_accuracy: 0.4700\n",
      "Epoch 547/1000\n",
      "70/70 [==============================] - 0s 1ms/step - loss: 0.7360 - accuracy: 0.7409 - val_loss: 2.2358 - val_accuracy: 0.4733\n",
      "Epoch 548/1000\n",
      "70/70 [==============================] - 0s 1ms/step - loss: 0.7836 - accuracy: 0.7513 - val_loss: 2.2176 - val_accuracy: 0.4633\n",
      "Epoch 549/1000\n",
      "70/70 [==============================] - 0s 1ms/step - loss: 0.7542 - accuracy: 0.7425 - val_loss: 2.2436 - val_accuracy: 0.4633\n",
      "Epoch 550/1000\n",
      "70/70 [==============================] - 0s 1ms/step - loss: 0.7776 - accuracy: 0.7359 - val_loss: 2.2196 - val_accuracy: 0.4600\n",
      "Epoch 551/1000\n",
      "70/70 [==============================] - 0s 1ms/step - loss: 0.6837 - accuracy: 0.7909 - val_loss: 2.2211 - val_accuracy: 0.4567\n",
      "Epoch 552/1000\n",
      "70/70 [==============================] - 0s 1ms/step - loss: 0.7544 - accuracy: 0.7442 - val_loss: 2.2286 - val_accuracy: 0.4533\n",
      "Epoch 553/1000\n",
      "70/70 [==============================] - 0s 1ms/step - loss: 0.6922 - accuracy: 0.7707 - val_loss: 2.2385 - val_accuracy: 0.4733\n",
      "Epoch 554/1000\n",
      "70/70 [==============================] - 0s 1ms/step - loss: 0.7059 - accuracy: 0.7646 - val_loss: 2.2123 - val_accuracy: 0.4600\n",
      "Epoch 555/1000\n",
      "70/70 [==============================] - 0s 1ms/step - loss: 0.6887 - accuracy: 0.7553 - val_loss: 2.2466 - val_accuracy: 0.4600\n",
      "Epoch 556/1000\n",
      "70/70 [==============================] - 0s 1ms/step - loss: 0.7430 - accuracy: 0.7344 - val_loss: 2.2544 - val_accuracy: 0.4600\n",
      "Epoch 557/1000\n",
      "70/70 [==============================] - 0s 1ms/step - loss: 0.7044 - accuracy: 0.7397 - val_loss: 2.2395 - val_accuracy: 0.4733\n",
      "Epoch 558/1000\n",
      "70/70 [==============================] - 0s 1ms/step - loss: 0.7294 - accuracy: 0.7618 - val_loss: 2.2484 - val_accuracy: 0.4733\n",
      "Epoch 559/1000\n",
      "70/70 [==============================] - 0s 1ms/step - loss: 0.7247 - accuracy: 0.7387 - val_loss: 2.2292 - val_accuracy: 0.4700\n",
      "Epoch 560/1000\n",
      "70/70 [==============================] - 0s 1ms/step - loss: 0.6912 - accuracy: 0.7578 - val_loss: 2.2475 - val_accuracy: 0.4767\n",
      "Epoch 561/1000\n",
      "70/70 [==============================] - 0s 1ms/step - loss: 0.7089 - accuracy: 0.7504 - val_loss: 2.2626 - val_accuracy: 0.4667\n",
      "Epoch 562/1000\n",
      "70/70 [==============================] - 0s 1ms/step - loss: 0.7111 - accuracy: 0.7641 - val_loss: 2.2838 - val_accuracy: 0.4633\n",
      "Epoch 563/1000\n",
      "70/70 [==============================] - 0s 1ms/step - loss: 0.7126 - accuracy: 0.7591 - val_loss: 2.2407 - val_accuracy: 0.4533\n",
      "Epoch 564/1000\n",
      "70/70 [==============================] - 0s 1ms/step - loss: 0.6980 - accuracy: 0.7721 - val_loss: 2.2413 - val_accuracy: 0.4700\n",
      "Epoch 565/1000\n",
      "70/70 [==============================] - 0s 1ms/step - loss: 0.7055 - accuracy: 0.7579 - val_loss: 2.2394 - val_accuracy: 0.4467\n",
      "Epoch 566/1000\n",
      "70/70 [==============================] - 0s 1ms/step - loss: 0.7974 - accuracy: 0.7330 - val_loss: 2.2541 - val_accuracy: 0.4633\n",
      "Epoch 567/1000\n",
      "70/70 [==============================] - 0s 1ms/step - loss: 0.6990 - accuracy: 0.7604 - val_loss: 2.2443 - val_accuracy: 0.4767\n",
      "Epoch 568/1000\n",
      "70/70 [==============================] - 0s 1ms/step - loss: 0.7204 - accuracy: 0.7725 - val_loss: 2.2405 - val_accuracy: 0.4800\n",
      "Epoch 569/1000\n",
      "70/70 [==============================] - 0s 1ms/step - loss: 0.7471 - accuracy: 0.7335 - val_loss: 2.2768 - val_accuracy: 0.4700\n",
      "Epoch 570/1000\n",
      "70/70 [==============================] - 0s 1ms/step - loss: 0.7360 - accuracy: 0.7553 - val_loss: 2.2727 - val_accuracy: 0.4700\n"
     ]
    },
    {
     "name": "stdout",
     "output_type": "stream",
     "text": [
      "Epoch 571/1000\n",
      "70/70 [==============================] - 0s 1ms/step - loss: 0.7041 - accuracy: 0.7697 - val_loss: 2.2841 - val_accuracy: 0.4633\n",
      "Epoch 572/1000\n",
      "70/70 [==============================] - 0s 1ms/step - loss: 0.6922 - accuracy: 0.7709 - val_loss: 2.2848 - val_accuracy: 0.4467\n",
      "Epoch 573/1000\n",
      "70/70 [==============================] - 0s 1ms/step - loss: 0.7476 - accuracy: 0.7518 - val_loss: 2.2851 - val_accuracy: 0.4733\n",
      "Epoch 574/1000\n",
      "70/70 [==============================] - 0s 1ms/step - loss: 0.7040 - accuracy: 0.7667 - val_loss: 2.2875 - val_accuracy: 0.4600\n",
      "Epoch 575/1000\n",
      "70/70 [==============================] - 0s 1ms/step - loss: 0.7432 - accuracy: 0.7500 - val_loss: 2.2663 - val_accuracy: 0.4733\n",
      "Epoch 576/1000\n",
      "70/70 [==============================] - 0s 1ms/step - loss: 0.7166 - accuracy: 0.7551 - val_loss: 2.2748 - val_accuracy: 0.4800\n",
      "Epoch 577/1000\n",
      "70/70 [==============================] - 0s 1ms/step - loss: 0.6811 - accuracy: 0.7729 - val_loss: 2.2857 - val_accuracy: 0.4467\n",
      "Epoch 578/1000\n",
      "70/70 [==============================] - 0s 1ms/step - loss: 0.6906 - accuracy: 0.7440 - val_loss: 2.2305 - val_accuracy: 0.4733\n",
      "Epoch 579/1000\n",
      "70/70 [==============================] - 0s 1ms/step - loss: 0.7026 - accuracy: 0.7596 - val_loss: 2.2932 - val_accuracy: 0.4500\n",
      "Epoch 580/1000\n",
      "70/70 [==============================] - 0s 1ms/step - loss: 0.6984 - accuracy: 0.7619 - val_loss: 2.3148 - val_accuracy: 0.4600\n",
      "Epoch 581/1000\n",
      "70/70 [==============================] - 0s 1ms/step - loss: 0.6961 - accuracy: 0.7615 - val_loss: 2.2587 - val_accuracy: 0.4667\n",
      "Epoch 582/1000\n",
      "70/70 [==============================] - 0s 1ms/step - loss: 0.7154 - accuracy: 0.7606 - val_loss: 2.2903 - val_accuracy: 0.4767\n",
      "Epoch 583/1000\n",
      "70/70 [==============================] - 0s 1ms/step - loss: 0.7428 - accuracy: 0.7659 - val_loss: 2.2874 - val_accuracy: 0.4767\n",
      "Epoch 584/1000\n",
      "70/70 [==============================] - 0s 1ms/step - loss: 0.7495 - accuracy: 0.7615 - val_loss: 2.2794 - val_accuracy: 0.4733\n",
      "Epoch 585/1000\n",
      "70/70 [==============================] - 0s 1ms/step - loss: 0.6990 - accuracy: 0.7634 - val_loss: 2.2960 - val_accuracy: 0.4467\n",
      "Epoch 586/1000\n",
      "70/70 [==============================] - 0s 1ms/step - loss: 0.7146 - accuracy: 0.7477 - val_loss: 2.3087 - val_accuracy: 0.4433\n",
      "Epoch 587/1000\n",
      "70/70 [==============================] - 0s 1ms/step - loss: 0.7408 - accuracy: 0.7510 - val_loss: 2.2742 - val_accuracy: 0.4467\n",
      "Epoch 588/1000\n",
      "70/70 [==============================] - 0s 1ms/step - loss: 0.6927 - accuracy: 0.7565 - val_loss: 2.2773 - val_accuracy: 0.4733\n",
      "Epoch 589/1000\n",
      "70/70 [==============================] - 0s 1ms/step - loss: 0.7060 - accuracy: 0.7625 - val_loss: 2.2834 - val_accuracy: 0.4767\n",
      "Epoch 590/1000\n",
      "70/70 [==============================] - 0s 1ms/step - loss: 0.6670 - accuracy: 0.7679 - val_loss: 2.2732 - val_accuracy: 0.4767\n",
      "Epoch 591/1000\n",
      "70/70 [==============================] - 0s 1ms/step - loss: 0.7244 - accuracy: 0.7328 - val_loss: 2.3069 - val_accuracy: 0.4400\n",
      "Epoch 592/1000\n",
      "70/70 [==============================] - 0s 1ms/step - loss: 0.7165 - accuracy: 0.7405 - val_loss: 2.3092 - val_accuracy: 0.4733\n",
      "Epoch 593/1000\n",
      "70/70 [==============================] - 0s 1ms/step - loss: 0.7045 - accuracy: 0.7615 - val_loss: 2.2966 - val_accuracy: 0.4500\n",
      "Epoch 594/1000\n",
      "70/70 [==============================] - 0s 1ms/step - loss: 0.7390 - accuracy: 0.7343 - val_loss: 2.2984 - val_accuracy: 0.4533\n",
      "Epoch 595/1000\n",
      "70/70 [==============================] - 0s 1ms/step - loss: 0.7317 - accuracy: 0.7445 - val_loss: 2.2986 - val_accuracy: 0.4733\n",
      "Epoch 596/1000\n",
      "70/70 [==============================] - 0s 1ms/step - loss: 0.7275 - accuracy: 0.7270 - val_loss: 2.3255 - val_accuracy: 0.4567\n",
      "Epoch 597/1000\n",
      "70/70 [==============================] - 0s 1ms/step - loss: 0.7033 - accuracy: 0.7719 - val_loss: 2.2996 - val_accuracy: 0.4400\n",
      "Epoch 598/1000\n",
      "70/70 [==============================] - 0s 1ms/step - loss: 0.7133 - accuracy: 0.7675 - val_loss: 2.3266 - val_accuracy: 0.4767\n",
      "Epoch 599/1000\n",
      "70/70 [==============================] - 0s 1ms/step - loss: 0.7289 - accuracy: 0.7546 - val_loss: 2.3063 - val_accuracy: 0.4667\n",
      "Epoch 600/1000\n",
      "70/70 [==============================] - 0s 1ms/step - loss: 0.7310 - accuracy: 0.7409 - val_loss: 2.3069 - val_accuracy: 0.4567\n",
      "Epoch 601/1000\n",
      "70/70 [==============================] - 0s 1ms/step - loss: 0.6972 - accuracy: 0.7614 - val_loss: 2.2927 - val_accuracy: 0.4667\n",
      "Epoch 602/1000\n",
      "70/70 [==============================] - 0s 1ms/step - loss: 0.7254 - accuracy: 0.7654 - val_loss: 2.3110 - val_accuracy: 0.4600\n",
      "Epoch 603/1000\n",
      "70/70 [==============================] - 0s 1ms/step - loss: 0.7431 - accuracy: 0.7628 - val_loss: 2.3284 - val_accuracy: 0.4633\n",
      "Epoch 604/1000\n",
      "70/70 [==============================] - 0s 1ms/step - loss: 0.7167 - accuracy: 0.7786 - val_loss: 2.3005 - val_accuracy: 0.4567\n",
      "Epoch 605/1000\n",
      "70/70 [==============================] - 0s 1ms/step - loss: 0.6999 - accuracy: 0.7651 - val_loss: 2.3458 - val_accuracy: 0.4467\n",
      "Epoch 606/1000\n",
      "70/70 [==============================] - 0s 1ms/step - loss: 0.6623 - accuracy: 0.7685 - val_loss: 2.3251 - val_accuracy: 0.4433\n",
      "Epoch 607/1000\n",
      "70/70 [==============================] - 0s 1ms/step - loss: 0.6599 - accuracy: 0.7781 - val_loss: 2.3337 - val_accuracy: 0.4467\n",
      "Epoch 608/1000\n",
      "70/70 [==============================] - 0s 1ms/step - loss: 0.7359 - accuracy: 0.7406 - val_loss: 2.3483 - val_accuracy: 0.4467\n",
      "Epoch 609/1000\n",
      "70/70 [==============================] - 0s 1ms/step - loss: 0.7535 - accuracy: 0.7730 - val_loss: 2.3637 - val_accuracy: 0.4667\n",
      "Epoch 610/1000\n",
      "70/70 [==============================] - 0s 1ms/step - loss: 0.7653 - accuracy: 0.7521 - val_loss: 2.3209 - val_accuracy: 0.4500\n",
      "Epoch 611/1000\n",
      "70/70 [==============================] - 0s 1ms/step - loss: 0.7165 - accuracy: 0.7593 - val_loss: 2.3148 - val_accuracy: 0.4633\n",
      "Epoch 612/1000\n",
      "70/70 [==============================] - 0s 1ms/step - loss: 0.6771 - accuracy: 0.7663 - val_loss: 2.3562 - val_accuracy: 0.4567\n",
      "Epoch 613/1000\n",
      "70/70 [==============================] - 0s 1ms/step - loss: 0.6980 - accuracy: 0.7431 - val_loss: 2.3384 - val_accuracy: 0.4433\n",
      "Epoch 614/1000\n",
      "70/70 [==============================] - 0s 1ms/step - loss: 0.7031 - accuracy: 0.7337 - val_loss: 2.3431 - val_accuracy: 0.4533\n",
      "Epoch 615/1000\n",
      "70/70 [==============================] - 0s 1ms/step - loss: 0.6881 - accuracy: 0.7567 - val_loss: 2.3418 - val_accuracy: 0.4767\n",
      "Epoch 616/1000\n",
      "70/70 [==============================] - 0s 1ms/step - loss: 0.6694 - accuracy: 0.7805 - val_loss: 2.3532 - val_accuracy: 0.4533\n",
      "Epoch 617/1000\n",
      "70/70 [==============================] - 0s 1ms/step - loss: 0.6974 - accuracy: 0.7662 - val_loss: 2.3555 - val_accuracy: 0.4567\n",
      "Epoch 618/1000\n",
      "70/70 [==============================] - 0s 1ms/step - loss: 0.6752 - accuracy: 0.7968 - val_loss: 2.3282 - val_accuracy: 0.4667\n",
      "Epoch 619/1000\n",
      "70/70 [==============================] - 0s 1ms/step - loss: 0.6692 - accuracy: 0.7682 - val_loss: 2.3851 - val_accuracy: 0.4400\n",
      "Epoch 620/1000\n",
      "70/70 [==============================] - 0s 1ms/step - loss: 0.7033 - accuracy: 0.7711 - val_loss: 2.3432 - val_accuracy: 0.4533\n",
      "Epoch 621/1000\n",
      "70/70 [==============================] - 0s 1ms/step - loss: 0.7364 - accuracy: 0.7210 - val_loss: 2.3615 - val_accuracy: 0.4667\n",
      "Epoch 622/1000\n",
      "70/70 [==============================] - 0s 1ms/step - loss: 0.7049 - accuracy: 0.7733 - val_loss: 2.3571 - val_accuracy: 0.4500\n",
      "Epoch 623/1000\n",
      "70/70 [==============================] - 0s 1ms/step - loss: 0.6757 - accuracy: 0.7667 - val_loss: 2.3437 - val_accuracy: 0.4633\n",
      "Epoch 624/1000\n",
      "70/70 [==============================] - 0s 1ms/step - loss: 0.7004 - accuracy: 0.7559 - val_loss: 2.3400 - val_accuracy: 0.4633\n",
      "Epoch 625/1000\n",
      "70/70 [==============================] - 0s 1ms/step - loss: 0.7092 - accuracy: 0.7573 - val_loss: 2.3789 - val_accuracy: 0.4600\n",
      "Epoch 626/1000\n",
      "70/70 [==============================] - 0s 1ms/step - loss: 0.7350 - accuracy: 0.7460 - val_loss: 2.3717 - val_accuracy: 0.4533\n",
      "Epoch 627/1000\n",
      "70/70 [==============================] - 0s 1ms/step - loss: 0.7045 - accuracy: 0.7646 - val_loss: 2.3621 - val_accuracy: 0.4533\n"
     ]
    },
    {
     "name": "stdout",
     "output_type": "stream",
     "text": [
      "Epoch 628/1000\n",
      "70/70 [==============================] - 0s 1ms/step - loss: 0.6683 - accuracy: 0.7858 - val_loss: 2.3648 - val_accuracy: 0.4600\n",
      "Epoch 629/1000\n",
      "70/70 [==============================] - 0s 1ms/step - loss: 0.6865 - accuracy: 0.7625 - val_loss: 2.3618 - val_accuracy: 0.4633\n",
      "Epoch 630/1000\n",
      "70/70 [==============================] - 0s 1ms/step - loss: 0.7046 - accuracy: 0.7721 - val_loss: 2.3709 - val_accuracy: 0.4433\n",
      "Epoch 631/1000\n",
      "70/70 [==============================] - 0s 1ms/step - loss: 0.6936 - accuracy: 0.7605 - val_loss: 2.3609 - val_accuracy: 0.4567\n",
      "Epoch 632/1000\n",
      "70/70 [==============================] - 0s 1ms/step - loss: 0.6974 - accuracy: 0.7655 - val_loss: 2.3779 - val_accuracy: 0.4433\n",
      "Epoch 633/1000\n",
      "70/70 [==============================] - 0s 1ms/step - loss: 0.7103 - accuracy: 0.7545 - val_loss: 2.3494 - val_accuracy: 0.4600\n",
      "Epoch 634/1000\n",
      "70/70 [==============================] - 0s 1ms/step - loss: 0.6884 - accuracy: 0.7729 - val_loss: 2.3983 - val_accuracy: 0.4433\n",
      "Epoch 635/1000\n",
      "70/70 [==============================] - 0s 1ms/step - loss: 0.7100 - accuracy: 0.7464 - val_loss: 2.4064 - val_accuracy: 0.4433\n",
      "Epoch 636/1000\n",
      "70/70 [==============================] - 0s 1ms/step - loss: 0.6773 - accuracy: 0.7891 - val_loss: 2.3903 - val_accuracy: 0.4433\n",
      "Epoch 637/1000\n",
      "70/70 [==============================] - 0s 1ms/step - loss: 0.6806 - accuracy: 0.7574 - val_loss: 2.3869 - val_accuracy: 0.4667\n",
      "Epoch 638/1000\n",
      "70/70 [==============================] - 0s 1ms/step - loss: 0.6608 - accuracy: 0.7775 - val_loss: 2.3847 - val_accuracy: 0.4467\n",
      "Epoch 639/1000\n",
      "70/70 [==============================] - 0s 1ms/step - loss: 0.7022 - accuracy: 0.7701 - val_loss: 2.3655 - val_accuracy: 0.4633\n",
      "Epoch 640/1000\n",
      "70/70 [==============================] - 0s 1ms/step - loss: 0.7396 - accuracy: 0.7436 - val_loss: 2.3694 - val_accuracy: 0.4600\n",
      "Epoch 641/1000\n",
      "70/70 [==============================] - 0s 1ms/step - loss: 0.6690 - accuracy: 0.7421 - val_loss: 2.3669 - val_accuracy: 0.4533\n",
      "Epoch 642/1000\n",
      "70/70 [==============================] - 0s 1ms/step - loss: 0.6771 - accuracy: 0.7746 - val_loss: 2.3968 - val_accuracy: 0.4633\n",
      "Epoch 643/1000\n",
      "70/70 [==============================] - 0s 1ms/step - loss: 0.7125 - accuracy: 0.7540 - val_loss: 2.3948 - val_accuracy: 0.4467\n",
      "Epoch 644/1000\n",
      "70/70 [==============================] - 0s 1ms/step - loss: 0.7133 - accuracy: 0.7619 - val_loss: 2.3799 - val_accuracy: 0.4733\n",
      "Epoch 645/1000\n",
      "70/70 [==============================] - 0s 1ms/step - loss: 0.6283 - accuracy: 0.7803 - val_loss: 2.3935 - val_accuracy: 0.4633\n",
      "Epoch 646/1000\n",
      "70/70 [==============================] - 0s 1ms/step - loss: 0.6758 - accuracy: 0.7496 - val_loss: 2.4051 - val_accuracy: 0.4467\n",
      "Epoch 647/1000\n",
      "70/70 [==============================] - 0s 1ms/step - loss: 0.7202 - accuracy: 0.7668 - val_loss: 2.4063 - val_accuracy: 0.4433\n",
      "Epoch 648/1000\n",
      "70/70 [==============================] - 0s 1ms/step - loss: 0.7187 - accuracy: 0.7363 - val_loss: 2.4026 - val_accuracy: 0.4700\n",
      "Epoch 649/1000\n",
      "70/70 [==============================] - 0s 1ms/step - loss: 0.6745 - accuracy: 0.7560 - val_loss: 2.4016 - val_accuracy: 0.4600\n",
      "Epoch 650/1000\n",
      "70/70 [==============================] - 0s 1ms/step - loss: 0.7305 - accuracy: 0.7610 - val_loss: 2.4128 - val_accuracy: 0.4533\n",
      "Epoch 651/1000\n",
      "70/70 [==============================] - 0s 1ms/step - loss: 0.6753 - accuracy: 0.7559 - val_loss: 2.4063 - val_accuracy: 0.4567\n",
      "Epoch 652/1000\n",
      "70/70 [==============================] - 0s 1ms/step - loss: 0.6993 - accuracy: 0.7789 - val_loss: 2.3845 - val_accuracy: 0.4633\n",
      "Epoch 653/1000\n",
      "70/70 [==============================] - 0s 1ms/step - loss: 0.7039 - accuracy: 0.7440 - val_loss: 2.4121 - val_accuracy: 0.4533\n",
      "Epoch 654/1000\n",
      "70/70 [==============================] - 0s 1ms/step - loss: 0.7009 - accuracy: 0.7670 - val_loss: 2.4226 - val_accuracy: 0.4467\n",
      "Epoch 655/1000\n",
      "70/70 [==============================] - 0s 1ms/step - loss: 0.6994 - accuracy: 0.7569 - val_loss: 2.3914 - val_accuracy: 0.4567\n",
      "Epoch 656/1000\n",
      "70/70 [==============================] - 0s 1ms/step - loss: 0.6430 - accuracy: 0.7591 - val_loss: 2.3980 - val_accuracy: 0.4500\n",
      "Epoch 657/1000\n",
      "70/70 [==============================] - 0s 1ms/step - loss: 0.6869 - accuracy: 0.7583 - val_loss: 2.4517 - val_accuracy: 0.4467\n",
      "Epoch 658/1000\n",
      "70/70 [==============================] - 0s 1ms/step - loss: 0.6980 - accuracy: 0.7715 - val_loss: 2.4037 - val_accuracy: 0.4600\n",
      "Epoch 659/1000\n",
      "70/70 [==============================] - 0s 1ms/step - loss: 0.7110 - accuracy: 0.7723 - val_loss: 2.4177 - val_accuracy: 0.4667\n",
      "Epoch 660/1000\n",
      "70/70 [==============================] - 0s 1ms/step - loss: 0.6911 - accuracy: 0.7679 - val_loss: 2.3925 - val_accuracy: 0.4600\n",
      "Epoch 661/1000\n",
      "70/70 [==============================] - 0s 1ms/step - loss: 0.7074 - accuracy: 0.7338 - val_loss: 2.4669 - val_accuracy: 0.4567\n",
      "Epoch 662/1000\n",
      "70/70 [==============================] - 0s 1ms/step - loss: 0.6391 - accuracy: 0.7845 - val_loss: 2.4457 - val_accuracy: 0.4467\n",
      "Epoch 663/1000\n",
      "70/70 [==============================] - 0s 1ms/step - loss: 0.6997 - accuracy: 0.7486 - val_loss: 2.4220 - val_accuracy: 0.4667\n",
      "Epoch 664/1000\n",
      "70/70 [==============================] - 0s 1ms/step - loss: 0.6682 - accuracy: 0.7613 - val_loss: 2.4106 - val_accuracy: 0.4633\n",
      "Epoch 665/1000\n",
      "70/70 [==============================] - 0s 1ms/step - loss: 0.7346 - accuracy: 0.7441 - val_loss: 2.4393 - val_accuracy: 0.4467\n",
      "Epoch 666/1000\n",
      "70/70 [==============================] - 0s 1ms/step - loss: 0.6373 - accuracy: 0.7915 - val_loss: 2.4031 - val_accuracy: 0.4567\n",
      "Epoch 667/1000\n",
      "70/70 [==============================] - 0s 1ms/step - loss: 0.7207 - accuracy: 0.7553 - val_loss: 2.4087 - val_accuracy: 0.4633\n",
      "Epoch 668/1000\n",
      "70/70 [==============================] - 0s 1ms/step - loss: 0.6775 - accuracy: 0.7486 - val_loss: 2.4281 - val_accuracy: 0.4600\n",
      "Epoch 669/1000\n",
      "70/70 [==============================] - 0s 1ms/step - loss: 0.6767 - accuracy: 0.7748 - val_loss: 2.4602 - val_accuracy: 0.4567\n",
      "Epoch 670/1000\n",
      "70/70 [==============================] - 0s 1ms/step - loss: 0.6633 - accuracy: 0.7602 - val_loss: 2.4431 - val_accuracy: 0.4500\n",
      "Epoch 671/1000\n",
      "70/70 [==============================] - 0s 1ms/step - loss: 0.6431 - accuracy: 0.7813 - val_loss: 2.4427 - val_accuracy: 0.4633\n",
      "Epoch 672/1000\n",
      "70/70 [==============================] - 0s 1ms/step - loss: 0.6670 - accuracy: 0.7814 - val_loss: 2.4280 - val_accuracy: 0.4600\n",
      "Epoch 673/1000\n",
      "70/70 [==============================] - 0s 1ms/step - loss: 0.7428 - accuracy: 0.7454 - val_loss: 2.4316 - val_accuracy: 0.4733\n",
      "Epoch 674/1000\n",
      "70/70 [==============================] - 0s 1ms/step - loss: 0.7152 - accuracy: 0.7605 - val_loss: 2.4395 - val_accuracy: 0.4500\n",
      "Epoch 675/1000\n",
      "70/70 [==============================] - 0s 1ms/step - loss: 0.6631 - accuracy: 0.7712 - val_loss: 2.4220 - val_accuracy: 0.4700\n",
      "Epoch 676/1000\n",
      "70/70 [==============================] - 0s 1ms/step - loss: 0.6258 - accuracy: 0.7666 - val_loss: 2.4286 - val_accuracy: 0.4700\n",
      "Epoch 677/1000\n",
      "70/70 [==============================] - 0s 1ms/step - loss: 0.6587 - accuracy: 0.7885 - val_loss: 2.4802 - val_accuracy: 0.4567\n",
      "Epoch 678/1000\n",
      "70/70 [==============================] - 0s 1ms/step - loss: 0.7423 - accuracy: 0.7388 - val_loss: 2.4637 - val_accuracy: 0.4533\n",
      "Epoch 679/1000\n",
      "70/70 [==============================] - 0s 1ms/step - loss: 0.6665 - accuracy: 0.7680 - val_loss: 2.4538 - val_accuracy: 0.4500\n",
      "Epoch 680/1000\n",
      "70/70 [==============================] - 0s 1ms/step - loss: 0.6922 - accuracy: 0.7579 - val_loss: 2.4581 - val_accuracy: 0.4600\n",
      "Epoch 681/1000\n",
      "70/70 [==============================] - 0s 1ms/step - loss: 0.6150 - accuracy: 0.7987 - val_loss: 2.4503 - val_accuracy: 0.4600\n",
      "Epoch 682/1000\n",
      "70/70 [==============================] - 0s 1ms/step - loss: 0.6863 - accuracy: 0.7652 - val_loss: 2.4407 - val_accuracy: 0.4600\n",
      "Epoch 683/1000\n",
      "70/70 [==============================] - 0s 1ms/step - loss: 0.6956 - accuracy: 0.7509 - val_loss: 2.4610 - val_accuracy: 0.4733\n",
      "Epoch 684/1000\n",
      "70/70 [==============================] - 0s 1ms/step - loss: 0.6886 - accuracy: 0.7701 - val_loss: 2.4554 - val_accuracy: 0.4567\n"
     ]
    },
    {
     "name": "stdout",
     "output_type": "stream",
     "text": [
      "Epoch 685/1000\n",
      "70/70 [==============================] - 0s 1ms/step - loss: 0.6994 - accuracy: 0.7586 - val_loss: 2.4572 - val_accuracy: 0.4667\n",
      "Epoch 686/1000\n",
      "70/70 [==============================] - 0s 1ms/step - loss: 0.7021 - accuracy: 0.7538 - val_loss: 2.4742 - val_accuracy: 0.4700\n",
      "Epoch 687/1000\n",
      "70/70 [==============================] - 0s 1ms/step - loss: 0.6770 - accuracy: 0.7896 - val_loss: 2.4385 - val_accuracy: 0.4667\n",
      "Epoch 688/1000\n",
      "70/70 [==============================] - 0s 1ms/step - loss: 0.6991 - accuracy: 0.7732 - val_loss: 2.4550 - val_accuracy: 0.4533\n",
      "Epoch 689/1000\n",
      "70/70 [==============================] - 0s 1ms/step - loss: 0.7044 - accuracy: 0.7669 - val_loss: 2.4569 - val_accuracy: 0.4600\n",
      "Epoch 690/1000\n",
      "70/70 [==============================] - 0s 1ms/step - loss: 0.6975 - accuracy: 0.7635 - val_loss: 2.4740 - val_accuracy: 0.4600\n",
      "Epoch 691/1000\n",
      "70/70 [==============================] - 0s 1ms/step - loss: 0.7219 - accuracy: 0.7452 - val_loss: 2.4656 - val_accuracy: 0.4533\n",
      "Epoch 692/1000\n",
      "70/70 [==============================] - 0s 1ms/step - loss: 0.7350 - accuracy: 0.7434 - val_loss: 2.5125 - val_accuracy: 0.4500\n",
      "Epoch 693/1000\n",
      "70/70 [==============================] - 0s 1ms/step - loss: 0.7229 - accuracy: 0.7730 - val_loss: 2.4864 - val_accuracy: 0.4467\n",
      "Epoch 694/1000\n",
      "70/70 [==============================] - 0s 1ms/step - loss: 0.6673 - accuracy: 0.7700 - val_loss: 2.4782 - val_accuracy: 0.4567\n",
      "Epoch 695/1000\n",
      "70/70 [==============================] - 0s 1ms/step - loss: 0.6326 - accuracy: 0.7709 - val_loss: 2.4678 - val_accuracy: 0.4700\n",
      "Epoch 696/1000\n",
      "70/70 [==============================] - 0s 1ms/step - loss: 0.7030 - accuracy: 0.7620 - val_loss: 2.4960 - val_accuracy: 0.4600\n",
      "Epoch 697/1000\n",
      "70/70 [==============================] - 0s 1ms/step - loss: 0.6576 - accuracy: 0.8007 - val_loss: 2.4355 - val_accuracy: 0.4633\n",
      "Epoch 698/1000\n",
      "70/70 [==============================] - 0s 1ms/step - loss: 0.7082 - accuracy: 0.7624 - val_loss: 2.4911 - val_accuracy: 0.4567\n",
      "Epoch 699/1000\n",
      "70/70 [==============================] - 0s 1ms/step - loss: 0.6467 - accuracy: 0.7755 - val_loss: 2.4957 - val_accuracy: 0.4467\n",
      "Epoch 700/1000\n",
      "70/70 [==============================] - 0s 1ms/step - loss: 0.7304 - accuracy: 0.7365 - val_loss: 2.4781 - val_accuracy: 0.4533\n",
      "Epoch 701/1000\n",
      "70/70 [==============================] - 0s 1ms/step - loss: 0.6642 - accuracy: 0.7788 - val_loss: 2.4800 - val_accuracy: 0.4600\n",
      "Epoch 702/1000\n",
      "70/70 [==============================] - 0s 1ms/step - loss: 0.6944 - accuracy: 0.7655 - val_loss: 2.5114 - val_accuracy: 0.4533\n",
      "Epoch 703/1000\n",
      "70/70 [==============================] - 0s 1ms/step - loss: 0.6686 - accuracy: 0.7589 - val_loss: 2.4493 - val_accuracy: 0.4667\n",
      "Epoch 704/1000\n",
      "70/70 [==============================] - 0s 1ms/step - loss: 0.7008 - accuracy: 0.7510 - val_loss: 2.5081 - val_accuracy: 0.4567\n",
      "Epoch 705/1000\n",
      "70/70 [==============================] - 0s 1ms/step - loss: 0.6349 - accuracy: 0.7785 - val_loss: 2.4809 - val_accuracy: 0.4533\n",
      "Epoch 706/1000\n",
      "70/70 [==============================] - 0s 1ms/step - loss: 0.7501 - accuracy: 0.7661 - val_loss: 2.4747 - val_accuracy: 0.4633\n",
      "Epoch 707/1000\n",
      "70/70 [==============================] - 0s 1ms/step - loss: 0.7292 - accuracy: 0.7383 - val_loss: 2.5206 - val_accuracy: 0.4567\n",
      "Epoch 708/1000\n",
      "70/70 [==============================] - 0s 1ms/step - loss: 0.7083 - accuracy: 0.7694 - val_loss: 2.4853 - val_accuracy: 0.4600\n",
      "Epoch 709/1000\n",
      "70/70 [==============================] - 0s 1ms/step - loss: 0.6000 - accuracy: 0.8053 - val_loss: 2.5019 - val_accuracy: 0.4733\n",
      "Epoch 710/1000\n",
      "70/70 [==============================] - 0s 1ms/step - loss: 0.6293 - accuracy: 0.7710 - val_loss: 2.5065 - val_accuracy: 0.4600\n",
      "Epoch 711/1000\n",
      "70/70 [==============================] - 0s 1ms/step - loss: 0.6778 - accuracy: 0.7571 - val_loss: 2.4766 - val_accuracy: 0.4633\n",
      "Epoch 712/1000\n",
      "70/70 [==============================] - 0s 1ms/step - loss: 0.6686 - accuracy: 0.7530 - val_loss: 2.4872 - val_accuracy: 0.4600\n",
      "Epoch 713/1000\n",
      "70/70 [==============================] - 0s 1ms/step - loss: 0.6383 - accuracy: 0.7793 - val_loss: 2.5214 - val_accuracy: 0.4633\n",
      "Epoch 714/1000\n",
      "70/70 [==============================] - 0s 1ms/step - loss: 0.6473 - accuracy: 0.7681 - val_loss: 2.4839 - val_accuracy: 0.4567\n",
      "Epoch 715/1000\n",
      "70/70 [==============================] - 0s 1ms/step - loss: 0.6814 - accuracy: 0.7797 - val_loss: 2.4990 - val_accuracy: 0.4567\n",
      "Epoch 716/1000\n",
      "70/70 [==============================] - 0s 1ms/step - loss: 0.6119 - accuracy: 0.7933 - val_loss: 2.4914 - val_accuracy: 0.4633\n",
      "Epoch 717/1000\n",
      "70/70 [==============================] - 0s 1ms/step - loss: 0.6335 - accuracy: 0.7880 - val_loss: 2.4715 - val_accuracy: 0.4567\n",
      "Epoch 718/1000\n",
      "70/70 [==============================] - 0s 1ms/step - loss: 0.6436 - accuracy: 0.7835 - val_loss: 2.5000 - val_accuracy: 0.4567\n",
      "Epoch 719/1000\n",
      "70/70 [==============================] - 0s 1ms/step - loss: 0.6823 - accuracy: 0.7894 - val_loss: 2.4939 - val_accuracy: 0.4633\n",
      "Epoch 720/1000\n",
      "70/70 [==============================] - 0s 1ms/step - loss: 0.6445 - accuracy: 0.7845 - val_loss: 2.4993 - val_accuracy: 0.4600\n",
      "Epoch 721/1000\n",
      "70/70 [==============================] - 0s 1ms/step - loss: 0.6716 - accuracy: 0.7484 - val_loss: 2.5226 - val_accuracy: 0.4600\n",
      "Epoch 722/1000\n",
      "70/70 [==============================] - 0s 1ms/step - loss: 0.7037 - accuracy: 0.7624 - val_loss: 2.4939 - val_accuracy: 0.4533\n",
      "Epoch 723/1000\n",
      "70/70 [==============================] - 0s 1ms/step - loss: 0.6686 - accuracy: 0.7596 - val_loss: 2.5008 - val_accuracy: 0.4567\n",
      "Epoch 724/1000\n",
      "70/70 [==============================] - 0s 1ms/step - loss: 0.6970 - accuracy: 0.7484 - val_loss: 2.5169 - val_accuracy: 0.4600\n",
      "Epoch 725/1000\n",
      "70/70 [==============================] - 0s 1ms/step - loss: 0.7093 - accuracy: 0.7608 - val_loss: 2.5315 - val_accuracy: 0.4667\n",
      "Epoch 726/1000\n",
      "70/70 [==============================] - 0s 1ms/step - loss: 0.7311 - accuracy: 0.7564 - val_loss: 2.4933 - val_accuracy: 0.4567\n",
      "Epoch 727/1000\n",
      "70/70 [==============================] - 0s 1ms/step - loss: 0.6224 - accuracy: 0.7873 - val_loss: 2.5230 - val_accuracy: 0.4600\n",
      "Epoch 728/1000\n",
      "70/70 [==============================] - 0s 1ms/step - loss: 0.6695 - accuracy: 0.7593 - val_loss: 2.5388 - val_accuracy: 0.4567\n",
      "Epoch 729/1000\n",
      "70/70 [==============================] - 0s 1ms/step - loss: 0.6485 - accuracy: 0.7732 - val_loss: 2.5204 - val_accuracy: 0.4600\n",
      "Epoch 730/1000\n",
      "70/70 [==============================] - 0s 1ms/step - loss: 0.6557 - accuracy: 0.7491 - val_loss: 2.5380 - val_accuracy: 0.4600\n",
      "Epoch 731/1000\n",
      "70/70 [==============================] - 0s 1ms/step - loss: 0.7099 - accuracy: 0.7670 - val_loss: 2.5378 - val_accuracy: 0.4633\n",
      "Epoch 732/1000\n",
      "70/70 [==============================] - 0s 1ms/step - loss: 0.6877 - accuracy: 0.7617 - val_loss: 2.5281 - val_accuracy: 0.4600\n",
      "Epoch 733/1000\n",
      "70/70 [==============================] - 0s 1ms/step - loss: 0.6820 - accuracy: 0.7609 - val_loss: 2.5291 - val_accuracy: 0.4667\n",
      "Epoch 734/1000\n",
      "70/70 [==============================] - 0s 1ms/step - loss: 0.6543 - accuracy: 0.7768 - val_loss: 2.5406 - val_accuracy: 0.4567\n",
      "Epoch 735/1000\n",
      "70/70 [==============================] - 0s 1ms/step - loss: 0.6315 - accuracy: 0.7834 - val_loss: 2.5350 - val_accuracy: 0.4600\n",
      "Epoch 736/1000\n",
      "70/70 [==============================] - 0s 1ms/step - loss: 0.6885 - accuracy: 0.7687 - val_loss: 2.5427 - val_accuracy: 0.4567\n",
      "Epoch 737/1000\n",
      "70/70 [==============================] - 0s 1ms/step - loss: 0.6671 - accuracy: 0.7681 - val_loss: 2.5434 - val_accuracy: 0.4633\n",
      "Epoch 738/1000\n",
      "70/70 [==============================] - 0s 1ms/step - loss: 0.6814 - accuracy: 0.7401 - val_loss: 2.5303 - val_accuracy: 0.4633\n",
      "Epoch 739/1000\n",
      "70/70 [==============================] - 0s 1ms/step - loss: 0.6816 - accuracy: 0.7775 - val_loss: 2.5398 - val_accuracy: 0.4533\n",
      "Epoch 740/1000\n",
      "70/70 [==============================] - 0s 1ms/step - loss: 0.6646 - accuracy: 0.7764 - val_loss: 2.5411 - val_accuracy: 0.4567\n",
      "Epoch 741/1000\n",
      "70/70 [==============================] - 0s 1ms/step - loss: 0.7121 - accuracy: 0.7726 - val_loss: 2.5278 - val_accuracy: 0.4600\n"
     ]
    },
    {
     "name": "stdout",
     "output_type": "stream",
     "text": [
      "Epoch 742/1000\n",
      "70/70 [==============================] - 0s 1ms/step - loss: 0.6527 - accuracy: 0.7833 - val_loss: 2.5216 - val_accuracy: 0.4567\n",
      "Epoch 743/1000\n",
      "70/70 [==============================] - 0s 1ms/step - loss: 0.6431 - accuracy: 0.7827 - val_loss: 2.5739 - val_accuracy: 0.4600\n",
      "Epoch 744/1000\n",
      "70/70 [==============================] - 0s 1ms/step - loss: 0.6712 - accuracy: 0.7877 - val_loss: 2.5408 - val_accuracy: 0.4600\n",
      "Epoch 745/1000\n",
      "70/70 [==============================] - 0s 1ms/step - loss: 0.6763 - accuracy: 0.7754 - val_loss: 2.5635 - val_accuracy: 0.4633\n",
      "Epoch 746/1000\n",
      "70/70 [==============================] - 0s 1ms/step - loss: 0.7115 - accuracy: 0.7341 - val_loss: 2.5359 - val_accuracy: 0.4700\n",
      "Epoch 747/1000\n",
      "70/70 [==============================] - 0s 1ms/step - loss: 0.6476 - accuracy: 0.7931 - val_loss: 2.5511 - val_accuracy: 0.4633\n",
      "Epoch 748/1000\n",
      "70/70 [==============================] - 0s 1ms/step - loss: 0.6758 - accuracy: 0.7446 - val_loss: 2.5592 - val_accuracy: 0.4533\n",
      "Epoch 749/1000\n",
      "70/70 [==============================] - 0s 1ms/step - loss: 0.6795 - accuracy: 0.7802 - val_loss: 2.5444 - val_accuracy: 0.4567\n",
      "Epoch 750/1000\n",
      "70/70 [==============================] - 0s 1ms/step - loss: 0.6386 - accuracy: 0.7637 - val_loss: 2.5488 - val_accuracy: 0.4567\n",
      "Epoch 751/1000\n",
      "70/70 [==============================] - 0s 1ms/step - loss: 0.6617 - accuracy: 0.7518 - val_loss: 2.5638 - val_accuracy: 0.4600\n",
      "Epoch 752/1000\n",
      "70/70 [==============================] - 0s 1ms/step - loss: 0.6166 - accuracy: 0.7816 - val_loss: 2.5524 - val_accuracy: 0.4600\n",
      "Epoch 753/1000\n",
      "70/70 [==============================] - 0s 1ms/step - loss: 0.6733 - accuracy: 0.7559 - val_loss: 2.5730 - val_accuracy: 0.4600\n",
      "Epoch 754/1000\n",
      "70/70 [==============================] - 0s 1ms/step - loss: 0.6336 - accuracy: 0.7775 - val_loss: 2.5300 - val_accuracy: 0.4667\n",
      "Epoch 755/1000\n",
      "70/70 [==============================] - 0s 1ms/step - loss: 0.5829 - accuracy: 0.8017 - val_loss: 2.5715 - val_accuracy: 0.4567\n",
      "Epoch 756/1000\n",
      "70/70 [==============================] - 0s 1ms/step - loss: 0.6051 - accuracy: 0.7935 - val_loss: 2.5685 - val_accuracy: 0.4633\n",
      "Epoch 757/1000\n",
      "70/70 [==============================] - 0s 1ms/step - loss: 0.6786 - accuracy: 0.7752 - val_loss: 2.5992 - val_accuracy: 0.4600\n",
      "Epoch 758/1000\n",
      "70/70 [==============================] - 0s 1ms/step - loss: 0.7138 - accuracy: 0.7731 - val_loss: 2.6156 - val_accuracy: 0.4633\n",
      "Epoch 759/1000\n",
      "70/70 [==============================] - 0s 1ms/step - loss: 0.6644 - accuracy: 0.7622 - val_loss: 2.5602 - val_accuracy: 0.4567\n",
      "Epoch 760/1000\n",
      "70/70 [==============================] - 0s 1ms/step - loss: 0.6750 - accuracy: 0.7679 - val_loss: 2.5800 - val_accuracy: 0.4600\n",
      "Epoch 761/1000\n",
      "70/70 [==============================] - 0s 1ms/step - loss: 0.6209 - accuracy: 0.7866 - val_loss: 2.5831 - val_accuracy: 0.4600\n",
      "Epoch 762/1000\n",
      "70/70 [==============================] - 0s 1ms/step - loss: 0.6294 - accuracy: 0.7976 - val_loss: 2.5631 - val_accuracy: 0.4567\n",
      "Epoch 763/1000\n",
      "70/70 [==============================] - 0s 1ms/step - loss: 0.6870 - accuracy: 0.7708 - val_loss: 2.6012 - val_accuracy: 0.4633\n",
      "Epoch 764/1000\n",
      "70/70 [==============================] - 0s 1ms/step - loss: 0.6352 - accuracy: 0.7738 - val_loss: 2.6000 - val_accuracy: 0.4567\n",
      "Epoch 765/1000\n",
      "70/70 [==============================] - 0s 1ms/step - loss: 0.6432 - accuracy: 0.7883 - val_loss: 2.5986 - val_accuracy: 0.4600\n",
      "Epoch 766/1000\n",
      "70/70 [==============================] - 0s 1ms/step - loss: 0.6268 - accuracy: 0.8000 - val_loss: 2.6116 - val_accuracy: 0.4567\n",
      "Epoch 767/1000\n",
      "70/70 [==============================] - 0s 1ms/step - loss: 0.6361 - accuracy: 0.7787 - val_loss: 2.6034 - val_accuracy: 0.4567\n",
      "Epoch 768/1000\n",
      "70/70 [==============================] - 0s 1ms/step - loss: 0.6479 - accuracy: 0.7922 - val_loss: 2.6108 - val_accuracy: 0.4633\n",
      "Epoch 769/1000\n",
      "70/70 [==============================] - 0s 1ms/step - loss: 0.7472 - accuracy: 0.7704 - val_loss: 2.5847 - val_accuracy: 0.4567\n",
      "Epoch 770/1000\n",
      "70/70 [==============================] - 0s 1ms/step - loss: 0.5921 - accuracy: 0.7961 - val_loss: 2.6151 - val_accuracy: 0.4667\n",
      "Epoch 771/1000\n",
      "70/70 [==============================] - 0s 1ms/step - loss: 0.6011 - accuracy: 0.7787 - val_loss: 2.5904 - val_accuracy: 0.4600\n",
      "Epoch 772/1000\n",
      "70/70 [==============================] - 0s 1ms/step - loss: 0.6694 - accuracy: 0.7712 - val_loss: 2.5736 - val_accuracy: 0.4633\n",
      "Epoch 773/1000\n",
      "70/70 [==============================] - 0s 1ms/step - loss: 0.6718 - accuracy: 0.7681 - val_loss: 2.5896 - val_accuracy: 0.4600\n",
      "Epoch 774/1000\n",
      "70/70 [==============================] - 0s 1ms/step - loss: 0.6572 - accuracy: 0.7552 - val_loss: 2.6110 - val_accuracy: 0.4633\n",
      "Epoch 775/1000\n",
      "70/70 [==============================] - 0s 1ms/step - loss: 0.6526 - accuracy: 0.7716 - val_loss: 2.5830 - val_accuracy: 0.4600\n",
      "Epoch 776/1000\n",
      "70/70 [==============================] - 0s 1ms/step - loss: 0.7324 - accuracy: 0.7454 - val_loss: 2.6027 - val_accuracy: 0.4600\n",
      "Epoch 777/1000\n",
      "70/70 [==============================] - 0s 1ms/step - loss: 0.6825 - accuracy: 0.7813 - val_loss: 2.6001 - val_accuracy: 0.4600\n",
      "Epoch 778/1000\n",
      "70/70 [==============================] - 0s 1ms/step - loss: 0.6732 - accuracy: 0.7620 - val_loss: 2.5573 - val_accuracy: 0.4533\n",
      "Epoch 779/1000\n",
      "70/70 [==============================] - 0s 1ms/step - loss: 0.6827 - accuracy: 0.7688 - val_loss: 2.6054 - val_accuracy: 0.4633\n",
      "Epoch 780/1000\n",
      "70/70 [==============================] - 0s 1ms/step - loss: 0.7341 - accuracy: 0.7509 - val_loss: 2.6209 - val_accuracy: 0.4600\n",
      "Epoch 781/1000\n",
      "70/70 [==============================] - 0s 1ms/step - loss: 0.6574 - accuracy: 0.7770 - val_loss: 2.6099 - val_accuracy: 0.4600\n",
      "Epoch 782/1000\n",
      "70/70 [==============================] - 0s 1ms/step - loss: 0.6218 - accuracy: 0.7702 - val_loss: 2.5980 - val_accuracy: 0.4600\n",
      "Epoch 783/1000\n",
      "70/70 [==============================] - 0s 1ms/step - loss: 0.6455 - accuracy: 0.7642 - val_loss: 2.6449 - val_accuracy: 0.4633\n",
      "Epoch 784/1000\n",
      "70/70 [==============================] - 0s 1ms/step - loss: 0.6979 - accuracy: 0.7612 - val_loss: 2.6242 - val_accuracy: 0.4600\n",
      "Epoch 785/1000\n",
      "70/70 [==============================] - 0s 1ms/step - loss: 0.6572 - accuracy: 0.7586 - val_loss: 2.6246 - val_accuracy: 0.4633\n",
      "Epoch 786/1000\n",
      "70/70 [==============================] - 0s 1ms/step - loss: 0.5892 - accuracy: 0.8043 - val_loss: 2.6075 - val_accuracy: 0.4667\n",
      "Epoch 787/1000\n",
      "70/70 [==============================] - 0s 1ms/step - loss: 0.6982 - accuracy: 0.7478 - val_loss: 2.6138 - val_accuracy: 0.4600\n",
      "Epoch 788/1000\n",
      "70/70 [==============================] - 0s 1ms/step - loss: 0.6982 - accuracy: 0.7627 - val_loss: 2.6422 - val_accuracy: 0.4567\n",
      "Epoch 789/1000\n",
      "70/70 [==============================] - 0s 1ms/step - loss: 0.6699 - accuracy: 0.7788 - val_loss: 2.6273 - val_accuracy: 0.4633\n",
      "Epoch 790/1000\n",
      "70/70 [==============================] - 0s 1ms/step - loss: 0.6256 - accuracy: 0.7745 - val_loss: 2.6078 - val_accuracy: 0.4600\n",
      "Epoch 791/1000\n",
      "70/70 [==============================] - 0s 1ms/step - loss: 0.6134 - accuracy: 0.7919 - val_loss: 2.6525 - val_accuracy: 0.4567\n",
      "Epoch 792/1000\n",
      "70/70 [==============================] - 0s 1ms/step - loss: 0.6366 - accuracy: 0.7655 - val_loss: 2.6443 - val_accuracy: 0.4633\n",
      "Epoch 793/1000\n",
      "70/70 [==============================] - 0s 1ms/step - loss: 0.6480 - accuracy: 0.7779 - val_loss: 2.6172 - val_accuracy: 0.4633\n",
      "Epoch 794/1000\n",
      "70/70 [==============================] - 0s 1ms/step - loss: 0.6378 - accuracy: 0.7660 - val_loss: 2.6203 - val_accuracy: 0.4700\n",
      "Epoch 795/1000\n",
      "70/70 [==============================] - 0s 1ms/step - loss: 0.6934 - accuracy: 0.7656 - val_loss: 2.6344 - val_accuracy: 0.4600\n",
      "Epoch 796/1000\n",
      "70/70 [==============================] - 0s 1ms/step - loss: 0.7286 - accuracy: 0.7714 - val_loss: 2.6400 - val_accuracy: 0.4533\n",
      "Epoch 797/1000\n",
      "70/70 [==============================] - 0s 1ms/step - loss: 0.6505 - accuracy: 0.7937 - val_loss: 2.6284 - val_accuracy: 0.4633\n",
      "Epoch 798/1000\n",
      "70/70 [==============================] - 0s 1ms/step - loss: 0.6381 - accuracy: 0.7598 - val_loss: 2.6421 - val_accuracy: 0.4600\n"
     ]
    },
    {
     "name": "stdout",
     "output_type": "stream",
     "text": [
      "Epoch 799/1000\n",
      "70/70 [==============================] - 0s 1ms/step - loss: 0.6561 - accuracy: 0.7645 - val_loss: 2.6119 - val_accuracy: 0.4633\n",
      "Epoch 800/1000\n",
      "70/70 [==============================] - 0s 1ms/step - loss: 0.6886 - accuracy: 0.7681 - val_loss: 2.6291 - val_accuracy: 0.4500\n",
      "Epoch 801/1000\n",
      "70/70 [==============================] - 0s 1ms/step - loss: 0.6697 - accuracy: 0.7765 - val_loss: 2.6579 - val_accuracy: 0.4600\n",
      "Epoch 802/1000\n",
      "70/70 [==============================] - 0s 1ms/step - loss: 0.6202 - accuracy: 0.8011 - val_loss: 2.6292 - val_accuracy: 0.4567\n",
      "Epoch 803/1000\n",
      "70/70 [==============================] - 0s 1ms/step - loss: 0.6373 - accuracy: 0.7884 - val_loss: 2.6666 - val_accuracy: 0.4600\n",
      "Epoch 804/1000\n",
      "70/70 [==============================] - 0s 1ms/step - loss: 0.5972 - accuracy: 0.7893 - val_loss: 2.6591 - val_accuracy: 0.4600\n",
      "Epoch 805/1000\n",
      "70/70 [==============================] - 0s 1ms/step - loss: 0.7124 - accuracy: 0.7718 - val_loss: 2.6304 - val_accuracy: 0.4467\n",
      "Epoch 806/1000\n",
      "70/70 [==============================] - 0s 1ms/step - loss: 0.6293 - accuracy: 0.7920 - val_loss: 2.6358 - val_accuracy: 0.4567\n",
      "Epoch 807/1000\n",
      "70/70 [==============================] - 0s 1ms/step - loss: 0.6379 - accuracy: 0.7840 - val_loss: 2.6634 - val_accuracy: 0.4567\n",
      "Epoch 808/1000\n",
      "70/70 [==============================] - 0s 1ms/step - loss: 0.6703 - accuracy: 0.7771 - val_loss: 2.6435 - val_accuracy: 0.4567\n",
      "Epoch 809/1000\n",
      "70/70 [==============================] - 0s 1ms/step - loss: 0.6496 - accuracy: 0.7791 - val_loss: 2.6579 - val_accuracy: 0.4633\n",
      "Epoch 810/1000\n",
      "70/70 [==============================] - 0s 1ms/step - loss: 0.6252 - accuracy: 0.7641 - val_loss: 2.6723 - val_accuracy: 0.4633\n",
      "Epoch 811/1000\n",
      "70/70 [==============================] - 0s 1ms/step - loss: 0.6283 - accuracy: 0.7879 - val_loss: 2.6490 - val_accuracy: 0.4533\n",
      "Epoch 812/1000\n",
      "70/70 [==============================] - 0s 1ms/step - loss: 0.6652 - accuracy: 0.7751 - val_loss: 2.6526 - val_accuracy: 0.4600\n",
      "Epoch 813/1000\n",
      "70/70 [==============================] - 0s 1ms/step - loss: 0.6481 - accuracy: 0.7744 - val_loss: 2.6720 - val_accuracy: 0.4533\n",
      "Epoch 814/1000\n",
      "70/70 [==============================] - 0s 1ms/step - loss: 0.6227 - accuracy: 0.7986 - val_loss: 2.6840 - val_accuracy: 0.4533\n",
      "Epoch 815/1000\n",
      "70/70 [==============================] - 0s 1ms/step - loss: 0.6509 - accuracy: 0.7536 - val_loss: 2.6668 - val_accuracy: 0.4567\n",
      "Epoch 816/1000\n",
      "70/70 [==============================] - 0s 1ms/step - loss: 0.6103 - accuracy: 0.7664 - val_loss: 2.6796 - val_accuracy: 0.4567\n",
      "Epoch 817/1000\n",
      "70/70 [==============================] - 0s 1ms/step - loss: 0.6139 - accuracy: 0.7758 - val_loss: 2.6487 - val_accuracy: 0.4500\n",
      "Epoch 818/1000\n",
      "70/70 [==============================] - 0s 1ms/step - loss: 0.6624 - accuracy: 0.7588 - val_loss: 2.6784 - val_accuracy: 0.4667\n",
      "Epoch 819/1000\n",
      "70/70 [==============================] - 0s 1ms/step - loss: 0.6248 - accuracy: 0.7884 - val_loss: 2.6583 - val_accuracy: 0.4533\n",
      "Epoch 820/1000\n",
      "70/70 [==============================] - 0s 1ms/step - loss: 0.6286 - accuracy: 0.8007 - val_loss: 2.6487 - val_accuracy: 0.4500\n",
      "Epoch 821/1000\n",
      "70/70 [==============================] - 0s 1ms/step - loss: 0.6751 - accuracy: 0.7640 - val_loss: 2.7177 - val_accuracy: 0.4500\n",
      "Epoch 822/1000\n",
      "70/70 [==============================] - 0s 1ms/step - loss: 0.5805 - accuracy: 0.8178 - val_loss: 2.6833 - val_accuracy: 0.4533\n",
      "Epoch 823/1000\n",
      "70/70 [==============================] - 0s 1ms/step - loss: 0.6537 - accuracy: 0.7863 - val_loss: 2.6756 - val_accuracy: 0.4600\n",
      "Epoch 824/1000\n",
      "70/70 [==============================] - 0s 1ms/step - loss: 0.5770 - accuracy: 0.7909 - val_loss: 2.7050 - val_accuracy: 0.4600\n",
      "Epoch 825/1000\n",
      "70/70 [==============================] - 0s 1ms/step - loss: 0.6794 - accuracy: 0.7588 - val_loss: 2.6891 - val_accuracy: 0.4633\n",
      "Epoch 826/1000\n",
      "70/70 [==============================] - 0s 1ms/step - loss: 0.5940 - accuracy: 0.8067 - val_loss: 2.6774 - val_accuracy: 0.4500\n",
      "Epoch 827/1000\n",
      "70/70 [==============================] - 0s 1ms/step - loss: 0.6500 - accuracy: 0.7481 - val_loss: 2.6947 - val_accuracy: 0.4467\n",
      "Epoch 828/1000\n",
      "70/70 [==============================] - 0s 1ms/step - loss: 0.6412 - accuracy: 0.7607 - val_loss: 2.6610 - val_accuracy: 0.4533\n",
      "Epoch 829/1000\n",
      "70/70 [==============================] - 0s 1ms/step - loss: 0.6345 - accuracy: 0.7829 - val_loss: 2.7002 - val_accuracy: 0.4667\n",
      "Epoch 830/1000\n",
      "70/70 [==============================] - 0s 1ms/step - loss: 0.6419 - accuracy: 0.7806 - val_loss: 2.6805 - val_accuracy: 0.4600\n",
      "Epoch 831/1000\n",
      "70/70 [==============================] - 0s 1ms/step - loss: 0.6195 - accuracy: 0.7913 - val_loss: 2.6857 - val_accuracy: 0.4567\n",
      "Epoch 832/1000\n",
      "70/70 [==============================] - 0s 1ms/step - loss: 0.6481 - accuracy: 0.7749 - val_loss: 2.6960 - val_accuracy: 0.4533\n",
      "Epoch 833/1000\n",
      "70/70 [==============================] - 0s 1ms/step - loss: 0.6523 - accuracy: 0.7574 - val_loss: 2.7059 - val_accuracy: 0.4600\n",
      "Epoch 834/1000\n",
      "70/70 [==============================] - 0s 1ms/step - loss: 0.6684 - accuracy: 0.7747 - val_loss: 2.6967 - val_accuracy: 0.4533\n",
      "Epoch 835/1000\n",
      "70/70 [==============================] - 0s 1ms/step - loss: 0.6225 - accuracy: 0.7837 - val_loss: 2.6904 - val_accuracy: 0.4500\n",
      "Epoch 836/1000\n",
      "70/70 [==============================] - 0s 1ms/step - loss: 0.6575 - accuracy: 0.7763 - val_loss: 2.7124 - val_accuracy: 0.4600\n",
      "Epoch 837/1000\n",
      "70/70 [==============================] - 0s 1ms/step - loss: 0.6247 - accuracy: 0.7700 - val_loss: 2.6770 - val_accuracy: 0.4533\n",
      "Epoch 838/1000\n",
      "70/70 [==============================] - 0s 1ms/step - loss: 0.6222 - accuracy: 0.7913 - val_loss: 2.6997 - val_accuracy: 0.4567\n",
      "Epoch 839/1000\n",
      "70/70 [==============================] - 0s 1ms/step - loss: 0.7324 - accuracy: 0.7443 - val_loss: 2.7060 - val_accuracy: 0.4567\n",
      "Epoch 840/1000\n",
      "70/70 [==============================] - 0s 1ms/step - loss: 0.6603 - accuracy: 0.7409 - val_loss: 2.6902 - val_accuracy: 0.4500\n",
      "Epoch 841/1000\n",
      "70/70 [==============================] - 0s 1ms/step - loss: 0.6923 - accuracy: 0.7805 - val_loss: 2.6737 - val_accuracy: 0.4600\n",
      "Epoch 842/1000\n",
      "70/70 [==============================] - 0s 1ms/step - loss: 0.6051 - accuracy: 0.7943 - val_loss: 2.7167 - val_accuracy: 0.4600\n",
      "Epoch 843/1000\n",
      "70/70 [==============================] - 0s 1ms/step - loss: 0.6066 - accuracy: 0.7639 - val_loss: 2.7205 - val_accuracy: 0.4533\n",
      "Epoch 844/1000\n",
      "70/70 [==============================] - 0s 1ms/step - loss: 0.5920 - accuracy: 0.7752 - val_loss: 2.6957 - val_accuracy: 0.4533\n",
      "Epoch 845/1000\n",
      "70/70 [==============================] - 0s 1ms/step - loss: 0.7136 - accuracy: 0.7656 - val_loss: 2.7078 - val_accuracy: 0.4567\n",
      "Epoch 846/1000\n",
      "70/70 [==============================] - 0s 1ms/step - loss: 0.6068 - accuracy: 0.7828 - val_loss: 2.7017 - val_accuracy: 0.4533\n",
      "Epoch 847/1000\n",
      "70/70 [==============================] - 0s 1ms/step - loss: 0.6584 - accuracy: 0.7951 - val_loss: 2.7108 - val_accuracy: 0.4533\n",
      "Epoch 848/1000\n",
      "70/70 [==============================] - 0s 1ms/step - loss: 0.5953 - accuracy: 0.8039 - val_loss: 2.7454 - val_accuracy: 0.4633\n",
      "Epoch 849/1000\n",
      "70/70 [==============================] - 0s 1ms/step - loss: 0.5826 - accuracy: 0.7978 - val_loss: 2.7020 - val_accuracy: 0.4567\n",
      "Epoch 850/1000\n",
      "70/70 [==============================] - 0s 1ms/step - loss: 0.6332 - accuracy: 0.7746 - val_loss: 2.7100 - val_accuracy: 0.4533\n",
      "Epoch 851/1000\n",
      "70/70 [==============================] - 0s 1ms/step - loss: 0.7089 - accuracy: 0.7766 - val_loss: 2.7040 - val_accuracy: 0.4533\n",
      "Epoch 852/1000\n",
      "70/70 [==============================] - 0s 1ms/step - loss: 0.6443 - accuracy: 0.7600 - val_loss: 2.7355 - val_accuracy: 0.4533\n",
      "Epoch 853/1000\n",
      "70/70 [==============================] - 0s 1ms/step - loss: 0.5856 - accuracy: 0.8211 - val_loss: 2.7236 - val_accuracy: 0.4567\n",
      "Epoch 854/1000\n",
      "70/70 [==============================] - 0s 1ms/step - loss: 0.6369 - accuracy: 0.7657 - val_loss: 2.7364 - val_accuracy: 0.4533\n",
      "Epoch 855/1000\n",
      "70/70 [==============================] - 0s 1ms/step - loss: 0.6611 - accuracy: 0.7830 - val_loss: 2.7140 - val_accuracy: 0.4533\n"
     ]
    },
    {
     "name": "stdout",
     "output_type": "stream",
     "text": [
      "Epoch 856/1000\n",
      "70/70 [==============================] - 0s 1ms/step - loss: 0.6428 - accuracy: 0.7865 - val_loss: 2.7339 - val_accuracy: 0.4533\n",
      "Epoch 857/1000\n",
      "70/70 [==============================] - 0s 1ms/step - loss: 0.5936 - accuracy: 0.8046 - val_loss: 2.7137 - val_accuracy: 0.4567\n",
      "Epoch 858/1000\n",
      "70/70 [==============================] - 0s 1ms/step - loss: 0.6528 - accuracy: 0.7642 - val_loss: 2.7231 - val_accuracy: 0.4533\n",
      "Epoch 859/1000\n",
      "70/70 [==============================] - 0s 1ms/step - loss: 0.6440 - accuracy: 0.8000 - val_loss: 2.7080 - val_accuracy: 0.4533\n",
      "Epoch 860/1000\n",
      "70/70 [==============================] - 0s 1ms/step - loss: 0.6303 - accuracy: 0.7877 - val_loss: 2.7179 - val_accuracy: 0.4500\n",
      "Epoch 861/1000\n",
      "70/70 [==============================] - 0s 1ms/step - loss: 0.6617 - accuracy: 0.7779 - val_loss: 2.7128 - val_accuracy: 0.4533\n",
      "Epoch 862/1000\n",
      "70/70 [==============================] - 0s 1ms/step - loss: 0.6441 - accuracy: 0.7983 - val_loss: 2.7267 - val_accuracy: 0.4533\n",
      "Epoch 863/1000\n",
      "70/70 [==============================] - 0s 1ms/step - loss: 0.6382 - accuracy: 0.7902 - val_loss: 2.7636 - val_accuracy: 0.4600\n",
      "Epoch 864/1000\n",
      "70/70 [==============================] - 0s 1ms/step - loss: 0.6333 - accuracy: 0.7710 - val_loss: 2.7144 - val_accuracy: 0.4567\n",
      "Epoch 865/1000\n",
      "70/70 [==============================] - 0s 1ms/step - loss: 0.6685 - accuracy: 0.7995 - val_loss: 2.7472 - val_accuracy: 0.4567\n",
      "Epoch 866/1000\n",
      "70/70 [==============================] - 0s 1ms/step - loss: 0.6156 - accuracy: 0.7799 - val_loss: 2.7379 - val_accuracy: 0.4500\n",
      "Epoch 867/1000\n",
      "70/70 [==============================] - 0s 1ms/step - loss: 0.6602 - accuracy: 0.7640 - val_loss: 2.7435 - val_accuracy: 0.4500\n",
      "Epoch 868/1000\n",
      "70/70 [==============================] - 0s 1ms/step - loss: 0.6139 - accuracy: 0.7994 - val_loss: 2.7479 - val_accuracy: 0.4567\n",
      "Epoch 869/1000\n",
      "70/70 [==============================] - 0s 1ms/step - loss: 0.7077 - accuracy: 0.7548 - val_loss: 2.7875 - val_accuracy: 0.4567\n",
      "Epoch 870/1000\n",
      "70/70 [==============================] - 0s 1ms/step - loss: 0.6493 - accuracy: 0.7747 - val_loss: 2.7251 - val_accuracy: 0.4533\n",
      "Epoch 871/1000\n",
      "70/70 [==============================] - 0s 1ms/step - loss: 0.6549 - accuracy: 0.7984 - val_loss: 2.7625 - val_accuracy: 0.4567\n",
      "Epoch 872/1000\n",
      "70/70 [==============================] - 0s 1ms/step - loss: 0.6039 - accuracy: 0.7997 - val_loss: 2.7529 - val_accuracy: 0.4567\n",
      "Epoch 873/1000\n",
      "70/70 [==============================] - 0s 1ms/step - loss: 0.5770 - accuracy: 0.8065 - val_loss: 2.7567 - val_accuracy: 0.4567\n",
      "Epoch 874/1000\n",
      "70/70 [==============================] - 0s 1ms/step - loss: 0.6653 - accuracy: 0.7757 - val_loss: 2.7607 - val_accuracy: 0.4567\n",
      "Epoch 875/1000\n",
      "70/70 [==============================] - 0s 1ms/step - loss: 0.6159 - accuracy: 0.7751 - val_loss: 2.7814 - val_accuracy: 0.4633\n",
      "Epoch 876/1000\n",
      "70/70 [==============================] - 0s 1ms/step - loss: 0.6519 - accuracy: 0.7828 - val_loss: 2.7804 - val_accuracy: 0.4567\n",
      "Epoch 877/1000\n",
      "70/70 [==============================] - 0s 1ms/step - loss: 0.5875 - accuracy: 0.7905 - val_loss: 2.7484 - val_accuracy: 0.4567\n",
      "Epoch 878/1000\n",
      "70/70 [==============================] - 0s 1ms/step - loss: 0.6009 - accuracy: 0.7957 - val_loss: 2.7416 - val_accuracy: 0.4533\n",
      "Epoch 879/1000\n",
      "70/70 [==============================] - 0s 1ms/step - loss: 0.6437 - accuracy: 0.7809 - val_loss: 2.7438 - val_accuracy: 0.4567\n",
      "Epoch 880/1000\n",
      "70/70 [==============================] - 0s 1ms/step - loss: 0.5916 - accuracy: 0.8047 - val_loss: 2.7838 - val_accuracy: 0.4533\n",
      "Epoch 881/1000\n",
      "70/70 [==============================] - 0s 1ms/step - loss: 0.6128 - accuracy: 0.7668 - val_loss: 2.7702 - val_accuracy: 0.4500\n",
      "Epoch 882/1000\n",
      "70/70 [==============================] - 0s 1ms/step - loss: 0.6334 - accuracy: 0.7852 - val_loss: 2.7545 - val_accuracy: 0.4467\n",
      "Epoch 883/1000\n",
      "70/70 [==============================] - 0s 1ms/step - loss: 0.5778 - accuracy: 0.7973 - val_loss: 2.7859 - val_accuracy: 0.4533\n",
      "Epoch 884/1000\n",
      "70/70 [==============================] - 0s 1ms/step - loss: 0.6599 - accuracy: 0.7580 - val_loss: 2.7727 - val_accuracy: 0.4567\n",
      "Epoch 885/1000\n",
      "70/70 [==============================] - 0s 1ms/step - loss: 0.6849 - accuracy: 0.7742 - val_loss: 2.7746 - val_accuracy: 0.4567\n",
      "Epoch 886/1000\n",
      "70/70 [==============================] - 0s 1ms/step - loss: 0.6604 - accuracy: 0.7747 - val_loss: 2.7642 - val_accuracy: 0.4533\n",
      "Epoch 887/1000\n",
      "70/70 [==============================] - 0s 1ms/step - loss: 0.6250 - accuracy: 0.7692 - val_loss: 2.7815 - val_accuracy: 0.4533\n",
      "Epoch 888/1000\n",
      "70/70 [==============================] - 0s 1ms/step - loss: 0.7251 - accuracy: 0.7735 - val_loss: 2.7553 - val_accuracy: 0.4533\n",
      "Epoch 889/1000\n",
      "70/70 [==============================] - 0s 1ms/step - loss: 0.6844 - accuracy: 0.7588 - val_loss: 2.7616 - val_accuracy: 0.4533\n",
      "Epoch 890/1000\n",
      "70/70 [==============================] - 0s 1ms/step - loss: 0.5946 - accuracy: 0.7810 - val_loss: 2.7676 - val_accuracy: 0.4567\n",
      "Epoch 891/1000\n",
      "70/70 [==============================] - 0s 1ms/step - loss: 0.6449 - accuracy: 0.7860 - val_loss: 2.7773 - val_accuracy: 0.4567\n",
      "Epoch 892/1000\n",
      "70/70 [==============================] - 0s 1ms/step - loss: 0.6373 - accuracy: 0.7719 - val_loss: 2.7919 - val_accuracy: 0.4567\n",
      "Epoch 893/1000\n",
      "70/70 [==============================] - 0s 1ms/step - loss: 0.6551 - accuracy: 0.7543 - val_loss: 2.7669 - val_accuracy: 0.4533\n",
      "Epoch 894/1000\n",
      "70/70 [==============================] - 0s 1ms/step - loss: 0.6562 - accuracy: 0.7909 - val_loss: 2.7986 - val_accuracy: 0.4533\n",
      "Epoch 895/1000\n",
      "70/70 [==============================] - 0s 1ms/step - loss: 0.6048 - accuracy: 0.7836 - val_loss: 2.7689 - val_accuracy: 0.4567\n",
      "Epoch 896/1000\n",
      "70/70 [==============================] - 0s 1ms/step - loss: 0.6577 - accuracy: 0.7899 - val_loss: 2.7705 - val_accuracy: 0.4567\n",
      "Epoch 897/1000\n",
      "70/70 [==============================] - 0s 1ms/step - loss: 0.6743 - accuracy: 0.7586 - val_loss: 2.8214 - val_accuracy: 0.4500\n",
      "Epoch 898/1000\n",
      "70/70 [==============================] - 0s 1ms/step - loss: 0.7109 - accuracy: 0.7495 - val_loss: 2.8289 - val_accuracy: 0.4567\n",
      "Epoch 899/1000\n",
      "70/70 [==============================] - 0s 1ms/step - loss: 0.6416 - accuracy: 0.7783 - val_loss: 2.7840 - val_accuracy: 0.4500\n",
      "Epoch 900/1000\n",
      "70/70 [==============================] - 0s 1ms/step - loss: 0.5688 - accuracy: 0.7992 - val_loss: 2.8036 - val_accuracy: 0.4533\n",
      "Epoch 901/1000\n",
      "70/70 [==============================] - 0s 1ms/step - loss: 0.6220 - accuracy: 0.7747 - val_loss: 2.7712 - val_accuracy: 0.4467\n",
      "Epoch 902/1000\n",
      "70/70 [==============================] - 0s 1ms/step - loss: 0.6299 - accuracy: 0.7729 - val_loss: 2.7817 - val_accuracy: 0.4500\n",
      "Epoch 903/1000\n",
      "70/70 [==============================] - 0s 1ms/step - loss: 0.6424 - accuracy: 0.7711 - val_loss: 2.7988 - val_accuracy: 0.4600\n",
      "Epoch 904/1000\n",
      "70/70 [==============================] - 0s 1ms/step - loss: 0.6313 - accuracy: 0.7860 - val_loss: 2.8031 - val_accuracy: 0.4567\n",
      "Epoch 905/1000\n",
      "70/70 [==============================] - 0s 1ms/step - loss: 0.6961 - accuracy: 0.7641 - val_loss: 2.7908 - val_accuracy: 0.4500\n",
      "Epoch 906/1000\n",
      "70/70 [==============================] - 0s 1ms/step - loss: 0.6449 - accuracy: 0.7657 - val_loss: 2.7940 - val_accuracy: 0.4533\n",
      "Epoch 907/1000\n",
      "70/70 [==============================] - 0s 1ms/step - loss: 0.6172 - accuracy: 0.7750 - val_loss: 2.8062 - val_accuracy: 0.4567\n",
      "Epoch 908/1000\n",
      "70/70 [==============================] - 0s 1ms/step - loss: 0.6595 - accuracy: 0.7479 - val_loss: 2.8197 - val_accuracy: 0.4533\n",
      "Epoch 909/1000\n",
      "70/70 [==============================] - 0s 1ms/step - loss: 0.6045 - accuracy: 0.7690 - val_loss: 2.8501 - val_accuracy: 0.4567\n",
      "Epoch 910/1000\n",
      "70/70 [==============================] - 0s 1ms/step - loss: 0.6569 - accuracy: 0.7727 - val_loss: 2.8087 - val_accuracy: 0.4467\n",
      "Epoch 911/1000\n",
      "70/70 [==============================] - 0s 1ms/step - loss: 0.6254 - accuracy: 0.7803 - val_loss: 2.8491 - val_accuracy: 0.4567\n",
      "Epoch 912/1000\n",
      "70/70 [==============================] - 0s 1ms/step - loss: 0.6379 - accuracy: 0.7895 - val_loss: 2.7929 - val_accuracy: 0.4567\n"
     ]
    },
    {
     "name": "stdout",
     "output_type": "stream",
     "text": [
      "Epoch 913/1000\n",
      "70/70 [==============================] - 0s 1ms/step - loss: 0.6709 - accuracy: 0.8007 - val_loss: 2.8091 - val_accuracy: 0.4500\n",
      "Epoch 914/1000\n",
      "70/70 [==============================] - 0s 1ms/step - loss: 0.6097 - accuracy: 0.7943 - val_loss: 2.8146 - val_accuracy: 0.4500\n",
      "Epoch 915/1000\n",
      "70/70 [==============================] - 0s 1ms/step - loss: 0.6495 - accuracy: 0.7800 - val_loss: 2.8442 - val_accuracy: 0.4567\n",
      "Epoch 916/1000\n",
      "70/70 [==============================] - 0s 1ms/step - loss: 0.6314 - accuracy: 0.7832 - val_loss: 2.8196 - val_accuracy: 0.4533\n",
      "Epoch 917/1000\n",
      "70/70 [==============================] - 0s 1ms/step - loss: 0.5766 - accuracy: 0.8142 - val_loss: 2.8196 - val_accuracy: 0.4600\n",
      "Epoch 918/1000\n",
      "70/70 [==============================] - 0s 1ms/step - loss: 0.6202 - accuracy: 0.7880 - val_loss: 2.8449 - val_accuracy: 0.4567\n",
      "Epoch 919/1000\n",
      "70/70 [==============================] - 0s 1ms/step - loss: 0.6258 - accuracy: 0.7759 - val_loss: 2.8334 - val_accuracy: 0.4567\n",
      "Epoch 920/1000\n",
      "70/70 [==============================] - 0s 1ms/step - loss: 0.6047 - accuracy: 0.7795 - val_loss: 2.8297 - val_accuracy: 0.4567\n",
      "Epoch 921/1000\n",
      "70/70 [==============================] - ETA: 0s - loss: 0.2435 - accuracy: 0.90 - 0s 1ms/step - loss: 0.5901 - accuracy: 0.7771 - val_loss: 2.8407 - val_accuracy: 0.4567\n",
      "Epoch 922/1000\n",
      "70/70 [==============================] - 0s 1ms/step - loss: 0.6627 - accuracy: 0.7665 - val_loss: 2.8256 - val_accuracy: 0.4567\n",
      "Epoch 923/1000\n",
      "70/70 [==============================] - 0s 1ms/step - loss: 0.6486 - accuracy: 0.7745 - val_loss: 2.8241 - val_accuracy: 0.4533\n",
      "Epoch 924/1000\n",
      "70/70 [==============================] - 0s 1ms/step - loss: 0.6219 - accuracy: 0.7911 - val_loss: 2.7783 - val_accuracy: 0.4500\n",
      "Epoch 925/1000\n",
      "70/70 [==============================] - 0s 1ms/step - loss: 0.6479 - accuracy: 0.7740 - val_loss: 2.8253 - val_accuracy: 0.4500\n",
      "Epoch 926/1000\n",
      "70/70 [==============================] - 0s 1ms/step - loss: 0.6328 - accuracy: 0.7822 - val_loss: 2.7922 - val_accuracy: 0.4500\n",
      "Epoch 927/1000\n",
      "70/70 [==============================] - 0s 1ms/step - loss: 0.6358 - accuracy: 0.7836 - val_loss: 2.8169 - val_accuracy: 0.4600\n",
      "Epoch 928/1000\n",
      "70/70 [==============================] - 0s 1ms/step - loss: 0.5925 - accuracy: 0.7719 - val_loss: 2.8230 - val_accuracy: 0.4500\n",
      "Epoch 929/1000\n",
      "70/70 [==============================] - 0s 1ms/step - loss: 0.6298 - accuracy: 0.7715 - val_loss: 2.8355 - val_accuracy: 0.4533\n",
      "Epoch 930/1000\n",
      "70/70 [==============================] - 0s 1ms/step - loss: 0.6573 - accuracy: 0.7579 - val_loss: 2.8485 - val_accuracy: 0.4533\n",
      "Epoch 931/1000\n",
      "70/70 [==============================] - 0s 1ms/step - loss: 0.6170 - accuracy: 0.7946 - val_loss: 2.7937 - val_accuracy: 0.4433\n",
      "Epoch 932/1000\n",
      "70/70 [==============================] - 0s 1ms/step - loss: 0.6408 - accuracy: 0.7836 - val_loss: 2.8528 - val_accuracy: 0.4533\n",
      "Epoch 933/1000\n",
      "70/70 [==============================] - 0s 1ms/step - loss: 0.6102 - accuracy: 0.7711 - val_loss: 2.8414 - val_accuracy: 0.4533\n",
      "Epoch 934/1000\n",
      "70/70 [==============================] - 0s 1ms/step - loss: 0.6374 - accuracy: 0.7679 - val_loss: 2.8637 - val_accuracy: 0.4500\n",
      "Epoch 935/1000\n",
      "70/70 [==============================] - 0s 1ms/step - loss: 0.6451 - accuracy: 0.7664 - val_loss: 2.8319 - val_accuracy: 0.4533\n",
      "Epoch 936/1000\n",
      "70/70 [==============================] - 0s 1ms/step - loss: 0.5714 - accuracy: 0.7959 - val_loss: 2.8176 - val_accuracy: 0.4500\n",
      "Epoch 937/1000\n",
      "70/70 [==============================] - 0s 1ms/step - loss: 0.6566 - accuracy: 0.7466 - val_loss: 2.8521 - val_accuracy: 0.4567\n",
      "Epoch 938/1000\n",
      "70/70 [==============================] - 0s 1ms/step - loss: 0.5915 - accuracy: 0.7952 - val_loss: 2.8704 - val_accuracy: 0.4567\n",
      "Epoch 939/1000\n",
      "70/70 [==============================] - 0s 1ms/step - loss: 0.6440 - accuracy: 0.7818 - val_loss: 2.8505 - val_accuracy: 0.4567\n",
      "Epoch 940/1000\n",
      "70/70 [==============================] - 0s 1ms/step - loss: 0.6345 - accuracy: 0.7740 - val_loss: 2.8324 - val_accuracy: 0.4500\n",
      "Epoch 941/1000\n",
      "70/70 [==============================] - 0s 1ms/step - loss: 0.6694 - accuracy: 0.7739 - val_loss: 2.8503 - val_accuracy: 0.4533\n",
      "Epoch 942/1000\n",
      "70/70 [==============================] - 0s 1ms/step - loss: 0.6003 - accuracy: 0.7779 - val_loss: 2.8435 - val_accuracy: 0.4533\n",
      "Epoch 943/1000\n",
      "70/70 [==============================] - 0s 1ms/step - loss: 0.6187 - accuracy: 0.7874 - val_loss: 2.8434 - val_accuracy: 0.4533\n",
      "Epoch 944/1000\n",
      "70/70 [==============================] - 0s 1ms/step - loss: 0.5903 - accuracy: 0.8072 - val_loss: 2.8300 - val_accuracy: 0.4533\n",
      "Epoch 945/1000\n",
      "70/70 [==============================] - 0s 1ms/step - loss: 0.6019 - accuracy: 0.7833 - val_loss: 2.8557 - val_accuracy: 0.4600\n",
      "Epoch 946/1000\n",
      "70/70 [==============================] - 0s 1ms/step - loss: 0.5427 - accuracy: 0.8168 - val_loss: 2.8583 - val_accuracy: 0.4500\n",
      "Epoch 947/1000\n",
      "70/70 [==============================] - 0s 1ms/step - loss: 0.6249 - accuracy: 0.7778 - val_loss: 2.8564 - val_accuracy: 0.4433\n",
      "Epoch 948/1000\n",
      "70/70 [==============================] - 0s 1ms/step - loss: 0.6580 - accuracy: 0.7637 - val_loss: 2.8540 - val_accuracy: 0.4500\n",
      "Epoch 949/1000\n",
      "70/70 [==============================] - 0s 1ms/step - loss: 0.6127 - accuracy: 0.7835 - val_loss: 2.8399 - val_accuracy: 0.4500\n",
      "Epoch 950/1000\n",
      "70/70 [==============================] - 0s 1ms/step - loss: 0.6250 - accuracy: 0.7735 - val_loss: 2.8514 - val_accuracy: 0.4533\n",
      "Epoch 951/1000\n",
      "70/70 [==============================] - 0s 1ms/step - loss: 0.6398 - accuracy: 0.7756 - val_loss: 2.8453 - val_accuracy: 0.4533\n",
      "Epoch 952/1000\n",
      "70/70 [==============================] - 0s 1ms/step - loss: 0.6654 - accuracy: 0.7845 - val_loss: 2.8885 - val_accuracy: 0.4533\n",
      "Epoch 953/1000\n",
      "70/70 [==============================] - 0s 1ms/step - loss: 0.6512 - accuracy: 0.7928 - val_loss: 2.8821 - val_accuracy: 0.4600\n",
      "Epoch 954/1000\n",
      "70/70 [==============================] - 0s 1ms/step - loss: 0.6583 - accuracy: 0.7535 - val_loss: 2.8907 - val_accuracy: 0.4533\n",
      "Epoch 955/1000\n",
      "70/70 [==============================] - 0s 1ms/step - loss: 0.6824 - accuracy: 0.7654 - val_loss: 2.8657 - val_accuracy: 0.4500\n",
      "Epoch 956/1000\n",
      "70/70 [==============================] - 0s 1ms/step - loss: 0.6065 - accuracy: 0.7875 - val_loss: 2.8867 - val_accuracy: 0.4533\n",
      "Epoch 957/1000\n",
      "70/70 [==============================] - 0s 1ms/step - loss: 0.6215 - accuracy: 0.7780 - val_loss: 2.8795 - val_accuracy: 0.4533\n",
      "Epoch 958/1000\n",
      "70/70 [==============================] - 0s 1ms/step - loss: 0.5485 - accuracy: 0.8144 - val_loss: 2.9163 - val_accuracy: 0.4467\n",
      "Epoch 959/1000\n",
      "70/70 [==============================] - 0s 1ms/step - loss: 0.6264 - accuracy: 0.7999 - val_loss: 2.8718 - val_accuracy: 0.4500\n",
      "Epoch 960/1000\n",
      "70/70 [==============================] - 0s 1ms/step - loss: 0.5865 - accuracy: 0.8171 - val_loss: 2.8836 - val_accuracy: 0.4433\n",
      "Epoch 961/1000\n",
      "70/70 [==============================] - 0s 1ms/step - loss: 0.5880 - accuracy: 0.7908 - val_loss: 2.8543 - val_accuracy: 0.4467\n",
      "Epoch 962/1000\n",
      "70/70 [==============================] - 0s 1ms/step - loss: 0.6048 - accuracy: 0.7822 - val_loss: 2.8866 - val_accuracy: 0.4567\n",
      "Epoch 963/1000\n",
      "70/70 [==============================] - 0s 1ms/step - loss: 0.6366 - accuracy: 0.7797 - val_loss: 2.8887 - val_accuracy: 0.4533\n",
      "Epoch 964/1000\n",
      "70/70 [==============================] - 0s 1ms/step - loss: 0.6001 - accuracy: 0.7994 - val_loss: 2.9045 - val_accuracy: 0.4467\n",
      "Epoch 965/1000\n",
      "70/70 [==============================] - 0s 1ms/step - loss: 0.6091 - accuracy: 0.7859 - val_loss: 2.9195 - val_accuracy: 0.4500\n",
      "Epoch 966/1000\n",
      "70/70 [==============================] - 0s 1ms/step - loss: 0.6308 - accuracy: 0.7979 - val_loss: 2.8661 - val_accuracy: 0.4467\n",
      "Epoch 967/1000\n",
      "70/70 [==============================] - 0s 1ms/step - loss: 0.6397 - accuracy: 0.7526 - val_loss: 2.8747 - val_accuracy: 0.4567\n",
      "Epoch 968/1000\n",
      "70/70 [==============================] - 0s 1ms/step - loss: 0.5845 - accuracy: 0.7819 - val_loss: 2.8932 - val_accuracy: 0.4533\n",
      "Epoch 969/1000\n"
     ]
    },
    {
     "name": "stdout",
     "output_type": "stream",
     "text": [
      "70/70 [==============================] - 0s 1ms/step - loss: 0.5943 - accuracy: 0.8005 - val_loss: 2.9154 - val_accuracy: 0.4533\n",
      "Epoch 970/1000\n",
      "70/70 [==============================] - 0s 1ms/step - loss: 0.5887 - accuracy: 0.7951 - val_loss: 2.8965 - val_accuracy: 0.4533\n",
      "Epoch 971/1000\n",
      "70/70 [==============================] - 0s 1ms/step - loss: 0.6167 - accuracy: 0.7831 - val_loss: 2.8706 - val_accuracy: 0.4467\n",
      "Epoch 972/1000\n",
      "70/70 [==============================] - 0s 1ms/step - loss: 0.5542 - accuracy: 0.8060 - val_loss: 2.8827 - val_accuracy: 0.4500\n",
      "Epoch 973/1000\n",
      "70/70 [==============================] - 0s 1ms/step - loss: 0.6221 - accuracy: 0.7763 - val_loss: 2.9180 - val_accuracy: 0.4533\n",
      "Epoch 974/1000\n",
      "70/70 [==============================] - 0s 1ms/step - loss: 0.5675 - accuracy: 0.8013 - val_loss: 2.8802 - val_accuracy: 0.4467\n",
      "Epoch 975/1000\n",
      "70/70 [==============================] - 0s 1ms/step - loss: 0.6526 - accuracy: 0.7675 - val_loss: 2.8922 - val_accuracy: 0.4567\n",
      "Epoch 976/1000\n",
      "70/70 [==============================] - 0s 1ms/step - loss: 0.6286 - accuracy: 0.7752 - val_loss: 2.8851 - val_accuracy: 0.4467\n",
      "Epoch 977/1000\n",
      "70/70 [==============================] - 0s 1ms/step - loss: 0.5813 - accuracy: 0.8113 - val_loss: 2.9370 - val_accuracy: 0.4500\n",
      "Epoch 978/1000\n",
      "70/70 [==============================] - 0s 1ms/step - loss: 0.6498 - accuracy: 0.7692 - val_loss: 2.9194 - val_accuracy: 0.4467\n",
      "Epoch 979/1000\n",
      "70/70 [==============================] - 0s 1ms/step - loss: 0.6513 - accuracy: 0.7860 - val_loss: 2.9205 - val_accuracy: 0.4433\n",
      "Epoch 980/1000\n",
      "70/70 [==============================] - 0s 1ms/step - loss: 0.6491 - accuracy: 0.7670 - val_loss: 2.9396 - val_accuracy: 0.4500\n",
      "Epoch 981/1000\n",
      "70/70 [==============================] - 0s 1ms/step - loss: 0.5839 - accuracy: 0.8128 - val_loss: 2.9292 - val_accuracy: 0.4533\n",
      "Epoch 982/1000\n",
      "70/70 [==============================] - 0s 1ms/step - loss: 0.5930 - accuracy: 0.7971 - val_loss: 2.8998 - val_accuracy: 0.4567\n",
      "Epoch 983/1000\n",
      "70/70 [==============================] - 0s 1ms/step - loss: 0.5633 - accuracy: 0.8036 - val_loss: 2.9002 - val_accuracy: 0.4467\n",
      "Epoch 984/1000\n",
      "70/70 [==============================] - 0s 1ms/step - loss: 0.6115 - accuracy: 0.8105 - val_loss: 2.9157 - val_accuracy: 0.4567\n",
      "Epoch 985/1000\n",
      "70/70 [==============================] - 0s 1ms/step - loss: 0.5782 - accuracy: 0.8155 - val_loss: 2.9364 - val_accuracy: 0.4567\n",
      "Epoch 986/1000\n",
      "70/70 [==============================] - 0s 1ms/step - loss: 0.6150 - accuracy: 0.7735 - val_loss: 2.8918 - val_accuracy: 0.4467\n",
      "Epoch 987/1000\n",
      "70/70 [==============================] - 0s 1ms/step - loss: 0.6297 - accuracy: 0.7746 - val_loss: 2.9022 - val_accuracy: 0.4467\n",
      "Epoch 988/1000\n",
      "70/70 [==============================] - 0s 1ms/step - loss: 0.7055 - accuracy: 0.7905 - val_loss: 2.8959 - val_accuracy: 0.4533\n",
      "Epoch 989/1000\n",
      "70/70 [==============================] - 0s 1ms/step - loss: 0.6261 - accuracy: 0.7647 - val_loss: 2.8823 - val_accuracy: 0.4533\n",
      "Epoch 990/1000\n",
      "70/70 [==============================] - 0s 1ms/step - loss: 0.5756 - accuracy: 0.8082 - val_loss: 2.9107 - val_accuracy: 0.4567\n",
      "Epoch 991/1000\n",
      "70/70 [==============================] - 0s 1ms/step - loss: 0.6272 - accuracy: 0.7962 - val_loss: 2.9245 - val_accuracy: 0.4500\n",
      "Epoch 992/1000\n",
      "70/70 [==============================] - 0s 1ms/step - loss: 0.6079 - accuracy: 0.7916 - val_loss: 2.9085 - val_accuracy: 0.4533\n",
      "Epoch 993/1000\n",
      "70/70 [==============================] - 0s 1ms/step - loss: 0.6835 - accuracy: 0.7728 - val_loss: 2.9469 - val_accuracy: 0.4500\n",
      "Epoch 994/1000\n",
      "70/70 [==============================] - 0s 1ms/step - loss: 0.6315 - accuracy: 0.7628 - val_loss: 2.9113 - val_accuracy: 0.4500\n",
      "Epoch 995/1000\n",
      "70/70 [==============================] - 0s 1ms/step - loss: 0.5481 - accuracy: 0.8238 - val_loss: 2.9353 - val_accuracy: 0.4567\n",
      "Epoch 996/1000\n",
      "70/70 [==============================] - 0s 1ms/step - loss: 0.5875 - accuracy: 0.8166 - val_loss: 2.9107 - val_accuracy: 0.4567\n",
      "Epoch 997/1000\n",
      "70/70 [==============================] - 0s 1ms/step - loss: 0.6216 - accuracy: 0.7852 - val_loss: 2.9120 - val_accuracy: 0.4500\n",
      "Epoch 998/1000\n",
      "70/70 [==============================] - 0s 1ms/step - loss: 0.6114 - accuracy: 0.8075 - val_loss: 2.9211 - val_accuracy: 0.4533\n",
      "Epoch 999/1000\n",
      "70/70 [==============================] - 0s 1ms/step - loss: 0.5874 - accuracy: 0.7954 - val_loss: 2.9386 - val_accuracy: 0.4567\n",
      "Epoch 1000/1000\n",
      "70/70 [==============================] - 0s 1ms/step - loss: 0.6335 - accuracy: 0.7759 - val_loss: 2.9431 - val_accuracy: 0.4533\n"
     ]
    }
   ],
   "source": [
    "hist = model.fit(X_train, Y_train, epochs=1000, batch_size=10, validation_data=(X_val,Y_val))  #val_accuracy (이 데이터의 accuracy)"
   ]
  },
  {
   "cell_type": "markdown",
   "metadata": {},
   "source": [
    "# 5. 모델학습과정 표시하고 평가하기 "
   ]
  },
  {
   "cell_type": "code",
   "execution_count": 34,
   "metadata": {
    "ExecuteTime": {
     "end_time": "2021-03-23T08:17:33.360709Z",
     "start_time": "2021-03-23T08:17:33.351733Z"
    }
   },
   "outputs": [
    {
     "data": {
      "text/plain": [
       "dict_keys(['loss', 'accuracy', 'val_loss', 'val_accuracy'])"
      ]
     },
     "execution_count": 34,
     "metadata": {},
     "output_type": "execute_result"
    }
   ],
   "source": [
    "hist.history.keys()"
   ]
  },
  {
   "cell_type": "code",
   "execution_count": 33,
   "metadata": {
    "ExecuteTime": {
     "end_time": "2021-03-23T08:16:55.634674Z",
     "start_time": "2021-03-23T08:16:55.490731Z"
    }
   },
   "outputs": [
    {
     "data": {
      "text/plain": [
       "[<matplotlib.lines.Line2D at 0x1ec87431340>]"
      ]
     },
     "execution_count": 33,
     "metadata": {},
     "output_type": "execute_result"
    },
    {
     "data": {
      "image/png": "[encoded data removed]",
      "text/plain": [
       "<Figure size 432x288 with 1 Axes>"
      ]
     },
     "metadata": {
      "needs_background": "light"
     },
     "output_type": "display_data"
    }
   ],
   "source": [
    "plt.plot(hist.history['loss'])"
   ]
  },
  {
   "cell_type": "markdown",
   "metadata": {},
   "source": [
    "## 5.1 학습과정 표시하기"
   ]
  },
  {
   "cell_type": "code",
   "execution_count": 37,
   "metadata": {
    "ExecuteTime": {
     "end_time": "2021-03-23T08:38:31.391513Z",
     "start_time": "2021-03-23T08:38:31.114227Z"
    }
   },
   "outputs": [
    {
     "data": {
      "text/plain": [
       "<matplotlib.legend.Legend at 0x1ec894c9b50>"
      ]
     },
     "execution_count": 37,
     "metadata": {},
     "output_type": "execute_result"
    },
    {
     "data": {
      "image/png": "[encoded data removed]",
      "text/plain": [
       "<Figure size 432x288 with 2 Axes>"
      ]
     },
     "metadata": {
      "needs_background": "light"
     },
     "output_type": "display_data"
    }
   ],
   "source": [
    "fig, loss_ax = plt.subplots()\n",
    "loss_ax.plot(hist.history['loss'], 'y',label=\"train loss\")\n",
    "loss_ax.plot(hist.history['val_loss'],'g',label='val loss')   #val_loss 검증셋 데이어틔 loss   #200번이 넘어가면서 너무 과적합해서 loss가 높아져. 회귀선과 더 멀어짐\n",
    "loss_ax.set_xlabel(\"epochs\")\n",
    "loss_ax.set_ylabel(\"loss\")\n",
    "\n",
    "acc_ax = loss_ax.twinx()  #x축을 공유하는 acc_ax\n",
    "acc_ax.plot(hist.history['accuracy'],'b', label=\"train accuracy\")\n",
    "acc_ax.plot(hist.history['val_accuracy'],'r', label=\"val accuracy\") # accuracy 저조함. 좋은 model 아님.\n",
    "acc_ax.set_ylabel(\"accuracy\")\n",
    "\n",
    "loss_ax.legend(loc=\"upper left\")\n",
    "acc_ax.legend(loc=\"lower left\")\n"
   ]
  },
  {
   "cell_type": "markdown",
   "metadata": {},
   "source": [
    "## 5.2 모델 평가하기"
   ]
  },
  {
   "cell_type": "code",
   "execution_count": 38,
   "metadata": {
    "ExecuteTime": {
     "end_time": "2021-03-23T08:43:50.480841Z",
     "start_time": "2021-03-23T08:43:50.047878Z"
    }
   },
   "outputs": [
    {
     "name": "stdout",
     "output_type": "stream",
     "text": [
      "313/313 [==============================] - 0s 902us/step - loss: 2.8772 - accuracy: 0.4572\n"
     ]
    }
   ],
   "source": [
    "loss_and_metrics = model.evaluate(X_test,Y_test, batch_size=32) "
   ]
  },
  {
   "cell_type": "code",
   "execution_count": 39,
   "metadata": {
    "ExecuteTime": {
     "end_time": "2021-03-23T08:44:48.796581Z",
     "start_time": "2021-03-23T08:44:48.790570Z"
    }
   },
   "outputs": [
    {
     "name": "stdout",
     "output_type": "stream",
     "text": [
      "loss: 2.8772237300872803\n",
      "accuracy: 0.45719999074935913\n"
     ]
    }
   ],
   "source": [
    "print(\"loss:\",loss_and_metrics[0])\n",
    "print(\"accuracy:\",loss_and_metrics[1])"
   ]
  },
  {
   "cell_type": "markdown",
   "metadata": {},
   "source": [
    "# 6. 모델 저장 및 로드 하기 "
   ]
  },
  {
   "cell_type": "code",
   "execution_count": 40,
   "metadata": {
    "ExecuteTime": {
     "end_time": "2021-03-23T08:46:57.693824Z",
     "start_time": "2021-03-23T08:46:57.451155Z"
    }
   },
   "outputs": [],
   "source": [
    "model.save(\"model/mnist.h5\")  #모델 저장 확장자 반드시 h5"
   ]
  },
  {
   "cell_type": "code",
   "execution_count": 41,
   "metadata": {
    "ExecuteTime": {
     "end_time": "2021-03-23T08:47:36.661570Z",
     "start_time": "2021-03-23T08:47:36.647633Z"
    }
   },
   "outputs": [
    {
     "name": "stdout",
     "output_type": "stream",
     "text": [
      "Model: \"sequential\"\n",
      "_________________________________________________________________\n",
      "Layer (type)                 Output Shape              Param #   \n",
      "=================================================================\n",
      "dense (Dense)                (None, 2)                 1570      \n",
      "_________________________________________________________________\n",
      "dense_1 (Dense)              (None, 10)                30        \n",
      "=================================================================\n",
      "Total params: 1,600\n",
      "Trainable params: 1,600\n",
      "Non-trainable params: 0\n",
      "_________________________________________________________________\n"
     ]
    }
   ],
   "source": [
    "model.summary() #1600개의 parameter가 위 파일에 저장됨 "
   ]
  },
  {
   "cell_type": "code",
   "execution_count": 43,
   "metadata": {
    "ExecuteTime": {
     "end_time": "2021-03-23T08:52:32.564834Z",
     "start_time": "2021-03-23T08:52:32.521968Z"
    }
   },
   "outputs": [
    {
     "name": "stdout",
     "output_type": "stream",
     "text": [
      "Model: \"sequential\"\n",
      "_________________________________________________________________\n",
      "Layer (type)                 Output Shape              Param #   \n",
      "=================================================================\n",
      "dense (Dense)                (None, 2)                 1570      \n",
      "_________________________________________________________________\n",
      "dense_1 (Dense)              (None, 10)                30        \n",
      "=================================================================\n",
      "Total params: 1,600\n",
      "Trainable params: 1,600\n",
      "Non-trainable params: 0\n",
      "_________________________________________________________________\n"
     ]
    }
   ],
   "source": [
    "from tensorflow.keras.models import load_model\n",
    "model2 = load_model('model/mnist.h5')\n",
    "model2.summary()"
   ]
  },
  {
   "cell_type": "code",
   "execution_count": 56,
   "metadata": {
    "ExecuteTime": {
     "end_time": "2021-03-23T08:58:59.562178Z",
     "start_time": "2021-03-23T08:58:59.430556Z"
    }
   },
   "outputs": [
    {
     "data": {
      "text/plain": [
       "<matplotlib.image.AxesImage at 0x1ec898678b0>"
      ]
     },
     "execution_count": 56,
     "metadata": {},
     "output_type": "execute_result"
    },
    {
     "data": {
      "image/png": "[encoded data removed]",
      "text/plain": [
       "<Figure size 432x288 with 1 Axes>"
      ]
     },
     "metadata": {
      "needs_background": "light"
     },
     "output_type": "display_data"
    }
   ],
   "source": [
    "plt.imshow(X_val[3].reshape(28,28))"
   ]
  },
  {
   "cell_type": "code",
   "execution_count": 58,
   "metadata": {
    "ExecuteTime": {
     "end_time": "2021-03-23T08:59:42.066481Z",
     "start_time": "2021-03-23T08:59:42.015763Z"
    }
   },
   "outputs": [
    {
     "name": "stdout",
     "output_type": "stream",
     "text": [
      "[[2.8426542e-16 7.6384978e-08 1.2891388e-16 6.1608213e-01 3.0301299e-13\n",
      "  3.7959701e-01 2.9767171e-21 2.7831702e-14 7.7697320e-04 3.5438894e-03]]\n"
     ]
    },
    {
     "data": {
      "text/plain": [
       "3"
      ]
     },
     "execution_count": 58,
     "metadata": {},
     "output_type": "execute_result"
    }
   ],
   "source": [
    "result = model2.predict(X_val[3].reshape(1,784))\n",
    "print(result)\n",
    "result.argmax()  #3번째 방이 제일큼 "
   ]
  },
  {
   "cell_type": "code",
   "execution_count": 60,
   "metadata": {
    "ExecuteTime": {
     "end_time": "2021-03-23T08:59:52.652517Z",
     "start_time": "2021-03-23T08:59:52.639526Z"
    }
   },
   "outputs": [
    {
     "data": {
      "text/plain": [
       "5"
      ]
     },
     "execution_count": 60,
     "metadata": {},
     "output_type": "execute_result"
    }
   ],
   "source": [
    "Y_val[3].argmax()    #train data가 비교적 잘 맞추고, val data가 잘 못맞춰   # 그 다음 5번째 방이 제일큼    (큰 확율 순!!!!!!!) 그러나 잘못맞춤"
   ]
  },
  {
   "cell_type": "markdown",
   "metadata": {},
   "source": [
    "argmax를 하거나 predict_classes를 한다"
   ]
  },
  {
   "cell_type": "code",
   "execution_count": 61,
   "metadata": {
    "ExecuteTime": {
     "end_time": "2021-03-23T09:03:22.092284Z",
     "start_time": "2021-03-23T09:03:22.004940Z"
    },
    "scrolled": true
   },
   "outputs": [
    {
     "name": "stderr",
     "output_type": "stream",
     "text": [
      "C:\\Users\\tjoeun\\anaconda3\\lib\\site-packages\\tensorflow\\python\\keras\\engine\\sequential.py:450: UserWarning: `model.predict_classes()` is deprecated and will be removed after 2021-01-01. Please use instead:* `np.argmax(model.predict(x), axis=-1)`,   if your model does multi-class classification   (e.g. if it uses a `softmax` last-layer activation).* `(model.predict(x) > 0.5).astype(\"int32\")`,   if your model does binary classification   (e.g. if it uses a `sigmoid` last-layer activation).\n",
      "  warnings.warn('`model.predict_classes()` is deprecated and '\n"
     ]
    },
    {
     "data": {
      "text/plain": [
       "array([6], dtype=int64)"
      ]
     },
     "execution_count": 61,
     "metadata": {},
     "output_type": "execute_result"
    }
   ],
   "source": [
    "model2.predict_classes(X_val[0].reshape(1,784))"
   ]
  },
  {
   "cell_type": "markdown",
   "metadata": {},
   "source": [
    "# 콜백 함수 \n",
    "- 과적합 전 끝내는것"
   ]
  },
  {
   "cell_type": "code",
   "execution_count": null,
   "metadata": {},
   "outputs": [],
   "source": []
  },
  {
   "cell_type": "code",
   "execution_count": null,
   "metadata": {},
   "outputs": [],
   "source": []
  },
  {
   "cell_type": "code",
   "execution_count": null,
   "metadata": {},
   "outputs": [],
   "source": []
  },
  {
   "cell_type": "code",
   "execution_count": null,
   "metadata": {},
   "outputs": [],
   "source": []
  }
 ],
 "metadata": {
  "kernelspec": {
   "display_name": "Python 3",
   "language": "python",
   "name": "python3"
  },
  "language_info": {
   "codemirror_mode": {
    "name": "ipython",
    "version": 3
   },
   "file_extension": ".py",
   "mimetype": "text/x-python",
   "name": "python",
   "nbconvert_exporter": "python",
   "pygments_lexer": "ipython3",
   "version": "3.8.5"
  },
  "toc": {
   "base_numbering": 1,
   "nav_menu": {},
   "number_sections": false,
   "sideBar": true,
   "skip_h1_title": false,
   "title_cell": "Table of Contents",
   "title_sidebar": "Contents",
   "toc_cell": false,
   "toc_position": {},
   "toc_section_display": true,
   "toc_window_display": true
  },
  "varInspector": {
   "cols": {
    "lenName": 16,
    "lenType": 16,
    "lenVar": 40
   },
   "kernels_config": {
    "python": {
     "delete_cmd_postfix": "",
     "delete_cmd_prefix": "del ",
     "library": "var_list.py",
     "varRefreshCmd": "print(var_dic_list())"
    },
    "r": {
     "delete_cmd_postfix": ") ",
     "delete_cmd_prefix": "rm(",
     "library": "var_list.r",
     "varRefreshCmd": "cat(var_dic_list()) "
    }
   },
   "types_to_exclude": [
    "module",
    "function",
    "builtin_function_or_method",
    "instance",
    "_Feature"
   ],
   "window_display": false
  }
 },
 "nbformat": 4,
 "nbformat_minor": 4
}

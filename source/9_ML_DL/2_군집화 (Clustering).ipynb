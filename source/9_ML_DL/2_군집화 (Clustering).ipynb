{
 "cells": [
  {
   "cell_type": "code",
   "execution_count": null,
   "metadata": {},
   "outputs": [],
   "source": [
    "#노트p21  머신러닝 -- 가르쳐주는 학습 (Supervised Learning) -- 분류 (Classification)"
   ]
  },
  {
   "cell_type": "code",
   "execution_count": 1,
   "metadata": {
    "ExecuteTime": {
     "end_time": "2021-03-19T03:53:39.873875Z",
     "start_time": "2021-03-19T03:53:39.617356Z"
    }
   },
   "outputs": [],
   "source": [
    "import random\n",
    "import numpy as np \n",
    "import matplotlib.pyplot as plt\n",
    "\n",
    "data = []\n",
    "for i in range(50):\n",
    "    data.append([random.randint(40,70), random.randint(140,180) ]) #짝수 여자        몸무개 40-70사이   키 140-180사이\n",
    "    data.append([random.randint(60,90), random.randint(170,200)])  #홀수 남자 \n",
    "    "
   ]
  },
  {
   "cell_type": "markdown",
   "metadata": {
    "ExecuteTime": {
     "end_time": "2021-03-19T03:56:47.622459Z",
     "start_time": "2021-03-19T03:56:47.606533Z"
    }
   },
   "source": [
    "- 컴퓨터는 군집화를 2개로 나눔 - 여자 남자 (컴퓨터에게는 2개의 군집화 그룹)"
   ]
  },
  {
   "cell_type": "code",
   "execution_count": 10,
   "metadata": {
    "ExecuteTime": {
     "end_time": "2021-03-19T03:59:30.167543Z",
     "start_time": "2021-03-19T03:59:30.156594Z"
    }
   },
   "outputs": [
    {
     "name": "stdout",
     "output_type": "stream",
     "text": [
      "[56, 150] [48, 175] [68, 157] [46, 157] [65, 158] [57, 149] [53, 140] [68, 147] [60, 168] [56, 145] [60, 140] [52, 165] [61, 168] [68, 164] [69, 163] [42, 178] [49, 180] [63, 165] [44, 178] [46, 164] [52, 140] [52, 153] [42, 159] [55, 166] [49, 152] [42, 145] [70, 143] [50, 152] [51, 160] [69, 152] [66, 166] [59, 162] [63, 177] [70, 162] [69, 143] [50, 161] [44, 156] [50, 180] [45, 175] [65, 168] [44, 145] [52, 161] [41, 178] [47, 155] [41, 146] [47, 158] [53, 171] [63, 144] [46, 141] [49, 148] \n",
      "--------------------------------------------\n",
      "[66, 189] [82, 177] [71, 186] [71, 186] [61, 170] [88, 196] [81, 171] [85, 182] [85, 198] [89, 174] [70, 180] [66, 188] [83, 177] [76, 198] [79, 186] [65, 199] [80, 188] [90, 174] [72, 193] [90, 187] [78, 194] [73, 198] [69, 178] [64, 178] [77, 191] [82, 182] [83, 172] [71, 174] [79, 180] [77, 194] [87, 173] [79, 174] [72, 170] [72, 175] [67, 182] [79, 182] [80, 193] [84, 196] [74, 187] [88, 200] [64, 195] [80, 183] [68, 198] [75, 200] [60, 178] [72, 181] [67, 176] [64, 186] [73, 178] [65, 171] "
     ]
    }
   ],
   "source": [
    "# 여자             출력결과: [몸무게,키]\n",
    "#data[0:100:2]                                     # 0번째 방부터 100번째 방앞까지 사이  2칸씩 증가   0번째,2번째,4번째..방\n",
    "for female in data[0:100:2]:\n",
    "    print(female,end=\" \")\n",
    "print(\"\\n--------------------------------------------\")\n",
    "\n",
    "# 남자\n",
    "#data[1:100:2]    #170에서 200사이\n",
    "for male in data[1:100:2]:\n",
    "    print(male,end=\" \")"
   ]
  },
  {
   "cell_type": "code",
   "execution_count": 12,
   "metadata": {
    "ExecuteTime": {
     "end_time": "2021-03-19T04:04:17.106079Z",
     "start_time": "2021-03-19T04:04:16.939805Z"
    }
   },
   "outputs": [
    {
     "data": {
      "text/plain": [
       "[<matplotlib.lines.Line2D at 0x21549b276a0>]"
      ]
     },
     "execution_count": 12,
     "metadata": {},
     "output_type": "execute_result"
    },
    {
     "data": {
      "image/png": "[encoded data removed]",
      "text/plain": [
       "<Figure size 432x288 with 1 Axes>"
      ]
     },
     "metadata": {
      "needs_background": "light"
     },
     "output_type": "display_data"
    }
   ],
   "source": [
    "# 여자 몸무게\n",
    "[d[0]for d in data[0:100:2]]           #d[0]을 for문 앞에다\n",
    "\n",
    "# 여자 키 \n",
    "[d[1] for d in data[0:100:2]]\n",
    "\n",
    "# 남자 몸무게\n",
    "[d[0]for d in data[1:100:2]]   \n",
    "\n",
    "# 남자 키 \n",
    "[d[1]for d in data[1:100:2]]   \n",
    "\n",
    "plt.plot(  [d[0]for d in data[0:100:2]] ,  [d[1] for d in data[0:100:2]] ,'o', color='r'  )  #여자 몸무개 키\n",
    "plt.plot(  [d[0]for d in data[1:100:2]] ,   [d[1]for d in data[1:100:2]] ,'o', color='b'  )  #남자 몸무개 키"
   ]
  },
  {
   "cell_type": "code",
   "execution_count": 21,
   "metadata": {
    "ExecuteTime": {
     "end_time": "2021-03-19T05:13:27.408661Z",
     "start_time": "2021-03-19T05:13:27.401679Z"
    }
   },
   "outputs": [
    {
     "name": "stdout",
     "output_type": "stream",
     "text": [
      "초기 랜덤 기준점: [[82, 148], [86, 187]]\n"
     ]
    }
   ],
   "source": [
    "# 초기 랜덤 지점 2개             \n",
    "random_points = [[random.randint(40,90),  random.randint(140,200)],     # 두 그룹을 만들기 위해 점2개 ********** 컴퓨터는 이를 한개의 그룹이라고 생각\n",
    "                  [random.randint(40,90),  random.randint(140,200)]   ]  # 남여 '몸무개'range,  '키'range\n",
    "print('초기 랜덤 기준점:', random_points)"
   ]
  },
  {
   "cell_type": "code",
   "execution_count": 19,
   "metadata": {
    "ExecuteTime": {
     "end_time": "2021-03-19T04:13:02.681473Z",
     "start_time": "2021-03-19T04:13:02.662516Z"
    }
   },
   "outputs": [
    {
     "name": "stdout",
     "output_type": "stream",
     "text": [
      "84 193 / 80 142\n"
     ]
    }
   ],
   "source": [
    "# 기준점1\n",
    "print(random_points[0][0], random_points[0][1], end=' / ')            \n",
    "                                                                     \n",
    "\n",
    "# 기준점2\n",
    "print(random_points[1][0], random_points[1][1])\n",
    "\n",
    "        #기준점 x좌표,      기준점 y 좌표 "
   ]
  },
  {
   "cell_type": "markdown",
   "metadata": {},
   "source": [
    "- '컴퓨터'가 '군집화'하는 과정"
   ]
  },
  {
   "cell_type": "code",
   "execution_count": 20,
   "metadata": {
    "ExecuteTime": {
     "end_time": "2021-03-19T04:14:32.024299Z",
     "start_time": "2021-03-19T04:14:31.784939Z"
    }
   },
   "outputs": [
    {
     "data": {
      "text/plain": [
       "[<matplotlib.lines.Line2D at 0x21549e83ac0>]"
      ]
     },
     "execution_count": 20,
     "metadata": {},
     "output_type": "execute_result"
    },
    {
     "data": {
      "image/png": "[encoded data removed]",
      "text/plain": [
       "<Figure size 432x288 with 1 Axes>"
      ]
     },
     "metadata": {
      "needs_background": "light"
     },
     "output_type": "display_data"
    }
   ],
   "source": [
    "#컴퓨터가 '군집화'하는 과정\n",
    "for x in data:\n",
    "    plt.plot(x[0], x[1], 'o', color=\"k\")            #x축: 몸무개 == x[0],     y축: 키 ==x[1]\n",
    "plt.plot(random_points[0][0], random_points[0][1], 'x', color='r' )  # 기준점 1\n",
    "plt.plot(random_points[1][0], random_points[1][1], 'x', color='b' )  # 기준점 2              \n"
   ]
  },
  {
   "cell_type": "code",
   "execution_count": 25,
   "metadata": {
    "ExecuteTime": {
     "end_time": "2021-03-19T05:42:24.852602Z",
     "start_time": "2021-03-19T05:42:24.847636Z"
    }
   },
   "outputs": [],
   "source": [
    "# 두 영역으로 나눌 빈 리스트 생성         (중앙값을 만들어서 또 그룹핑)\n",
    "group1 = []\n",
    "group2 = []"
   ]
  },
  {
   "cell_type": "code",
   "execution_count": null,
   "metadata": {},
   "outputs": [],
   "source": [
    "# 영역을 나누기 위해 두 점 사이의 거리를 구하는 함수   두점[0,0],[3,4]    삼각형 수학식"
   ]
  },
  {
   "cell_type": "markdown",
   "metadata": {},
   "source": [
    "#### 피타고라스 수학식"
   ]
  },
  {
   "cell_type": "code",
   "execution_count": 22,
   "metadata": {
    "ExecuteTime": {
     "end_time": "2021-03-19T05:38:10.072231Z",
     "start_time": "2021-03-19T05:38:10.065250Z"
    }
   },
   "outputs": [],
   "source": [
    "def dist(a,b):\n",
    "    return np.sqrt(    (a[0]-b[0])**2   +   (a[1]-b[1])**2   )           #sqrt는 '루트'를 씌우는 함수"
   ]
  },
  {
   "cell_type": "code",
   "execution_count": 23,
   "metadata": {
    "ExecuteTime": {
     "end_time": "2021-03-19T05:38:18.790411Z",
     "start_time": "2021-03-19T05:38:18.771481Z"
    }
   },
   "outputs": [
    {
     "data": {
      "text/plain": [
       "5.0"
      ]
     },
     "execution_count": 23,
     "metadata": {},
     "output_type": "execute_result"
    }
   ],
   "source": [
    "a = [0,0]; b=[3,4]\n",
    "dist(a,b)"
   ]
  },
  {
   "cell_type": "code",
   "execution_count": 26,
   "metadata": {
    "ExecuteTime": {
     "end_time": "2021-03-19T05:42:26.683560Z",
     "start_time": "2021-03-19T05:42:26.677601Z"
    }
   },
   "outputs": [],
   "source": [
    "for d in data:\n",
    "    if dist(random_points[0],d) <  dist(random_points[1],d): # '빨간점'과 'd'랑 비교    '파랑점'과'd'랑 비교 \n",
    "        group1.append(d)  #  빨간점과의 거리 < 파랑점과의 거리 (즉 '빨간점과 더 가까운 그룹')                                                                  \n",
    "    else:\n",
    "        group2.append(d)  #파란점과 더 가까운 그룹"
   ]
  },
  {
   "cell_type": "code",
   "execution_count": 27,
   "metadata": {
    "ExecuteTime": {
     "end_time": "2021-03-19T05:44:04.586151Z",
     "start_time": "2021-03-19T05:44:04.347401Z"
    }
   },
   "outputs": [
    {
     "data": {
      "text/plain": [
       "[<matplotlib.lines.Line2D at 0x2154b2f5f10>]"
      ]
     },
     "execution_count": 27,
     "metadata": {},
     "output_type": "execute_result"
    },
    {
     "data": {
      "image/png": "[encoded data removed]",
      "text/plain": [
       "<Figure size 432x288 with 1 Axes>"
      ]
     },
     "metadata": {
      "needs_background": "light"
     },
     "output_type": "display_data"
    }
   ],
   "source": [
    "# 새로운 영역과 랜덤점 그래프 \n",
    "for d in group1:\n",
    "    plt.plot(d[0],d[1],'o',color='r')\n",
    "for d in group2:\n",
    "    plt.plot(d[0],d[1],'o', color='b')\n",
    "plt.plot(random_points[0][0], random_points[0][1], 'x', color='r' )  # 기준점 1\n",
    "plt.plot(random_points[1][0], random_points[1][1], 'x', color='b' )  # 기준점 2   \n",
    "    "
   ]
  },
  {
   "cell_type": "code",
   "execution_count": 30,
   "metadata": {
    "ExecuteTime": {
     "end_time": "2021-03-19T05:53:28.973981Z",
     "start_time": "2021-03-19T05:53:28.959001Z"
    }
   },
   "outputs": [
    {
     "name": "stdout",
     "output_type": "stream",
     "text": [
      "[[82, 148], [86, 187]]\n",
      "[[55.90243902439025, 154.58536585365854], [71.32203389830508, 183.22033898305085]]\n"
     ]
    }
   ],
   "source": [
    "# 기준점 이동\n",
    "sumX = 0; sumY=0\n",
    "for g in group1: #group1은 빨간 점들\n",
    "    sumX += g[0] # x축값들 누적\n",
    "    sumY += g[1] # y축값들 누적 \n",
    "    \n",
    "# 새로운 기준점1 \n",
    "new_points = []\n",
    "new_points.append([sumX/len(group1), sumY/len(group1)])\n",
    "sumX = 0; sumY=0;\n",
    "\n",
    "for g in group2:  #group1는 파란 점들\n",
    "    sumX += g[0] # x축값들 누적\n",
    "    sumY += g[1] # y축값들 누적\n",
    "new_points.append([sumX/len(group2), sumY/len(group2)])\n",
    "print(random_points)\n",
    "print(new_points)\n",
    "\n"
   ]
  },
  {
   "cell_type": "markdown",
   "metadata": {},
   "source": [
    "- 중간 기준점"
   ]
  },
  {
   "cell_type": "code",
   "execution_count": 31,
   "metadata": {
    "ExecuteTime": {
     "end_time": "2021-03-19T05:54:30.452522Z",
     "start_time": "2021-03-19T05:54:30.217119Z"
    }
   },
   "outputs": [
    {
     "data": {
      "text/plain": [
       "[<matplotlib.lines.Line2D at 0x2154b817ca0>]"
      ]
     },
     "execution_count": 31,
     "metadata": {},
     "output_type": "execute_result"
    },
    {
     "data": {
      "image/png": "[encoded data removed]",
      "text/plain": [
       "<Figure size 432x288 with 1 Axes>"
      ]
     },
     "metadata": {
      "needs_background": "light"
     },
     "output_type": "display_data"
    }
   ],
   "source": [
    "# 새로운 영역과 랜덤점 그래프 \n",
    "for d in group1:\n",
    "    plt.plot(d[0],d[1],'o',color='r')\n",
    "for d in group2:\n",
    "    plt.plot(d[0],d[1],'o', color='b')\n",
    "plt.plot(new_points[0][0], new_points[0][1], 'x', color='r' )  # 기준점 1\n",
    "plt.plot(new_points[1][0], new_points[1][1], 'x', color='b' )  # 기준점 2   "
   ]
  },
  {
   "cell_type": "markdown",
   "metadata": {},
   "source": [
    "- 기준점을 random_points에서 --> new_points로 바꿈"
   ]
  },
  {
   "cell_type": "code",
   "execution_count": 35,
   "metadata": {
    "ExecuteTime": {
     "end_time": "2021-03-19T05:57:41.607256Z",
     "start_time": "2021-03-19T05:57:41.597304Z"
    }
   },
   "outputs": [],
   "source": [
    "# 두 영역으로 나눌 빈 리스트 생성        \n",
    "group1 = []\n",
    "group2 = []\n",
    "\n",
    "for d in data:\n",
    "    if dist(new_points[0],d) <  dist(new_points[1],d): # '빨간점'과 'd'랑 비교    '파랑점'과'd'랑 비교 \n",
    "        group1.append(d)  #  빨간점과의 거리 < 파랑점과의 거리 (즉 '빨간점과 더 가까운 그룹')                                                                  \n",
    "    else:\n",
    "        group2.append(d)  #파란점과 더 가까운 그룹"
   ]
  },
  {
   "cell_type": "code",
   "execution_count": 36,
   "metadata": {
    "ExecuteTime": {
     "end_time": "2021-03-19T05:58:15.804853Z",
     "start_time": "2021-03-19T05:58:15.559812Z"
    }
   },
   "outputs": [
    {
     "data": {
      "text/plain": [
       "[<matplotlib.lines.Line2D at 0x21549c8d310>]"
      ]
     },
     "execution_count": 36,
     "metadata": {},
     "output_type": "execute_result"
    },
    {
     "data": {
      "image/png": "[encoded data removed]",
      "text/plain": [
       "<Figure size 432x288 with 1 Axes>"
      ]
     },
     "metadata": {
      "needs_background": "light"
     },
     "output_type": "display_data"
    }
   ],
   "source": [
    "# 새로운 영역과 랜덤점 그래프 \n",
    "for d in group1:\n",
    "    plt.plot(d[0],d[1],'o',color='r')\n",
    "for d in group2:\n",
    "    plt.plot(d[0],d[1],'o', color='b')\n",
    "plt.plot(new_points[0][0], new_points[0][1], 'x', color='r' )  # 기준점 1\n",
    "plt.plot(new_points[1][0], new_points[1][1], 'x', color='b' )  # 기준점 2   "
   ]
  },
  {
   "cell_type": "code",
   "execution_count": null,
   "metadata": {},
   "outputs": [],
   "source": [
    "# 위 그래프 빨간점이 더 많아짐 "
   ]
  },
  {
   "cell_type": "markdown",
   "metadata": {},
   "source": [
    "#### 전체코드 (최종)"
   ]
  },
  {
   "cell_type": "code",
   "execution_count": 38,
   "metadata": {
    "ExecuteTime": {
     "end_time": "2021-03-19T06:12:49.041797Z",
     "start_time": "2021-03-19T06:12:49.018881Z"
    }
   },
   "outputs": [
    {
     "name": "stdout",
     "output_type": "stream",
     "text": [
      "초기 기준점: [[48, 196], [60, 183]]\n",
      "1 번째 기준: [[60.0, 197.0], [66.71717171717172, 172.43434343434345]]\n",
      "2 번째 기준: [[73.78571428571429, 193.71428571428572], [65.48837209302326, 169.25581395348837]]\n",
      "3 번째 기준: [[78.65714285714286, 188.05714285714285], [60.184615384615384, 164.4]]\n",
      "4 번째 기준: [[77.83673469387755, 184.40816326530611], [55.90196078431372, 161.41176470588235]]\n",
      "5 번째 기준: [[77.31372549019608, 184.09803921568627], [55.55102040816327, 160.79591836734693]]\n",
      "6 번째 기준: [[77.31372549019608, 184.09803921568627], [55.55102040816327, 160.79591836734693]]\n",
      "7 번째 기준: [[77.31372549019608, 184.09803921568627], [55.55102040816327, 160.79591836734693]]\n",
      "8 번째 기준: [[77.31372549019608, 184.09803921568627], [55.55102040816327, 160.79591836734693]]\n",
      "9 번째 기준: [[77.31372549019608, 184.09803921568627], [55.55102040816327, 160.79591836734693]]\n",
      "10 번째 기준: [[77.31372549019608, 184.09803921568627], [55.55102040816327, 160.79591836734693]]\n"
     ]
    }
   ],
   "source": [
    "import random\n",
    "import numpy as np \n",
    "import matplotlib.pyplot as plt\n",
    "\n",
    "def dist(a,b):\n",
    "    return np.sqrt(    (a[0]-b[0])**2   +   (a[1]-b[1])**2   )     \n",
    "\n",
    "data = []\n",
    "for i in range(50):\n",
    "    data.append([random.randint(40,70), random.randint(140,180) ]) #짝수 여자        몸무개 40-70사이   키 140-180사이\n",
    "    data.append([random.randint(60,90), random.randint(170,200)])  #홀수 남자 \n",
    "new_points = [ [random.randint(40,90), random.randint(140,200) ],\n",
    "                [random.randint(40,90), random.randint(140,200) ] ]    \n",
    "print('초기 기준점:', new_points)\n",
    "\n",
    "for i in range(1,11): #1부터 10까지 \n",
    "    group1 = []\n",
    "    group2 = []\n",
    "    for d in data:\n",
    "        if dist(new_points[0],d)  < dist(new_points[1],d):      # 빨간점 < 파란점 \n",
    "            group1.append(d)  #빨간점과 가까운 그룹 \n",
    "        else:\n",
    "            group2.append(d) #파란점과 가까운 그룹 \n",
    "            \n",
    "            \n",
    "    # group1과 group2의 중간지점을 새로운 기준점 \n",
    "    sumX=0; sumY=0\n",
    "    for g in group1:\n",
    "        sumX += g[0]\n",
    "        sumY += g[1]\n",
    "    new_points = []\n",
    "    new_points.append([sumX/len(group1), sumY/len(group1)])\n",
    "\n",
    "    \n",
    "    sumX=0; sumY=0\n",
    "    for g in group2:\n",
    "        sumX += g[0]\n",
    "        sumY += g[1]\n",
    "    #new_points = []   이거 없애야. 아니면 첫번째 기준점 날라감 \n",
    "    new_points.append([sumX/len(group2), sumY/len(group2)])\n",
    "    print(i,'번째 기준:', new_points)\n"
   ]
  },
  {
   "cell_type": "code",
   "execution_count": null,
   "metadata": {},
   "outputs": [],
   "source": [
    "# 5번째 기준에서부터 계속 한 군데에 있다 ==> 군집합이 끝났다는 뜻 "
   ]
  },
  {
   "cell_type": "code",
   "execution_count": 39,
   "metadata": {
    "ExecuteTime": {
     "end_time": "2021-03-19T06:20:24.733466Z",
     "start_time": "2021-03-19T06:20:24.588853Z"
    }
   },
   "outputs": [
    {
     "data": {
      "text/plain": [
       "[<matplotlib.lines.Line2D at 0x21549c522b0>]"
      ]
     },
     "execution_count": 39,
     "metadata": {},
     "output_type": "execute_result"
    },
    {
     "data": {
      "image/png": "[encoded data removed]",
      "text/plain": [
       "<Figure size 432x288 with 1 Axes>"
      ]
     },
     "metadata": {
      "needs_background": "light"
     },
     "output_type": "display_data"
    }
   ],
   "source": [
    "#여자 몸무게 \n",
    "[d[0] for d in data[0:100:2]]   \n",
    "\n",
    "# 여자 키 \n",
    "[d[1] for d in data[0:100:2]] \n",
    "\n",
    "#남자 몸무게 \n",
    "[d[0] for d in data[1:100:2]]   \n",
    "\n",
    "# 남자 키 \n",
    "[d[1] for d in data[1:100:2]] \n",
    "\n",
    " # x좌표:여자 몸무개  y좌표:여자 키 \n",
    "plt.plot( [d[0] for d in data[0:100:2]] , [d[1] for d in data[0:100:2]],'o',color='r')\n",
    "\n",
    " # x좌표:남자 몸무개  y좌표:남자 키 \n",
    "plt.plot( [d[0] for d in data[1:100:2]] , [d[1] for d in data[1:100:2]],'o',color='b')\n"
   ]
  },
  {
   "cell_type": "markdown",
   "metadata": {},
   "source": [
    "#### 군집화"
   ]
  },
  {
   "cell_type": "code",
   "execution_count": 40,
   "metadata": {
    "ExecuteTime": {
     "end_time": "2021-03-19T06:21:59.329448Z",
     "start_time": "2021-03-19T06:21:59.102056Z"
    }
   },
   "outputs": [
    {
     "data": {
      "image/png": "[encoded data removed]",
      "text/plain": [
       "<Figure size 432x288 with 1 Axes>"
      ]
     },
     "metadata": {
      "needs_background": "light"
     },
     "output_type": "display_data"
    }
   ],
   "source": [
    "for g in group1:\n",
    "    plt.plot(g[0],g[1],'o',color='r')\n",
    "for g in group2:\n",
    "    plt.plot(g[0],g[1],'o',color='b')"
   ]
  },
  {
   "cell_type": "code",
   "execution_count": null,
   "metadata": {},
   "outputs": [],
   "source": [
    "# 분류는 '답'을 줘야.  예: 이 그룹은 '남'  이 그룹은 '여' . 지금 여기는 '군집합'"
   ]
  },
  {
   "cell_type": "code",
   "execution_count": null,
   "metadata": {},
   "outputs": [],
   "source": []
  },
  {
   "cell_type": "code",
   "execution_count": null,
   "metadata": {},
   "outputs": [],
   "source": []
  }
 ],
 "metadata": {
  "kernelspec": {
   "display_name": "Python 3",
   "language": "python",
   "name": "python3"
  },
  "language_info": {
   "codemirror_mode": {
    "name": "ipython",
    "version": 3
   },
   "file_extension": ".py",
   "mimetype": "text/x-python",
   "name": "python",
   "nbconvert_exporter": "python",
   "pygments_lexer": "ipython3",
   "version": "3.8.5"
  },
  "toc": {
   "base_numbering": 1,
   "nav_menu": {},
   "number_sections": false,
   "sideBar": true,
   "skip_h1_title": false,
   "title_cell": "Table of Contents",
   "title_sidebar": "Contents",
   "toc_cell": false,
   "toc_position": {},
   "toc_section_display": true,
   "toc_window_display": true
  },
  "varInspector": {
   "cols": {
    "lenName": 16,
    "lenType": 16,
    "lenVar": 40
   },
   "kernels_config": {
    "python": {
     "delete_cmd_postfix": "",
     "delete_cmd_prefix": "del ",
     "library": "var_list.py",
     "varRefreshCmd": "print(var_dic_list())"
    },
    "r": {
     "delete_cmd_postfix": ") ",
     "delete_cmd_prefix": "rm(",
     "library": "var_list.r",
     "varRefreshCmd": "cat(var_dic_list()) "
    }
   },
   "types_to_exclude": [
    "module",
    "function",
    "builtin_function_or_method",
    "instance",
    "_Feature"
   ],
   "window_display": false
  }
 },
 "nbformat": 4,
 "nbformat_minor": 4
}

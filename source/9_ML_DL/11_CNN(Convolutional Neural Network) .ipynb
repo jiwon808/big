{
 "cells": [
  {
   "cell_type": "code",
   "execution_count": null,
   "metadata": {},
   "outputs": [],
   "source": [
    " #CNN:   필러링로 특성을뽑아 --> 풀링 --> dense 넣겠다 "
   ]
  },
  {
   "cell_type": "code",
   "execution_count": null,
   "metadata": {},
   "outputs": [],
   "source": [
    "#교안 p90참조"
   ]
  },
  {
   "cell_type": "code",
   "execution_count": 1,
   "metadata": {
    "ExecuteTime": {
     "end_time": "2021-03-25T02:19:38.117176Z",
     "start_time": "2021-03-25T02:19:37.724280Z"
    }
   },
   "outputs": [
    {
     "name": "stdout",
     "output_type": "stream",
     "text": [
      "(24, 24, 4)\n",
      "<class 'numpy.ndarray'>\n"
     ]
    },
    {
     "data": {
      "image/png": "[encoded data removed]",
      "text/plain": [
       "<Figure size 432x288 with 1 Axes>"
      ]
     },
     "metadata": {
      "needs_background": "light"
     },
     "output_type": "display_data"
    }
   ],
   "source": [
    "import matplotlib.pyplot as plt\n",
    "c0 = plt.imread('data/handwriting/handwriting_shape/train/circle/circle001.png') #tab키 누르면 나옴\n",
    "plt.imshow(c0) #imshow   means  imageshow\n",
    "print(c0.shape)\n",
    "print(type(c0))\n",
    "# (24, 24, 4) 가로 세로  컬러값 "
   ]
  },
  {
   "cell_type": "code",
   "execution_count": 2,
   "metadata": {
    "ExecuteTime": {
     "end_time": "2021-03-25T02:19:44.364951Z",
     "start_time": "2021-03-25T02:19:41.878442Z"
    }
   },
   "outputs": [],
   "source": [
    "import numpy as np\n",
    "from tensorflow.keras.models import Sequential \n",
    "from tensorflow.keras.layers import Conv2D  # 필터링     #원래 데이터 filtering 처리 하고, 곱해서 합함\n",
    "from tensorflow.keras.layers import MaxPool2D  #풀링  \n",
    "from tensorflow.keras.layers import Flatten # 2차원 영상 데이터를 1차원 으로 \n",
    "from tensorflow.keras.layers import Dense, Dropout \n",
    "from tensorflow.keras.preprocessing.image import ImageDataGenerator  #어떤 것은 24by 24 어떤것은 28by 28   이 funciton이 알아서 크기 조정해서 넣어즘\n",
    "np.random.seed(3)\n"
   ]
  },
  {
   "cell_type": "code",
   "execution_count": 8,
   "metadata": {
    "ExecuteTime": {
     "end_time": "2021-03-25T01:17:52.588560Z",
     "start_time": "2021-03-25T01:17:52.414982Z"
    }
   },
   "outputs": [
    {
     "name": "stdout",
     "output_type": "stream",
     "text": [
      "Found 45 images belonging to 3 classes.\n",
      "Found 15 images belonging to 3 classes.\n"
     ]
    }
   ],
   "source": [
    "#1. 데이터 생성하기 \n",
    "# 종속변수는 원핫인토딩\n",
    "train_datagen = ImageDataGenerator(rescale = 1./255) # 정규화 작업\n",
    "train_generator = train_datagen.flow_from_directory(\n",
    "                        'data/handwriting/hard_handwriting_shape/train',  #이 파일안에 있는 내용 한꺼번에 들어감\n",
    "                        target_size=(24,24),                      # 독립변수는 알아서 24 x 24로 가여옴\n",
    "                        batch_size=3, class_mode = \"categorical\")  # 종속변수는 알아서 원핫인토딩\n",
    "test_datagen = ImageDataGenerator(rescale=1./255)\n",
    "test_generator = test_datagen.flow_from_directory('data/handwriting/hard_handwriting_shape/test/',\n",
    "                                                 target_size=(24,24),\n",
    "                                                 batch_size =3,\n",
    "                                                 class_mode=\"categorical\")\n",
    "\n",
    "# 위 (hard_handwriting_shape/train) - 파일45개. 3개의 폴더\n",
    "# 밑(handwriting/hard_handwriting_shape/test) - 파일 15개. 3개의 폴더 "
   ]
  },
  {
   "cell_type": "code",
   "execution_count": 12,
   "metadata": {
    "ExecuteTime": {
     "end_time": "2021-03-25T01:38:26.279986Z",
     "start_time": "2021-03-25T01:38:26.223382Z"
    }
   },
   "outputs": [],
   "source": [
    "#2. 모델 구성\n",
    "model = Sequential()\n",
    "model.add(Conv2D(32, kernel_size =(3,3), activation=\"relu\",input_shape=(24,24,3)))  #24-3+1 =22 튿성을 뽑아냄.  (24x24에서 22x22로 줄어듬)\n",
    "                                    # 7x7 에서 커널사이즈  3x3하면 5x5로 줄어드임. (7-3+1=5)    #앞에 있는32는 '필터의 갯수'\n",
    "model.add(Conv2D(64, kernel_size =(3,3), activation=\"relu\" ))  #64개의 특성을 뽑아냄   # 위 단계의 input_shape를 알아서 받아서 쓰게됨\n",
    "model.add(MaxPool2D(pool_size=(2,2)))  #2x2 (갯수가 4개)의 pixel이 하나로 \n",
    "model.add(Flatten())  # 2차원 이미지데이터를 1차원으로\n",
    "model.add(Dense(128,activation='relu'))\n",
    "model.add(Dense(3 ,activation='softmax'))"
   ]
  },
  {
   "cell_type": "code",
   "execution_count": 14,
   "metadata": {
    "ExecuteTime": {
     "end_time": "2021-03-25T01:43:26.660710Z",
     "start_time": "2021-03-25T01:43:26.638670Z"
    }
   },
   "outputs": [],
   "source": [
    "#3. 모델 학습과정 설정\n",
    "model.compile(loss=\"categorical_crossentropy\", optimizer=\"adam\",metrics=['accuracy'])"
   ]
  },
  {
   "cell_type": "code",
   "execution_count": 15,
   "metadata": {
    "ExecuteTime": {
     "end_time": "2021-03-25T01:43:40.146499Z",
     "start_time": "2021-03-25T01:43:28.059536Z"
    }
   },
   "outputs": [
    {
     "name": "stdout",
     "output_type": "stream",
     "text": [
      "Epoch 1/50\n",
      "15/15 [==============================] - 2s 60ms/step - loss: 1.2450 - accuracy: 0.4050 - val_loss: 1.2664 - val_accuracy: 0.3333\n",
      "Epoch 2/50\n",
      "15/15 [==============================] - 0s 12ms/step - loss: 0.4014 - accuracy: 0.7958 - val_loss: 2.4297 - val_accuracy: 0.3333\n",
      "Epoch 3/50\n",
      "15/15 [==============================] - 0s 12ms/step - loss: 0.1949 - accuracy: 0.8961 - val_loss: 2.4834 - val_accuracy: 0.3333\n",
      "Epoch 4/50\n",
      "15/15 [==============================] - 0s 12ms/step - loss: 0.0165 - accuracy: 1.0000 - val_loss: 3.3764 - val_accuracy: 0.4000\n",
      "Epoch 5/50\n",
      "15/15 [==============================] - 0s 12ms/step - loss: 0.0035 - accuracy: 1.0000 - val_loss: 3.7326 - val_accuracy: 0.3333\n",
      "Epoch 6/50\n",
      "15/15 [==============================] - 0s 13ms/step - loss: 9.8817e-04 - accuracy: 1.0000 - val_loss: 4.1251 - val_accuracy: 0.4000\n",
      "Epoch 7/50\n",
      "15/15 [==============================] - 0s 12ms/step - loss: 4.7152e-04 - accuracy: 1.0000 - val_loss: 4.3137 - val_accuracy: 0.4000\n",
      "Epoch 8/50\n",
      "15/15 [==============================] - 0s 12ms/step - loss: 3.7418e-04 - accuracy: 1.0000 - val_loss: 4.3770 - val_accuracy: 0.4000\n",
      "Epoch 9/50\n",
      "15/15 [==============================] - 0s 13ms/step - loss: 3.6911e-04 - accuracy: 1.0000 - val_loss: 4.4894 - val_accuracy: 0.3333\n",
      "Epoch 10/50\n",
      "15/15 [==============================] - 0s 13ms/step - loss: 1.8578e-04 - accuracy: 1.0000 - val_loss: 4.5864 - val_accuracy: 0.3333\n",
      "Epoch 11/50\n",
      "15/15 [==============================] - 0s 13ms/step - loss: 1.3883e-04 - accuracy: 1.0000 - val_loss: 4.7124 - val_accuracy: 0.3333\n",
      "Epoch 12/50\n",
      "15/15 [==============================] - 0s 13ms/step - loss: 1.6593e-04 - accuracy: 1.0000 - val_loss: 4.8352 - val_accuracy: 0.3333\n",
      "Epoch 13/50\n",
      "15/15 [==============================] - 0s 12ms/step - loss: 8.0762e-05 - accuracy: 1.0000 - val_loss: 4.9629 - val_accuracy: 0.3333\n",
      "Epoch 14/50\n",
      "15/15 [==============================] - 0s 12ms/step - loss: 9.8050e-05 - accuracy: 1.0000 - val_loss: 5.1246 - val_accuracy: 0.3333\n",
      "Epoch 15/50\n",
      "15/15 [==============================] - 0s 12ms/step - loss: 5.4242e-05 - accuracy: 1.0000 - val_loss: 5.3023 - val_accuracy: 0.3333\n",
      "Epoch 16/50\n",
      "15/15 [==============================] - 0s 13ms/step - loss: 3.4998e-05 - accuracy: 1.0000 - val_loss: 5.4754 - val_accuracy: 0.3333\n",
      "Epoch 17/50\n",
      "15/15 [==============================] - 0s 12ms/step - loss: 5.0841e-05 - accuracy: 1.0000 - val_loss: 5.4735 - val_accuracy: 0.3333\n",
      "Epoch 18/50\n",
      "15/15 [==============================] - 0s 12ms/step - loss: 2.0209e-05 - accuracy: 1.0000 - val_loss: 5.4746 - val_accuracy: 0.3333\n",
      "Epoch 19/50\n",
      "15/15 [==============================] - 0s 12ms/step - loss: 2.7635e-05 - accuracy: 1.0000 - val_loss: 5.5752 - val_accuracy: 0.3333\n",
      "Epoch 20/50\n",
      "15/15 [==============================] - 0s 13ms/step - loss: 2.2784e-05 - accuracy: 1.0000 - val_loss: 5.5943 - val_accuracy: 0.3333\n",
      "Epoch 21/50\n",
      "15/15 [==============================] - 0s 13ms/step - loss: 2.2512e-05 - accuracy: 1.0000 - val_loss: 5.6153 - val_accuracy: 0.3333\n",
      "Epoch 22/50\n",
      "15/15 [==============================] - 0s 12ms/step - loss: 2.5079e-05 - accuracy: 1.0000 - val_loss: 5.6094 - val_accuracy: 0.3333\n",
      "Epoch 23/50\n",
      "15/15 [==============================] - 0s 12ms/step - loss: 1.4618e-05 - accuracy: 1.0000 - val_loss: 5.6864 - val_accuracy: 0.3333\n",
      "Epoch 24/50\n",
      "15/15 [==============================] - 0s 13ms/step - loss: 1.1325e-05 - accuracy: 1.0000 - val_loss: 5.7471 - val_accuracy: 0.3333\n",
      "Epoch 25/50\n",
      "15/15 [==============================] - 0s 13ms/step - loss: 1.1219e-05 - accuracy: 1.0000 - val_loss: 5.7479 - val_accuracy: 0.3333\n",
      "Epoch 26/50\n",
      "15/15 [==============================] - 0s 13ms/step - loss: 9.9970e-06 - accuracy: 1.0000 - val_loss: 5.7488 - val_accuracy: 0.3333\n",
      "Epoch 27/50\n",
      "15/15 [==============================] - 0s 13ms/step - loss: 8.3293e-06 - accuracy: 1.0000 - val_loss: 5.7624 - val_accuracy: 0.3333\n",
      "Epoch 28/50\n",
      "15/15 [==============================] - 0s 13ms/step - loss: 6.1435e-06 - accuracy: 1.0000 - val_loss: 5.7885 - val_accuracy: 0.3333\n",
      "Epoch 29/50\n",
      "15/15 [==============================] - 0s 13ms/step - loss: 9.1881e-06 - accuracy: 1.0000 - val_loss: 5.7930 - val_accuracy: 0.3333\n",
      "Epoch 30/50\n",
      "15/15 [==============================] - 0s 12ms/step - loss: 7.3156e-06 - accuracy: 1.0000 - val_loss: 5.7988 - val_accuracy: 0.3333\n",
      "Epoch 31/50\n",
      "15/15 [==============================] - 0s 12ms/step - loss: 6.9931e-06 - accuracy: 1.0000 - val_loss: 5.8009 - val_accuracy: 0.3333\n",
      "Epoch 32/50\n",
      "15/15 [==============================] - 0s 12ms/step - loss: 4.3743e-06 - accuracy: 1.0000 - val_loss: 5.8238 - val_accuracy: 0.3333\n",
      "Epoch 33/50\n",
      "15/15 [==============================] - 0s 12ms/step - loss: 5.4151e-06 - accuracy: 1.0000 - val_loss: 5.8408 - val_accuracy: 0.3333\n",
      "Epoch 34/50\n",
      "15/15 [==============================] - 0s 13ms/step - loss: 4.9778e-06 - accuracy: 1.0000 - val_loss: 5.8796 - val_accuracy: 0.3333\n",
      "Epoch 35/50\n",
      "15/15 [==============================] - 0s 13ms/step - loss: 5.5426e-06 - accuracy: 1.0000 - val_loss: 5.8904 - val_accuracy: 0.3333\n",
      "Epoch 36/50\n",
      "15/15 [==============================] - 0s 12ms/step - loss: 3.1346e-06 - accuracy: 1.0000 - val_loss: 5.8984 - val_accuracy: 0.3333\n",
      "Epoch 37/50\n",
      "15/15 [==============================] - 0s 13ms/step - loss: 2.7893e-06 - accuracy: 1.0000 - val_loss: 5.9142 - val_accuracy: 0.3333\n",
      "Epoch 38/50\n",
      "15/15 [==============================] - 0s 13ms/step - loss: 4.6601e-06 - accuracy: 1.0000 - val_loss: 5.9472 - val_accuracy: 0.3333\n",
      "Epoch 39/50\n",
      "15/15 [==============================] - 0s 13ms/step - loss: 2.9688e-06 - accuracy: 1.0000 - val_loss: 5.9716 - val_accuracy: 0.3333\n",
      "Epoch 40/50\n",
      "15/15 [==============================] - 0s 13ms/step - loss: 3.1868e-06 - accuracy: 1.0000 - val_loss: 5.9921 - val_accuracy: 0.3333\n",
      "Epoch 41/50\n",
      "15/15 [==============================] - 0s 12ms/step - loss: 2.2302e-06 - accuracy: 1.0000 - val_loss: 6.0176 - val_accuracy: 0.3333\n",
      "Epoch 42/50\n",
      "15/15 [==============================] - 0s 12ms/step - loss: 2.5998e-06 - accuracy: 1.0000 - val_loss: 6.0363 - val_accuracy: 0.3333\n",
      "Epoch 43/50\n",
      "15/15 [==============================] - 0s 12ms/step - loss: 2.2248e-06 - accuracy: 1.0000 - val_loss: 6.0677 - val_accuracy: 0.3333\n",
      "Epoch 44/50\n",
      "15/15 [==============================] - 0s 12ms/step - loss: 1.7085e-06 - accuracy: 1.0000 - val_loss: 6.0772 - val_accuracy: 0.3333\n",
      "Epoch 45/50\n",
      "15/15 [==============================] - 0s 13ms/step - loss: 1.8974e-06 - accuracy: 1.0000 - val_loss: 6.0981 - val_accuracy: 0.3333\n",
      "Epoch 46/50\n",
      "15/15 [==============================] - 0s 13ms/step - loss: 2.3070e-06 - accuracy: 1.0000 - val_loss: 6.1108 - val_accuracy: 0.3333\n",
      "Epoch 47/50\n",
      "15/15 [==============================] - 0s 17ms/step - loss: 1.7161e-06 - accuracy: 1.0000 - val_loss: 6.1150 - val_accuracy: 0.3333\n",
      "Epoch 48/50\n",
      "15/15 [==============================] - 0s 13ms/step - loss: 1.3987e-06 - accuracy: 1.0000 - val_loss: 6.1338 - val_accuracy: 0.3333\n",
      "Epoch 49/50\n",
      "15/15 [==============================] - 0s 13ms/step - loss: 1.8372e-06 - accuracy: 1.0000 - val_loss: 6.1450 - val_accuracy: 0.3333\n",
      "Epoch 50/50\n",
      "15/15 [==============================] - 0s 13ms/step - loss: 2.1048e-06 - accuracy: 1.0000 - val_loss: 6.1605 - val_accuracy: 0.3333\n"
     ]
    },
    {
     "data": {
      "text/plain": [
       "<tensorflow.python.keras.callbacks.History at 0x20e2ec3a430>"
      ]
     },
     "execution_count": 15,
     "metadata": {},
     "output_type": "execute_result"
    }
   ],
   "source": [
    "#4. 모델 학습시키기\n",
    "model.fit_generator(train_generator, steps_per_epoch= 15,\n",
    "                                      epochs=50,\n",
    "                                      validation_data = test_generator,\n",
    "                                       validation_steps=5)  # 3개씩 step이15, 이작업을 50번 학습"
   ]
  },
  {
   "cell_type": "code",
   "execution_count": 16,
   "metadata": {
    "ExecuteTime": {
     "end_time": "2021-03-25T01:44:47.970431Z",
     "start_time": "2021-03-25T01:44:47.901002Z"
    }
   },
   "outputs": [
    {
     "name": "stdout",
     "output_type": "stream",
     "text": [
      "[6.160467147827148, 0.3333333432674408]\n"
     ]
    },
    {
     "name": "stderr",
     "output_type": "stream",
     "text": [
      "C:\\Users\\tjoeun\\anaconda3\\lib\\site-packages\\tensorflow\\python\\keras\\engine\\training.py:1877: UserWarning: `Model.evaluate_generator` is deprecated and will be removed in a future version. Please use `Model.evaluate`, which supports generators.\n",
      "  warnings.warn('`Model.evaluate_generator` is deprecated and '\n"
     ]
    }
   ],
   "source": [
    "#5. 모델 평가하기\n",
    "score= model.evaluate_generator(test_generator, steps=5)\n",
    "print(score)  #0방 - loss, 1방- accuracy"
   ]
  },
  {
   "cell_type": "code",
   "execution_count": 18,
   "metadata": {
    "ExecuteTime": {
     "end_time": "2021-03-25T01:49:38.779209Z",
     "start_time": "2021-03-25T01:49:38.709757Z"
    }
   },
   "outputs": [
    {
     "name": "stdout",
     "output_type": "stream",
     "text": [
      "{'circle': 0, 'rectangle': 1, 'triangle': 2}\n",
      "[[0.00 0.00 1.00]\n",
      " [0.05 0.00 0.95]\n",
      " [0.00 0.00 1.00]\n",
      " [0.00 0.01 0.99]\n",
      " [0.00 0.00 1.00]\n",
      " [0.00 0.00 1.00]\n",
      " [0.00 0.00 1.00]\n",
      " [0.00 0.00 1.00]\n",
      " [0.43 0.00 0.57]\n",
      " [0.02 0.00 0.98]\n",
      " [0.00 0.01 0.99]\n",
      " [0.00 0.00 1.00]\n",
      " [0.79 0.01 0.21]\n",
      " [0.00 0.00 1.00]\n",
      " [0.00 0.00 1.00]]\n"
     ]
    }
   ],
   "source": [
    "#6. 예측하기 \n",
    "pred = model.predict_generator(test_generator)\n",
    "print(test_generator.class_indices)\n",
    "np.set_printoptions(formatter={'float':lambda x:\"{:0.2f}\".format(x)})\n",
    "print(pred)"
   ]
  },
  {
   "cell_type": "markdown",
   "metadata": {},
   "source": [
    "# accuracy늘리기 \n",
    "<ol>\n",
    "    <li> 데이터 확보, 데이터 부풀르기 (ImageDataGenerator) </li>\n",
    "   # 파일에 데이터 많이 가져오고\n",
    "    # Dense 늘리고 "
   ]
  },
  {
   "cell_type": "markdown",
   "metadata": {},
   "source": [
    "- 데이터 부풀리기 "
   ]
  },
  {
   "cell_type": "code",
   "execution_count": 4,
   "metadata": {
    "ExecuteTime": {
     "end_time": "2021-03-25T02:20:11.297901Z",
     "start_time": "2021-03-25T02:20:11.220947Z"
    }
   },
   "outputs": [
    {
     "name": "stdout",
     "output_type": "stream",
     "text": [
      "Found 69 images belonging to 3 classes.\n",
      "Found 15 images belonging to 3 classes.\n"
     ]
    }
   ],
   "source": [
    "#1. 데이터 생성하기 \n",
    "# 데이터 부풀리기 \n",
    "train_datagen = ImageDataGenerator(rescale=1./255,\n",
    "                                    rotation_range=10,\n",
    "                                    width_shift_range=0.2,\n",
    "                                    height_shift_range=0.2,\n",
    "                                    shear_range=0.7, #0.7라이안 밀림\n",
    "                                    zoom_range=[0.9,2.2], # 0.9배~2.2배\n",
    "                                    horizontal_flip=True, # 수평방향으로 뒤집기\n",
    "                                    vertical_flip=True, # 수직방향으로 뒤집기\n",
    "                                    fill_mode='nearest')#이미지를 회전, \n",
    "                                    #이동하거나 축소할 때 공간을 채우는 방식\n",
    "\n",
    "\n",
    "train_generator = train_datagen.flow_from_directory(\n",
    "                        'data/handwriting/hand_test/train',  #이 파일안에 있는 내용 한꺼번에 들어감\n",
    "                        target_size=(24,24),                      # 독립변수는 알아서 24 x 24로 가여옴\n",
    "                        batch_size=3, class_mode = \"categorical\")  # 종속변수는 알아서 원핫인토딩\n",
    "\n",
    "\n",
    "\n",
    "\n",
    "\n",
    "test_datagen = ImageDataGenerator(rescale=1./255)\n",
    "test_generator = test_datagen.flow_from_directory('data/handwriting/hand_test/test/',\n",
    "                                                 target_size=(24,24),\n",
    "                                                 batch_size =3,\n",
    "                                                 class_mode=\"categorical\")\n",
    "\n",
    "# 위 (hard_handwriting_shape/train) - 파일45개. 3개의 폴더\n",
    "# 밑(handwriting/hard_handwriting_shape/test) - 파일 15개. 3개의 폴더 "
   ]
  },
  {
   "cell_type": "code",
   "execution_count": 5,
   "metadata": {
    "ExecuteTime": {
     "end_time": "2021-03-25T02:20:13.574371Z",
     "start_time": "2021-03-25T02:20:13.440969Z"
    }
   },
   "outputs": [],
   "source": [
    "#2. 모델 구성\n",
    "model = Sequential()\n",
    "model.add(Conv2D(32, kernel_size =(3,3), activation=\"relu\",input_shape=(24,24,3)))  #24-3+1 =22 튿성을 뽑아냄.  (24x24에서 22x22로 줄어듬)\n",
    "                                    # 7x7 에서 커널사이즈  3x3하면 5x5로 줄어드임. (7-3+1=5)    #앞에 있는32는 '필터의 갯수'\n",
    "model.add(Conv2D(32, kernel_size =(3,3), activation=\"relu\" ))  #64개의 특성을 뽑아냄   # 위 단계의 input_shape를 알아서 받아서 쓰게됨\n",
    "model.add(MaxPool2D(pool_size=(2,2)))  #2x2 (갯수가 4개)의 pixel이 하나로 \n",
    "#*******************추가된 내용************************************\n",
    "model.add(Dropout(0.1))  \n",
    "model.add(Conv2D(64,kernel_size=(3,3), activation=\"relu\"))  #이제 64개씩 뽑아내 필터\n",
    "model.add(Conv2D(64,kernel_size=(3,3), activation=\"relu\"))  #풀링사이즈 보통 짝수.\n",
    "model.add(MaxPool2D(pool_size=(2,2)))  #2x2 에서 제일 큰 값만 뽑아 이미지 축소)\n",
    "model.add(Dropout(0.1))  \n",
    "#*******************************************************\n",
    "model.add(Flatten())  # 2차원 이미지데이터를 1차원으로\n",
    "model.add(Dense(128,activation='relu'))\n",
    "model.add(Dense(3 ,activation='softmax'))"
   ]
  },
  {
   "cell_type": "code",
   "execution_count": 6,
   "metadata": {
    "ExecuteTime": {
     "end_time": "2021-03-25T02:20:24.660887Z",
     "start_time": "2021-03-25T02:20:15.415171Z"
    }
   },
   "outputs": [
    {
     "name": "stderr",
     "output_type": "stream",
     "text": [
      "C:\\Users\\tjoeun\\anaconda3\\lib\\site-packages\\tensorflow\\python\\keras\\engine\\training.py:1844: UserWarning: `Model.fit_generator` is deprecated and will be removed in a future version. Please use `Model.fit`, which supports generators.\n",
      "  warnings.warn('`Model.fit_generator` is deprecated and '\n"
     ]
    },
    {
     "name": "stdout",
     "output_type": "stream",
     "text": [
      "Epoch 1/50\n",
      "15/15 [==============================] - 1s 45ms/step - loss: 1.1303 - accuracy: 0.3666 - val_loss: 1.1008 - val_accuracy: 0.3333\n",
      "Epoch 2/50\n",
      "15/15 [==============================] - 0s 11ms/step - loss: 1.0806 - accuracy: 0.5172 - val_loss: 1.1012 - val_accuracy: 0.3333\n",
      "Epoch 3/50\n",
      "15/15 [==============================] - 0s 10ms/step - loss: 1.0845 - accuracy: 0.4502 - val_loss: 1.0946 - val_accuracy: 0.3333\n",
      "Epoch 4/50\n",
      "15/15 [==============================] - 0s 10ms/step - loss: 1.0928 - accuracy: 0.3223 - val_loss: 1.0913 - val_accuracy: 0.4000\n",
      "Epoch 5/50\n",
      "15/15 [==============================] - 0s 9ms/step - loss: 1.0954 - accuracy: 0.3414 - val_loss: 1.0759 - val_accuracy: 0.4667\n",
      "Epoch 6/50\n",
      "15/15 [==============================] - 0s 9ms/step - loss: 1.0318 - accuracy: 0.4145 - val_loss: 0.9950 - val_accuracy: 0.4667\n",
      "Epoch 7/50\n",
      "15/15 [==============================] - 0s 9ms/step - loss: 1.0182 - accuracy: 0.4259 - val_loss: 0.8811 - val_accuracy: 0.6667\n",
      "Epoch 8/50\n",
      "15/15 [==============================] - 0s 10ms/step - loss: 1.0677 - accuracy: 0.3653 - val_loss: 0.8816 - val_accuracy: 0.4000\n",
      "Epoch 9/50\n",
      "15/15 [==============================] - 0s 10ms/step - loss: 0.9586 - accuracy: 0.4958 - val_loss: 0.9237 - val_accuracy: 0.6000\n",
      "Epoch 10/50\n",
      "15/15 [==============================] - 0s 10ms/step - loss: 0.8959 - accuracy: 0.6360 - val_loss: 1.2123 - val_accuracy: 0.3333\n",
      "Epoch 11/50\n",
      "15/15 [==============================] - 0s 9ms/step - loss: 0.8559 - accuracy: 0.6173 - val_loss: 1.0686 - val_accuracy: 0.4000\n",
      "Epoch 12/50\n",
      "15/15 [==============================] - 0s 9ms/step - loss: 0.8786 - accuracy: 0.6356 - val_loss: 1.3033 - val_accuracy: 0.4667\n",
      "Epoch 13/50\n",
      "15/15 [==============================] - 0s 9ms/step - loss: 0.8335 - accuracy: 0.6414 - val_loss: 1.3716 - val_accuracy: 0.4667\n",
      "Epoch 14/50\n",
      "15/15 [==============================] - 0s 9ms/step - loss: 0.6427 - accuracy: 0.6845 - val_loss: 1.9591 - val_accuracy: 0.4000\n",
      "Epoch 15/50\n",
      "15/15 [==============================] - 0s 9ms/step - loss: 0.4557 - accuracy: 0.8453 - val_loss: 1.9567 - val_accuracy: 0.4000\n",
      "Epoch 16/50\n",
      "15/15 [==============================] - 0s 9ms/step - loss: 0.6240 - accuracy: 0.7761 - val_loss: 2.4744 - val_accuracy: 0.3333\n",
      "Epoch 17/50\n",
      "15/15 [==============================] - 0s 9ms/step - loss: 0.7452 - accuracy: 0.6069 - val_loss: 1.0847 - val_accuracy: 0.5333\n",
      "Epoch 18/50\n",
      "15/15 [==============================] - 0s 9ms/step - loss: 0.4476 - accuracy: 0.9154 - val_loss: 1.5903 - val_accuracy: 0.5333\n",
      "Epoch 19/50\n",
      "15/15 [==============================] - 0s 9ms/step - loss: 0.4813 - accuracy: 0.7631 - val_loss: 3.2349 - val_accuracy: 0.3333\n",
      "Epoch 20/50\n",
      "15/15 [==============================] - 0s 9ms/step - loss: 0.7351 - accuracy: 0.7041 - val_loss: 2.7195 - val_accuracy: 0.4000\n",
      "Epoch 21/50\n",
      "15/15 [==============================] - 0s 9ms/step - loss: 0.4919 - accuracy: 0.7959 - val_loss: 2.8463 - val_accuracy: 0.4000\n",
      "Epoch 22/50\n",
      "15/15 [==============================] - 0s 9ms/step - loss: 0.6052 - accuracy: 0.8145 - val_loss: 1.4786 - val_accuracy: 0.6000\n",
      "Epoch 23/50\n",
      "15/15 [==============================] - 0s 9ms/step - loss: 0.2555 - accuracy: 0.8742 - val_loss: 1.6453 - val_accuracy: 0.5333\n",
      "Epoch 24/50\n",
      "15/15 [==============================] - 0s 9ms/step - loss: 0.4148 - accuracy: 0.8868 - val_loss: 1.4830 - val_accuracy: 0.6667\n",
      "Epoch 25/50\n",
      "15/15 [==============================] - 0s 9ms/step - loss: 0.6488 - accuracy: 0.8036 - val_loss: 1.2029 - val_accuracy: 0.6667\n",
      "Epoch 26/50\n",
      "15/15 [==============================] - 0s 9ms/step - loss: 0.3066 - accuracy: 0.8331 - val_loss: 2.3608 - val_accuracy: 0.5333\n",
      "Epoch 27/50\n",
      "15/15 [==============================] - 0s 9ms/step - loss: 0.3486 - accuracy: 0.8710 - val_loss: 1.1945 - val_accuracy: 0.7333\n",
      "Epoch 28/50\n",
      "15/15 [==============================] - 0s 9ms/step - loss: 0.2243 - accuracy: 0.8587 - val_loss: 1.2550 - val_accuracy: 0.7333\n",
      "Epoch 29/50\n",
      "15/15 [==============================] - 0s 9ms/step - loss: 0.3460 - accuracy: 0.8439 - val_loss: 1.6099 - val_accuracy: 0.6000\n",
      "Epoch 30/50\n",
      "15/15 [==============================] - 0s 9ms/step - loss: 0.2272 - accuracy: 0.9354 - val_loss: 1.1078 - val_accuracy: 0.8000\n",
      "Epoch 31/50\n",
      "15/15 [==============================] - 0s 9ms/step - loss: 0.1840 - accuracy: 0.9057 - val_loss: 2.8844 - val_accuracy: 0.4000\n",
      "Epoch 32/50\n",
      "15/15 [==============================] - 0s 9ms/step - loss: 0.5526 - accuracy: 0.8694 - val_loss: 0.7842 - val_accuracy: 0.8000\n",
      "Epoch 33/50\n",
      "15/15 [==============================] - 0s 9ms/step - loss: 0.3695 - accuracy: 0.8655 - val_loss: 1.3875 - val_accuracy: 0.6667\n",
      "Epoch 34/50\n",
      "15/15 [==============================] - 0s 9ms/step - loss: 0.4535 - accuracy: 0.8021 - val_loss: 1.5062 - val_accuracy: 0.6667\n",
      "Epoch 35/50\n",
      "15/15 [==============================] - 0s 9ms/step - loss: 0.2401 - accuracy: 0.9740 - val_loss: 0.8962 - val_accuracy: 0.8000\n",
      "Epoch 36/50\n",
      "15/15 [==============================] - 0s 9ms/step - loss: 0.3208 - accuracy: 0.8985 - val_loss: 1.5694 - val_accuracy: 0.7333\n",
      "Epoch 37/50\n",
      "15/15 [==============================] - 0s 10ms/step - loss: 0.4020 - accuracy: 0.8299 - val_loss: 1.3734 - val_accuracy: 0.6667\n",
      "Epoch 38/50\n",
      "15/15 [==============================] - 0s 10ms/step - loss: 0.3464 - accuracy: 0.7672 - val_loss: 1.3130 - val_accuracy: 0.8000\n",
      "Epoch 39/50\n",
      "15/15 [==============================] - 0s 10ms/step - loss: 0.3116 - accuracy: 0.8752 - val_loss: 1.3617 - val_accuracy: 0.7333\n",
      "Epoch 40/50\n",
      "15/15 [==============================] - 0s 9ms/step - loss: 0.3974 - accuracy: 0.8793 - val_loss: 2.4709 - val_accuracy: 0.6000\n",
      "Epoch 41/50\n",
      "15/15 [==============================] - 0s 9ms/step - loss: 0.3019 - accuracy: 0.8445 - val_loss: 1.7426 - val_accuracy: 0.6667\n",
      "Epoch 42/50\n",
      "15/15 [==============================] - 0s 10ms/step - loss: 0.1841 - accuracy: 0.8859 - val_loss: 1.7260 - val_accuracy: 0.6667\n",
      "Epoch 43/50\n",
      "15/15 [==============================] - 0s 10ms/step - loss: 0.1606 - accuracy: 0.9024 - val_loss: 1.9759 - val_accuracy: 0.8000\n",
      "Epoch 44/50\n",
      "15/15 [==============================] - 0s 10ms/step - loss: 0.2371 - accuracy: 0.9267 - val_loss: 1.8218 - val_accuracy: 0.8000\n",
      "Epoch 45/50\n",
      "15/15 [==============================] - 0s 9ms/step - loss: 0.1162 - accuracy: 0.9310 - val_loss: 1.5649 - val_accuracy: 0.8000\n",
      "Epoch 46/50\n",
      "15/15 [==============================] - 0s 9ms/step - loss: 0.0913 - accuracy: 0.9618 - val_loss: 0.8661 - val_accuracy: 0.8667\n",
      "Epoch 47/50\n",
      "15/15 [==============================] - 0s 9ms/step - loss: 0.1593 - accuracy: 0.9576 - val_loss: 1.5784 - val_accuracy: 0.7333\n",
      "Epoch 48/50\n",
      "15/15 [==============================] - 0s 9ms/step - loss: 0.3068 - accuracy: 0.9236 - val_loss: 1.0826 - val_accuracy: 0.8000\n",
      "Epoch 49/50\n",
      "15/15 [==============================] - 0s 9ms/step - loss: 0.2210 - accuracy: 0.8440 - val_loss: 0.9335 - val_accuracy: 0.7333\n",
      "Epoch 50/50\n",
      "15/15 [==============================] - 0s 9ms/step - loss: 0.2568 - accuracy: 0.9083 - val_loss: 1.3516 - val_accuracy: 0.7333\n",
      "[1.3515570163726807, 0.7333333492279053]\n"
     ]
    },
    {
     "name": "stderr",
     "output_type": "stream",
     "text": [
      "C:\\Users\\tjoeun\\anaconda3\\lib\\site-packages\\tensorflow\\python\\keras\\engine\\training.py:1877: UserWarning: `Model.evaluate_generator` is deprecated and will be removed in a future version. Please use `Model.evaluate`, which supports generators.\n",
      "  warnings.warn('`Model.evaluate_generator` is deprecated and '\n",
      "C:\\Users\\tjoeun\\anaconda3\\lib\\site-packages\\tensorflow\\python\\keras\\engine\\training.py:1905: UserWarning: `Model.predict_generator` is deprecated and will be removed in a future version. Please use `Model.predict`, which supports generators.\n",
      "  warnings.warn('`Model.predict_generator` is deprecated and '\n"
     ]
    },
    {
     "name": "stdout",
     "output_type": "stream",
     "text": [
      "{'circle': 0, 'rectangle': 1, 'triangle': 2}\n",
      "[0 1 0 0 0 0 0 0 2 2 1 2 2 2 2]\n"
     ]
    }
   ],
   "source": [
    "#3. 모델 학습과정 설정\n",
    "model.compile(loss=\"categorical_crossentropy\", optimizer=\"adam\",metrics=['accuracy'])\n",
    "\n",
    "#4. 모델 학습시키기\n",
    "model.fit_generator(train_generator, steps_per_epoch= 15,\n",
    "                                      epochs=50,\n",
    "                                      validation_data = test_generator,\n",
    "                                       validation_steps=5)  # 3개씩 step이15, 이작업을 50번 학습\n",
    "#5. 모델 평가하기\n",
    "score= model.evaluate_generator(test_generator, steps=5)\n",
    "print(score)  #0방 - loss, 1방- accuracy\n",
    "\n",
    "#6. 예측하기 \n",
    "pred = model.predict_generator(test_generator)\n",
    "print(test_generator.class_indices)\n",
    "np.set_printoptions(formatter={'float':lambda x:\"{:0.2f}\".format(x)})\n",
    "print(np.argmax(pred, axis=1))  #np.argmax 추가 "
   ]
  },
  {
   "cell_type": "code",
   "execution_count": null,
   "metadata": {},
   "outputs": [],
   "source": []
  },
  {
   "cell_type": "code",
   "execution_count": null,
   "metadata": {},
   "outputs": [],
   "source": []
  },
  {
   "cell_type": "code",
   "execution_count": null,
   "metadata": {},
   "outputs": [],
   "source": []
  }
 ],
 "metadata": {
  "kernelspec": {
   "display_name": "Python 3",
   "language": "python",
   "name": "python3"
  },
  "language_info": {
   "codemirror_mode": {
    "name": "ipython",
    "version": 3
   },
   "file_extension": ".py",
   "mimetype": "text/x-python",
   "name": "python",
   "nbconvert_exporter": "python",
   "pygments_lexer": "ipython3",
   "version": "3.8.5"
  },
  "toc": {
   "base_numbering": 1,
   "nav_menu": {},
   "number_sections": true,
   "sideBar": true,
   "skip_h1_title": false,
   "title_cell": "Table of Contents",
   "title_sidebar": "Contents",
   "toc_cell": false,
   "toc_position": {},
   "toc_section_display": true,
   "toc_window_display": false
  },
  "varInspector": {
   "cols": {
    "lenName": 16,
    "lenType": 16,
    "lenVar": 40
   },
   "kernels_config": {
    "python": {
     "delete_cmd_postfix": "",
     "delete_cmd_prefix": "del ",
     "library": "var_list.py",
     "varRefreshCmd": "print(var_dic_list())"
    },
    "r": {
     "delete_cmd_postfix": ") ",
     "delete_cmd_prefix": "rm(",
     "library": "var_list.r",
     "varRefreshCmd": "cat(var_dic_list()) "
    }
   },
   "types_to_exclude": [
    "module",
    "function",
    "builtin_function_or_method",
    "instance",
    "_Feature"
   ],
   "window_display": false
  }
 },
 "nbformat": 4,
 "nbformat_minor": 4
}

{
 "cells": [
  {
   "cell_type": "code",
   "execution_count": 1,
   "metadata": {
    "ExecuteTime": {
     "end_time": "2021-03-19T06:41:28.792027Z",
     "start_time": "2021-03-19T06:41:28.777088Z"
    }
   },
   "outputs": [],
   "source": [
    "import tensorflow.keras.utils as utils  # 분류분석시 원핫인코딩 시\n",
    "from tensorflow.keras.models import Sequential # 모델 생성시 \n",
    "from tensorflow.keras.layers import Dense, Activation\n",
    "import numpy as np"
   ]
  },
  {
   "cell_type": "markdown",
   "metadata": {},
   "source": [
    "- 1. 데이터 확보 및 생성\n",
    "- 2. 데이터 전처리: 훈련 데이터셋, 검증 데이터셋, 시험 데이터 셋...\n",
    "- 3. 모델 구성\n",
    "- 4. 모델 학습과정 (예. 회귀선 출력 100번,1000번)\n",
    "- 5. 모델 학습 시키기 \n",
    "- 6. 모델 평가 (시험 데이터 셋으로)\n",
    "- 7. 모델 사용 (입력값을 주어서 예측값을 받기)\n"
   ]
  },
  {
   "cell_type": "markdown",
   "metadata": {},
   "source": [
    "# 1. 데이터 셋 "
   ]
  },
  {
   "cell_type": "code",
   "execution_count": 3,
   "metadata": {
    "ExecuteTime": {
     "end_time": "2021-03-19T06:52:01.828129Z",
     "start_time": "2021-03-19T06:52:01.815186Z"
    }
   },
   "outputs": [],
   "source": [
    "# 학습데이터 = 훈련 데이터, 검증데이터, 테스트 데이터\n",
    "X_train = np.array([1,2,3,4,5,6,7,8,9]*10)   #데이터 90개     #입력 값\n",
    "Y_train = np.array([2,4,6,8,10,12,14,16,18]*10)               #출력 값\n",
    "\n",
    "# 검증데이터, 테스트 데이터 \n",
    "X_val = np.array([1,2,3,4,5,6,7,8,9])                #입력 값\n",
    "Y_val = np.array([2,4,6,8,10,12,14,16,18])           #출력 값"
   ]
  },
  {
   "cell_type": "code",
   "execution_count": 4,
   "metadata": {
    "ExecuteTime": {
     "end_time": "2021-03-19T06:52:14.534134Z",
     "start_time": "2021-03-19T06:52:14.523163Z"
    }
   },
   "outputs": [
    {
     "data": {
      "text/plain": [
       "array([ 2,  4,  6,  8, 10, 12, 14, 16, 18])"
      ]
     },
     "execution_count": 4,
     "metadata": {},
     "output_type": "execute_result"
    }
   ],
   "source": [
    "Y_val"
   ]
  },
  {
   "cell_type": "markdown",
   "metadata": {},
   "source": [
    "to_categorical()로 라벨링 처리"
   ]
  },
  {
   "cell_type": "code",
   "execution_count": 5,
   "metadata": {
    "ExecuteTime": {
     "end_time": "2021-03-19T06:53:37.882813Z",
     "start_time": "2021-03-19T06:53:37.878799Z"
    }
   },
   "outputs": [],
   "source": [
    "# 분류 ( Classification)  90점대, 80점대,70점대 등 \n",
    "# 분류분석을 하기 위해 target 데이터를 라벨링 전환 (원 핫 인코딩)\n",
    "Y_train = utils.to_categorical(Y_train,19)\n",
    "Y_val = utils.to_categorical(Y_val,19)  #여기서 19는 19개의 수 ( 원 핫 인코딩이기에 0,1)를 출력하라  |  대신 합은 1. 따라서 밑에보면 softmax\n",
    "                                        # 컴퓨터에 입력시 아래 0,1 이렇게 입력하는데, 컴퓨터가 예측 시 0.998 이렇게 나올 수도 "
   ]
  },
  {
   "cell_type": "code",
   "execution_count": 6,
   "metadata": {
    "ExecuteTime": {
     "end_time": "2021-03-19T06:53:44.230749Z",
     "start_time": "2021-03-19T06:53:44.224770Z"
    }
   },
   "outputs": [
    {
     "data": {
      "text/plain": [
       "array([[0., 0., 1., 0., 0., 0., 0., 0., 0., 0., 0., 0., 0., 0., 0., 0.,\n",
       "        0., 0., 0.],\n",
       "       [0., 0., 0., 0., 1., 0., 0., 0., 0., 0., 0., 0., 0., 0., 0., 0.,\n",
       "        0., 0., 0.],\n",
       "       [0., 0., 0., 0., 0., 0., 1., 0., 0., 0., 0., 0., 0., 0., 0., 0.,\n",
       "        0., 0., 0.],\n",
       "       [0., 0., 0., 0., 0., 0., 0., 0., 1., 0., 0., 0., 0., 0., 0., 0.,\n",
       "        0., 0., 0.],\n",
       "       [0., 0., 0., 0., 0., 0., 0., 0., 0., 0., 1., 0., 0., 0., 0., 0.,\n",
       "        0., 0., 0.],\n",
       "       [0., 0., 0., 0., 0., 0., 0., 0., 0., 0., 0., 0., 1., 0., 0., 0.,\n",
       "        0., 0., 0.],\n",
       "       [0., 0., 0., 0., 0., 0., 0., 0., 0., 0., 0., 0., 0., 0., 1., 0.,\n",
       "        0., 0., 0.],\n",
       "       [0., 0., 0., 0., 0., 0., 0., 0., 0., 0., 0., 0., 0., 0., 0., 0.,\n",
       "        1., 0., 0.],\n",
       "       [0., 0., 0., 0., 0., 0., 0., 0., 0., 0., 0., 0., 0., 0., 0., 0.,\n",
       "        0., 0., 1.]], dtype=float32)"
      ]
     },
     "execution_count": 6,
     "metadata": {},
     "output_type": "execute_result"
    }
   ],
   "source": [
    "Y_val  # 2번째만 1  , 4번째만 1          위에Y_val 출력결과  array([ 2,  4,  6,  8, 10, 12, 14, 16, 18])"
   ]
  },
  {
   "cell_type": "markdown",
   "metadata": {},
   "source": [
    "# 2. 모델 구성하기 "
   ]
  },
  {
   "cell_type": "markdown",
   "metadata": {},
   "source": [
    "**Dense(units=  )에 들어갈 숫자를 점점 더 증폭시켜야 accuracy가 높게 나옴.   맨마지막 19개 출력. 앞에 정했음. 그래야 합이1**"
   ]
  },
  {
   "cell_type": "code",
   "execution_count": null,
   "metadata": {},
   "outputs": [],
   "source": [
    "# model함수를 가지고, 층을 쌓아 나간다"
   ]
  },
  {
   "cell_type": "code",
   "execution_count": 27,
   "metadata": {
    "ExecuteTime": {
     "end_time": "2021-03-19T08:30:22.926490Z",
     "start_time": "2021-03-19T08:30:22.883604Z"
    }
   },
   "outputs": [],
   "source": [
    "model = Sequential()                             \n",
    "model.add(Dense(units=38,input_dim=1, activation=\"sigmoid\"))   # Softmax, Sigmoid,Relu가 가장 많이 쓰여  \n",
    "model.add(Dense(units=64, activation=\"elu\"))   #input_dim=38 위에 써서 생략가능     \n",
    "model.add(Dense(units=32, activation=\"elu\"))  \n",
    "model.add(Dense(units=19, activation=\"softmax\"))  # softmax: 모든 출력결과의 합이 1 \n"
   ]
  },
  {
   "cell_type": "markdown",
   "metadata": {},
   "source": [
    "dense더 늘릴 수 있다. loss가 낮고,accurarcy가 높으면 학습효과가 좋은 것. "
   ]
  },
  {
   "cell_type": "markdown",
   "metadata": {},
   "source": [
    "# 3. 모델 학습과정 설정"
   ]
  },
  {
   "cell_type": "code",
   "execution_count": 28,
   "metadata": {
    "ExecuteTime": {
     "end_time": "2021-03-19T08:30:24.938963Z",
     "start_time": "2021-03-19T08:30:24.928012Z"
    }
   },
   "outputs": [],
   "source": [
    "model.compile(loss=\"categorical_crossentropy\",optimizer=\"sgd\", metrics=['accuracy'])  #여기서 철자 틀리면, 여기서 error안가고 학습할때 error남 "
   ]
  },
  {
   "cell_type": "markdown",
   "metadata": {},
   "source": [
    "# 4. 모델 학습 시키기"
   ]
  },
  {
   "cell_type": "markdown",
   "metadata": {},
   "source": [
    "fit()함수 쓰려면 'numpy'여야"
   ]
  },
  {
   "cell_type": "code",
   "execution_count": 29,
   "metadata": {
    "ExecuteTime": {
     "end_time": "2021-03-19T08:30:38.298700Z",
     "start_time": "2021-03-19T08:30:26.889886Z"
    }
   },
   "outputs": [
    {
     "name": "stdout",
     "output_type": "stream",
     "text": [
      "Epoch 1/300\n",
      "9/9 - 1s - loss: 2.9386 - accuracy: 0.1111 - val_loss: 2.9193 - val_accuracy: 0.1111\n",
      "Epoch 2/300\n",
      "9/9 - 0s - loss: 2.9104 - accuracy: 0.1111 - val_loss: 2.8912 - val_accuracy: 0.1111\n",
      "Epoch 3/300\n",
      "9/9 - 0s - loss: 2.8818 - accuracy: 0.1111 - val_loss: 2.8647 - val_accuracy: 0.1111\n",
      "Epoch 4/300\n",
      "9/9 - 0s - loss: 2.8570 - accuracy: 0.1111 - val_loss: 2.8395 - val_accuracy: 0.1111\n",
      "Epoch 5/300\n",
      "9/9 - 0s - loss: 2.8330 - accuracy: 0.1111 - val_loss: 2.8154 - val_accuracy: 0.1111\n",
      "Epoch 6/300\n",
      "9/9 - 0s - loss: 2.8077 - accuracy: 0.1111 - val_loss: 2.7922 - val_accuracy: 0.1111\n",
      "Epoch 7/300\n",
      "9/9 - 0s - loss: 2.7861 - accuracy: 0.1111 - val_loss: 2.7699 - val_accuracy: 0.1111\n",
      "Epoch 8/300\n",
      "9/9 - 0s - loss: 2.7631 - accuracy: 0.1111 - val_loss: 2.7484 - val_accuracy: 0.1111\n",
      "Epoch 9/300\n",
      "9/9 - 0s - loss: 2.7423 - accuracy: 0.1111 - val_loss: 2.7275 - val_accuracy: 0.1111\n",
      "Epoch 10/300\n",
      "9/9 - 0s - loss: 2.7210 - accuracy: 0.1111 - val_loss: 2.7074 - val_accuracy: 0.1111\n",
      "Epoch 11/300\n",
      "9/9 - 0s - loss: 2.7019 - accuracy: 0.1111 - val_loss: 2.6877 - val_accuracy: 0.1111\n",
      "Epoch 12/300\n",
      "9/9 - 0s - loss: 2.6826 - accuracy: 0.1111 - val_loss: 2.6687 - val_accuracy: 0.1111\n",
      "Epoch 13/300\n",
      "9/9 - 0s - loss: 2.6637 - accuracy: 0.1111 - val_loss: 2.6501 - val_accuracy: 0.1111\n",
      "Epoch 14/300\n",
      "9/9 - 0s - loss: 2.6453 - accuracy: 0.1111 - val_loss: 2.6319 - val_accuracy: 0.1111\n",
      "Epoch 15/300\n",
      "9/9 - 0s - loss: 2.6272 - accuracy: 0.1111 - val_loss: 2.6142 - val_accuracy: 0.1111\n",
      "Epoch 16/300\n",
      "9/9 - 0s - loss: 2.6101 - accuracy: 0.1111 - val_loss: 2.5969 - val_accuracy: 0.1111\n",
      "Epoch 17/300\n",
      "9/9 - 0s - loss: 2.5924 - accuracy: 0.1111 - val_loss: 2.5800 - val_accuracy: 0.1111\n",
      "Epoch 18/300\n",
      "9/9 - 0s - loss: 2.5764 - accuracy: 0.1111 - val_loss: 2.5636 - val_accuracy: 0.1111\n",
      "Epoch 19/300\n",
      "9/9 - 0s - loss: 2.5600 - accuracy: 0.1111 - val_loss: 2.5476 - val_accuracy: 0.1111\n",
      "Epoch 20/300\n",
      "9/9 - 0s - loss: 2.5450 - accuracy: 0.1111 - val_loss: 2.5320 - val_accuracy: 0.1111\n",
      "Epoch 21/300\n",
      "9/9 - 0s - loss: 2.5288 - accuracy: 0.1111 - val_loss: 2.5169 - val_accuracy: 0.1111\n",
      "Epoch 22/300\n",
      "9/9 - 0s - loss: 2.5134 - accuracy: 0.1111 - val_loss: 2.5022 - val_accuracy: 0.1111\n",
      "Epoch 23/300\n",
      "9/9 - 0s - loss: 2.4997 - accuracy: 0.1111 - val_loss: 2.4880 - val_accuracy: 0.1111\n",
      "Epoch 24/300\n",
      "9/9 - 0s - loss: 2.4872 - accuracy: 0.1111 - val_loss: 2.4744 - val_accuracy: 0.1111\n",
      "Epoch 25/300\n",
      "9/9 - 0s - loss: 2.4721 - accuracy: 0.1111 - val_loss: 2.4612 - val_accuracy: 0.1111\n",
      "Epoch 26/300\n",
      "9/9 - 0s - loss: 2.4597 - accuracy: 0.1111 - val_loss: 2.4484 - val_accuracy: 0.1111\n",
      "Epoch 27/300\n",
      "9/9 - 0s - loss: 2.4486 - accuracy: 0.1111 - val_loss: 2.4362 - val_accuracy: 0.1111\n",
      "Epoch 28/300\n",
      "9/9 - 0s - loss: 2.4356 - accuracy: 0.1111 - val_loss: 2.4245 - val_accuracy: 0.1111\n",
      "Epoch 29/300\n",
      "9/9 - 0s - loss: 2.4237 - accuracy: 0.1111 - val_loss: 2.4132 - val_accuracy: 0.1111\n",
      "Epoch 30/300\n",
      "9/9 - 0s - loss: 2.4118 - accuracy: 0.1111 - val_loss: 2.4024 - val_accuracy: 0.1111\n",
      "Epoch 31/300\n",
      "9/9 - 0s - loss: 2.4029 - accuracy: 0.1111 - val_loss: 2.3922 - val_accuracy: 0.1111\n",
      "Epoch 32/300\n",
      "9/9 - 0s - loss: 2.3920 - accuracy: 0.1111 - val_loss: 2.3824 - val_accuracy: 0.1111\n",
      "Epoch 33/300\n",
      "9/9 - 0s - loss: 2.3861 - accuracy: 0.1111 - val_loss: 2.3731 - val_accuracy: 0.1111\n",
      "Epoch 34/300\n",
      "9/9 - 0s - loss: 2.3748 - accuracy: 0.1111 - val_loss: 2.3641 - val_accuracy: 0.1111\n",
      "Epoch 35/300\n",
      "9/9 - 0s - loss: 2.3650 - accuracy: 0.1111 - val_loss: 2.3557 - val_accuracy: 0.1111\n",
      "Epoch 36/300\n",
      "9/9 - 0s - loss: 2.3572 - accuracy: 0.0889 - val_loss: 2.3477 - val_accuracy: 0.1111\n",
      "Epoch 37/300\n",
      "9/9 - 0s - loss: 2.3496 - accuracy: 0.1111 - val_loss: 2.3401 - val_accuracy: 0.1111\n",
      "Epoch 38/300\n",
      "9/9 - 0s - loss: 2.3442 - accuracy: 0.1111 - val_loss: 2.3330 - val_accuracy: 0.1111\n",
      "Epoch 39/300\n",
      "9/9 - 0s - loss: 2.3346 - accuracy: 0.1111 - val_loss: 2.3262 - val_accuracy: 0.1111\n",
      "Epoch 40/300\n",
      "9/9 - 0s - loss: 2.3301 - accuracy: 0.1111 - val_loss: 2.3198 - val_accuracy: 0.1111\n",
      "Epoch 41/300\n",
      "9/9 - 0s - loss: 2.3242 - accuracy: 0.1111 - val_loss: 2.3138 - val_accuracy: 0.1111\n",
      "Epoch 42/300\n",
      "9/9 - 0s - loss: 2.3177 - accuracy: 0.1111 - val_loss: 2.3080 - val_accuracy: 0.1111\n",
      "Epoch 43/300\n",
      "9/9 - 0s - loss: 2.3117 - accuracy: 0.1111 - val_loss: 2.3026 - val_accuracy: 0.1111\n",
      "Epoch 44/300\n",
      "9/9 - 0s - loss: 2.3073 - accuracy: 0.1111 - val_loss: 2.2975 - val_accuracy: 0.1111\n",
      "Epoch 45/300\n",
      "9/9 - 0s - loss: 2.3014 - accuracy: 0.0889 - val_loss: 2.2927 - val_accuracy: 0.1111\n",
      "Epoch 46/300\n",
      "9/9 - 0s - loss: 2.2987 - accuracy: 0.0667 - val_loss: 2.2881 - val_accuracy: 0.1111\n",
      "Epoch 47/300\n",
      "9/9 - 0s - loss: 2.2947 - accuracy: 0.0778 - val_loss: 2.2839 - val_accuracy: 0.1111\n",
      "Epoch 48/300\n",
      "9/9 - 0s - loss: 2.2889 - accuracy: 0.0556 - val_loss: 2.2798 - val_accuracy: 0.1111\n",
      "Epoch 49/300\n",
      "9/9 - 0s - loss: 2.2856 - accuracy: 0.1111 - val_loss: 2.2760 - val_accuracy: 0.1111\n",
      "Epoch 50/300\n",
      "9/9 - 0s - loss: 2.2820 - accuracy: 0.1111 - val_loss: 2.2724 - val_accuracy: 0.1111\n",
      "Epoch 51/300\n",
      "9/9 - 0s - loss: 2.2775 - accuracy: 0.0667 - val_loss: 2.2690 - val_accuracy: 0.1111\n",
      "Epoch 52/300\n",
      "9/9 - 0s - loss: 2.2728 - accuracy: 0.0778 - val_loss: 2.2657 - val_accuracy: 0.1111\n",
      "Epoch 53/300\n",
      "9/9 - 0s - loss: 2.2702 - accuracy: 0.1000 - val_loss: 2.2627 - val_accuracy: 0.1111\n",
      "Epoch 54/300\n",
      "9/9 - 0s - loss: 2.2699 - accuracy: 0.0889 - val_loss: 2.2598 - val_accuracy: 0.1111\n",
      "Epoch 55/300\n",
      "9/9 - 0s - loss: 2.2673 - accuracy: 0.0667 - val_loss: 2.2570 - val_accuracy: 0.1111\n",
      "Epoch 56/300\n",
      "9/9 - 0s - loss: 2.2640 - accuracy: 0.0778 - val_loss: 2.2544 - val_accuracy: 0.1111\n",
      "Epoch 57/300\n",
      "9/9 - 0s - loss: 2.2619 - accuracy: 0.0444 - val_loss: 2.2520 - val_accuracy: 0.1111\n",
      "Epoch 58/300\n",
      "9/9 - 0s - loss: 2.2588 - accuracy: 0.0556 - val_loss: 2.2496 - val_accuracy: 0.1111\n",
      "Epoch 59/300\n",
      "9/9 - 0s - loss: 2.2555 - accuracy: 0.0778 - val_loss: 2.2474 - val_accuracy: 0.1111\n",
      "Epoch 60/300\n",
      "9/9 - 0s - loss: 2.2540 - accuracy: 0.0667 - val_loss: 2.2452 - val_accuracy: 0.1111\n",
      "Epoch 61/300\n",
      "9/9 - 0s - loss: 2.2557 - accuracy: 0.0556 - val_loss: 2.2432 - val_accuracy: 0.1111\n",
      "Epoch 62/300\n",
      "9/9 - 0s - loss: 2.2490 - accuracy: 0.0556 - val_loss: 2.2413 - val_accuracy: 0.1111\n",
      "Epoch 63/300\n",
      "9/9 - 0s - loss: 2.2505 - accuracy: 0.0556 - val_loss: 2.2395 - val_accuracy: 0.1111\n",
      "Epoch 64/300\n",
      "9/9 - 0s - loss: 2.2464 - accuracy: 0.0778 - val_loss: 2.2377 - val_accuracy: 0.1111\n",
      "Epoch 65/300\n",
      "9/9 - 0s - loss: 2.2475 - accuracy: 0.1000 - val_loss: 2.2360 - val_accuracy: 0.1111\n",
      "Epoch 66/300\n",
      "9/9 - 0s - loss: 2.2445 - accuracy: 0.0889 - val_loss: 2.2344 - val_accuracy: 0.0000e+00\n",
      "Epoch 67/300\n",
      "9/9 - 0s - loss: 2.2414 - accuracy: 0.0444 - val_loss: 2.2329 - val_accuracy: 0.1111\n",
      "Epoch 68/300\n",
      "9/9 - 0s - loss: 2.2403 - accuracy: 0.0778 - val_loss: 2.2314 - val_accuracy: 0.1111\n",
      "Epoch 69/300\n",
      "9/9 - 0s - loss: 2.2397 - accuracy: 0.0889 - val_loss: 2.2299 - val_accuracy: 0.1111\n",
      "Epoch 70/300\n",
      "9/9 - 0s - loss: 2.2389 - accuracy: 0.0778 - val_loss: 2.2286 - val_accuracy: 0.1111\n",
      "Epoch 71/300\n",
      "9/9 - 0s - loss: 2.2380 - accuracy: 0.0444 - val_loss: 2.2273 - val_accuracy: 0.1111\n",
      "Epoch 72/300\n",
      "9/9 - 0s - loss: 2.2352 - accuracy: 0.0667 - val_loss: 2.2260 - val_accuracy: 0.1111\n",
      "Epoch 73/300\n",
      "9/9 - 0s - loss: 2.2340 - accuracy: 0.0444 - val_loss: 2.2248 - val_accuracy: 0.1111\n",
      "Epoch 74/300\n",
      "9/9 - 0s - loss: 2.2333 - accuracy: 0.0556 - val_loss: 2.2236 - val_accuracy: 0.1111\n",
      "Epoch 75/300\n",
      "9/9 - 0s - loss: 2.2300 - accuracy: 0.1000 - val_loss: 2.2225 - val_accuracy: 0.1111\n",
      "Epoch 76/300\n",
      "9/9 - 0s - loss: 2.2307 - accuracy: 0.0444 - val_loss: 2.2214 - val_accuracy: 0.1111\n",
      "Epoch 77/300\n",
      "9/9 - 0s - loss: 2.2287 - accuracy: 0.0778 - val_loss: 2.2204 - val_accuracy: 0.1111\n",
      "Epoch 78/300\n",
      "9/9 - 0s - loss: 2.2306 - accuracy: 0.0667 - val_loss: 2.2194 - val_accuracy: 0.1111\n",
      "Epoch 79/300\n",
      "9/9 - 0s - loss: 2.2270 - accuracy: 0.0556 - val_loss: 2.2184 - val_accuracy: 0.1111\n",
      "Epoch 80/300\n",
      "9/9 - 0s - loss: 2.2269 - accuracy: 0.0778 - val_loss: 2.2174 - val_accuracy: 0.1111\n",
      "Epoch 81/300\n",
      "9/9 - 0s - loss: 2.2246 - accuracy: 0.1111 - val_loss: 2.2165 - val_accuracy: 0.1111\n",
      "Epoch 82/300\n",
      "9/9 - 0s - loss: 2.2272 - accuracy: 0.0111 - val_loss: 2.2156 - val_accuracy: 0.1111\n",
      "Epoch 83/300\n",
      "9/9 - 0s - loss: 2.2244 - accuracy: 0.0444 - val_loss: 2.2148 - val_accuracy: 0.1111\n",
      "Epoch 84/300\n",
      "9/9 - 0s - loss: 2.2215 - accuracy: 0.0889 - val_loss: 2.2139 - val_accuracy: 0.1111\n"
     ]
    },
    {
     "name": "stdout",
     "output_type": "stream",
     "text": [
      "Epoch 85/300\n",
      "9/9 - 0s - loss: 2.2240 - accuracy: 0.0778 - val_loss: 2.2131 - val_accuracy: 0.1111\n",
      "Epoch 86/300\n",
      "9/9 - 0s - loss: 2.2256 - accuracy: 0.0556 - val_loss: 2.2123 - val_accuracy: 0.1111\n",
      "Epoch 87/300\n",
      "9/9 - 0s - loss: 2.2231 - accuracy: 0.0444 - val_loss: 2.2116 - val_accuracy: 0.1111\n",
      "Epoch 88/300\n",
      "9/9 - 0s - loss: 2.2198 - accuracy: 0.0444 - val_loss: 2.2108 - val_accuracy: 0.1111\n",
      "Epoch 89/300\n",
      "9/9 - 0s - loss: 2.2220 - accuracy: 0.0222 - val_loss: 2.2101 - val_accuracy: 0.1111\n",
      "Epoch 90/300\n",
      "9/9 - 0s - loss: 2.2205 - accuracy: 0.0556 - val_loss: 2.2094 - val_accuracy: 0.1111\n",
      "Epoch 91/300\n",
      "9/9 - 0s - loss: 2.2160 - accuracy: 0.0778 - val_loss: 2.2087 - val_accuracy: 0.0000e+00\n",
      "Epoch 92/300\n",
      "9/9 - 0s - loss: 2.2164 - accuracy: 0.0778 - val_loss: 2.2080 - val_accuracy: 0.0000e+00\n",
      "Epoch 93/300\n",
      "9/9 - 0s - loss: 2.2138 - accuracy: 0.0556 - val_loss: 2.2073 - val_accuracy: 0.1111\n",
      "Epoch 94/300\n",
      "9/9 - 0s - loss: 2.2175 - accuracy: 0.0556 - val_loss: 2.2067 - val_accuracy: 0.1111\n",
      "Epoch 95/300\n",
      "9/9 - 0s - loss: 2.2188 - accuracy: 0.1111 - val_loss: 2.2061 - val_accuracy: 0.1111\n",
      "Epoch 96/300\n",
      "9/9 - 0s - loss: 2.2118 - accuracy: 0.0444 - val_loss: 2.2054 - val_accuracy: 0.1111\n",
      "Epoch 97/300\n",
      "9/9 - 0s - loss: 2.2154 - accuracy: 0.1000 - val_loss: 2.2048 - val_accuracy: 0.1111\n",
      "Epoch 98/300\n",
      "9/9 - 0s - loss: 2.2136 - accuracy: 0.0556 - val_loss: 2.2042 - val_accuracy: 0.1111\n",
      "Epoch 99/300\n",
      "9/9 - 0s - loss: 2.2152 - accuracy: 0.0556 - val_loss: 2.2037 - val_accuracy: 0.1111\n",
      "Epoch 100/300\n",
      "9/9 - 0s - loss: 2.2123 - accuracy: 0.0556 - val_loss: 2.2031 - val_accuracy: 0.1111\n",
      "Epoch 101/300\n",
      "9/9 - 0s - loss: 2.2139 - accuracy: 0.1000 - val_loss: 2.2025 - val_accuracy: 0.1111\n",
      "Epoch 102/300\n",
      "9/9 - 0s - loss: 2.2146 - accuracy: 0.0444 - val_loss: 2.2020 - val_accuracy: 0.1111\n",
      "Epoch 103/300\n",
      "9/9 - 0s - loss: 2.2094 - accuracy: 0.0333 - val_loss: 2.2014 - val_accuracy: 0.1111\n",
      "Epoch 104/300\n",
      "9/9 - 0s - loss: 2.2097 - accuracy: 0.0222 - val_loss: 2.2009 - val_accuracy: 0.0000e+00\n",
      "Epoch 105/300\n",
      "9/9 - 0s - loss: 2.2087 - accuracy: 0.0889 - val_loss: 2.2004 - val_accuracy: 0.1111\n",
      "Epoch 106/300\n",
      "9/9 - 0s - loss: 2.2147 - accuracy: 0.1111 - val_loss: 2.1999 - val_accuracy: 0.1111\n",
      "Epoch 107/300\n",
      "9/9 - 0s - loss: 2.2124 - accuracy: 0.0778 - val_loss: 2.1995 - val_accuracy: 0.1111\n",
      "Epoch 108/300\n",
      "9/9 - 0s - loss: 2.2099 - accuracy: 0.0556 - val_loss: 2.1989 - val_accuracy: 0.1111\n",
      "Epoch 109/300\n",
      "9/9 - 0s - loss: 2.2083 - accuracy: 0.0667 - val_loss: 2.1984 - val_accuracy: 0.1111\n",
      "Epoch 110/300\n",
      "9/9 - 0s - loss: 2.2121 - accuracy: 0.0778 - val_loss: 2.1979 - val_accuracy: 0.1111\n",
      "Epoch 111/300\n",
      "9/9 - 0s - loss: 2.2078 - accuracy: 0.0556 - val_loss: 2.1975 - val_accuracy: 0.1111\n",
      "Epoch 112/300\n",
      "9/9 - 0s - loss: 2.2093 - accuracy: 0.0667 - val_loss: 2.1970 - val_accuracy: 0.1111\n",
      "Epoch 113/300\n",
      "9/9 - 0s - loss: 2.2075 - accuracy: 0.0667 - val_loss: 2.1965 - val_accuracy: 0.1111\n",
      "Epoch 114/300\n",
      "9/9 - 0s - loss: 2.2053 - accuracy: 0.0444 - val_loss: 2.1961 - val_accuracy: 0.1111\n",
      "Epoch 115/300\n",
      "9/9 - 0s - loss: 2.2084 - accuracy: 0.0444 - val_loss: 2.1957 - val_accuracy: 0.1111\n",
      "Epoch 116/300\n",
      "9/9 - 0s - loss: 2.2078 - accuracy: 0.1000 - val_loss: 2.1952 - val_accuracy: 0.1111\n",
      "Epoch 117/300\n",
      "9/9 - 0s - loss: 2.2044 - accuracy: 0.1000 - val_loss: 2.1947 - val_accuracy: 0.1111\n",
      "Epoch 118/300\n",
      "9/9 - 0s - loss: 2.2030 - accuracy: 0.0667 - val_loss: 2.1942 - val_accuracy: 0.1111\n",
      "Epoch 119/300\n",
      "9/9 - 0s - loss: 2.2036 - accuracy: 0.0778 - val_loss: 2.1938 - val_accuracy: 0.1111\n",
      "Epoch 120/300\n",
      "9/9 - 0s - loss: 2.2060 - accuracy: 0.0444 - val_loss: 2.1934 - val_accuracy: 0.1111\n",
      "Epoch 121/300\n",
      "9/9 - 0s - loss: 2.2029 - accuracy: 0.0667 - val_loss: 2.1930 - val_accuracy: 0.1111\n",
      "Epoch 122/300\n",
      "9/9 - 0s - loss: 2.2037 - accuracy: 0.0556 - val_loss: 2.1925 - val_accuracy: 0.1111\n",
      "Epoch 123/300\n",
      "9/9 - 0s - loss: 2.2055 - accuracy: 0.0556 - val_loss: 2.1923 - val_accuracy: 0.1111\n",
      "Epoch 124/300\n",
      "9/9 - 0s - loss: 2.2011 - accuracy: 0.0889 - val_loss: 2.1918 - val_accuracy: 0.1111\n",
      "Epoch 125/300\n",
      "9/9 - 0s - loss: 2.2011 - accuracy: 0.0556 - val_loss: 2.1913 - val_accuracy: 0.1111\n",
      "Epoch 126/300\n",
      "9/9 - 0s - loss: 2.2006 - accuracy: 0.0778 - val_loss: 2.1908 - val_accuracy: 0.1111\n",
      "Epoch 127/300\n",
      "9/9 - 0s - loss: 2.2030 - accuracy: 0.0556 - val_loss: 2.1904 - val_accuracy: 0.1111\n",
      "Epoch 128/300\n",
      "9/9 - 0s - loss: 2.1999 - accuracy: 0.0556 - val_loss: 2.1900 - val_accuracy: 0.1111\n",
      "Epoch 129/300\n",
      "9/9 - 0s - loss: 2.1984 - accuracy: 0.0889 - val_loss: 2.1895 - val_accuracy: 0.1111\n",
      "Epoch 130/300\n",
      "9/9 - 0s - loss: 2.2004 - accuracy: 0.1000 - val_loss: 2.1892 - val_accuracy: 0.1111\n",
      "Epoch 131/300\n",
      "9/9 - 0s - loss: 2.2028 - accuracy: 0.0444 - val_loss: 2.1888 - val_accuracy: 0.1111\n",
      "Epoch 132/300\n",
      "9/9 - 0s - loss: 2.2006 - accuracy: 0.1444 - val_loss: 2.1883 - val_accuracy: 0.1111\n",
      "Epoch 133/300\n",
      "9/9 - 0s - loss: 2.1978 - accuracy: 0.0778 - val_loss: 2.1880 - val_accuracy: 0.1111\n",
      "Epoch 134/300\n",
      "9/9 - 0s - loss: 2.2014 - accuracy: 0.1111 - val_loss: 2.1876 - val_accuracy: 0.1111\n",
      "Epoch 135/300\n",
      "9/9 - 0s - loss: 2.1986 - accuracy: 0.1333 - val_loss: 2.1872 - val_accuracy: 0.1111\n",
      "Epoch 136/300\n",
      "9/9 - 0s - loss: 2.1977 - accuracy: 0.0889 - val_loss: 2.1868 - val_accuracy: 0.1111\n",
      "Epoch 137/300\n",
      "9/9 - 0s - loss: 2.1996 - accuracy: 0.1556 - val_loss: 2.1863 - val_accuracy: 0.1111\n",
      "Epoch 138/300\n",
      "9/9 - 0s - loss: 2.2011 - accuracy: 0.0778 - val_loss: 2.1859 - val_accuracy: 0.1111\n",
      "Epoch 139/300\n",
      "9/9 - 0s - loss: 2.1951 - accuracy: 0.0667 - val_loss: 2.1855 - val_accuracy: 0.1111\n",
      "Epoch 140/300\n",
      "9/9 - 0s - loss: 2.1951 - accuracy: 0.0556 - val_loss: 2.1851 - val_accuracy: 0.2222\n",
      "Epoch 141/300\n",
      "9/9 - 0s - loss: 2.1967 - accuracy: 0.0333 - val_loss: 2.1846 - val_accuracy: 0.2222\n",
      "Epoch 142/300\n",
      "9/9 - 0s - loss: 2.1949 - accuracy: 0.1000 - val_loss: 2.1843 - val_accuracy: 0.2222\n",
      "Epoch 143/300\n",
      "9/9 - 0s - loss: 2.1963 - accuracy: 0.1333 - val_loss: 2.1838 - val_accuracy: 0.2222\n",
      "Epoch 144/300\n",
      "9/9 - 0s - loss: 2.1964 - accuracy: 0.1889 - val_loss: 2.1835 - val_accuracy: 0.1111\n",
      "Epoch 145/300\n",
      "9/9 - 0s - loss: 2.1957 - accuracy: 0.0778 - val_loss: 2.1830 - val_accuracy: 0.1111\n",
      "Epoch 146/300\n",
      "9/9 - 0s - loss: 2.1935 - accuracy: 0.0778 - val_loss: 2.1826 - val_accuracy: 0.1111\n",
      "Epoch 147/300\n",
      "9/9 - 0s - loss: 2.1921 - accuracy: 0.1556 - val_loss: 2.1822 - val_accuracy: 0.1111\n",
      "Epoch 148/300\n",
      "9/9 - 0s - loss: 2.1937 - accuracy: 0.0889 - val_loss: 2.1818 - val_accuracy: 0.1111\n",
      "Epoch 149/300\n",
      "9/9 - 0s - loss: 2.1911 - accuracy: 0.1000 - val_loss: 2.1814 - val_accuracy: 0.2222\n",
      "Epoch 150/300\n",
      "9/9 - 0s - loss: 2.1953 - accuracy: 0.1111 - val_loss: 2.1810 - val_accuracy: 0.2222\n",
      "Epoch 151/300\n",
      "9/9 - 0s - loss: 2.1926 - accuracy: 0.1333 - val_loss: 2.1805 - val_accuracy: 0.2222\n",
      "Epoch 152/300\n",
      "9/9 - 0s - loss: 2.1940 - accuracy: 0.1556 - val_loss: 2.1801 - val_accuracy: 0.2222\n",
      "Epoch 153/300\n",
      "9/9 - 0s - loss: 2.1930 - accuracy: 0.1000 - val_loss: 2.1797 - val_accuracy: 0.2222\n",
      "Epoch 154/300\n",
      "9/9 - 0s - loss: 2.1918 - accuracy: 0.1778 - val_loss: 2.1793 - val_accuracy: 0.2222\n",
      "Epoch 155/300\n",
      "9/9 - 0s - loss: 2.1866 - accuracy: 0.1000 - val_loss: 2.1788 - val_accuracy: 0.2222\n",
      "Epoch 156/300\n",
      "9/9 - 0s - loss: 2.1915 - accuracy: 0.1222 - val_loss: 2.1784 - val_accuracy: 0.2222\n",
      "Epoch 157/300\n",
      "9/9 - 0s - loss: 2.1919 - accuracy: 0.1444 - val_loss: 2.1781 - val_accuracy: 0.2222\n",
      "Epoch 158/300\n",
      "9/9 - 0s - loss: 2.1876 - accuracy: 0.1333 - val_loss: 2.1775 - val_accuracy: 0.2222\n",
      "Epoch 159/300\n",
      "9/9 - 0s - loss: 2.1901 - accuracy: 0.2000 - val_loss: 2.1771 - val_accuracy: 0.2222\n",
      "Epoch 160/300\n",
      "9/9 - 0s - loss: 2.1934 - accuracy: 0.1667 - val_loss: 2.1768 - val_accuracy: 0.2222\n",
      "Epoch 161/300\n",
      "9/9 - 0s - loss: 2.1903 - accuracy: 0.2111 - val_loss: 2.1762 - val_accuracy: 0.2222\n",
      "Epoch 162/300\n",
      "9/9 - 0s - loss: 2.1936 - accuracy: 0.1444 - val_loss: 2.1758 - val_accuracy: 0.2222\n",
      "Epoch 163/300\n",
      "9/9 - 0s - loss: 2.1903 - accuracy: 0.1889 - val_loss: 2.1753 - val_accuracy: 0.1111\n",
      "Epoch 164/300\n",
      "9/9 - 0s - loss: 2.1859 - accuracy: 0.1222 - val_loss: 2.1749 - val_accuracy: 0.2222\n",
      "Epoch 165/300\n",
      "9/9 - 0s - loss: 2.1846 - accuracy: 0.0889 - val_loss: 2.1745 - val_accuracy: 0.2222\n",
      "Epoch 166/300\n",
      "9/9 - 0s - loss: 2.1875 - accuracy: 0.1667 - val_loss: 2.1740 - val_accuracy: 0.2222\n",
      "Epoch 167/300\n",
      "9/9 - 0s - loss: 2.1873 - accuracy: 0.1667 - val_loss: 2.1735 - val_accuracy: 0.2222\n"
     ]
    },
    {
     "name": "stdout",
     "output_type": "stream",
     "text": [
      "Epoch 168/300\n",
      "9/9 - 0s - loss: 2.1855 - accuracy: 0.1778 - val_loss: 2.1730 - val_accuracy: 0.2222\n",
      "Epoch 169/300\n",
      "9/9 - 0s - loss: 2.1846 - accuracy: 0.1000 - val_loss: 2.1726 - val_accuracy: 0.2222\n",
      "Epoch 170/300\n",
      "9/9 - 0s - loss: 2.1869 - accuracy: 0.0333 - val_loss: 2.1722 - val_accuracy: 0.2222\n",
      "Epoch 171/300\n",
      "9/9 - 0s - loss: 2.1852 - accuracy: 0.1444 - val_loss: 2.1717 - val_accuracy: 0.2222\n",
      "Epoch 172/300\n",
      "9/9 - 0s - loss: 2.1815 - accuracy: 0.1889 - val_loss: 2.1711 - val_accuracy: 0.2222\n",
      "Epoch 173/300\n",
      "9/9 - 0s - loss: 2.1842 - accuracy: 0.1667 - val_loss: 2.1706 - val_accuracy: 0.2222\n",
      "Epoch 174/300\n",
      "9/9 - 0s - loss: 2.1827 - accuracy: 0.1667 - val_loss: 2.1701 - val_accuracy: 0.2222\n",
      "Epoch 175/300\n",
      "9/9 - 0s - loss: 2.1822 - accuracy: 0.1889 - val_loss: 2.1696 - val_accuracy: 0.2222\n",
      "Epoch 176/300\n",
      "9/9 - 0s - loss: 2.1799 - accuracy: 0.1556 - val_loss: 2.1691 - val_accuracy: 0.2222\n",
      "Epoch 177/300\n",
      "9/9 - 0s - loss: 2.1802 - accuracy: 0.1889 - val_loss: 2.1686 - val_accuracy: 0.2222\n",
      "Epoch 178/300\n",
      "9/9 - 0s - loss: 2.1801 - accuracy: 0.2000 - val_loss: 2.1681 - val_accuracy: 0.2222\n",
      "Epoch 179/300\n",
      "9/9 - 0s - loss: 2.1799 - accuracy: 0.1778 - val_loss: 2.1675 - val_accuracy: 0.2222\n",
      "Epoch 180/300\n",
      "9/9 - 0s - loss: 2.1828 - accuracy: 0.1889 - val_loss: 2.1670 - val_accuracy: 0.2222\n",
      "Epoch 181/300\n",
      "9/9 - 0s - loss: 2.1826 - accuracy: 0.1889 - val_loss: 2.1666 - val_accuracy: 0.2222\n",
      "Epoch 182/300\n",
      "9/9 - 0s - loss: 2.1787 - accuracy: 0.1667 - val_loss: 2.1659 - val_accuracy: 0.2222\n",
      "Epoch 183/300\n",
      "9/9 - 0s - loss: 2.1826 - accuracy: 0.1444 - val_loss: 2.1654 - val_accuracy: 0.2222\n",
      "Epoch 184/300\n",
      "9/9 - 0s - loss: 2.1815 - accuracy: 0.0889 - val_loss: 2.1648 - val_accuracy: 0.2222\n",
      "Epoch 185/300\n",
      "9/9 - 0s - loss: 2.1763 - accuracy: 0.1667 - val_loss: 2.1643 - val_accuracy: 0.2222\n",
      "Epoch 186/300\n",
      "9/9 - 0s - loss: 2.1780 - accuracy: 0.2222 - val_loss: 2.1637 - val_accuracy: 0.2222\n",
      "Epoch 187/300\n",
      "9/9 - 0s - loss: 2.1740 - accuracy: 0.1778 - val_loss: 2.1631 - val_accuracy: 0.2222\n",
      "Epoch 188/300\n",
      "9/9 - 0s - loss: 2.1759 - accuracy: 0.1556 - val_loss: 2.1625 - val_accuracy: 0.1111\n",
      "Epoch 189/300\n",
      "9/9 - 0s - loss: 2.1760 - accuracy: 0.1778 - val_loss: 2.1619 - val_accuracy: 0.2222\n",
      "Epoch 190/300\n",
      "9/9 - 0s - loss: 2.1732 - accuracy: 0.1889 - val_loss: 2.1613 - val_accuracy: 0.2222\n",
      "Epoch 191/300\n",
      "9/9 - 0s - loss: 2.1730 - accuracy: 0.1889 - val_loss: 2.1607 - val_accuracy: 0.2222\n",
      "Epoch 192/300\n",
      "9/9 - 0s - loss: 2.1764 - accuracy: 0.1333 - val_loss: 2.1601 - val_accuracy: 0.2222\n",
      "Epoch 193/300\n",
      "9/9 - 0s - loss: 2.1743 - accuracy: 0.2000 - val_loss: 2.1594 - val_accuracy: 0.2222\n",
      "Epoch 194/300\n",
      "9/9 - 0s - loss: 2.1742 - accuracy: 0.1556 - val_loss: 2.1588 - val_accuracy: 0.2222\n",
      "Epoch 195/300\n",
      "9/9 - 0s - loss: 2.1697 - accuracy: 0.2000 - val_loss: 2.1582 - val_accuracy: 0.2222\n",
      "Epoch 196/300\n",
      "9/9 - 0s - loss: 2.1691 - accuracy: 0.1667 - val_loss: 2.1575 - val_accuracy: 0.2222\n",
      "Epoch 197/300\n",
      "9/9 - 0s - loss: 2.1664 - accuracy: 0.2000 - val_loss: 2.1569 - val_accuracy: 0.2222\n",
      "Epoch 198/300\n",
      "9/9 - 0s - loss: 2.1725 - accuracy: 0.1889 - val_loss: 2.1562 - val_accuracy: 0.1111\n",
      "Epoch 199/300\n",
      "9/9 - 0s - loss: 2.1700 - accuracy: 0.1444 - val_loss: 2.1555 - val_accuracy: 0.2222\n",
      "Epoch 200/300\n",
      "9/9 - 0s - loss: 2.1669 - accuracy: 0.1667 - val_loss: 2.1547 - val_accuracy: 0.2222\n",
      "Epoch 201/300\n",
      "9/9 - 0s - loss: 2.1685 - accuracy: 0.1667 - val_loss: 2.1541 - val_accuracy: 0.2222\n",
      "Epoch 202/300\n",
      "9/9 - 0s - loss: 2.1670 - accuracy: 0.1556 - val_loss: 2.1533 - val_accuracy: 0.2222\n",
      "Epoch 203/300\n",
      "9/9 - 0s - loss: 2.1668 - accuracy: 0.1556 - val_loss: 2.1526 - val_accuracy: 0.2222\n",
      "Epoch 204/300\n",
      "9/9 - 0s - loss: 2.1636 - accuracy: 0.1778 - val_loss: 2.1519 - val_accuracy: 0.2222\n",
      "Epoch 205/300\n",
      "9/9 - 0s - loss: 2.1652 - accuracy: 0.1444 - val_loss: 2.1511 - val_accuracy: 0.2222\n",
      "Epoch 206/300\n",
      "9/9 - 0s - loss: 2.1608 - accuracy: 0.1889 - val_loss: 2.1504 - val_accuracy: 0.2222\n",
      "Epoch 207/300\n",
      "9/9 - 0s - loss: 2.1620 - accuracy: 0.1778 - val_loss: 2.1496 - val_accuracy: 0.2222\n",
      "Epoch 208/300\n",
      "9/9 - 0s - loss: 2.1632 - accuracy: 0.1667 - val_loss: 2.1487 - val_accuracy: 0.2222\n",
      "Epoch 209/300\n",
      "9/9 - 0s - loss: 2.1580 - accuracy: 0.1667 - val_loss: 2.1480 - val_accuracy: 0.2222\n",
      "Epoch 210/300\n",
      "9/9 - 0s - loss: 2.1583 - accuracy: 0.1889 - val_loss: 2.1471 - val_accuracy: 0.2222\n",
      "Epoch 211/300\n",
      "9/9 - 0s - loss: 2.1593 - accuracy: 0.1889 - val_loss: 2.1462 - val_accuracy: 0.2222\n",
      "Epoch 212/300\n",
      "9/9 - 0s - loss: 2.1587 - accuracy: 0.1889 - val_loss: 2.1454 - val_accuracy: 0.2222\n",
      "Epoch 213/300\n",
      "9/9 - 0s - loss: 2.1608 - accuracy: 0.1778 - val_loss: 2.1445 - val_accuracy: 0.2222\n",
      "Epoch 214/300\n",
      "9/9 - 0s - loss: 2.1534 - accuracy: 0.1778 - val_loss: 2.1436 - val_accuracy: 0.2222\n",
      "Epoch 215/300\n",
      "9/9 - 0s - loss: 2.1518 - accuracy: 0.1889 - val_loss: 2.1427 - val_accuracy: 0.2222\n",
      "Epoch 216/300\n",
      "9/9 - 0s - loss: 2.1535 - accuracy: 0.1778 - val_loss: 2.1418 - val_accuracy: 0.2222\n",
      "Epoch 217/300\n",
      "9/9 - 0s - loss: 2.1534 - accuracy: 0.1667 - val_loss: 2.1409 - val_accuracy: 0.2222\n",
      "Epoch 218/300\n",
      "9/9 - 0s - loss: 2.1515 - accuracy: 0.1556 - val_loss: 2.1400 - val_accuracy: 0.2222\n",
      "Epoch 219/300\n",
      "9/9 - 0s - loss: 2.1527 - accuracy: 0.1667 - val_loss: 2.1390 - val_accuracy: 0.2222\n",
      "Epoch 220/300\n",
      "9/9 - 0s - loss: 2.1541 - accuracy: 0.1333 - val_loss: 2.1381 - val_accuracy: 0.2222\n",
      "Epoch 221/300\n",
      "9/9 - 0s - loss: 2.1464 - accuracy: 0.2000 - val_loss: 2.1371 - val_accuracy: 0.2222\n",
      "Epoch 222/300\n",
      "9/9 - 0s - loss: 2.1472 - accuracy: 0.2111 - val_loss: 2.1360 - val_accuracy: 0.2222\n",
      "Epoch 223/300\n",
      "9/9 - 0s - loss: 2.1473 - accuracy: 0.2000 - val_loss: 2.1350 - val_accuracy: 0.3333\n",
      "Epoch 224/300\n",
      "9/9 - 0s - loss: 2.1487 - accuracy: 0.1889 - val_loss: 2.1339 - val_accuracy: 0.2222\n",
      "Epoch 225/300\n",
      "9/9 - 0s - loss: 2.1466 - accuracy: 0.1778 - val_loss: 2.1328 - val_accuracy: 0.1111\n",
      "Epoch 226/300\n",
      "9/9 - 0s - loss: 2.1439 - accuracy: 0.1889 - val_loss: 2.1318 - val_accuracy: 0.3333\n",
      "Epoch 227/300\n",
      "9/9 - 0s - loss: 2.1430 - accuracy: 0.2000 - val_loss: 2.1306 - val_accuracy: 0.2222\n",
      "Epoch 228/300\n",
      "9/9 - 0s - loss: 2.1445 - accuracy: 0.1889 - val_loss: 2.1295 - val_accuracy: 0.2222\n",
      "Epoch 229/300\n",
      "9/9 - 0s - loss: 2.1425 - accuracy: 0.1556 - val_loss: 2.1284 - val_accuracy: 0.2222\n",
      "Epoch 230/300\n",
      "9/9 - 0s - loss: 2.1404 - accuracy: 0.1778 - val_loss: 2.1271 - val_accuracy: 0.2222\n",
      "Epoch 231/300\n",
      "9/9 - 0s - loss: 2.1405 - accuracy: 0.1889 - val_loss: 2.1259 - val_accuracy: 0.2222\n",
      "Epoch 232/300\n",
      "9/9 - 0s - loss: 2.1392 - accuracy: 0.1889 - val_loss: 2.1246 - val_accuracy: 0.2222\n",
      "Epoch 233/300\n",
      "9/9 - 0s - loss: 2.1385 - accuracy: 0.2000 - val_loss: 2.1234 - val_accuracy: 0.2222\n",
      "Epoch 234/300\n",
      "9/9 - 0s - loss: 2.1401 - accuracy: 0.1556 - val_loss: 2.1222 - val_accuracy: 0.2222\n",
      "Epoch 235/300\n",
      "9/9 - 0s - loss: 2.1323 - accuracy: 0.2111 - val_loss: 2.1209 - val_accuracy: 0.2222\n",
      "Epoch 236/300\n",
      "9/9 - 0s - loss: 2.1318 - accuracy: 0.2000 - val_loss: 2.1195 - val_accuracy: 0.2222\n",
      "Epoch 237/300\n",
      "9/9 - 0s - loss: 2.1284 - accuracy: 0.2000 - val_loss: 2.1182 - val_accuracy: 0.2222\n",
      "Epoch 238/300\n",
      "9/9 - 0s - loss: 2.1303 - accuracy: 0.1667 - val_loss: 2.1168 - val_accuracy: 0.2222\n",
      "Epoch 239/300\n",
      "9/9 - 0s - loss: 2.1259 - accuracy: 0.1667 - val_loss: 2.1154 - val_accuracy: 0.2222\n",
      "Epoch 240/300\n",
      "9/9 - 0s - loss: 2.1284 - accuracy: 0.2222 - val_loss: 2.1139 - val_accuracy: 0.2222\n",
      "Epoch 241/300\n",
      "9/9 - 0s - loss: 2.1303 - accuracy: 0.1778 - val_loss: 2.1125 - val_accuracy: 0.2222\n",
      "Epoch 242/300\n",
      "9/9 - 0s - loss: 2.1245 - accuracy: 0.1889 - val_loss: 2.1110 - val_accuracy: 0.2222\n",
      "Epoch 243/300\n",
      "9/9 - 0s - loss: 2.1229 - accuracy: 0.2333 - val_loss: 2.1094 - val_accuracy: 0.2222\n",
      "Epoch 244/300\n",
      "9/9 - 0s - loss: 2.1235 - accuracy: 0.1889 - val_loss: 2.1079 - val_accuracy: 0.1111\n",
      "Epoch 245/300\n",
      "9/9 - 0s - loss: 2.1207 - accuracy: 0.1778 - val_loss: 2.1064 - val_accuracy: 0.2222\n",
      "Epoch 246/300\n",
      "9/9 - 0s - loss: 2.1184 - accuracy: 0.2111 - val_loss: 2.1047 - val_accuracy: 0.2222\n",
      "Epoch 247/300\n",
      "9/9 - 0s - loss: 2.1179 - accuracy: 0.2111 - val_loss: 2.1030 - val_accuracy: 0.2222\n",
      "Epoch 248/300\n",
      "9/9 - 0s - loss: 2.1155 - accuracy: 0.1667 - val_loss: 2.1014 - val_accuracy: 0.2222\n",
      "Epoch 249/300\n",
      "9/9 - 0s - loss: 2.1110 - accuracy: 0.2000 - val_loss: 2.0996 - val_accuracy: 0.2222\n",
      "Epoch 250/300\n",
      "9/9 - 0s - loss: 2.1117 - accuracy: 0.2000 - val_loss: 2.0979 - val_accuracy: 0.2222\n"
     ]
    },
    {
     "name": "stdout",
     "output_type": "stream",
     "text": [
      "Epoch 251/300\n",
      "9/9 - 0s - loss: 2.1085 - accuracy: 0.2222 - val_loss: 2.0961 - val_accuracy: 0.1111\n",
      "Epoch 252/300\n",
      "9/9 - 0s - loss: 2.1082 - accuracy: 0.1778 - val_loss: 2.0942 - val_accuracy: 0.2222\n",
      "Epoch 253/300\n",
      "9/9 - 0s - loss: 2.1067 - accuracy: 0.1333 - val_loss: 2.0924 - val_accuracy: 0.2222\n",
      "Epoch 254/300\n",
      "9/9 - 0s - loss: 2.1074 - accuracy: 0.1667 - val_loss: 2.0905 - val_accuracy: 0.2222\n",
      "Epoch 255/300\n",
      "9/9 - 0s - loss: 2.1020 - accuracy: 0.1778 - val_loss: 2.0886 - val_accuracy: 0.2222\n",
      "Epoch 256/300\n",
      "9/9 - 0s - loss: 2.0993 - accuracy: 0.2111 - val_loss: 2.0866 - val_accuracy: 0.2222\n",
      "Epoch 257/300\n",
      "9/9 - 0s - loss: 2.0975 - accuracy: 0.1889 - val_loss: 2.0846 - val_accuracy: 0.2222\n",
      "Epoch 258/300\n",
      "9/9 - 0s - loss: 2.0948 - accuracy: 0.1889 - val_loss: 2.0825 - val_accuracy: 0.3333\n",
      "Epoch 259/300\n",
      "9/9 - 0s - loss: 2.0964 - accuracy: 0.1667 - val_loss: 2.0805 - val_accuracy: 0.2222\n",
      "Epoch 260/300\n",
      "9/9 - 0s - loss: 2.0910 - accuracy: 0.1444 - val_loss: 2.0784 - val_accuracy: 0.2222\n",
      "Epoch 261/300\n",
      "9/9 - 0s - loss: 2.0849 - accuracy: 0.2111 - val_loss: 2.0762 - val_accuracy: 0.2222\n",
      "Epoch 262/300\n",
      "9/9 - 0s - loss: 2.0881 - accuracy: 0.2333 - val_loss: 2.0739 - val_accuracy: 0.2222\n",
      "Epoch 263/300\n",
      "9/9 - 0s - loss: 2.0844 - accuracy: 0.1889 - val_loss: 2.0716 - val_accuracy: 0.2222\n",
      "Epoch 264/300\n",
      "9/9 - 0s - loss: 2.0826 - accuracy: 0.1889 - val_loss: 2.0694 - val_accuracy: 0.2222\n",
      "Epoch 265/300\n",
      "9/9 - 0s - loss: 2.0825 - accuracy: 0.1889 - val_loss: 2.0670 - val_accuracy: 0.2222\n",
      "Epoch 266/300\n",
      "9/9 - 0s - loss: 2.0788 - accuracy: 0.1889 - val_loss: 2.0646 - val_accuracy: 0.1111\n",
      "Epoch 267/300\n",
      "9/9 - 0s - loss: 2.0767 - accuracy: 0.1778 - val_loss: 2.0622 - val_accuracy: 0.1111\n",
      "Epoch 268/300\n",
      "9/9 - 0s - loss: 2.0709 - accuracy: 0.1778 - val_loss: 2.0598 - val_accuracy: 0.2222\n",
      "Epoch 269/300\n",
      "9/9 - 0s - loss: 2.0709 - accuracy: 0.1889 - val_loss: 2.0572 - val_accuracy: 0.2222\n",
      "Epoch 270/300\n",
      "9/9 - 0s - loss: 2.0700 - accuracy: 0.2111 - val_loss: 2.0548 - val_accuracy: 0.2222\n",
      "Epoch 271/300\n",
      "9/9 - 0s - loss: 2.0670 - accuracy: 0.1889 - val_loss: 2.0521 - val_accuracy: 0.2222\n",
      "Epoch 272/300\n",
      "9/9 - 0s - loss: 2.0626 - accuracy: 0.1778 - val_loss: 2.0495 - val_accuracy: 0.2222\n",
      "Epoch 273/300\n",
      "9/9 - 0s - loss: 2.0612 - accuracy: 0.1667 - val_loss: 2.0468 - val_accuracy: 0.2222\n",
      "Epoch 274/300\n",
      "9/9 - 0s - loss: 2.0608 - accuracy: 0.2000 - val_loss: 2.0440 - val_accuracy: 0.2222\n",
      "Epoch 275/300\n",
      "9/9 - 0s - loss: 2.0542 - accuracy: 0.2000 - val_loss: 2.0412 - val_accuracy: 0.2222\n",
      "Epoch 276/300\n",
      "9/9 - 0s - loss: 2.0488 - accuracy: 0.2111 - val_loss: 2.0384 - val_accuracy: 0.2222\n",
      "Epoch 277/300\n",
      "9/9 - 0s - loss: 2.0522 - accuracy: 0.1889 - val_loss: 2.0355 - val_accuracy: 0.2222\n",
      "Epoch 278/300\n",
      "9/9 - 0s - loss: 2.0438 - accuracy: 0.1889 - val_loss: 2.0325 - val_accuracy: 0.2222\n",
      "Epoch 279/300\n",
      "9/9 - 0s - loss: 2.0461 - accuracy: 0.1667 - val_loss: 2.0296 - val_accuracy: 0.2222\n",
      "Epoch 280/300\n",
      "9/9 - 0s - loss: 2.0389 - accuracy: 0.1778 - val_loss: 2.0266 - val_accuracy: 0.2222\n",
      "Epoch 281/300\n",
      "9/9 - 0s - loss: 2.0347 - accuracy: 0.1889 - val_loss: 2.0235 - val_accuracy: 0.2222\n",
      "Epoch 282/300\n",
      "9/9 - 0s - loss: 2.0374 - accuracy: 0.1889 - val_loss: 2.0205 - val_accuracy: 0.2222\n",
      "Epoch 283/300\n",
      "9/9 - 0s - loss: 2.0308 - accuracy: 0.1778 - val_loss: 2.0171 - val_accuracy: 0.2222\n",
      "Epoch 284/300\n",
      "9/9 - 0s - loss: 2.0279 - accuracy: 0.2111 - val_loss: 2.0140 - val_accuracy: 0.2222\n",
      "Epoch 285/300\n",
      "9/9 - 0s - loss: 2.0223 - accuracy: 0.2000 - val_loss: 2.0107 - val_accuracy: 0.3333\n",
      "Epoch 286/300\n",
      "9/9 - 0s - loss: 2.0230 - accuracy: 0.1556 - val_loss: 2.0073 - val_accuracy: 0.2222\n",
      "Epoch 287/300\n",
      "9/9 - 0s - loss: 2.0215 - accuracy: 0.1778 - val_loss: 2.0040 - val_accuracy: 0.2222\n",
      "Epoch 288/300\n",
      "9/9 - 0s - loss: 2.0161 - accuracy: 0.1889 - val_loss: 2.0006 - val_accuracy: 0.2222\n",
      "Epoch 289/300\n",
      "9/9 - 0s - loss: 2.0130 - accuracy: 0.1556 - val_loss: 1.9972 - val_accuracy: 0.2222\n",
      "Epoch 290/300\n",
      "9/9 - 0s - loss: 2.0105 - accuracy: 0.1556 - val_loss: 1.9935 - val_accuracy: 0.2222\n",
      "Epoch 291/300\n",
      "9/9 - 0s - loss: 2.0051 - accuracy: 0.2222 - val_loss: 1.9899 - val_accuracy: 0.2222\n",
      "Epoch 292/300\n",
      "9/9 - 0s - loss: 2.0014 - accuracy: 0.1667 - val_loss: 1.9863 - val_accuracy: 0.2222\n",
      "Epoch 293/300\n",
      "9/9 - 0s - loss: 1.9966 - accuracy: 0.1889 - val_loss: 1.9826 - val_accuracy: 0.2222\n",
      "Epoch 294/300\n",
      "9/9 - 0s - loss: 1.9956 - accuracy: 0.1778 - val_loss: 1.9789 - val_accuracy: 0.2222\n",
      "Epoch 295/300\n",
      "9/9 - 0s - loss: 1.9865 - accuracy: 0.2000 - val_loss: 1.9751 - val_accuracy: 0.2222\n",
      "Epoch 296/300\n",
      "9/9 - 0s - loss: 1.9827 - accuracy: 0.2222 - val_loss: 1.9712 - val_accuracy: 0.2222\n",
      "Epoch 297/300\n",
      "9/9 - 0s - loss: 1.9824 - accuracy: 0.1778 - val_loss: 1.9672 - val_accuracy: 0.2222\n",
      "Epoch 298/300\n",
      "9/9 - 0s - loss: 1.9780 - accuracy: 0.1778 - val_loss: 1.9633 - val_accuracy: 0.2222\n",
      "Epoch 299/300\n",
      "9/9 - 0s - loss: 1.9730 - accuracy: 0.1778 - val_loss: 1.9593 - val_accuracy: 0.2222\n",
      "Epoch 300/300\n",
      "9/9 - 0s - loss: 1.9694 - accuracy: 0.1778 - val_loss: 1.9552 - val_accuracy: 0.2222\n"
     ]
    }
   ],
   "source": [
    " hist = model.fit(X_train, Y_train, epochs=300, batch_size=10, verbose=2, validation_data=(X_val,Y_val))   \n",
    "    # epochs는 검사 몇번할지 (accuracy)\n",
    "    # epochs:  the number times that the learning algorithm will work through the entire training dataset. \n",
    "    # batch_size=10     10개 읽을때마다 '가중치'를 바꾼다 #loss가 큰지 "
   ]
  },
  {
   "cell_type": "code",
   "execution_count": 12,
   "metadata": {
    "ExecuteTime": {
     "end_time": "2021-03-19T07:52:12.082510Z",
     "start_time": "2021-03-19T07:52:12.064557Z"
    }
   },
   "outputs": [
    {
     "data": {
      "text/plain": [
       "dict_keys(['loss', 'accuracy', 'val_loss', 'val_accuracy'])"
      ]
     },
     "execution_count": 12,
     "metadata": {},
     "output_type": "execute_result"
    }
   ],
   "source": [
    "hist.history.keys()"
   ]
  },
  {
   "cell_type": "markdown",
   "metadata": {},
   "source": [
    "# 5. 모델 학습과정 살펴보기 (hist, 평가)"
   ]
  },
  {
   "cell_type": "code",
   "execution_count": 20,
   "metadata": {
    "ExecuteTime": {
     "end_time": "2021-03-19T08:02:26.918990Z",
     "start_time": "2021-03-19T08:02:26.618354Z"
    }
   },
   "outputs": [
    {
     "data": {
      "image/png": "[encoded data removed]",
      "text/plain": [
       "<Figure size 720x360 with 2 Axes>"
      ]
     },
     "metadata": {
      "needs_background": "light"
     },
     "output_type": "display_data"
    }
   ],
   "source": [
    "# 모델의 학습과정 표시 하기 \n",
    "import matplotlib.pyplot as plt\n",
    "fig, loss_ax = plt.subplots(figsize=(10,5))\n",
    "loss_ax.plot(hist.history['loss'],'y',label=\"train loss\")\n",
    "loss_ax.plot(hist.history['val_loss'],'r', label=\"val loss\")\n",
    "\n",
    "acc_ax = loss_ax.twinx() #loss_ax와 x축을 공유하는 acc_ax 생성 \n",
    "acc_ax.plot(hist.history['accuracy'],'g', label=\"train acc\")\n",
    "acc_ax.plot(hist.history['val_accuracy'],'b', label=\"val acc\")\n",
    "\n",
    "loss_ax.set_xlabel(\"epoch\")\n",
    "loss_ax.set_ylabel(\"loss\")\n",
    "acc_ax.set_ylabel(\"accuracy\")\n",
    "loss_ax.legend(loc=\"upper left\")\n",
    "acc_ax.legend(loc=\"lower left\")\n",
    "plt.show()"
   ]
  },
  {
   "cell_type": "code",
   "execution_count": null,
   "metadata": {},
   "outputs": [],
   "source": [
    "# loss가 줄어들면 accuracy가 늘었다 줄었다 늘었다 줄었다  ???????  accuracy기준 데이터가 뭔지. meaningless data를 읽어들이면 accuracy가 떨어져서 그런건지?"
   ]
  },
  {
   "cell_type": "code",
   "execution_count": 21,
   "metadata": {
    "ExecuteTime": {
     "end_time": "2021-03-19T08:08:44.997693Z",
     "start_time": "2021-03-19T08:08:44.820083Z"
    }
   },
   "outputs": [
    {
     "name": "stdout",
     "output_type": "stream",
     "text": [
      "9/9 [==============================] - 0s 1ms/step - loss: 0.4539 - accuracy: 1.0000\n"
     ]
    },
    {
     "data": {
      "text/plain": [
       "[0.4538668096065521, 1.0]"
      ]
     },
     "execution_count": 21,
     "metadata": {},
     "output_type": "execute_result"
    }
   ],
   "source": [
    "# 모델 평가\n",
    "score = model.evaluate(X_val,Y_val,batch_size=1)\n",
    "score      # X_val,Y_val  9개.    "
   ]
  },
  {
   "cell_type": "code",
   "execution_count": 22,
   "metadata": {
    "ExecuteTime": {
     "end_time": "2021-03-19T08:09:46.977478Z",
     "start_time": "2021-03-19T08:09:46.972511Z"
    }
   },
   "outputs": [
    {
     "name": "stdout",
     "output_type": "stream",
     "text": [
      "loss: 0.4538668096065521\n",
      "accuracy: 1.0\n"
     ]
    }
   ],
   "source": [
    "print('loss:',score[0])\n",
    "print('accuracy:', score[1])"
   ]
  },
  {
   "cell_type": "markdown",
   "metadata": {},
   "source": [
    "# 6. 모델을 이용해서 예측하기 "
   ]
  },
  {
   "cell_type": "code",
   "execution_count": 25,
   "metadata": {
    "ExecuteTime": {
     "end_time": "2021-03-19T08:12:03.516639Z",
     "start_time": "2021-03-19T08:12:03.391148Z"
    }
   },
   "outputs": [
    {
     "name": "stderr",
     "output_type": "stream",
     "text": [
      "C:\\Users\\tjoeun\\anaconda3\\lib\\site-packages\\tensorflow\\python\\keras\\engine\\sequential.py:450: UserWarning: `model.predict_classes()` is deprecated and will be removed after 2021-01-01. Please use instead:* `np.argmax(model.predict(x), axis=-1)`,   if your model does multi-class classification   (e.g. if it uses a `softmax` last-layer activation).* `(model.predict(x) > 0.5).astype(\"int32\")`,   if your model does binary classification   (e.g. if it uses a `sigmoid` last-layer activation).\n",
      "  warnings.warn('`model.predict_classes()` is deprecated and '\n"
     ]
    },
    {
     "data": {
      "text/plain": [
       "array([4], dtype=int64)"
      ]
     },
     "execution_count": 25,
     "metadata": {},
     "output_type": "execute_result"
    }
   ],
   "source": [
    "model.predict_classes(np.array([2]))  # 맨 위에 '1.데이터셋' 밑에 보면  2를 input하면,  4를output해라라고 설정  ******************"
   ]
  },
  {
   "cell_type": "markdown",
   "metadata": {},
   "source": [
    "검사용 "
   ]
  },
  {
   "cell_type": "code",
   "execution_count": 32,
   "metadata": {
    "ExecuteTime": {
     "end_time": "2021-03-19T08:40:25.957674Z",
     "start_time": "2021-03-19T08:40:25.860778Z"
    }
   },
   "outputs": [
    {
     "data": {
      "text/plain": [
       "2"
      ]
     },
     "execution_count": 32,
     "metadata": {},
     "output_type": "execute_result"
    }
   ],
   "source": [
    "model.predict(np.array([2])).argmax()   #4가 나와야 "
   ]
  },
  {
   "cell_type": "code",
   "execution_count": 26,
   "metadata": {
    "ExecuteTime": {
     "end_time": "2021-03-19T08:12:43.552736Z",
     "start_time": "2021-03-19T08:12:43.502303Z"
    }
   },
   "outputs": [
    {
     "data": {
      "text/plain": [
       "array([[1.04233901e-14, 7.07105002e-13, 1.24965616e-01, 2.43055901e-12,\n",
       "        7.44407296e-01, 9.74214875e-11, 1.29376113e-01, 5.11858188e-13,\n",
       "        1.24766387e-03, 8.10273235e-13, 3.25489623e-06, 1.02750655e-11,\n",
       "        8.16223089e-10, 8.02966959e-13, 1.20970020e-13, 1.54786045e-11,\n",
       "        3.45478236e-17, 7.63149174e-14, 6.30585470e-24]], dtype=float32)"
      ]
     },
     "execution_count": 26,
     "metadata": {},
     "output_type": "execute_result"
    }
   ],
   "source": [
    "model.predict(np.array([2]))    #4일 확률이 제일 높다 (따라서 맞게 출력     2를 input하면,  4를output해라라고 앞에설정 )\n",
    "#0일 확률: 1.04233901e-14,         1일 확률:7.07105002e-13      2일확률:1.24965616e-01    3일확률: 2.43055901e-12   4일확률:7.44407296e-01 "
   ]
  },
  {
   "cell_type": "code",
   "execution_count": null,
   "metadata": {},
   "outputs": [],
   "source": []
  }
 ],
 "metadata": {
  "kernelspec": {
   "display_name": "Python 3",
   "language": "python",
   "name": "python3"
  },
  "language_info": {
   "codemirror_mode": {
    "name": "ipython",
    "version": 3
   },
   "file_extension": ".py",
   "mimetype": "text/x-python",
   "name": "python",
   "nbconvert_exporter": "python",
   "pygments_lexer": "ipython3",
   "version": "3.8.5"
  },
  "toc": {
   "base_numbering": 1,
   "nav_menu": {},
   "number_sections": false,
   "sideBar": true,
   "skip_h1_title": false,
   "title_cell": "Table of Contents",
   "title_sidebar": "Contents",
   "toc_cell": false,
   "toc_position": {},
   "toc_section_display": true,
   "toc_window_display": true
  },
  "varInspector": {
   "cols": {
    "lenName": 16,
    "lenType": 16,
    "lenVar": 40
   },
   "kernels_config": {
    "python": {
     "delete_cmd_postfix": "",
     "delete_cmd_prefix": "del ",
     "library": "var_list.py",
     "varRefreshCmd": "print(var_dic_list())"
    },
    "r": {
     "delete_cmd_postfix": ") ",
     "delete_cmd_prefix": "rm(",
     "library": "var_list.r",
     "varRefreshCmd": "cat(var_dic_list()) "
    }
   },
   "types_to_exclude": [
    "module",
    "function",
    "builtin_function_or_method",
    "instance",
    "_Feature"
   ],
   "window_display": false
  }
 },
 "nbformat": 4,
 "nbformat_minor": 4
}

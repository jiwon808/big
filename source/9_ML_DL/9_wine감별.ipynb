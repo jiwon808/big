{
 "cells": [
  {
   "cell_type": "code",
   "execution_count": null,
   "metadata": {},
   "outputs": [],
   "source": [
    "#import, data가지고 오고, 결측치 확인, load.txt   numpy배열로 가져와   pd.read.csv 보고 ,  어떤거 0,1 어떤거 몇백 단위 그럼 차원 일치시킴, (무든 데이터 1-10사이 차이 많이 안남 그러면 scale조정 필요없음,)\n",
    "# x,y 분리  #다중분류, 원핫인토딩 to categorical(), \n",
    "# train, test 데이터 나눠  8:2     많으면 (만개 이상) 7:3     진짜 풍부  train,test, validation \n",
    "# validation_split 0.2 \n",
    "\n",
    "\n",
    "# pd.get_dummies()  안에 숫자 아니여도 상관없음 \n",
    "# data 2,3배 정도만 차이나면 scale조정안해도되는데, 이 데이터는 sulphates와 dioxide가 100배 차이남. 따라서 scale 조정을 해야 "
   ]
  },
  {
   "cell_type": "code",
   "execution_count": 1,
   "metadata": {
    "ExecuteTime": {
     "end_time": "2021-03-24T08:47:04.307649Z",
     "start_time": "2021-03-24T08:47:00.992602Z"
    }
   },
   "outputs": [],
   "source": [
    "import numpy as np\n",
    "import pandas as pd # read_csv, # get_dummies : 원핫인코딩\n",
    "import tensorflow.keras.utils as utils  # 원핫인코딩\n",
    "from sklearn.model_selection import train_test_split \n",
    "from tensorflow.keras.models import Sequential\n",
    "from tensorflow.keras.layers import Input, Dense, Dropout\n",
    "from tensorflow.keras import metrics\n",
    "from tensorflow.keras.callbacks import EarlyStopping"
   ]
  },
  {
   "cell_type": "markdown",
   "metadata": {},
   "source": [
    "# 원핫인코딩의 방법이 2가지"
   ]
  },
  {
   "cell_type": "code",
   "execution_count": 2,
   "metadata": {
    "ExecuteTime": {
     "end_time": "2021-03-24T08:47:04.419359Z",
     "start_time": "2021-03-24T08:47:04.325592Z"
    }
   },
   "outputs": [
    {
     "name": "stdout",
     "output_type": "stream",
     "text": [
      "[5 6 7 4 8 3]\n"
     ]
    },
    {
     "data": {
      "text/plain": [
       "array([[0, 0, 1, 0, 0, 0],\n",
       "       [0, 0, 1, 0, 0, 0],\n",
       "       [0, 0, 1, 0, 0, 0],\n",
       "       ...,\n",
       "       [0, 0, 0, 1, 0, 0],\n",
       "       [0, 0, 1, 0, 0, 0],\n",
       "       [0, 0, 0, 1, 0, 0]], dtype=uint8)"
      ]
     },
     "execution_count": 2,
     "metadata": {},
     "output_type": "execute_result"
    }
   ],
   "source": [
    "redwine = pd.read_csv('data/winequality-red.csv', sep=';')\n",
    "redwine_y = redwine.iloc[:,-1]\n",
    "print(redwine_y.unique())\n",
    "redwine_y = pd.get_dummies(redwine_y).to_numpy()\n",
    "redwine_y"
   ]
  },
  {
   "cell_type": "code",
   "execution_count": 3,
   "metadata": {
    "ExecuteTime": {
     "end_time": "2021-03-24T08:47:06.399479Z",
     "start_time": "2021-03-24T08:47:06.388483Z"
    }
   },
   "outputs": [
    {
     "name": "stdout",
     "output_type": "stream",
     "text": [
      "[5 6 7 4 8 3]\n"
     ]
    },
    {
     "data": {
      "text/plain": [
       "array([[0., 0., 0., 0., 0., 1., 0., 0., 0.],\n",
       "       [0., 0., 0., 0., 0., 1., 0., 0., 0.],\n",
       "       [0., 0., 0., 0., 0., 1., 0., 0., 0.],\n",
       "       [0., 0., 0., 0., 0., 0., 1., 0., 0.],\n",
       "       [0., 0., 0., 0., 0., 1., 0., 0., 0.]], dtype=float32)"
      ]
     },
     "execution_count": 3,
     "metadata": {},
     "output_type": "execute_result"
    }
   ],
   "source": [
    "redwine = pd.read_csv('data/winequality-red.csv', sep=';')\n",
    "redwine_y = redwine.iloc[:,-1]\n",
    "print(redwine_y.unique())\n",
    "redwine_y = utils.to_categorical(redwine_y)\n",
    "redwine_y[:5]"
   ]
  },
  {
   "cell_type": "code",
   "execution_count": 4,
   "metadata": {
    "ExecuteTime": {
     "end_time": "2021-03-24T08:48:05.983806Z",
     "start_time": "2021-03-24T08:48:01.395956Z"
    }
   },
   "outputs": [
    {
     "name": "stdout",
     "output_type": "stream",
     "text": [
      "종속변수가 될 와인 등급 : [5 6 7 4 8 3]\n",
      "Epoch 1/500\n",
      "5/5 [==============================] - 1s 255ms/step - loss: 1.6809 - accuracy: 0.3436 - val_loss: 1.5768 - val_accuracy: 0.3750\n",
      "Epoch 2/500\n",
      "5/5 [==============================] - 0s 10ms/step - loss: 1.5362 - accuracy: 0.4043 - val_loss: 1.4642 - val_accuracy: 0.3750\n",
      "Epoch 3/500\n",
      "5/5 [==============================] - 0s 10ms/step - loss: 1.4148 - accuracy: 0.4088 - val_loss: 1.3795 - val_accuracy: 0.3750\n",
      "Epoch 4/500\n",
      "5/5 [==============================] - 0s 9ms/step - loss: 1.3453 - accuracy: 0.4199 - val_loss: 1.3098 - val_accuracy: 0.3929\n",
      "Epoch 5/500\n",
      "5/5 [==============================] - 0s 10ms/step - loss: 1.2755 - accuracy: 0.4082 - val_loss: 1.2447 - val_accuracy: 0.4018\n",
      "Epoch 6/500\n",
      "5/5 [==============================] - 0s 10ms/step - loss: 1.2068 - accuracy: 0.4314 - val_loss: 1.1874 - val_accuracy: 0.4241\n",
      "Epoch 7/500\n",
      "5/5 [==============================] - 0s 11ms/step - loss: 1.1407 - accuracy: 0.4852 - val_loss: 1.1392 - val_accuracy: 0.4688\n",
      "Epoch 8/500\n",
      "5/5 [==============================] - 0s 10ms/step - loss: 1.1138 - accuracy: 0.5481 - val_loss: 1.1011 - val_accuracy: 0.5402\n",
      "Epoch 9/500\n",
      "5/5 [==============================] - 0s 9ms/step - loss: 1.0799 - accuracy: 0.5559 - val_loss: 1.0699 - val_accuracy: 0.5670\n",
      "Epoch 10/500\n",
      "5/5 [==============================] - 0s 10ms/step - loss: 1.0347 - accuracy: 0.5591 - val_loss: 1.0455 - val_accuracy: 0.6071\n",
      "Epoch 11/500\n",
      "5/5 [==============================] - 0s 10ms/step - loss: 1.0471 - accuracy: 0.5650 - val_loss: 1.0257 - val_accuracy: 0.6116\n",
      "Epoch 12/500\n",
      "5/5 [==============================] - 0s 10ms/step - loss: 0.9985 - accuracy: 0.5906 - val_loss: 1.0110 - val_accuracy: 0.6295\n",
      "Epoch 13/500\n",
      "5/5 [==============================] - 0s 10ms/step - loss: 0.9908 - accuracy: 0.5971 - val_loss: 0.9999 - val_accuracy: 0.6339\n",
      "Epoch 14/500\n",
      "5/5 [==============================] - 0s 10ms/step - loss: 0.9866 - accuracy: 0.5975 - val_loss: 0.9914 - val_accuracy: 0.6384\n",
      "Epoch 15/500\n",
      "5/5 [==============================] - 0s 10ms/step - loss: 0.9535 - accuracy: 0.6015 - val_loss: 0.9829 - val_accuracy: 0.6384\n",
      "Epoch 16/500\n",
      "5/5 [==============================] - 0s 9ms/step - loss: 0.9652 - accuracy: 0.6016 - val_loss: 0.9731 - val_accuracy: 0.6295\n",
      "Epoch 17/500\n",
      "5/5 [==============================] - 0s 9ms/step - loss: 0.9329 - accuracy: 0.6137 - val_loss: 0.9698 - val_accuracy: 0.6429\n",
      "Epoch 18/500\n",
      "5/5 [==============================] - 0s 10ms/step - loss: 0.9458 - accuracy: 0.6092 - val_loss: 0.9666 - val_accuracy: 0.6473\n",
      "Epoch 19/500\n",
      "5/5 [==============================] - 0s 10ms/step - loss: 0.9383 - accuracy: 0.6093 - val_loss: 0.9619 - val_accuracy: 0.6518\n",
      "Epoch 20/500\n",
      "5/5 [==============================] - 0s 10ms/step - loss: 0.9289 - accuracy: 0.6116 - val_loss: 0.9572 - val_accuracy: 0.6473\n",
      "Epoch 21/500\n",
      "5/5 [==============================] - 0s 10ms/step - loss: 0.9497 - accuracy: 0.5987 - val_loss: 0.9542 - val_accuracy: 0.6473\n",
      "Epoch 22/500\n",
      "5/5 [==============================] - 0s 10ms/step - loss: 0.9181 - accuracy: 0.6061 - val_loss: 0.9517 - val_accuracy: 0.6429\n",
      "Epoch 23/500\n",
      "5/5 [==============================] - 0s 10ms/step - loss: 0.9174 - accuracy: 0.6189 - val_loss: 0.9516 - val_accuracy: 0.6518\n",
      "Epoch 24/500\n",
      "5/5 [==============================] - 0s 11ms/step - loss: 0.9102 - accuracy: 0.6274 - val_loss: 0.9499 - val_accuracy: 0.6473\n",
      "Epoch 25/500\n",
      "5/5 [==============================] - 0s 10ms/step - loss: 0.9086 - accuracy: 0.6238 - val_loss: 0.9470 - val_accuracy: 0.6429\n",
      "Epoch 26/500\n",
      "5/5 [==============================] - 0s 9ms/step - loss: 0.8852 - accuracy: 0.6138 - val_loss: 0.9441 - val_accuracy: 0.6429\n",
      "Epoch 27/500\n",
      "5/5 [==============================] - 0s 10ms/step - loss: 0.8770 - accuracy: 0.6310 - val_loss: 0.9448 - val_accuracy: 0.6429\n",
      "Epoch 28/500\n",
      "5/5 [==============================] - 0s 10ms/step - loss: 0.8792 - accuracy: 0.6377 - val_loss: 0.9475 - val_accuracy: 0.6562\n",
      "Epoch 29/500\n",
      "5/5 [==============================] - 0s 11ms/step - loss: 0.8868 - accuracy: 0.6352 - val_loss: 0.9437 - val_accuracy: 0.6384\n",
      "Epoch 30/500\n",
      "5/5 [==============================] - 0s 10ms/step - loss: 0.8713 - accuracy: 0.6496 - val_loss: 0.9417 - val_accuracy: 0.6250\n",
      "Epoch 31/500\n",
      "5/5 [==============================] - 0s 9ms/step - loss: 0.8321 - accuracy: 0.6537 - val_loss: 0.9425 - val_accuracy: 0.6339\n",
      "Epoch 32/500\n",
      "5/5 [==============================] - 0s 10ms/step - loss: 0.8592 - accuracy: 0.6617 - val_loss: 0.9423 - val_accuracy: 0.6339\n",
      "Epoch 33/500\n",
      "5/5 [==============================] - 0s 9ms/step - loss: 0.8543 - accuracy: 0.6458 - val_loss: 0.9427 - val_accuracy: 0.6250\n",
      "Epoch 34/500\n",
      "5/5 [==============================] - 0s 9ms/step - loss: 0.8552 - accuracy: 0.6460 - val_loss: 0.9411 - val_accuracy: 0.6250\n",
      "Epoch 35/500\n",
      "5/5 [==============================] - 0s 10ms/step - loss: 0.8261 - accuracy: 0.6463 - val_loss: 0.9401 - val_accuracy: 0.6384\n",
      "Epoch 36/500\n",
      "5/5 [==============================] - 0s 10ms/step - loss: 0.8360 - accuracy: 0.6524 - val_loss: 0.9398 - val_accuracy: 0.6295\n",
      "Epoch 37/500\n",
      "5/5 [==============================] - 0s 10ms/step - loss: 0.8352 - accuracy: 0.6503 - val_loss: 0.9382 - val_accuracy: 0.6205\n",
      "Epoch 38/500\n",
      "5/5 [==============================] - 0s 10ms/step - loss: 0.8435 - accuracy: 0.6603 - val_loss: 0.9395 - val_accuracy: 0.6384\n",
      "Epoch 39/500\n",
      "5/5 [==============================] - 0s 9ms/step - loss: 0.8242 - accuracy: 0.6542 - val_loss: 0.9404 - val_accuracy: 0.6429\n",
      "Epoch 40/500\n",
      "5/5 [==============================] - 0s 9ms/step - loss: 0.8372 - accuracy: 0.6688 - val_loss: 0.9382 - val_accuracy: 0.6205\n",
      "Epoch 41/500\n",
      "5/5 [==============================] - 0s 9ms/step - loss: 0.8070 - accuracy: 0.6653 - val_loss: 0.9395 - val_accuracy: 0.6295\n",
      "Epoch 42/500\n",
      "5/5 [==============================] - 0s 10ms/step - loss: 0.8120 - accuracy: 0.6676 - val_loss: 0.9396 - val_accuracy: 0.6205\n",
      "Epoch 43/500\n",
      "5/5 [==============================] - 0s 9ms/step - loss: 0.8465 - accuracy: 0.6471 - val_loss: 0.9401 - val_accuracy: 0.6250\n",
      "Epoch 44/500\n",
      "5/5 [==============================] - 0s 10ms/step - loss: 0.8506 - accuracy: 0.6396 - val_loss: 0.9422 - val_accuracy: 0.6071\n",
      "Epoch 45/500\n",
      "5/5 [==============================] - 0s 9ms/step - loss: 0.7881 - accuracy: 0.6694 - val_loss: 0.9403 - val_accuracy: 0.6161\n",
      "Epoch 46/500\n",
      "5/5 [==============================] - 0s 10ms/step - loss: 0.7927 - accuracy: 0.6720 - val_loss: 0.9383 - val_accuracy: 0.6205\n",
      "Epoch 47/500\n",
      "5/5 [==============================] - 0s 9ms/step - loss: 0.7869 - accuracy: 0.6775 - val_loss: 0.9421 - val_accuracy: 0.6295\n",
      "Epoch 48/500\n",
      "5/5 [==============================] - 0s 9ms/step - loss: 0.7848 - accuracy: 0.6853 - val_loss: 0.9414 - val_accuracy: 0.6339\n",
      "Epoch 49/500\n",
      "5/5 [==============================] - 0s 9ms/step - loss: 0.7771 - accuracy: 0.6756 - val_loss: 0.9401 - val_accuracy: 0.6161\n",
      "Epoch 50/500\n",
      "5/5 [==============================] - 0s 9ms/step - loss: 0.7855 - accuracy: 0.6789 - val_loss: 0.9401 - val_accuracy: 0.6205\n",
      "Epoch 51/500\n",
      "5/5 [==============================] - 0s 10ms/step - loss: 0.7900 - accuracy: 0.6801 - val_loss: 0.9435 - val_accuracy: 0.6250\n",
      "Epoch 52/500\n",
      "5/5 [==============================] - 0s 9ms/step - loss: 0.7770 - accuracy: 0.6888 - val_loss: 0.9430 - val_accuracy: 0.6295\n",
      "Epoch 53/500\n",
      "5/5 [==============================] - 0s 10ms/step - loss: 0.7649 - accuracy: 0.6858 - val_loss: 0.9441 - val_accuracy: 0.6295\n",
      "Epoch 54/500\n",
      "5/5 [==============================] - 0s 9ms/step - loss: 0.7565 - accuracy: 0.6994 - val_loss: 0.9435 - val_accuracy: 0.6205\n",
      "Epoch 55/500\n",
      "5/5 [==============================] - 0s 9ms/step - loss: 0.7531 - accuracy: 0.6945 - val_loss: 0.9469 - val_accuracy: 0.6339\n",
      "Epoch 56/500\n",
      "5/5 [==============================] - 0s 9ms/step - loss: 0.7448 - accuracy: 0.7128 - val_loss: 0.9465 - val_accuracy: 0.6295\n",
      "Epoch 57/500\n",
      "5/5 [==============================] - 0s 9ms/step - loss: 0.7595 - accuracy: 0.6945 - val_loss: 0.9471 - val_accuracy: 0.6295\n",
      "Epoch 58/500\n",
      "5/5 [==============================] - 0s 9ms/step - loss: 0.7609 - accuracy: 0.6924 - val_loss: 0.9493 - val_accuracy: 0.6250\n",
      "Epoch 59/500\n"
     ]
    },
    {
     "name": "stdout",
     "output_type": "stream",
     "text": [
      "5/5 [==============================] - 0s 9ms/step - loss: 0.7617 - accuracy: 0.6989 - val_loss: 0.9502 - val_accuracy: 0.6295\n",
      "Epoch 60/500\n",
      "5/5 [==============================] - 0s 9ms/step - loss: 0.7434 - accuracy: 0.7021 - val_loss: 0.9508 - val_accuracy: 0.6295\n"
     ]
    },
    {
     "data": {
      "image/png": "[encoded data removed]",
      "text/plain": [
       "<Figure size 432x288 with 2 Axes>"
      ]
     },
     "metadata": {
      "needs_background": "light"
     },
     "output_type": "display_data"
    }
   ],
   "source": [
    "# 1. 데이터 셋 준비하기\n",
    "redwine = pd.read_csv('data/winequality-red.csv', sep=';')\n",
    "redwine_x = redwine.iloc[:,:-1].to_numpy() # 6개 분류로 나눠짐\n",
    "redwine_y = redwine.iloc[:,-1]\n",
    "print('종속변수가 될 와인 등급 :',redwine_y.unique()) # 결과가 5 6 7 4 8 3 등급\n",
    "\n",
    "# scale 조정\n",
    "from sklearn.preprocessing import StandardScaler\n",
    "scaler = StandardScaler()\n",
    "scaler.fit(redwine_x)\n",
    "redwine_x = scaler.transform(redwine_x)\n",
    "\n",
    "# 데이터 셋 전처리(라벨링) ; 원 핫 인코딩 후 numpy형으로 변환\n",
    "redwine_y = pd.get_dummies(redwine_y).to_numpy() # 3등급의 경우 [1 0 0 0 0 0]\n",
    "# redwine_y = utils.to_categorical(redwine_y) # 3등급의 경우 [0 0 0 1 0 0 0 0 0]\n",
    "\n",
    "# 훈련셋과 테스트셋 분리\n",
    "train_X, test_X, train_Y, test_Y = \\\n",
    "    train_test_split(redwine_x, redwine_y, test_size=0.3, random_state=1)\n",
    "\n",
    "# 2. 모델 구성하기\n",
    "model = Sequential()\n",
    "model.add(Input(11))\n",
    "model.add(Dense(50, activation='relu'))\n",
    "# model.add(Dense(50, input_dim=11, activation='relu'))\n",
    "model.add(Dense(50, activation='relu'))\n",
    "model.add(Dense(30, activation='relu'))\n",
    "model.add(Dense(6, activation='softmax')) # 3,4,5,6,7,8 등급 분류\n",
    "\n",
    "# 3. 모델 컴파일\n",
    "model.compile(optimizer='adam', loss='categorical_crossentropy', \n",
    "              metrics=['accuracy'])\n",
    "# model.compile(optimizer='adam', loss='categorical_crossentropy', \n",
    "#                metrics=[metrics.Recall()])\n",
    "# model.compile(optimizer='adam', loss='categorical_crossentropy', \n",
    "#                metrics=[metrics.Precision()])\n",
    "\n",
    "# 4. 모델 학습시키기\n",
    "early_stopping = EarlyStopping(monitor='val_loss', patience=20)\n",
    "fit_hist = model.fit(train_X, train_Y, batch_size=200, epochs=500,\n",
    "                    validation_split=0.2,\n",
    "                    callbacks=[early_stopping])\n",
    "# 5. 모델 학습 과정 표시하기\n",
    "# 모델 학습 과정 표시하기\n",
    "%matplotlib inline\n",
    "import matplotlib.pyplot as plt\n",
    "\n",
    "fig, loss_ax = plt.subplots()\n",
    "\n",
    "loss_ax.plot(fit_hist.history['loss'],'y', label='train loss')\n",
    "loss_ax.plot(fit_hist.history['val_loss'],'r', label='val loss')\n",
    "loss_ax.set_xlabel('epoch')\n",
    "loss_ax.set_ylabel('loss')\n",
    "loss_ax.legend(loc='upper left')\n",
    "\n",
    "acc_ax = loss_ax.twinx()\n",
    "acc_ax.plot(fit_hist.history['accuracy'],'b', label='train acc')\n",
    "acc_ax.plot(fit_hist.history['val_accuracy'], 'g', label='val acc')\n",
    "acc_ax.set_ylabel('accuracy')\n",
    "acc_ax.legend(loc='lower left')\n",
    "plt.show()"
   ]
  },
  {
   "cell_type": "code",
   "execution_count": 5,
   "metadata": {
    "ExecuteTime": {
     "end_time": "2021-03-24T08:48:10.196163Z",
     "start_time": "2021-03-24T08:48:10.003065Z"
    }
   },
   "outputs": [
    {
     "data": {
      "text/html": [
       "<div>\n",
       "<style scoped>\n",
       "    .dataframe tbody tr th:only-of-type {\n",
       "        vertical-align: middle;\n",
       "    }\n",
       "\n",
       "    .dataframe tbody tr th {\n",
       "        vertical-align: top;\n",
       "    }\n",
       "\n",
       "    .dataframe thead th {\n",
       "        text-align: right;\n",
       "    }\n",
       "</style>\n",
       "<table border=\"1\" class=\"dataframe\">\n",
       "  <thead>\n",
       "    <tr style=\"text-align: right;\">\n",
       "      <th>predict</th>\n",
       "      <th>5</th>\n",
       "      <th>6</th>\n",
       "    </tr>\n",
       "    <tr>\n",
       "      <th>real</th>\n",
       "      <th></th>\n",
       "      <th></th>\n",
       "    </tr>\n",
       "  </thead>\n",
       "  <tbody>\n",
       "    <tr>\n",
       "      <th>3</th>\n",
       "      <td>0</td>\n",
       "      <td>2</td>\n",
       "    </tr>\n",
       "    <tr>\n",
       "      <th>4</th>\n",
       "      <td>0</td>\n",
       "      <td>21</td>\n",
       "    </tr>\n",
       "    <tr>\n",
       "      <th>5</th>\n",
       "      <td>6</td>\n",
       "      <td>201</td>\n",
       "    </tr>\n",
       "    <tr>\n",
       "      <th>6</th>\n",
       "      <td>9</td>\n",
       "      <td>186</td>\n",
       "    </tr>\n",
       "    <tr>\n",
       "      <th>7</th>\n",
       "      <td>1</td>\n",
       "      <td>51</td>\n",
       "    </tr>\n",
       "    <tr>\n",
       "      <th>8</th>\n",
       "      <td>0</td>\n",
       "      <td>3</td>\n",
       "    </tr>\n",
       "  </tbody>\n",
       "</table>\n",
       "</div>"
      ],
      "text/plain": [
       "predict  5    6\n",
       "real           \n",
       "3        0    2\n",
       "4        0   21\n",
       "5        6  201\n",
       "6        9  186\n",
       "7        1   51\n",
       "8        0    3"
      ]
     },
     "execution_count": 5,
     "metadata": {},
     "output_type": "execute_result"
    }
   ],
   "source": [
    "pred = np.argmax(model.predict(scaler.transform(test_X)), axis=1)+3\n",
    "real = np.argmax(test_Y, axis=1)+3\n",
    "ct = pd.crosstab(real, pred)\n",
    "ct.index.name = \"real\"\n",
    "ct.columns.name='predict'\n",
    "ct"
   ]
  },
  {
   "cell_type": "code",
   "execution_count": 6,
   "metadata": {
    "ExecuteTime": {
     "end_time": "2021-03-24T08:48:13.191433Z",
     "start_time": "2021-03-24T08:48:13.105918Z"
    }
   },
   "outputs": [
    {
     "name": "stdout",
     "output_type": "stream",
     "text": [
      "35/35 [==============================] - 0s 659us/step - loss: 0.7817 - accuracy: 0.6890\n",
      "loss :  0.7817196249961853\n",
      "accuracy :  0.6890080571174622\n"
     ]
    }
   ],
   "source": [
    "# 6. 모델 사용하기\n",
    "loss_and_acc = model.evaluate(train_X, train_Y, batch_size=32)\n",
    "print('loss : ', loss_and_acc[0])\n",
    "print('accuracy : ', loss_and_acc[1])"
   ]
  },
  {
   "cell_type": "markdown",
   "metadata": {},
   "source": [
    "# redwine_y = utils.to_categorical(redwine_y)"
   ]
  },
  {
   "cell_type": "code",
   "execution_count": 8,
   "metadata": {
    "ExecuteTime": {
     "end_time": "2021-03-24T08:49:12.092759Z",
     "start_time": "2021-03-24T08:49:08.295105Z"
    }
   },
   "outputs": [
    {
     "name": "stdout",
     "output_type": "stream",
     "text": [
      "종속변수가 될 와인 등급 : [5 6 7 4 8 3]\n",
      "Epoch 1/500\n",
      "5/5 [==============================] - 1s 48ms/step - loss: 2.2045 - accuracy: 0.0728 - val_loss: 2.1003 - val_accuracy: 0.1429\n",
      "Epoch 2/500\n",
      "5/5 [==============================] - 0s 10ms/step - loss: 2.0667 - accuracy: 0.2348 - val_loss: 1.9850 - val_accuracy: 0.3393\n",
      "Epoch 3/500\n",
      "5/5 [==============================] - 0s 10ms/step - loss: 1.9537 - accuracy: 0.3909 - val_loss: 1.8751 - val_accuracy: 0.4509\n",
      "Epoch 4/500\n",
      "5/5 [==============================] - 0s 9ms/step - loss: 1.8431 - accuracy: 0.5313 - val_loss: 1.7602 - val_accuracy: 0.5089\n",
      "Epoch 5/500\n",
      "5/5 [==============================] - 0s 9ms/step - loss: 1.7268 - accuracy: 0.5579 - val_loss: 1.6355 - val_accuracy: 0.5491\n",
      "Epoch 6/500\n",
      "5/5 [==============================] - 0s 9ms/step - loss: 1.5928 - accuracy: 0.5673 - val_loss: 1.5031 - val_accuracy: 0.5714\n",
      "Epoch 7/500\n",
      "5/5 [==============================] - 0s 9ms/step - loss: 1.4663 - accuracy: 0.5683 - val_loss: 1.3704 - val_accuracy: 0.5938\n",
      "Epoch 8/500\n",
      "5/5 [==============================] - 0s 10ms/step - loss: 1.3380 - accuracy: 0.5830 - val_loss: 1.2553 - val_accuracy: 0.6027\n",
      "Epoch 9/500\n",
      "5/5 [==============================] - 0s 9ms/step - loss: 1.2152 - accuracy: 0.5951 - val_loss: 1.1641 - val_accuracy: 0.6071\n",
      "Epoch 10/500\n",
      "5/5 [==============================] - 0s 9ms/step - loss: 1.1446 - accuracy: 0.5801 - val_loss: 1.1024 - val_accuracy: 0.6027\n",
      "Epoch 11/500\n",
      "5/5 [==============================] - 0s 10ms/step - loss: 1.0929 - accuracy: 0.6001 - val_loss: 1.0656 - val_accuracy: 0.6116\n",
      "Epoch 12/500\n",
      "5/5 [==============================] - 0s 10ms/step - loss: 1.0601 - accuracy: 0.6017 - val_loss: 1.0457 - val_accuracy: 0.6161\n",
      "Epoch 13/500\n",
      "5/5 [==============================] - 0s 10ms/step - loss: 1.0073 - accuracy: 0.6171 - val_loss: 1.0335 - val_accuracy: 0.6295\n",
      "Epoch 14/500\n",
      "5/5 [==============================] - 0s 10ms/step - loss: 1.0094 - accuracy: 0.5995 - val_loss: 1.0264 - val_accuracy: 0.6473\n",
      "Epoch 15/500\n",
      "5/5 [==============================] - 0s 9ms/step - loss: 1.0069 - accuracy: 0.6195 - val_loss: 1.0121 - val_accuracy: 0.6473\n",
      "Epoch 16/500\n",
      "5/5 [==============================] - 0s 10ms/step - loss: 0.9913 - accuracy: 0.6035 - val_loss: 1.0014 - val_accuracy: 0.6384\n",
      "Epoch 17/500\n",
      "5/5 [==============================] - 0s 10ms/step - loss: 1.0013 - accuracy: 0.6105 - val_loss: 0.9944 - val_accuracy: 0.6384\n",
      "Epoch 18/500\n",
      "5/5 [==============================] - 0s 10ms/step - loss: 0.9869 - accuracy: 0.6191 - val_loss: 0.9922 - val_accuracy: 0.6205\n",
      "Epoch 19/500\n",
      "5/5 [==============================] - 0s 9ms/step - loss: 0.9725 - accuracy: 0.6029 - val_loss: 0.9862 - val_accuracy: 0.6161\n",
      "Epoch 20/500\n",
      "5/5 [==============================] - 0s 10ms/step - loss: 0.9648 - accuracy: 0.6229 - val_loss: 0.9783 - val_accuracy: 0.6205\n",
      "Epoch 21/500\n",
      "5/5 [==============================] - 0s 9ms/step - loss: 0.9688 - accuracy: 0.6318 - val_loss: 0.9771 - val_accuracy: 0.6161\n",
      "Epoch 22/500\n",
      "5/5 [==============================] - 0s 10ms/step - loss: 0.9606 - accuracy: 0.6213 - val_loss: 0.9748 - val_accuracy: 0.6205\n",
      "Epoch 23/500\n",
      "5/5 [==============================] - 0s 9ms/step - loss: 0.9272 - accuracy: 0.6233 - val_loss: 0.9674 - val_accuracy: 0.6250\n",
      "Epoch 24/500\n",
      "5/5 [==============================] - 0s 10ms/step - loss: 0.9239 - accuracy: 0.6344 - val_loss: 0.9650 - val_accuracy: 0.6250\n",
      "Epoch 25/500\n",
      "5/5 [==============================] - 0s 9ms/step - loss: 0.8827 - accuracy: 0.6506 - val_loss: 0.9625 - val_accuracy: 0.6161\n",
      "Epoch 26/500\n",
      "5/5 [==============================] - 0s 9ms/step - loss: 0.9259 - accuracy: 0.6372 - val_loss: 0.9619 - val_accuracy: 0.6205\n",
      "Epoch 27/500\n",
      "5/5 [==============================] - 0s 9ms/step - loss: 0.9055 - accuracy: 0.6293 - val_loss: 0.9626 - val_accuracy: 0.6205\n",
      "Epoch 28/500\n",
      "5/5 [==============================] - 0s 9ms/step - loss: 0.9211 - accuracy: 0.6286 - val_loss: 0.9585 - val_accuracy: 0.6027\n",
      "Epoch 29/500\n",
      "5/5 [==============================] - 0s 9ms/step - loss: 0.9032 - accuracy: 0.6276 - val_loss: 0.9558 - val_accuracy: 0.6116\n",
      "Epoch 30/500\n",
      "5/5 [==============================] - 0s 9ms/step - loss: 0.8975 - accuracy: 0.6402 - val_loss: 0.9563 - val_accuracy: 0.6116\n",
      "Epoch 31/500\n",
      "5/5 [==============================] - 0s 10ms/step - loss: 0.8754 - accuracy: 0.6535 - val_loss: 0.9580 - val_accuracy: 0.6205\n",
      "Epoch 32/500\n",
      "5/5 [==============================] - 0s 10ms/step - loss: 0.9114 - accuracy: 0.6140 - val_loss: 0.9523 - val_accuracy: 0.5982\n",
      "Epoch 33/500\n",
      "5/5 [==============================] - 0s 9ms/step - loss: 0.8617 - accuracy: 0.6535 - val_loss: 0.9524 - val_accuracy: 0.6027\n",
      "Epoch 34/500\n",
      "5/5 [==============================] - 0s 9ms/step - loss: 0.8992 - accuracy: 0.6456 - val_loss: 0.9542 - val_accuracy: 0.6295\n",
      "Epoch 35/500\n",
      "5/5 [==============================] - 0s 9ms/step - loss: 0.8555 - accuracy: 0.6506 - val_loss: 0.9541 - val_accuracy: 0.6339\n",
      "Epoch 36/500\n",
      "5/5 [==============================] - 0s 10ms/step - loss: 0.8755 - accuracy: 0.6441 - val_loss: 0.9485 - val_accuracy: 0.6295\n",
      "Epoch 37/500\n",
      "5/5 [==============================] - 0s 10ms/step - loss: 0.8814 - accuracy: 0.6559 - val_loss: 0.9482 - val_accuracy: 0.6295\n",
      "Epoch 38/500\n",
      "5/5 [==============================] - 0s 9ms/step - loss: 0.8535 - accuracy: 0.6517 - val_loss: 0.9505 - val_accuracy: 0.6250\n",
      "Epoch 39/500\n",
      "5/5 [==============================] - 0s 9ms/step - loss: 0.8556 - accuracy: 0.6572 - val_loss: 0.9493 - val_accuracy: 0.6250\n",
      "Epoch 40/500\n",
      "5/5 [==============================] - 0s 10ms/step - loss: 0.8586 - accuracy: 0.6477 - val_loss: 0.9511 - val_accuracy: 0.6116\n",
      "Epoch 41/500\n",
      "5/5 [==============================] - 0s 9ms/step - loss: 0.8451 - accuracy: 0.6465 - val_loss: 0.9496 - val_accuracy: 0.6250\n",
      "Epoch 42/500\n",
      "5/5 [==============================] - 0s 10ms/step - loss: 0.8349 - accuracy: 0.6730 - val_loss: 0.9498 - val_accuracy: 0.6205\n",
      "Epoch 43/500\n",
      "5/5 [==============================] - 0s 9ms/step - loss: 0.8426 - accuracy: 0.6625 - val_loss: 0.9484 - val_accuracy: 0.6295\n",
      "Epoch 44/500\n",
      "5/5 [==============================] - 0s 9ms/step - loss: 0.8401 - accuracy: 0.6607 - val_loss: 0.9493 - val_accuracy: 0.6339\n",
      "Epoch 45/500\n",
      "5/5 [==============================] - 0s 10ms/step - loss: 0.8530 - accuracy: 0.6525 - val_loss: 0.9447 - val_accuracy: 0.6295\n",
      "Epoch 46/500\n",
      "5/5 [==============================] - 0s 9ms/step - loss: 0.8350 - accuracy: 0.6725 - val_loss: 0.9441 - val_accuracy: 0.6250\n",
      "Epoch 47/500\n",
      "5/5 [==============================] - 0s 9ms/step - loss: 0.8562 - accuracy: 0.6567 - val_loss: 0.9454 - val_accuracy: 0.6295\n",
      "Epoch 48/500\n",
      "5/5 [==============================] - 0s 10ms/step - loss: 0.8443 - accuracy: 0.6585 - val_loss: 0.9473 - val_accuracy: 0.6295\n",
      "Epoch 49/500\n",
      "5/5 [==============================] - 0s 9ms/step - loss: 0.8325 - accuracy: 0.6781 - val_loss: 0.9494 - val_accuracy: 0.6429\n",
      "Epoch 50/500\n",
      "5/5 [==============================] - 0s 9ms/step - loss: 0.8434 - accuracy: 0.6594 - val_loss: 0.9430 - val_accuracy: 0.6295\n",
      "Epoch 51/500\n",
      "5/5 [==============================] - 0s 9ms/step - loss: 0.8068 - accuracy: 0.6792 - val_loss: 0.9487 - val_accuracy: 0.6339\n",
      "Epoch 52/500\n",
      "5/5 [==============================] - 0s 10ms/step - loss: 0.8097 - accuracy: 0.6772 - val_loss: 0.9486 - val_accuracy: 0.6339\n",
      "Epoch 53/500\n",
      "5/5 [==============================] - 0s 9ms/step - loss: 0.7969 - accuracy: 0.6829 - val_loss: 0.9478 - val_accuracy: 0.6339\n",
      "Epoch 54/500\n",
      "5/5 [==============================] - 0s 9ms/step - loss: 0.7729 - accuracy: 0.6907 - val_loss: 0.9520 - val_accuracy: 0.6250\n",
      "Epoch 55/500\n",
      "5/5 [==============================] - 0s 9ms/step - loss: 0.7800 - accuracy: 0.7020 - val_loss: 0.9501 - val_accuracy: 0.6295\n",
      "Epoch 56/500\n",
      "5/5 [==============================] - 0s 9ms/step - loss: 0.7789 - accuracy: 0.6948 - val_loss: 0.9464 - val_accuracy: 0.6250\n",
      "Epoch 57/500\n",
      "5/5 [==============================] - 0s 10ms/step - loss: 0.8193 - accuracy: 0.6724 - val_loss: 0.9469 - val_accuracy: 0.6205\n",
      "Epoch 58/500\n",
      "5/5 [==============================] - 0s 10ms/step - loss: 0.8012 - accuracy: 0.6835 - val_loss: 0.9452 - val_accuracy: 0.6161\n",
      "Epoch 59/500\n"
     ]
    },
    {
     "name": "stdout",
     "output_type": "stream",
     "text": [
      "5/5 [==============================] - 0s 10ms/step - loss: 0.7756 - accuracy: 0.6941 - val_loss: 0.9478 - val_accuracy: 0.6116\n",
      "Epoch 60/500\n",
      "5/5 [==============================] - 0s 9ms/step - loss: 0.7887 - accuracy: 0.6920 - val_loss: 0.9487 - val_accuracy: 0.6384\n",
      "Epoch 61/500\n",
      "5/5 [==============================] - 0s 10ms/step - loss: 0.7716 - accuracy: 0.6938 - val_loss: 0.9507 - val_accuracy: 0.6384\n",
      "Epoch 62/500\n",
      "5/5 [==============================] - 0s 10ms/step - loss: 0.7663 - accuracy: 0.7063 - val_loss: 0.9523 - val_accuracy: 0.6250\n",
      "Epoch 63/500\n",
      "5/5 [==============================] - 0s 10ms/step - loss: 0.7845 - accuracy: 0.6983 - val_loss: 0.9478 - val_accuracy: 0.6295\n",
      "Epoch 64/500\n",
      "5/5 [==============================] - 0s 9ms/step - loss: 0.7578 - accuracy: 0.7022 - val_loss: 0.9498 - val_accuracy: 0.6295\n",
      "Epoch 65/500\n",
      "5/5 [==============================] - 0s 10ms/step - loss: 0.7764 - accuracy: 0.6925 - val_loss: 0.9546 - val_accuracy: 0.6384\n",
      "Epoch 66/500\n",
      "5/5 [==============================] - 0s 9ms/step - loss: 0.7468 - accuracy: 0.7099 - val_loss: 0.9554 - val_accuracy: 0.6339\n",
      "Epoch 67/500\n",
      "5/5 [==============================] - 0s 9ms/step - loss: 0.7675 - accuracy: 0.6927 - val_loss: 0.9527 - val_accuracy: 0.6205\n",
      "Epoch 68/500\n",
      "5/5 [==============================] - 0s 9ms/step - loss: 0.7538 - accuracy: 0.7063 - val_loss: 0.9530 - val_accuracy: 0.6205\n",
      "Epoch 69/500\n",
      "5/5 [==============================] - 0s 10ms/step - loss: 0.7407 - accuracy: 0.7154 - val_loss: 0.9579 - val_accuracy: 0.6295\n",
      "Epoch 70/500\n",
      "5/5 [==============================] - 0s 10ms/step - loss: 0.7247 - accuracy: 0.7272 - val_loss: 0.9582 - val_accuracy: 0.6250\n"
     ]
    },
    {
     "data": {
      "image/png": "[encoded data removed]",
      "text/plain": [
       "<Figure size 432x288 with 2 Axes>"
      ]
     },
     "metadata": {
      "needs_background": "light"
     },
     "output_type": "display_data"
    }
   ],
   "source": [
    "# 1. 데이터 셋 준비하기\n",
    "redwine = pd.read_csv('data/winequality-red.csv', sep=';')\n",
    "redwine_x = redwine.iloc[:,:-1].to_numpy() # 6개 분류로 나눠짐\n",
    "redwine_y = redwine.iloc[:,-1]\n",
    "print('종속변수가 될 와인 등급 :',redwine_y.unique()) # 결과가 5 6 7 4 8 3 등급\n",
    "\n",
    "# scale 조정\n",
    "from sklearn.preprocessing import StandardScaler\n",
    "scaler = StandardScaler()\n",
    "scaler.fit(redwine_x)\n",
    "redwine_x = scaler.transform(redwine_x)\n",
    "\n",
    "# 데이터 셋 전처리(라벨링) ; 원 핫 인코딩 후 numpy형으로 변환\n",
    "# redwine_y = pd.get_dummies(redwine_y).to_numpy()\n",
    "redwine_y = utils.to_categorical(redwine_y)\n",
    "\n",
    "# 훈련셋과 테스트셋 분리\n",
    "train_X, test_X, train_Y, test_Y = \\\n",
    "    train_test_split(redwine_x, redwine_y, test_size=0.3, random_state=1)\n",
    "\n",
    "# 2. 모델 구성하기\n",
    "model = Sequential()\n",
    "model.add(Input(11))\n",
    "model.add(Dense(50, activation='relu'))\n",
    "# model.add(Dense(50, input_dim=11, activation='relu'))\n",
    "model.add(Dense(50, activation='relu'))\n",
    "model.add(Dense(30, activation='relu'))\n",
    "model.add(Dense(9, activation='softmax')) # 3,4,5,6,7,8 등급 분류\n",
    "\n",
    "# 3. 모델 컴파일\n",
    "model.compile(optimizer='adam', loss='categorical_crossentropy', metrics=['accuracy'])\n",
    "# model.compile(optimizer='adam', loss='categorical_crossentropy', metrics=[metrics.Recall()])\n",
    "# model.compile(optimizer='adam', loss='categorical_crossentropy', metrics=[metrics.Precision()])\n",
    "\n",
    "# 4. 모델 학습시키기\n",
    "early_stopping = EarlyStopping(monitor='val_loss', patience=20)\n",
    "fit_hist = model.fit(train_X, train_Y, batch_size=200, epochs=500,\n",
    "                    validation_split=0.2,\n",
    "                    callbacks=[early_stopping])\n",
    "# 5. 모델 학습 과정 표시하기\n",
    "# 모델 학습 과정 표시하기\n",
    "%matplotlib inline\n",
    "import matplotlib.pyplot as plt\n",
    "\n",
    "fig, loss_ax = plt.subplots()\n",
    "\n",
    "loss_ax.plot(fit_hist.history['loss'],'y', label='train loss')\n",
    "loss_ax.plot(fit_hist.history['val_loss'],'r', label='val loss')\n",
    "loss_ax.set_xlabel('epoch')\n",
    "loss_ax.set_ylabel('loss')\n",
    "loss_ax.legend(loc='upper left')\n",
    "\n",
    "acc_ax = loss_ax.twinx()\n",
    "acc_ax.plot(fit_hist.history['accuracy'],'b', label='train accuracy')\n",
    "acc_ax.plot(fit_hist.history['val_accuracy'], 'g', label='val accuracy')\n",
    "acc_ax.set_ylabel('accuracy')\n",
    "acc_ax.legend(loc='lower left')\n",
    "plt.show()"
   ]
  },
  {
   "cell_type": "code",
   "execution_count": 9,
   "metadata": {
    "ExecuteTime": {
     "end_time": "2021-03-24T08:49:14.134701Z",
     "start_time": "2021-03-24T08:49:14.014920Z"
    }
   },
   "outputs": [
    {
     "data": {
      "text/html": [
       "<div>\n",
       "<style scoped>\n",
       "    .dataframe tbody tr th:only-of-type {\n",
       "        vertical-align: middle;\n",
       "    }\n",
       "\n",
       "    .dataframe tbody tr th {\n",
       "        vertical-align: top;\n",
       "    }\n",
       "\n",
       "    .dataframe thead th {\n",
       "        text-align: right;\n",
       "    }\n",
       "</style>\n",
       "<table border=\"1\" class=\"dataframe\">\n",
       "  <thead>\n",
       "    <tr style=\"text-align: right;\">\n",
       "      <th>predict</th>\n",
       "      <th>5</th>\n",
       "      <th>6</th>\n",
       "      <th>7</th>\n",
       "    </tr>\n",
       "    <tr>\n",
       "      <th>real</th>\n",
       "      <th></th>\n",
       "      <th></th>\n",
       "      <th></th>\n",
       "    </tr>\n",
       "  </thead>\n",
       "  <tbody>\n",
       "    <tr>\n",
       "      <th>3</th>\n",
       "      <td>1</td>\n",
       "      <td>1</td>\n",
       "      <td>0</td>\n",
       "    </tr>\n",
       "    <tr>\n",
       "      <th>4</th>\n",
       "      <td>1</td>\n",
       "      <td>20</td>\n",
       "      <td>0</td>\n",
       "    </tr>\n",
       "    <tr>\n",
       "      <th>5</th>\n",
       "      <td>19</td>\n",
       "      <td>188</td>\n",
       "      <td>0</td>\n",
       "    </tr>\n",
       "    <tr>\n",
       "      <th>6</th>\n",
       "      <td>19</td>\n",
       "      <td>176</td>\n",
       "      <td>0</td>\n",
       "    </tr>\n",
       "    <tr>\n",
       "      <th>7</th>\n",
       "      <td>3</td>\n",
       "      <td>48</td>\n",
       "      <td>1</td>\n",
       "    </tr>\n",
       "    <tr>\n",
       "      <th>8</th>\n",
       "      <td>0</td>\n",
       "      <td>3</td>\n",
       "      <td>0</td>\n",
       "    </tr>\n",
       "  </tbody>\n",
       "</table>\n",
       "</div>"
      ],
      "text/plain": [
       "predict   5    6  7\n",
       "real               \n",
       "3         1    1  0\n",
       "4         1   20  0\n",
       "5        19  188  0\n",
       "6        19  176  0\n",
       "7         3   48  1\n",
       "8         0    3  0"
      ]
     },
     "execution_count": 9,
     "metadata": {},
     "output_type": "execute_result"
    }
   ],
   "source": [
    "pred = np.argmax(model.predict(scaler.transform(test_X)), axis=1)\n",
    "ct = pd.crosstab(np.argmax(test_Y, axis=1), pred)\n",
    "ct.index.name=\"real\"\n",
    "ct.columns.name=\"predict\"\n",
    "ct"
   ]
  },
  {
   "cell_type": "code",
   "execution_count": 10,
   "metadata": {
    "ExecuteTime": {
     "end_time": "2021-03-24T08:49:17.988755Z",
     "start_time": "2021-03-24T08:49:17.903323Z"
    }
   },
   "outputs": [
    {
     "name": "stdout",
     "output_type": "stream",
     "text": [
      "35/35 [==============================] - 0s 630us/step - loss: 0.7780 - accuracy: 0.6979\n",
      "loss :  0.7780441045761108\n",
      "accuracy :  0.6979445815086365\n"
     ]
    }
   ],
   "source": [
    "# 6. 모델 사용하기\n",
    "loss_and_acc = model.evaluate(train_X, train_Y, batch_size=32)\n",
    "print('loss : ', loss_and_acc[0])\n",
    "print('accuracy : ', loss_and_acc[1])"
   ]
  }
 ],
 "metadata": {
  "kernelspec": {
   "display_name": "Python 3",
   "language": "python",
   "name": "python3"
  },
  "language_info": {
   "codemirror_mode": {
    "name": "ipython",
    "version": 3
   },
   "file_extension": ".py",
   "mimetype": "text/x-python",
   "name": "python",
   "nbconvert_exporter": "python",
   "pygments_lexer": "ipython3",
   "version": "3.8.5"
  },
  "toc": {
   "base_numbering": 1,
   "nav_menu": {},
   "number_sections": true,
   "sideBar": true,
   "skip_h1_title": false,
   "title_cell": "Table of Contents",
   "title_sidebar": "Contents",
   "toc_cell": false,
   "toc_position": {},
   "toc_section_display": true,
   "toc_window_display": false
  },
  "varInspector": {
   "cols": {
    "lenName": 16,
    "lenType": 16,
    "lenVar": 40
   },
   "kernels_config": {
    "python": {
     "delete_cmd_postfix": "",
     "delete_cmd_prefix": "del ",
     "library": "var_list.py",
     "varRefreshCmd": "print(var_dic_list())"
    },
    "r": {
     "delete_cmd_postfix": ") ",
     "delete_cmd_prefix": "rm(",
     "library": "var_list.r",
     "varRefreshCmd": "cat(var_dic_list()) "
    }
   },
   "types_to_exclude": [
    "module",
    "function",
    "builtin_function_or_method",
    "instance",
    "_Feature"
   ],
   "window_display": false
  }
 },
 "nbformat": 4,
 "nbformat_minor": 4
}
